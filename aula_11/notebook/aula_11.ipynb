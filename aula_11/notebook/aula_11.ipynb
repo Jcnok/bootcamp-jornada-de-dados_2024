{
 "cells": [
  {
   "cell_type": "markdown",
   "id": "02227914-e89c-48aa-9fde-87d5ebf07ee5",
   "metadata": {},
   "source": [
    "# Aula 11 - POO"
   ]
  },
  {
   "cell_type": "code",
   "execution_count": null,
   "id": "de24a110-db14-419a-8b26-beac7bfcd576",
   "metadata": {},
   "outputs": [],
   "source": []
  }
 ],
 "metadata": {
  "kernelspec": {
   "display_name": "Python 3 (ipykernel)",
   "language": "python",
   "name": "python3"
  },
  "language_info": {
   "codemirror_mode": {
    "name": "ipython",
    "version": 3
   },
   "file_extension": ".py",
   "mimetype": "text/x-python",
   "name": "python",
   "nbconvert_exporter": "python",
   "pygments_lexer": "ipython3",
   "version": "3.10.13"
  }
 },
 "nbformat": 4,
 "nbformat_minor": 5
}
