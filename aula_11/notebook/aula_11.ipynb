{
 "cells": [
  {
   "cell_type": "markdown",
   "id": "f1850a7f-d2c6-402e-b6e1-8fde2605f2af",
   "metadata": {},
   "source": [
    "# Orientação a Objetos (OOP) versus Programação Funcional\n",
    "\n",
    "## Orientação a Objetos (OOP):\n",
    "A Orientação a Objetos (OOP) é um paradigma de programação que se baseia no conceito de \"objetos\", que podem conter dados na forma de campos (também conhecidos como atributos ou propriedades) e códigos na forma de procedimentos (métodos ou funções). Os objetos são instâncias de classes, que definem as estruturas e comportamentos dos objetos. Os principais conceitos da OOP incluem encapsulamento, herança e polimorfismo.\n",
    "\n",
    "### Características da OOP:\n",
    "1. **Encapsulamento:** O encapsulamento permite ocultar detalhes de implementação dentro de um objeto, expondo apenas a interface pública.\n",
    "2. **Herança:** A herança permite que uma classe herde características e comportamentos de outra classe, promovendo a reutilização de código e a organização hierárquica de classes.\n",
    "3. **Polimorfismo:** O polimorfismo permite que objetos de diferentes classes sejam tratados de maneira uniforme, fornecendo interfaces comuns para comportamentos diferentes.\n",
    "\n",
    "## Programação Funcional:\n",
    "A Programação Funcional é outro paradigma de programação que se concentra na avaliação de funções matemáticas e na aplicação de funções para transformar dados. Na programação funcional, as funções são tratadas como cidadãos de primeira classe, o que significa que elas podem ser atribuídas a variáveis, passadas como argumentos para outras funções e retornadas como resultados de outras funções.\n",
    "\n",
    "### Características da Programação Funcional:\n",
    "1. **Imutabilidade:** As estruturas de dados são imutáveis, o que significa que não podem ser modificadas após serem criadas. Em vez disso, as funções de transformação retornam novas estruturas de dados.\n",
    "2. **Funções Puras:** As funções na programação funcional são consideradas \"puras\" se retornarem o mesmo resultado para os mesmos argumentos e não tiverem efeitos colaterais observáveis.\n",
    "3. **Recursão:** A recursão é comumente usada na programação funcional em vez de loops iterativos.\n",
    "\n",
    "## Diferenças entre OOP e Programação Funcional:\n",
    "1. **Abordagem de Solução de Problemas:** Na OOP, os problemas são resolvidos pensando-se em objetos e suas interações, enquanto na programação funcional, os problemas são resolvidos pensando-se em funções e suas composições.\n",
    "2. **Estado e Mutabilidade:** Na OOP, os objetos podem manter estados mutáveis, enquanto na programação funcional, as estruturas de dados geralmente são imutáveis.\n",
    "3. **Ênfase na Mutabilidade:** Na OOP, a mutabilidade é frequentemente aceita e até mesmo incentivada, enquanto na programação funcional, a ênfase é na imutabilidade e na evitação de efeitos colaterais.\n",
    "\n",
    "## Conclusão:\n",
    "Tanto a Orientação a Objetos quanto a Programação Funcional são paradigmas de programação poderosos, cada um com suas próprias vantagens e casos de uso. A escolha entre eles depende do problema em questão, das preferências pessoais e das necessidades do projeto. Em muitos casos, é possível combinar elementos de ambos os paradigmas para criar soluções mais flexíveis e eficientes."
   ]
  },
  {
   "cell_type": "markdown",
   "id": "6ea838a6-d90b-47de-b930-0589d4771674",
   "metadata": {},
   "source": [
    "## Exemplo 01:"
   ]
  },
  {
   "cell_type": "markdown",
   "id": "5ab3b15f-ca16-44ab-8526-5a13e5ffb0a7",
   "metadata": {},
   "source": [
    "### criando um exemplo de arquivo csv para os testes:"
   ]
  },
  {
   "cell_type": "code",
   "execution_count": 1,
   "id": "086c34e1-33e8-4870-8bfb-b59fa8949655",
   "metadata": {},
   "outputs": [
    {
     "data": {
      "text/plain": [
       "'/home/jcnok/bootcamps/bootcamp-jornada-de-dados_2024/aula_11/notebook'"
      ]
     },
     "execution_count": 1,
     "metadata": {},
     "output_type": "execute_result"
    }
   ],
   "source": [
    "# Setando a raiz do projeto\n",
    "import os \n",
    "os.getcwd()"
   ]
  },
  {
   "cell_type": "code",
   "execution_count": 2,
   "id": "b0e6bff3-9b6d-47fb-9a1e-c6533fb73bd8",
   "metadata": {},
   "outputs": [],
   "source": [
    "os.chdir('/home/jcnok/bootcamps/bootcamp-jornada-de-dados_2024/aula_11')"
   ]
  },
  {
   "cell_type": "code",
   "execution_count": 4,
   "id": "dcb48363-9a5a-4639-9c01-cb88af06eb68",
   "metadata": {},
   "outputs": [
    {
     "name": "stdout",
     "output_type": "stream",
     "text": [
      "['/home/jcnok/bootcamps/bootcamp-jornada-de-dados_2024/.venv/lib/python3.10/site-packages']\n"
     ]
    }
   ],
   "source": [
    "import site \n",
    "print(site.getsitepackages())"
   ]
  },
  {
   "cell_type": "markdown",
   "id": "30b45e46-af49-408b-bae6-c7da1f50028b",
   "metadata": {},
   "source": [
    "### Instalação da lib faker"
   ]
  },
  {
   "cell_type": "code",
   "execution_count": 5,
   "id": "a24b0060-eda1-4d31-b840-07fec8e9558d",
   "metadata": {},
   "outputs": [],
   "source": [
    "!poetry add faker -q"
   ]
  },
  {
   "cell_type": "code",
   "execution_count": 6,
   "id": "c28639b8-03da-4936-b019-3f7e2084c531",
   "metadata": {},
   "outputs": [],
   "source": [
    "import pandas as pd\n",
    "from faker import Faker\n",
    "import random\n",
    "\n",
    "# Inicializa o Faker\n",
    "fake = Faker('pt_BR')\n",
    "\n",
    "# Gera dados de exemplo\n",
    "dados = {\n",
    "    'id': range(1, 11),\n",
    "    'preço': [fake.numerify(text='##,##') for _ in range(10)],\n",
    "    'estado': [fake.state_abbr() for _ in range(10)],\n",
    "    'data': [fake.date(pattern=\"%d/%m/%Y\") for _ in range(10)]\n",
    "}\n",
    "\n",
    "# Cria o dataframe\n",
    "df = pd.DataFrame(dados)\n",
    "\n",
    "# Salva o dataframe em um arquivo CSV com as colunas especificadas\n",
    "df.to_csv('data/exemplo.csv', index=False)\n"
   ]
  },
  {
   "cell_type": "markdown",
   "id": "6753cea4-6723-40f8-854f-4b0790464549",
   "metadata": {},
   "source": [
    "### verificando o arquivo criado:"
   ]
  },
  {
   "cell_type": "code",
   "execution_count": 7,
   "id": "ce6844b2-ab53-42dd-9571-f8bac9bc6082",
   "metadata": {},
   "outputs": [],
   "source": [
    "# %load data/exemplo.csv\n",
    "id,preço,estado,data\n",
    "1,\"55,41\",BA,30/04/2009\n",
    "2,\"34,79\",MG,13/11/1980\n",
    "3,\"02,14\",AC,28/10/1986\n",
    "4,\"06,47\",PR,07/08/2002\n",
    "5,\"24,07\",PI,30/01/2001\n",
    "6,\"00,78\",AM,14/10/1999\n",
    "7,\"41,09\",AM,29/11/1975\n",
    "8,\"46,84\",MT,27/01/1989\n",
    "9,\"06,03\",TO,02/02/1993\n",
    "10,\"39,32\",RN,11/09/2005\n"
   ]
  },
  {
   "cell_type": "markdown",
   "id": "11c166b3-d246-4698-9af2-f2190692e2ee",
   "metadata": {},
   "source": [
    "### Vamos realizar a seguinte estapa:"
   ]
  },
  {
   "cell_type": "markdown",
   "id": "3c776256-d7c9-424d-b5ab-f07e00bae334",
   "metadata": {},
   "source": [
    "* **Extrair o arquivo.**\n",
    "* **Realizar um filtro por Estado e por preço.**"
   ]
  },
  {
   "cell_type": "code",
   "execution_count": 8,
   "id": "aa474f5d-6042-45fa-a741-b4ee6a4695f6",
   "metadata": {},
   "outputs": [
    {
     "name": "stdout",
     "output_type": "stream",
     "text": [
      "   id  preço estado        data\n",
      "6   7  41,09     AM  29/11/1975\n"
     ]
    }
   ],
   "source": [
    "\n",
    "import pandas as pd\n",
    "\n",
    "\n",
    "df = pd.read_csv('data/exemplo.csv')\n",
    "\n",
    "df_filtrado = df[df['estado'] == 'AM']\n",
    "\n",
    "df_filtrado = df[df['preço'] == '41,09']\n",
    "\n",
    "\n",
    "print(df_filtrado)"
   ]
  },
  {
   "cell_type": "markdown",
   "id": "ba25ceed-8e3d-4ee9-9c3f-18d48e8f272e",
   "metadata": {},
   "source": [
    "### Agora vamos realizar o mesmo filtro usando classes:"
   ]
  },
  {
   "cell_type": "code",
   "execution_count": 9,
   "id": "f4fb6434-864d-4b21-ad14-06e097f317d3",
   "metadata": {},
   "outputs": [],
   "source": [
    "import pandas as pd\n",
    "\n",
    "class CsvProcessor:\n",
    "    def __init__(self, file_path: str):\n",
    "        self.file_path = file_path\n",
    "        self.df = None\n",
    "        self.df_filtrado = None\n",
    "\n",
    "    def carregar_csv(self) -> pd.DataFrame:\n",
    "        self.df = pd.read_csv(self.file_path)\n",
    "        return self.df\n",
    "\n",
    "    def filtrar_por(self, colunas: list, atributos: list) -> pd.DataFrame:\n",
    "        if len(colunas) != len(atributos):\n",
    "            raise ValueError(\"O número de colunas e atributos não coincide\")\n",
    "        \n",
    "        if not colunas:\n",
    "            return self.df\n",
    "        \n",
    "        coluna_atual = colunas[0]\n",
    "        atributo_atual = atributos[0]\n",
    "\n",
    "        df_filtrado = self.df[self.df[coluna_atual] == atributo_atual]\n",
    "\n",
    "        if len(colunas) == 1:\n",
    "            return df_filtrado\n",
    "        else:\n",
    "            return self.filtrar_por(colunas[1:], atributos[1:])\n"
   ]
  },
  {
   "cell_type": "markdown",
   "id": "ccf5f0d0-eb0f-4653-aecc-2f1cee51e38b",
   "metadata": {},
   "source": [
    "CsvProcessor\n",
    "=============\n",
    "\n",
    "Esta classe fornece funcionalidades básicas para processar arquivos CSV.\n",
    "\n",
    "Métodos\n",
    "-------\n",
    "\n",
    "- `__init__(file_path: str)`: Construtor da classe. Recebe o caminho do arquivo CSV como argumento.\n",
    "- `carregar_csv() -> pd.DataFrame`: Carrega o arquivo CSV especificado e retorna um DataFrame pandas.\n",
    "- `filtrar_por(colunas: list, atributos: list) -> pd.DataFrame`: Filtra o DataFrame por valores específicos nas colunas especificadas e retorna o DataFrame resultante."
   ]
  },
  {
   "cell_type": "markdown",
   "id": "20b4be2e-47d5-4117-8ba1-a93857f5ebee",
   "metadata": {},
   "source": [
    "### Exemplo de uso:"
   ]
  },
  {
   "cell_type": "code",
   "execution_count": 12,
   "id": "54f05145-3622-4f42-a446-d46397b7795a",
   "metadata": {},
   "outputs": [
    {
     "data": {
      "text/html": [
       "<div>\n",
       "<style scoped>\n",
       "    .dataframe tbody tr th:only-of-type {\n",
       "        vertical-align: middle;\n",
       "    }\n",
       "\n",
       "    .dataframe tbody tr th {\n",
       "        vertical-align: top;\n",
       "    }\n",
       "\n",
       "    .dataframe thead th {\n",
       "        text-align: right;\n",
       "    }\n",
       "</style>\n",
       "<table border=\"1\" class=\"dataframe\">\n",
       "  <thead>\n",
       "    <tr style=\"text-align: right;\">\n",
       "      <th></th>\n",
       "      <th>id</th>\n",
       "      <th>preço</th>\n",
       "      <th>estado</th>\n",
       "      <th>data</th>\n",
       "    </tr>\n",
       "  </thead>\n",
       "  <tbody>\n",
       "    <tr>\n",
       "      <th>6</th>\n",
       "      <td>7</td>\n",
       "      <td>41,09</td>\n",
       "      <td>AM</td>\n",
       "      <td>29/11/1975</td>\n",
       "    </tr>\n",
       "  </tbody>\n",
       "</table>\n",
       "</div>"
      ],
      "text/plain": [
       "   id  preço estado        data\n",
       "6   7  41,09     AM  29/11/1975"
      ]
     },
     "execution_count": 12,
     "metadata": {},
     "output_type": "execute_result"
    }
   ],
   "source": [
    "# Criar uma instância de CsvProcessor com o caminho do arquivo CSV\n",
    "processor = CsvProcessor('data/exemplo.csv')\n",
    "\n",
    "# Carregar o arquivo CSV em um DataFrame\n",
    "df = processor.carregar_csv()\n",
    "\n",
    "# Filtrar o DataFrame por valores específicos nas colunas 'coluna1' e 'coluna2'\n",
    "processor.filtrar_por(['estado', 'preço'], ['AM', '41,09'])"
   ]
  },
  {
   "cell_type": "code",
   "execution_count": null,
   "id": "9fabcf60-0051-4569-8545-079db8ce82aa",
   "metadata": {},
   "outputs": [],
   "source": []
  }
 ],
 "metadata": {
  "kernelspec": {
   "display_name": "Python 3 (ipykernel)",
   "language": "python",
   "name": "python3"
  },
  "language_info": {
   "codemirror_mode": {
    "name": "ipython",
    "version": 3
   },
   "file_extension": ".py",
   "mimetype": "text/x-python",
   "name": "python",
   "nbconvert_exporter": "python",
   "pygments_lexer": "ipython3",
   "version": "3.10.13"
  }
 },
 "nbformat": 4,
 "nbformat_minor": 5
}
