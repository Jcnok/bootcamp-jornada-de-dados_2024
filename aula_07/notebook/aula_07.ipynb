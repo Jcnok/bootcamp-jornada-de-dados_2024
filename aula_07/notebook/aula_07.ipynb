{
 "cells": [
  {
   "cell_type": "markdown",
   "id": "8f572434-1d0b-47c9-a91a-a8dc487253a2",
   "metadata": {},
   "source": [
    "# Funções:"
   ]
  },
  {
   "cell_type": "markdown",
   "id": "c2f02991-d869-4c5b-b321-eba71ba4eead",
   "metadata": {},
   "source": [
    "![img](../img/function.png)"
   ]
  },
  {
   "cell_type": "markdown",
   "id": "623f820b-60c9-4818-9554-c454c30190ac",
   "metadata": {
    "jp-MarkdownHeadingCollapsed": true
   },
   "source": [
    "## Funções em Python\n",
    "\n",
    "As funções em Python são blocos de código reutilizáveis que realizam tarefas específicas. Elas desempenham um papel fundamental no desenvolvimento de software, proporcionando modularidade, legibilidade e reutilização de código. Abaixo estão as principais funcionalidades, casos de uso e a importância de utilizar funções em Python:\n",
    "\n",
    "### Funcionalidades Principais\n",
    "\n",
    "1. **Define código reutilizável**:\n",
    "   - As funções permitem definir blocos de código que realizam uma tarefa específica. Isso promove a reutilização do código em diferentes partes do programa, evitando a duplicação e facilitando a manutenção.\n",
    "\n",
    "2. **Aceita parâmetros**:\n",
    "   - As funções podem receber parâmetros como entrada, permitindo que dados sejam passados para dentro da função. Isso torna as funções mais flexíveis e genéricas, podendo ser aplicadas a diferentes conjuntos de dados.\n",
    "\n",
    "3. **Retorna resultados**:\n",
    "   - As funções podem retornar valores como resultado da execução. Isso permite que o resultado do processamento seja utilizado posteriormente em outras partes do programa.\n",
    "\n",
    "### Casos de Uso\n",
    "\n",
    "1. **Processamento de dados**:\n",
    "   - As funções são amplamente utilizadas para processar dados, realizar operações matemáticas, manipular strings e realizar outras transformações nos dados.\n",
    "\n",
    "2. **Operações de E/S (Entrada/Saída)**:\n",
    "   - As funções são usadas para realizar operações de entrada e saída, como ler dados de arquivos, interagir com bancos de dados, chamar APIs externas, entre outros.\n",
    "\n",
    "3. **Cálculos matemáticos**:\n",
    "   - As funções são úteis para realizar cálculos matemáticos complexos ou repetitivos, encapsulando a lógica de cálculo em uma função reutilizável.\n",
    "\n",
    "4. **Manipulações de strings**:\n",
    "   - As funções são empregadas para manipular e processar strings, como formatação, substituição, divisão, entre outras operações.\n",
    "\n",
    "### Importância\n",
    "\n",
    "- As funções são essenciais para organizar e estruturar o código, tornando-o mais modular, legível e fácil de manter.\n",
    "- Promovem a reutilização do código, evitando a duplicação e melhorando a eficiência do desenvolvimento.\n",
    "- Facilitam a depuração e teste do código, permitindo isolar e testar partes específicas do programa de forma independente.\n"
   ]
  },
  {
   "cell_type": "markdown",
   "id": "56336277-8b46-4e37-b3e0-434da2b11503",
   "metadata": {
    "jp-MarkdownHeadingCollapsed": true
   },
   "source": [
    "## Setando o ambiente para o jupyter"
   ]
  },
  {
   "cell_type": "code",
   "execution_count": 1,
   "id": "c775ed21-16b2-4596-b422-5548b030014f",
   "metadata": {},
   "outputs": [
    {
     "data": {
      "text/plain": [
       "'/home/jcnok/bootcamps/bootcamp-jornada-de-dados_2024/aula_07'"
      ]
     },
     "execution_count": 1,
     "metadata": {},
     "output_type": "execute_result"
    }
   ],
   "source": [
    "import os\n",
    "os.getcwd()\n",
    "os.chdir(\"/home/jcnok/bootcamps/bootcamp-jornada-de-dados_2024/aula_07\")\n",
    "os.getcwd()"
   ]
  },
  {
   "cell_type": "markdown",
   "id": "3291836a-be23-4531-832c-fde2bb2478ee",
   "metadata": {
    "jp-MarkdownHeadingCollapsed": true
   },
   "source": [
    "## Exercícios"
   ]
  },
  {
   "cell_type": "markdown",
   "id": "a70a45be-457c-4b77-9d94-5d5bd4a76b72",
   "metadata": {},
   "source": [
    "1. **Calcular a média de valores em uma lista:**"
   ]
  },
  {
   "cell_type": "code",
   "execution_count": 25,
   "id": "a8cae17d-53b0-44e5-b7b1-152cb696d02f",
   "metadata": {},
   "outputs": [
    {
     "name": "stdout",
     "output_type": "stream",
     "text": [
      "Writing src/exercicio_01.py\n"
     ]
    }
   ],
   "source": [
    "# %%writefile src/exercicio_01.py\n",
    "# Calcular a média de valores em uma lista:\n",
    "from typing import List\n",
    "\n",
    "def calcular_media(valores: List[float]) -> float:\n",
    "    \"\"\"\n",
    "    Função para calcular a média de uma lista de valores.\n",
    "\n",
    "    Args:\n",
    "        valores (List[float]): Uma lista de valores numéricos.\n",
    "\n",
    "    Returns:\n",
    "        float: A média dos valores na lista.\n",
    "    \"\"\"\n",
    "    # Soma todos os valores na lista\n",
    "    soma = sum(valores)\n",
    "    # Calcula a média dividindo a soma pelo número de valores na lista\n",
    "    media = soma / len(valores)\n",
    "    return round(media,2)\n"
   ]
  },
  {
   "cell_type": "markdown",
   "id": "94c315c2-4edd-4074-82fe-e73f033b8a8b",
   "metadata": {},
   "source": [
    "* **Testando a função**:"
   ]
  },
  {
   "cell_type": "code",
   "execution_count": 6,
   "id": "0b46affb-2d71-4324-b1df-63d62f239036",
   "metadata": {},
   "outputs": [
    {
     "data": {
      "text/plain": [
       "7.12"
      ]
     },
     "execution_count": 6,
     "metadata": {},
     "output_type": "execute_result"
    }
   ],
   "source": [
    "lista_notas = [5.0, 6.5, 8.0, 9.0]\n",
    "calcular_media(lista_notas)"
   ]
  },
  {
   "cell_type": "markdown",
   "id": "1c5195fe-f868-4ebc-afd0-ef2c8e47d57b",
   "metadata": {},
   "source": [
    "2. **Filtrar dados acima de um limite:**"
   ]
  },
  {
   "cell_type": "code",
   "execution_count": 26,
   "id": "ac2ab3de-c22e-489f-a9d1-177d34de19d2",
   "metadata": {},
   "outputs": [
    {
     "name": "stdout",
     "output_type": "stream",
     "text": [
      "Writing src/exercicio_02.py\n"
     ]
    }
   ],
   "source": [
    "# %%writefile src/exercicio_02.py\n",
    "# 2.Filtrar dados acima de um limite:\n",
    "from typing import List\n",
    "\n",
    "def filtrar_dados_limite(valores: List[float], limite: float) -> List[float]:\n",
    "    \"\"\"\n",
    "    Função para filtrar valores em uma lista que estão acima de um determinado limite.\n",
    "\n",
    "    Args:\n",
    "        valores (List[float]): Uma lista de valores numéricos.\n",
    "        limite (float): O limite para filtrar os valores.\n",
    "\n",
    "    Returns:\n",
    "        List[float]: Uma lista contendo apenas os valores acima do limite.\n",
    "    \"\"\"\n",
    "    # Inicializa uma lista vazia para armazenar os valores filtrados\n",
    "    resultado = []\n",
    "    # Itera sobre cada valor na lista de entrada\n",
    "    for valor in valores:\n",
    "        # Verifica se o valor atual é maior que o limite\n",
    "        if valor > limite:\n",
    "            # Se for, adiciona o valor à lista de resultados\n",
    "            resultado.append(valor)\n",
    "    # Retorna a lista de valores filtrados\n",
    "    return resultado\n"
   ]
  },
  {
   "cell_type": "markdown",
   "id": "b56b3ac8-073d-4b6f-ac76-98d67dd2b850",
   "metadata": {},
   "source": [
    "* **Testando o código:**"
   ]
  },
  {
   "cell_type": "code",
   "execution_count": 9,
   "id": "a5d6e1f7-b6e0-4448-8bfa-d16fbf176f57",
   "metadata": {},
   "outputs": [
    {
     "data": {
      "text/plain": [
       "[8.0, 9.0]"
      ]
     },
     "execution_count": 9,
     "metadata": {},
     "output_type": "execute_result"
    }
   ],
   "source": [
    "lista_notas = [5.0, 6.5, 8.0, 9.0]\n",
    "filtrar_dados_limite(lista_notas,6.5)"
   ]
  },
  {
   "cell_type": "markdown",
   "id": "6b112e16-433d-49f7-a799-f88285d10c6c",
   "metadata": {},
   "source": [
    "3. **Contar valores únicos em uma lista:**"
   ]
  },
  {
   "cell_type": "code",
   "execution_count": 27,
   "id": "0331a2ed-89f5-4ff2-befa-c5dcbf8f5d45",
   "metadata": {},
   "outputs": [
    {
     "name": "stdout",
     "output_type": "stream",
     "text": [
      "Writing src/exercicio_03.py\n"
     ]
    }
   ],
   "source": [
    "# %%writefile src/exercicio_03.py\n",
    "# 3. Contar valores únicos em uma lista:\n",
    "from typing import List\n",
    "\n",
    "def contar_valores_unicos(lista: List[int]) -> int:\n",
    "    \"\"\"\n",
    "    Função para contar o número de valores únicos em uma lista.\n",
    "\n",
    "    Args:\n",
    "        lista (List[int]): Uma lista de valores inteiros.\n",
    "\n",
    "    Returns:\n",
    "        int: O número de valores únicos na lista.\n",
    "    \"\"\"\n",
    "    # Converte a lista para um conjunto (set) para eliminar valores duplicados\n",
    "    valores_unicos = set(lista)\n",
    "    # Retorna o número de elementos no conjunto, que corresponde ao número de valores únicos\n",
    "    return len(valores_unicos)\n"
   ]
  },
  {
   "cell_type": "markdown",
   "id": "66381444-8858-44c4-9ed0-7fca4c1db7c1",
   "metadata": {},
   "source": [
    "* **Testando o código:**"
   ]
  },
  {
   "cell_type": "code",
   "execution_count": 12,
   "id": "d7324828-26b6-40d6-9376-893e664c70f4",
   "metadata": {},
   "outputs": [
    {
     "data": {
      "text/plain": [
       "6"
      ]
     },
     "execution_count": 12,
     "metadata": {},
     "output_type": "execute_result"
    }
   ],
   "source": [
    "lista = [1.0, 2.0, 2.0, 4.0, 1.0, 5.0, 7.0, 8.0]\n",
    "contar_valores_unicos(lista)"
   ]
  },
  {
   "cell_type": "markdown",
   "id": "45ae0efd-d185-432b-b20e-225bb5ad6c7c",
   "metadata": {},
   "source": [
    "4. **Converter celsius para Fahrenheit em uma lista:**"
   ]
  },
  {
   "cell_type": "code",
   "execution_count": 28,
   "id": "7a6f6c6e-5d38-4b5b-8336-bdcd424ac13c",
   "metadata": {},
   "outputs": [
    {
     "name": "stdout",
     "output_type": "stream",
     "text": [
      "Writing src/exercicio_04.py\n"
     ]
    }
   ],
   "source": [
    "# %%writefile src/exercicio_04.py\n",
    "# 4.Converter celsius para Fahrenheit em uma lista: \n",
    "from typing import List\n",
    "\n",
    "def celsius_para_fahrenheit(temperaturas_celsius: List[float]) -> List[float]:\n",
    "    \"\"\"\n",
    "    Função para converter uma lista de temperaturas de Celsius para Fahrenheit.\n",
    "\n",
    "    Args:\n",
    "        temperaturas_celsius (List[float]): Uma lista de temperaturas em graus Celsius.\n",
    "\n",
    "    Returns:\n",
    "        List[float]: Uma lista de temperaturas convertidas para Fahrenheit.\n",
    "    \"\"\"\n",
    "    # Utiliza uma list comprehension para converter cada temperatura de Celsius para Fahrenheit\n",
    "    temperaturas_fahrenheit = [(9/5) * temp + 32 for temp in temperaturas_celsius]\n",
    "    return temperaturas_fahrenheit\n"
   ]
  },
  {
   "cell_type": "markdown",
   "id": "f9d1cc13-8b3e-492d-8ab9-1b111d0bb8ee",
   "metadata": {},
   "source": [
    "* **Testando o código**:"
   ]
  },
  {
   "cell_type": "code",
   "execution_count": 17,
   "id": "f2add2f3-d49f-4b59-aac4-6cc6f09c9ac1",
   "metadata": {},
   "outputs": [
    {
     "data": {
      "text/plain": [
       "[68.0, 86.0, 104.0, 14.0, 32.0]"
      ]
     },
     "execution_count": 17,
     "metadata": {},
     "output_type": "execute_result"
    }
   ],
   "source": [
    "lista_celsius = [20, 30, 40, -10, 0]\n",
    "celsius_para_fahrenheit(lista_celsius)"
   ]
  },
  {
   "cell_type": "markdown",
   "id": "07dda699-c5b4-45b2-ac8f-c426a27e36b2",
   "metadata": {},
   "source": [
    "5. **Calcular desvio padrão de uma lista:**"
   ]
  },
  {
   "cell_type": "code",
   "execution_count": 29,
   "id": "c14019ca-0acc-4ada-9e50-1e274d884f15",
   "metadata": {},
   "outputs": [
    {
     "name": "stdout",
     "output_type": "stream",
     "text": [
      "Writing src/exercicio_05.py\n"
     ]
    }
   ],
   "source": [
    "# %%writefile src/exercicio_05.py\n",
    "# 5. Calcular desvio padrão de uma lista:\n",
    "from typing import List\n",
    "\n",
    "def calcular_desvio_padrao(valores: List[float]) -> float:\n",
    "    \"\"\"\n",
    "    Função para calcular o desvio padrão de uma lista de valores.\n",
    "\n",
    "    Args:\n",
    "        valores (List[float]): Uma lista de valores numéricos.\n",
    "\n",
    "    Returns:\n",
    "        float: O desvio padrão dos valores na lista.\n",
    "    \"\"\"\n",
    "    # Calcula a média dos valores na lista\n",
    "    media = sum(valores) / len(valores)\n",
    "    # Calcula a variância dos valores na lista\n",
    "    variancia = sum((x - media) ** 2 for x in valores) / len(valores)\n",
    "    # Retorna a raiz quadrada da variância, que é o desvio padrão\n",
    "    return variancia ** 0.5\n"
   ]
  },
  {
   "cell_type": "markdown",
   "id": "79f66364-9f3b-4e0a-b625-484c34bc9d85",
   "metadata": {},
   "source": [
    "* **Testando a função:**"
   ]
  },
  {
   "cell_type": "code",
   "execution_count": 19,
   "id": "c74daeba-0da3-413c-9b9d-91b7f867663a",
   "metadata": {},
   "outputs": [
    {
     "data": {
      "text/plain": [
       "2.537222891273055"
      ]
     },
     "execution_count": 19,
     "metadata": {},
     "output_type": "execute_result"
    }
   ],
   "source": [
    "lista = [1.0, 2.0, 2.0, 4.0, 1.0, 5.0, 7.0, 8.0] \n",
    "calcular_desvio_padrao(lista)"
   ]
  },
  {
   "cell_type": "code",
   "execution_count": 20,
   "id": "66195de2-f57e-4cbd-be1a-8df370466884",
   "metadata": {},
   "outputs": [
    {
     "data": {
      "text/plain": [
       "2.537222891273055"
      ]
     },
     "execution_count": 20,
     "metadata": {},
     "output_type": "execute_result"
    }
   ],
   "source": [
    "# conferindo com a lib numpy\n",
    "import numpy as np \n",
    "np.std(lista)"
   ]
  },
  {
   "cell_type": "markdown",
   "id": "a2f43d51-0ea9-486e-bf3b-5885f1233a75",
   "metadata": {},
   "source": [
    "6. **Encontrar Valores Ausentes em uma Sequência**:"
   ]
  },
  {
   "cell_type": "code",
   "execution_count": 30,
   "id": "703ff455-b478-4e05-9aa6-38661c7193bd",
   "metadata": {},
   "outputs": [
    {
     "name": "stdout",
     "output_type": "stream",
     "text": [
      "Writing src/exercicio_06.py\n"
     ]
    }
   ],
   "source": [
    "# %%writefile src/exercicio_06.py\n",
    "# 6. Encontrar Valores Ausentes em uma Sequência:\n",
    "from typing import List\n",
    "\n",
    "def encontrar_valores_ausentes(sequencia: List[int]) -> List[int]:\n",
    "    \"\"\"\n",
    "    Função para encontrar valores ausentes em uma sequência de números inteiros.\n",
    "\n",
    "    Args:\n",
    "        sequencia (List[int]): Uma sequência de números inteiros.\n",
    "\n",
    "    Returns:\n",
    "        List[int]: Uma lista contendo os valores ausentes na sequência.\n",
    "    \"\"\"\n",
    "    # Cria um conjunto completo contendo todos os números no intervalo da sequência\n",
    "    completo = set(range(min(sequencia), max(sequencia) + 1))\n",
    "    # Retorna os valores ausentes encontrando a diferença entre o conjunto completo e o conjunto da sequência\n",
    "    return list(completo - set(sequencia))\n"
   ]
  },
  {
   "cell_type": "markdown",
   "id": "cf680258-6c0b-485b-befb-43f44dbb5be9",
   "metadata": {},
   "source": [
    "* **testando a função:**"
   ]
  },
  {
   "cell_type": "code",
   "execution_count": 22,
   "id": "7b1e0211-424d-4ed2-a94e-e9850e631bb0",
   "metadata": {},
   "outputs": [
    {
     "data": {
      "text/plain": [
       "[9, 3, 6]"
      ]
     },
     "execution_count": 22,
     "metadata": {},
     "output_type": "execute_result"
    }
   ],
   "source": [
    "sequencia_list = [1,2,4,5,7,8,10] \n",
    "encontrar_valores_ausentes(sequencia_list)"
   ]
  },
  {
   "cell_type": "markdown",
   "id": "f2e5bc20-7e9b-46f4-a76c-aedc3ed4978d",
   "metadata": {
    "jp-MarkdownHeadingCollapsed": true
   },
   "source": [
    "## Projeto"
   ]
  },
  {
   "cell_type": "markdown",
   "id": "2a16d9c4-4ec0-4138-89dd-e966915a2822",
   "metadata": {},
   "source": [
    "#### Desafio - Análise de Vendas de Produtos Objetivo: \n",
    "* **Dado um arquivo CSV contendo dados de vendas de produtos, o desafio consiste em ler os dados, processá-los em um dicionário para análise e, por fim, calcular e reportar as vendas totais por categoria de produto.**"
   ]
  },
  {
   "cell_type": "markdown",
   "id": "c8be92d0-1786-4e21-a32e-5bbeb48e558a",
   "metadata": {},
   "source": [
    "**Fluxo**:\n",
    "\n",
    "```mermaid\n",
    "graph TD;\n",
    "    A[Início] --> B{Ler CSV};\n",
    "    B --> C[Processar Dados];\n",
    "    C --> D[Calcular Vendas];\n",
    "    D --> E[Exibir Resultados];\n",
    "    E --> F[Fim];\n",
    "```\n",
    "\n",
    "**Tarefas**:\n",
    "\n",
    "1. Ler o arquivo CSV e carregar os dados.\n",
    "2. Processar os dados em um dicionário, onde a chave é a categoria, e o valor é uma lista de dicionários, cada um contendo informações do produto (`Produto`, `Quantidade`, `Venda`).\n",
    "3. Calcular o total de vendas (`Quantidade` * `Venda`) por categoria.\n",
    "\n",
    "### Funções\n",
    "\n",
    "1. **Ler CSV**:\n",
    "    \n",
    "    * Função: `ler_csv`\n",
    "    * Entrada: Nome do arquivo CSV\n",
    "    * Saída: Lista de dicionários com dados lidos\n",
    "2. **Processar Dados**:\n",
    "    \n",
    "    * Função: `processar_dados`\n",
    "    * Entrada: Lista de dicionários\n",
    "    * Saída: Dicionário processado conforme descrito\n",
    "3. **Calcular Vendas por Categoria**:\n",
    "    \n",
    "    * Função: `calcular_vendas_categoria`\n",
    "    * Entrada: Dicionário processado\n",
    "    * Saída: Dicionário com total de vendas por categoria"
   ]
  },
  {
   "cell_type": "markdown",
   "id": "aa338303-9694-44e7-9f30-526e10a6ef72",
   "metadata": {},
   "source": [
    "* **Resolução do projeto**:"
   ]
  },
  {
   "cell_type": "code",
   "execution_count": 32,
   "id": "a7554139-0aac-4259-abef-290585b6063a",
   "metadata": {},
   "outputs": [
    {
     "name": "stdout",
     "output_type": "stream",
     "text": [
      "Total de vendas na categoria \"Electronics\": R$23000.00\n",
      "Total de vendas na categoria \"Apparel\": R$900.00\n",
      "Total de vendas na categoria \"Kitchen\": R$300.00\n"
     ]
    }
   ],
   "source": [
    "# %%writefile src/desafio.py\n",
    "# desafio - Análise de Vendas de Produtos\n",
    "import csv\n",
    "from typing import List, Dict\n",
    "\n",
    "# Função para ler o arquivo CSV e carregar os dados\n",
    "def ler_csv(nome_arquivo: str) -> List[Dict[str, str]]:\n",
    "    with open(nome_arquivo, newline='') as arquivo:\n",
    "        leitor = csv.DictReader(arquivo)\n",
    "        dados = [linha for linha in leitor]\n",
    "    return dados\n",
    "\n",
    "# Função para processar os dados em um dicionário por categoria\n",
    "def processar_dados(dados: List[Dict[str, str]]) -> Dict[str, List[Dict[str, str]]]:\n",
    "    categorias = {}\n",
    "    for linha in dados:\n",
    "        categoria = linha['Categoria']\n",
    "        if categoria not in categorias:\n",
    "            categorias[categoria] = []\n",
    "        categorias[categoria].append({\n",
    "            'Produto': linha['Produto'],\n",
    "            'Quantidade': int(linha['Quantidade']),\n",
    "            'Venda': float(linha['Venda'])\n",
    "        })\n",
    "    return categorias\n",
    "\n",
    "# Função para calcular o total de vendas por categoria\n",
    "def calcular_vendas_categoria(categorias: Dict[str, List[Dict[str, str]]]) -> Dict[str, float]:\n",
    "    total_vendas = {}\n",
    "    for categoria, produtos in categorias.items():\n",
    "        total_vendas[categoria] = sum(produto['Quantidade'] * produto['Venda'] for produto in produtos)\n",
    "    return total_vendas\n",
    "\n",
    "# Função principal\n",
    "def main():\n",
    "    # Ler o arquivo CSV\n",
    "    dados = ler_csv('data/vendas.csv')\n",
    "    \n",
    "    # Processar os dados\n",
    "    categorias = processar_dados(dados)\n",
    "    \n",
    "    # Calcular as vendas por categoria\n",
    "    vendas_por_categoria = calcular_vendas_categoria(categorias)\n",
    "    \n",
    "    # Exibir os resultados\n",
    "    for categoria, total_vendas in vendas_por_categoria.items():\n",
    "        print(f'Total de vendas na categoria \"{categoria}\": R${total_vendas:.2f}')\n",
    "\n",
    "if __name__ == \"__main__\":\n",
    "    main()\n"
   ]
  },
  {
   "cell_type": "code",
   "execution_count": null,
   "id": "47c1b591-ef14-4e01-934d-33b58a241cfd",
   "metadata": {},
   "outputs": [],
   "source": []
  }
 ],
 "metadata": {
  "kernelspec": {
   "display_name": "Python 3 (ipykernel)",
   "language": "python",
   "name": "python3"
  },
  "language_info": {
   "codemirror_mode": {
    "name": "ipython",
    "version": 3
   },
   "file_extension": ".py",
   "mimetype": "text/x-python",
   "name": "python",
   "nbconvert_exporter": "python",
   "pygments_lexer": "ipython3",
   "version": "3.10.13"
  }
 },
 "nbformat": 4,
 "nbformat_minor": 5
}
