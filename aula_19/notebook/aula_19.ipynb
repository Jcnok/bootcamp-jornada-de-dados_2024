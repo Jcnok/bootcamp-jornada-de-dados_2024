{
 "cells": [
  {
   "cell_type": "markdown",
   "id": "13265e31-3a17-45c3-9d6b-0c1f4f52420f",
   "metadata": {},
   "source": [
    "# aula 19:"
   ]
  },
  {
   "cell_type": "markdown",
   "id": "7c52035a-556f-4009-b883-e6bfba26cf39",
   "metadata": {},
   "source": [
    "## Setando a raiz do projeto:"
   ]
  },
  {
   "cell_type": "code",
   "execution_count": 2,
   "id": "0c822f3b-087a-4ba7-8a6d-65fcfc599e0c",
   "metadata": {},
   "outputs": [],
   "source": [
    "import os \n",
    "os.getcwd()\n",
    "os.chdir(\"/home/jcnok/bootcamps/bootcamp-jornada-de-dados_2024/aula_19\")"
   ]
  },
  {
   "cell_type": "code",
   "execution_count": null,
   "id": "18c9b797-9b99-45e5-8d54-0798c1ede632",
   "metadata": {},
   "outputs": [],
   "source": []
  }
 ],
 "metadata": {
  "kernelspec": {
   "display_name": "Python 3 (ipykernel)",
   "language": "python",
   "name": "python3"
  },
  "language_info": {
   "codemirror_mode": {
    "name": "ipython",
    "version": 3
   },
   "file_extension": ".py",
   "mimetype": "text/x-python",
   "name": "python",
   "nbconvert_exporter": "python",
   "pygments_lexer": "ipython3",
   "version": "3.10.13"
  }
 },
 "nbformat": 4,
 "nbformat_minor": 5
}
