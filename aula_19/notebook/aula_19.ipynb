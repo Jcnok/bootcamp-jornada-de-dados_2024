{
 "cells": [
  {
   "cell_type": "markdown",
   "id": "13265e31-3a17-45c3-9d6b-0c1f4f52420f",
   "metadata": {},
   "source": [
    "# aula 19:"
   ]
  },
  {
   "cell_type": "markdown",
   "id": "7c52035a-556f-4009-b883-e6bfba26cf39",
   "metadata": {},
   "source": [
    "## Setando a raiz do projeto:"
   ]
  },
  {
   "cell_type": "code",
   "execution_count": 12,
   "id": "0c822f3b-087a-4ba7-8a6d-65fcfc599e0c",
   "metadata": {},
   "outputs": [
    {
     "data": {
      "text/plain": [
       "'/home/jcnok/bootcamps/bootcamp-jornada-de-dados_2024/aula_19'"
      ]
     },
     "execution_count": 12,
     "metadata": {},
     "output_type": "execute_result"
    }
   ],
   "source": [
    "import os \n",
    "os.getcwd()\n",
    "os.chdir(\"/home/jcnok/bootcamps/bootcamp-jornada-de-dados_2024/aula_19\")\n",
    "os.getcwd()"
   ]
  },
  {
   "cell_type": "markdown",
   "id": "9d94a845-111a-4a2a-8d66-5ff361ad0024",
   "metadata": {},
   "source": [
    "## Desafio\n",
    "\n",
    "Criar nosso primeiro CRUD\n",
    "\n",
    "1. **`POST /items/`: Cria um novo item**\n",
    "    \n",
    "    Esta rota permite criar um novo item no banco de dados. O cliente envia os dados do novo item no corpo da solicitação HTTP e o servidor adiciona esse item ao banco de dados. Aqui está como funciona:\n",
    "    \n",
    "    * **Verbo HTTP**: POST\n",
    "    * **Endpoint**: `/items/`\n",
    "    * **Ação**: Cria um novo item no banco de dados.\n",
    "    * **Requisitos**: O corpo da solicitação deve conter os dados do novo item.\n",
    "    * **Resposta**: Retorna o novo item criado.\n",
    "2. **`GET /items/`: Retorna uma lista paginada de itens**\n",
    "    \n",
    "    Esta rota permite recuperar uma lista paginada de itens do banco de dados. O cliente pode especificar opcionalmente os parâmetros `skip` (quantos itens pular) e `limit` (quantos itens retornar) para paginação. Aqui está como funciona:\n",
    "    \n",
    "    * **Verbo HTTP**: GET\n",
    "    * **Endpoint**: `/items/`\n",
    "    * **Ação**: Retorna uma lista paginada de itens do banco de dados.\n",
    "    * **Parâmetros de consulta**: `skip` (opcional, padrão = 0) e `limit` (opcional, padrão = 10).\n",
    "    * **Resposta**: Retorna uma lista de itens conforme especificado pelos parâmetros de consulta.\n",
    "3. **`GET /items/{item_id}`: Retorna um item específico com base no ID**\n",
    "    \n",
    "    Esta rota permite recuperar um item específico do banco de dados com base no ID fornecido. Aqui está como funciona:\n",
    "    \n",
    "    * **Verbo HTTP**: GET\n",
    "    * **Endpoint**: `/items/{item_id}`\n",
    "    * **Ação**: Retorna um item específico com base no ID fornecido.\n",
    "    * **Parâmetros de caminho**: `item_id` (ID do item a ser recuperado).\n",
    "    * **Resposta**: Retorna o item correspondente ao ID fornecido.\n",
    "4. **`PUT /items/{item_id}`: Atualiza um item existente com base no ID**\n",
    "    \n",
    "    Esta rota permite atualizar os dados de um item existente no banco de dados com base no ID fornecido. O cliente envia os novos dados do item no corpo da solicitação HTTP. Aqui está como funciona:\n",
    "    \n",
    "    * **Verbo HTTP**: PUT\n",
    "    * **Endpoint**: `/items/{item_id}`\n",
    "    * **Ação**: Atualiza um item existente com base no ID fornecido.\n",
    "    * **Parâmetros de caminho**: `item_id` (ID do item a ser atualizado).\n",
    "    * **Requisitos**: O corpo da solicitação deve conter os novos dados do item.\n",
    "    * **Resposta**: Retorna o item atualizado.\n",
    "5. **`DELETE /items/{item_id}`: Exclui um item existente com base no ID**\n",
    "    \n",
    "    Esta rota permite excluir um item existente no banco de dados com base no ID fornecido. Aqui está como funciona:\n",
    "    \n",
    "    * **Verbo HTTP**: DELETE\n",
    "    * **Endpoint**: `/items/{item_id}`\n",
    "    * **Ação**: Exclui um item existente com base no ID fornecido.\n",
    "    * **Parâmetros de caminho**: `item_id` (ID do item a ser excluído).\n",
    "    * **Resposta**: Retorna o item excluído.\n",
    "\n",
    "Essas operações fornecem uma API completa para gerenciar itens no banco de dados, permitindo criar, recuperar, atualizar e excluir itens de forma eficiente e segura. Certifique-se de que as operações estejam de acordo com os requisitos do seu projeto e que você implemente a lógica necessária para garantir a consistência e a segurança dos dados."
   ]
  },
  {
   "cell_type": "markdown",
   "id": "bfdda94d-4554-463f-a164-b720e6c9d1aa",
   "metadata": {},
   "source": [
    "### `models.py`:"
   ]
  },
  {
   "cell_type": "code",
   "execution_count": 8,
   "id": "18f73553-b037-4d1f-81d7-e1e35ca60ce8",
   "metadata": {},
   "outputs": [
    {
     "name": "stdout",
     "output_type": "stream",
     "text": [
      "Overwriting src/models.py\n"
     ]
    }
   ],
   "source": [
    "%%writefile src/models.py\n",
    "from sqlalchemy import Column, Float, Integer, String\n",
    "from sqlalchemy.orm import declarative_base\n",
    "\n",
    "# Criação de uma classe base para a definição de modelos\n",
    "Base = declarative_base()\n",
    "\n",
    "class Item(Base):\n",
    "    \"\"\"\n",
    "    Modelo para a tabela 'items'.\n",
    "\n",
    "    Atributos:\n",
    "        id (int): Identificador único do item (chave primária).\n",
    "        name (str): Nome do item.\n",
    "        price (float): Preço do item.\n",
    "        is_offer (str): Indica se o item está em oferta (opcional).\n",
    "    \"\"\"\n",
    "    __tablename__ = \"items\"\n",
    "\n",
    "    id = Column(Integer, primary_key=True, index=True)\n",
    "    name = Column(String, index=True)\n",
    "    price = Column(Float)\n",
    "    is_offer = Column(String, nullable=True)\n"
   ]
  },
  {
   "cell_type": "markdown",
   "id": "fbf074a7-7f5e-4992-9807-0996aad988fc",
   "metadata": {},
   "source": [
    "### `Schema.py`:"
   ]
  },
  {
   "cell_type": "code",
   "execution_count": 9,
   "id": "c94e1e4b-c1ff-444e-bd41-84f57e3cd042",
   "metadata": {},
   "outputs": [
    {
     "name": "stdout",
     "output_type": "stream",
     "text": [
      "Overwriting src/schema.py\n"
     ]
    }
   ],
   "source": [
    "%%writefile src/schema.py\n",
    "from typing import Union\n",
    "from pydantic import BaseModel\n",
    "\n",
    "class ItemBase(BaseModel):\n",
    "    \"\"\"\n",
    "    Classe base para definição de atributos comuns de um item.\n",
    "\n",
    "    Atributos:\n",
    "        name (str): Nome do item.\n",
    "        price (float): Preço do item.\n",
    "        is_offer (Union[bool, None], opcional): Indica se o item está em oferta.\n",
    "    \"\"\"\n",
    "    name: str\n",
    "    price: float\n",
    "    is_offer: Union[bool, None] = None\n",
    "\n",
    "class ItemCreate(ItemBase):\n",
    "    \"\"\"\n",
    "    Classe para criar um novo item.\n",
    "\n",
    "    Herda os atributos da classe ItemBase.\n",
    "    \"\"\"\n",
    "    pass\n",
    "\n",
    "class Item(ItemBase):\n",
    "    \"\"\"\n",
    "    Classe que representa um item.\n",
    "\n",
    "    Herda os atributos da classe ItemBase e adiciona um identificador único (id).\n",
    "    \n",
    "    Atributos:\n",
    "        id (int): Identificador único do item.\n",
    "    \"\"\"\n",
    "    id: int\n"
   ]
  },
  {
   "cell_type": "markdown",
   "id": "dd30f077-f86e-47fd-a905-64f317058bf1",
   "metadata": {},
   "source": [
    "### `database.py`:"
   ]
  },
  {
   "cell_type": "code",
   "execution_count": 7,
   "id": "117c89c4-393c-4192-bb04-ac5df8d9d5c1",
   "metadata": {},
   "outputs": [
    {
     "name": "stdout",
     "output_type": "stream",
     "text": [
      "Overwriting src/data.py\n"
     ]
    }
   ],
   "source": [
    "%%writefile src/data.py\n",
    "from sqlalchemy import create_engine\n",
    "from sqlalchemy.ext.declarative import declarative_base\n",
    "from sqlalchemy.orm import sessionmaker\n",
    "\n",
    "# URL do banco de dados SQLite\n",
    "SQLALCHEMY_DATABASE_URL = \"sqlite:///./test.db\"\n",
    "\n",
    "# Criação de uma engine para o banco de dados\n",
    "engine = create_engine(SQLALCHEMY_DATABASE_URL)\n",
    "\n",
    "# Criação de uma classe base para a definição de modelos\n",
    "Base = declarative_base()\n",
    "\n",
    "# Criação de uma fábrica de sessões para interação com o banco de dados\n",
    "SessionLocal = sessionmaker(autocommit=False, autoflush=False, bind=engine)\n",
    "\n",
    "def get_db():\n",
    "    \"\"\"\n",
    "    Função utilitária para obter uma sessão de banco de dados.\n",
    "\n",
    "    Retorna:\n",
    "        Uma sessão de banco de dados.\n",
    "    \"\"\"\n",
    "    db = SessionLocal()\n",
    "    try:\n",
    "        yield db\n",
    "    finally:\n",
    "        db.close()\n"
   ]
  },
  {
   "cell_type": "markdown",
   "id": "72b3e11c-9c0d-42d6-a64a-3c0982973268",
   "metadata": {},
   "source": [
    "### `main.py`:"
   ]
  },
  {
   "cell_type": "code",
   "execution_count": 10,
   "id": "24080dd3-13be-48f6-914a-0ea585cfc87d",
   "metadata": {},
   "outputs": [
    {
     "name": "stdout",
     "output_type": "stream",
     "text": [
      "Overwriting src/main.py\n"
     ]
    }
   ],
   "source": [
    "%%writefile src/main.py\n",
    "from typing import List\n",
    "from fastapi import Depends, FastAPI, HTTPException\n",
    "from sqlalchemy.orm import Session\n",
    "\n",
    "import data\n",
    "import models\n",
    "from schema import Item, ItemCreate\n",
    "\n",
    "app = FastAPI()\n",
    "\n",
    "# Criar as tabelas no banco de dados\n",
    "models.Base.metadata.create_all(bind=data.engine)\n",
    "\n",
    "@app.post(\"/items/\", response_model=Item)\n",
    "def create_item(item: ItemCreate, db: Session = Depends(data.get_db)):\n",
    "    \"\"\"\n",
    "    Cria um novo item no banco de dados.\n",
    "\n",
    "    Args:\n",
    "        item (ItemCreate): Os dados do item a ser criado.\n",
    "        db (Session, opcional): Uma sessão do banco de dados.\n",
    "\n",
    "    Returns:\n",
    "        Item: O item criado.\n",
    "    \"\"\"\n",
    "    db_item = models.Item(**item.dict())\n",
    "    db.add(db_item)\n",
    "    db.commit()\n",
    "    db.refresh(db_item)\n",
    "    return db_item\n",
    "\n",
    "@app.get(\"/items/\", response_model=List[Item])\n",
    "def read_items(skip: int = 0, limit: int = 10, db: Session = Depends(data.get_db)):\n",
    "    \"\"\"\n",
    "    Retorna uma lista de itens do banco de dados.\n",
    "\n",
    "    Args:\n",
    "        skip (int, opcional): O número de itens a pular.\n",
    "        limit (int, opcional): O número máximo de itens a retornar.\n",
    "        db (Session, opcional): Uma sessão do banco de dados.\n",
    "\n",
    "    Returns:\n",
    "        List[Item]: Uma lista de itens.\n",
    "    \"\"\"\n",
    "    items = db.query(models.Item).offset(skip).limit(limit).all()\n",
    "    return items\n",
    "\n",
    "@app.get(\"/items/{item_id}\", response_model=Item)\n",
    "def read_item(item_id: int, db: Session = Depends(data.get_db)):\n",
    "    \"\"\"\n",
    "    Retorna um item específico do banco de dados.\n",
    "\n",
    "    Args:\n",
    "        item_id (int): O ID do item a ser retornado.\n",
    "        db (Session, opcional): Uma sessão do banco de dados.\n",
    "\n",
    "    Returns:\n",
    "        Item: O item especificado pelo ID.\n",
    "    \"\"\"\n",
    "    db_item = db.query(models.Item).filter(models.Item.id == item_id).first()\n",
    "    if db_item is None:\n",
    "        raise HTTPException(status_code=404, detail=\"Item not found\")\n",
    "    return db_item\n",
    "\n",
    "@app.put(\"/items/{item_id}\", response_model=Item)\n",
    "def update_item(item_id: int, item: ItemCreate, db: Session = Depends(data.get_db)):\n",
    "    \"\"\"\n",
    "    Atualiza um item no banco de dados.\n",
    "\n",
    "    Args:\n",
    "        item_id (int): O ID do item a ser atualizado.\n",
    "        item (ItemCreate): Os novos dados do item.\n",
    "        db (Session, opcional): Uma sessão do banco de dados.\n",
    "\n",
    "    Returns:\n",
    "        Item: O item atualizado.\n",
    "    \"\"\"\n",
    "    db_item = db.query(models.Item).filter(models.Item.id == item_id).first()\n",
    "    if db_item is None:\n",
    "        raise HTTPException(status_code=404, detail=\"Item not found\")\n",
    "    for key, value in item.dict().items():\n",
    "        setattr(db_item, key, value)\n",
    "    db.commit()\n",
    "    db.refresh(db_item)\n",
    "    return db_item\n",
    "\n",
    "@app.delete(\"/items/{item_id}\", response_model=Item)\n",
    "def delete_item(item_id: int, db: Session = Depends(data.get_db)):\n",
    "    \"\"\"\n",
    "    Deleta um item do banco de dados.\n",
    "\n",
    "    Args:\n",
    "        item_id (int): O ID do item a ser deletado.\n",
    "        db (Session, opcional): Uma sessão do banco de dados.\n",
    "\n",
    "    Returns:\n",
    "        Item: O item deletado.\n",
    "    \"\"\"\n",
    "    db_item = db.query(models.Item).filter(models.Item.id == item_id).first()\n",
    "    if db_item is None:\n",
    "        raise HTTPException(status_code=404, detail=\"Item not found\")\n",
    "    db.delete(db_item)\n",
    "    db.commit()\n",
    "    return db_item\n"
   ]
  },
  {
   "cell_type": "code",
   "execution_count": null,
   "id": "ecc47af7-cce0-49d2-9ede-f6dac4a12e50",
   "metadata": {},
   "outputs": [
    {
     "name": "stdout",
     "output_type": "stream",
     "text": [
      "\u001b[32mINFO\u001b[0m:     Will watch for changes in these directories: ['/home/jcnok/bootcamps/bootcamp-jornada-de-dados_2024/aula_19']\n",
      "\u001b[32mINFO\u001b[0m:     Uvicorn running on \u001b[1mhttp://127.0.0.1:8000\u001b[0m (Press CTRL+C to quit)\n",
      "\u001b[32mINFO\u001b[0m:     Started reloader process [\u001b[36m\u001b[1m54664\u001b[0m] using \u001b[36m\u001b[1mWatchFiles\u001b[0m\n",
      "\u001b[31mERROR\u001b[0m:    Error loading ASGI app. Could not import module \"main\".\n"
     ]
    }
   ],
   "source": [
    "!uvicorn main:app --reload"
   ]
  },
  {
   "cell_type": "code",
   "execution_count": 2,
   "id": "24816d2c-6399-47ad-ba11-5f46d60029f3",
   "metadata": {},
   "outputs": [],
   "source": [
    "!python src/main.py"
   ]
  },
  {
   "cell_type": "code",
   "execution_count": null,
   "id": "e799e7fb-dc16-4e7c-9961-9904e68b5f71",
   "metadata": {},
   "outputs": [],
   "source": []
  }
 ],
 "metadata": {
  "kernelspec": {
   "display_name": "Python 3 (ipykernel)",
   "language": "python",
   "name": "python3"
  },
  "language_info": {
   "codemirror_mode": {
    "name": "ipython",
    "version": 3
   },
   "file_extension": ".py",
   "mimetype": "text/x-python",
   "name": "python",
   "nbconvert_exporter": "python",
   "pygments_lexer": "ipython3",
   "version": "3.10.13"
  }
 },
 "nbformat": 4,
 "nbformat_minor": 5
}
