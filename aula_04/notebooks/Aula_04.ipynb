{
 "cells": [
  {
   "cell_type": "code",
   "execution_count": 1,
   "id": "ce7d914e-093f-4c5d-8375-8874a9e1f77f",
   "metadata": {},
   "outputs": [
    {
     "data": {
      "text/plain": [
       "['/home/jcnok/bootcamps/bootcamp-jornada-de-dados_2024/.venv/lib/python3.11/site-packages']"
      ]
     },
     "execution_count": 1,
     "metadata": {},
     "output_type": "execute_result"
    }
   ],
   "source": [
    "# conferindo o ambiente virtual\n",
    "import site \n",
    "site.getsitepackages()"
   ]
  },
  {
   "cell_type": "code",
   "execution_count": 5,
   "id": "80b6dc3a-55fa-49ab-9829-b7c38d191efb",
   "metadata": {},
   "outputs": [
    {
     "name": "stdout",
     "output_type": "stream",
     "text": [
      "Python 3.11.3\n"
     ]
    }
   ],
   "source": [
    "# conferindo a versão do python \n",
    "!python --version"
   ]
  },
  {
   "cell_type": "markdown",
   "id": "07bf7803-33ad-4bfe-ba4b-753bbff85699",
   "metadata": {},
   "source": [
    "# Aula 04 | Type hint, Tipos complexos (Dicionários vs DataFrames Vs Tabelas Vs Excel) e Funções"
   ]
  },
  {
   "cell_type": "markdown",
   "id": "2905163b-f57e-4db3-9d92-8c30314d75e6",
   "metadata": {},
   "source": [
    "## Resolução dos exercícios e desafio"
   ]
  },
  {
   "cell_type": "markdown",
   "id": "fa6d3e1d-4752-49fe-b6b2-43318e424e65",
   "metadata": {},
   "source": [
    "<a id=\"voltar\"></a>"
   ]
  },
  {
   "cell_type": "markdown",
   "id": "3cfb9e6e-ee3b-46d2-b35f-0e57c0e7d7ae",
   "metadata": {},
   "source": [
    "1. [Crie uma lista com os números de 1 a 10 e use um loop para imprimir cada número elevado ao quadrado.](#ancora01)\n",
    "2. [Dada a lista `[\"Python\", \"Java\", \"C++\", \"JavaScript\"]`, remova o item \"C++\" e adicione \"Ruby\".](#ancora02)\n",
    "3. [Crie um dicionário para armazenar informações de um livro, incluindo título, autor e ano de publicação. Imprima cada informação.](#ancora03)\n",
    "4. [Escreva um programa que conta o número de ocorrências de cada caractere em uma string usando um dicionário.](#ancora04)\n",
    "5. [Dada a lista `[\"maçã\", \"banana\", \"cereja\"]` e o dicionário `{\"maçã\": 0.45, \"banana\": 0.30, \"cereja\": 0.65}`, calcule o preço total da lista de compras.](#ancora05)\n",
    "6. [Eliminação de Duplicatas:](#ancora06)\n",
    "* **Objetivo:** Dada uma lista de emails, remover todos os duplicados.\n",
    "7. [Filtragem de Dados:](#ancora07)\n",
    "\n",
    "* **Objetivo:** Dada uma lista de idades, filtrar apenas aquelas que são maiores ou iguais a 18.\n",
    "8. [Ordenação Personalizada:](#ancora08)\n",
    "\n",
    "* **Objetivo:** Dada uma lista de dicionários representando pessoas, ordená-las pelo nome.\n",
    "9. [Agregação de Dados:](#ancora09)\n",
    "\n",
    "* **Objetivo:** Dado um conjunto de números, calcular a média.\n",
    "10. [Divisão de Dados em Grupos](#ancora10)\n",
    "\n",
    "* **Objetivo:** Dada uma lista de valores, dividir em duas listas: uma para valores pares e outra para ímpares.\n",
    "11. [Atualização de Dados](#ancora11)\n",
    "\n",
    "* **Objetivo:** Dada uma lista de dicionários representando produtos, atualizar o preço de um produto específico.\n",
    "12. [Fusão de Dicionários](#ancora12)\n",
    "\n",
    "* **Objetivo:** Dados dois dicionários, fundi-los em um único dicionário.\n",
    "13. [Filtragem de Dados em Dicionário](#ancora13)\n",
    "\n",
    "* **Objetivo:** Dado um dicionário de estoque de produtos, filtrar aqueles com quantidade maior que 0.\n",
    "14. [Extração de Chaves e Valores](#ancora14)\n",
    "\n",
    "* **Objetivo:** Dado um dicionário, criar listas separadas para suas chaves e valores.\n",
    "15. [Contagem de Frequência de Itens](#ancora15)\n",
    "\n",
    "* **Objetivo:** Dada uma string, contar a frequência de cada caractere usando um dicionário.\n",
    "16. [Escreva uma função que receba uma lista de números e retorne a soma de todos os números.](#ancora16)\n",
    "17. [Crie uma função que receba um número como argumento e retorne `True` se o número for primo e `False` caso contrário.](#ancora17)\n",
    "18. [Desenvolva uma função que receba uma string como argumento e retorne essa string revertida.](#ancora18)\n",
    "19. [Implemente uma função que receba dois argumentos: uma lista de números e um número. A função deve retornar todas as combinações de pares na lista que somem ao número dado.](#ancora19)\n",
    "20. [Escreva uma função que receba um dicionário e retorne uma lista de chaves ordenadas.](#ancora20)\n",
    "21. [Desafio será tipar o desafio da aula 03](#desafio)  \n"
   ]
  },
  {
   "cell_type": "markdown",
   "id": "514c37d9-ca74-425b-9d70-b7da97248d2f",
   "metadata": {},
   "source": [
    "<a id=\"ancora01\"></a>\n",
    "1. **Crie uma lista com os números de 1 a 10 e use um loop para imprimir cada número elevado ao quadrado.**"
   ]
  },
  {
   "cell_type": "code",
   "execution_count": 42,
   "id": "34e20923-3573-444c-ba56-fa738b9f05d8",
   "metadata": {},
   "outputs": [
    {
     "name": "stdout",
     "output_type": "stream",
     "text": [
      "1 elevado ao quadrado é: 1\n",
      "2 elevado ao quadrado é: 4\n",
      "3 elevado ao quadrado é: 9\n",
      "4 elevado ao quadrado é: 16\n",
      "5 elevado ao quadrado é: 25\n",
      "6 elevado ao quadrado é: 36\n",
      "7 elevado ao quadrado é: 49\n",
      "8 elevado ao quadrado é: 64\n",
      "9 elevado ao quadrado é: 81\n",
      "10 elevado ao quadrado é: 100\n"
     ]
    }
   ],
   "source": [
    "#1. [Crie uma lista com os números de 1 a 10 e use um loop para imprimir cada número elevado ao quadrado.]\n",
    "# Cria uma lista de números de 1 a 10\n",
    "numeros = list(range(1, 11))\n",
    "# Loop para imprimir cada número e seu quadrado\n",
    "for numero in numeros:\n",
    "    quadrado = numero ** 2\n",
    "    print(f\"{numero} elevado ao quadrado é: {quadrado}\")\n"
   ]
  },
  {
   "cell_type": "markdown",
   "id": "e463bc73-62a6-4b27-870d-15e8261d8900",
   "metadata": {},
   "source": [
    "<a id=\"ancora02\"></a>\n",
    " 2. **Dada a lista `[\"Python\", \"Java\", \"C++\", \"JavaScript\"]`, remova o item \"C++\" e adicione \"Ruby\"**"
   ]
  },
  {
   "cell_type": "code",
   "execution_count": 49,
   "id": "9bcadea5-7349-467e-bd39-eaa57d4e8499",
   "metadata": {},
   "outputs": [
    {
     "data": {
      "text/plain": [
       "['Python', 'Java', 'Ruby', 'JavaScript']"
      ]
     },
     "execution_count": 49,
     "metadata": {},
     "output_type": "execute_result"
    }
   ],
   "source": [
    "#2. Dada a lista [\"Python\", \"Java\", \"C++\", \"JavaScript\"], remova o item \"C++\" e adicione \"Ruby\"\n",
    "lista = [\"Python\", \"Java\", \"C++\", \"JavaScript\"]\n",
    "lista[2] = \"Ruby\"\n",
    "lista"
   ]
  },
  {
   "cell_type": "markdown",
   "id": "6b8c9d77-4cdf-48d9-8ef4-aa138a09e605",
   "metadata": {},
   "source": [
    "<a id=\"ancora03\"></a>\n",
    "3. **Crie um dicionário para armazenar informações de um livro, incluindo título, autor e ano de publicação. Imprima cada informação.**"
   ]
  },
  {
   "cell_type": "code",
   "execution_count": 51,
   "id": "bc6f3f6b-aacf-479a-9704-06f8dfbf805f",
   "metadata": {},
   "outputs": [
    {
     "name": "stdout",
     "output_type": "stream",
     "text": [
      "titulo: Inteligência Artificial\n",
      "autor: Kai-Fu Lee\n",
      "ano_publicacao: 2019\n"
     ]
    }
   ],
   "source": [
    "#3. Crie um dicionário para armazenar informações de um livro, incluindo título, autor e ano de publicação. Imprima cada informação.\n",
    "# Cria um dicionário com informações do livro\n",
    "livro = {\n",
    "    \"titulo\": \"Inteligência Artificial\",\n",
    "    \"autor\": \"Kai-Fu Lee\",\n",
    "    \"ano_publicacao\": 2019\n",
    "}\n",
    "\n",
    "# Imprime cada informação do livro\n",
    "for chave, valor in livro.items():\n",
    "    print(f\"{chave}: {valor}\")\n"
   ]
  },
  {
   "cell_type": "markdown",
   "id": "6c506f86-e7b6-491c-b606-8640d7b23ee1",
   "metadata": {},
   "source": [
    "<a id=\"ancora04\"></a>\n",
    "4. **Escreva um programa que conta o número de ocorrências de cada caractere em uma string usando um dicionário.**"
   ]
  },
  {
   "cell_type": "code",
   "execution_count": 218,
   "id": "bce1a46f-22df-4576-b925-8f1bc524f656",
   "metadata": {},
   "outputs": [
    {
     "name": "stdout",
     "output_type": "stream",
     "text": [
      "{'A': 1, ' ': 13, 'ú': 1, 'n': 2, 'i': 3, 'c': 2, 'a': 9, 'm': 4, 'e': 4, 'r': 4, 'd': 1, 'f': 2, 'z': 2, 'u': 2, 'ó': 1, 't': 2, 'o': 4, 'b': 1, 'l': 1, 'h': 1, 'é': 1, 'q': 1, 'v': 1, 'ê': 1, '.': 1}\n"
     ]
    }
   ],
   "source": [
    "# 4. Escreva um programa que conta o número de ocorrências de cada caractere em uma string usando um dicionário.\n",
    "string = \"A única maneira de fazer um ótimo trabalho é amar o que você faz.\"\n",
    "conta_caractere = {}\n",
    "for caractere in string:\n",
    "    if caractere in conta_caractere:\n",
    "        conta_caractere[caractere] +=1\n",
    "    else:\n",
    "        conta_caractere[caractere] = 1\n",
    "print(conta_caractere)\n",
    "    "
   ]
  },
  {
   "cell_type": "markdown",
   "id": "6367dc15-749e-4b32-b4a0-d3c1e17debb4",
   "metadata": {},
   "source": [
    "<a id=\"ancora05\"></a>\n",
    "5. **Dada a lista `[\"maçã\", \"banana\", \"cereja\"]` e o dicionário `{\"maçã\": 0.45, \"banana\": 0.30, \"cereja\": 0.65}`, calcule o preço total da lista de compras.**"
   ]
  },
  {
   "cell_type": "code",
   "execution_count": 89,
   "id": "f0d7cad0-622b-416c-9f7f-2b4f2084d358",
   "metadata": {},
   "outputs": [
    {
     "name": "stdout",
     "output_type": "stream",
     "text": [
      "produto: maçã          -------------- R$ 0.45\n",
      "produto: banana        -------------- R$ 0.30\n",
      "produto: cereja        -------------- R$ 0.65\n",
      "Total:   ---------------------------- R$ 1.40\n"
     ]
    }
   ],
   "source": [
    "#5. Dada a lista `[\"maçã\", \"banana\", \"cereja\"]` e o dicionário `{\"maçã\": 0.45, \"banana\": 0.30, \"cereja\": 0.65}`, calcule o preço total da lista de compras.\n",
    "lista_compras = [\"maçã\", \"banana\", \"cereja\"]\n",
    "preco_produto = {\"maçã\": 0.45, \"banana\": 0.30, \"cereja\": 0.65}\n",
    "total = 0\n",
    "for lista in lista_compras:\n",
    "    if lista in preco_produto:\n",
    "        total += preco_produto[lista]\n",
    "        print(f\"produto: {lista.ljust(10)}    -------------- R$ {preco_produto[lista]:.2f}\")\n",
    "    else:\n",
    "        print(f\"produto: {lista.ljust(10)}    -------------- em falta!\")\n",
    "\n",
    "print(f\"Total:   ---------------------------- R$ {total:.2f}\")"
   ]
  },
  {
   "cell_type": "markdown",
   "id": "72b45b55-d0d7-4581-968b-c497dcac9572",
   "metadata": {},
   "source": [
    "[voltar](#voltar)"
   ]
  },
  {
   "cell_type": "markdown",
   "id": "8dbfe46c-f6bc-4157-b779-91d5773fe624",
   "metadata": {},
   "source": [
    "<a id=\"ancora06\"></a>\n",
    "6. **Eliminação de Duplicatas:**\n",
    "* **Objetivo:** Dada uma lista de emails, remover todos os duplicados."
   ]
  },
  {
   "cell_type": "code",
   "execution_count": 101,
   "id": "b50bd02d-2c57-4d10-ba61-c5e2b9802069",
   "metadata": {},
   "outputs": [
    {
     "name": "stdout",
     "output_type": "stream",
     "text": [
      "==========Os emails duplicados foram removidos com sucesso!==========\n",
      "['joaosilva@email.com', 'anagomes@email.com', 'mariagomes@email.com', 'pedrodutra@email.com', 'carlosbarbosa@email.com', 'marialopes@email.com']\n"
     ]
    }
   ],
   "source": [
    "#6. Eliminação de Duplicatas: Dada uma lista de emails, remover todos os duplicados.\n",
    "emails = [\"joaosilva@email.com\", \"mariagomes@email.com\", \"pedrodutra@email.com\",\"joaosilva@email.com\",\n",
    "          \"marialopes@email.com\", \"carlosbarbosa@email.com\", \"anagomes@email.com\",\"carlosbarbosa@email.com\"]\n",
    "print(f\"{'='*10}Os emails duplicados foram removidos com sucesso!{'='*10}\\n{list(set(emails))}\")"
   ]
  },
  {
   "cell_type": "markdown",
   "id": "a9aa6e0d-535d-4d06-91db-22238afce697",
   "metadata": {},
   "source": [
    "<a id=\"ancora07\"></a>\n",
    "7. **Filtragem de Dados:**\n",
    "* **Objetivo:** Dada uma lista de idades, filtrar apenas aquelas que são maiores ou iguais a 18."
   ]
  },
  {
   "cell_type": "code",
   "execution_count": 114,
   "id": "c76d4074-dbc7-4054-8ba8-b8edf28591be",
   "metadata": {},
   "outputs": [
    {
     "name": "stdout",
     "output_type": "stream",
     "text": [
      "Idades maiores ou iguais a 18:[20, 45, 18]\n"
     ]
    }
   ],
   "source": [
    "# 7. Filtragem de Dados: Dada uma lista de idades, filtrar apenas aquelas que são maiores ou iguais a 18.\n",
    "idades = [10, 20, 45, 18, 12, 16, 5]\n",
    "resultado = [x for x in idades if x >= 18]\n",
    "# outra forma list(filter(lambda x: x >= 18, idades))\n",
    "print(f\"Idades maiores ou iguais a 18:{resultado}\")"
   ]
  },
  {
   "cell_type": "markdown",
   "id": "8ba307af-0f2d-4de3-a30f-ee25edfbd5aa",
   "metadata": {},
   "source": [
    "<a id=\"ancora08\"></a>\n",
    "8. **Ordenação Personalizada:**\n",
    "* **Objetivo:** Dada uma lista de dicionários representando pessoas, ordená-las pelo nome."
   ]
  },
  {
   "cell_type": "code",
   "execution_count": 128,
   "id": "e41b2bc1-34e1-49a0-aca9-f9fb33895a72",
   "metadata": {},
   "outputs": [
    {
     "name": "stdout",
     "output_type": "stream",
     "text": [
      "lista ordenada por nome:[{'nome': 'Ana', 'idade': 25}, {'nome': 'Julio', 'idade': 28}, {'nome': 'Maria', 'idade': 22}, {'nome': 'Pedro', 'idade': 30}]\n"
     ]
    }
   ],
   "source": [
    "# 8. Ordenação Personalizada: Dada uma lista de dicionários representando pessoas, ordená-las pelo nome.\n",
    "\n",
    "pessoas =[\n",
    "  {\"nome\": \"Ana\", \"idade\": 25},\n",
    "  {\"nome\": \"Pedro\", \"idade\": 30},\n",
    "  {\"nome\": \"Maria\", \"idade\": 22},\n",
    "  {\"nome\": \"Julio\", \"idade\": 28},\n",
    "]\n",
    "\n",
    "pessoas_ordenadas = list(sorted(pessoas, key=lambda pessoa: pessoa[\"nome\"]))\n",
    "print(f\"lista ordenada por nome:{pessoas_ordenadas}\")"
   ]
  },
  {
   "cell_type": "markdown",
   "id": "a85522e0-f503-4c95-9fc6-4d02b6e10cdf",
   "metadata": {},
   "source": [
    "<a id=\"ancora09\"></a>\n",
    "9. Agregação de Dados:\n",
    "* **Objetivo:** Dado um conjunto de números, calcular a média."
   ]
  },
  {
   "cell_type": "code",
   "execution_count": 133,
   "id": "5cb84e84-744b-41f7-ad29-4c389b8ae118",
   "metadata": {},
   "outputs": [
    {
     "name": "stdout",
     "output_type": "stream",
     "text": [
      "Média = 6.4\n"
     ]
    }
   ],
   "source": [
    "# 9. Agregação de Dados: Dado um conjunto de números, calcular a média.\n",
    "\n",
    "conjunto = [6, 7, 8, 6, 5]\n",
    "media = sum(conjunto)/len(conjunto)\n",
    "print(f\"Média = {media}\")"
   ]
  },
  {
   "cell_type": "markdown",
   "id": "e4dcb263-a42b-4bed-9034-a85092a0f09b",
   "metadata": {},
   "source": [
    "<a id=\"ancora10\"></a>\n",
    "10. Divisão de Dados em Grupos\n",
    "\n",
    "* **Objetivo:** Dada uma lista de valores, dividir em duas listas: uma para valores pares e outra para ímpares."
   ]
  },
  {
   "cell_type": "code",
   "execution_count": 136,
   "id": "4f61eb15-394a-4f0a-ae7b-cda9535ae796",
   "metadata": {},
   "outputs": [
    {
     "name": "stdout",
     "output_type": "stream",
     "text": [
      "lista de pares = [2, 8, 36] \n",
      "\n",
      "lista de ímpares = [1, 3, 5, 9, 15]\n"
     ]
    }
   ],
   "source": [
    "# 10. Divisão de Dados em Grupos: Dada uma lista de valores, dividir em duas listas: uma para valores pares e outra para ímpares.\n",
    "lista = [ 1, 2, 3, 5, 9, 8 , 15, 36]\n",
    "lista_pares = []\n",
    "lista_impares = []\n",
    "for i in lista:\n",
    "    if i % 2 == 0:\n",
    "        lista_pares.append(i)\n",
    "    else:\n",
    "        lista_impares.append(i)\n",
    "print(f\"lista de pares = {lista_pares} \\n\")\n",
    "print(f\"lista de ímpares = {lista_impares}\")"
   ]
  },
  {
   "cell_type": "markdown",
   "id": "c932f2f2-354e-4e6e-b9cf-83531abcdcda",
   "metadata": {},
   "source": [
    "[voltar](#voltar)"
   ]
  },
  {
   "cell_type": "markdown",
   "id": "063723ee-4c9c-45cd-83dc-f03dd460a922",
   "metadata": {},
   "source": [
    "<a id=\"ancora11\"></a>\n",
    "11. Atualização de Dados\n",
    "\n",
    "* **Objetivo:** Dada uma lista de dicionários representando produtos, atualizar o preço de um produto específico."
   ]
  },
  {
   "cell_type": "code",
   "execution_count": 166,
   "id": "c0c49000-5139-4bde-9889-db1ffe0c9ebb",
   "metadata": {},
   "outputs": [
    {
     "name": "stdout",
     "output_type": "stream",
     "text": [
      "produto Camiseta foi atualizado para: R$ 60.00\n"
     ]
    }
   ],
   "source": [
    "# 11. Atualização de Dados:Dada uma lista de dicionários representando produtos, atualizar o preço de um produto específico.\n",
    "produtos = [\n",
    "  {\"nome\": \"Camiseta\",\"preco\": 50.00},\n",
    "  {\"nome\": \"Calça Jeans\",\"preco\": 100.00},\n",
    "  {\"nome\": \"Tênis\", \"preco\": 150.00},\n",
    "  {\"nome\": \"Casaco\", \"preco\": 200.00},\n",
    "  {\"nome\": \"Vestido\", \"preco\": 250.00},\n",
    "]\n",
    "\n",
    "nome_produto = 'Camiseta'\n",
    "novo_preco = 60.00\n",
    "for produto in produtos:\n",
    "    if (produto['nome'] == nome_produto):\n",
    "        produto['preco'] = novo_preco\n",
    "        print(f\"produto {produto['nome']} foi atualizado para: R$ {produto['preco']:.2f}\")"
   ]
  },
  {
   "cell_type": "markdown",
   "id": "42185620-ca5f-4588-8741-2e6c4b15f4f2",
   "metadata": {},
   "source": [
    "<a id=\"ancora12\"></a>\n",
    "12. Fusão de Dicionários\n",
    "\n",
    "* **Objetivo:** Dado dois dicionários, fundi-los em um único dicionário."
   ]
  },
  {
   "cell_type": "code",
   "execution_count": 174,
   "id": "98de20fb-d9cd-4128-a49d-1b3f385654d3",
   "metadata": {},
   "outputs": [
    {
     "name": "stdout",
     "output_type": "stream",
     "text": [
      "{'a': 1, 'b': 2, 'c': 3, 'd': 4}\n"
     ]
    }
   ],
   "source": [
    "# 12. Fusão de Dicionários: Dado dois dicionários, fundi-los em um único dicionário.\n",
    "dicionario1 = {\"a\": 1, \"b\": 2}\n",
    "dicionario2 = {\"c\": 3, \"d\": 4}\n",
    "# outra forma de fazer: dict = dicionario1 | dicionario2\n",
    "dicionario1.update(dicionario2)\n",
    "print(dicionario1)"
   ]
  },
  {
   "cell_type": "markdown",
   "id": "d92667d5-5e01-4f1c-9e27-5e671d277b61",
   "metadata": {},
   "source": [
    "<a id=\"ancora13\"></a>\n",
    "13. Filtragem de Dados em Dicionário\n",
    "\n",
    "* **Objetivo:** Dado um dicionário de estoque de produtos, filtrar aqueles com quantidade maior que 0."
   ]
  },
  {
   "cell_type": "code",
   "execution_count": 200,
   "id": "cded7719-206b-467c-8d07-e1e331700575",
   "metadata": {},
   "outputs": [
    {
     "name": "stdout",
     "output_type": "stream",
     "text": [
      "Produto:produto1 em estoque:10\n",
      "Produto:produto3 em estoque:5\n"
     ]
    }
   ],
   "source": [
    "# 13. Filtragem de Dados em Dicionário: Dado um dicionário de estoque de produtos, filtrar aqueles com quantidade maior que 0.\n",
    "estoque = {\n",
    "  \"produto1\": {\"quantidade\": 10},\n",
    "  \"produto2\": {\"quantidade\": 0},\n",
    "  \"produto3\": {\"quantidade\": 5},\n",
    "}\n",
    "for produto in estoque:\n",
    "    if (estoque[produto]['quantidade']) > 0:\n",
    "        print(f\"Produto:{produto} em estoque:{estoque[produto]['quantidade']}\")  \n"
   ]
  },
  {
   "cell_type": "markdown",
   "id": "3be028c0-bfc6-4b89-b9a3-820bbfc011d3",
   "metadata": {},
   "source": [
    "<a id=\"ancora14\"></a>\n",
    "14. Extração de Chaves e Valores\n",
    "\n",
    "* **Objetivo:** Dado um dicionário, criar listas separadas para suas chaves e valores."
   ]
  },
  {
   "cell_type": "code",
   "execution_count": 213,
   "id": "c8c207a9-116e-4145-bada-ea0d0b0f5357",
   "metadata": {},
   "outputs": [
    {
     "name": "stdout",
     "output_type": "stream",
     "text": [
      "chave:['produto1', 'produto2', 'produto3']\n",
      "valor:[10, 0, 5]\n"
     ]
    }
   ],
   "source": [
    "# 14. Extração de Chaves e Valores: Dado um dicionário, criar listas separadas para suas chaves e valores.\n",
    "estoque = {\n",
    "  \"produto1\": 10,\n",
    "  \"produto2\": 0,\n",
    "  \"produto3\": 5,\n",
    "}\n",
    "lista_chave = list(estoque.keys())\n",
    "lista_valor = list(estoque.values())\n",
    "print(f\"chave:{lista_chave}\")\n",
    "print(f\"valor:{lista_valor}\")"
   ]
  },
  {
   "cell_type": "markdown",
   "id": "e852d40b-bcce-44c0-8ae7-0f8ef46f86f1",
   "metadata": {},
   "source": [
    "<a id=\"ancora15\"></a>\n",
    "15. Contagem de Frequência de Itens\n",
    "\n",
    "* **Objetivo:** Dada uma string, contar a frequência de cada caractere usando um dicionário."
   ]
  },
  {
   "cell_type": "code",
   "execution_count": 217,
   "id": "d495b84f-fcd6-467d-a876-98065716cf47",
   "metadata": {},
   "outputs": [
    {
     "name": "stdout",
     "output_type": "stream",
     "text": [
      "{'A': 1, ' ': 13, 'ú': 1, 'n': 2, 'i': 3, 'c': 2, 'a': 9, 'm': 4, 'e': 4, 'r': 4, 'd': 1, 'f': 2, 'z': 2, 'u': 2, 'ó': 1, 't': 2, 'o': 4, 'b': 1, 'l': 1, 'h': 1, 'é': 1, 'q': 1, 'v': 1, 'ê': 1, '.': 1}\n"
     ]
    }
   ],
   "source": [
    "# 15. Contagem de Frequência de Itens: Dada uma string, contar a frequência de cada caractere usando um dicionário.\n",
    "string = \"A única maneira de fazer um ótimo trabalho é amar o que você faz.\"\n",
    "conta_caractere = {}\n",
    "for caractere in string:\n",
    "    if caractere in conta_caractere:\n",
    "        conta_caractere[caractere] +=1\n",
    "    else:\n",
    "        conta_caractere[caractere] = 1\n",
    "print(conta_caractere)"
   ]
  },
  {
   "cell_type": "markdown",
   "id": "15210972-e93e-459f-9457-3a6b3c60f8c3",
   "metadata": {},
   "source": [
    "[voltar](#voltar)"
   ]
  },
  {
   "cell_type": "markdown",
   "id": "c12c5c9a-be9c-4a96-b609-b460ad4e7c82",
   "metadata": {},
   "source": [
    "<a id=\"ancora16\"></a>\n",
    "16. Escreva uma função que receba uma lista de números e retorne a soma de todos os números."
   ]
  },
  {
   "cell_type": "code",
   "execution_count": 220,
   "id": "572278b2-0b8f-4435-8daa-ba2e1d4d9025",
   "metadata": {},
   "outputs": [
    {
     "data": {
      "text/plain": [
       "142"
      ]
     },
     "execution_count": 220,
     "metadata": {},
     "output_type": "execute_result"
    }
   ],
   "source": [
    "# 16. Escreva uma função que receba uma lista de números e retorne a soma de todos os números.\n",
    "def soma_lista_de_numeros(lista):\n",
    "    return sum(lista)\n",
    "    \n",
    "lista_numeros = [2, 5, 6, 8, 34, 87]\n",
    "soma_lista_de_numeros(lista_numeros)"
   ]
  },
  {
   "cell_type": "markdown",
   "id": "eb75998d-74ba-4a47-b732-01706f7607ea",
   "metadata": {},
   "source": [
    "<a id=\"ancora17\"></a>\n",
    "17.Crie uma função que receba um número como argumento e retorne `True` se o número for primo e `False` caso contrário."
   ]
  },
  {
   "cell_type": "code",
   "execution_count": 226,
   "id": "b7c65a8d-43c2-4454-9a31-577fad309f76",
   "metadata": {},
   "outputs": [
    {
     "name": "stdin",
     "output_type": "stream",
     "text": [
      "Digite um número:  143\n"
     ]
    },
    {
     "name": "stdout",
     "output_type": "stream",
     "text": [
      "O número 143 não é primo.\n"
     ]
    }
   ],
   "source": [
    "# 17.Crie uma função que receba um número como argumento e retorne `True` se o número for primo e `False` caso contrário. \n",
    "# algoritmo de Sieve of Eratosthenes\n",
    "def num_primo(num):\n",
    "    if num <= 1: \n",
    "        return False \n",
    "    elif num <= 3:\n",
    "        return True\n",
    "    elif (num % 2 == 0) or (num % 3 == 0):\n",
    "        return False\n",
    "    i = 5\n",
    "    while i * i <= numero:\n",
    "        if numero % i == 0 or numero % (i + 2) == 0:\n",
    "          return False\n",
    "        i += 6\n",
    "    return True\n",
    "    \n",
    "numero = int(input(\"Digite um número: \"))\n",
    "\n",
    "if num_primo(numero):\n",
    "  print(f\"O número {numero} é primo.\")\n",
    "else:\n",
    "  print(f\"O número {numero} não é primo.\")\n",
    "    "
   ]
  },
  {
   "cell_type": "markdown",
   "id": "ec171ba5-ba2b-429c-8499-ba7a528f7a6d",
   "metadata": {},
   "source": [
    "<a id=\"ancora18\"></a>\n",
    "18. Desenvolva uma função que receba uma string como argumento e retorne essa string revertida."
   ]
  },
  {
   "cell_type": "code",
   "execution_count": 244,
   "id": "fac795b3-d0a5-4080-8531-33525c2e5e94",
   "metadata": {},
   "outputs": [
    {
     "name": "stdin",
     "output_type": "stream",
     "text": [
      "insira um texto: reverta o texto digitado\n"
     ]
    },
    {
     "name": "stdout",
     "output_type": "stream",
     "text": [
      "O texto revertido é: odatigid otxet o atrever\n"
     ]
    }
   ],
   "source": [
    "# 18. Desenvolva uma função que receba uma string como argumento e retorne essa string revertida.\n",
    "def inverte_texto(texto: str) -> str:\n",
    "    return texto[::-1]\n",
    "texto = input(\"insira um texto:\")\n",
    "print(f\"O texto revertido é: {inverte_texto(texto)}\")  "
   ]
  },
  {
   "cell_type": "markdown",
   "id": "ce81367c-afc3-4e10-8af4-b4cb73963b0a",
   "metadata": {},
   "source": [
    "<a id=\"ancora19\"></a>\n",
    "19. Implemente uma função que receba dois argumentos: uma lista de números e um número. A função deve retornar todas as combinações de pares na lista que somem ao número dado."
   ]
  },
  {
   "cell_type": "code",
   "execution_count": 264,
   "id": "105cec5c-f00c-491a-8b4a-61830eb1d584",
   "metadata": {},
   "outputs": [
    {
     "name": "stdout",
     "output_type": "stream",
     "text": [
      "Pares que somam 10: [(1, 9), (2, 8), (3, 7), (4, 6)]\n"
     ]
    }
   ],
   "source": [
    "#19. Implemente uma função que receba dois argumentos: uma lista de números e um número. A função deve retornar todas as combinações de pares na lista que somem ao número dado.\n",
    "def encontrar_pares(lista, numero):\n",
    "  \"\"\"\n",
    "  Encontra todas as combinações de pares em uma lista que somam um número dado.\n",
    "\n",
    "  Argumentos:\n",
    "    lista: A lista de números a ser pesquisada.\n",
    "    numero: O número que a soma dos pares deve ser igual.\n",
    "\n",
    "  Retorno:\n",
    "    Uma lista de pares que somam o número dado.\n",
    "  \"\"\"\n",
    "  pares = []\n",
    "  for i in range(len(lista)):\n",
    "    for j in range(i + 1, len(lista)):\n",
    "      if lista[i] + lista[j] == numero:\n",
    "        pares.append((lista[i], lista[j]))\n",
    "\n",
    "  return pares\n",
    "\n",
    "lista = [1, 2, 3, 4, 5, 6, 7, 8, 9, 10]\n",
    "numero = 10\n",
    "\n",
    "pares = encontrar_pares(lista, numero)\n",
    "\n",
    "print(f\"Pares que somam {numero}: {pares}\")\n"
   ]
  },
  {
   "cell_type": "markdown",
   "id": "8c85b25b-1c73-4a6a-b531-3445a1f540e1",
   "metadata": {},
   "source": [
    "<a id=\"ancora20\"></a>\n",
    "20. Escreva uma função que receba um dicionário e retorne uma lista de chaves ordenadas."
   ]
  },
  {
   "cell_type": "code",
   "execution_count": 267,
   "id": "601f858f-46f7-4432-a51b-4e531dec4b7b",
   "metadata": {},
   "outputs": [
    {
     "name": "stdout",
     "output_type": "stream",
     "text": [
      "Chaves ordenadas: ['a', 'b', 'c', 'd', 'e']\n"
     ]
    }
   ],
   "source": [
    "# 20. Escreva uma função que receba um dicionário e retorne uma lista de chaves ordenadas.\n",
    "def obter_chaves_ordenadas(dicionario):\n",
    "  \"\"\"\n",
    "  Retorna uma lista de chaves ordenadas de um dicionário.\n",
    "\n",
    "  Argumentos:\n",
    "    dicionario: O dicionário a ser usado.\n",
    "\n",
    "  Retorno:\n",
    "    Uma lista de chaves ordenadas.\n",
    "  \"\"\"\n",
    "  chaves = list(dicionario.keys())\n",
    "  chaves.sort()\n",
    "  return chaves\n",
    "\n",
    "dicionario = {\"b\": 6, \"d\": 2, \"a\": 3, \"e\": 4, \"c\": 5}\n",
    "\n",
    "chaves_ordenadas = obter_chaves_ordenadas(dicionario)\n",
    "\n",
    "print(f\"Chaves ordenadas: {chaves_ordenadas}\")\n"
   ]
  },
  {
   "cell_type": "markdown",
   "id": "7beab587-6dfd-4822-b3cb-835a7ed37fc3",
   "metadata": {},
   "source": [
    "[voltar](#voltar)"
   ]
  },
  {
   "cell_type": "markdown",
   "id": "2c423065-f777-43c9-90c3-2b7bc09f0ad3",
   "metadata": {},
   "source": [
    "<a id=\"desafio\"></a>\n",
    "21.Desafio será tipar o desafio da aula 03"
   ]
  },
  {
   "cell_type": "code",
   "execution_count": 271,
   "id": "26c9d5f4-2969-4ee4-bf90-c33416879260",
   "metadata": {},
   "outputs": [
    {
     "name": "stdin",
     "output_type": "stream",
     "text": [
      "Digite seu nome:  Julio Okuda\n",
      "Digite o valor do seu salário:  10000\n",
      "Digite o percentual do bônus recebido:  1.5\n"
     ]
    },
    {
     "name": "stdout",
     "output_type": "stream",
     "text": [
      "Julio Okuda, considerando seu salário de R$10000.00 o total com bônus é de R$16000.00.\n"
     ]
    }
   ],
   "source": [
    "# 21.Desafio será tipar o desafio da aula 03 \n",
    "from typing import Dict\n",
    "\n",
    "def solicitar_dados_usuario() -> Dict[str, float]:\n",
    "    \"\"\"\n",
    "    Solicita ao usuário que insira seu nome, salário e percentual de bônus.\n",
    "    \n",
    "    Returns:\n",
    "        Dict[str, float]: Um dicionário contendo o nome, salário e bônus recebido.\n",
    "    \"\"\"\n",
    "    while True:\n",
    "        try:\n",
    "            nome = input(\"Digite seu nome: \").strip()\n",
    "            if not nome:\n",
    "                raise ValueError(\"O nome não pode estar vazio.\")\n",
    "            elif any(char.isdigit() for char in nome):\n",
    "                raise ValueError(\"O nome não deve conter números.\")\n",
    "            \n",
    "            salario = float(input(\"Digite o valor do seu salário: \"))\n",
    "            if salario <= 0:\n",
    "                print(\"Por favor, digite um valor positivo para o salário.\")\n",
    "                raise ValueError\n",
    "            \n",
    "            bonus_recebido = float(input(\"Digite o percentual do bônus recebido: \"))\n",
    "            if bonus_recebido < 0:\n",
    "                print(\"Por favor, digite um valor positivo para o bônus.\")\n",
    "                raise ValueError\n",
    "            \n",
    "            return {'nome': nome, 'salario': salario, 'bonus_recebido': bonus_recebido}\n",
    "        \n",
    "        except ValueError as e:\n",
    "            print(\"Erro:\", e)\n",
    "\n",
    "def calcular_kpi(dados: Dict[str, float]) -> float:\n",
    "    \"\"\"\n",
    "    Calcula o indicador de desempenho (KPI) com base nos dados fornecidos.\n",
    "\n",
    "    Args:\n",
    "        dados (Dict[str, float]): Um dicionário contendo o nome, salário e bônus recebido.\n",
    "\n",
    "    Returns:\n",
    "        float: O valor do KPI calculado.\n",
    "    \"\"\"\n",
    "    return 1000 + dados['salario'] * dados['bonus_recebido']\n",
    "\n",
    "def imprimir_informacoes(dados: Dict[str, float], kpi: float) -> None:\n",
    "    \"\"\"\n",
    "    Imprime as informações do usuário e o valor do KPI.\n",
    "\n",
    "    Args:\n",
    "        dados (Dict[str, float]): Um dicionário contendo o nome, salário e bônus recebido.\n",
    "        kpi (float): O valor do indicador de desempenho (KPI).\n",
    "    \"\"\"\n",
    "    print(f\"{dados['nome']}, considerando seu salário de R${dados['salario']:.2f}, o total com bônus é de R${kpi:.2f}.\")\n",
    "\n",
    "def main() -> None:\n",
    "    \"\"\"\n",
    "    Função principal do programa.\n",
    "    \"\"\"\n",
    "    while True:\n",
    "        try:\n",
    "            dados_usuario = solicitar_dados_usuario()\n",
    "            kpi = calcular_kpi(dados_usuario)\n",
    "            imprimir_informacoes(dados_usuario, kpi)\n",
    "            break\n",
    "        except Exception as e:\n",
    "            print(\"Ocorreu um erro:\", e)\n",
    "\n",
    "if __name__ == \"__main__\":\n",
    "    main()\n"
   ]
  },
  {
   "cell_type": "markdown",
   "id": "8996038d-0d27-4bb0-bd95-199ff01b67a2",
   "metadata": {},
   "source": [
    "[voltar](#voltar)"
   ]
  },
  {
   "cell_type": "code",
   "execution_count": null,
   "id": "9faa3194-6a6d-4e0d-b260-831b994de4d9",
   "metadata": {},
   "outputs": [],
   "source": []
  }
 ],
 "metadata": {
  "kernelspec": {
   "display_name": "bootcamp_jd24",
   "language": "python",
   "name": "bootcamp_jd24"
  },
  "language_info": {
   "codemirror_mode": {
    "name": "ipython",
    "version": 3
   },
   "file_extension": ".py",
   "mimetype": "text/x-python",
   "name": "python",
   "nbconvert_exporter": "python",
   "pygments_lexer": "ipython3",
   "version": "3.11.3"
  }
 },
 "nbformat": 4,
 "nbformat_minor": 5
}
