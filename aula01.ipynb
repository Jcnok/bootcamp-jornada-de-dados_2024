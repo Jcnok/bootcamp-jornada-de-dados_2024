{
 "cells": [
  {
   "cell_type": "code",
   "execution_count": 1,
   "id": "9bf61658-1986-4cb9-9d18-834a9c84bdf3",
   "metadata": {},
   "outputs": [
    {
     "name": "stdout",
     "output_type": "stream",
     "text": [
      "Python 3.11.3\n"
     ]
    }
   ],
   "source": [
    "!python --version"
   ]
  },
  {
   "cell_type": "markdown",
   "id": "60e2d01b-e198-437f-9375-c3b7cb98ceab",
   "metadata": {},
   "source": [
    "##  Cálculo de Bônus com Entrada do Usuário"
   ]
  },
  {
   "cell_type": "markdown",
   "id": "70283e9e-d6f9-45d1-892c-699279d8e382",
   "metadata": {},
   "source": [
    "### Escreva um programa em Python que solicita ao usuário para digitar seu nome, o valor do seu salário mensal e o valor do bônus que recebeu. O programa deve, então, imprimir uma mensagem saudando o usuário pelo nome e informando o valor do salário em comparação com o bônus recebido."
   ]
  },
  {
   "cell_type": "markdown",
   "id": "d30444ab-3836-4827-97ef-bfe0b848c5cc",
   "metadata": {},
   "source": [
    "![imagem](aula_01/img/pic.png)"
   ]
  },
  {
   "cell_type": "markdown",
   "id": "0d7d1b6c-3b69-42d5-8780-7152da65af78",
   "metadata": {},
   "source": [
    "![imagem](aula_01/img/pic2.png)"
   ]
  },
  {
   "cell_type": "code",
   "execution_count": 13,
   "id": "f089a743-2bd3-45d1-b64a-0ead9ac5614a",
   "metadata": {},
   "outputs": [
    {
     "name": "stdin",
     "output_type": "stream",
     "text": [
      "Digite seu Nome: Julio Okuda\n",
      "Digite o valor do salario mensal: 5000\n",
      "Digite o valor do seu Bônus: 1.5\n"
     ]
    },
    {
     "name": "stdout",
     "output_type": "stream",
     "text": [
      "O cálculo do bônus: 1000 + salario + bonus = R$ 8,500.00.\n",
      "\n",
      "Olá Julio Okuda, considerando seu salário de: R$ 5,000.00, o total com bônus é de R$ 8,500.00.\n",
      "\n"
     ]
    }
   ],
   "source": [
    "# 1) Solicita ao usuário que digite seu nome\n",
    "nome = str(input(\"Digite seu Nome:\"))\n",
    "# 2) Solicita ao usuário que digite o valor do seu salário\n",
    "# Converte a entrada para um número de ponto flutuante\n",
    "salary = float(input(\"Digite o valor do salario mensal:\"))\n",
    "# 3) Solicita ao usuário que digite o valor do bônus recebido\n",
    "# Converte a entrada para um número de ponto flutuante\n",
    "bonus = float(input(\"Digite o valor do seu Bônus:\"))\n",
    "# 4) Calcule o valor do bônus final\n",
    "kpi_bonus = 1000 + salary * bonus\n",
    "# 5) Imprima cálculo do KPI para o usuário\n",
    "print(f\"O cálculo do bônus: 1000 + salario + bonus = R$ {kpi_bonus:,.2f}.\\n\")\n",
    "# 6) Imprime a mensagem personalizada incluindo o nome do usuário, salário e bônus\n",
    "print(f\"Olá {nome}, considerando seu salário de: R$ {salary:,.2f}, o total com bônus é de R$ {kpi_bonus:,.2f}.\\n\")\n",
    "# Bônus: Quantos bugs e riscos você consegue identificar nesse programa?\n",
    "'''\n",
    "1. Não existe nenhuma excecão para incluir qualquer valor na variável nome.\n",
    "2. Salário e Bônus aceitam valores negativos.\n",
    "3. Bug detectado ao inserir um valor tipo string nos campos salário e bônus.\n",
    "'''"
   ]
  },
  {
   "cell_type": "markdown",
   "id": "4f979689-d1eb-476e-856e-6a50358e2551",
   "metadata": {},
   "source": [
    "### Bônus: Quantos bugs e riscos você consegue identificar nesse programa?"
   ]
  },
  {
   "cell_type": "markdown",
   "id": "6eecd9a1-4218-4d35-9e55-3f3b8b98cf74",
   "metadata": {},
   "source": [
    "#### Criando uma função para facilitar as verificações."
   ]
  },
  {
   "cell_type": "code",
   "execution_count": 14,
   "id": "52aa3107-118a-4266-908e-e963ea94eec7",
   "metadata": {},
   "outputs": [],
   "source": [
    "def calcula_kpi_bonus():\n",
    "    # 1) Solicita ao usuário que digite seu nome\n",
    "    nome = str(input(\"Digite seu Nome:\"))\n",
    "    # 2) Solicita ao usuário que digite o valor do seu salário\n",
    "    # Converte a entrada para um número de ponto flutuante\n",
    "    salary = float(input(\"Digite o valor do salario mensal:\"))\n",
    "    # 3) Solicita ao usuário que digite o valor do bônus recebido\n",
    "    # Converte a entrada para um número de ponto flutuante\n",
    "    bonus = float(input(\"Digite o valor do seu Bônus:\"))\n",
    "    # 4) Calcule o valor do bônus final\n",
    "    kpi_bonus = 1000 + salary * bonus\n",
    "    # 5) Imprima cálculo do KPI para o usuário\n",
    "    msg_kpi = print(f\"O cálculo do bônus: 1000 + salario + bonus = R$ {kpi_bonus:,.2f}.\\n\")\n",
    "    # 6) Imprime a mensagem personalizada incluindo o nome do usuário, salário e bônus\n",
    "    msg= print(f\"Olá {nome}, considerando seu salário de: R$ {salary:,.2f}, o total com bônus é de R$ {kpi_bonus:,.2f}.\\n\")\n",
    "    return msg_kpi, msg"
   ]
  },
  {
   "cell_type": "markdown",
   "id": "d26b70a5-b6a3-43e6-83c8-f5668a7aa7ec",
   "metadata": {},
   "source": [
    "#### Realizando alguns testes para encontrar possíveis falhas:"
   ]
  },
  {
   "cell_type": "code",
   "execution_count": 30,
   "id": "62401101-6993-40de-bce1-b00a0741b954",
   "metadata": {},
   "outputs": [
    {
     "name": "stdin",
     "output_type": "stream",
     "text": [
      "Digite 'sair' para terminar os testes ou tecle enter para continuar:  \n",
      "Digite seu Nome: Julio\n",
      "Digite o valor do salario mensal: \n",
      "Digite 'sair' para terminar os testes ou tecle enter para continuar:  \n",
      "Digite seu Nome: Julio\n",
      "Digite o valor do salario mensal: .\n",
      "Digite 'sair' para terminar os testes ou tecle enter para continuar:  \n",
      "Digite seu Nome: \n",
      "Digite o valor do salario mensal: -100\n",
      "Digite o valor do seu Bônus: -1.5\n"
     ]
    },
    {
     "name": "stdout",
     "output_type": "stream",
     "text": [
      "O cálculo do bônus: 1000 + salario + bonus = R$ 1,150.00.\n",
      "\n",
      "Olá , considerando seu salário de: R$ -100.00, o total com bônus é de R$ 1,150.00.\n",
      "\n"
     ]
    },
    {
     "name": "stdin",
     "output_type": "stream",
     "text": [
      "Digite 'sair' para terminar os testes ou tecle enter para continuar:  Julio\n",
      "Digite seu Nome: Julio\n",
      "Digite o valor do salario mensal: 10000\n",
      "Digite o valor do seu Bônus: .\n",
      "Digite 'sair' para terminar os testes ou tecle enter para continuar:  sair\n"
     ]
    },
    {
     "name": "stdout",
     "output_type": "stream",
     "text": [
      "Total de bugs encontrados: 3\n",
      "erros encontrados: [ValueError(\"could not convert string to float: ''\"), ValueError(\"could not convert string to float: '.'\"), ValueError(\"could not convert string to float: '.'\")]\n"
     ]
    }
   ],
   "source": [
    "count_error = 0\n",
    "erro = []\n",
    "while True:\n",
    "    sair = input(\"Digite 'sair' para terminar os testes ou tecle enter para continuar: \")\n",
    "    if sair.lower() == 'sair':\n",
    "            break\n",
    "    try:\n",
    "        calcula_kpi_bonus()\n",
    "    except Exception as e:\n",
    "        erro.append(e)\n",
    "        count_error +=1\n",
    "        continue\n",
    "print(f\"Total de bugs encontrados: {count_error}\")\n",
    "print(f\"erros encontrados: {erro}\")\n",
    "        "
   ]
  },
  {
   "cell_type": "markdown",
   "id": "6ce1ee10-202e-4234-abe7-5e060d4b241c",
   "metadata": {},
   "source": [
    "### Alguns erros encontrados:\n",
    "* **Não existe nenhuma excecão para incluir qualquer valor na variável nome.**\n",
    "* **Salário e Bônus aceitam valores negativos.**\n",
    "* **Bug detectado ao inserir um valor tipo string nos campos salário e bônus.**\n",
    "    "
   ]
  },
  {
   "cell_type": "markdown",
   "id": "14aff929-d357-44c0-88f8-27246f6ab95a",
   "metadata": {},
   "source": [
    "#### 6) Salve esse script python como kpi.py"
   ]
  },
  {
   "cell_type": "code",
   "execution_count": 3,
   "id": "8afbaded-ff7d-478a-9f56-bbea6f2fa3bb",
   "metadata": {},
   "outputs": [],
   "source": [
    "# Criando o diretório para salvar o código.\n",
    "!mkdir aula_01/src"
   ]
  },
  {
   "cell_type": "markdown",
   "id": "113ad080-4f9a-4477-90e2-a8aac93389dd",
   "metadata": {},
   "source": [
    "* **Salvando o código no arquivo kpi.py**"
   ]
  },
  {
   "cell_type": "code",
   "execution_count": 4,
   "id": "73825e08-824d-4d74-a923-b4c820de6d2b",
   "metadata": {},
   "outputs": [
    {
     "name": "stdout",
     "output_type": "stream",
     "text": [
      "Writing aula_01/src/kpi.py\n"
     ]
    }
   ],
   "source": [
    "%%writefile -a aula_01/src/kpi.py\n",
    "# 1) Solicita ao usuário que digite seu nome\n",
    "nome = str(input(\"Digite seu Nome:\"))\n",
    "# 2) Solicita ao usuário que digite o valor do seu salário\n",
    "# Converte a entrada para um número de ponto flutuante\n",
    "salary = float(input(\"Digite o valor do salario mensal:\"))\n",
    "# 3) Solicita ao usuário que digite o valor do bônus recebido\n",
    "# Converte a entrada para um número de ponto flutuante\n",
    "bonus = float(input(\"Digite o valor do seu Bônus:\"))\n",
    "# 4) Calcule o valor do bônus final\n",
    "kpi_bonus = 1000 + salary * bonus\n",
    "# 5) Imprima cálculo do KPI para o usuário\n",
    "print(f\"O cálculo do bônus: 1000 + salario + bonus = R$ {kpi_bonus:,.2f}.\\n\")\n",
    "# 6) Imprime a mensagem personalizada incluindo o nome do usuário, salário e bônus\n",
    "print(f\"Olá {nome}, considerando seu salário de: R$ {salary:,.2f}, o total com bônus é de R$ {kpi_bonus:,.2f}.\\n\")\n",
    "# Bônus: Quantos bugs e riscos você consegue identificar nesse programa?\n",
    "'''\n",
    "1. Não existe nenhuma excecão para incluir qualquer valor na variável nome.\n",
    "2. Salário e Bônus aceitam valores negativos.\n",
    "3. Bug detectado ao inserir um valor tipo string nos campos salário e bônus.\n",
    "'''"
   ]
  },
  {
   "cell_type": "markdown",
   "id": "670a2c2b-205c-4891-a33e-4352ea9b76a6",
   "metadata": {},
   "source": [
    "#### 7) Faça uma documentação simples de como executar esse programa, utilize o README"
   ]
  },
  {
   "cell_type": "markdown",
   "id": "2cc47a8b-6c77-4544-a0b5-dd1c79e29e0a",
   "metadata": {},
   "source": [
    "* **Salvando o código markdown no arquivo README.md.**"
   ]
  },
  {
   "cell_type": "code",
   "execution_count": 5,
   "id": "ba7c1432-61b2-410e-a809-fe1a7d294f1d",
   "metadata": {},
   "outputs": [
    {
     "name": "stdout",
     "output_type": "stream",
     "text": [
      "Writing aula_01/README.md\n"
     ]
    }
   ],
   "source": [
    "%%writefile -a aula_01/README.md\n",
    "#  Cálculo de Bônus com Entrada do Usuário\n",
    "\n",
    "## Escreva um programa em Python que solicita ao usuário para digitar seu nome, o valor do seu salário mensal e o valor do bônus que recebeu. O programa deve, então, imprimir uma mensagem saudando o usuário pelo nome e informando o valor do salário em comparação com o bônus recebido.\n",
    "\n",
    "![imagem](img/pic.png)\n",
    "![imagem](img/pic2.png)\n",
    "\n",
    "## Execução do Programa KPI\r\n",
    "\n",
    "*\r\n",
    "Este programa calcula o bônus total de um usuário com base em seu salário percentual de bônus recebidos\r\n",
    "#\r\n",
    "## Como Executar\r\n",
    "\r\n",
    "1. Certifique-se de ter o Python instalado em sua máq\n",
    "* Este projeto utilizar a versão 3.11.3 do python.\n",
    "* uina. Você pode baixar e instalar a v3cente do Python em [python.org](https://www.python.org/).\r\n",
    "\r\n",
    "2. Clone ou baixe este repositório em sua máquin\n",
    "\n",
    "`git clone https://github.com/Jcnok/bootcamp-jornada-de-dados_2024.git`a local.\r\n",
    "\r\n",
    "3. Navegue até o diretório onde o arquivo 'kpi.py' está localizado. O arquivo 'kpi.py' está localizado em 'aula_01/s./\n",
    "kpi.py'.\r\n",
    "\r\n",
    "4. Abra um terminal no diretór\n",
    "\n",
    "`$ cd aula_01/src`io 'kpi.py'.\r\n",
    "\r\n",
    "5. Execute o seguintem$ python kpi.pya\n",
    "\n",
    "6. Siga as instruções exibidas no terminal:\n",
    "* Digite seu nome: exemplo -> Julio\n",
    "* Digite o valor do seu salário: exemplo -> 5000\n",
    "* Digite o percentual do seu bônus: exemplo -> 1.2\n",
    "\n",
    "* Após inserir os valores, o programa calculará o bônus total e imprimirá uma mensagem personalizada para o usuário, incluindo o nome, salário e bônus.*\n",
    "   \n",
    "\n",
    "   ```bash\r",
    "`\n",
    "\n",
    "## Alguns erros encontrados:\n",
    "* **Não existe nenhuma excecão para incluir qualquer valor na variável nome.**\n",
    "* **Salário e Bônus aceitam valores negativos.**\n",
    "* **Bug detectado ao inserir um valor tipo string nos campos salá python kpi.py\r\n"
   ]
  },
  {
   "cell_type": "markdown",
   "id": "f29fdcb5-8270-4196-9836-371c784dba6a",
   "metadata": {},
   "source": [
    "#### 8) Salve no Git e no Github"
   ]
  },
  {
   "cell_type": "code",
   "execution_count": null,
   "id": "9865e5fc-7cd0-4390-80d3-481a4ba07e09",
   "metadata": {},
   "outputs": [],
   "source": [
    "!git status"
   ]
  }
 ],
 "metadata": {
  "kernelspec": {
   "display_name": "Python 3 (ipykernel)",
   "language": "python",
   "name": "python3"
  },
  "language_info": {
   "codemirror_mode": {
    "name": "ipython",
    "version": 3
   },
   "file_extension": ".py",
   "mimetype": "text/x-python",
   "name": "python",
   "nbconvert_exporter": "python",
   "pygments_lexer": "ipython3",
   "version": "3.11.3"
  }
 },
 "nbformat": 4,
 "nbformat_minor": 5
}
