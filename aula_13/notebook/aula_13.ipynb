{
 "cells": [
  {
   "cell_type": "markdown",
   "id": "816f246f-6a06-4b4c-9d95-4fa1f75321a0",
   "metadata": {},
   "source": [
    "# Aula 13"
   ]
  },
  {
   "cell_type": "code",
   "execution_count": null,
   "id": "7fb2560c-bb8d-4c4c-ad8a-f3614d5fbab9",
   "metadata": {},
   "outputs": [],
   "source": []
  },
  {
   "cell_type": "code",
   "execution_count": 1,
   "id": "6a570716-3119-4e7e-9dd8-9730e885cf5f",
   "metadata": {},
   "outputs": [],
   "source": [
    "import os \n",
    "os.getcwd()\n",
    "os.chdir('/home/jcnok/bootcamps/bootcamp-jornada-de-dados_2024/aula_13')"
   ]
  },
  {
   "cell_type": "markdown",
   "id": "b5402b65-a752-4627-8573-f922bf90666f",
   "metadata": {},
   "source": [
    "## Desafio"
   ]
  },
  {
   "cell_type": "markdown",
   "id": "975521f4-2e4b-42a8-8e9b-97465ab2b053",
   "metadata": {},
   "source": [
    "* **Situação**: Você deseja implementar um novo formato além dos formatos csv e txt, uma api está fornecedo novos dados diariamente e deseja juntar esses arquivos no formato json.\n",
    "\n",
    "* **Aqui está o desafio:** adicionar uma nova pasta para os formatos .json, onde será necessário de consolidar tudo isso em um único DataFrame. Essa é a realidade enfrentada por muitos profissionais, desde iniciantes até os mais experientes.\n",
    "\n",
    "* Então, como podemos resolver esse desafio de maneira simples e eficaz, como já usamos classes para garantir que, à medida que o projeto evolui e novos formatos de arquivo são introduzidos, não será necessário começar o projeto do zero.\n",
    "\n",
    "Possível escopo do projeto:\n",
    "Image"
   ]
  },
  {
   "cell_type": "markdown",
   "id": "9abd7cf3-61da-4427-bdd7-c70e5a1d1c6e",
   "metadata": {},
   "source": [
    "```mermaid \n",
    "graph TD;\n",
    "    A[main.py] -->|Executa| B[src/lib/classes];\n",
    "    B --> C[Verifica novos arquivos];\n",
    "    C -->|Sim| D[Salva em pastas data];\n",
    "    D -->|txt| E[data.txt];\n",
    "    D -->|csv| F[data.csv];\n",
    "    D -->|json| G[data.json];\n",
    "    E --> H[Consolida em DataFrame];\n",
    "    F --> H;\n",
    "    G --> H;\n",
    "```"
   ]
  },
  {
   "cell_type": "code",
   "execution_count": null,
   "id": "0e001490-4f10-4e2b-8d19-fc009c768ac1",
   "metadata": {},
   "outputs": [],
   "source": []
  }
 ],
 "metadata": {
  "kernelspec": {
   "display_name": "Python 3 (ipykernel)",
   "language": "python",
   "name": "python3"
  },
  "language_info": {
   "codemirror_mode": {
    "name": "ipython",
    "version": 3
   },
   "file_extension": ".py",
   "mimetype": "text/x-python",
   "name": "python",
   "nbconvert_exporter": "python",
   "pygments_lexer": "ipython3",
   "version": "3.10.13"
  }
 },
 "nbformat": 4,
 "nbformat_minor": 5
}
