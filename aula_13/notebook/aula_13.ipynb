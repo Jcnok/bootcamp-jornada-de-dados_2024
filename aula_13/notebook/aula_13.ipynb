{
 "cells": [
  {
   "cell_type": "code",
   "execution_count": 2,
   "id": "6a570716-3119-4e7e-9dd8-9730e885cf5f",
   "metadata": {},
   "outputs": [],
   "source": [
    "import os \n",
    "os.getcwd()\n",
    "os.chdir('/home/jcnok/bootcamps/bootcamp-jornada-de-dados_2024/aula_13')"
   ]
  },
  {
   "cell_type": "code",
   "execution_count": null,
   "id": "d696c6b8-9dc7-4d25-9ff1-2487ce7636da",
   "metadata": {},
   "outputs": [],
   "source": []
  },
  {
   "cell_type": "code",
   "execution_count": null,
   "id": "50f31c70-7364-4d50-9267-237d2eeb61e6",
   "metadata": {},
   "outputs": [],
   "source": []
  }
 ],
 "metadata": {
  "kernelspec": {
   "display_name": "Python 3 (ipykernel)",
   "language": "python",
   "name": "python3"
  },
  "language_info": {
   "codemirror_mode": {
    "name": "ipython",
    "version": 3
   },
   "file_extension": ".py",
   "mimetype": "text/x-python",
   "name": "python",
   "nbconvert_exporter": "python",
   "pygments_lexer": "ipython3",
   "version": "3.10.13"
  }
 },
 "nbformat": 4,
 "nbformat_minor": 5
}
