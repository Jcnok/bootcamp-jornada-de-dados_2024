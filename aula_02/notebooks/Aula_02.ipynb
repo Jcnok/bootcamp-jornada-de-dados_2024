{
 "cells": [
  {
   "cell_type": "code",
   "execution_count": 1,
   "id": "9bf61658-1986-4cb9-9d18-834a9c84bdf3",
   "metadata": {},
   "outputs": [
    {
     "name": "stdout",
     "output_type": "stream",
     "text": [
      "Python 3.11.3\n"
     ]
    }
   ],
   "source": [
    "!python --version"
   ]
  },
  {
   "cell_type": "code",
   "execution_count": 2,
   "id": "5e422218-dc9c-4825-9559-4d82141b6525",
   "metadata": {},
   "outputs": [
    {
     "data": {
      "text/plain": [
       "['/home/jcnok/bootcamps/bootcamp-jornada-de-dados_2024/.venv/lib/python3.11/site-packages']"
      ]
     },
     "execution_count": 2,
     "metadata": {},
     "output_type": "execute_result"
    }
   ],
   "source": [
    "import site\n",
    "site.getsitepackages()"
   ]
  },
  {
   "cell_type": "markdown",
   "id": "60e2d01b-e198-437f-9375-c3b7cb98ceab",
   "metadata": {},
   "source": [
    "##  Cálculo de Bônus com Entrada do Usuário"
   ]
  },
  {
   "cell_type": "markdown",
   "id": "70283e9e-d6f9-45d1-892c-699279d8e382",
   "metadata": {},
   "source": [
    "### Escreva um programa em Python que solicita ao usuário para digitar seu nome, o valor do seu salário mensal e o valor do bônus que recebeu. O programa deve, então, imprimir uma mensagem saudando o usuário pelo nome e informando o valor do salário em comparação com o bônus recebido."
   ]
  },
  {
   "cell_type": "markdown",
   "id": "d30444ab-3836-4827-97ef-bfe0b848c5cc",
   "metadata": {},
   "source": [
    "![imagem](aula_01/img/pic.png)"
   ]
  },
  {
   "cell_type": "markdown",
   "id": "0d7d1b6c-3b69-42d5-8780-7152da65af78",
   "metadata": {},
   "source": [
    "![imagem](aula_01/img/pic2.png)"
   ]
  },
  {
   "cell_type": "code",
   "execution_count": 13,
   "id": "f089a743-2bd3-45d1-b64a-0ead9ac5614a",
   "metadata": {},
   "outputs": [
    {
     "name": "stdin",
     "output_type": "stream",
     "text": [
      "Digite seu Nome: Julio Okuda\n",
      "Digite o valor do salario mensal: 5000\n",
      "Digite o valor do seu Bônus: 1.5\n"
     ]
    },
    {
     "name": "stdout",
     "output_type": "stream",
     "text": [
      "O cálculo do bônus: 1000 + salario + bonus = R$ 8,500.00.\n",
      "\n",
      "Olá Julio Okuda, considerando seu salário de: R$ 5,000.00, o total com bônus é de R$ 8,500.00.\n",
      "\n"
     ]
    }
   ],
   "source": [
    "# 1) Solicita ao usuário que digite seu nome\n",
    "nome = str(input(\"Digite seu Nome:\"))\n",
    "# 2) Solicita ao usuário que digite o valor do seu salário\n",
    "# Converte a entrada para um número de ponto flutuante\n",
    "salary = float(input(\"Digite o valor do salario mensal:\"))\n",
    "# 3) Solicita ao usuário que digite o valor do bônus recebido\n",
    "# Converte a entrada para um número de ponto flutuante\n",
    "bonus = float(input(\"Digite o valor do seu Bônus:\"))\n",
    "# 4) Calcule o valor do bônus final\n",
    "kpi_bonus = 1000 + salary * bonus\n",
    "# 5) Imprima cálculo do KPI para o usuário\n",
    "print(f\"O cálculo do bônus: 1000 + salario + bonus = R$ {kpi_bonus:,.2f}.\\n\")\n",
    "# 6) Imprime a mensagem personalizada incluindo o nome do usuário, salário e bônus\n",
    "print(f\"Olá {nome}, considerando seu salário de: R$ {salary:,.2f}, o total com bônus é de R$ {kpi_bonus:,.2f}.\\n\")\n",
    "# Bônus: Quantos bugs e riscos você consegue identificar nesse programa?\n",
    "'''\n",
    "1. Não existe nenhuma excecão para incluir qualquer valor na variável nome.\n",
    "2. Salário e Bônus aceitam valores negativos.\n",
    "3. Bug detectado ao inserir um valor tipo string nos campos salário e bônus.\n",
    "'''"
   ]
  },
  {
   "cell_type": "markdown",
   "id": "4f979689-d1eb-476e-856e-6a50358e2551",
   "metadata": {},
   "source": [
    "### Bônus: Quantos bugs e riscos você consegue identificar nesse programa?"
   ]
  },
  {
   "cell_type": "markdown",
   "id": "6eecd9a1-4218-4d35-9e55-3f3b8b98cf74",
   "metadata": {},
   "source": [
    "#### Criando uma função para facilitar as verificações."
   ]
  },
  {
   "cell_type": "code",
   "execution_count": 14,
   "id": "52aa3107-118a-4266-908e-e963ea94eec7",
   "metadata": {},
   "outputs": [],
   "source": [
    "def calcula_kpi_bonus():\n",
    "    # 1) Solicita ao usuário que digite seu nome\n",
    "    nome = str(input(\"Digite seu Nome:\"))\n",
    "    # 2) Solicita ao usuário que digite o valor do seu salário\n",
    "    # Converte a entrada para um número de ponto flutuante\n",
    "    salary = float(input(\"Digite o valor do salario mensal:\"))\n",
    "    # 3) Solicita ao usuário que digite o valor do bônus recebido\n",
    "    # Converte a entrada para um número de ponto flutuante\n",
    "    bonus = float(input(\"Digite o valor do seu Bônus:\"))\n",
    "    # 4) Calcule o valor do bônus final\n",
    "    kpi_bonus = 1000 + salary * bonus\n",
    "    # 5) Imprima cálculo do KPI para o usuário\n",
    "    msg_kpi = print(f\"O cálculo do bônus: 1000 + salario + bonus = R$ {kpi_bonus:,.2f}.\\n\")\n",
    "    # 6) Imprime a mensagem personalizada incluindo o nome do usuário, salário e bônus\n",
    "    msg= print(f\"Olá {nome}, considerando seu salário de: R$ {salary:,.2f}, o total com bônus é de R$ {kpi_bonus:,.2f}.\\n\")\n",
    "    return msg_kpi, msg"
   ]
  },
  {
   "cell_type": "markdown",
   "id": "d26b70a5-b6a3-43e6-83c8-f5668a7aa7ec",
   "metadata": {},
   "source": [
    "#### Realizando alguns testes para encontrar possíveis falhas:"
   ]
  },
  {
   "cell_type": "code",
   "execution_count": 30,
   "id": "62401101-6993-40de-bce1-b00a0741b954",
   "metadata": {},
   "outputs": [
    {
     "name": "stdin",
     "output_type": "stream",
     "text": [
      "Digite 'sair' para terminar os testes ou tecle enter para continuar:  \n",
      "Digite seu Nome: Julio\n",
      "Digite o valor do salario mensal: \n",
      "Digite 'sair' para terminar os testes ou tecle enter para continuar:  \n",
      "Digite seu Nome: Julio\n",
      "Digite o valor do salario mensal: .\n",
      "Digite 'sair' para terminar os testes ou tecle enter para continuar:  \n",
      "Digite seu Nome: \n",
      "Digite o valor do salario mensal: -100\n",
      "Digite o valor do seu Bônus: -1.5\n"
     ]
    },
    {
     "name": "stdout",
     "output_type": "stream",
     "text": [
      "O cálculo do bônus: 1000 + salario + bonus = R$ 1,150.00.\n",
      "\n",
      "Olá , considerando seu salário de: R$ -100.00, o total com bônus é de R$ 1,150.00.\n",
      "\n"
     ]
    },
    {
     "name": "stdin",
     "output_type": "stream",
     "text": [
      "Digite 'sair' para terminar os testes ou tecle enter para continuar:  Julio\n",
      "Digite seu Nome: Julio\n",
      "Digite o valor do salario mensal: 10000\n",
      "Digite o valor do seu Bônus: .\n",
      "Digite 'sair' para terminar os testes ou tecle enter para continuar:  sair\n"
     ]
    },
    {
     "name": "stdout",
     "output_type": "stream",
     "text": [
      "Total de bugs encontrados: 3\n",
      "erros encontrados: [ValueError(\"could not convert string to float: ''\"), ValueError(\"could not convert string to float: '.'\"), ValueError(\"could not convert string to float: '.'\")]\n"
     ]
    }
   ],
   "source": [
    "count_error = 0\n",
    "erro = []\n",
    "while True:\n",
    "    sair = input(\"Digite 'sair' para terminar os testes ou tecle enter para continuar: \")\n",
    "    if sair.lower() == 'sair':\n",
    "            break\n",
    "    try:\n",
    "        calcula_kpi_bonus()\n",
    "    except Exception as e:\n",
    "        erro.append(e)\n",
    "        count_error +=1\n",
    "        continue\n",
    "print(f\"Total de bugs encontrados: {count_error}\")\n",
    "print(f\"erros encontrados: {erro}\")\n",
    "        "
   ]
  },
  {
   "cell_type": "markdown",
   "id": "6ce1ee10-202e-4234-abe7-5e060d4b241c",
   "metadata": {},
   "source": [
    "### Alguns erros encontrados:\n",
    "* **Não existe nenhuma excecão para incluir qualquer valor na variável nome.**\n",
    "* **Salário e Bônus aceitam valores negativos.**\n",
    "* **Bug detectado ao inserir um valor tipo string nos campos salário e bônus.**\n",
    "    "
   ]
  },
  {
   "cell_type": "markdown",
   "id": "14aff929-d357-44c0-88f8-27246f6ab95a",
   "metadata": {},
   "source": [
    "#### 6) Salve esse script python como kpi.py"
   ]
  },
  {
   "cell_type": "code",
   "execution_count": 3,
   "id": "8afbaded-ff7d-478a-9f56-bbea6f2fa3bb",
   "metadata": {},
   "outputs": [],
   "source": [
    "# Criando o diretório para salvar o código.\n",
    "!mkdir aula_01/src"
   ]
  },
  {
   "cell_type": "markdown",
   "id": "113ad080-4f9a-4477-90e2-a8aac93389dd",
   "metadata": {},
   "source": [
    "* **Salvando o código no arquivo kpi.py**"
   ]
  },
  {
   "cell_type": "code",
   "execution_count": 4,
   "id": "73825e08-824d-4d74-a923-b4c820de6d2b",
   "metadata": {},
   "outputs": [
    {
     "name": "stdout",
     "output_type": "stream",
     "text": [
      "Writing aula_01/src/kpi.py\n"
     ]
    }
   ],
   "source": [
    "%%writefile -a aula_01/src/kpi.py\n",
    "# 1) Solicita ao usuário que digite seu nome\n",
    "nome = str(input(\"Digite seu Nome:\"))\n",
    "# 2) Solicita ao usuário que digite o valor do seu salário\n",
    "# Converte a entrada para um número de ponto flutuante\n",
    "salary = float(input(\"Digite o valor do salario mensal:\"))\n",
    "# 3) Solicita ao usuário que digite o valor do bônus recebido\n",
    "# Converte a entrada para um número de ponto flutuante\n",
    "bonus = float(input(\"Digite o valor do seu Bônus:\"))\n",
    "# 4) Calcule o valor do bônus final\n",
    "kpi_bonus = 1000 + salary * bonus\n",
    "# 5) Imprima cálculo do KPI para o usuário\n",
    "print(f\"O cálculo do bônus: 1000 + salario + bonus = R$ {kpi_bonus:,.2f}.\\n\")\n",
    "# 6) Imprime a mensagem personalizada incluindo o nome do usuário, salário e bônus\n",
    "print(f\"Olá {nome}, considerando seu salário de: R$ {salary:,.2f}, o total com bônus é de R$ {kpi_bonus:,.2f}.\\n\")\n",
    "# Bônus: Quantos bugs e riscos você consegue identificar nesse programa?\n",
    "'''\n",
    "1. Não existe nenhuma excecão para incluir qualquer valor na variável nome.\n",
    "2. Salário e Bônus aceitam valores negativos.\n",
    "3. Bug detectado ao inserir um valor tipo string nos campos salário e bônus.\n",
    "'''"
   ]
  },
  {
   "cell_type": "markdown",
   "id": "670a2c2b-205c-4891-a33e-4352ea9b76a6",
   "metadata": {},
   "source": [
    "#### 7) Faça uma documentação simples de como executar esse programa, utilize o README"
   ]
  },
  {
   "cell_type": "markdown",
   "id": "2cc47a8b-6c77-4544-a0b5-dd1c79e29e0a",
   "metadata": {},
   "source": [
    "* **Salvando o código markdown no arquivo README.md.**"
   ]
  },
  {
   "cell_type": "code",
   "execution_count": 5,
   "id": "ba7c1432-61b2-410e-a809-fe1a7d294f1d",
   "metadata": {},
   "outputs": [
    {
     "name": "stdout",
     "output_type": "stream",
     "text": [
      "Writing aula_01/README.md\n"
     ]
    }
   ],
   "source": [
    "%%writefile -a aula_01/README.md\n",
    "#  Cálculo de Bônus com Entrada do Usuário\n",
    "\n",
    "## Escreva um programa em Python que solicita ao usuário para digitar seu nome, o valor do seu salário mensal e o valor do bônus que recebeu. O programa deve, então, imprimir uma mensagem saudando o usuário pelo nome e informando o valor do salário em comparação com o bônus recebido.\n",
    "\n",
    "![imagem](img/pic.png)\n",
    "![imagem](img/pic2.png)\n",
    "\n",
    "## Execução do Programa KPI\r\n",
    "\n",
    "*\r\n",
    "Este programa calcula o bônus total de um usuário com base em seu salário percentual de bônus recebidos\r\n",
    "#\r\n",
    "## Como Executar\r\n",
    "\r\n",
    "1. Certifique-se de ter o Python instalado em sua máq\n",
    "* Este projeto utilizar a versão 3.11.3 do python.\n",
    "* uina. Você pode baixar e instalar a v3cente do Python em [python.org](https://www.python.org/).\r\n",
    "\r\n",
    "2. Clone ou baixe este repositório em sua máquin\n",
    "\n",
    "`git clone https://github.com/Jcnok/bootcamp-jornada-de-dados_2024.git`a local.\r\n",
    "\r\n",
    "3. Navegue até o diretório onde o arquivo 'kpi.py' está localizado. O arquivo 'kpi.py' está localizado em 'aula_01/s./\n",
    "kpi.py'.\r\n",
    "\r\n",
    "4. Abra um terminal no diretór\n",
    "\n",
    "`$ cd aula_01/src`io 'kpi.py'.\r\n",
    "\r\n",
    "5. Execute o seguintem$ python kpi.pya\n",
    "\n",
    "6. Siga as instruções exibidas no terminal:\n",
    "* Digite seu nome: exemplo -> Julio\n",
    "* Digite o valor do seu salário: exemplo -> 5000\n",
    "* Digite o percentual do seu bônus: exemplo -> 1.2\n",
    "\n",
    "* Após inserir os valores, o programa calculará o bônus total e imprimirá uma mensagem personalizada para o usuário, incluindo o nome, salário e bônus.*\n",
    "   \n",
    "\n",
    "   ```bash\r",
    "`\n",
    "\n",
    "## Alguns erros encontrados:\n",
    "* **Não existe nenhuma excecão para incluir qualquer valor na variável nome.**\n",
    "* **Salário e Bônus aceitam valores negativos.**\n",
    "* **Bug detectado ao inserir um valor tipo string nos campos salá python kpi.py\r\n"
   ]
  },
  {
   "cell_type": "markdown",
   "id": "f29fdcb5-8270-4196-9836-371c784dba6a",
   "metadata": {},
   "source": [
    "#### 8) Salve no Git e no Github"
   ]
  },
  {
   "cell_type": "code",
   "execution_count": 6,
   "id": "9865e5fc-7cd0-4390-80d3-481a4ba07e09",
   "metadata": {},
   "outputs": [
    {
     "name": "stdout",
     "output_type": "stream",
     "text": [
      "On branch main\n",
      "Your branch is up to date with 'origin/main'.\n",
      "\n",
      "Untracked files:\n",
      "  (use \"git add <file>...\" to include in what will be committed)\n",
      "\t\u001b[31m.python-version\u001b[m\n",
      "\t\u001b[31maula01.ipynb\u001b[m\n",
      "\t\u001b[31maula_01/\u001b[m\n",
      "\t\u001b[31mpyproject.toml\u001b[m\n",
      "\n",
      "nothing added to commit but untracked files present (use \"git add\" to track)\n"
     ]
    }
   ],
   "source": [
    "!git status"
   ]
  },
  {
   "cell_type": "code",
   "execution_count": 7,
   "id": "e8564dde-d60d-471b-8718-687341515080",
   "metadata": {},
   "outputs": [],
   "source": [
    "!git add . "
   ]
  },
  {
   "cell_type": "code",
   "execution_count": 8,
   "id": "baa92b82-0d80-473f-9ffd-eec7a0534eb9",
   "metadata": {},
   "outputs": [
    {
     "name": "stdout",
     "output_type": "stream",
     "text": [
      "[main cb9e446] desafios aula 01 concluído!\n",
      " 9 files changed, 498 insertions(+)\n",
      " create mode 100644 .python-version\n",
      " create mode 100644 aula01.ipynb\n",
      " create mode 100644 aula_01/README.md\n",
      " create mode 100644 aula_01/img/pic.png\n",
      " create mode 100644 aula_01/img/pic.png:Zone.Identifier\n",
      " create mode 100644 aula_01/img/pic2.png\n",
      " create mode 100644 aula_01/img/pic2.png:Zone.Identifier\n",
      " create mode 100644 aula_01/src/kpi.py\n",
      " create mode 100644 pyproject.toml\n"
     ]
    }
   ],
   "source": [
    "!git commit -m \"desafios aula 01 concluído!\""
   ]
  },
  {
   "cell_type": "code",
   "execution_count": 10,
   "id": "ed405aa2-7471-4ac8-b767-296785c9af78",
   "metadata": {},
   "outputs": [
    {
     "name": "stdout",
     "output_type": "stream",
     "text": [
      "Enumerating objects: 14, done.\n",
      "Counting objects: 100% (14/14), done.\n",
      "Delta compression using up to 24 threads\n",
      "Compressing objects: 100% (10/10), done.\n",
      "Writing objects: 100% (13/13), 192.39 KiB | 10.69 MiB/s, done.\n",
      "Total 13 (delta 1), reused 0 (delta 0), pack-reused 0\n",
      "remote: Resolving deltas: 100% (1/1), done.\u001b[K\n",
      "To https://github.com/Jcnok/bootcamp-jornada-de-dados_2024.git\n",
      "   15110c7..cb9e446  main -> main\n"
     ]
    }
   ],
   "source": [
    "!git push"
   ]
  },
  {
   "cell_type": "markdown",
   "id": "cf85cf9b-2db6-4ded-94cc-3899378ef581",
   "metadata": {},
   "source": [
    "# Aula 02: TypeError, Type Check, Type Conversion, try-except e if"
   ]
  },
  {
   "cell_type": "markdown",
   "id": "db6c4119-063d-4b71-8a3f-c433927cb2b5",
   "metadata": {},
   "source": [
    "### Exercícios Resolução\n",
    "\n"
   ]
  },
  {
   "cell_type": "markdown",
   "id": "5b991688-8a52-4da2-a490-f2b8534990e0",
   "metadata": {},
   "source": [
    "1. Escreva um programa que soma dois números inteiros inseridos pelo usuário."
   ]
  },
  {
   "cell_type": "code",
   "execution_count": 6,
   "id": "a66bb6a8-09c1-46ce-8ab8-c439a96e5f47",
   "metadata": {},
   "outputs": [
    {
     "name": "stdout",
     "output_type": "stream",
     "text": [
      "===== Cálculo da soma de dois números inteiros =====\n"
     ]
    },
    {
     "name": "stdin",
     "output_type": "stream",
     "text": [
      "digite um número inteiro: 10\n",
      "digito um segundo número inteiro: 14\n"
     ]
    },
    {
     "name": "stdout",
     "output_type": "stream",
     "text": [
      "A soma dos dois números é: 24\n"
     ]
    }
   ],
   "source": [
    "\n",
    "print(\"=\"*5,\"Cálculo da soma de dois números inteiros\",\"=\"*5)\n",
    "n1 = int(input(\"digite um número inteiro:\"))\n",
    "n2 = int(input(\"digito um segundo número inteiro:\"))\n",
    "soma = n1 + n2\n",
    "print(f\"A soma dos dois números é: {soma}\")"
   ]
  },
  {
   "cell_type": "markdown",
   "id": "4aa4ccea-adc1-4adf-b5f8-7baad6d042fa",
   "metadata": {},
   "source": [
    "2. Crie um programa que receba um número do usuário e calcule o resto da divisão desse número por 5."
   ]
  },
  {
   "cell_type": "code",
   "execution_count": 12,
   "id": "2ab9302d-322a-4987-9f0e-efa45864050f",
   "metadata": {},
   "outputs": [
    {
     "name": "stdout",
     "output_type": "stream",
     "text": [
      "===== Cálculo do resto da divisão de um número por 5 =====\n"
     ]
    },
    {
     "name": "stdin",
     "output_type": "stream",
     "text": [
      "digite um número inteiro: 6\n"
     ]
    },
    {
     "name": "stdout",
     "output_type": "stream",
     "text": [
      "O resto da divisão do número por 5 é:1\n"
     ]
    }
   ],
   "source": [
    "print(\"=\"*5,\"Cálculo do resto da divisão de um número por 5\",\"=\"*5)\n",
    "n1 = int(input(\"digite um número inteiro:\"))\n",
    "divisor = 5 \n",
    "resto = n1 % divisor\n",
    "print(f\"O resto da divisão do número por 5 é:{resto}\")"
   ]
  },
  {
   "cell_type": "markdown",
   "id": "0fafaf4e-40a7-493b-bb5e-6cf85914c2cf",
   "metadata": {},
   "source": [
    "3. Desenvolva um programa que multiplique dois números fornecidos pelo usuário e mostre o resultado.\n"
   ]
  },
  {
   "cell_type": "code",
   "execution_count": 13,
   "id": "81ad180d-7ee9-46f7-b3f9-fb7d74bb7775",
   "metadata": {},
   "outputs": [
    {
     "name": "stdout",
     "output_type": "stream",
     "text": [
      "===== Cálculo o produto de dois números inteiros =====\n"
     ]
    },
    {
     "name": "stdin",
     "output_type": "stream",
     "text": [
      "digite um número inteiro: 4\n",
      "digito um segundo número inteiro: 2\n"
     ]
    },
    {
     "name": "stdout",
     "output_type": "stream",
     "text": [
      "O produto dos dois números é: 8\n"
     ]
    }
   ],
   "source": [
    "print(\"=\"*5,\"Cálculo o produto de dois números inteiros\",\"=\"*5)\n",
    "n1 = int(input(\"digite um número inteiro:\"))\n",
    "n2 = int(input(\"digito um segundo número inteiro:\"))\n",
    "soma = n1 * n2\n",
    "print(f\"O produto dos dois números é: {soma}\")"
   ]
  },
  {
   "cell_type": "markdown",
   "id": "39ffb442-935e-4cdf-bfc9-1049d1429940",
   "metadata": {},
   "source": [
    "4. Faça um programa que peça dois números inteiros e imprima a divisão inteira do primeiro pelo segundo.\n",
    "   "
   ]
  },
  {
   "cell_type": "code",
   "execution_count": 14,
   "id": "1e4fecab-e4c3-4903-b7a6-a862be57e478",
   "metadata": {},
   "outputs": [
    {
     "name": "stdout",
     "output_type": "stream",
     "text": [
      "===== Cálculo o quociente de dois números inteiros =====\n"
     ]
    },
    {
     "name": "stdin",
     "output_type": "stream",
     "text": [
      "digite um número inteiro para o dividendo: 9\n",
      "digito um número inteiro para o divisor: 2\n"
     ]
    },
    {
     "name": "stdout",
     "output_type": "stream",
     "text": [
      "O quociente é: 2\n"
     ]
    }
   ],
   "source": [
    "print(\"=\"*5,\"Cálculo o quociente de dois números inteiros\",\"=\"*5)\n",
    "dividendo = int(input(\"digite um número inteiro para o dividendo:\"))\n",
    "divisor = int(input(\"digito um número inteiro para o divisor:\"))\n",
    "quociente = n1 // n2\n",
    "print(f\"O quociente é: {quociente}\")"
   ]
  },
  {
   "cell_type": "markdown",
   "id": "7fa53d3d-65ca-4b03-9443-5a100a6ddadf",
   "metadata": {},
   "source": [
    "5. Escreva um programa que calcule o quadrado de um número fornecido pelo usuário.\n",
    "   "
   ]
  },
  {
   "cell_type": "code",
   "execution_count": 16,
   "id": "d73b523f-f85f-4323-b208-677bff25c5e0",
   "metadata": {},
   "outputs": [
    {
     "name": "stdout",
     "output_type": "stream",
     "text": [
      "===== Cálculo do quadrado de um número =====\n"
     ]
    },
    {
     "name": "stdin",
     "output_type": "stream",
     "text": [
      "digite um número inteiro para calcular quadrado: 3\n"
     ]
    },
    {
     "name": "stdout",
     "output_type": "stream",
     "text": [
      "O quadrado do número é: 9\n"
     ]
    }
   ],
   "source": [
    "print(\"=\"*5,\"Cálculo do quadrado de um número\",\"=\"*5)\n",
    "num = int(input(\"digite um número inteiro para calcular quadrado:\"))\n",
    "quadrado = num ** 2\n",
    "print(f\"O quadrado do número é: {quadrado}\")"
   ]
  },
  {
   "cell_type": "markdown",
   "id": "92427c5f-e381-4b3c-9c0c-41fb1eb53a87",
   "metadata": {},
   "source": [
    "6. Escreva um programa que receba dois números flutuantes e realize sua adição."
   ]
  },
  {
   "cell_type": "code",
   "execution_count": 17,
   "id": "87ee7996-9f7f-4591-84d2-a0fd97797ec3",
   "metadata": {},
   "outputs": [
    {
     "name": "stdout",
     "output_type": "stream",
     "text": [
      "===== Cálculo da soma de dois números floats =====\n"
     ]
    },
    {
     "name": "stdin",
     "output_type": "stream",
     "text": [
      "digite um número floats: 4.5\n",
      "digito um segundo número floats: 5.7\n"
     ]
    },
    {
     "name": "stdout",
     "output_type": "stream",
     "text": [
      "A soma dos dois números é: 10.2\n"
     ]
    }
   ],
   "source": [
    "print(\"=\"*5,\"Cálculo da soma de dois números floats\",\"=\"*5)\n",
    "n1 = float(input(\"digite um número floats:\"))\n",
    "n2 = float(input(\"digito um segundo número floats:\"))\n",
    "soma = n1 + n2\n",
    "print(f\"A soma dos dois números é: {soma}\")"
   ]
  },
  {
   "cell_type": "markdown",
   "id": "39d0859a-3b36-4b29-946e-c6f6347133fd",
   "metadata": {},
   "source": [
    "7. Crie um programa que calcule a média de dois números flutuantes fornecidos pelo usuário."
   ]
  },
  {
   "cell_type": "code",
   "execution_count": 19,
   "id": "f4353ba0-dd0a-4538-980b-54dc55d4546b",
   "metadata": {},
   "outputs": [
    {
     "name": "stdout",
     "output_type": "stream",
     "text": [
      "===== Cálculo da média de dois números floats =====\n"
     ]
    },
    {
     "name": "stdin",
     "output_type": "stream",
     "text": [
      "digite um número floats: 5.5\n",
      "digito um segundo número floats: 6.6\n"
     ]
    },
    {
     "name": "stdout",
     "output_type": "stream",
     "text": [
      "A média dos dois números é: 6.05\n"
     ]
    }
   ],
   "source": [
    "print(\"=\"*5,\"Cálculo da média de dois números floats\",\"=\"*5)\n",
    "n1 = float(input(\"digite um número floats:\"))\n",
    "n2 = float(input(\"digito um segundo número floats:\"))\n",
    "media = (n1 + n2) / 2\n",
    "print(f\"A média dos dois números é: {media}\")"
   ]
  },
  {
   "cell_type": "markdown",
   "id": "956925e3-fac1-4159-89ee-e31f96b00f38",
   "metadata": {},
   "source": [
    "8. Desenvolva um programa que calcule a potência de um número (base e expoente fornecidos pelo usuário)."
   ]
  },
  {
   "cell_type": "code",
   "execution_count": 23,
   "id": "7b39d32b-0e12-45b3-ad42-251157d10e6f",
   "metadata": {},
   "outputs": [
    {
     "name": "stdout",
     "output_type": "stream",
     "text": [
      "===== Cálculo da potência de um número =====\n"
     ]
    },
    {
     "name": "stdin",
     "output_type": "stream",
     "text": [
      "digite um número inteiro para base: 10\n",
      "digite um número inteiro para o expoente: 6\n"
     ]
    },
    {
     "name": "stdout",
     "output_type": "stream",
     "text": [
      "O resultado da potência é: 1000000\n"
     ]
    }
   ],
   "source": [
    "print(\"=\"*5,\"Cálculo da potência de um número\",\"=\"*5)\n",
    "base = int(input(\"digite um número inteiro para base:\"))\n",
    "expoente = int(input(\"digite um número inteiro para o expoente:\"))\n",
    "potencia = base ** expoente\n",
    "print(f\"O resultado da potência é: {potencia}\")"
   ]
  },
  {
   "cell_type": "markdown",
   "id": "00ab7212-e2e1-46c8-994f-eacb1f3992fa",
   "metadata": {},
   "source": [
    "9. Faça um programa que converta a temperatura de Celsius para Fahrenheit."
   ]
  },
  {
   "cell_type": "code",
   "execution_count": 28,
   "id": "50cea466-c640-44c8-b38c-a88249c62bfc",
   "metadata": {},
   "outputs": [
    {
     "name": "stdout",
     "output_type": "stream",
     "text": [
      "===== Cálculo da conversão de Celsius para fahrenheit =====\n"
     ]
    },
    {
     "name": "stdin",
     "output_type": "stream",
     "text": [
      "digite um número em graus ceusius: 37\n"
     ]
    },
    {
     "name": "stdout",
     "output_type": "stream",
     "text": [
      "37.0 Graus Celsius equivale a: 98.6 graus fahrenheit\n"
     ]
    }
   ],
   "source": [
    "print(\"=\"*5,\"Cálculo da conversão de Celsius para fahrenheit\",\"=\"*5)\n",
    "celsius = float(input(\"digite um número em graus ceusius:\"))\n",
    "fahrenheit = celsius * 1.8 + 32\n",
    "print(f\"{celsius} Graus Celsius equivale a: {round(fahrenheit,2)} graus fahrenheit\")"
   ]
  },
  {
   "cell_type": "markdown",
   "id": "a0ec4b35-09e8-4ff0-a42d-70e582c4f5cc",
   "metadata": {},
   "source": [
    "10. Escreva um programa que calcule a área de um círculo, recebendo o raio como entrada."
   ]
  },
  {
   "cell_type": "code",
   "execution_count": 29,
   "id": "b20dcb32-5bb8-4368-91ef-12e60e69e442",
   "metadata": {},
   "outputs": [
    {
     "name": "stdout",
     "output_type": "stream",
     "text": [
      "===== Cálculo da área de um círculo =====\n"
     ]
    },
    {
     "name": "stdin",
     "output_type": "stream",
     "text": [
      "digite o valor do raio do círculo: 3\n"
     ]
    },
    {
     "name": "stdout",
     "output_type": "stream",
     "text": [
      "a área do circulo é:28.26\n"
     ]
    }
   ],
   "source": [
    "print(\"=\"*5,\"Cálculo da área de um círculo\",\"=\"*5)\n",
    "raio = float(input(\"digite o valor do raio do círculo:\"))\n",
    "pi = 3.14\n",
    "area = pi * raio ** 2\n",
    "print(f\"a área do circulo é:{round(area,2)}\")"
   ]
  },
  {
   "cell_type": "markdown",
   "id": "1b3c63a9-6253-4bc5-b47b-bf919260ac42",
   "metadata": {},
   "source": [
    "11. Escreva um programa que receba uma string do usuário e a converta para maiúsculas."
   ]
  },
  {
   "cell_type": "code",
   "execution_count": 34,
   "id": "63f9b3ad-4516-4548-ba4c-b5c1c6911b70",
   "metadata": {},
   "outputs": [
    {
     "name": "stdout",
     "output_type": "stream",
     "text": [
      "===== Converte uma string em Maipuscula =====\n"
     ]
    },
    {
     "name": "stdin",
     "output_type": "stream",
     "text": [
      "digite um nome qualquer: julio\n"
     ]
    },
    {
     "name": "stdout",
     "output_type": "stream",
     "text": [
      "resultado:JULIO\n"
     ]
    }
   ],
   "source": [
    "print(\"=\"*5,\"Converte em Maipuscula\",\"=\"*5)\n",
    "string = str(input(\"digite um nome qualquer:\"))\n",
    "string_maiuscula = string.upper()\n",
    "print(f\"resultado:{string_maiuscula}\")"
   ]
  },
  {
   "cell_type": "markdown",
   "id": "17cabe81-47c9-4fa2-907c-c623054ebe86",
   "metadata": {},
   "source": [
    "12. Crie um programa que receba o nome completo do usuário e imprima o nome com todas as letras minúsculas."
   ]
  },
  {
   "cell_type": "code",
   "execution_count": 35,
   "id": "055d6b8f-c439-418b-a892-1c49c2e7bc09",
   "metadata": {},
   "outputs": [
    {
     "name": "stdout",
     "output_type": "stream",
     "text": [
      "===== Converte em minúscula =====\n"
     ]
    },
    {
     "name": "stdin",
     "output_type": "stream",
     "text": [
      "digite seu nome completo: Julio César Okuda\n"
     ]
    },
    {
     "name": "stdout",
     "output_type": "stream",
     "text": [
      "resultado:julio césar okuda\n"
     ]
    }
   ],
   "source": [
    "print(\"=\"*5,\"Converte em minúscula\",\"=\"*5)\n",
    "string = str(input(\"digite seu nome completo:\"))\n",
    "string_minuscula = string.lower()\n",
    "print(f\"resultado:{string_minuscula}\")"
   ]
  },
  {
   "cell_type": "markdown",
   "id": "3b43ecd8-80d6-45d2-8b98-716dab3ad0f2",
   "metadata": {},
   "source": [
    "13. Desenvolva um programa que peça ao usuário para inserir uma frase e, em seguida, imprima esta frase sem espaços em branco no início e no final."
   ]
  },
  {
   "cell_type": "code",
   "execution_count": 37,
   "id": "09743e82-4cb4-41fc-a4aa-1cfad8085638",
   "metadata": {},
   "outputs": [
    {
     "name": "stdout",
     "output_type": "stream",
     "text": [
      "----- Remove espaços no início e final de uma frase. -----\n"
     ]
    },
    {
     "name": "stdin",
     "output_type": "stream",
     "text": [
      "Insira uma frase com espaço no início e final:  Hoje está um dia chuvoso \n"
     ]
    },
    {
     "name": "stdout",
     "output_type": "stream",
     "text": [
      "Hoje está um dia chuvoso\n"
     ]
    }
   ],
   "source": [
    "print(\"-\"*5,\"Remove espaços no início e final de uma frase.\", \"-\"*5)\n",
    "frase = str(input(\"Insira uma frase com espaço no início e final:\"))\n",
    "frase_sem_espaco = frase.strip()\n",
    "print(frase_sem_espaco)"
   ]
  },
  {
   "cell_type": "markdown",
   "id": "35e8e549-fdfc-4e3b-afd1-2d957de8bada",
   "metadata": {},
   "source": [
    "14. Faça um programa que peça ao usuário para digitar uma data no formato \"dd/mm/aaaa\" e, em seguida, imprima o dia, o mês e o ano separadamente."
   ]
  },
  {
   "cell_type": "code",
   "execution_count": 40,
   "id": "08c7348d-6a9f-4d07-81f3-9a9b744ac647",
   "metadata": {},
   "outputs": [
    {
     "name": "stdout",
     "output_type": "stream",
     "text": [
      "----- Imprime o dia, mês e ano separadamente -----\n"
     ]
    },
    {
     "name": "stdin",
     "output_type": "stream",
     "text": [
      "digite uma data no formato 'dd/mm/aaaa': 11/06/1979\n"
     ]
    },
    {
     "name": "stdout",
     "output_type": "stream",
     "text": [
      "dia:11\n",
      "mês:06\n",
      "ano:1979\n"
     ]
    }
   ],
   "source": [
    "print(\"-\"*5,\"Imprime o dia, mês e ano separadamente\",\"-\"*5)\n",
    "data = str(input(\"digite uma data no formato 'dd/mm/aaaa':\"))\n",
    "dia, mes, ano = data.split(\"/\")\n",
    "print(f\"dia:{dia}\\nmês:{mes}\\nano:{ano}\")\n"
   ]
  },
  {
   "cell_type": "markdown",
   "id": "2fcd8512-7d5f-4346-bb37-2d0106d0f0af",
   "metadata": {},
   "source": [
    "15. Escreva um programa que concatene duas strings fornecidas pelo usuário.\n",
    "    "
   ]
  },
  {
   "cell_type": "code",
   "execution_count": 43,
   "id": "0c6e9248-2765-4bc6-9d86-7c1b440728c1",
   "metadata": {},
   "outputs": [
    {
     "name": "stdout",
     "output_type": "stream",
     "text": [
      "----- Concatena duas strings. -----\n"
     ]
    },
    {
     "name": "stdin",
     "output_type": "stream",
     "text": [
      "digite uma palavra qualquer: learning\n",
      "digite uma segunda palavra: python\n"
     ]
    },
    {
     "name": "stdout",
     "output_type": "stream",
     "text": [
      "As duas palavras foram concatenadas:learning python\n"
     ]
    }
   ],
   "source": [
    "print(\"-\"*5,\"Concatena duas strings.\",\"-\"*5) \n",
    "str1 = str(input(\"digite uma palavra qualquer:\"))\n",
    "str2 = str(input(\"digite uma segunda palavra:\")) \n",
    "concatena = \" \".join([str1,str2])\n",
    "print(f\"As duas palavras foram concatenadas:{concatena}\")"
   ]
  },
  {
   "cell_type": "markdown",
   "id": "fa0c8d3a-283d-4f4f-a5bb-9c85bfe19721",
   "metadata": {},
   "source": [
    "16. Escreva um programa que avalie duas expressões booleanas inseridas pelo usuário e retorne o resultado da operação AND entre elas."
   ]
  },
  {
   "cell_type": "code",
   "execution_count": 49,
   "id": "f320d6b2-971f-47a6-a8e8-2e4ae61011a6",
   "metadata": {},
   "outputs": [
    {
     "name": "stdout",
     "output_type": "stream",
     "text": [
      "----- compara boleanos com AND -----\n"
     ]
    },
    {
     "name": "stdin",
     "output_type": "stream",
     "text": [
      "insira 'True' ou 'False': true\n",
      "insira um segundo 'True' ou 'False' para comparação: false\n"
     ]
    },
    {
     "name": "stdout",
     "output_type": "stream",
     "text": [
      "O resultado de true and false é: false!\n"
     ]
    }
   ],
   "source": [
    "print(\"-\"*5,\"compara boleanos com AND\",\"-\"*5) \n",
    "bool1 = input(\"insira 'True' ou 'False':\").lower()\n",
    "bool2 = input(\"insira um segundo 'True' ou 'False' para comparação:\").lower()\n",
    "resultado = bool1 and bool2\n",
    "print(f\"O resultado de {bool1} and {bool2} é: {resultado}!\")"
   ]
  },
  {
   "cell_type": "markdown",
   "id": "2b7efd0d-0db7-4123-8a3c-90596be38f45",
   "metadata": {},
   "source": [
    "17. Crie um programa que receba dois valores booleanos do usuário e retorne o resultado da operação OR."
   ]
  },
  {
   "cell_type": "code",
   "execution_count": 50,
   "id": "2ba79d38-97fc-41a8-a3dc-d82f113c3d80",
   "metadata": {},
   "outputs": [
    {
     "name": "stdout",
     "output_type": "stream",
     "text": [
      "----- compara boleanos com OR -----\n"
     ]
    },
    {
     "name": "stdin",
     "output_type": "stream",
     "text": [
      "insira 'True' ou 'False': TRUE\n",
      "insira um segundo 'True' ou 'False' para comparação: False\n"
     ]
    },
    {
     "name": "stdout",
     "output_type": "stream",
     "text": [
      "O resultado de true or false é: true!\n"
     ]
    }
   ],
   "source": [
    "print(\"-\"*5,\"compara boleanos com OR\",\"-\"*5) \n",
    "bool1 = input(\"insira 'True' ou 'False':\").lower()\n",
    "bool2 = input(\"insira um segundo 'True' ou 'False' para comparação:\").lower()\n",
    "resultado = bool1 or bool2\n",
    "print(f\"O resultado de {bool1} or {bool2} é: {resultado}!\")"
   ]
  },
  {
   "cell_type": "markdown",
   "id": "7e71ada0-8900-4f2e-8915-ced1ea871b21",
   "metadata": {},
   "source": [
    "18. Desenvolva um programa que peça ao usuário para inserir um valor booleano e, em seguida, inverta esse valor."
   ]
  },
  {
   "cell_type": "code",
   "execution_count": 102,
   "id": "f10ee838-1690-4ddb-9f65-f9437abfc607",
   "metadata": {},
   "outputs": [
    {
     "name": "stdout",
     "output_type": "stream",
     "text": [
      "----- inverte boleano -----\n"
     ]
    },
    {
     "name": "stdin",
     "output_type": "stream",
     "text": [
      "insira 'True' ou 'False': false\n"
     ]
    },
    {
     "name": "stdout",
     "output_type": "stream",
     "text": [
      "O resultado de False invertido é: True!\n"
     ]
    }
   ],
   "source": [
    "print(\"-\"*5,\"inverte boleano\",\"-\"*5) \n",
    "valor = input(\"insira 'True' ou 'False':\").lower()\n",
    "if valor == 'true':\n",
    "    booleano = True\n",
    "else:\n",
    "    booleano = False\n",
    "\n",
    "booleano_invertido = not booleano\n",
    "print(f\"O resultado de {booleano} invertido é: {booleano_invertido}!\")"
   ]
  },
  {
   "cell_type": "markdown",
   "id": "7d328384-1d2f-4258-a43b-a3f1fe30dddf",
   "metadata": {},
   "source": [
    "19. Faça um programa que compare se dois números fornecidos pelo usuário são iguais.\n"
   ]
  },
  {
   "cell_type": "code",
   "execution_count": 108,
   "id": "b3fa5c61-1630-4049-a1ed-e64bf5605f79",
   "metadata": {},
   "outputs": [
    {
     "name": "stdout",
     "output_type": "stream",
     "text": [
      "----- compara se 2 números são iguaisR -----\n"
     ]
    },
    {
     "name": "stdin",
     "output_type": "stream",
     "text": [
      "insira o primeiro valor': 123\n",
      "insira um segundo valor para comparação: 213\n"
     ]
    },
    {
     "name": "stdout",
     "output_type": "stream",
     "text": [
      " O resultado da comparação entre 123 e 213 é:False\n"
     ]
    }
   ],
   "source": [
    "print(\"-\"*5,\"compara se 2 números são iguais\",\"-\"*5) \n",
    "val1 = int(input(\"insira o primeiro valor':\"))\n",
    "val2 = int(input(\"insira um segundo valor para comparação:\"))\n",
    "resultado = val1 == val2 \n",
    "print(f\" O resultado da comparação da igualdade entre {val1} e {val2} é:{resultado}\")"
   ]
  },
  {
   "cell_type": "markdown",
   "id": "72951735-aabb-4d22-8e79-ed3024ff403f",
   "metadata": {},
   "source": [
    "20. Escreva um programa que verifique se dois números fornecidos pelo usuário são diferentes."
   ]
  },
  {
   "cell_type": "code",
   "execution_count": 109,
   "id": "a5c2a5bb-c7d0-4a44-a4b6-6c45da48d12e",
   "metadata": {},
   "outputs": [
    {
     "name": "stdout",
     "output_type": "stream",
     "text": [
      "----- compara se 2 números são diferentes -----\n"
     ]
    },
    {
     "name": "stdin",
     "output_type": "stream",
     "text": [
      "insira o primeiro valor': 123\n",
      "insira um segundo valor para comparação: 321\n"
     ]
    },
    {
     "name": "stdout",
     "output_type": "stream",
     "text": [
      " O resultado da comparação da diferença entre 123 e 321 é:True\n"
     ]
    }
   ],
   "source": [
    "print(\"-\"*5,\"compara se 2 números são diferentes\",\"-\"*5) \n",
    "val1 = int(input(\"insira o primeiro valor':\"))\n",
    "val2 = int(input(\"insira um segundo valor para comparação:\"))\n",
    "resultado = val1 != val2 \n",
    "print(f\" O resultado da comparação da diferença entre {val1} e {val2} é:{resultado}\")"
   ]
  },
  {
   "cell_type": "markdown",
   "id": "c3e09e4f-c9e6-422e-87f7-b3ee5a7e4bb7",
   "metadata": {},
   "source": [
    "21. Escreva um programa que converta a temperatura de Celsius para Fahrenheit. O programa deve solicitar ao usuário a temperatura em Celsius e, utilizando try-except, garantir que a entrada seja numérica, tratando qualquer ValueError. Imprima o resultado em Fahrenheit ou uma mensagem de erro se a entrada não for válida."
   ]
  },
  {
   "cell_type": "code",
   "execution_count": 111,
   "id": "375a53aa-5503-46d4-8595-5d2b03a80dc2",
   "metadata": {},
   "outputs": [
    {
     "name": "stdout",
     "output_type": "stream",
     "text": [
      "===== Cálculo da conversão de Celsius para fahrenheit =====\n"
     ]
    },
    {
     "name": "stdin",
     "output_type": "stream",
     "text": [
      "digite um número em graus celsius: 20 graus\n"
     ]
    },
    {
     "name": "stdout",
     "output_type": "stream",
     "text": [
      "Digite um número válido para temperatura!\n"
     ]
    }
   ],
   "source": [
    "print(\"=\"*5,\"Cálculo da conversão de Celsius para fahrenheit\",\"=\"*5)\n",
    "try:\n",
    "    celsius = float(input(\"digite um número em graus celsius:\"))\n",
    "    fahrenheit = celsius * 1.8 + 32\n",
    "    print(f\"{celsius} Graus Celsius equivale a: {round(fahrenheit,2)} graus fahrenheit\")\n",
    "except ValueError:\n",
    "    print(\"Digite um número válido para temperatura!\")"
   ]
  },
  {
   "cell_type": "markdown",
   "id": "b6d2ca10-5f65-415d-b2cf-d7de293403e6",
   "metadata": {},
   "source": [
    "22. Crie um programa que verifica se uma palavra ou frase é um palíndromo (lê-se igualmente de trás para frente, desconsiderando espaços e pontuações). Utilize try-except para garantir que a entrada seja uma string. Dica: Utilize a função isinstance() para verificar o tipo da entrada."
   ]
  },
  {
   "cell_type": "code",
   "execution_count": 154,
   "id": "dde3f0f5-9d2f-461e-bdb1-52c1fd1c3d7a",
   "metadata": {},
   "outputs": [
    {
     "name": "stdout",
     "output_type": "stream",
     "text": [
      "===== Verifica se uma palavra ou frase é um palíndromo =====\n"
     ]
    },
    {
     "name": "stdin",
     "output_type": "stream",
     "text": [
      "insira uma frase ou palavra': Anotaram a data da maratona?\n"
     ]
    },
    {
     "name": "stdout",
     "output_type": "stream",
     "text": [
      "o texto é um palíndromo!\n"
     ]
    }
   ],
   "source": [
    "print(\"=\"*5,\"Verifica se uma palavra ou frase é um palíndromo\",\"=\"*5)\n",
    "try:\n",
    "    texto = input(\"insira uma frase ou palavra':\")     \n",
    "    #convertendo todo o texto em minúsculo\n",
    "    texto = texto.lower()\n",
    "    #Iterando sobre o texto para remover pontuações e espaços\n",
    "    texto = ''.join([x for x in texto if x.isalnum()])\n",
    "    #Verifica se a frase é um palíndromo\n",
    "    resposta = texto == texto[::-1]   \n",
    "    if resposta:\n",
    "        print(\"o texto é um palíndromo!\")\n",
    "    else:\n",
    "        print(\"o textto não é um palíndromo!\")\n",
    "except ValueError:\n",
    "    print(\"entrada inválida\")\n",
    "    \n",
    "    "
   ]
  },
  {
   "cell_type": "markdown",
   "id": "c8edd175-cb13-49fc-b494-541aa79a5a78",
   "metadata": {},
   "source": [
    "23. Desenvolva uma calculadora simples que aceite duas entradas numéricas e um operador (+, -, *, /) do usuário. Use try-except para lidar com divisões por zero e entradas não numéricas. Utilize if-elif-else para realizar a operação matemática baseada no operador fornecido. Imprima o resultado ou uma mensagem de erro apropriada."
   ]
  },
  {
   "cell_type": "code",
   "execution_count": 167,
   "id": "6d42a519-f51a-4c27-b425-364df8c45195",
   "metadata": {},
   "outputs": [
    {
     "name": "stdout",
     "output_type": "stream",
     "text": [
      "===== Calculadora Simples =====\n"
     ]
    },
    {
     "name": "stdin",
     "output_type": "stream",
     "text": [
      "Digite o primeiro número:  2\n",
      "Digite o operador (+, -, *, /):  -2\n",
      "Digite o segundo número:  2\n"
     ]
    },
    {
     "name": "stdout",
     "output_type": "stream",
     "text": [
      "Erro: Operador inválido.\n",
      "Certifique-se de que os números são válidos e o operador é válido.\n"
     ]
    },
    {
     "name": "stdin",
     "output_type": "stream",
     "text": [
      "Digite o primeiro número:  2\n",
      "Digite o operador (+, -, *, /):  0\n",
      "Digite o segundo número:  2\n"
     ]
    },
    {
     "name": "stdout",
     "output_type": "stream",
     "text": [
      "Erro: Operador inválido.\n",
      "Certifique-se de que os números são válidos e o operador é válido.\n"
     ]
    },
    {
     "name": "stdin",
     "output_type": "stream",
     "text": [
      "Digite o primeiro número:  2\n",
      "Digite o operador (+, -, *, /):  -\n",
      "Digite o segundo número:  2\n"
     ]
    },
    {
     "name": "stdout",
     "output_type": "stream",
     "text": [
      "Resultado: 0.0\n"
     ]
    }
   ],
   "source": [
    "print(\"=\"*5,\"Calculadora Simples\",\"=\"*5)\n",
    "while True:\n",
    "    try:\n",
    "        num1 = float(input(\"Digite o primeiro número: \"))\n",
    "        operador = input(\"Digite o operador (+, -, *, /): \")\n",
    "        num2 = float(input(\"Digite o segundo número: \"))\n",
    "                \n",
    "        if operador == '+':\n",
    "             resultado = num1 + num2\n",
    "        elif operador == '-':\n",
    "             resultado = num1 - num2\n",
    "        elif operador == '*':\n",
    "             resultado = num1 * num2\n",
    "        elif operador == '/':\n",
    "             resultado = num1 / num2\n",
    "        else:\n",
    "            raise ValueError(\"Operador inválido.\")\n",
    "            \n",
    "        print(\"Resultado:\", resultado)\n",
    "        break\n",
    "        \n",
    "    except ValueError as ve:\n",
    "        print(\"Erro:\", ve)\n",
    "        print(\"Certifique-se de que os números são válidos e o operador é válido.\")\n",
    "    except ZeroDivisionError as zde:\n",
    "        print(\"Erro:\", zde)\n",
    "        print(\"Não é possível dividir por zero. Tente novamente.\")\n",
    "\n"
   ]
  },
  {
   "cell_type": "markdown",
   "id": "e3f0b956-f370-429d-824b-1cb8ecde9a13",
   "metadata": {},
   "source": [
    "24. Escreva um programa que solicite ao usuário para digitar um número. Utilize try-except para assegurar que a entrada seja numérica e utilize if-elif-else para classificar o número como \"positivo\", \"negativo\" ou \"zero\". Adicionalmente, identifique se o número é \"par\" ou \"ímpar\"."
   ]
  },
  {
   "cell_type": "code",
   "execution_count": 180,
   "id": "f3268d1d-a434-49c9-83d4-9963680d4c41",
   "metadata": {},
   "outputs": [
    {
     "name": "stdin",
     "output_type": "stream",
     "text": [
      "digite um número inteiro: 5\n"
     ]
    },
    {
     "name": "stdout",
     "output_type": "stream",
     "text": [
      "o número é positivo\n",
      "o número é impar\n"
     ]
    }
   ],
   "source": [
    "try:\n",
    "    numero = int(input(\"digite um número inteiro:\"))\n",
    "    if numero == 0:\n",
    "        print(\"o número é zero\")\n",
    "    elif numero < 0: \n",
    "        print(\"o número é negativo\")\n",
    "    else:\n",
    "        print(\"o número é positivo\")\n",
    "    resto = numero % 2\n",
    "    if resto == 0:\n",
    "        print(f\"o número é par\")\n",
    "    else:\n",
    "        print(f\"o número é impar\")    \n",
    "\n",
    "except ValueError as e:\n",
    "    print(e)\n",
    "    print(\"Certifique-se de que o número inserido é do tipo inteiro.\")"
   ]
  },
  {
   "cell_type": "markdown",
   "id": "cb383252-2c4d-4365-a4f4-1ef7760c42aa",
   "metadata": {},
   "source": [
    "25. Crie um script que solicite ao usuário uma lista de números separados por vírgula. O programa deve converter a string de entrada em uma lista de números inteiros. Utilize try-except para tratar a conversão de cada número e validar que cada elemento da lista convertida é um inteiro. Se a conversão falhar ou um elemento não for um inteiro, imprima uma mensagem de erro. Se a conversão for bem-sucedida para todos os elementos, imprima a lista de inteiros."
   ]
  },
  {
   "cell_type": "code",
   "execution_count": 236,
   "id": "4be3f87d-bd85-49fe-b9b5-7da3acf2d62e",
   "metadata": {},
   "outputs": [
    {
     "name": "stdin",
     "output_type": "stream",
     "text": [
      "digite uma sequência de números separado por vírgula: 2, 3  , 4,  5\n"
     ]
    },
    {
     "name": "stdout",
     "output_type": "stream",
     "text": [
      "lista dos números inteiros: [2, 3, 4, 5]\n"
     ]
    }
   ],
   "source": [
    "try:\n",
    "\n",
    "    lista = input(\"digite uma sequência de números separado por vírgula:\")\n",
    "    lista_ok = [int(x) for x in lista.split(',')]\n",
    "    print(f\"lista dos números inteiros: {lista_ok}\")\n",
    "\n",
    "except ValueError as e:\n",
    "    print(e)\n",
    "    print(\"Digite uma sequência de números inteiros válidos separado por vírgula\")"
   ]
  },
  {
   "cell_type": "markdown",
   "id": "34f61793-cec3-4515-b09b-7546514b914a",
   "metadata": {},
   "source": [
    "## Desafio - Refatorar o projeto da aula 01 evitando possíveis bugs!"
   ]
  },
  {
   "cell_type": "markdown",
   "id": "dd155b97-6227-4fe2-a138-be605be3c676",
   "metadata": {},
   "source": [
    "![img](../img/desafio2.png)"
   ]
  },
  {
   "cell_type": "code",
   "execution_count": 5,
   "id": "de409d4f-c7ea-4178-96d3-199cadb5365f",
   "metadata": {},
   "outputs": [
    {
     "name": "stdin",
     "output_type": "stream",
     "text": [
      "Digite seu nome:  julio123\n"
     ]
    },
    {
     "name": "stdout",
     "output_type": "stream",
     "text": [
      "Erro: O nome não deve conter números.\n"
     ]
    }
   ],
   "source": [
    "try:\n",
    "    # Solicita ao usuário que insira seu nome\n",
    "    nome = input(\"Digite seu nome: \").strip()\n",
    "    \n",
    "    # Verifica se o nome está vazio ou contém números\n",
    "    if not nome:\n",
    "        raise ValueError(\"O nome não pode estar vazio.\")\n",
    "    elif any(char.isdigit() for char in nome):\n",
    "        raise ValueError(\"O nome não deve conter números.\")\n",
    "\n",
    "    # Solicita ao usuário que insira o valor do salário e valida\n",
    "    salario = float(input(\"Digite o valor do seu salário: \"))\n",
    "    if salario <= 0:\n",
    "        print(\"Por favor, digite um valor positivo para o salário.\")\n",
    "        raise ValueError\n",
    "\n",
    "    # Solicita ao usuário que insira o valor do bônus recebido e valida\n",
    "    bonus_recebido = float(input(\"Digite o valor do bônus recebido: \"))\n",
    "    if bonus_recebido < 0:\n",
    "        print(\"Por favor, digite um valor positivo para o bônus.\")\n",
    "        raise ValueError\n",
    "\n",
    "    # Calcula o total\n",
    "    kpi = 1000 + salario * bonus_recebido  \n",
    "\n",
    "    # Imprime as informações para o usuário\n",
    "    print(f\"{nome}, considerando seu salário de R${salario:.2f} o total com bônus é de R${kpi:.2f}.\")\n",
    "except ValueError as e:\n",
    "    print(\"Erro:\", e)\n",
    "except Exception as e:\n",
    "    print(\"Ocorreu um erro:\", e)"
   ]
  },
  {
   "cell_type": "code",
   "execution_count": null,
   "id": "b91686c7-0883-43ff-b25c-5a592ff7debb",
   "metadata": {},
   "outputs": [],
   "source": []
  }
 ],
 "metadata": {
  "kernelspec": {
   "display_name": "bootcamp_jd24",
   "language": "python",
   "name": "bootcamp_jd24"
  },
  "language_info": {
   "codemirror_mode": {
    "name": "ipython",
    "version": 3
   },
   "file_extension": ".py",
   "mimetype": "text/x-python",
   "name": "python",
   "nbconvert_exporter": "python",
   "pygments_lexer": "ipython3",
   "version": "3.11.3"
  }
 },
 "nbformat": 4,
 "nbformat_minor": 5
}
