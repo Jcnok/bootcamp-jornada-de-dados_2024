{
 "cells": [
  {
   "cell_type": "code",
   "execution_count": null,
   "id": "baca9eda-4225-4d90-b562-7f9a13ede487",
   "metadata": {},
   "outputs": [],
   "source": [
    "!pip install faker "
   ]
  },
  {
   "cell_type": "code",
   "execution_count": null,
   "id": "f298fa10-9391-46b8-a273-e9af01922cbf",
   "metadata": {},
   "outputs": [],
   "source": [
    "!pip install tqdm"
   ]
  },
  {
   "cell_type": "code",
   "execution_count": 3,
   "id": "0c90fa0e-7ad7-4064-a07e-1f3ebce826af",
   "metadata": {},
   "outputs": [
    {
     "name": "stdin",
     "output_type": "stream",
     "text": [
      "Digite o número de linhas a serem geradas:  100000000\n"
     ]
    },
    {
     "name": "stderr",
     "output_type": "stream",
     "text": [
      "100%|████████████████████████████████████| 100000000/100000000 [3:19:11<00:00, 8367.48it/s]"
     ]
    },
    {
     "name": "stdout",
     "output_type": "stream",
     "text": [
      "Tempo real de geração: 11951.037693500519 Minutos\n",
      "Tamanho real do arquivo: 1819848669 Megabytes\n"
     ]
    },
    {
     "name": "stderr",
     "output_type": "stream",
     "text": [
      "\n"
     ]
    }
   ],
   "source": [
    "# Gera dados aleatórios \n",
    "import faker\n",
    "import os\n",
    "import sys\n",
    "import time\n",
    "from tqdm import tqdm\n",
    "import random\n",
    "\n",
    "# Cria um objeto Faker\n",
    "fake = faker.Faker()\n",
    "\n",
    "# Função para gerar os dados de teste\n",
    "def generate_test_data(num_rows):\n",
    "  \"\"\"\n",
    "  Gera dados de teste e os escreve em um arquivo.\n",
    "\n",
    "  Argumentos:\n",
    "    num_rows: Número de linhas a serem geradas.\n",
    "\n",
    "  Retorno:\n",
    "    None.\n",
    "  \"\"\"\n",
    "  with open(\"data/measurements1.txt\", \"w\", encoding=\"utf-8\") as file:\n",
    "    for _ in tqdm(range(num_rows)):\n",
    "      # Gera dados aleatórios\n",
    "      station_name = fake.city()\n",
    "      temperature = round(fake.random_element([random.uniform(-50, 50), random.uniform(50, 100)]), 1)\n",
    "\n",
    "      # Escreve a linha no arquivo\n",
    "      file.write(f\"{station_name};{temperature}\\n\")\n",
    "\n",
    "# Solicita o número de linhas ao usuário\n",
    "num_rows = int(input(\"Digite o número de linhas a serem geradas: \"))\n",
    "\n",
    "# Gera os dados de teste\n",
    "start_time = time.time()\n",
    "generate_test_data(num_rows)\n",
    "end_time = time.time()\n",
    "\n",
    "# Exibe o tempo real de geração\n",
    "print(\"Tempo real de geração:\", end_time - start_time, \"Minutos\")\n",
    "\n",
    "# Exibe o tamanho real do arquivo\n",
    "file_size = os.path.getsize(\"data/measurements1.txt\")\n",
    "print(\"Tamanho real do arquivo:\", file_size, \"Megabytes\")\n"
   ]
  },
  {
   "cell_type": "code",
   "execution_count": null,
   "id": "88b3a4ef-2aa0-4b43-9c6e-f5c0669317eb",
   "metadata": {},
   "outputs": [],
   "source": []
  },
  {
   "cell_type": "code",
   "execution_count": null,
   "id": "cd916637-57e0-4d30-a01b-ebf6f660c32e",
   "metadata": {},
   "outputs": [],
   "source": [
    "import faker\n",
    "import os\n",
    "import sys\n",
    "import time\n",
    "from tqdm import tqdm\n",
    "from multiprocessing import Pool\n",
    "\n",
    "# Cria um objeto Faker\n",
    "fake = faker.Faker()\n",
    "\n",
    "# Função para gerar dados de teste\n",
    "def generate_test_data(num_rows, chunk_size):\n",
    "  \"\"\"\n",
    "  Gera dados de teste e os escreve em um arquivo.\n",
    "\n",
    "  Argumentos:\n",
    "    num_rows: Número de linhas a serem geradas.\n",
    "    chunk_size: Tamanho do bloco de dados a ser gerado por cada thread.\n",
    "\n",
    "  Retorno:\n",
    "    None.\n",
    "  \"\"\"\n",
    "  with open(\"data/measurements.txt\", \"w\", encoding=\"utf-8\") as file:\n",
    "    for i in tqdm(range(0, num_rows, chunk_size)):\n",
    "      # Gera um bloco de dados\n",
    "      data_chunk = []\n",
    "      for _ in range(chunk_size):\n",
    "        station_name = fake.city()\n",
    "        temperature = round(fake.random_element([random.uniform(-50, 50), random.uniform(50, 100)]), 1)\n",
    "        data_chunk.append(f\"{station_name};{temperature}\\n\")\n",
    "\n",
    "      # Escreve o bloco de dados no arquivo\n",
    "      file.writelines(data_chunk)\n",
    "\n",
    "# Solicita o número de linhas ao usuário\n",
    "num_rows = int(input(\"Digite o número de linhas a serem geradas: \"))\n",
    "\n",
    "# Define o tamanho do bloco de dados\n",
    "chunk_size = 100000  # Ajuste este valor de acordo com a sua memória disponível\n",
    "\n",
    "# Número de threads\n",
    "num_workers = os.cpu_count()\n",
    "\n",
    "# Gera os dados de teste em paralelo\n",
    "start_time = time.time()\n",
    "with Pool(num_workers) as pool:\n",
    "  pool.starmap(generate_test_data, [(num_rows, chunk_size)])\n",
    "end_time = time.time()\n",
    "\n",
    "# Exibe o tempo real de geração\n",
    "print(\"Tempo real de geração:\", end_time - start_time, \"segundos\")\n",
    "\n",
    "# Exibe o tamanho real do arquivo\n",
    "file_size = os.path.getsize(\"data/measurements.txt\")\n",
    "print(\"Tamanho real do arquivo:\", file_size, \"bytes\")\n"
   ]
  },
  {
   "cell_type": "code",
   "execution_count": null,
   "id": "a0476155-29b9-4a45-9194-09f07bd01e90",
   "metadata": {},
   "outputs": [],
   "source": []
  },
  {
   "cell_type": "code",
   "execution_count": null,
   "id": "2be1ad10-dbea-4dd4-acfb-dd00daa58bb0",
   "metadata": {},
   "outputs": [],
   "source": [
    "num_workers = os.cpu_count()"
   ]
  },
  {
   "cell_type": "code",
   "execution_count": null,
   "id": "f1cfc661-da58-4817-b7c3-7f22448417be",
   "metadata": {},
   "outputs": [],
   "source": [
    "num_workers"
   ]
  },
  {
   "cell_type": "code",
   "execution_count": null,
   "id": "ce9523bf-afd3-4c3e-a34c-cc2cee757259",
   "metadata": {},
   "outputs": [],
   "source": [
    "import faker\n",
    "import os\n",
    "from tqdm import tqdm\n",
    "from multiprocessing import Pool\n",
    "\n",
    "# Cria um objeto Faker\n",
    "fake = faker.Faker()\n",
    "\n",
    "# Função para gerar dados de teste\n",
    "def generate_test_data(args):\n",
    "    \"\"\"\n",
    "    Gera dados de teste e os escreve em um arquivo.\n",
    "\n",
    "    Argumentos:\n",
    "      args: Tupla contendo o número total de linhas a serem geradas e o tamanho do bloco de dados.\n",
    "\n",
    "    Retorno:\n",
    "      None.\n",
    "    \"\"\"\n",
    "    num_rows, chunk_size = args\n",
    "    file_path = \"./data/measurements1.txt\"\n",
    "\n",
    "    with open(file_path, \"a\", encoding=\"utf-8\") as file:\n",
    "        for _ in tqdm(range(num_rows)):\n",
    "            station_name = fake.city()\n",
    "            temperature = round(fake.random_element([fake.random_number(digits=2, fix_len=True) for _ in range(2)]), 1)\n",
    "            file.write(f\"{station_name};{temperature}\\n\")\n",
    "\n",
    "# Solicita o número de linhas ao usuário\n",
    "num_rows = int(input(\"Digite o número de linhas a serem geradas: \"))\n",
    "\n",
    "# Define o tamanho do bloco de dados\n",
    "chunk_size = 10000  # Ajuste este valor de acordo com a sua memória disponível\n",
    "\n",
    "# Número de threads\n",
    "num_workers = os.cpu_count()\n",
    "\n",
    "# Gera os dados de teste em paralelo\n",
    "with Pool(num_workers) as pool:\n",
    "    pool.map(generate_test_data, [(num_rows // num_workers, chunk_size)] * num_workers)\n",
    "\n",
    "# Exibe o tamanho real do arquivo\n",
    "file_size = os.path.getsize(\"./data/measurements1.txt\")\n",
    "print(\"Tamanho real do arquivo:\", file_size, \"bytes\")\n"
   ]
  },
  {
   "cell_type": "code",
   "execution_count": null,
   "id": "a0c6a188-e939-4f10-b050-20b66001d55a",
   "metadata": {},
   "outputs": [],
   "source": []
  },
  {
   "cell_type": "code",
   "execution_count": null,
   "id": "02d980f1-c61b-474d-be99-e065d1948e33",
   "metadata": {},
   "outputs": [],
   "source": [
    "!nvidia-smi"
   ]
  },
  {
   "cell_type": "code",
   "execution_count": null,
   "id": "cf9328d0-7df4-473d-98c4-7970118f1d6d",
   "metadata": {},
   "outputs": [],
   "source": []
  },
  {
   "cell_type": "code",
   "execution_count": null,
   "id": "810961e4-cb03-4b79-8741-7300f31652c8",
   "metadata": {},
   "outputs": [],
   "source": [
    "!pip install numpy"
   ]
  },
  {
   "cell_type": "code",
   "execution_count": null,
   "id": "a457b7cb-3570-4d80-93a9-07668121ce4f",
   "metadata": {},
   "outputs": [],
   "source": [
    "!pip install numba"
   ]
  },
  {
   "cell_type": "code",
   "execution_count": null,
   "id": "ffd0d41e-45a8-4419-bbf0-171d132c7be5",
   "metadata": {},
   "outputs": [],
   "source": []
  },
  {
   "cell_type": "code",
   "execution_count": null,
   "id": "92c91158-febc-4fba-9490-ae97db991874",
   "metadata": {},
   "outputs": [],
   "source": [
    "import faker\n",
    "import os\n",
    "import numpy as np\n",
    "from numba import jit\n",
    "\n",
    "# Cria um objeto Faker\n",
    "fake = faker.Faker()\n",
    "\n",
    "# Função para gerar dados de teste\n",
    "@jit(nopython=True)\n",
    "def generate_test_data(num_rows):\n",
    "    \"\"\"\n",
    "    Gera dados de teste.\n",
    "\n",
    "    Argumentos:\n",
    "      num_rows: Número total de linhas a serem geradas.\n",
    "\n",
    "    Retorno:\n",
    "      Array numpy contendo os dados gerados.\n",
    "    \"\"\"\n",
    "    data = []\n",
    "    for _ in range(num_rows):\n",
    "        station_name = fake.city()\n",
    "        temperature = round(fake.random_element([fake.random_number(digits=2, fix_len=True) for _ in range(2)]), 1)\n",
    "        data.append((station_name, temperature))\n",
    "    return np.array(data)\n",
    "\n",
    "# Solicita o número de linhas ao usuário\n",
    "num_rows = int(input(\"Digite o número de linhas a serem geradas: \"))\n",
    "\n",
    "# Gera os dados de teste\n",
    "data = generate_test_data(num_rows)\n",
    "\n",
    "# Escreve os dados em um arquivo\n",
    "file_path = \"data/measurements.txt\"\n",
    "with open(file_path, \"w\", encoding=\"utf-8\") as file:\n",
    "    for row in data:\n",
    "        file.write(f\"{row[0]};{row[1]}\\n\")\n",
    "\n",
    "# Exibe o tamanho real do arquivo\n",
    "file_size = os.path.getsize(\"data/measurements.txt\")\n",
    "print(\"Tamanho real do arquivo:\", file_size, \"bytes\")\n"
   ]
  },
  {
   "cell_type": "code",
   "execution_count": null,
   "id": "71af496d-8cc7-4041-b07d-ba6ffc856d36",
   "metadata": {},
   "outputs": [],
   "source": [
    "import faker\n",
    "import os\n",
    "import numpy as np\n",
    "\n",
    "# Cria um objeto Faker\n",
    "fake = faker.Faker()\n",
    "\n",
    "# Função para gerar dados de teste\n",
    "def generate_test_data(num_rows, fake):\n",
    "    \"\"\"\n",
    "    Gera dados de teste.\n",
    "\n",
    "    Argumentos:\n",
    "      num_rows: Número total de linhas a serem geradas.\n",
    "      fake: Objeto Faker para gerar dados falsos.\n",
    "\n",
    "    Retorno:\n",
    "      Array numpy contendo os dados gerados.\n",
    "    \"\"\"\n",
    "    data = []\n",
    "    for _ in range(num_rows):\n",
    "        station_name = fake.city()\n",
    "        temperature = round(fake.random_element([fake.random_number(digits=2, fix_len=True) for _ in range(2)]), 1)\n",
    "        data.append((station_name, temperature))\n",
    "    return np.array(data)\n",
    "\n",
    "# Solicita o número de linhas ao usuário\n",
    "num_rows = int(input(\"Digite o número de linhas a serem geradas: \"))\n",
    "\n",
    "# Gera os dados de teste\n",
    "data = generate_test_data(num_rows, fake)\n",
    "\n",
    "# Escreve os dados em um arquivo\n",
    "file_path = \"./data/measurements.txt\"\n",
    "with open(file_path, \"w\", encoding=\"utf-8\") as file:\n",
    "    for row in data:\n",
    "        file.write(f\"{row[0]};{row[1]}\\n\")\n",
    "\n",
    "# Exibe o tamanho real do arquivo\n",
    "file_size = os.path.getsize(\"./data/measurements.txt\")\n",
    "print(\"Tamanho real do arquivo:\", file_size, \"bytes\")\n"
   ]
  },
  {
   "cell_type": "code",
   "execution_count": null,
   "id": "1b410902-a874-414e-abb7-cc463231d7d9",
   "metadata": {},
   "outputs": [],
   "source": []
  },
  {
   "cell_type": "code",
   "execution_count": null,
   "id": "4c6bbbf0-a342-4a70-806b-d44bede7b9cc",
   "metadata": {},
   "outputs": [],
   "source": [
    "import faker\n",
    "import os\n",
    "import numpy as np\n",
    "from numba import jit\n",
    "from tqdm import tqdm\n",
    "import time\n",
    "\n",
    "# Cria um objeto Faker\n",
    "fake = faker.Faker()\n",
    "\n",
    "# Função para gerar dados de teste\n",
    "def generate_test_data(num_rows, fake):\n",
    "    \"\"\"\n",
    "    Gera dados de teste.\n",
    "\n",
    "    Argumentos:\n",
    "      num_rows: Número total de linhas a serem geradas.\n",
    "      fake: Objeto Faker para gerar dados falsos.\n",
    "\n",
    "    Retorno:\n",
    "      Array numpy contendo os dados gerados.\n",
    "    \"\"\"\n",
    "    data = []\n",
    "    for _ in tqdm(range(num_rows), desc=\"Gerando dados\"):\n",
    "        station_name = fake.city()\n",
    "        temperature = round(fake.random_element([fake.random_number(digits=2, fix_len=True) for _ in range(2)]), 1)\n",
    "        data.append((station_name, temperature))\n",
    "    return np.array(data)\n",
    "\n",
    "# Solicita o número de linhas ao usuário\n",
    "num_rows = int(input(\"Digite o número de linhas a serem geradas: \"))\n",
    "\n",
    "# Inicia a contagem de tempo\n",
    "start_time = time.time()\n",
    "\n",
    "# Gera os dados de teste\n",
    "data = generate_test_data(num_rows, fake)\n",
    "\n",
    "# Escreve os dados em um arquivo\n",
    "file_path = \"./data/measurements2.txt\"\n",
    "with open(file_path, \"w\", encoding=\"utf-8\") as file:\n",
    "    for row in data:\n",
    "        file.write(f\"{row[0]};{row[1]}\\n\")\n",
    "\n",
    "# Finaliza a contagem de tempo\n",
    "end_time = time.time()\n",
    "\n",
    "# Exibe o tempo real de geração\n",
    "print(\"Tempo real de geração:\", end_time - start_time, \"segundos\")\n",
    "\n",
    "# Exibe o tamanho real do arquivo\n",
    "file_size = os.path.getsize(\"./data/measurements2.txt\") / (1024 * 1024)  # Convertendo bytes para megabytes\n",
    "print(\"Tamanho real do arquivo:\", file_size, \"Megabytes\")\n"
   ]
  },
  {
   "cell_type": "code",
   "execution_count": null,
   "id": "477e8e48-c1d6-4614-8eb1-c26d4b0026da",
   "metadata": {},
   "outputs": [],
   "source": []
  },
  {
   "cell_type": "code",
   "execution_count": null,
   "id": "7a4c18d2-e8ec-46c8-b3f0-c269743dbdb7",
   "metadata": {},
   "outputs": [],
   "source": [
    "import faker\n",
    "import os\n",
    "import time\n",
    "from tqdm import tqdm\n",
    "import cupy as cp\n",
    "\n",
    "# Cria um objeto Faker\n",
    "fake = faker.Faker()\n",
    "\n",
    "# Função para gerar os dados de teste na GPU\n",
    "def generate_test_data(num_rows):\n",
    "    \"\"\"\n",
    "    Gera dados de teste e os escreve em um arquivo.\n",
    "\n",
    "    Argumentos:\n",
    "      num_rows: Número de linhas a serem geradas.\n",
    "\n",
    "    Retorno:\n",
    "      None.\n",
    "    \"\"\"\n",
    "    with open(\"data/measurements.txt\", \"w\", encoding=\"utf-8\") as file:\n",
    "        for _ in tqdm(range(num_rows)):\n",
    "            # Gera dados aleatórios na GPU\n",
    "            station_name = fake.city()\n",
    "            temperature = round(cp.random.choice(cp.array([-50, 50, 100]), p=[0.4, 0.3, 0.3]), 1)\n",
    "\n",
    "            # Escreve a linha no arquivo\n",
    "            file.write(f\"{station_name};{temperature}\\n\")\n",
    "\n",
    "# Solicita o número de linhas ao usuário\n",
    "num_rows = int(input(\"Digite o número de linhas a serem geradas: \"))\n",
    "\n",
    "# Gera os dados de teste na GPU\n",
    "start_time = time.time()\n",
    "generate_test_data(num_rows)\n",
    "end_time = time.time()\n",
    "\n",
    "# Exibe o tempo real de geração\n",
    "print(\"Tempo real de geração:\", end_time - start_time, \"segundos\")\n",
    "\n",
    "# Exibe o tamanho real do arquivo\n",
    "file_size = os.path.getsize(\"data/measurements.txt\")\n",
    "print(\"Tamanho real do arquivo:\", file_size, \"Megabytes\")\n"
   ]
  },
  {
   "cell_type": "code",
   "execution_count": null,
   "id": "01bd28ac-1a75-4379-b841-feada659439b",
   "metadata": {},
   "outputs": [],
   "source": [
    "!pip install cupy"
   ]
  },
  {
   "cell_type": "code",
   "execution_count": 2,
   "id": "163c1fd2-f3e0-48e1-8a1a-bad749b65a3c",
   "metadata": {},
   "outputs": [
    {
     "name": "stdout",
     "output_type": "stream",
     "text": [
      "Using version \u001b[39;1m^2.2.1\u001b[39;22m for \u001b[36mpandas\u001b[39m\n",
      "\n",
      "\u001b[34mUpdating dependencies\u001b[39m\n",
      "\u001b[2K\u001b[34mResolving dependencies...\u001b[39m \u001b[39;2m(0.9s)\u001b[39;22m\n",
      "\n",
      "\u001b[39;1mPackage operations\u001b[39;22m: \u001b[34m3\u001b[39m installs, \u001b[34m1\u001b[39m update, \u001b[34m0\u001b[39m removals\n",
      "\n",
      "  \u001b[34;1m•\u001b[39;22m \u001b[39mUpdating \u001b[39m\u001b[36mpython-dateutil\u001b[39m\u001b[39m (\u001b[39m\u001b[39;1m2.8.2\u001b[39;22m\u001b[39m -> \u001b[39m\u001b[39;1m2.9.0.post0\u001b[39;22m\u001b[39m)\u001b[39m: \u001b[34mPending...\u001b[39m\n",
      "  \u001b[34;1m•\u001b[39;22m \u001b[39mInstalling \u001b[39m\u001b[36mpytz\u001b[39m\u001b[39m (\u001b[39m\u001b[39;1m2024.1\u001b[39;22m\u001b[39m)\u001b[39m: \u001b[34mPending...\u001b[39m\n",
      "  \u001b[34;1m•\u001b[39;22m \u001b[39mInstalling \u001b[39m\u001b[36mtzdata\u001b[39m\u001b[39m (\u001b[39m\u001b[39;1m2024.1\u001b[39;22m\u001b[39m)\u001b[39m: \u001b[34mPending...\u001b[39m\n",
      "\u001b[1A\u001b[0J  \u001b[34;1m•\u001b[39;22m \u001b[39mInstalling \u001b[39m\u001b[36mtzdata\u001b[39m\u001b[39m (\u001b[39m\u001b[39;1m2024.1\u001b[39;22m\u001b[39m)\u001b[39m: \u001b[34mInstalling...\u001b[39m\n",
      "\u001b[2A\u001b[0J  \u001b[34;1m•\u001b[39;22m \u001b[39mInstalling \u001b[39m\u001b[36mtzdata\u001b[39m\u001b[39m (\u001b[39m\u001b[39;1m2024.1\u001b[39;22m\u001b[39m)\u001b[39m: \u001b[34mInstalling...\u001b[39m\n",
      "\u001b[1A\u001b[0J  \u001b[34;1m•\u001b[39;22m \u001b[39mInstalling \u001b[39m\u001b[36mpytz\u001b[39m\u001b[39m (\u001b[39m\u001b[39;1m2024.1\u001b[39;22m\u001b[39m)\u001b[39m: \u001b[34mInstalling...\u001b[39m\n",
      "  \u001b[34;1m•\u001b[39;22m \u001b[39mInstalling \u001b[39m\u001b[36mtzdata\u001b[39m\u001b[39m (\u001b[39m\u001b[39;1m2024.1\u001b[39;22m\u001b[39m)\u001b[39m: \u001b[34mInstalling...\u001b[39m\n",
      "\u001b[3A\u001b[0J  \u001b[34;1m•\u001b[39;22m \u001b[39mInstalling \u001b[39m\u001b[36mpytz\u001b[39m\u001b[39m (\u001b[39m\u001b[39;1m2024.1\u001b[39;22m\u001b[39m)\u001b[39m: \u001b[34mInstalling...\u001b[39m\n",
      "  \u001b[34;1m•\u001b[39;22m \u001b[39mInstalling \u001b[39m\u001b[36mtzdata\u001b[39m\u001b[39m (\u001b[39m\u001b[39;1m2024.1\u001b[39;22m\u001b[39m)\u001b[39m: \u001b[34mInstalling...\u001b[39m\n",
      "\u001b[2A\u001b[0J  \u001b[34;1m•\u001b[39;22m \u001b[39mUpdating \u001b[39m\u001b[36mpython-dateutil\u001b[39m\u001b[39m (\u001b[39m\u001b[39;1m2.8.2\u001b[39;22m\u001b[39m -> \u001b[39m\u001b[39;1m2.9.0.post0\u001b[39;22m\u001b[39m)\u001b[39m: \u001b[34mDownloading...\u001b[39m \u001b[39;1m0%\u001b[39;22m\n",
      "  \u001b[34;1m•\u001b[39;22m \u001b[39mInstalling \u001b[39m\u001b[36mpytz\u001b[39m\u001b[39m (\u001b[39m\u001b[39;1m2024.1\u001b[39;22m\u001b[39m)\u001b[39m: \u001b[34mInstalling...\u001b[39m\n",
      "  \u001b[34;1m•\u001b[39;22m \u001b[39mInstalling \u001b[39m\u001b[36mtzdata\u001b[39m\u001b[39m (\u001b[39m\u001b[39;1m2024.1\u001b[39;22m\u001b[39m)\u001b[39m: \u001b[34mInstalling...\u001b[39m\n",
      "\u001b[3A\u001b[0J  \u001b[34;1m•\u001b[39;22m \u001b[39mInstalling \u001b[39m\u001b[36mpytz\u001b[39m\u001b[39m (\u001b[39m\u001b[39;1m2024.1\u001b[39;22m\u001b[39m)\u001b[39m: \u001b[34mInstalling...\u001b[39m\n",
      "  \u001b[34;1m•\u001b[39;22m \u001b[39mInstalling \u001b[39m\u001b[36mtzdata\u001b[39m\u001b[39m (\u001b[39m\u001b[39;1m2024.1\u001b[39;22m\u001b[39m)\u001b[39m: \u001b[34mInstalling...\u001b[39m\n",
      "\u001b[2A\u001b[0J  \u001b[34;1m•\u001b[39;22m \u001b[39mUpdating \u001b[39m\u001b[36mpython-dateutil\u001b[39m\u001b[39m (\u001b[39m\u001b[39;1m2.8.2\u001b[39;22m\u001b[39m -> \u001b[39m\u001b[39;1m2.9.0.post0\u001b[39;22m\u001b[39m)\u001b[39m: \u001b[34mDownloading...\u001b[39m \u001b[39;1m100%\u001b[39;22m\n",
      "  \u001b[34;1m•\u001b[39;22m \u001b[39mInstalling \u001b[39m\u001b[36mpytz\u001b[39m\u001b[39m (\u001b[39m\u001b[39;1m2024.1\u001b[39;22m\u001b[39m)\u001b[39m: \u001b[34mInstalling...\u001b[39m\n",
      "  \u001b[34;1m•\u001b[39;22m \u001b[39mInstalling \u001b[39m\u001b[36mtzdata\u001b[39m\u001b[39m (\u001b[39m\u001b[39;1m2024.1\u001b[39;22m\u001b[39m)\u001b[39m: \u001b[34mInstalling...\u001b[39m\n",
      "\u001b[3A\u001b[0J  \u001b[34;1m•\u001b[39;22m \u001b[39mInstalling \u001b[39m\u001b[36mpytz\u001b[39m\u001b[39m (\u001b[39m\u001b[39;1m2024.1\u001b[39;22m\u001b[39m)\u001b[39m: \u001b[34mInstalling...\u001b[39m\n",
      "  \u001b[34;1m•\u001b[39;22m \u001b[39mInstalling \u001b[39m\u001b[36mtzdata\u001b[39m\u001b[39m (\u001b[39m\u001b[39;1m2024.1\u001b[39;22m\u001b[39m)\u001b[39m: \u001b[34mInstalling...\u001b[39m\n",
      "\u001b[2A\u001b[0J  \u001b[34;1m•\u001b[39;22m \u001b[39mUpdating \u001b[39m\u001b[36mpython-dateutil\u001b[39m\u001b[39m (\u001b[39m\u001b[39;1m2.8.2\u001b[39;22m\u001b[39m -> \u001b[39m\u001b[39;1m2.9.0.post0\u001b[39;22m\u001b[39m)\u001b[39m: \u001b[34mInstalling...\u001b[39m\n",
      "  \u001b[34;1m•\u001b[39;22m \u001b[39mInstalling \u001b[39m\u001b[36mpytz\u001b[39m\u001b[39m (\u001b[39m\u001b[39;1m2024.1\u001b[39;22m\u001b[39m)\u001b[39m: \u001b[34mInstalling...\u001b[39m\n",
      "  \u001b[34;1m•\u001b[39;22m \u001b[39mInstalling \u001b[39m\u001b[36mtzdata\u001b[39m\u001b[39m (\u001b[39m\u001b[39;1m2024.1\u001b[39;22m\u001b[39m)\u001b[39m: \u001b[34mInstalling...\u001b[39m\n",
      "\u001b[1A\u001b[0J  \u001b[32;1m•\u001b[39;22m \u001b[39mInstalling \u001b[39m\u001b[36mtzdata\u001b[39m\u001b[39m (\u001b[39m\u001b[32m2024.1\u001b[39m\u001b[39m)\u001b[39m\n",
      "\u001b[2A\u001b[0J  \u001b[32;1m•\u001b[39;22m \u001b[39mInstalling \u001b[39m\u001b[36mtzdata\u001b[39m\u001b[39m (\u001b[39m\u001b[32m2024.1\u001b[39m\u001b[39m)\u001b[39m\n",
      "\u001b[1A\u001b[0J  \u001b[32;1m•\u001b[39;22m \u001b[39mInstalling \u001b[39m\u001b[36mpytz\u001b[39m\u001b[39m (\u001b[39m\u001b[32m2024.1\u001b[39m\u001b[39m)\u001b[39m\n",
      "  \u001b[32;1m•\u001b[39;22m \u001b[39mInstalling \u001b[39m\u001b[36mtzdata\u001b[39m\u001b[39m (\u001b[39m\u001b[32m2024.1\u001b[39m\u001b[39m)\u001b[39m\n",
      "\u001b[3A\u001b[0J  \u001b[32;1m•\u001b[39;22m \u001b[39mInstalling \u001b[39m\u001b[36mpytz\u001b[39m\u001b[39m (\u001b[39m\u001b[32m2024.1\u001b[39m\u001b[39m)\u001b[39m\n",
      "  \u001b[32;1m•\u001b[39;22m \u001b[39mInstalling \u001b[39m\u001b[36mtzdata\u001b[39m\u001b[39m (\u001b[39m\u001b[32m2024.1\u001b[39m\u001b[39m)\u001b[39m\n",
      "\u001b[2A\u001b[0J  \u001b[32;1m•\u001b[39;22m \u001b[39mUpdating \u001b[39m\u001b[36mpython-dateutil\u001b[39m\u001b[39m (\u001b[39m\u001b[39;1m2.8.2\u001b[39;22m\u001b[39m -> \u001b[39m\u001b[32m2.9.0.post0\u001b[39m\u001b[39m)\u001b[39m\n",
      "  \u001b[32;1m•\u001b[39;22m \u001b[39mInstalling \u001b[39m\u001b[36mpytz\u001b[39m\u001b[39m (\u001b[39m\u001b[32m2024.1\u001b[39m\u001b[39m)\u001b[39m\n",
      "  \u001b[32;1m•\u001b[39;22m \u001b[39mInstalling \u001b[39m\u001b[36mtzdata\u001b[39m\u001b[39m (\u001b[39m\u001b[32m2024.1\u001b[39m\u001b[39m)\u001b[39m\n",
      "  \u001b[34;1m•\u001b[39;22m \u001b[39mInstalling \u001b[39m\u001b[36mpandas\u001b[39m\u001b[39m (\u001b[39m\u001b[39;1m2.2.1\u001b[39;22m\u001b[39m)\u001b[39m: \u001b[34mPending...\u001b[39m\n",
      "\u001b[1A\u001b[0J  \u001b[34;1m•\u001b[39;22m \u001b[39mInstalling \u001b[39m\u001b[36mpandas\u001b[39m\u001b[39m (\u001b[39m\u001b[39;1m2.2.1\u001b[39;22m\u001b[39m)\u001b[39m: \u001b[34mDownloading...\u001b[39m \u001b[39;1m0%\u001b[39;22m\n",
      "\u001b[1A\u001b[0J  \u001b[34;1m•\u001b[39;22m \u001b[39mInstalling \u001b[39m\u001b[36mpandas\u001b[39m\u001b[39m (\u001b[39m\u001b[39;1m2.2.1\u001b[39;22m\u001b[39m)\u001b[39m: \u001b[34mDownloading...\u001b[39m \u001b[39;1m40%\u001b[39;22m\n",
      "\u001b[1A\u001b[0J  \u001b[34;1m•\u001b[39;22m \u001b[39mInstalling \u001b[39m\u001b[36mpandas\u001b[39m\u001b[39m (\u001b[39m\u001b[39;1m2.2.1\u001b[39;22m\u001b[39m)\u001b[39m: \u001b[34mDownloading...\u001b[39m \u001b[39;1m80%\u001b[39;22m\n",
      "\u001b[1A\u001b[0J  \u001b[34;1m•\u001b[39;22m \u001b[39mInstalling \u001b[39m\u001b[36mpandas\u001b[39m\u001b[39m (\u001b[39m\u001b[39;1m2.2.1\u001b[39;22m\u001b[39m)\u001b[39m: \u001b[34mDownloading...\u001b[39m \u001b[39;1m100%\u001b[39;22m\n",
      "\u001b[1A\u001b[0J  \u001b[34;1m•\u001b[39;22m \u001b[39mInstalling \u001b[39m\u001b[36mpandas\u001b[39m\u001b[39m (\u001b[39m\u001b[39;1m2.2.1\u001b[39;22m\u001b[39m)\u001b[39m: \u001b[34mInstalling...\u001b[39m\n",
      "\u001b[1A\u001b[0J  \u001b[32;1m•\u001b[39;22m \u001b[39mInstalling \u001b[39m\u001b[36mpandas\u001b[39m\u001b[39m (\u001b[39m\u001b[32m2.2.1\u001b[39m\u001b[39m)\u001b[39m\n",
      "\n",
      "\u001b[34mWriting lock file\u001b[39m\n"
     ]
    }
   ],
   "source": [
    "!poetry add pandas"
   ]
  },
  {
   "cell_type": "markdown",
   "id": "e4c14b73-eeef-4545-a1aa-11f872ae2d6b",
   "metadata": {},
   "source": [
    "# Primeiro teste de leitura do arquivo com pandas"
   ]
  },
  {
   "cell_type": "code",
   "execution_count": 8,
   "id": "606ee748-4d0c-4532-b835-cee92cde5a71",
   "metadata": {},
   "outputs": [
    {
     "name": "stdout",
     "output_type": "stream",
     "text": [
      "Iniciando o processamento do arquivo.\n"
     ]
    },
    {
     "name": "stderr",
     "output_type": "stream",
     "text": [
      "Processando:  10%|████▏                                     | 1/10 [00:05<00:50,  5.58s/it]\n"
     ]
    },
    {
     "name": "stdout",
     "output_type": "stream",
     "text": [
      "        station   min   max       mean\n",
      "0     Aaronberg -49.7  99.9  38.630482\n",
      "1  Aaronborough -49.7  99.5  36.750459\n",
      "2    Aaronburgh -49.9  99.9  36.894530\n",
      "3     Aaronbury -49.9  99.7  36.687045\n",
      "4  Aaronchester -49.6  99.7  37.749348\n",
      "Processing took: 12.03 sec\n"
     ]
    }
   ],
   "source": [
    "import pandas as pd\n",
    "from multiprocessing import Pool, cpu_count\n",
    "from tqdm import tqdm  # importa o tqdm para barra de progresso\n",
    "\n",
    "CONCURRENCY = cpu_count()\n",
    "\n",
    "total_linhas = 1_000_000_000  # Total de linhas conhecido\n",
    "chunksize = 100_000_000  # Define o tamanho do chunk\n",
    "filename = \"data/measurements.txt\"  # Certifique-se de que este é o caminho correto para o arquivo\n",
    "\n",
    "def process_chunk(chunk):\n",
    "    # Agrega os dados dentro do chunk usando Pandas\n",
    "    aggregated = chunk.groupby('station')['measure'].agg(['min', 'max', 'mean']).reset_index()\n",
    "    return aggregated\n",
    "\n",
    "def create_df_with_pandas(filename, total_linhas, chunksize=chunksize):\n",
    "    total_chunks = total_linhas // chunksize + (1 if total_linhas % chunksize else 0)\n",
    "    results = []\n",
    "\n",
    "    with pd.read_csv(filename, sep=';', header=None, names=['station', 'measure'], chunksize=chunksize) as reader:\n",
    "        # Envolvendo o iterador com tqdm para visualizar o progresso\n",
    "        with Pool(CONCURRENCY) as pool:\n",
    "            for chunk in tqdm(reader, total=total_chunks, desc=\"Processando\"):\n",
    "                # Processa cada chunk em paralelo\n",
    "                result = pool.apply_async(process_chunk, (chunk,))\n",
    "                results.append(result)\n",
    "\n",
    "            results = [result.get() for result in results]\n",
    "\n",
    "    final_df = pd.concat(results, ignore_index=True)\n",
    "\n",
    "    final_aggregated_df = final_df.groupby('station').agg({\n",
    "        'min': 'min',\n",
    "        'max': 'max',\n",
    "        'mean': 'mean'\n",
    "    }).reset_index().sort_values('station')\n",
    "\n",
    "    return final_aggregated_df\n",
    "\n",
    "if __name__ == \"__main__\":\n",
    "    import time\n",
    "\n",
    "    print(\"Iniciando o processamento do arquivo.\")\n",
    "    start_time = time.time()\n",
    "    df = create_df_with_pandas(filename, total_linhas, chunksize)\n",
    "    took = time.time() - start_time\n",
    "\n",
    "    print(df.head())\n",
    "    print(f\"Processing took: {took:.2f} sec\")"
   ]
  },
  {
   "cell_type": "code",
   "execution_count": null,
   "id": "f41a4453-3532-41e8-92a0-77521537ca65",
   "metadata": {},
   "outputs": [],
   "source": [
    "# Leitura com Polars"
   ]
  },
  {
   "cell_type": "code",
   "execution_count": 6,
   "id": "e622fcb8-9f8f-4b34-bf90-e491ccf0bd5e",
   "metadata": {},
   "outputs": [
    {
     "name": "stdout",
     "output_type": "stream",
     "text": [
      "Using version \u001b[39;1m^0.20.13\u001b[39;22m for \u001b[36mpolars\u001b[39m\n",
      "\n",
      "\u001b[34mUpdating dependencies\u001b[39m\n",
      "\u001b[2K\u001b[34mResolving dependencies...\u001b[39m \u001b[39;2m(0.5s)\u001b[39;22m\n",
      "\n",
      "\u001b[39;1mPackage operations\u001b[39;22m: \u001b[34m1\u001b[39m install, \u001b[34m0\u001b[39m updates, \u001b[34m0\u001b[39m removals\n",
      "\n",
      "  \u001b[34;1m•\u001b[39;22m \u001b[39mInstalling \u001b[39m\u001b[36mpolars\u001b[39m\u001b[39m (\u001b[39m\u001b[39;1m0.20.13\u001b[39;22m\u001b[39m)\u001b[39m: \u001b[34mPending...\u001b[39m\n",
      "\u001b[1A\u001b[0J  \u001b[34;1m•\u001b[39;22m \u001b[39mInstalling \u001b[39m\u001b[36mpolars\u001b[39m\u001b[39m (\u001b[39m\u001b[39;1m0.20.13\u001b[39;22m\u001b[39m)\u001b[39m: \u001b[34mDownloading...\u001b[39m \u001b[39;1m0%\u001b[39;22m\n",
      "\u001b[1A\u001b[0J  \u001b[34;1m•\u001b[39;22m \u001b[39mInstalling \u001b[39m\u001b[36mpolars\u001b[39m\u001b[39m (\u001b[39m\u001b[39;1m0.20.13\u001b[39;22m\u001b[39m)\u001b[39m: \u001b[34mDownloading...\u001b[39m \u001b[39;1m10%\u001b[39;22m\n",
      "\u001b[1A\u001b[0J  \u001b[34;1m•\u001b[39;22m \u001b[39mInstalling \u001b[39m\u001b[36mpolars\u001b[39m\u001b[39m (\u001b[39m\u001b[39;1m0.20.13\u001b[39;22m\u001b[39m)\u001b[39m: \u001b[34mDownloading...\u001b[39m \u001b[39;1m40%\u001b[39;22m\n",
      "\u001b[1A\u001b[0J  \u001b[34;1m•\u001b[39;22m \u001b[39mInstalling \u001b[39m\u001b[36mpolars\u001b[39m\u001b[39m (\u001b[39m\u001b[39;1m0.20.13\u001b[39;22m\u001b[39m)\u001b[39m: \u001b[34mDownloading...\u001b[39m \u001b[39;1m60%\u001b[39;22m\n",
      "\u001b[1A\u001b[0J  \u001b[34;1m•\u001b[39;22m \u001b[39mInstalling \u001b[39m\u001b[36mpolars\u001b[39m\u001b[39m (\u001b[39m\u001b[39;1m0.20.13\u001b[39;22m\u001b[39m)\u001b[39m: \u001b[34mDownloading...\u001b[39m \u001b[39;1m80%\u001b[39;22m\n",
      "\u001b[1A\u001b[0J  \u001b[34;1m•\u001b[39;22m \u001b[39mInstalling \u001b[39m\u001b[36mpolars\u001b[39m\u001b[39m (\u001b[39m\u001b[39;1m0.20.13\u001b[39;22m\u001b[39m)\u001b[39m: \u001b[34mDownloading...\u001b[39m \u001b[39;1m100%\u001b[39;22m\n",
      "\u001b[1A\u001b[0J  \u001b[34;1m•\u001b[39;22m \u001b[39mInstalling \u001b[39m\u001b[36mpolars\u001b[39m\u001b[39m (\u001b[39m\u001b[39;1m0.20.13\u001b[39;22m\u001b[39m)\u001b[39m: \u001b[34mInstalling...\u001b[39m\n",
      "\u001b[1A\u001b[0J  \u001b[32;1m•\u001b[39;22m \u001b[39mInstalling \u001b[39m\u001b[36mpolars\u001b[39m\u001b[39m (\u001b[39m\u001b[32m0.20.13\u001b[39m\u001b[39m)\u001b[39m\n",
      "\n",
      "\u001b[34mWriting lock file\u001b[39m\n"
     ]
    }
   ],
   "source": [
    "!poetry add polars"
   ]
  },
  {
   "cell_type": "code",
   "execution_count": 39,
   "id": "a09ceba5-b6fc-4564-a415-18fe2a847a1a",
   "metadata": {},
   "outputs": [
    {
     "name": "stderr",
     "output_type": "stream",
     "text": [
      "/tmp/ipykernel_7975/1458131399.py:12: DeprecationWarning: named `by` param is deprecated; use positional `*args` instead.\n",
      "  .group_by(by=\"station\")\n"
     ]
    },
    {
     "name": "stdout",
     "output_type": "stream",
     "text": [
      "shape: (120_282, 4)\n",
      "┌──────────────┬───────┬───────┬───────────┐\n",
      "│ station      ┆ max   ┆ min   ┆ mean      │\n",
      "│ ---          ┆ ---   ┆ ---   ┆ ---       │\n",
      "│ str          ┆ f64   ┆ f64   ┆ f64       │\n",
      "╞══════════════╪═══════╪═══════╪═══════════╡\n",
      "│ Aaronberg    ┆ 100.0 ┆ -50.0 ┆ 36.758464 │\n",
      "│ Aaronborough ┆ 100.0 ┆ -50.0 ┆ 37.536199 │\n",
      "│ Aaronburgh   ┆ 100.0 ┆ -50.0 ┆ 37.171432 │\n",
      "│ Aaronbury    ┆ 100.0 ┆ -50.0 ┆ 38.144949 │\n",
      "│ Aaronchester ┆ 100.0 ┆ -50.0 ┆ 36.598826 │\n",
      "│ …            ┆ …     ┆ …     ┆ …         │\n",
      "│ Zunigastad   ┆ 99.5  ┆ -49.3 ┆ 36.818891 │\n",
      "│ Zunigaton    ┆ 100.0 ┆ -48.9 ┆ 37.893103 │\n",
      "│ Zunigatown   ┆ 100.0 ┆ -49.7 ┆ 37.88753  │\n",
      "│ Zunigaview   ┆ 100.0 ┆ -49.0 ┆ 42.741876 │\n",
      "│ Zunigaville  ┆ 100.0 ┆ -49.7 ┆ 38.106135 │\n",
      "└──────────────┴───────┴───────┴───────────┘\n",
      "Polars Took: 6.43 sec\n"
     ]
    }
   ],
   "source": [
    "import polars as pl\n",
    "\n",
    "# Created by Koen Vossen, \n",
    "# Github: https://github.com/koenvo\n",
    "# Twitter/x Handle: https://twitter.com/mr_le_fox\n",
    "# https://x.com/mr_le_fox/status/1741893400947839362?s=20\n",
    "def create_polars_df():\n",
    "    pl.Config.set_streaming_chunk_size(4000000)\n",
    "    return (\n",
    "        \n",
    "        pl.scan_csv(\"data/measurements1.txt\", separator=\";\", has_header=False, new_columns=[\"station\", \"measure\"], schema={\"station\": pl.String, \"measure\": pl.Float64})\n",
    "        .group_by(by=\"station\")\n",
    "        .agg(\n",
    "            max = pl.col(\"measure\").max(),\n",
    "            min = pl.col(\"measure\").min(),\n",
    "            mean = pl.col(\"measure\").mean()\n",
    "        )\n",
    "        .sort(\"station\")\n",
    "        .collect(streaming=True)\n",
    "    )\n",
    "\n",
    "if __name__ == \"__main__\":\n",
    "    import time\n",
    "\n",
    "    start_time = time.time()\n",
    "    df = create_polars_df()\n",
    "    took = time.time() - start_time\n",
    "    print(df)\n",
    "    print(f\"Polars Took: {took:.2f} sec\")"
   ]
  },
  {
   "cell_type": "code",
   "execution_count": 10,
   "id": "27a4123a-14a4-4fd8-9336-c1a0dc1ab3bb",
   "metadata": {},
   "outputs": [
    {
     "name": "stdout",
     "output_type": "stream",
     "text": [
      "Using version \u001b[39;1m^0.10.0\u001b[39;22m for \u001b[36mduckdb\u001b[39m\n",
      "\n",
      "\u001b[34mUpdating dependencies\u001b[39m\n",
      "\u001b[2K\u001b[34mResolving dependencies...\u001b[39m \u001b[39;2m(0.4s)\u001b[39;22m\u001b[34mResolving dependencies...\u001b[39m \u001b[39;2m(0.1s)\u001b[39;22m\u001b[34mResolving dependencies...\u001b[39m \u001b[39;2m(0.3s)\u001b[39;22m\n",
      "\n",
      "\u001b[39;1mPackage operations\u001b[39;22m: \u001b[34m1\u001b[39m install, \u001b[34m0\u001b[39m updates, \u001b[34m0\u001b[39m removals\n",
      "\n",
      "  \u001b[34;1m•\u001b[39;22m \u001b[39mInstalling \u001b[39m\u001b[36mduckdb\u001b[39m\u001b[39m (\u001b[39m\u001b[39;1m0.10.0\u001b[39;22m\u001b[39m)\u001b[39m: \u001b[34mPending...\u001b[39m\n",
      "\u001b[1A\u001b[0J  \u001b[34;1m•\u001b[39;22m \u001b[39mInstalling \u001b[39m\u001b[36mduckdb\u001b[39m\u001b[39m (\u001b[39m\u001b[39;1m0.10.0\u001b[39;22m\u001b[39m)\u001b[39m: \u001b[34mDownloading...\u001b[39m \u001b[39;1m0%\u001b[39;22m\n",
      "\u001b[1A\u001b[0J  \u001b[34;1m•\u001b[39;22m \u001b[39mInstalling \u001b[39m\u001b[36mduckdb\u001b[39m\u001b[39m (\u001b[39m\u001b[39;1m0.10.0\u001b[39;22m\u001b[39m)\u001b[39m: \u001b[34mDownloading...\u001b[39m \u001b[39;1m10%\u001b[39;22m\n",
      "\u001b[1A\u001b[0J  \u001b[34;1m•\u001b[39;22m \u001b[39mInstalling \u001b[39m\u001b[36mduckdb\u001b[39m\u001b[39m (\u001b[39m\u001b[39;1m0.10.0\u001b[39;22m\u001b[39m)\u001b[39m: \u001b[34mDownloading...\u001b[39m \u001b[39;1m40%\u001b[39;22m\n",
      "\u001b[1A\u001b[0J  \u001b[34;1m•\u001b[39;22m \u001b[39mInstalling \u001b[39m\u001b[36mduckdb\u001b[39m\u001b[39m (\u001b[39m\u001b[39;1m0.10.0\u001b[39;22m\u001b[39m)\u001b[39m: \u001b[34mDownloading...\u001b[39m \u001b[39;1m80%\u001b[39;22m\n",
      "\u001b[1A\u001b[0J  \u001b[34;1m•\u001b[39;22m \u001b[39mInstalling \u001b[39m\u001b[36mduckdb\u001b[39m\u001b[39m (\u001b[39m\u001b[39;1m0.10.0\u001b[39;22m\u001b[39m)\u001b[39m: \u001b[34mDownloading...\u001b[39m \u001b[39;1m100%\u001b[39;22m\n",
      "\u001b[1A\u001b[0J  \u001b[34;1m•\u001b[39;22m \u001b[39mInstalling \u001b[39m\u001b[36mduckdb\u001b[39m\u001b[39m (\u001b[39m\u001b[39;1m0.10.0\u001b[39;22m\u001b[39m)\u001b[39m: \u001b[34mInstalling...\u001b[39m\n",
      "\u001b[1A\u001b[0J  \u001b[32;1m•\u001b[39;22m \u001b[39mInstalling \u001b[39m\u001b[36mduckdb\u001b[39m\u001b[39m (\u001b[39m\u001b[32m0.10.0\u001b[39m\u001b[39m)\u001b[39m\n",
      "\n",
      "\u001b[34mWriting lock file\u001b[39m\n"
     ]
    }
   ],
   "source": [
    "!poetry add duckdb"
   ]
  },
  {
   "cell_type": "code",
   "execution_count": 38,
   "id": "60de2ece-ec1b-4e06-8e50-9569efd1f1a1",
   "metadata": {},
   "outputs": [
    {
     "data": {
      "application/vnd.jupyter.widget-view+json": {
       "model_id": "cee60e547558464cb311859d46614e96",
       "version_major": 2,
       "version_minor": 0
      },
      "text/plain": [
       "FloatProgress(value=0.0, layout=Layout(width='auto'), style=ProgressStyle(bar_color='black'))"
      ]
     },
     "metadata": {},
     "output_type": "display_data"
    },
    {
     "name": "stdout",
     "output_type": "stream",
     "text": [
      "┌────────────────────┬─────────────────┬──────────────────┬─────────────────┐\n",
      "│      station       │ min_temperature │ mean_temperature │ max_temperature │\n",
      "│      varchar       │  decimal(18,3)  │  decimal(18,3)   │  decimal(18,3)  │\n",
      "├────────────────────┼─────────────────┼──────────────────┼─────────────────┤\n",
      "│ Aaronberg          │         -50.000 │           36.758 │         100.000 │\n",
      "│ Aaronborough       │         -50.000 │           37.536 │         100.000 │\n",
      "│ Aaronburgh         │         -50.000 │           37.171 │         100.000 │\n",
      "│ Aaronbury          │         -50.000 │           38.145 │         100.000 │\n",
      "│ Aaronchester       │         -50.000 │           36.599 │         100.000 │\n",
      "│ Aaronfort          │         -49.700 │           37.784 │         100.000 │\n",
      "│ Aaronfurt          │         -49.900 │           37.358 │         100.000 │\n",
      "│ Aaronhaven         │         -50.000 │           35.586 │         100.000 │\n",
      "│ Aaronland          │         -49.900 │           37.898 │         100.000 │\n",
      "│ Aaronmouth         │         -49.900 │           36.380 │         100.000 │\n",
      "│     ·              │            ·    │              ·   │             ·   │\n",
      "│     ·              │            ·    │              ·   │             ·   │\n",
      "│     ·              │            ·    │              ·   │             ·   │\n",
      "│ East Carolynville  │         -49.600 │           38.498 │          99.900 │\n",
      "│ East Carrie        │         -49.800 │           38.175 │          99.900 │\n",
      "│ East Carrieberg    │         -49.400 │           36.675 │          99.500 │\n",
      "│ East Carrieborough │         -48.700 │           34.677 │          99.900 │\n",
      "│ East Carrieburgh   │         -49.600 │           34.726 │          99.800 │\n",
      "│ East Carriebury    │         -48.700 │           40.182 │          99.500 │\n",
      "│ East Carriechester │         -49.500 │           39.147 │          99.900 │\n",
      "│ East Carriefort    │         -49.800 │           38.420 │         100.000 │\n",
      "│ East Carriefurt    │         -49.800 │           38.539 │          99.500 │\n",
      "│ East Carriehaven   │         -49.700 │           39.592 │          99.800 │\n",
      "├────────────────────┴─────────────────┴──────────────────┴─────────────────┤\n",
      "│ ? rows (>9999 rows, 20 shown)                                   4 columns │\n",
      "└───────────────────────────────────────────────────────────────────────────┘\n",
      "\n",
      "Duckdb Took: 3.50 sec\n"
     ]
    }
   ],
   "source": [
    "import duckdb\n",
    "import time\n",
    "\n",
    "def create_duckdb():\n",
    "    duckdb.sql(\"\"\"\n",
    "        SELECT station,\n",
    "            MIN(measure) AS min_temperature,\n",
    "            CAST(AVG(measure) AS DECIMAL()) AS mean_temperature,\n",
    "            MAX(measure) AS max_temperature\n",
    "        FROM read_csv(\"data/measurements1.txt\", AUTO_DETECT=FALSE, sep=';', columns={'station':VARCHAR, 'measure': 'DECIMAL'})\n",
    "        GROUP BY station\n",
    "        ORDER BY station\n",
    "    \"\"\").show()\n",
    "\n",
    "if __name__ == \"__main__\":\n",
    "    import time\n",
    "    start_time = time.time()\n",
    "    create_duckdb()\n",
    "    took = time.time() - start_time\n",
    "    print(f\"Duckdb Took: {took:.2f} sec\")"
   ]
  },
  {
   "cell_type": "code",
   "execution_count": null,
   "id": "f9a086b2-e391-4151-a5db-639c118f495f",
   "metadata": {},
   "outputs": [],
   "source": []
  },
  {
   "cell_type": "code",
   "execution_count": null,
   "id": "a6d6b274-ed87-4ff6-bb00-359e5f7178e8",
   "metadata": {},
   "outputs": [],
   "source": []
  },
  {
   "cell_type": "code",
   "execution_count": null,
   "id": "8cfb0c6c-c3a2-4843-8e85-3c7ac77d403e",
   "metadata": {},
   "outputs": [],
   "source": [
    "<a id=\"ancora01\"></a>"
   ]
  },
  {
   "cell_type": "code",
   "execution_count": null,
   "id": "edab018f-e073-4ab4-ba69-6b98813986ec",
   "metadata": {},
   "outputs": [],
   "source": [
    "<a id=\"ancora02\"></a>"
   ]
  },
  {
   "cell_type": "code",
   "execution_count": null,
   "id": "fabd8557-34ae-4873-bbd6-02819ea12b15",
   "metadata": {},
   "outputs": [],
   "source": [
    "<a id=\"ancora03\"></a>"
   ]
  },
  {
   "cell_type": "code",
   "execution_count": null,
   "id": "5e40fd2e-d5d3-494a-89d0-3e2109f5b0fe",
   "metadata": {},
   "outputs": [],
   "source": [
    "<a id=\"ancora04\"></a>"
   ]
  },
  {
   "cell_type": "code",
   "execution_count": null,
   "id": "80890444-09da-4dd7-a4a4-21a3213c53ad",
   "metadata": {},
   "outputs": [],
   "source": [
    "<a id=\"ancora05\"></a>"
   ]
  },
  {
   "cell_type": "code",
   "execution_count": null,
   "id": "80dc9972-7238-4976-89f5-263dfbcceefe",
   "metadata": {},
   "outputs": [],
   "source": [
    "<a id=\"ancora06\"></a>"
   ]
  },
  {
   "cell_type": "code",
   "execution_count": null,
   "id": "12eb553c-e8d9-4050-94bf-ab84dab6537e",
   "metadata": {},
   "outputs": [],
   "source": [
    "<a id=\"ancora07\"></a>"
   ]
  },
  {
   "cell_type": "code",
   "execution_count": null,
   "id": "f4f49135-6883-4aae-aa1a-86b22496ddcc",
   "metadata": {},
   "outputs": [],
   "source": [
    "<a id=\"ancora08\"></a>"
   ]
  },
  {
   "cell_type": "code",
   "execution_count": null,
   "id": "a5fca550-56b0-408d-98ae-26b8967ecb55",
   "metadata": {},
   "outputs": [],
   "source": [
    "<a id=\"ancora09\"></a>"
   ]
  },
  {
   "cell_type": "code",
   "execution_count": null,
   "id": "f6d9e29f-1b68-420f-a9d0-79998bef6847",
   "metadata": {},
   "outputs": [],
   "source": [
    "<a id=\"ancora10\"></a>"
   ]
  },
  {
   "cell_type": "code",
   "execution_count": null,
   "id": "c7e808a9-c4c1-46d8-b29e-2553caa37d0b",
   "metadata": {},
   "outputs": [],
   "source": [
    "<a id=\"ancora11\"></a>"
   ]
  },
  {
   "cell_type": "code",
   "execution_count": null,
   "id": "912e1461-caf7-4252-ab8d-ede0f6f6419a",
   "metadata": {},
   "outputs": [],
   "source": [
    "<a id=\"ancora12\"></a>"
   ]
  },
  {
   "cell_type": "code",
   "execution_count": null,
   "id": "ea98eb77-35ad-4d99-b14b-b918b68c83e8",
   "metadata": {},
   "outputs": [],
   "source": [
    "<a id=\"ancora13\"></a>"
   ]
  },
  {
   "cell_type": "code",
   "execution_count": null,
   "id": "d85b02a0-6493-4c05-b0f8-6250c848cd19",
   "metadata": {},
   "outputs": [],
   "source": [
    "<a id=\"ancora14\"></a>"
   ]
  },
  {
   "cell_type": "code",
   "execution_count": null,
   "id": "7073b820-4cde-4db7-88e0-1cc81c5d61ef",
   "metadata": {},
   "outputs": [],
   "source": [
    "<a id=\"ancora15\"></a>"
   ]
  },
  {
   "cell_type": "code",
   "execution_count": null,
   "id": "62da02d5-0cfe-4797-8492-d0ac66400b2a",
   "metadata": {},
   "outputs": [],
   "source": [
    "<a id=\"ancora16\"></a>"
   ]
  },
  {
   "cell_type": "code",
   "execution_count": null,
   "id": "4d3d620b-fff8-4510-b55a-dd8bfb84c339",
   "metadata": {},
   "outputs": [],
   "source": [
    "<a id=\"ancora17\"></a>"
   ]
  },
  {
   "cell_type": "code",
   "execution_count": null,
   "id": "bbd0aa1f-81c9-4d88-b98a-f22ebc55a414",
   "metadata": {},
   "outputs": [],
   "source": [
    "<a id=\"ancora18\"></a>"
   ]
  },
  {
   "cell_type": "code",
   "execution_count": null,
   "id": "c5cdcc91-f8eb-461e-80b5-2db463929d30",
   "metadata": {},
   "outputs": [],
   "source": [
    "<a id=\"ancora19\"></a>"
   ]
  },
  {
   "cell_type": "code",
   "execution_count": null,
   "id": "fd813f7d-8ca4-4579-aa6f-081a3b6963e3",
   "metadata": {},
   "outputs": [],
   "source": [
    "<a id=\"ancora20\"></a>"
   ]
  }
 ],
 "metadata": {
  "kernelspec": {
   "display_name": "bootcamp_jd24",
   "language": "python",
   "name": "bootcamp_jd24"
  },
  "language_info": {
   "codemirror_mode": {
    "name": "ipython",
    "version": 3
   },
   "file_extension": ".py",
   "mimetype": "text/x-python",
   "name": "python",
   "nbconvert_exporter": "python",
   "pygments_lexer": "ipython3",
   "version": "3.11.3"
  }
 },
 "nbformat": 4,
 "nbformat_minor": 5
}
