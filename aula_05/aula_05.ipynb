{
 "cells": [
  {
   "cell_type": "code",
   "execution_count": null,
   "id": "baca9eda-4225-4d90-b562-7f9a13ede487",
   "metadata": {},
   "outputs": [],
   "source": [
    "!pip install faker "
   ]
  },
  {
   "cell_type": "code",
   "execution_count": null,
   "id": "f298fa10-9391-46b8-a273-e9af01922cbf",
   "metadata": {},
   "outputs": [],
   "source": [
    "!pip install tqdm"
   ]
  },
  {
   "cell_type": "markdown",
   "id": "aa84e768-edde-4dbe-8a7a-6090da4104fc",
   "metadata": {
    "jp-MarkdownHeadingCollapsed": true
   },
   "source": [
    "## Modelo simples para gerar dados aleatórios com faker"
   ]
  },
  {
   "cell_type": "code",
   "execution_count": 7,
   "id": "0c90fa0e-7ad7-4064-a07e-1f3ebce826af",
   "metadata": {},
   "outputs": [
    {
     "name": "stdin",
     "output_type": "stream",
     "text": [
      "Digite o número de linhas a serem geradas:  1000000\n"
     ]
    },
    {
     "name": "stderr",
     "output_type": "stream",
     "text": [
      "100%|██████████████████████████████████████████| 1000000/1000000 [01:57<00:00, 8520.61it/s]"
     ]
    },
    {
     "name": "stdout",
     "output_type": "stream",
     "text": [
      "Tempo real de geração:1 minutos 57 segundos\n",
      "Tamanho real do arquivo: 17.36 Megabytes\n"
     ]
    },
    {
     "name": "stderr",
     "output_type": "stream",
     "text": [
      "\n"
     ]
    }
   ],
   "source": [
    "# Gera dados aleatórios \n",
    "import faker\n",
    "import os\n",
    "import sys\n",
    "import time\n",
    "from tqdm import tqdm\n",
    "import random\n",
    "\n",
    "# Cria um objeto Faker\n",
    "fake = faker.Faker()\n",
    "\n",
    "def format_time(segundos):\n",
    "    \"\"\"\n",
    "    Formata os milisegundos em hora:minuto:segundo\n",
    "    \"\"\"\n",
    "    if segundos < 60:\n",
    "        return f\"{segundos:.3f} segundos\"\n",
    "    elif segundos < 3600:\n",
    "        minutos, segundos = divmod(segundos, 60)\n",
    "        return f\"{int(minutos)} minutos {int(segundos)} segundos\"\n",
    "    else:\n",
    "        horas, remainder = divmod(seconds, 3600)\n",
    "        minutos, segundos = divmod(remainder, 60)\n",
    "        if minutos == 0:\n",
    "            return f\"{int(horas)} horas {int(segundos)} segundos\"\n",
    "        else:\n",
    "            return f\"{int(horas)} horas {int(minutos)} minutos {int(segundos)} segundos\"\n",
    "\n",
    "# Função para gerar os dados de teste\n",
    "def generate_test_data(num_rows):\n",
    "  \"\"\"\n",
    "  Gera dados de teste e os escreve em um arquivo.\n",
    "\n",
    "  Argumentos:\n",
    "    num_rows: Número de linhas a serem geradas.\n",
    "\n",
    "  Retorno:\n",
    "    None.\n",
    "  \"\"\"\n",
    "  with open(\"data/measurements1.txt\", \"w\", encoding=\"utf-8\") as file:\n",
    "    for _ in tqdm(range(num_rows)):\n",
    "      # Gera dados aleatórios\n",
    "      station_name = fake.city()\n",
    "      temperature = round(fake.random_element([random.uniform(-50, 50), random.uniform(50, 100)]), 1)\n",
    "\n",
    "      # Escreve a linha no arquivo\n",
    "      file.write(f\"{station_name};{temperature}\\n\")\n",
    "\n",
    "# Solicita o número de linhas ao usuário\n",
    "num_rows = int(input(\"Digite o número de linhas a serem geradas: \"))\n",
    "\n",
    "# Gera os dados de teste\n",
    "start_time = time.time()\n",
    "generate_test_data(num_rows)\n",
    "end_time = time.time()\n",
    "\n",
    "# Exibe o tempo real de geração\n",
    "tempo_em_segundos = end_time - start_time\n",
    "print(f\"Tempo real de geração:{format_time(tempo_em_segundos)}\")\n",
    "\n",
    "# Converte o tamanho do arquivo para megabytes\n",
    "file_size = os.path.getsize(\"data/measurements1.txt\")\n",
    "file_size_mb = file_size / (1024 * 1024)\n",
    "\n",
    "# Exibe o tamanho do arquivo em megabytes\n",
    "print(f\"Tamanho real do arquivo: {file_size_mb:.2f} Megabytes\")"
   ]
  },
  {
   "cell_type": "markdown",
   "id": "a118380c-d98f-4c19-8f43-b504fafc9473",
   "metadata": {
    "jp-MarkdownHeadingCollapsed": true
   },
   "source": [
    "## Modelo para gerar dados aleatórios com faker e multiprocessing."
   ]
  },
  {
   "cell_type": "code",
   "execution_count": 8,
   "id": "ffd0d41e-45a8-4419-bbf0-171d132c7be5",
   "metadata": {},
   "outputs": [
    {
     "name": "stdin",
     "output_type": "stream",
     "text": [
      "Digite o número de linhas a serem geradas:  1000000\n"
     ]
    },
    {
     "name": "stderr",
     "output_type": "stream",
     "text": [
      "100%|████████████████████████████████████████████████████| 100/100 [01:46<00:00,  1.07s/it]\n"
     ]
    },
    {
     "name": "stdout",
     "output_type": "stream",
     "text": [
      "Tempo real de geração:1 minutos 47 segundos\n",
      "Tamanho real do arquivo: 17.36 Megabytes\n"
     ]
    }
   ],
   "source": [
    "import faker\n",
    "import os\n",
    "import sys\n",
    "import time\n",
    "import random\n",
    "from tqdm import tqdm\n",
    "from multiprocessing import Pool\n",
    "\n",
    "# Cria um objeto Faker\n",
    "fake = faker.Faker()\n",
    "\n",
    "# Formata o tempo.\n",
    "def format_time(segundos):\n",
    "    \"\"\"\n",
    "    Formata os milisegundos em hora:minuto:segundo\n",
    "    \"\"\"\n",
    "    if segundos < 60:\n",
    "        return f\"{segundos:.3f} segundos\"\n",
    "    elif segundos < 3600:\n",
    "        minutos, segundos = divmod(segundos, 60)\n",
    "        return f\"{int(minutos)} minutos {int(segundos)} segundos\"\n",
    "    else:\n",
    "        horas, remainder = divmod(seconds, 3600)\n",
    "        minutos, segundos = divmod(remainder, 60)\n",
    "        if minutos == 0:\n",
    "            return f\"{int(horas)} horas {int(segundos)} segundos\"\n",
    "        else:\n",
    "            return f\"{int(horas)} horas {int(minutos)} minutos {int(segundos)} segundos\"\n",
    "\n",
    "# Função para gerar dados de teste\n",
    "def generate_test_data(num_rows, chunk_size):\n",
    "  \"\"\"\n",
    "  Gera dados de teste e os escreve em um arquivo.\n",
    "\n",
    "  Argumentos:\n",
    "    num_rows: Número de linhas a serem geradas.\n",
    "    chunk_size: Tamanho do bloco de dados a ser gerado por cada thread.\n",
    "\n",
    "  Retorno:\n",
    "    None.\n",
    "  \"\"\"\n",
    "  with open(\"data/measurements.txt\", \"w\", encoding=\"utf-8\") as file:\n",
    "    for i in tqdm(range(0, num_rows, chunk_size)):\n",
    "      # Gera um bloco de dados\n",
    "      data_chunk = []\n",
    "      for _ in range(chunk_size):\n",
    "        station_name = fake.city()\n",
    "        temperature = round(fake.random_element([random.uniform(-50, 50), random.uniform(50, 100)]), 1)\n",
    "        data_chunk.append(f\"{station_name};{temperature}\\n\")\n",
    "\n",
    "      # Escreve o bloco de dados no arquivo\n",
    "      file.writelines(data_chunk)\n",
    "\n",
    "# Solicita o número de linhas ao usuário\n",
    "num_rows = int(input(\"Digite o número de linhas a serem geradas: \"))\n",
    "\n",
    "# Define o tamanho do bloco de dados\n",
    "chunk_size = 10_000  # Ajuste este valor de acordo com a sua memória disponível\n",
    "\n",
    "# Número de threads\n",
    "num_workers = os.cpu_count()\n",
    "\n",
    "# Gera os dados de teste em paralelo\n",
    "start_time = time.time()\n",
    "with Pool(num_workers) as pool:\n",
    "  pool.starmap(generate_test_data, [(num_rows, chunk_size)])\n",
    "end_time = time.time()\n",
    "\n",
    "# Exibe o tempo real de geração\n",
    "tempo_em_segundos = end_time - start_time\n",
    "print(f\"Tempo real de geração:{format_time(tempo_em_segundos)}\")\n",
    "\n",
    "# Exibe o tamanho real do arquivo\n",
    "file_size = os.path.getsize(\"data/measurements.txt\")\n",
    "\n",
    "# Converte o tamanho do arquivo para megabytes\n",
    "file_size_mb = file_size / (1024 * 1024)\n",
    "\n",
    "# Exibe o tamanho do arquivo em megabytes\n",
    "print(f\"Tamanho real do arquivo: {file_size_mb:.2f} Megabytes\")"
   ]
  },
  {
   "cell_type": "markdown",
   "id": "d274703a-146f-472d-a0fa-3fadebf510bd",
   "metadata": {
    "jp-MarkdownHeadingCollapsed": true
   },
   "source": [
    "## Scrip python para gerar dados aleatórios\n",
    "* **O script foi retirado do desafio [The One Billion Row Challenge](https://github.com/gunnarmorling/1brc), originalmente proposto para Java.**"
   ]
  },
  {
   "cell_type": "code",
   "execution_count": 5,
   "id": "c1ff1f98-314d-4e04-8e10-28da8764ecf4",
   "metadata": {},
   "outputs": [],
   "source": [
    "# Based on https://github.com/gunnarmorling/1brc/blob/main/src/main/java/dev/morling/onebrc/CreateMeasurements.java\n",
    "\n",
    "import os\n",
    "import sys\n",
    "import random\n",
    "import time\n",
    "\n",
    "\n",
    "def check_args(file_args):\n",
    "    \"\"\"\n",
    "    Sanity checks out input and prints out usage if input is not a positive integer\n",
    "    \"\"\"\n",
    "    try:\n",
    "        if len(file_args) != 2 or int(file_args[1]) <= 0:\n",
    "            raise Exception()\n",
    "    except:\n",
    "        print(\"Usage:  create_measurements.sh <positive integer number of records to create>\")\n",
    "        print(\"        You can use underscore notation for large number of records.\")\n",
    "        print(\"        For example:  1_000_000_000 for one billion\")\n",
    "        exit()\n",
    "\n",
    "\n",
    "def build_weather_station_name_list():\n",
    "    \"\"\"\n",
    "    Grabs the weather station names from example data provided in repo and dedups\n",
    "    \"\"\"\n",
    "    station_names = []\n",
    "    with open('data/weather_stations.csv', 'r') as file:\n",
    "        file_contents = file.read()\n",
    "    for station in file_contents.splitlines():\n",
    "        if \"#\" in station:\n",
    "            next\n",
    "        else:\n",
    "            station_names.append(station.split(';')[0])\n",
    "    return list(set(station_names))\n",
    "\n",
    "\n",
    "def convert_bytes(num):\n",
    "    \"\"\"\n",
    "    Convert bytes to a human-readable format (e.g., KiB, MiB, GiB)\n",
    "    \"\"\"\n",
    "    for x in ['bytes', 'KiB', 'MiB', 'GiB']:\n",
    "        if num < 1024.0:\n",
    "            return \"%3.1f %s\" % (num, x)\n",
    "        num /= 1024.0\n",
    "\n",
    "\n",
    "def format_elapsed_time(seconds):\n",
    "    \"\"\"\n",
    "    Format elapsed time in a human-readable format\n",
    "    \"\"\"\n",
    "    if seconds < 60:\n",
    "        return f\"{seconds:.3f} seconds\"\n",
    "    elif seconds < 3600:\n",
    "        minutes, seconds = divmod(seconds, 60)\n",
    "        return f\"{int(minutes)} minutes {int(seconds)} seconds\"\n",
    "    else:\n",
    "        hours, remainder = divmod(seconds, 3600)\n",
    "        minutes, seconds = divmod(remainder, 60)\n",
    "        if minutes == 0:\n",
    "            return f\"{int(hours)} hours {int(seconds)} seconds\"\n",
    "        else:\n",
    "            return f\"{int(hours)} hours {int(minutes)} minutes {int(seconds)} seconds\"\n",
    "\n",
    "\n",
    "def estimate_file_size(weather_station_names, num_rows_to_create):\n",
    "    \"\"\"\n",
    "    Tries to estimate how large a file the test data will be\n",
    "    \"\"\"\n",
    "    total_name_bytes = sum(len(s.encode(\"utf-8\")) for s in weather_station_names)\n",
    "    avg_name_bytes = total_name_bytes / float(len(weather_station_names))\n",
    "\n",
    "    # avg_temp_bytes = sum(len(str(n / 10.0)) for n in range(-999, 1000)) / 1999\n",
    "    avg_temp_bytes = 4.400200100050025\n",
    "\n",
    "    # add 2 for separator and newline\n",
    "    avg_line_length = avg_name_bytes + avg_temp_bytes + 2\n",
    "\n",
    "    human_file_size = convert_bytes(num_rows_to_create * avg_line_length)\n",
    "\n",
    "    return f\"Estimated max file size is:  {human_file_size}.\"\n",
    "\n",
    "\n",
    "def build_test_data(weather_station_names, num_rows_to_create):\n",
    "    \"\"\"\n",
    "    Generates and writes to file the requested length of test data\n",
    "    \"\"\"\n",
    "    start_time = time.time()\n",
    "    coldest_temp = -99.9\n",
    "    hottest_temp = 99.9\n",
    "    station_names_10k_max = random.choices(weather_station_names, k=10_000)\n",
    "    batch_size = 10000 # instead of writing line by line to file, process a batch of stations and put it to disk\n",
    "    chunks = num_rows_to_create // batch_size\n",
    "    print('Building test data...')\n",
    "\n",
    "    try:\n",
    "        with open(\"data/measurements1.txt\", 'w') as file:\n",
    "            progress = 0\n",
    "            for chunk in range(chunks):\n",
    "                \n",
    "                batch = random.choices(station_names_10k_max, k=batch_size)\n",
    "                prepped_deviated_batch = '\\n'.join([f\"{station};{random.uniform(coldest_temp, hottest_temp):.1f}\" for station in batch]) # :.1f should quicker than round on a large scale, because round utilizes mathematical operation\n",
    "                file.write(prepped_deviated_batch + '\\n')\n",
    "                \n",
    "                # Update progress bar every 1%\n",
    "                if (chunk + 1) * 100 // chunks != progress:\n",
    "                    progress = (chunk + 1) * 100 // chunks\n",
    "                    bars = '=' * (progress // 2)\n",
    "                    sys.stdout.write(f\"\\r[{bars:<50}] {progress}%\")\n",
    "                    sys.stdout.flush()\n",
    "        sys.stdout.write('\\n')\n",
    "    except Exception as e:\n",
    "        print(\"Something went wrong. Printing error info and exiting...\")\n",
    "        print(e)\n",
    "        exit()\n",
    "    \n",
    "    end_time = time.time()\n",
    "    elapsed_time = end_time - start_time\n",
    "    file_size = os.path.getsize(\"data/measurements1.txt\")\n",
    "    human_file_size = convert_bytes(file_size)\n",
    " \n",
    "    print(\"Test data successfully written to data/measurements1.txt\")\n",
    "    print(f\"Actual file size:  {human_file_size}\")\n",
    "    print(f\"Elapsed time: {format_elapsed_time(elapsed_time)}\")\n",
    "\n",
    "\n",
    "def main():\n",
    "    \"\"\"\n",
    "    main program function\n",
    "    \"\"\"\n",
    "    num_rows_to_create = 1_000_000\n",
    "    weather_station_names = []\n",
    "    weather_station_names = build_weather_station_name_list()\n",
    "    print(estimate_file_size(weather_station_names, num_rows_to_create))\n",
    "    build_test_data(weather_station_names, num_rows_to_create)\n",
    "    print(\"Test data build complete.\")\n",
    "\n",
    "\n",
    "if __name__ == \"__main__\":\n",
    "    main()\n",
    "exit()"
   ]
  },
  {
   "cell_type": "markdown",
   "id": "73194a23-2a9e-44f0-a8b2-1317bb3f6536",
   "metadata": {},
   "source": [
    "### Conclusão\n",
    "* **O modelo para gerar dados com o faker se saiu extremamente lento em comparação ao script do [Gunnar Morling](https://github.com/gunnarmorling) acima.**"
   ]
  },
  {
   "cell_type": "markdown",
   "id": "854b4f57-8c2e-4cb2-941b-526d10fd663e",
   "metadata": {
    "jp-MarkdownHeadingCollapsed": true
   },
   "source": [
    "## Gerando 1 bilhão de linhas:"
   ]
  },
  {
   "cell_type": "code",
   "execution_count": 6,
   "id": "fd9fccf3-871e-44e0-8089-406a476b40ce",
   "metadata": {},
   "outputs": [
    {
     "name": "stdout",
     "output_type": "stream",
     "text": [
      "Estimated max file size is:  14.8 GiB.\n",
      "Building test data...\n",
      "[==================================================] 100%\n",
      "Test data successfully written to data/measurements.txt\n",
      "Actual file size:  14.9 GiB\n",
      "Elapsed time: 15 minutes 3 seconds\n",
      "Test data build complete.\n"
     ]
    }
   ],
   "source": [
    "# gerando 1 bilhão de linhas\n",
    "num_rows_to_create = 1_000_000_000\n",
    "weather_station_names = []\n",
    "weather_station_names = build_weather_station_name_list()\n",
    "print(estimate_file_size(weather_station_names, num_rows_to_create))\n",
    "build_test_data(weather_station_names, num_rows_to_create)\n",
    "print(\"Test data build complete.\")\n",
    "\n",
    "\n"
   ]
  },
  {
   "cell_type": "markdown",
   "id": "5dd7b87b-9ff0-4e17-bac4-ec9dc191add3",
   "metadata": {
    "jp-MarkdownHeadingCollapsed": true
   },
   "source": [
    "## Decoradores"
   ]
  },
  {
   "cell_type": "code",
   "execution_count": 2,
   "id": "68c4b55b-6d4d-4094-b518-f99a45da2a6b",
   "metadata": {},
   "outputs": [],
   "source": [
    "# Criando um decorator para calcular o tempo de processamento\n",
    "def timer(func):\n",
    "    import time\n",
    "    # Formata o tempo.\n",
    "    def format_time(segundos: int): \n",
    "        \"\"\"\n",
    "        Formata os milisegundos em hora:minuto:segundo\n",
    "        \"\"\"\n",
    "        if segundos < 60:\n",
    "            return f\"{segundos:.3f} segundos\"\n",
    "        elif segundos < 3600:\n",
    "            minutos, segundos = divmod(segundos, 60)\n",
    "            return f\"{int(minutos)} minutos {int(segundos)} segundos\"\n",
    "        else:\n",
    "            horas, remainder = divmod(seconds, 3600)\n",
    "            minutos, segundos = divmod(remainder, 60)\n",
    "            if minutos == 0:\n",
    "                return f\"{int(horas)} horas {int(segundos)} segundos\"\n",
    "            else:\n",
    "                return f\"{int(horas)} horas {int(minutos)} minutos {int(segundos)} segundos\"  \n",
    "\n",
    "    def wrapper(*args, **kwargs):\n",
    "        start = time.time()\n",
    "        result = func(*args, **kwargs)\n",
    "        end = time.time()\n",
    "        tempo_em_segundos = end - start       \n",
    "        # Exibe o tempo real de geração    \n",
    "        print(f\"{func.__name__} Tempo de processamento:{format_time(tempo_em_segundos)}\")   \n",
    "        #print(type(format_time(tempo_em_segundos)))\n",
    "        return result\n",
    "    return wrapper\n"
   ]
  },
  {
   "cell_type": "markdown",
   "id": "e4c14b73-eeef-4545-a1aa-11f872ae2d6b",
   "metadata": {
    "jp-MarkdownHeadingCollapsed": true
   },
   "source": [
    "## Leitura com pandas"
   ]
  },
  {
   "cell_type": "code",
   "execution_count": null,
   "id": "81ac2551-f634-411a-bafe-70ceb59bdb8e",
   "metadata": {},
   "outputs": [],
   "source": [
    "# Instalando a lib pandas.\n",
    "!poetry add pandas"
   ]
  },
  {
   "cell_type": "code",
   "execution_count": 1,
   "id": "606ee748-4d0c-4532-b835-cee92cde5a71",
   "metadata": {},
   "outputs": [
    {
     "name": "stdout",
     "output_type": "stream",
     "text": [
      "Iniciando o processamento do arquivo.\n"
     ]
    },
    {
     "name": "stderr",
     "output_type": "stream",
     "text": [
      "Processando:  60%|█████████████████████████▏                | 6/10 [05:24<03:40, 55.25s/it]IOStream.flush timed out\n",
      "Processando:  70%|█████████████████████████████▍            | 7/10 [06:20<02:46, 55.35s/it]IOStream.flush timed out\n",
      "Processando:  90%|█████████████████████████████████████▊    | 9/10 [08:11<00:55, 55.40s/it]IOStream.flush timed out\n",
      "Processando: 100%|█████████████████████████████████████████| 10/10 [09:20<00:00, 56.07s/it]\n"
     ]
    },
    {
     "name": "stdout",
     "output_type": "stream",
     "text": [
      "       station   min   max      mean\n",
      "0     Aabenraa -99.9  99.9 -0.061535\n",
      "1       Aalten -99.9  99.9 -0.161205\n",
      "2    Abadiânia -99.9  99.9 -0.051514\n",
      "3     Abalessa -99.9  99.9  0.211034\n",
      "4  Abangaritos -99.9  99.9  0.066196\n",
      "Tempo de processamento:-1709939632.573 segundos\n"
     ]
    }
   ],
   "source": [
    "# Script para min, max e mean de um bilhão de linhas com pandas.\n",
    "import pandas as pd\n",
    "import time\n",
    "from multiprocessing import Pool, cpu_count\n",
    "from tqdm import tqdm  # importa o tqdm para barra de progresso\n",
    "\n",
    "CONCURRENCY = cpu_count()\n",
    "\n",
    "total_linhas = 1_000_000_000  # Total de linhas conhecido\n",
    "chunksize = 100_000_000  # Define o tamanho do chunk\n",
    "filename = \"data/measurements.txt\"  # Certifique-se de que este é o caminho correto para o arquivo\n",
    "\n",
    "# Formata o tempo.\n",
    "def format_time(segundos):\n",
    "    \"\"\"\n",
    "    Formata os milisegundos em hora:minuto:segundo\n",
    "    \"\"\"\n",
    "    if segundos < 60:\n",
    "        return f\"{segundos:.3f} segundos\"\n",
    "    elif segundos < 3600:\n",
    "        minutos, segundos = divmod(segundos, 60)\n",
    "        return f\"{int(minutos)} minutos {int(segundos)} segundos\"\n",
    "    else:\n",
    "        horas, remainder = divmod(seconds, 3600)\n",
    "        minutos, segundos = divmod(remainder, 60)\n",
    "        if minutos == 0:\n",
    "            return f\"{int(horas)} horas {int(segundos)} segundos\"\n",
    "        else:\n",
    "            return f\"{int(horas)} horas {int(minutos)} minutos {int(segundos)} segundos\"\n",
    "\n",
    "def process_chunk(chunk):\n",
    "    # Agrega os dados dentro do chunk usando Pandas\n",
    "    aggregated = chunk.groupby('station')['measure'].agg(['min', 'max', 'mean']).reset_index()\n",
    "    return aggregated\n",
    "\n",
    "def create_df_with_pandas(filename, total_linhas, chunksize=chunksize):\n",
    "    total_chunks = total_linhas // chunksize + (1 if total_linhas % chunksize else 0)\n",
    "    results = []\n",
    "\n",
    "    with pd.read_csv(filename, sep=';', header=None, names=['station', 'measure'], chunksize=chunksize) as reader:\n",
    "        # Envolvendo o iterador com tqdm para visualizar o progresso\n",
    "        with Pool(CONCURRENCY) as pool:\n",
    "            for chunk in tqdm(reader, total=total_chunks, desc=\"Processando\"):\n",
    "                # Processa cada chunk em paralelo\n",
    "                result = pool.apply_async(process_chunk, (chunk,))\n",
    "                results.append(result)\n",
    "\n",
    "            results = [result.get() for result in results]\n",
    "\n",
    "    final_df = pd.concat(results, ignore_index=True)\n",
    "\n",
    "    final_aggregated_df = final_df.groupby('station').agg({\n",
    "        'min': 'min',\n",
    "        'max': 'max',\n",
    "        'mean': 'mean'\n",
    "    }).reset_index().sort_values('station')\n",
    "\n",
    "    return final_aggregated_df\n",
    "\n",
    "if __name__ == \"__main__\":\n",
    "    import time\n",
    "\n",
    "    print(\"Iniciando o processamento do arquivo.\")\n",
    "    start_time = time.time()\n",
    "    df = create_df_with_pandas(filename, total_linhas, chunksize)\n",
    "    end_time = time.time()\n",
    "    tempo_em_segundos = end_time - start_time\n",
    "    print(df.head())\n",
    "    # Exibe o tempo real de geração    \n",
    "    print(f\"Tempo de processamento:{format_time(tempo_em_segundos)}\")\n"
   ]
  },
  {
   "cell_type": "markdown",
   "id": "28be5f4c-6870-4f2b-8403-3e4751da0eb1",
   "metadata": {
    "jp-MarkdownHeadingCollapsed": true
   },
   "source": [
    "## Leitura com Polars"
   ]
  },
  {
   "cell_type": "code",
   "execution_count": null,
   "id": "e622fcb8-9f8f-4b34-bf90-e491ccf0bd5e",
   "metadata": {},
   "outputs": [],
   "source": [
    "# Instalando a lib polars\n",
    "!poetry add polars"
   ]
  },
  {
   "cell_type": "code",
   "execution_count": 3,
   "id": "e31de0d4-931d-4fd3-8353-373c41062cb2",
   "metadata": {},
   "outputs": [
    {
     "name": "stdout",
     "output_type": "stream",
     "text": [
      "create_polars_df Tempo de processamento:26.558 segundos\n",
      "shape: (8_836, 4)\n",
      "┌────────────────┬──────────┬──────────┬───────────┐\n",
      "│ station        ┆ max_temp ┆ min_temp ┆ mean_temp │\n",
      "│ ---            ┆ ---      ┆ ---      ┆ ---       │\n",
      "│ str            ┆ f64      ┆ f64      ┆ f64       │\n",
      "╞════════════════╪══════════╪══════════╪═══════════╡\n",
      "│ Aabenraa       ┆ 99.9     ┆ -99.9    ┆ -0.062295 │\n",
      "│ Aalten         ┆ 99.9     ┆ -99.9    ┆ -0.161752 │\n",
      "│ Abadiânia      ┆ 99.9     ┆ -99.9    ┆ -0.052772 │\n",
      "│ Abalessa       ┆ 99.9     ┆ -99.9    ┆ 0.211089  │\n",
      "│ Abangaritos    ┆ 99.9     ┆ -99.9    ┆ 0.063772  │\n",
      "│ …              ┆ …        ┆ …        ┆ …         │\n",
      "│ ’Aïn Abessa    ┆ 99.9     ┆ -99.9    ┆ -0.013338 │\n",
      "│ ’Aïn Azel      ┆ 99.9     ┆ -99.9    ┆ -0.040762 │\n",
      "│ ’Aïn Roua      ┆ 99.9     ┆ -99.9    ┆ -0.026898 │\n",
      "│ ’s-Gravenzande ┆ 99.9     ┆ -99.9    ┆ -0.080973 │\n",
      "│ ’s-Heerenberg  ┆ 99.9     ┆ -99.9    ┆ 0.168265  │\n",
      "└────────────────┴──────────┴──────────┴───────────┘\n"
     ]
    }
   ],
   "source": [
    "import polars as pl\n",
    "@timer\n",
    "def create_polars_df(): \n",
    "    pl.Config.set_streaming_chunk_size(5000000)\n",
    "    # Leitura do arquivo CSV e definição do schema\n",
    "    return (pl.scan_csv(\"data/measurements.txt\", separator=\";\", has_header=False,\n",
    "                        schema={\"station\": pl.String, \"measure\": pl.Float64})\n",
    "                        .group_by(\"station\").agg(\n",
    "                                                 max_temp=pl.col(\"measure\").max(),\n",
    "                                                 min_temp=pl.col(\"measure\").min(),\n",
    "                                                 mean_temp=pl.col(\"measure\").mean()\n",
    "                                                ).sort(\"station\").collect(streaming=True)\n",
    "           )   \n",
    "if __name__ == \"__main__\":    \n",
    "    df = create_polars_df()\n",
    "    print(df)\n",
    "   \n"
   ]
  },
  {
   "cell_type": "markdown",
   "id": "b0e0fc93-52a7-4a33-9529-a3e8e78241c7",
   "metadata": {
    "jp-MarkdownHeadingCollapsed": true
   },
   "source": [
    "## Leitura com Duckdb"
   ]
  },
  {
   "cell_type": "code",
   "execution_count": null,
   "id": "27a4123a-14a4-4fd8-9336-c1a0dc1ab3bb",
   "metadata": {},
   "outputs": [],
   "source": [
    "!poetry add duckdb"
   ]
  },
  {
   "cell_type": "code",
   "execution_count": 7,
   "id": "60de2ece-ec1b-4e06-8e50-9569efd1f1a1",
   "metadata": {},
   "outputs": [
    {
     "data": {
      "application/vnd.jupyter.widget-view+json": {
       "model_id": "1e73372ad3b1479696fda6d952208310",
       "version_major": 2,
       "version_minor": 0
      },
      "text/plain": [
       "FloatProgress(value=0.0, layout=Layout(width='auto'), style=ProgressStyle(bar_color='black'))"
      ]
     },
     "metadata": {},
     "output_type": "display_data"
    },
    {
     "name": "stdout",
     "output_type": "stream",
     "text": [
      "┌─────────────────┬─────────────────┬──────────────────┬─────────────────┐\n",
      "│     station     │ min_temperature │ mean_temperature │ max_temperature │\n",
      "│     varchar     │  decimal(18,3)  │  decimal(18,3)   │  decimal(18,3)  │\n",
      "├─────────────────┼─────────────────┼──────────────────┼─────────────────┤\n",
      "│ Aabenraa        │         -99.900 │           -0.062 │          99.900 │\n",
      "│ Aalten          │         -99.900 │           -0.162 │          99.900 │\n",
      "│ Abadiânia       │         -99.900 │           -0.053 │          99.900 │\n",
      "│ Abalessa        │         -99.900 │            0.211 │          99.900 │\n",
      "│ Abangaritos     │         -99.900 │            0.064 │          99.900 │\n",
      "│ Abano Terme     │         -99.900 │            0.172 │          99.900 │\n",
      "│ Abaré           │         -99.900 │           -0.267 │          99.900 │\n",
      "│ Abbeville       │         -99.900 │            0.074 │          99.900 │\n",
      "│ Abbiategrasso   │         -99.900 │           -0.195 │          99.900 │\n",
      "│ Abbots Langley  │         -99.900 │            0.207 │          99.900 │\n",
      "│     ·           │            ·    │              ·   │             ·   │\n",
      "│     ·           │            ·    │              ·   │             ·   │\n",
      "│     ·           │            ·    │              ·   │             ·   │\n",
      "│ ‘Ajab Shīr      │         -99.900 │           -0.037 │          99.900 │\n",
      "│ ‘Ajmān          │         -99.900 │           -0.054 │          99.900 │\n",
      "│ ‘Akko           │         -99.900 │            0.156 │          99.900 │\n",
      "│ ‘Izbat al Burj  │         -99.900 │            0.172 │          99.900 │\n",
      "│ ’Ayn Bni Mathar │         -99.900 │           -0.102 │          99.900 │\n",
      "│ ’Aïn Abessa     │         -99.900 │           -0.013 │          99.900 │\n",
      "│ ’Aïn Azel       │         -99.900 │           -0.041 │          99.900 │\n",
      "│ ’Aïn Roua       │         -99.900 │           -0.027 │          99.900 │\n",
      "│ ’s-Gravenzande  │         -99.900 │           -0.081 │          99.900 │\n",
      "│ ’s-Heerenberg   │         -99.900 │            0.168 │          99.900 │\n",
      "├─────────────────┴─────────────────┴──────────────────┴─────────────────┤\n",
      "│ 8836 rows (20 shown)                                         4 columns │\n",
      "└────────────────────────────────────────────────────────────────────────┘\n",
      "\n",
      "create_duckdb Tempo de processamento:18.208 segundos\n"
     ]
    }
   ],
   "source": [
    "import duckdb\n",
    "@timer\n",
    "def create_duckdb():\n",
    "    duckdb.sql(\"\"\"\n",
    "        SELECT station,\n",
    "            MIN(measure) AS min_temperature,\n",
    "            CAST(AVG(measure) AS DECIMAL()) AS mean_temperature,\n",
    "            MAX(measure) AS max_temperature\n",
    "        FROM read_csv(\"data/measurements.txt\", AUTO_DETECT=FALSE, sep=';', columns={'station':VARCHAR, 'measure': 'DECIMAL'})\n",
    "        GROUP BY station\n",
    "        ORDER BY station\n",
    "    \"\"\").show()\n",
    "\n",
    "if __name__ == \"__main__\":\n",
    "    create_duckdb()   "
   ]
  },
  {
   "cell_type": "code",
   "execution_count": 9,
   "id": "d4d06b82-0eb9-4580-9d56-1588a191dc2a",
   "metadata": {},
   "outputs": [
    {
     "data": {
      "application/vnd.jupyter.widget-view+json": {
       "model_id": "3f5af59667b949d2a5e655c28442779d",
       "version_major": 2,
       "version_minor": 0
      },
      "text/plain": [
       "FloatProgress(value=0.0, layout=Layout(width='auto'), style=ProgressStyle(bar_color='black'))"
      ]
     },
     "metadata": {},
     "output_type": "display_data"
    },
    {
     "data": {
      "text/html": [
       "<div>\n",
       "<style scoped>\n",
       "    .dataframe tbody tr th:only-of-type {\n",
       "        vertical-align: middle;\n",
       "    }\n",
       "\n",
       "    .dataframe tbody tr th {\n",
       "        vertical-align: top;\n",
       "    }\n",
       "\n",
       "    .dataframe thead th {\n",
       "        text-align: right;\n",
       "    }\n",
       "</style>\n",
       "<table border=\"1\" class=\"dataframe\">\n",
       "  <thead>\n",
       "    <tr style=\"text-align: right;\">\n",
       "      <th></th>\n",
       "      <th>station</th>\n",
       "      <th>min_temperature</th>\n",
       "      <th>mean_temperature</th>\n",
       "      <th>max_temperature</th>\n",
       "    </tr>\n",
       "  </thead>\n",
       "  <tbody>\n",
       "    <tr>\n",
       "      <th>0</th>\n",
       "      <td>Aabenraa</td>\n",
       "      <td>-99.9</td>\n",
       "      <td>-0.062</td>\n",
       "      <td>99.9</td>\n",
       "    </tr>\n",
       "    <tr>\n",
       "      <th>1</th>\n",
       "      <td>Aalten</td>\n",
       "      <td>-99.9</td>\n",
       "      <td>-0.162</td>\n",
       "      <td>99.9</td>\n",
       "    </tr>\n",
       "    <tr>\n",
       "      <th>2</th>\n",
       "      <td>Abadiânia</td>\n",
       "      <td>-99.9</td>\n",
       "      <td>-0.053</td>\n",
       "      <td>99.9</td>\n",
       "    </tr>\n",
       "    <tr>\n",
       "      <th>3</th>\n",
       "      <td>Abalessa</td>\n",
       "      <td>-99.9</td>\n",
       "      <td>0.211</td>\n",
       "      <td>99.9</td>\n",
       "    </tr>\n",
       "    <tr>\n",
       "      <th>4</th>\n",
       "      <td>Abangaritos</td>\n",
       "      <td>-99.9</td>\n",
       "      <td>0.064</td>\n",
       "      <td>99.9</td>\n",
       "    </tr>\n",
       "    <tr>\n",
       "      <th>...</th>\n",
       "      <td>...</td>\n",
       "      <td>...</td>\n",
       "      <td>...</td>\n",
       "      <td>...</td>\n",
       "    </tr>\n",
       "    <tr>\n",
       "      <th>8831</th>\n",
       "      <td>’Aïn Abessa</td>\n",
       "      <td>-99.9</td>\n",
       "      <td>-0.013</td>\n",
       "      <td>99.9</td>\n",
       "    </tr>\n",
       "    <tr>\n",
       "      <th>8832</th>\n",
       "      <td>’Aïn Azel</td>\n",
       "      <td>-99.9</td>\n",
       "      <td>-0.041</td>\n",
       "      <td>99.9</td>\n",
       "    </tr>\n",
       "    <tr>\n",
       "      <th>8833</th>\n",
       "      <td>’Aïn Roua</td>\n",
       "      <td>-99.9</td>\n",
       "      <td>-0.027</td>\n",
       "      <td>99.9</td>\n",
       "    </tr>\n",
       "    <tr>\n",
       "      <th>8834</th>\n",
       "      <td>’s-Gravenzande</td>\n",
       "      <td>-99.9</td>\n",
       "      <td>-0.081</td>\n",
       "      <td>99.9</td>\n",
       "    </tr>\n",
       "    <tr>\n",
       "      <th>8835</th>\n",
       "      <td>’s-Heerenberg</td>\n",
       "      <td>-99.9</td>\n",
       "      <td>0.168</td>\n",
       "      <td>99.9</td>\n",
       "    </tr>\n",
       "  </tbody>\n",
       "</table>\n",
       "<p>8836 rows × 4 columns</p>\n",
       "</div>"
      ],
      "text/plain": [
       "             station  min_temperature  mean_temperature  max_temperature\n",
       "0           Aabenraa            -99.9            -0.062             99.9\n",
       "1             Aalten            -99.9            -0.162             99.9\n",
       "2          Abadiânia            -99.9            -0.053             99.9\n",
       "3           Abalessa            -99.9             0.211             99.9\n",
       "4        Abangaritos            -99.9             0.064             99.9\n",
       "...              ...              ...               ...              ...\n",
       "8831     ’Aïn Abessa            -99.9            -0.013             99.9\n",
       "8832       ’Aïn Azel            -99.9            -0.041             99.9\n",
       "8833       ’Aïn Roua            -99.9            -0.027             99.9\n",
       "8834  ’s-Gravenzande            -99.9            -0.081             99.9\n",
       "8835   ’s-Heerenberg            -99.9             0.168             99.9\n",
       "\n",
       "[8836 rows x 4 columns]"
      ]
     },
     "metadata": {},
     "output_type": "display_data"
    },
    {
     "name": "stdout",
     "output_type": "stream",
     "text": [
      "create_duckdb Tempo de processamento:19.675 segundos\n"
     ]
    }
   ],
   "source": [
    "import duckdb\n",
    "@timer\n",
    "def create_duckdb(): \n",
    "    conn = duckdb.connect(':memory:')\n",
    "    start_time = time.time()\n",
    "    display(conn.execute(\"\"\"\n",
    "            SELECT station,\n",
    "                MIN(measure) AS min_temperature,\n",
    "                CAST(AVG(measure) AS DECIMAL()) AS mean_temperature,\n",
    "                MAX(measure) AS max_temperature\n",
    "            FROM read_csv(\"data/measurements.txt\", AUTO_DETECT=FALSE, sep=';', columns={'station':VARCHAR, 'measure': 'DECIMAL'})\n",
    "            GROUP BY station\n",
    "            ORDER BY station\n",
    "        \"\"\").df())\n",
    "    \n",
    "if __name__ == \"__main__\":\n",
    "    create_duckdb()   "
   ]
  },
  {
   "cell_type": "code",
   "execution_count": 9,
   "id": "5b56db18-3681-43c0-b1d8-f85dc0c5a001",
   "metadata": {},
   "outputs": [
    {
     "data": {
      "text/html": [
       "<div>\n",
       "<style scoped>\n",
       "    .dataframe tbody tr th:only-of-type {\n",
       "        vertical-align: middle;\n",
       "    }\n",
       "\n",
       "    .dataframe tbody tr th {\n",
       "        vertical-align: top;\n",
       "    }\n",
       "\n",
       "    .dataframe thead th {\n",
       "        text-align: right;\n",
       "    }\n",
       "</style>\n",
       "<table border=\"1\" class=\"dataframe\">\n",
       "  <thead>\n",
       "    <tr style=\"text-align: right;\">\n",
       "      <th></th>\n",
       "      <th>name</th>\n",
       "    </tr>\n",
       "  </thead>\n",
       "  <tbody>\n",
       "    <tr>\n",
       "      <th>0</th>\n",
       "      <td>measurements</td>\n",
       "    </tr>\n",
       "  </tbody>\n",
       "</table>\n",
       "</div>"
      ],
      "text/plain": [
       "           name\n",
       "0  measurements"
      ]
     },
     "metadata": {},
     "output_type": "display_data"
    }
   ],
   "source": [
    "display(conn.execute('SHOW TABLES').df())"
   ]
  },
  {
   "cell_type": "code",
   "execution_count": 10,
   "id": "16e60b76-b8bd-4d71-a747-766149ec8fbb",
   "metadata": {},
   "outputs": [
    {
     "data": {
      "text/html": [
       "<div>\n",
       "<style scoped>\n",
       "    .dataframe tbody tr th:only-of-type {\n",
       "        vertical-align: middle;\n",
       "    }\n",
       "\n",
       "    .dataframe tbody tr th {\n",
       "        vertical-align: top;\n",
       "    }\n",
       "\n",
       "    .dataframe thead th {\n",
       "        text-align: right;\n",
       "    }\n",
       "</style>\n",
       "<table border=\"1\" class=\"dataframe\">\n",
       "  <thead>\n",
       "    <tr style=\"text-align: right;\">\n",
       "      <th></th>\n",
       "      <th>station</th>\n",
       "      <th>measure</th>\n",
       "    </tr>\n",
       "  </thead>\n",
       "  <tbody>\n",
       "    <tr>\n",
       "      <th>0</th>\n",
       "      <td>Uppalapādu</td>\n",
       "      <td>-29.9</td>\n",
       "    </tr>\n",
       "    <tr>\n",
       "      <th>1</th>\n",
       "      <td>Kaman</td>\n",
       "      <td>-34.0</td>\n",
       "    </tr>\n",
       "    <tr>\n",
       "      <th>2</th>\n",
       "      <td>Tamu</td>\n",
       "      <td>-40.2</td>\n",
       "    </tr>\n",
       "    <tr>\n",
       "      <th>3</th>\n",
       "      <td>Quillabamba</td>\n",
       "      <td>50.6</td>\n",
       "    </tr>\n",
       "    <tr>\n",
       "      <th>4</th>\n",
       "      <td>Jabuticabal</td>\n",
       "      <td>15.8</td>\n",
       "    </tr>\n",
       "    <tr>\n",
       "      <th>5</th>\n",
       "      <td>Kilibo</td>\n",
       "      <td>-98.4</td>\n",
       "    </tr>\n",
       "    <tr>\n",
       "      <th>6</th>\n",
       "      <td>Tillaivilāgam</td>\n",
       "      <td>48.3</td>\n",
       "    </tr>\n",
       "    <tr>\n",
       "      <th>7</th>\n",
       "      <td>Ensenada</td>\n",
       "      <td>97.4</td>\n",
       "    </tr>\n",
       "    <tr>\n",
       "      <th>8</th>\n",
       "      <td>Indio</td>\n",
       "      <td>64.6</td>\n",
       "    </tr>\n",
       "    <tr>\n",
       "      <th>9</th>\n",
       "      <td>Buxton</td>\n",
       "      <td>-54.7</td>\n",
       "    </tr>\n",
       "  </tbody>\n",
       "</table>\n",
       "</div>"
      ],
      "text/plain": [
       "         station  measure\n",
       "0     Uppalapādu    -29.9\n",
       "1          Kaman    -34.0\n",
       "2           Tamu    -40.2\n",
       "3    Quillabamba     50.6\n",
       "4    Jabuticabal     15.8\n",
       "5         Kilibo    -98.4\n",
       "6  Tillaivilāgam     48.3\n",
       "7       Ensenada     97.4\n",
       "8          Indio     64.6\n",
       "9         Buxton    -54.7"
      ]
     },
     "metadata": {},
     "output_type": "display_data"
    }
   ],
   "source": [
    "display(conn.execute('Select * from measurements limit 10').df())"
   ]
  },
  {
   "cell_type": "code",
   "execution_count": 30,
   "id": "06f0f088-a242-494f-a82a-d23ab44fac0d",
   "metadata": {},
   "outputs": [],
   "source": [
    "conn.close()"
   ]
  },
  {
   "cell_type": "markdown",
   "id": "215a87d1-37ef-4def-960f-1e885b6008cd",
   "metadata": {},
   "source": [
    "## Dask - min, max e mean em 1 bilhão de linhas"
   ]
  },
  {
   "cell_type": "code",
   "execution_count": null,
   "id": "99cd03e5-8f9e-4f2c-9397-91d7fc3dfc19",
   "metadata": {},
   "outputs": [],
   "source": [
    "#necessário Instalar.\n",
    "!pip install dask-expr"
   ]
  },
  {
   "cell_type": "code",
   "execution_count": 20,
   "id": "6ae3c312-e6a4-4e6c-a7e8-9025302f70e2",
   "metadata": {},
   "outputs": [
    {
     "name": "stdout",
     "output_type": "stream",
     "text": [
      "CPU times: user 12min 50s, sys: 37.9 s, total: 13min 28s\n",
      "Wall time: 6min 27s\n"
     ]
    },
    {
     "data": {
      "text/html": [
       "<div>\n",
       "<style scoped>\n",
       "    .dataframe tbody tr th:only-of-type {\n",
       "        vertical-align: middle;\n",
       "    }\n",
       "\n",
       "    .dataframe tbody tr th {\n",
       "        vertical-align: top;\n",
       "    }\n",
       "\n",
       "    .dataframe thead tr th {\n",
       "        text-align: left;\n",
       "    }\n",
       "\n",
       "    .dataframe thead tr:last-of-type th {\n",
       "        text-align: right;\n",
       "    }\n",
       "</style>\n",
       "<table border=\"1\" class=\"dataframe\">\n",
       "  <thead>\n",
       "    <tr>\n",
       "      <th></th>\n",
       "      <th colspan=\"3\" halign=\"left\">Temperature</th>\n",
       "    </tr>\n",
       "    <tr>\n",
       "      <th></th>\n",
       "      <th>max</th>\n",
       "      <th>min</th>\n",
       "      <th>mean</th>\n",
       "    </tr>\n",
       "    <tr>\n",
       "      <th>City</th>\n",
       "      <th></th>\n",
       "      <th></th>\n",
       "      <th></th>\n",
       "    </tr>\n",
       "  </thead>\n",
       "  <tbody>\n",
       "    <tr>\n",
       "      <th>Aalborg</th>\n",
       "      <td>99.9</td>\n",
       "      <td>-99.9</td>\n",
       "      <td>0.177352</td>\n",
       "    </tr>\n",
       "    <tr>\n",
       "      <th>Aalten</th>\n",
       "      <td>99.9</td>\n",
       "      <td>-99.9</td>\n",
       "      <td>-0.107256</td>\n",
       "    </tr>\n",
       "    <tr>\n",
       "      <th>Aartselaar</th>\n",
       "      <td>99.9</td>\n",
       "      <td>-99.9</td>\n",
       "      <td>0.098415</td>\n",
       "    </tr>\n",
       "    <tr>\n",
       "      <th>Aasiaat</th>\n",
       "      <td>99.9</td>\n",
       "      <td>-99.9</td>\n",
       "      <td>-0.001204</td>\n",
       "    </tr>\n",
       "    <tr>\n",
       "      <th>Abaetetuba</th>\n",
       "      <td>99.9</td>\n",
       "      <td>-99.9</td>\n",
       "      <td>0.315703</td>\n",
       "    </tr>\n",
       "    <tr>\n",
       "      <th>...</th>\n",
       "      <td>...</td>\n",
       "      <td>...</td>\n",
       "      <td>...</td>\n",
       "    </tr>\n",
       "    <tr>\n",
       "      <th>‘Aqrah</th>\n",
       "      <td>99.9</td>\n",
       "      <td>-99.9</td>\n",
       "      <td>0.388061</td>\n",
       "    </tr>\n",
       "    <tr>\n",
       "      <th>’Ali Ben Sliman</th>\n",
       "      <td>99.9</td>\n",
       "      <td>-99.9</td>\n",
       "      <td>-0.074811</td>\n",
       "    </tr>\n",
       "    <tr>\n",
       "      <th>’Ayn Bni Mathar</th>\n",
       "      <td>99.9</td>\n",
       "      <td>-99.9</td>\n",
       "      <td>0.024268</td>\n",
       "    </tr>\n",
       "    <tr>\n",
       "      <th>’s-Gravendeel</th>\n",
       "      <td>99.9</td>\n",
       "      <td>-99.9</td>\n",
       "      <td>0.094909</td>\n",
       "    </tr>\n",
       "    <tr>\n",
       "      <th>’s-Gravenzande</th>\n",
       "      <td>99.9</td>\n",
       "      <td>-99.9</td>\n",
       "      <td>0.122677</td>\n",
       "    </tr>\n",
       "  </tbody>\n",
       "</table>\n",
       "<p>8912 rows × 3 columns</p>\n",
       "</div>"
      ],
      "text/plain": [
       "                Temperature                \n",
       "                        max   min      mean\n",
       "City                                       \n",
       "Aalborg                99.9 -99.9  0.177352\n",
       "Aalten                 99.9 -99.9 -0.107256\n",
       "Aartselaar             99.9 -99.9  0.098415\n",
       "Aasiaat                99.9 -99.9 -0.001204\n",
       "Abaetetuba             99.9 -99.9  0.315703\n",
       "...                     ...   ...       ...\n",
       "‘Aqrah                 99.9 -99.9  0.388061\n",
       "’Ali Ben Sliman        99.9 -99.9 -0.074811\n",
       "’Ayn Bni Mathar        99.9 -99.9  0.024268\n",
       "’s-Gravendeel          99.9 -99.9  0.094909\n",
       "’s-Gravenzande         99.9 -99.9  0.122677\n",
       "\n",
       "[8912 rows x 3 columns]"
      ]
     },
     "execution_count": 20,
     "metadata": {},
     "output_type": "execute_result"
    }
   ],
   "source": [
    "%%time\n",
    "import dask\n",
    "import dask.dataframe as dd\n",
    "from tqdm import tqdm\n",
    "dask.config.set({'dataframe.query-planning': True})\n",
    "# Ler o arquivo txt diretamente em um DataFrame Dask\n",
    "df = dd.read_csv('data/measurements.txt', delimiter=';', header=None, names=['City', 'Temperature'])\n",
    "# min, max, e mean pela cidade ordenado pelo index\n",
    "df.groupby('City').agg({'Temperature': ['max','min','mean']}).compute().sort_index()"
   ]
  },
  {
   "cell_type": "code",
   "execution_count": 1,
   "id": "4b36f948-e0db-418e-98d1-4162250c2e1b",
   "metadata": {},
   "outputs": [
    {
     "data": {
      "text/plain": [
       "<dask.config.set at 0x7fdf0b4c51d0>"
      ]
     },
     "execution_count": 1,
     "metadata": {},
     "output_type": "execute_result"
    }
   ],
   "source": [
    "import pandas as pd\n",
    "import dask\n",
    "dask.config.set({'dataframe.query-planning': True})"
   ]
  },
  {
   "cell_type": "code",
   "execution_count": 7,
   "id": "47640885-9ef8-4382-bb96-ee01abbfdbdb",
   "metadata": {},
   "outputs": [
    {
     "data": {
      "text/html": [
       "<div>\n",
       "<style scoped>\n",
       "    .dataframe tbody tr th:only-of-type {\n",
       "        vertical-align: middle;\n",
       "    }\n",
       "\n",
       "    .dataframe tbody tr th {\n",
       "        vertical-align: top;\n",
       "    }\n",
       "\n",
       "    .dataframe thead th {\n",
       "        text-align: right;\n",
       "    }\n",
       "</style>\n",
       "<table border=\"1\" class=\"dataframe\">\n",
       "  <thead>\n",
       "    <tr style=\"text-align: right;\">\n",
       "      <th></th>\n",
       "      <th>City</th>\n",
       "      <th>Temperature</th>\n",
       "    </tr>\n",
       "  </thead>\n",
       "  <tbody>\n",
       "    <tr>\n",
       "      <th>0</th>\n",
       "      <td>Uppalapādu</td>\n",
       "      <td>-29.9</td>\n",
       "    </tr>\n",
       "    <tr>\n",
       "      <th>1</th>\n",
       "      <td>Kaman</td>\n",
       "      <td>-34.0</td>\n",
       "    </tr>\n",
       "    <tr>\n",
       "      <th>2</th>\n",
       "      <td>Tamu</td>\n",
       "      <td>-40.2</td>\n",
       "    </tr>\n",
       "    <tr>\n",
       "      <th>3</th>\n",
       "      <td>Quillabamba</td>\n",
       "      <td>50.6</td>\n",
       "    </tr>\n",
       "    <tr>\n",
       "      <th>4</th>\n",
       "      <td>Jabuticabal</td>\n",
       "      <td>15.8</td>\n",
       "    </tr>\n",
       "  </tbody>\n",
       "</table>\n",
       "</div>"
      ],
      "text/plain": [
       "          City  Temperature\n",
       "0   Uppalapādu        -29.9\n",
       "1        Kaman        -34.0\n",
       "2         Tamu        -40.2\n",
       "3  Quillabamba         50.6\n",
       "4  Jabuticabal         15.8"
      ]
     },
     "metadata": {},
     "output_type": "display_data"
    },
    {
     "name": "stdout",
     "output_type": "stream",
     "text": [
      "CPU times: user 793 ms, sys: 59.1 ms, total: 853 ms\n",
      "Wall time: 849 ms\n"
     ]
    }
   ],
   "source": [
    "%%time\n",
    "display(df.head())"
   ]
  },
  {
   "cell_type": "code",
   "execution_count": 8,
   "id": "a14a9ed0-30bb-4ed8-a8c8-d8d070d89145",
   "metadata": {},
   "outputs": [
    {
     "name": "stdout",
     "output_type": "stream",
     "text": [
      "                 min_temperature  max_temperature  avg_temperature\n",
      "City                                                              \n",
      "Aalborg                    -99.9             99.9         0.177352\n",
      "Aalten                     -99.9             99.9        -0.107256\n",
      "Aartselaar                 -99.9             99.9         0.098415\n",
      "Aasiaat                    -99.9             99.9        -0.001204\n",
      "Abaetetuba                 -99.9             99.9         0.315703\n",
      "...                          ...              ...              ...\n",
      "‘Aqrah                     -99.9             99.9         0.388061\n",
      "’Ali Ben Sliman            -99.9             99.9        -0.074811\n",
      "’Ayn Bni Mathar            -99.9             99.9         0.024268\n",
      "’s-Gravendeel              -99.9             99.9         0.094909\n",
      "’s-Gravenzande             -99.9             99.9         0.122677\n",
      "\n",
      "[8912 rows x 3 columns]\n"
     ]
    }
   ],
   "source": [
    "import time\n",
    "import dask\n",
    "dask.config.set({'dataframe.query-planning': True})\n",
    "import dask.dataframe as dd\n",
    "start_time = time.time()\n",
    "# Ler o arquivo txt diretamente em um DataFrame Dask\n",
    "df = dd.read_csv('data/measurements.txt', delimiter=';', header=None, names=['City', 'Temperature'])\n",
    "# min, max, e mean pela cidade ordenado pelo index\n",
    "print(df.groupby('City').\n",
    "agg({'Temperature': ['max','min','mean']}).\n",
    "compute().\n",
    "sort_index())\n",
    "end_time = time.time() - start_time\n",
    "print(f\"tempo de processamento com Dask:{end_time:.2f} segundos\")"
   ]
  },
  {
   "cell_type": "code",
   "execution_count": 9,
   "id": "c7b57b3f-fc93-4eb6-b302-fd168987a54a",
   "metadata": {},
   "outputs": [
    {
     "data": {
      "text/plain": [
       "dask.dataframe.core.DataFrame"
      ]
     },
     "execution_count": 9,
     "metadata": {},
     "output_type": "execute_result"
    }
   ],
   "source": [
    "type(df)"
   ]
  },
  {
   "cell_type": "code",
   "execution_count": 11,
   "id": "1462751d-370d-43f1-a324-92ec4c15bab1",
   "metadata": {},
   "outputs": [
    {
     "name": "stdout",
     "output_type": "stream",
     "text": [
      "CPU times: user 336 µs, sys: 25 µs, total: 361 µs\n",
      "Wall time: 376 µs\n"
     ]
    }
   ],
   "source": [
    "%%time\n",
    "df_agrupado = df.groupby('City')"
   ]
  },
  {
   "cell_type": "code",
   "execution_count": 17,
   "id": "45ff956e-f893-4973-b5c4-79d6fba918c6",
   "metadata": {},
   "outputs": [
    {
     "data": {
      "text/plain": [
       "City\n",
       "Aalborg           -99.9\n",
       "Aalten            -99.9\n",
       "Aartselaar        -99.9\n",
       "Aasiaat           -99.9\n",
       "Abaetetuba        -99.9\n",
       "                   ... \n",
       "‘Aqrah            -99.9\n",
       "’Ali Ben Sliman   -99.9\n",
       "’Ayn Bni Mathar   -99.9\n",
       "’s-Gravendeel     -99.9\n",
       "’s-Gravenzande    -99.9\n",
       "Name: Temperature, Length: 8912, dtype: float64"
      ]
     },
     "execution_count": 17,
     "metadata": {},
     "output_type": "execute_result"
    }
   ],
   "source": [
    "df_agrupado['Temperature'].min().compute()"
   ]
  },
  {
   "cell_type": "code",
   "execution_count": null,
   "id": "446d1a89-a4aa-4816-8e34-c64ee6ffdda7",
   "metadata": {},
   "outputs": [],
   "source": [
    "import time\n",
    "    start_time = time.time()\n",
    "    create_duckdb()\n",
    "    took = time.time() - start_time\n",
    "\n",
    "    print(f\"Duckdb Took: {took:.2f} sec\")"
   ]
  },
  {
   "cell_type": "code",
   "execution_count": 4,
   "id": "36eba586-70c6-45d9-929d-d852b528849b",
   "metadata": {},
   "outputs": [
    {
     "data": {
      "application/vnd.jupyter.widget-view+json": {
       "model_id": "64ca7f78ff8b46de9589ad45199ff331",
       "version_major": 2,
       "version_minor": 0
      },
      "text/plain": [
       "FloatProgress(value=0.0, layout=Layout(width='auto'), style=ProgressStyle(bar_color='black'))"
      ]
     },
     "metadata": {},
     "output_type": "display_data"
    },
    {
     "data": {
      "text/html": [
       "<div>\n",
       "<style scoped>\n",
       "    .dataframe tbody tr th:only-of-type {\n",
       "        vertical-align: middle;\n",
       "    }\n",
       "\n",
       "    .dataframe tbody tr th {\n",
       "        vertical-align: top;\n",
       "    }\n",
       "\n",
       "    .dataframe thead th {\n",
       "        text-align: right;\n",
       "    }\n",
       "</style>\n",
       "<table border=\"1\" class=\"dataframe\">\n",
       "  <thead>\n",
       "    <tr style=\"text-align: right;\">\n",
       "      <th></th>\n",
       "      <th>station</th>\n",
       "      <th>min_temperature</th>\n",
       "      <th>mean_temperature</th>\n",
       "      <th>max_temperature</th>\n",
       "    </tr>\n",
       "  </thead>\n",
       "  <tbody>\n",
       "    <tr>\n",
       "      <th>0</th>\n",
       "      <td>Aalborg</td>\n",
       "      <td>-99.9</td>\n",
       "      <td>0.177</td>\n",
       "      <td>99.9</td>\n",
       "    </tr>\n",
       "    <tr>\n",
       "      <th>1</th>\n",
       "      <td>Aalten</td>\n",
       "      <td>-99.9</td>\n",
       "      <td>-0.107</td>\n",
       "      <td>99.9</td>\n",
       "    </tr>\n",
       "    <tr>\n",
       "      <th>2</th>\n",
       "      <td>Aartselaar</td>\n",
       "      <td>-99.9</td>\n",
       "      <td>0.098</td>\n",
       "      <td>99.9</td>\n",
       "    </tr>\n",
       "    <tr>\n",
       "      <th>3</th>\n",
       "      <td>Aasiaat</td>\n",
       "      <td>-99.9</td>\n",
       "      <td>-0.001</td>\n",
       "      <td>99.9</td>\n",
       "    </tr>\n",
       "    <tr>\n",
       "      <th>4</th>\n",
       "      <td>Abaetetuba</td>\n",
       "      <td>-99.9</td>\n",
       "      <td>0.316</td>\n",
       "      <td>99.9</td>\n",
       "    </tr>\n",
       "    <tr>\n",
       "      <th>...</th>\n",
       "      <td>...</td>\n",
       "      <td>...</td>\n",
       "      <td>...</td>\n",
       "      <td>...</td>\n",
       "    </tr>\n",
       "    <tr>\n",
       "      <th>8907</th>\n",
       "      <td>‘Aqrah</td>\n",
       "      <td>-99.9</td>\n",
       "      <td>0.388</td>\n",
       "      <td>99.9</td>\n",
       "    </tr>\n",
       "    <tr>\n",
       "      <th>8908</th>\n",
       "      <td>’Ali Ben Sliman</td>\n",
       "      <td>-99.9</td>\n",
       "      <td>-0.075</td>\n",
       "      <td>99.9</td>\n",
       "    </tr>\n",
       "    <tr>\n",
       "      <th>8909</th>\n",
       "      <td>’Ayn Bni Mathar</td>\n",
       "      <td>-99.9</td>\n",
       "      <td>0.024</td>\n",
       "      <td>99.9</td>\n",
       "    </tr>\n",
       "    <tr>\n",
       "      <th>8910</th>\n",
       "      <td>’s-Gravendeel</td>\n",
       "      <td>-99.9</td>\n",
       "      <td>0.095</td>\n",
       "      <td>99.9</td>\n",
       "    </tr>\n",
       "    <tr>\n",
       "      <th>8911</th>\n",
       "      <td>’s-Gravenzande</td>\n",
       "      <td>-99.9</td>\n",
       "      <td>0.123</td>\n",
       "      <td>99.9</td>\n",
       "    </tr>\n",
       "  </tbody>\n",
       "</table>\n",
       "<p>8912 rows × 4 columns</p>\n",
       "</div>"
      ],
      "text/plain": [
       "              station  min_temperature  mean_temperature  max_temperature\n",
       "0             Aalborg            -99.9             0.177             99.9\n",
       "1              Aalten            -99.9            -0.107             99.9\n",
       "2          Aartselaar            -99.9             0.098             99.9\n",
       "3             Aasiaat            -99.9            -0.001             99.9\n",
       "4          Abaetetuba            -99.9             0.316             99.9\n",
       "...               ...              ...               ...              ...\n",
       "8907           ‘Aqrah            -99.9             0.388             99.9\n",
       "8908  ’Ali Ben Sliman            -99.9            -0.075             99.9\n",
       "8909  ’Ayn Bni Mathar            -99.9             0.024             99.9\n",
       "8910    ’s-Gravendeel            -99.9             0.095             99.9\n",
       "8911   ’s-Gravenzande            -99.9             0.123             99.9\n",
       "\n",
       "[8912 rows x 4 columns]"
      ]
     },
     "execution_count": 4,
     "metadata": {},
     "output_type": "execute_result"
    }
   ],
   "source": [
    "conn.execute(\"\"\"\n",
    "        SELECT station,\n",
    "            MIN(measure) AS min_temperature,\n",
    "            CAST(AVG(measure) AS DECIMAL()) AS mean_temperature,\n",
    "            MAX(measure) AS max_temperature\n",
    "        FROM read_csv(\"data/measurements.txt\", AUTO_DETECT=FALSE, sep=';', columns={'station':VARCHAR, 'measure': 'DECIMAL'})\n",
    "        GROUP BY station\n",
    "        ORDER BY station\n",
    "    \"\"\").df()"
   ]
  },
  {
   "cell_type": "code",
   "execution_count": 18,
   "id": "fdef5d9b-fcd7-445f-9dfd-04664c285d9e",
   "metadata": {},
   "outputs": [
    {
     "name": "stdout",
     "output_type": "stream",
     "text": [
      "CPU times: user 12min 47s, sys: 39.3 s, total: 13min 27s\n",
      "Wall time: 6min 26s\n"
     ]
    },
    {
     "data": {
      "text/html": [
       "<div>\n",
       "<style scoped>\n",
       "    .dataframe tbody tr th:only-of-type {\n",
       "        vertical-align: middle;\n",
       "    }\n",
       "\n",
       "    .dataframe tbody tr th {\n",
       "        vertical-align: top;\n",
       "    }\n",
       "\n",
       "    .dataframe thead tr th {\n",
       "        text-align: left;\n",
       "    }\n",
       "\n",
       "    .dataframe thead tr:last-of-type th {\n",
       "        text-align: right;\n",
       "    }\n",
       "</style>\n",
       "<table border=\"1\" class=\"dataframe\">\n",
       "  <thead>\n",
       "    <tr>\n",
       "      <th></th>\n",
       "      <th colspan=\"3\" halign=\"left\">Temperature</th>\n",
       "    </tr>\n",
       "    <tr>\n",
       "      <th></th>\n",
       "      <th>max</th>\n",
       "      <th>min</th>\n",
       "      <th>mean</th>\n",
       "    </tr>\n",
       "    <tr>\n",
       "      <th>City</th>\n",
       "      <th></th>\n",
       "      <th></th>\n",
       "      <th></th>\n",
       "    </tr>\n",
       "  </thead>\n",
       "  <tbody>\n",
       "    <tr>\n",
       "      <th>Aalborg</th>\n",
       "      <td>99.9</td>\n",
       "      <td>-99.9</td>\n",
       "      <td>0.177352</td>\n",
       "    </tr>\n",
       "    <tr>\n",
       "      <th>Aalten</th>\n",
       "      <td>99.9</td>\n",
       "      <td>-99.9</td>\n",
       "      <td>-0.107256</td>\n",
       "    </tr>\n",
       "    <tr>\n",
       "      <th>Aartselaar</th>\n",
       "      <td>99.9</td>\n",
       "      <td>-99.9</td>\n",
       "      <td>0.098415</td>\n",
       "    </tr>\n",
       "    <tr>\n",
       "      <th>Aasiaat</th>\n",
       "      <td>99.9</td>\n",
       "      <td>-99.9</td>\n",
       "      <td>-0.001204</td>\n",
       "    </tr>\n",
       "    <tr>\n",
       "      <th>Abaetetuba</th>\n",
       "      <td>99.9</td>\n",
       "      <td>-99.9</td>\n",
       "      <td>0.315703</td>\n",
       "    </tr>\n",
       "    <tr>\n",
       "      <th>...</th>\n",
       "      <td>...</td>\n",
       "      <td>...</td>\n",
       "      <td>...</td>\n",
       "    </tr>\n",
       "    <tr>\n",
       "      <th>‘Aqrah</th>\n",
       "      <td>99.9</td>\n",
       "      <td>-99.9</td>\n",
       "      <td>0.388061</td>\n",
       "    </tr>\n",
       "    <tr>\n",
       "      <th>’Ali Ben Sliman</th>\n",
       "      <td>99.9</td>\n",
       "      <td>-99.9</td>\n",
       "      <td>-0.074811</td>\n",
       "    </tr>\n",
       "    <tr>\n",
       "      <th>’Ayn Bni Mathar</th>\n",
       "      <td>99.9</td>\n",
       "      <td>-99.9</td>\n",
       "      <td>0.024268</td>\n",
       "    </tr>\n",
       "    <tr>\n",
       "      <th>’s-Gravendeel</th>\n",
       "      <td>99.9</td>\n",
       "      <td>-99.9</td>\n",
       "      <td>0.094909</td>\n",
       "    </tr>\n",
       "    <tr>\n",
       "      <th>’s-Gravenzande</th>\n",
       "      <td>99.9</td>\n",
       "      <td>-99.9</td>\n",
       "      <td>0.122677</td>\n",
       "    </tr>\n",
       "  </tbody>\n",
       "</table>\n",
       "<p>8912 rows × 3 columns</p>\n",
       "</div>"
      ],
      "text/plain": [
       "                Temperature                \n",
       "                        max   min      mean\n",
       "City                                       \n",
       "Aalborg                99.9 -99.9  0.177352\n",
       "Aalten                 99.9 -99.9 -0.107256\n",
       "Aartselaar             99.9 -99.9  0.098415\n",
       "Aasiaat                99.9 -99.9 -0.001204\n",
       "Abaetetuba             99.9 -99.9  0.315703\n",
       "...                     ...   ...       ...\n",
       "‘Aqrah                 99.9 -99.9  0.388061\n",
       "’Ali Ben Sliman        99.9 -99.9 -0.074811\n",
       "’Ayn Bni Mathar        99.9 -99.9  0.024268\n",
       "’s-Gravendeel          99.9 -99.9  0.094909\n",
       "’s-Gravenzande         99.9 -99.9  0.122677\n",
       "\n",
       "[8912 rows x 3 columns]"
      ]
     },
     "execution_count": 18,
     "metadata": {},
     "output_type": "execute_result"
    }
   ],
   "source": [
    "%time df.groupby('City').agg({'Temperature': ['max','min','mean']}).compute().sort_index()"
   ]
  },
  {
   "cell_type": "code",
   "execution_count": null,
   "id": "5ae73d0a-0c58-494f-bbde-6ded77872a3f",
   "metadata": {},
   "outputs": [],
   "source": []
  },
  {
   "cell_type": "code",
   "execution_count": 2,
   "id": "3309815c-46d7-4b9f-b86d-5740b1a6aed5",
   "metadata": {},
   "outputs": [
    {
     "name": "stderr",
     "output_type": "stream",
     "text": [
      "                                                                                \r"
     ]
    },
    {
     "name": "stdout",
     "output_type": "stream",
     "text": [
      "+--------------+--------------------+\n",
      "|          City|     Avg Temperature|\n",
      "+--------------+--------------------+\n",
      "|       Aalborg| 0.17735169638322507|\n",
      "|        Aalten|-0.10725623892898627|\n",
      "|    Aartselaar| 0.09841461554829589|\n",
      "|       Aasiaat|-0.00120383189600...|\n",
      "|    Abaetetuba| 0.31570318422244587|\n",
      "|       Abaiara|-0.10785455016378943|\n",
      "|Abasingammedda| 0.24278637758252167|\n",
      "|          Abaí|  0.2265865596195253|\n",
      "|        Abaíra|-0.07328732648552085|\n",
      "|    Abbotsford|-0.15673792767205766|\n",
      "|      Abdulino|-0.05927886913367...|\n",
      "|  Abelardo Luz|-0.16398459605845808|\n",
      "|      Abergele|0.011267956863166902|\n",
      "|      Abertawe| 0.27357638913117077|\n",
      "|         Abhia| -0.0993893431241328|\n",
      "|         Abiko| -0.0918752473903614|\n",
      "|       Abilene| -0.1804415891195874|\n",
      "|       Aboisso|-0.43771594039828343|\n",
      "|         Aboso| 0.03154420554692955|\n",
      "|         Abram|-0.14073774133254255|\n",
      "+--------------+--------------------+\n",
      "only showing top 20 rows\n",
      "\n"
     ]
    }
   ],
   "source": [
    "from pyspark.sql import SparkSession\n",
    "from pyspark.sql.functions import col\n",
    "\n",
    "# Inicializar uma sessão Spark\n",
    "spark = SparkSession.builder \\\n",
    "    .appName(\"Temperature Analysis\") \\\n",
    "    .getOrCreate()\n",
    "\n",
    "# Ler o arquivo CSV diretamente em um DataFrame Spark\n",
    "df = spark.read.option(\"header\", \"false\").option(\"delimiter\", \";\").csv(\"data/measurement.txt\") \\\n",
    "    .toDF(\"City\", \"Temperature\")\n",
    "\n",
    "# Converter a coluna 'Temperature' para tipo numérico\n",
    "df = df.withColumn(\"Temperature\", col(\"Temperature\").cast(\"float\"))\n",
    "\n",
    "# Calcular estatísticas usando Spark SQL\n",
    "statistics = df.groupBy(\"City\") \\\n",
    "    .agg({\"Temperature\": \"min\", \"Temperature\": \"max\", \"Temperature\": \"avg\"}) \\\n",
    "    .withColumnRenamed(\"min(Temperature)\", \"Min Temperature\") \\\n",
    "    .withColumnRenamed(\"max(Temperature)\", \"Max Temperature\") \\\n",
    "    .withColumnRenamed(\"avg(Temperature)\", \"Avg Temperature\")\n",
    "\n",
    "# Ordenar as estatísticas pela cidade\n",
    "statistics_sorted = statistics.orderBy(\"City\")\n",
    "\n",
    "# Mostrar as estatísticas\n",
    "statistics_sorted.show()\n",
    "\n",
    "# Encerrar a sessão Spark\n",
    "spark.stop()\n"
   ]
  },
  {
   "cell_type": "code",
   "execution_count": 2,
   "id": "011fce14-4439-45aa-92b8-1a55213d04bd",
   "metadata": {},
   "outputs": [
    {
     "name": "stdout",
     "output_type": "stream",
     "text": [
      "Using version \u001b[39;1m^3.5.1\u001b[39;22m for \u001b[36mpyspark\u001b[39m\n",
      "\n",
      "\u001b[34mUpdating dependencies\u001b[39m\n",
      "\u001b[2K\u001b[34mResolving dependencies...\u001b[39m \u001b[39;2m(18.6s)\u001b[39;22m://files.pythonhosted.org/packages/73/e5/c9eb78cc982dafb7b5834bc5c368fe596216c8b9f7c4b4ffa104c4d2ab8f/pyspark-3.5.1.tar.gz  99%\u001b[39m \u001b[39;2m(10.6s)\u001b[39;22m[34mResolving dependencies...\u001b[39m \u001b[36mDownloading https://files.pythonhosted.org/packages/73/e5/c9eb78cc982dafb7b5834bc5c368fe596216c8b9f7c4b4ffa104c4d2ab8f/pyspark-3.5.1.tar.gz  29%\u001b[39m \u001b[39;2m(2.9s)\u001b[39;22m\u001b[34mResolving dependencies...\u001b[39m \u001b[36mDownloading https://files.pythonhosted.org/packages/73/e5/c9eb78cc982dafb7b5834bc5c368fe596216c8b9f7c4b4ffa104c4d2ab8f/pyspark-3.5.1.tar.gz  59%\u001b[39m \u001b[39;2m(5.6s)\u001b[39;22m\u001b[34mResolving dependencies...\u001b[39m \u001b[36mDownloading https://files.pythonhosted.org/packages/73/e5/c9eb78cc982dafb7b5834bc5c368fe596216c8b9f7c4b4ffa104c4d2ab8f/pyspark-3.5.1.tar.gz  86%\u001b[39m \u001b[39;2m(8.0s)\u001b[39;22m\u001b[34mResolving dependencies...\u001b[39m \u001b[39;2m(12.5s)\u001b[39;22m\u001b[34mResolving dependencies...\u001b[39m \u001b[39;2m(13.9s)\u001b[39;22m\u001b[34mResolving dependencies...\u001b[39m \u001b[39;2m(18.0s)\u001b[39;22m\n",
      "\n",
      "\u001b[39;1mPackage operations\u001b[39;22m: \u001b[34m2\u001b[39m installs, \u001b[34m0\u001b[39m updates, \u001b[34m0\u001b[39m removals\n",
      "\n",
      "  \u001b[34;1m•\u001b[39;22m \u001b[39mInstalling \u001b[39m\u001b[36mpy4j\u001b[39m\u001b[39m (\u001b[39m\u001b[39;1m0.10.9.7\u001b[39;22m\u001b[39m)\u001b[39m: \u001b[34mPending...\u001b[39m\n",
      "\u001b[1A\u001b[0J  \u001b[34;1m•\u001b[39;22m \u001b[39mInstalling \u001b[39m\u001b[36mpy4j\u001b[39m\u001b[39m (\u001b[39m\u001b[39;1m0.10.9.7\u001b[39;22m\u001b[39m)\u001b[39m: \u001b[34mDownloading...\u001b[39m \u001b[39;1m0%\u001b[39;22m\n",
      "\u001b[1A\u001b[0J  \u001b[34;1m•\u001b[39;22m \u001b[39mInstalling \u001b[39m\u001b[36mpy4j\u001b[39m\u001b[39m (\u001b[39m\u001b[39;1m0.10.9.7\u001b[39;22m\u001b[39m)\u001b[39m: \u001b[34mDownloading...\u001b[39m \u001b[39;1m100%\u001b[39;22m\n",
      "\u001b[1A\u001b[0J  \u001b[34;1m•\u001b[39;22m \u001b[39mInstalling \u001b[39m\u001b[36mpy4j\u001b[39m\u001b[39m (\u001b[39m\u001b[39;1m0.10.9.7\u001b[39;22m\u001b[39m)\u001b[39m: \u001b[34mInstalling...\u001b[39m\n",
      "\u001b[1A\u001b[0J  \u001b[32;1m•\u001b[39;22m \u001b[39mInstalling \u001b[39m\u001b[36mpy4j\u001b[39m\u001b[39m (\u001b[39m\u001b[32m0.10.9.7\u001b[39m\u001b[39m)\u001b[39m\n",
      "  \u001b[34;1m•\u001b[39;22m \u001b[39mInstalling \u001b[39m\u001b[36mpyspark\u001b[39m\u001b[39m (\u001b[39m\u001b[39;1m3.5.1\u001b[39;22m\u001b[39m)\u001b[39m: \u001b[34mPending...\u001b[39m\n",
      "\u001b[1A\u001b[0J  \u001b[34;1m•\u001b[39;22m \u001b[39mInstalling \u001b[39m\u001b[36mpyspark\u001b[39m\u001b[39m (\u001b[39m\u001b[39;1m3.5.1\u001b[39;22m\u001b[39m)\u001b[39m: \u001b[34mDownloading...\u001b[39m \u001b[39;1m0%\u001b[39;22m\n",
      "\u001b[1A\u001b[0J  \u001b[34;1m•\u001b[39;22m \u001b[39mInstalling \u001b[39m\u001b[36mpyspark\u001b[39m\u001b[39m (\u001b[39m\u001b[39;1m3.5.1\u001b[39;22m\u001b[39m)\u001b[39m: \u001b[34mDownloading...\u001b[39m \u001b[39;1m10%\u001b[39;22m\n",
      "\u001b[1A\u001b[0J  \u001b[34;1m•\u001b[39;22m \u001b[39mInstalling \u001b[39m\u001b[36mpyspark\u001b[39m\u001b[39m (\u001b[39m\u001b[39;1m3.5.1\u001b[39;22m\u001b[39m)\u001b[39m: \u001b[34mDownloading...\u001b[39m \u001b[39;1m20%\u001b[39;22m\n",
      "\u001b[1A\u001b[0J  \u001b[34;1m•\u001b[39;22m \u001b[39mInstalling \u001b[39m\u001b[36mpyspark\u001b[39m\u001b[39m (\u001b[39m\u001b[39;1m3.5.1\u001b[39;22m\u001b[39m)\u001b[39m: \u001b[34mDownloading...\u001b[39m \u001b[39;1m30%\u001b[39;22m\n",
      "\u001b[1A\u001b[0J  \u001b[34;1m•\u001b[39;22m \u001b[39mInstalling \u001b[39m\u001b[36mpyspark\u001b[39m\u001b[39m (\u001b[39m\u001b[39;1m3.5.1\u001b[39;22m\u001b[39m)\u001b[39m: \u001b[34mDownloading...\u001b[39m \u001b[39;1m40%\u001b[39;22m\n",
      "\u001b[1A\u001b[0J  \u001b[34;1m•\u001b[39;22m \u001b[39mInstalling \u001b[39m\u001b[36mpyspark\u001b[39m\u001b[39m (\u001b[39m\u001b[39;1m3.5.1\u001b[39;22m\u001b[39m)\u001b[39m: \u001b[34mDownloading...\u001b[39m \u001b[39;1m50%\u001b[39;22m\n",
      "\u001b[1A\u001b[0J  \u001b[34;1m•\u001b[39;22m \u001b[39mInstalling \u001b[39m\u001b[36mpyspark\u001b[39m\u001b[39m (\u001b[39m\u001b[39;1m3.5.1\u001b[39;22m\u001b[39m)\u001b[39m: \u001b[34mDownloading...\u001b[39m \u001b[39;1m60%\u001b[39;22m\n",
      "\u001b[1A\u001b[0J  \u001b[34;1m•\u001b[39;22m \u001b[39mInstalling \u001b[39m\u001b[36mpyspark\u001b[39m\u001b[39m (\u001b[39m\u001b[39;1m3.5.1\u001b[39;22m\u001b[39m)\u001b[39m: \u001b[34mDownloading...\u001b[39m \u001b[39;1m70%\u001b[39;22m\n",
      "\u001b[1A\u001b[0J  \u001b[34;1m•\u001b[39;22m \u001b[39mInstalling \u001b[39m\u001b[36mpyspark\u001b[39m\u001b[39m (\u001b[39m\u001b[39;1m3.5.1\u001b[39;22m\u001b[39m)\u001b[39m: \u001b[34mDownloading...\u001b[39m \u001b[39;1m80%\u001b[39;22m\n",
      "\u001b[1A\u001b[0J  \u001b[34;1m•\u001b[39;22m \u001b[39mInstalling \u001b[39m\u001b[36mpyspark\u001b[39m\u001b[39m (\u001b[39m\u001b[39;1m3.5.1\u001b[39;22m\u001b[39m)\u001b[39m: \u001b[34mDownloading...\u001b[39m \u001b[39;1m90%\u001b[39;22m\n",
      "\u001b[1A\u001b[0J  \u001b[34;1m•\u001b[39;22m \u001b[39mInstalling \u001b[39m\u001b[36mpyspark\u001b[39m\u001b[39m (\u001b[39m\u001b[39;1m3.5.1\u001b[39;22m\u001b[39m)\u001b[39m: \u001b[34mDownloading...\u001b[39m \u001b[39;1m100%\u001b[39;22m\n",
      "\u001b[1A\u001b[0J  \u001b[34;1m•\u001b[39;22m \u001b[39mInstalling \u001b[39m\u001b[36mpyspark\u001b[39m\u001b[39m (\u001b[39m\u001b[39;1m3.5.1\u001b[39;22m\u001b[39m)\u001b[39m: \u001b[34mPreparing...\u001b[39m\n",
      "\u001b[1A\u001b[0J  \u001b[34;1m•\u001b[39;22m \u001b[39mInstalling \u001b[39m\u001b[36mpyspark\u001b[39m\u001b[39m (\u001b[39m\u001b[39;1m3.5.1\u001b[39;22m\u001b[39m)\u001b[39m: \u001b[34mInstalling...\u001b[39m\n",
      "\u001b[1A\u001b[0J  \u001b[32;1m•\u001b[39;22m \u001b[39mInstalling \u001b[39m\u001b[36mpyspark\u001b[39m\u001b[39m (\u001b[39m\u001b[32m3.5.1\u001b[39m\u001b[39m)\u001b[39m\n",
      "\n",
      "\u001b[34mWriting lock file\u001b[39m\n"
     ]
    }
   ],
   "source": [
    "!poetry add pyspark"
   ]
  },
  {
   "cell_type": "code",
   "execution_count": null,
   "id": "556e87c2-42cb-4897-8330-4de1b6f3e1f3",
   "metadata": {},
   "outputs": [],
   "source": [
    "import polars as pl\n",
    "\n",
    "# Ler o arquivo CSV diretamente em um DataFrame Polars\n",
    "df = pl.read_csv('data/measurement.txt', has_header=True)\n",
    "\n",
    "# Calcular estatísticas\n",
    "statistics = df.groupby('City').agg(\n",
    "    pl.min(df['Temperature']).alias('Min Temperature'),\n",
    "    pl.max(df['Temperature']).alias('Max Temperature'),\n",
    "    pl.avg(df['Temperature']).alias('Avg Temperature')\n",
    ")\n",
    "\n",
    "# Ordenar as estatísticas pela cidade\n",
    "statistics_sorted = statistics.sort('City')\n",
    "\n",
    "# Exibir as estatísticas\n",
    "print(statistics_sorted)\n",
    "\n"
   ]
  },
  {
   "cell_type": "code",
   "execution_count": null,
   "id": "6b2e662f-d655-4479-85d8-595a8d1455df",
   "metadata": {},
   "outputs": [],
   "source": []
  },
  {
   "cell_type": "code",
   "execution_count": 3,
   "id": "773df9ed-26d5-4edb-872f-d1c61f74ba60",
   "metadata": {},
   "outputs": [
    {
     "name": "stderr",
     "output_type": "stream",
     "text": [
      "/tmp/ipykernel_23851/188684952.py:1: DeprecationWarning: The current Dask DataFrame implementation is deprecated. \n",
      "In a future release, Dask DataFrame will use a new implementation that\n",
      "contains several improvements including a logical query planning.\n",
      "The user-facing DataFrame API will remain unchanged.\n",
      "\n",
      "The new implementation is already available and can be enabled by\n",
      "installing the dask-expr library:\n",
      "\n",
      "    $ pip install dask-expr\n",
      "\n",
      "and turning the query planning option on:\n",
      "\n",
      "    >>> import dask\n",
      "    >>> dask.config.set({'dataframe.query-planning': True})\n",
      "    >>> import dask.dataframe as dd\n",
      "\n",
      "API documentation for the new implementation is available at\n",
      "https://docs.dask.org/en/stable/dask-expr-api.html\n",
      "\n",
      "Any feedback can be reported on the Dask issue tracker\n",
      "https://github.com/dask/dask/issues \n",
      "\n",
      "To disable this warning in the future, set dask config:\n",
      "\n",
      "    # via Python\n",
      "    >>> dask.config.set({'dataframe.query-planning-warning': False})\n",
      "\n",
      "    # via CLI\n",
      "    dask config set dataframe.query-planning-warning False\n",
      "\n",
      "\n",
      "  import dask.dataframe as dd\n"
     ]
    },
    {
     "name": "stdout",
     "output_type": "stream",
     "text": [
      "                 min_temperature  max_temperature  avg_temperature\n",
      "City                                                              \n",
      "Aalborg                    -99.9             99.9         0.177352\n",
      "Aalten                     -99.9             99.9        -0.107256\n",
      "Aartselaar                 -99.9             99.9         0.098415\n",
      "Aasiaat                    -99.9             99.9        -0.001204\n",
      "Abaetetuba                 -99.9             99.9         0.315703\n",
      "...                          ...              ...              ...\n",
      "‘Aqrah                     -99.9             99.9         0.388061\n",
      "’Ali Ben Sliman            -99.9             99.9        -0.074811\n",
      "’Ayn Bni Mathar            -99.9             99.9         0.024268\n",
      "’s-Gravendeel              -99.9             99.9         0.094909\n",
      "’s-Gravenzande             -99.9             99.9         0.122677\n",
      "\n",
      "[8912 rows x 3 columns]\n"
     ]
    }
   ],
   "source": [
    "import dask.dataframe as dd\n",
    "\n",
    "# Ler o arquivo CSV diretamente em um DataFrame Dask\n",
    "df = dd.read_csv('data/measurement.txt', delimiter=';', header=None, names=['City', 'Temperature'])\n",
    "\n",
    "# Converter a coluna 'Temperature' para tipo numérico\n",
    "df['Temperature'] = df['Temperature'].astype(float)\n",
    "\n",
    "# Calcular estatísticas\n",
    "statistics = df.groupby('City').agg(\n",
    "    min_temperature=('Temperature', 'min'),\n",
    "    max_temperature=('Temperature', 'max'),\n",
    "    avg_temperature=('Temperature', 'mean')\n",
    ").compute()\n",
    "\n",
    "# Ordenar as estatísticas pela cidade\n",
    "statistics_sorted = statistics.sort_index()\n",
    "\n",
    "# Exibir as estatísticas\n",
    "print(statistics_sorted)\n"
   ]
  },
  {
   "cell_type": "code",
   "execution_count": null,
   "id": "ab2e2eb0-f1e3-4541-8941-0d8b9bab58bb",
   "metadata": {},
   "outputs": [],
   "source": []
  },
  {
   "cell_type": "code",
   "execution_count": 5,
   "id": "4e88e530-d5f4-4199-98db-29cb1184a0b3",
   "metadata": {},
   "outputs": [
    {
     "ename": "ModuleNotFoundError",
     "evalue": "No module named 'vaex'",
     "output_type": "error",
     "traceback": [
      "\u001b[0;31m---------------------------------------------------------------------------\u001b[0m",
      "\u001b[0;31mModuleNotFoundError\u001b[0m                       Traceback (most recent call last)",
      "Cell \u001b[0;32mIn[5], line 1\u001b[0m\n\u001b[0;32m----> 1\u001b[0m \u001b[38;5;28;01mimport\u001b[39;00m \u001b[38;5;21;01mvaex\u001b[39;00m\n\u001b[1;32m      2\u001b[0m \u001b[38;5;28;01mimport\u001b[39;00m \u001b[38;5;21;01mtime\u001b[39;00m\n\u001b[1;32m      4\u001b[0m \u001b[38;5;28;01mdef\u001b[39;00m \u001b[38;5;21mmain\u001b[39m(filename):\n",
      "\u001b[0;31mModuleNotFoundError\u001b[0m: No module named 'vaex'"
     ]
    }
   ],
   "source": [
    "import vaex\n",
    "import time\n",
    "\n",
    "def main(filename):\n",
    "    start_time = time.time()\n",
    "\n",
    "    # Leitura do arquivo CSV utilizando Vaex\n",
    "    df = vaex.from_csv(filename, names=['city', 'temperature'], sep=';')\n",
    "\n",
    "    # Cálculo das estatísticas\n",
    "    min_temperature = df.groupby(df['city']).agg({'temperature': 'min'})\n",
    "    max_temperature = df.groupby(df['city']).agg({'temperature': 'max'})\n",
    "    mean_temperature = df.groupby(df['city']).agg({'temperature': 'mean'})\n",
    "\n",
    "    # Concatenação dos resultados\n",
    "    combined_results = vaex.concat([min_temperature, max_temperature, mean_temperature], axis=1)\n",
    "    combined_results.columns = ['min_temperature', 'max_temperature', 'mean_temperature']\n",
    "\n",
    "    # Exibição dos resultados\n",
    "    print(combined_results)\n",
    "\n",
    "    end_time = time.time()\n",
    "    execution_time = end_time - start_time\n",
    "    print(f\"Execution time: {format_time(execution_time)}\")\n",
    "\n",
    "def format_time(seconds):\n",
    "    hours, remainder = divmod(seconds, 3600)\n",
    "    minutes, seconds = divmod(remainder, 60)\n",
    "    return \"{:0>2}:{:0>2}:{:05.2f}\".format(int(hours), int(minutes), seconds)\n",
    "\n",
    "if __name__ == \"__main__\":\n",
    "    filename = \"data/measurements.txt\"\n",
    "    main(filename)\n"
   ]
  },
  {
   "cell_type": "code",
   "execution_count": null,
   "id": "bc87d1a2-852f-4c65-bd6e-215faf967407",
   "metadata": {},
   "outputs": [],
   "source": []
  },
  {
   "cell_type": "code",
   "execution_count": 2,
   "id": "720f0298-ae71-4a07-b99b-4139dedbb890",
   "metadata": {},
   "outputs": [
    {
     "name": "stdout",
     "output_type": "stream",
     "text": [
      "Using version \u001b[39;1m^2024.2.1\u001b[39;22m for \u001b[36mdask\u001b[39m\n",
      "\n",
      "\u001b[34mUpdating dependencies\u001b[39m\n",
      "\u001b[2K\u001b[34mResolving dependencies...\u001b[39m \u001b[39;2m(1.0s)\u001b[39;22m\n",
      "\n",
      "\u001b[39;1mPackage operations\u001b[39;22m: \u001b[34m7\u001b[39m installs, \u001b[34m0\u001b[39m updates, \u001b[34m0\u001b[39m removals\n",
      "\n",
      "  \u001b[34;1m•\u001b[39;22m \u001b[39mInstalling \u001b[39m\u001b[36mlocket\u001b[39m\u001b[39m (\u001b[39m\u001b[39;1m1.0.0\u001b[39;22m\u001b[39m)\u001b[39m: \u001b[34mPending...\u001b[39m\n",
      "  \u001b[34;1m•\u001b[39;22m \u001b[39mInstalling \u001b[39m\u001b[36mtoolz\u001b[39m\u001b[39m (\u001b[39m\u001b[39;1m0.12.1\u001b[39;22m\u001b[39m)\u001b[39m: \u001b[34mPending...\u001b[39m\n",
      "  \u001b[34;1m•\u001b[39;22m \u001b[39mInstalling \u001b[39m\u001b[36mzipp\u001b[39m\u001b[39m (\u001b[39m\u001b[39;1m3.17.0\u001b[39;22m\u001b[39m)\u001b[39m: \u001b[34mPending...\u001b[39m\n",
      "\u001b[1A\u001b[0J  \u001b[34;1m•\u001b[39;22m \u001b[39mInstalling \u001b[39m\u001b[36mzipp\u001b[39m\u001b[39m (\u001b[39m\u001b[39;1m3.17.0\u001b[39;22m\u001b[39m)\u001b[39m: \u001b[34mInstalling...\u001b[39m\n",
      "\u001b[1A\u001b[0J  \u001b[32;1m•\u001b[39;22m \u001b[39mInstalling \u001b[39m\u001b[36mzipp\u001b[39m\u001b[39m (\u001b[39m\u001b[32m3.17.0\u001b[39m\u001b[39m)\u001b[39m\n",
      "\u001b[2A\u001b[0J  \u001b[32;1m•\u001b[39;22m \u001b[39mInstalling \u001b[39m\u001b[36mzipp\u001b[39m\u001b[39m (\u001b[39m\u001b[32m3.17.0\u001b[39m\u001b[39m)\u001b[39m\n",
      "\u001b[1A\u001b[0J  \u001b[34;1m•\u001b[39;22m \u001b[39mInstalling \u001b[39m\u001b[36mtoolz\u001b[39m\u001b[39m (\u001b[39m\u001b[39;1m0.12.1\u001b[39;22m\u001b[39m)\u001b[39m: \u001b[34mInstalling...\u001b[39m\n",
      "  \u001b[32;1m•\u001b[39;22m \u001b[39mInstalling \u001b[39m\u001b[36mzipp\u001b[39m\u001b[39m (\u001b[39m\u001b[32m3.17.0\u001b[39m\u001b[39m)\u001b[39m\n",
      "\u001b[2A\u001b[0J  \u001b[32;1m•\u001b[39;22m \u001b[39mInstalling \u001b[39m\u001b[36mzipp\u001b[39m\u001b[39m (\u001b[39m\u001b[32m3.17.0\u001b[39m\u001b[39m)\u001b[39m\n",
      "\u001b[1A\u001b[0J  \u001b[32;1m•\u001b[39;22m \u001b[39mInstalling \u001b[39m\u001b[36mtoolz\u001b[39m\u001b[39m (\u001b[39m\u001b[32m0.12.1\u001b[39m\u001b[39m)\u001b[39m\n",
      "  \u001b[32;1m•\u001b[39;22m \u001b[39mInstalling \u001b[39m\u001b[36mzipp\u001b[39m\u001b[39m (\u001b[39m\u001b[32m3.17.0\u001b[39m\u001b[39m)\u001b[39m\n",
      "\u001b[3A\u001b[0J  \u001b[32;1m•\u001b[39;22m \u001b[39mInstalling \u001b[39m\u001b[36mtoolz\u001b[39m\u001b[39m (\u001b[39m\u001b[32m0.12.1\u001b[39m\u001b[39m)\u001b[39m\n",
      "  \u001b[32;1m•\u001b[39;22m \u001b[39mInstalling \u001b[39m\u001b[36mzipp\u001b[39m\u001b[39m (\u001b[39m\u001b[32m3.17.0\u001b[39m\u001b[39m)\u001b[39m\n",
      "\u001b[2A\u001b[0J  \u001b[34;1m•\u001b[39;22m \u001b[39mInstalling \u001b[39m\u001b[36mlocket\u001b[39m\u001b[39m (\u001b[39m\u001b[39;1m1.0.0\u001b[39;22m\u001b[39m)\u001b[39m: \u001b[34mInstalling...\u001b[39m\n",
      "  \u001b[32;1m•\u001b[39;22m \u001b[39mInstalling \u001b[39m\u001b[36mtoolz\u001b[39m\u001b[39m (\u001b[39m\u001b[32m0.12.1\u001b[39m\u001b[39m)\u001b[39m\n",
      "  \u001b[32;1m•\u001b[39;22m \u001b[39mInstalling \u001b[39m\u001b[36mzipp\u001b[39m\u001b[39m (\u001b[39m\u001b[32m3.17.0\u001b[39m\u001b[39m)\u001b[39m\n",
      "\u001b[3A\u001b[0J  \u001b[32;1m•\u001b[39;22m \u001b[39mInstalling \u001b[39m\u001b[36mtoolz\u001b[39m\u001b[39m (\u001b[39m\u001b[32m0.12.1\u001b[39m\u001b[39m)\u001b[39m\n",
      "  \u001b[32;1m•\u001b[39;22m \u001b[39mInstalling \u001b[39m\u001b[36mzipp\u001b[39m\u001b[39m (\u001b[39m\u001b[32m3.17.0\u001b[39m\u001b[39m)\u001b[39m\n",
      "\u001b[2A\u001b[0J  \u001b[32;1m•\u001b[39;22m \u001b[39mInstalling \u001b[39m\u001b[36mlocket\u001b[39m\u001b[39m (\u001b[39m\u001b[32m1.0.0\u001b[39m\u001b[39m)\u001b[39m\n",
      "  \u001b[32;1m•\u001b[39;22m \u001b[39mInstalling \u001b[39m\u001b[36mtoolz\u001b[39m\u001b[39m (\u001b[39m\u001b[32m0.12.1\u001b[39m\u001b[39m)\u001b[39m\n",
      "  \u001b[32;1m•\u001b[39;22m \u001b[39mInstalling \u001b[39m\u001b[36mzipp\u001b[39m\u001b[39m (\u001b[39m\u001b[32m3.17.0\u001b[39m\u001b[39m)\u001b[39m\n",
      "  \u001b[34;1m•\u001b[39;22m \u001b[39mInstalling \u001b[39m\u001b[36mcloudpickle\u001b[39m\u001b[39m (\u001b[39m\u001b[39;1m3.0.0\u001b[39;22m\u001b[39m)\u001b[39m: \u001b[34mPending...\u001b[39m\n",
      "  \u001b[34;1m•\u001b[39;22m \u001b[39mInstalling \u001b[39m\u001b[36mimportlib-metadata\u001b[39m\u001b[39m (\u001b[39m\u001b[39;1m7.0.2\u001b[39;22m\u001b[39m)\u001b[39m: \u001b[34mPending...\u001b[39m\n",
      "  \u001b[34;1m•\u001b[39;22m \u001b[39mInstalling \u001b[39m\u001b[36mpartd\u001b[39m\u001b[39m (\u001b[39m\u001b[39;1m1.4.1\u001b[39;22m\u001b[39m)\u001b[39m: \u001b[34mPending...\u001b[39m\n",
      "\u001b[2A\u001b[0J  \u001b[34;1m•\u001b[39;22m \u001b[39mInstalling \u001b[39m\u001b[36mpartd\u001b[39m\u001b[39m (\u001b[39m\u001b[39;1m1.4.1\u001b[39;22m\u001b[39m)\u001b[39m: \u001b[34mPending...\u001b[39m\n",
      "\u001b[1A\u001b[0J  \u001b[34;1m•\u001b[39;22m \u001b[39mInstalling \u001b[39m\u001b[36mimportlib-metadata\u001b[39m\u001b[39m (\u001b[39m\u001b[39;1m7.0.2\u001b[39;22m\u001b[39m)\u001b[39m: \u001b[34mDownloading...\u001b[39m \u001b[39;1m0%\u001b[39;22m\n",
      "  \u001b[34;1m•\u001b[39;22m \u001b[39mInstalling \u001b[39m\u001b[36mpartd\u001b[39m\u001b[39m (\u001b[39m\u001b[39;1m1.4.1\u001b[39;22m\u001b[39m)\u001b[39m: \u001b[34mPending...\u001b[39m\n",
      "\u001b[2A\u001b[0J  \u001b[34;1m•\u001b[39;22m \u001b[39mInstalling \u001b[39m\u001b[36mpartd\u001b[39m\u001b[39m (\u001b[39m\u001b[39;1m1.4.1\u001b[39;22m\u001b[39m)\u001b[39m: \u001b[34mPending...\u001b[39m\n",
      "\u001b[1A\u001b[0J  \u001b[34;1m•\u001b[39;22m \u001b[39mInstalling \u001b[39m\u001b[36mimportlib-metadata\u001b[39m\u001b[39m (\u001b[39m\u001b[39;1m7.0.2\u001b[39;22m\u001b[39m)\u001b[39m: \u001b[34mDownloading...\u001b[39m \u001b[39;1m100%\u001b[39;22m\n",
      "  \u001b[34;1m•\u001b[39;22m \u001b[39mInstalling \u001b[39m\u001b[36mpartd\u001b[39m\u001b[39m (\u001b[39m\u001b[39;1m1.4.1\u001b[39;22m\u001b[39m)\u001b[39m: \u001b[34mPending...\u001b[39m\n",
      "\u001b[2A\u001b[0J  \u001b[34;1m•\u001b[39;22m \u001b[39mInstalling \u001b[39m\u001b[36mpartd\u001b[39m\u001b[39m (\u001b[39m\u001b[39;1m1.4.1\u001b[39;22m\u001b[39m)\u001b[39m: \u001b[34mPending...\u001b[39m\n",
      "\u001b[1A\u001b[0J  \u001b[34;1m•\u001b[39;22m \u001b[39mInstalling \u001b[39m\u001b[36mimportlib-metadata\u001b[39m\u001b[39m (\u001b[39m\u001b[39;1m7.0.2\u001b[39;22m\u001b[39m)\u001b[39m: \u001b[34mInstalling...\u001b[39m\n",
      "  \u001b[34;1m•\u001b[39;22m \u001b[39mInstalling \u001b[39m\u001b[36mpartd\u001b[39m\u001b[39m (\u001b[39m\u001b[39;1m1.4.1\u001b[39;22m\u001b[39m)\u001b[39m: \u001b[34mPending...\u001b[39m\n",
      "\u001b[2A\u001b[0J  \u001b[34;1m•\u001b[39;22m \u001b[39mInstalling \u001b[39m\u001b[36mpartd\u001b[39m\u001b[39m (\u001b[39m\u001b[39;1m1.4.1\u001b[39;22m\u001b[39m)\u001b[39m: \u001b[34mPending...\u001b[39m\n",
      "\u001b[1A\u001b[0J  \u001b[32;1m•\u001b[39;22m \u001b[39mInstalling \u001b[39m\u001b[36mimportlib-metadata\u001b[39m\u001b[39m (\u001b[39m\u001b[32m7.0.2\u001b[39m\u001b[39m)\u001b[39m\n",
      "  \u001b[34;1m•\u001b[39;22m \u001b[39mInstalling \u001b[39m\u001b[36mpartd\u001b[39m\u001b[39m (\u001b[39m\u001b[39;1m1.4.1\u001b[39;22m\u001b[39m)\u001b[39m: \u001b[34mPending...\u001b[39m\n",
      "\u001b[3A\u001b[0J  \u001b[32;1m•\u001b[39;22m \u001b[39mInstalling \u001b[39m\u001b[36mimportlib-metadata\u001b[39m\u001b[39m (\u001b[39m\u001b[32m7.0.2\u001b[39m\u001b[39m)\u001b[39m\n",
      "  \u001b[34;1m•\u001b[39;22m \u001b[39mInstalling \u001b[39m\u001b[36mpartd\u001b[39m\u001b[39m (\u001b[39m\u001b[39;1m1.4.1\u001b[39;22m\u001b[39m)\u001b[39m: \u001b[34mPending...\u001b[39m\n",
      "\u001b[2A\u001b[0J  \u001b[34;1m•\u001b[39;22m \u001b[39mInstalling \u001b[39m\u001b[36mcloudpickle\u001b[39m\u001b[39m (\u001b[39m\u001b[39;1m3.0.0\u001b[39;22m\u001b[39m)\u001b[39m: \u001b[34mInstalling...\u001b[39m\n",
      "  \u001b[32;1m•\u001b[39;22m \u001b[39mInstalling \u001b[39m\u001b[36mimportlib-metadata\u001b[39m\u001b[39m (\u001b[39m\u001b[32m7.0.2\u001b[39m\u001b[39m)\u001b[39m\n",
      "  \u001b[34;1m•\u001b[39;22m \u001b[39mInstalling \u001b[39m\u001b[36mpartd\u001b[39m\u001b[39m (\u001b[39m\u001b[39;1m1.4.1\u001b[39;22m\u001b[39m)\u001b[39m: \u001b[34mPending...\u001b[39m\n",
      "\u001b[1A\u001b[0J  \u001b[34;1m•\u001b[39;22m \u001b[39mInstalling \u001b[39m\u001b[36mpartd\u001b[39m\u001b[39m (\u001b[39m\u001b[39;1m1.4.1\u001b[39;22m\u001b[39m)\u001b[39m: \u001b[34mInstalling...\u001b[39m\n",
      "\u001b[3A\u001b[0J  \u001b[32;1m•\u001b[39;22m \u001b[39mInstalling \u001b[39m\u001b[36mimportlib-metadata\u001b[39m\u001b[39m (\u001b[39m\u001b[32m7.0.2\u001b[39m\u001b[39m)\u001b[39m\n",
      "  \u001b[34;1m•\u001b[39;22m \u001b[39mInstalling \u001b[39m\u001b[36mpartd\u001b[39m\u001b[39m (\u001b[39m\u001b[39;1m1.4.1\u001b[39;22m\u001b[39m)\u001b[39m: \u001b[34mInstalling...\u001b[39m\n",
      "\u001b[2A\u001b[0J  \u001b[32;1m•\u001b[39;22m \u001b[39mInstalling \u001b[39m\u001b[36mcloudpickle\u001b[39m\u001b[39m (\u001b[39m\u001b[32m3.0.0\u001b[39m\u001b[39m)\u001b[39m\n",
      "  \u001b[32;1m•\u001b[39;22m \u001b[39mInstalling \u001b[39m\u001b[36mimportlib-metadata\u001b[39m\u001b[39m (\u001b[39m\u001b[32m7.0.2\u001b[39m\u001b[39m)\u001b[39m\n",
      "  \u001b[34;1m•\u001b[39;22m \u001b[39mInstalling \u001b[39m\u001b[36mpartd\u001b[39m\u001b[39m (\u001b[39m\u001b[39;1m1.4.1\u001b[39;22m\u001b[39m)\u001b[39m: \u001b[34mInstalling...\u001b[39m\n",
      "\u001b[1A\u001b[0J  \u001b[32;1m•\u001b[39;22m \u001b[39mInstalling \u001b[39m\u001b[36mpartd\u001b[39m\u001b[39m (\u001b[39m\u001b[32m1.4.1\u001b[39m\u001b[39m)\u001b[39m\n",
      "  \u001b[34;1m•\u001b[39;22m \u001b[39mInstalling \u001b[39m\u001b[36mdask\u001b[39m\u001b[39m (\u001b[39m\u001b[39;1m2024.2.1\u001b[39;22m\u001b[39m)\u001b[39m: \u001b[34mPending...\u001b[39m\n",
      "\u001b[1A\u001b[0J  \u001b[34;1m•\u001b[39;22m \u001b[39mInstalling \u001b[39m\u001b[36mdask\u001b[39m\u001b[39m (\u001b[39m\u001b[39;1m2024.2.1\u001b[39;22m\u001b[39m)\u001b[39m: \u001b[34mDownloading...\u001b[39m \u001b[39;1m0%\u001b[39;22m\n",
      "\u001b[1A\u001b[0J  \u001b[34;1m•\u001b[39;22m \u001b[39mInstalling \u001b[39m\u001b[36mdask\u001b[39m\u001b[39m (\u001b[39m\u001b[39;1m2024.2.1\u001b[39;22m\u001b[39m)\u001b[39m: \u001b[34mDownloading...\u001b[39m \u001b[39;1m100%\u001b[39;22m\n",
      "\u001b[1A\u001b[0J  \u001b[34;1m•\u001b[39;22m \u001b[39mInstalling \u001b[39m\u001b[36mdask\u001b[39m\u001b[39m (\u001b[39m\u001b[39;1m2024.2.1\u001b[39;22m\u001b[39m)\u001b[39m: \u001b[34mInstalling...\u001b[39m\n",
      "\u001b[1A\u001b[0J  \u001b[32;1m•\u001b[39;22m \u001b[39mInstalling \u001b[39m\u001b[36mdask\u001b[39m\u001b[39m (\u001b[39m\u001b[32m2024.2.1\u001b[39m\u001b[39m)\u001b[39m\n",
      "\n",
      "\u001b[34mWriting lock file\u001b[39m\n"
     ]
    }
   ],
   "source": [
    "!poetry add dask"
   ]
  },
  {
   "cell_type": "code",
   "execution_count": null,
   "id": "009f229b-85c4-47f3-855f-697514e19601",
   "metadata": {},
   "outputs": [],
   "source": []
  },
  {
   "cell_type": "code",
   "execution_count": null,
   "id": "8cfb0c6c-c3a2-4843-8e85-3c7ac77d403e",
   "metadata": {},
   "outputs": [],
   "source": [
    "<a id=\"ancora01\"></a>"
   ]
  },
  {
   "cell_type": "code",
   "execution_count": null,
   "id": "edab018f-e073-4ab4-ba69-6b98813986ec",
   "metadata": {},
   "outputs": [],
   "source": [
    "<a id=\"ancora02\"></a>"
   ]
  },
  {
   "cell_type": "code",
   "execution_count": null,
   "id": "fabd8557-34ae-4873-bbd6-02819ea12b15",
   "metadata": {},
   "outputs": [],
   "source": [
    "<a id=\"ancora03\"></a>"
   ]
  },
  {
   "cell_type": "code",
   "execution_count": null,
   "id": "5e40fd2e-d5d3-494a-89d0-3e2109f5b0fe",
   "metadata": {},
   "outputs": [],
   "source": [
    "<a id=\"ancora04\"></a>"
   ]
  },
  {
   "cell_type": "code",
   "execution_count": null,
   "id": "80890444-09da-4dd7-a4a4-21a3213c53ad",
   "metadata": {},
   "outputs": [],
   "source": [
    "<a id=\"ancora05\"></a>"
   ]
  },
  {
   "cell_type": "code",
   "execution_count": null,
   "id": "80dc9972-7238-4976-89f5-263dfbcceefe",
   "metadata": {},
   "outputs": [],
   "source": [
    "<a id=\"ancora06\"></a>"
   ]
  },
  {
   "cell_type": "code",
   "execution_count": null,
   "id": "12eb553c-e8d9-4050-94bf-ab84dab6537e",
   "metadata": {},
   "outputs": [],
   "source": [
    "<a id=\"ancora07\"></a>"
   ]
  },
  {
   "cell_type": "code",
   "execution_count": null,
   "id": "f4f49135-6883-4aae-aa1a-86b22496ddcc",
   "metadata": {},
   "outputs": [],
   "source": [
    "<a id=\"ancora08\"></a>"
   ]
  },
  {
   "cell_type": "code",
   "execution_count": null,
   "id": "a5fca550-56b0-408d-98ae-26b8967ecb55",
   "metadata": {},
   "outputs": [],
   "source": [
    "<a id=\"ancora09\"></a>"
   ]
  },
  {
   "cell_type": "code",
   "execution_count": null,
   "id": "f6d9e29f-1b68-420f-a9d0-79998bef6847",
   "metadata": {},
   "outputs": [],
   "source": [
    "<a id=\"ancora10\"></a>"
   ]
  },
  {
   "cell_type": "code",
   "execution_count": null,
   "id": "c7e808a9-c4c1-46d8-b29e-2553caa37d0b",
   "metadata": {},
   "outputs": [],
   "source": [
    "<a id=\"ancora11\"></a>"
   ]
  },
  {
   "cell_type": "code",
   "execution_count": null,
   "id": "912e1461-caf7-4252-ab8d-ede0f6f6419a",
   "metadata": {},
   "outputs": [],
   "source": [
    "<a id=\"ancora12\"></a>"
   ]
  },
  {
   "cell_type": "code",
   "execution_count": null,
   "id": "ea98eb77-35ad-4d99-b14b-b918b68c83e8",
   "metadata": {},
   "outputs": [],
   "source": [
    "<a id=\"ancora13\"></a>"
   ]
  },
  {
   "cell_type": "code",
   "execution_count": null,
   "id": "d85b02a0-6493-4c05-b0f8-6250c848cd19",
   "metadata": {},
   "outputs": [],
   "source": [
    "<a id=\"ancora14\"></a>"
   ]
  },
  {
   "cell_type": "code",
   "execution_count": null,
   "id": "7073b820-4cde-4db7-88e0-1cc81c5d61ef",
   "metadata": {},
   "outputs": [],
   "source": [
    "<a id=\"ancora15\"></a>"
   ]
  },
  {
   "cell_type": "code",
   "execution_count": null,
   "id": "62da02d5-0cfe-4797-8492-d0ac66400b2a",
   "metadata": {},
   "outputs": [],
   "source": [
    "<a id=\"ancora16\"></a>"
   ]
  },
  {
   "cell_type": "code",
   "execution_count": null,
   "id": "4d3d620b-fff8-4510-b55a-dd8bfb84c339",
   "metadata": {},
   "outputs": [],
   "source": [
    "<a id=\"ancora17\"></a>"
   ]
  },
  {
   "cell_type": "code",
   "execution_count": null,
   "id": "bbd0aa1f-81c9-4d88-b98a-f22ebc55a414",
   "metadata": {},
   "outputs": [],
   "source": [
    "<a id=\"ancora18\"></a>"
   ]
  },
  {
   "cell_type": "code",
   "execution_count": null,
   "id": "c5cdcc91-f8eb-461e-80b5-2db463929d30",
   "metadata": {},
   "outputs": [],
   "source": [
    "<a id=\"ancora19\"></a>"
   ]
  },
  {
   "cell_type": "code",
   "execution_count": null,
   "id": "fd813f7d-8ca4-4579-aa6f-081a3b6963e3",
   "metadata": {},
   "outputs": [],
   "source": [
    "<a id=\"ancora20\"></a>"
   ]
  }
 ],
 "metadata": {
  "kernelspec": {
   "display_name": "bootcamp_jd24",
   "language": "python",
   "name": "bootcamp_jd24"
  },
  "language_info": {
   "codemirror_mode": {
    "name": "ipython",
    "version": 3
   },
   "file_extension": ".py",
   "mimetype": "text/x-python",
   "name": "python",
   "nbconvert_exporter": "python",
   "pygments_lexer": "ipython3",
   "version": "3.11.3"
  }
 },
 "nbformat": 4,
 "nbformat_minor": 5
}
