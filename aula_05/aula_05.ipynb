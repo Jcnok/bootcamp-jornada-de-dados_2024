{
 "cells": [
  {
   "cell_type": "markdown",
   "id": "180d6e20-eb17-42b4-a459-0d7fa37ce1be",
   "metadata": {},
   "source": [
    "# Projeto 01: Um Bilhão de Linhas: Desafio de Processamento de Dados com Python\n",
    "\n",
    "![imagem_01](./img/bootcamp.jpg)\n",
    "\n",
    "## Introdução\n",
    "\n",
    "O objetivo deste projeto é demonstrar como processar eficientemente um arquivo de dados massivo contendo 1 bilhão de linhas (~14GB), especificamente para calcular estatísticas (Incluindo agregação e ordenação que são operações pesadas) utilizando Python. \n",
    "\n",
    "Este desafio foi inspirado no [The One Billion Row Challenge](https://github.com/gunnarmorling/1brc), originalmente proposto para Java, foi adaptado para o [bootcamp da jornada de dados 2024](https://www.jornadadedados2024.com.br/workshops)\n",
    "\n",
    "O arquivo de dados consiste em medições de temperatura de várias cidades(dados ficticios). Cada registro segue o formato `<string: nome da estação>;<double: medição>`, com a temperatura sendo apresentada com precisão de uma casa decimal.\n",
    "\n",
    "Aqui estão dez linhas de exemplo do arquivo:\n",
    "\n",
    "```\n",
    "Hamburg;12.0\n",
    "Bulawayo;8.9\n",
    "Palembang;38.8\n",
    "St. Johns;15.2\n",
    "Cracow;12.6\n",
    "Bridgetown;26.9\n",
    "Istanbul;6.2\n",
    "Roseau;34.4\n",
    "Conakry;31.2\n",
    "Istanbul;23.0\n",
    "```\n",
    "\n",
    "O desafio é desenvolver um programa Python capaz de ler esse arquivo e calcular a temperatura mínima, média (arredondada para uma casa decimal) e máxima para cada cidade, exibindo os resultados em uma tabela ordenada por nome da estação.\n",
    "\n",
    "| city      | min_temperature | mean_temperature | max_temperature |\n",
    "|--------------|-----------------|------------------|-----------------|\n",
    "| Abha         | -31.1           | 18.0             | 66.5            |\n",
    "| Abidjan      | -25.9           | 26.0             | 74.6            |\n",
    "| Abéché       | -19.8           | 29.4             | 79.9            |\n",
    "| Accra        | -24.8           | 26.4             | 76.3            |\n",
    "| Addis Ababa  | -31.8           | 16.0             | 63.9            |\n",
    "| ...          | ...             | ...              | ...             |\n",
    "| Zagreb       | -39.2           | 10.7             | 58.1            |\n",
    "| Zanzibar City| -26.5           | 26.0             | 75.2            |\n",
    "| Zürich       | -42.0           | 9.3              | 63.6            |\n",
    "| Ürümqi       | -42.1           | 7.4              | 56.7            |\n",
    "| İzmir        | -34.4           | 17.9             | 67.9            |\n",
    "\n"
   ]
  },
  {
   "cell_type": "markdown",
   "id": "e0ea9c65-126b-402c-8004-0e250a6a5e55",
   "metadata": {},
   "source": [
    "## Sobre:"
   ]
  },
  {
   "cell_type": "markdown",
   "id": "5abe1e3a-8b1d-45d2-86fd-1b42b901a804",
   "metadata": {},
   "source": [
    "Abaixo um índice como todas as etapas para resolução do projeto, desde informações sobre as configurações desktop, sobre a memória, ssd, como gerar os dados, dependências e o resultado do tempo de execução de cada script utilizados."
   ]
  },
  {
   "cell_type": "markdown",
   "id": "92d20fa0-eb4a-4d7d-9e89-d83facdf96df",
   "metadata": {},
   "source": [
    "## índice\n",
    "\n",
    "<a id=\"voltar\"></a>\n",
    "\n",
    "1.  **[Decoradores](#ancora01)**\n",
    "2.  **[Scripts para gerar os dados.](#ancora02)**\n",
    "3.  **[Pandas - min, max e mean em 1 bilhão de linhas](#ancora03)**\n",
    "4.  **[Exercício 3: Filtragem de Logs por Severidade](#ancora04)**\n",
    "5.  **[Exercício 4: Validação de Dados de Entrada](#ancora05)**\n",
    "6.  **[Exercício 5: Detecção de Anomalias em Dados de Transações](#ancora05)**\n",
    "7.  **[Exercício 6: Contagem de Palavras em Textos](#ancora06)**\n",
    "8.  **[Exercício 7: Normalização de Dados](#ancora07)**\n",
    "9.  **[Exercício 8: Filtragem de Dados Faltantes](#ancora08)**\n",
    "10.  **[Exercício 9: Extração de Subconjuntos de Dados](#ancora09)**\n",
    "11. **[Exercício 10: Agregação de Dados por Categoria](#ancora10)**\n",
    "12. **[Exercício 11:  Leitura de Dados até Flag](#ancora11)**\n",
    "13. **[Exercício 12: Validação de Entrada](#ancora12)**\n",
    "14. **[Exercício 13: Consumo de API Simulado](#ancora13)**\n",
    "15. **[Exercício 14: Tentativas de Conexão](#ancora14)**\n",
    "16. **[Exercício 15: Processamento de Dados com Condição de Parada](#ancora15)**\n",
    "17. **[Desafio : Estruturas de Controle de Fluxo](#desafio)**\n"
   ]
  },
  {
   "cell_type": "markdown",
   "id": "5dd7b87b-9ff0-4e17-bac4-ec9dc191add3",
   "metadata": {},
   "source": [
    "<a id=\"ancora01\"></a>\n",
    "## Decoradores"
   ]
  },
  {
   "cell_type": "markdown",
   "id": "05db8df0-beb2-4047-ae79-02521b633225",
   "metadata": {},
   "source": [
    "**O decorator timer serve para medir o tempo de execução de uma função e registrar o resultado em um arquivo CSV. Ele também imprime o tempo de execução no console.**\n",
    "\n",
    "**Porquê usar decorators?**\n",
    "* Nesse exemplo precisamos medir o tempo de cada uma das funções que serão criadas para determinar a melhor performance, dessa forma podemos criar uma função mais limpa e organizada onde iremos chamar o decorator para exibir e registrar as informações do tempo de execução da cada uma das funções, isso evita a duplicidade de código.\n",
    "\n",
    "* Funcionalidades:\n",
    "\n",
    "    - Mede o tempo de execução da função decorada.\n",
    "    - Formata o tempo em horas, minutos e segundos.\n",
    "    - Registra o nome da função e o tempo de execução em um arquivo CSV chamado tempos_execucao.csv.\n",
    "    - Imprime o nome da função e o tempo de execução no console.\n",
    "* Vantagens de usar decorators:\n",
    "\n",
    "    - Códigos mais concisos e reutilizáveis.\n",
    "    - Evita a duplicação de código para medição de tempo.\n",
    "    - Facilita a comparação do tempo de execução de diferentes funções.\n",
    "    - Permite a criação de logs de performance."
   ]
  },
  {
   "cell_type": "markdown",
   "id": "8d6f552d-c24f-4034-9248-f15c2044c199",
   "metadata": {},
   "source": [
    "* **Decorator para salvar os resultado em um csv**."
   ]
  },
  {
   "cell_type": "code",
   "execution_count": 3,
   "id": "f1a67f65-3116-4830-9175-c076b53ce963",
   "metadata": {},
   "outputs": [],
   "source": [
    "# Decorador para caluclar o tempo de processamento e salvar em um arquivo csv.\n",
    "def timer_to_csv(func):\n",
    "    import time\n",
    "    import csv\n",
    "    \n",
    "    def format_time(segundos: int): \n",
    "        \"\"\"\n",
    "        Formata os milisegundos em hora:minuto:segundo\n",
    "        \"\"\"\n",
    "        if segundos < 60:\n",
    "            return f\"{segundos:.3f} segundos\"\n",
    "        elif segundos < 3600:\n",
    "            minutos, segundos = divmod(segundos, 60)\n",
    "            return f\"{int(minutos)} minutos {int(segundos)} segundos\"\n",
    "        else:\n",
    "            horas, remainder = divmod(seconds, 3600)\n",
    "            minutos, segundos = divmod(remainder, 60)\n",
    "            if minutos == 0:\n",
    "                return f\"{int(horas)} horas {int(segundos)} segundos\"\n",
    "            else:\n",
    "                return f\"{int(horas)} horas {int(minutos)} minutos {int(segundos)} segundos\"\n",
    "    \n",
    "    def wrapper(*args, **kwargs):\n",
    "        start = time.time()\n",
    "        result = func(*args, **kwargs)\n",
    "        end = time.time()\n",
    "        tempo_em_segundos = end - start\n",
    "        tempo_formatado = format_time(tempo_em_segundos)\n",
    "        \n",
    "        # Salvando o nome da função e o tempo de execução em um arquivo CSV\n",
    "        with open('data/tempos_execucao.csv', 'a', newline='') as csvfile:\n",
    "            writer = csv.writer(csvfile)\n",
    "            writer.writerow([func.__name__, tempo_formatado])\n",
    "        \n",
    "        print(f\"{func.__name__} Tempo de processamento: {tempo_formatado}\")   \n",
    "        return result\n",
    "    return wrapper\n"
   ]
  },
  {
   "cell_type": "code",
   "execution_count": 1,
   "id": "b7cc2e71-787d-4389-b0cb-ee625c8bccc9",
   "metadata": {},
   "outputs": [],
   "source": [
    "import time\n",
    "import csv\n",
    "import threading  # Importe o módulo threading aqui\n",
    "\n",
    "def timer_to_csv(func):\n",
    "    def format_time(segundos: int): \n",
    "        \"\"\"\n",
    "        Formata os milisegundos em hora:minuto:segundo\n",
    "        \"\"\"\n",
    "        if segundos < 60:\n",
    "            return f\"{segundos:.3f} segundos\"\n",
    "        elif segundos < 3600:\n",
    "            minutos, segundos = divmod(segundos, 60)\n",
    "            return f\"{int(minutos)} minutos {int(segundos)} segundos\"\n",
    "        else:\n",
    "            horas, remainder = divmod(segundos, 3600)\n",
    "            minutos, segundos = divmod(remainder, 60)\n",
    "            if minutos == 0:\n",
    "                return f\"{int(horas)} horas {int(segundos)} segundos\"\n",
    "            else:\n",
    "                return f\"{int(horas)} horas {int(minutos)} minutos {int(segundos)} segundos\"\n",
    "    \n",
    "    def print_elapsed_time(start_time, finished_flag):\n",
    "        while not finished_flag.is_set():\n",
    "            elapsed_time = time.time() - start_time\n",
    "            print(f\"Tempo decorrido: {format_time(elapsed_time)}\", end=\"\\r\")\n",
    "            time.sleep(1)  # Atualiza a cada segundo\n",
    "\n",
    "    def wrapper(*args, **kwargs):\n",
    "        start_time = time.time()\n",
    "        \n",
    "        # Inicializa um sinalizador booleano para indicar se a função terminou\n",
    "        finished_flag = threading.Event()\n",
    "        \n",
    "        # Iniciar uma thread para imprimir o tempo decorrido em tempo real\n",
    "        thread = threading.Thread(target=print_elapsed_time, args=(start_time, finished_flag))\n",
    "        thread.start()\n",
    "        \n",
    "        result = func(*args, **kwargs)\n",
    "        elapsed_time = time.time() - start_time\n",
    "        print(f\"Tempo total de execução: {format_time(elapsed_time)}\")\n",
    "        \n",
    "        # Sinaliza que a função terminou\n",
    "        finished_flag.set()\n",
    "        \n",
    "        # Salvando o nome da função e o tempo de execução em um arquivo CSV\n",
    "        with open('data/tempos_execucao.csv', 'a', newline='') as csvfile:\n",
    "            writer = csv.writer(csvfile)\n",
    "            writer.writerow([func.__name__, format_time(elapsed_time)])\n",
    "        \n",
    "        return result\n",
    "    \n",
    "    return wrapper\n"
   ]
  },
  {
   "cell_type": "markdown",
   "id": "767b229b-a9ad-40e5-8df7-c006e6c3d590",
   "metadata": {},
   "source": [
    "[voltar](#voltar)"
   ]
  },
  {
   "cell_type": "markdown",
   "id": "91068054-2252-45e8-a9d1-12303e8ce8ee",
   "metadata": {},
   "source": [
    "<a id=\"ancora02\"></a>\n",
    "## Scripts para gerar os dados."
   ]
  },
  {
   "cell_type": "code",
   "execution_count": 7,
   "id": "baca9eda-4225-4d90-b562-7f9a13ede487",
   "metadata": {},
   "outputs": [],
   "source": [
    "#instalando as libs.\n",
    "!poetry add faker tqdm -q"
   ]
  },
  {
   "cell_type": "code",
   "execution_count": 18,
   "id": "7b04b0c9-1cfc-45ea-9044-5d1dde992c64",
   "metadata": {},
   "outputs": [
    {
     "name": "stdin",
     "output_type": "stream",
     "text": [
      "Digite o número de linhas a serem geradas:  1000000\n",
      "Digite o nome do arquivo a ser salvo (sem extensão):  measurementes_faker\n"
     ]
    },
    {
     "name": "stderr",
     "output_type": "stream",
     "text": [
      "100%|███████████████| 1000000/1000000 [02:05<00:00, 7980.50it/s]"
     ]
    },
    {
     "name": "stdout",
     "output_type": "stream",
     "text": [
      "generate_data_faker Tempo de processamento:2 minutos 5 segundos\n",
      "Tamanho real do arquivo: 17.66 Megabytes\n"
     ]
    },
    {
     "name": "stderr",
     "output_type": "stream",
     "text": [
      "\n"
     ]
    }
   ],
   "source": [
    "# Gera dados com faker e random\n",
    "import os\n",
    "import random\n",
    "import faker\n",
    "from tqdm import tqdm\n",
    "\n",
    "# Cria um objeto Faker\n",
    "fake = faker.Faker()\n",
    "@timer\n",
    "def generate_data_faker(num_rows, filename):\n",
    "    \"\"\"\n",
    "    Gera dados de teste e os escreve em um arquivo.\n",
    "\n",
    "    Argumentos:\n",
    "        num_rows: Número de linhas a serem geradas.\n",
    "        filename: Nome do arquivo a ser salvo.\n",
    "\n",
    "    Retorno:\n",
    "        None.\n",
    "    \"\"\"\n",
    "    with open(f\"data/{filename}.txt\", \"w\", encoding=\"utf-8\") as file:\n",
    "        for _ in tqdm(range(num_rows)):\n",
    "            # Gera dados aleatórios\n",
    "            city_name = fake.city()\n",
    "            temperature = round(random.uniform(-89.6, 56.7), 1)\n",
    "\n",
    "            # Escreve a linha no arquivo\n",
    "            file.write(f\"{city_name};{temperature}\\n\")\n",
    "\n",
    "def main():\n",
    "    # Solicita o número de linhas ao usuário\n",
    "    num_rows = int(input(\"Digite o número de linhas a serem geradas: \"))\n",
    "\n",
    "    # Solicita o nome do arquivo ao usuário\n",
    "    filename = input(\"Digite o nome do arquivo a ser salvo (sem extensão): \")\n",
    "\n",
    "    # Gera os dados de teste\n",
    "    generate_data_faker(num_rows, filename)\n",
    "\n",
    "    # Converte o tamanho do arquivo para megabytes\n",
    "    file_size = os.path.getsize(f\"data/{filename}.txt\")\n",
    "    file_size_mb = file_size / (1024 * 1024)\n",
    "\n",
    "    # Exibe o tamanho do arquivo em megabytes\n",
    "    print(f\"Tamanho real do arquivo: {file_size_mb:.2f} Megabytes\")\n",
    "\n",
    "if __name__ == \"__main__\":\n",
    "    main()\n"
   ]
  },
  {
   "cell_type": "markdown",
   "id": "d274703a-146f-472d-a0fa-3fadebf510bd",
   "metadata": {
    "jp-MarkdownHeadingCollapsed": true
   },
   "source": [
    "### Scrip python para gerar dados aleatórios\n",
    "* **O script foi retirado do desafio [The One Billion Row Challenge](https://github.com/gunnarmorling/1brc), originalmente proposto para Java.**\n",
    "* **Algumas alterações foram realizadas, como por exemplo a temp máxima e mínima foram alterados para valores históricos reais.**"
   ]
  },
  {
   "cell_type": "code",
   "execution_count": 1,
   "id": "c1ff1f98-314d-4e04-8e10-28da8764ecf4",
   "metadata": {},
   "outputs": [
    {
     "name": "stdout",
     "output_type": "stream",
     "text": [
      "Estimated max file size is:  14.8 GiB.\n",
      "Building test data...\n",
      "[==================================================] 100%\n",
      "Test data successfully written to data/measurements.txt\n",
      "Actual file size:  14.8 GiB\n",
      "Elapsed time: 15 minutes 12 seconds\n",
      "Test data build complete.\n",
      "CPU times: user 14min 38s, sys: 30.2 s, total: 15min 8s\n",
      "Wall time: 15min 12s\n"
     ]
    }
   ],
   "source": [
    "%%time\n",
    "# Script para gerar 1 bilhão de linhas com dados aleatórios.\n",
    "# Based on https://github.com/gunnarmorling/1brc/blob/main/src/main/java/dev/morling/onebrc/Createtempments.java\n",
    "\n",
    "import os\n",
    "import sys\n",
    "import random\n",
    "import timen\n",
    "\n",
    "\n",
    "def check_args(file_args):\n",
    "    \"\"\"\n",
    "    Sanity checks out input and prints out usage if input is not na positive integer\n",
    "    \"\"\"\n",
    "    try:\n",
    "        if len(file_args) != 2 or int(file_args[1]) <= 0:\n",
    "            raise Exception()\n",
    "    except:\n",
    "        print(\"Usage:  create_tempments.sh <positive integer number of records to create>\")\n",
    "        print(\"        You can use underscore notation for large number of records.\")\n",
    "        print(\"        For example:  1_000_000_000 for one billion\")\n",
    "        exit()\n",
    "\n",
    "\n",
    "def build_weather_city_name_list():\n",
    "    \"\"\"\n",
    "    Grabs the weather city names from example data provided in repo and dedups\n",
    "    \"\"\"\n",
    "    ature': temperatures_gpu})\n",
    "city_names = []\n",
    "    with open('data/weather_citys.csv', 'r') as file:ature': temperatures_gpu})\n",
    "\n",
    "        file_contents = file.read()\n",
    "    for city in file_contents.splitlines():\n",
    "        if \"#\" in city:\n",
    "            next\n",
    "        else:\n",
    "            city_names.append(city.split(';')[0])\n",
    "    return list(set(city_names))\n",
    "\n",
    "\n",
    "def convert_bytes(num):\n",
    "    \"\"\"\n",
    "    Convert bytes to a human-readable format (e.g., KiB, MiB, GiB)\n",
    "    \"\"\"\n",
    "    for x in ['bytes', 'KiB', 'MiB', 'GiB']:\n",
    "        if num < 1024.0:\n",
    "            return \"%3.1f %s\" % (num, x)\n",
    "        num /= 1024.0\n",
    "\n",
    "\n",
    "def format_elapsed_time(seconds):\n",
    "    \"\"\"\n",
    "    Format elapsed time in a human-readable format\n",
    "    \"\"\"\n",
    "    if seconds < 60:\n",
    "        return f\"{seconds:.3f} seconds\"\n",
    "    elif seconds < 3600:\n",
    "        minutes, seconds = divmod(seconds, 60)\n",
    "        return f\"{int(minutes)} minutes {int(seconds)} seconds\"\n",
    "    else:\n",
    "        hours, remainder = divmod(seconds, 3600)\n",
    "        minutes, seconds = divmod(remainder, 60)\n",
    "        if minutes == 0:\n",
    "            return f\"{int(hours)} hours {int(seconds)} seconds\"\n",
    "        else:\n",
    "            return f\"{int(hours)} hours {int(minutes)} minutes {int(seconds)} seconds\"\n",
    "\n",
    "\n",
    "def estimate_file_size(weather_city_names, num_rows_to_create):\n",
    "    \"\"\"\n",
    "    Tries to estimate how large a file the test data will be\n",
    "    \"\"\"\n",
    "    total_name_bytes = sum(len(s.encode(\"utf-8\")) for s in weather_city_names)\n",
    "    avg_name_bytes = total_name_bytes / float(len(weather_city_names))\n",
    "\n",
    "    # avg_temp_bytes = sum(len(str(n / 10.0)) for n in range(-999, 1000)) / 1999\n",
    "    avg_temp_bytes = 4.400200100050025\n",
    "\n",
    "    # add 2 for separator and newline\n",
    "    avg_line_length = avg_name_bytes + avg_temp_bytes + 2\n",
    "\n",
    "    human_file_size = convert_bytes(num_rows_to_create * avg_line_length)\n",
    "\n",
    "    return f\"Estimated max file size is:  {human_file_size}.\"\n",
    "\n",
    "\n",
    "def build_test_data(weather_city_names, num_rows_to_create):\n",
    "    \"\"\"\n",
    "    Generates and writes to file the requested length of test data\n",
    "    \"\"\"\n",
    "    start_time = time.time()\n",
    "    coldest_temp = -89.2\n",
    "    hottest_temp = 56.7\n",
    "    city_names_10k_max = random.choices(weather_city_names, k=10_000)\n",
    "    batch_size = 10000 # instead of writing line by line to file, process a batch of citys and put it to disk\n",
    "    chunks = num_rows_to_create // batch_size\n",
    "    print('Building test data...')\n",
    "\n",
    "    try:\n",
    "        with open(\"data/measurements.txt\", 'w') as file:\n",
    "            progress = 0\n",
    "            for chunk in range(chunks):\n",
    "                \n",
    "                batch = random.choices(city_names_10k_max, k=batch_size)\n",
    "                prepped_deviated_batch = '\\n'.join([f\"{city};{random.uniform(coldest_temp, hottest_temp):.1f}\" for city in batch]) # :.1f should quicker than round on a large scale, because round utilizes mathematical operation\n",
    "                file.write(prepped_deviated_batch + '\\n')ature': temperatures_gpu})\n",
    "\n",
    "                \n",
    "                # Update progress bar every 1%\n",
    "                if (chunk + 1) * 100 // chunks != progress:\n",
    "                    progress = (chunk + 1) * 100 // chunks\n",
    "                    bars = '=' * (progress // 2)\n",
    "                    sys.stdout.write(f\"\\r[{bars:<50}] {progress}%\")\n",
    "                    sys.stdout.flush()\n",
    "        sys.stdout.write('\\n')\n",
    "    except Exception as e:\n",
    "        print(\"Something went wrong. Printing error info and exiting...\")\n",
    "        print(e)\n",
    "        exit()\n",
    "    \n",
    "    end_time = time.time()\n",
    "    elapsed_time = end_time - start_time\n",
    "    file_size = os.path.getsize(\"data/measurements.txt\")\n",
    "    human_file_size = convert_bytes(file_size)\n",
    " \n",
    "    print(\"Test data successfully written to data/measurements.txt\")\n",
    "    print(f\"Actual file size:  {human_file_size}\")\n",
    "    print(f\"Elapsed time: {format_elapsed_time(elapsed_time)}\")\n",
    "\n",
    "\n",
    "def main():\n",
    "    \"\"\"\n",
    "    main program function\n",
    "    \"\"\"\n",
    "    num_rows_to_create = 1_000_000_000\n",
    "    weather_city_names = []\n",
    "    weather_city_names = build_weather_city_name_list()\n",
    "    print(estimate_file_size(weather_city_names, num_rows_to_create))\n",
    "    build_test_data(weather_city_names, num_rows_to_create)\n",
    "    print(\"Test data build complete.\")\n",
    "\n",
    "\n",
    "if __name__ == \"__main__\":\n",
    "    main()\n",
    "exit()"
   ]
  },
  {
   "cell_type": "markdown",
   "id": "d55fada2-9078-4ba4-b50e-f9b1e89faa88",
   "metadata": {},
   "source": [
    "#### Como executar o script:\n",
    "$`cd aula_05/src/` #para acessar a pasta dos scripts. \n",
    "\n",
    "$`python data_generate.py`#para criar os dados na pasta 'data/mesurements.txt'\n",
    "\n"
   ]
  },
  {
   "cell_type": "markdown",
   "id": "cad06450-e001-4bd8-a2a3-0bc2e9547807",
   "metadata": {},
   "source": [
    "* **Agora com os dados de 1 bilhao gerados vamos ver quem se sai melhor para as configuracoes da minha maquina**."
   ]
  },
  {
   "cell_type": "markdown",
   "id": "e4c14b73-eeef-4545-a1aa-11f872ae2d6b",
   "metadata": {},
   "source": [
    "<a id=\"ancora03\"></a>\n",
    "## Pandas - min, max e mean em 1 bilhão de linhas"
   ]
  },
  {
   "cell_type": "code",
   "execution_count": null,
   "id": "81ac2551-f634-411a-bafe-70ceb59bdb8e",
   "metadata": {},
   "outputs": [],
   "source": [
    "# Instalando a lib pandas.\n",
    "!poetry add pandas"
   ]
  },
  {
   "cell_type": "code",
   "execution_count": 25,
   "id": "6c774af1-d889-4efe-935a-f77e3186d8f5",
   "metadata": {},
   "outputs": [
    {
     "name": "stdout",
     "output_type": "stream",
     "text": [
      "The cudf.pandas extension is already loaded. To reload it, use:\n",
      "  %reload_ext cudf.pandas\n",
      "                   city       temp            \n",
      "                              mean   min   max\n",
      "0              A Coruña -16.410608 -89.1  56.7\n",
      "1              A Yun Pa -17.106202 -89.2  56.6\n",
      "2              Aabenraa -16.276402 -89.2  56.7\n",
      "3                Aachen -15.393491 -89.2  56.7\n",
      "4                Aadorf -14.459606 -89.1  56.7\n",
      "...                 ...        ...   ...   ...\n",
      "41338   ’Tlat Bni Oukil -16.413453 -89.1  56.5\n",
      "41339     ’s-Gravendeel -16.324383 -89.1  56.6\n",
      "41340    ’s-Gravenzande -16.110685 -89.2  56.6\n",
      "41341     ’s-Heerenberg -15.893642 -89.2  56.6\n",
      "41342  ’s-Hertogenbosch -16.589073 -89.2  56.6\n",
      "\n",
      "[41343 rows x 4 columns]\n",
      "                   city       temp            \n",
      "                              mean   min   max\n",
      "0              A Coruña -16.410608 -89.1  56.7\n",
      "1              A Yun Pa -17.106202 -89.2  56.6\n",
      "2              Aabenraa -16.276402 -89.2  56.7\n",
      "3                Aachen -15.393491 -89.2  56.7\n",
      "4                Aadorf -14.459606 -89.1  56.7\n",
      "...                 ...        ...   ...   ...\n",
      "41338   ’Tlat Bni Oukil -16.413453 -89.1  56.5\n",
      "41339     ’s-Gravendeel -16.324383 -89.1  56.6\n",
      "41340    ’s-Gravenzande -16.110685 -89.2  56.6\n",
      "41341     ’s-Heerenberg -15.893642 -89.2  56.6\n",
      "41342  ’s-Hertogenbosch -16.589073 -89.2  56.6\n",
      "\n",
      "[41343 rows x 4 columns]\n",
      "                   city       temp            \n",
      "                              mean   min   max\n",
      "0              A Coruña -16.410608 -89.1  56.7\n",
      "1              A Yun Pa -17.106202 -89.2  56.6\n",
      "2              Aabenraa -16.276402 -89.2  56.7\n",
      "3                Aachen -15.393491 -89.2  56.7\n",
      "4                Aadorf -14.459606 -89.1  56.7\n",
      "...                 ...        ...   ...   ...\n",
      "41338   ’Tlat Bni Oukil -16.413453 -89.1  56.5\n",
      "41339     ’s-Gravendeel -16.324383 -89.1  56.6\n",
      "41340    ’s-Gravenzande -16.110685 -89.2  56.6\n",
      "41341     ’s-Heerenberg -15.893642 -89.2  56.6\n",
      "41342  ’s-Hertogenbosch -16.589073 -89.2  56.6\n",
      "\n",
      "[41343 rows x 4 columns]\n",
      "                   city       temp            \n",
      "                              mean   min   max\n",
      "0              A Coruña -16.410608 -89.1  56.7\n",
      "1              A Yun Pa -17.106202 -89.2  56.6\n",
      "2              Aabenraa -16.276402 -89.2  56.7\n",
      "3                Aachen -15.393491 -89.2  56.7\n",
      "4                Aadorf -14.459606 -89.1  56.7\n",
      "...                 ...        ...   ...   ...\n",
      "41338   ’Tlat Bni Oukil -16.413453 -89.1  56.5\n",
      "41339     ’s-Gravendeel -16.324383 -89.1  56.6\n",
      "41340    ’s-Gravenzande -16.110685 -89.2  56.6\n",
      "41341     ’s-Heerenberg -15.893642 -89.2  56.6\n",
      "41342  ’s-Hertogenbosch -16.589073 -89.2  56.6\n",
      "\n",
      "[41343 rows x 4 columns]\n",
      "                   city       temp            \n",
      "                              mean   min   max\n",
      "0              A Coruña -16.410608 -89.1  56.7\n",
      "1              A Yun Pa -17.106202 -89.2  56.6\n",
      "2              Aabenraa -16.276402 -89.2  56.7\n",
      "3                Aachen -15.393491 -89.2  56.7\n",
      "4                Aadorf -14.459606 -89.1  56.7\n",
      "...                 ...        ...   ...   ...\n",
      "41338   ’Tlat Bni Oukil -16.413453 -89.1  56.5\n",
      "41339     ’s-Gravendeel -16.324383 -89.1  56.6\n",
      "41340    ’s-Gravenzande -16.110685 -89.2  56.6\n",
      "41341     ’s-Heerenberg -15.893642 -89.2  56.6\n",
      "41342  ’s-Hertogenbosch -16.589073 -89.2  56.6\n",
      "\n",
      "[41343 rows x 4 columns]\n",
      "                   city       temp            \n",
      "                              mean   min   max\n",
      "0              A Coruña -16.410608 -89.1  56.7\n",
      "1              A Yun Pa -17.106202 -89.2  56.6\n",
      "2              Aabenraa -16.276402 -89.2  56.7\n",
      "3                Aachen -15.393491 -89.2  56.7\n",
      "4                Aadorf -14.459606 -89.1  56.7\n",
      "...                 ...        ...   ...   ...\n",
      "41338   ’Tlat Bni Oukil -16.413453 -89.1  56.5\n",
      "41339     ’s-Gravendeel -16.324383 -89.1  56.6\n",
      "41340    ’s-Gravenzande -16.110685 -89.2  56.6\n",
      "41341     ’s-Heerenberg -15.893642 -89.2  56.6\n",
      "41342  ’s-Hertogenbosch -16.589073 -89.2  56.6\n",
      "\n",
      "[41343 rows x 4 columns]\n",
      "                   city       temp            \n",
      "                              mean   min   max\n",
      "0              A Coruña -16.410608 -89.1  56.7\n",
      "1              A Yun Pa -17.106202 -89.2  56.6\n",
      "2              Aabenraa -16.276402 -89.2  56.7\n",
      "3                Aachen -15.393491 -89.2  56.7\n",
      "4                Aadorf -14.459606 -89.1  56.7\n",
      "...                 ...        ...   ...   ...\n",
      "41338   ’Tlat Bni Oukil -16.413453 -89.1  56.5\n",
      "41339     ’s-Gravendeel -16.324383 -89.1  56.6\n",
      "41340    ’s-Gravenzande -16.110685 -89.2  56.6\n",
      "41341     ’s-Heerenberg -15.893642 -89.2  56.6\n",
      "41342  ’s-Hertogenbosch -16.589073 -89.2  56.6\n",
      "\n",
      "[41343 rows x 4 columns]\n",
      "                   city       temp            \n",
      "                              mean   min   max\n",
      "0              A Coruña -16.410608 -89.1  56.7\n",
      "1              A Yun Pa -17.106202 -89.2  56.6\n",
      "2              Aabenraa -16.276402 -89.2  56.7\n",
      "3                Aachen -15.393491 -89.2  56.7\n",
      "4                Aadorf -14.459606 -89.1  56.7\n",
      "...                 ...        ...   ...   ...\n",
      "41338   ’Tlat Bni Oukil -16.413453 -89.1  56.5\n",
      "41339     ’s-Gravendeel -16.324383 -89.1  56.6\n",
      "41340    ’s-Gravenzande -16.110685 -89.2  56.6\n",
      "41341     ’s-Heerenberg -15.893642 -89.2  56.6\n",
      "41342  ’s-Hertogenbosch -16.589073 -89.2  56.6\n",
      "\n",
      "[41343 rows x 4 columns]\n",
      "                   city       temp            \n",
      "                              mean   min   max\n",
      "0              A Coruña -16.410608 -89.1  56.7\n",
      "1              A Yun Pa -17.106202 -89.2  56.6\n",
      "2              Aabenraa -16.276402 -89.2  56.7\n",
      "3                Aachen -15.393491 -89.2  56.7\n",
      "4                Aadorf -14.459606 -89.1  56.7\n",
      "...                 ...        ...   ...   ...\n",
      "41338   ’Tlat Bni Oukil -16.413453 -89.1  56.5\n",
      "41339     ’s-Gravendeel -16.324383 -89.1  56.6\n",
      "41340    ’s-Gravenzande -16.110685 -89.2  56.6\n",
      "41341     ’s-Heerenberg -15.893642 -89.2  56.6\n",
      "41342  ’s-Hertogenbosch -16.589073 -89.2  56.6\n",
      "\n",
      "[41343 rows x 4 columns]\n",
      "                   city       temp            \n",
      "                              mean   min   max\n",
      "0              A Coruña -16.410608 -89.1  56.7\n",
      "1              A Yun Pa -17.106202 -89.2  56.6\n",
      "2              Aabenraa -16.276402 -89.2  56.7\n",
      "3                Aachen -15.393491 -89.2  56.7\n",
      "4                Aadorf -14.459606 -89.1  56.7\n",
      "...                 ...        ...   ...   ...\n",
      "41338   ’Tlat Bni Oukil -16.413453 -89.1  56.5\n",
      "41339     ’s-Gravendeel -16.324383 -89.1  56.6\n",
      "41340    ’s-Gravenzande -16.110685 -89.2  56.6\n",
      "41341     ’s-Heerenberg -15.893642 -89.2  56.6\n",
      "41342  ’s-Hertogenbosch -16.589073 -89.2  56.6\n",
      "\n",
      "[41343 rows x 4 columns]\n",
      "CPU times: user 13.4 s, sys: 1.64 s, total: 15 s\n",
      "Wall time: 20.6 s\n"
     ]
    }
   ],
   "source": [
    "%%time\n",
    "%load_ext cudf.pandas\n",
    "import pandas as pd\n",
    "def teste():\n",
    "    df = pd.read_csv('data/teste.txt', sep=';', header=None, names=['city', 'temp'])\n",
    "    grouped_stats = df.groupby('city').agg({'temp': ['mean', 'min', 'max']}).reset_index()\n",
    "        # Concatenar os resultados ao DataFrame principal\n",
    "    # results_df = pd.concat([results_df, grouped_stats], ignore_index=True)\n",
    "    return grouped_stats\n",
    "for i in range(10):\n",
    "   print(teste())\n",
    "    \n",
    "    "
   ]
  },
  {
   "cell_type": "code",
   "execution_count": 50,
   "id": "0ee3254f-68b2-4fd5-a893-f2906e2fb402",
   "metadata": {},
   "outputs": [
    {
     "name": "stdout",
     "output_type": "stream",
     "text": [
      "The cudf.pandas extension is already loaded. To reload it, use:\n",
      "  %reload_ext cudf.pandas\n",
      "CPU times: user 56 s, sys: 10.2 s, total: 1min 6s\n",
      "Wall time: 1min 6s\n"
     ]
    },
    {
     "data": {
      "text/html": [
       "<div>\n",
       "<style scoped>\n",
       "    .dataframe tbody tr th:only-of-type {\n",
       "        vertical-align: middle;\n",
       "    }\n",
       "\n",
       "    .dataframe tbody tr th {\n",
       "        vertical-align: top;\n",
       "    }\n",
       "\n",
       "    .dataframe thead th {\n",
       "        text-align: right;\n",
       "    }\n",
       "</style>\n",
       "<table border=\"1\" class=\"dataframe\">\n",
       "  <thead>\n",
       "    <tr style=\"text-align: right;\">\n",
       "      <th></th>\n",
       "      <th>mean</th>\n",
       "      <th>min</th>\n",
       "      <th>max</th>\n",
       "    </tr>\n",
       "    <tr>\n",
       "      <th>city</th>\n",
       "      <th></th>\n",
       "      <th></th>\n",
       "      <th></th>\n",
       "    </tr>\n",
       "  </thead>\n",
       "  <tbody>\n",
       "    <tr>\n",
       "      <th>A Coruña</th>\n",
       "      <td>-16.353748</td>\n",
       "      <td>-89.1</td>\n",
       "      <td>56.7</td>\n",
       "    </tr>\n",
       "    <tr>\n",
       "      <th>A Yun Pa</th>\n",
       "      <td>-17.098852</td>\n",
       "      <td>-89.2</td>\n",
       "      <td>56.6</td>\n",
       "    </tr>\n",
       "    <tr>\n",
       "      <th>Aabenraa</th>\n",
       "      <td>-16.344334</td>\n",
       "      <td>-89.2</td>\n",
       "      <td>56.7</td>\n",
       "    </tr>\n",
       "    <tr>\n",
       "      <th>Aachen</th>\n",
       "      <td>-15.359893</td>\n",
       "      <td>-89.2</td>\n",
       "      <td>56.7</td>\n",
       "    </tr>\n",
       "    <tr>\n",
       "      <th>Aadorf</th>\n",
       "      <td>-14.452145</td>\n",
       "      <td>-89.1</td>\n",
       "      <td>56.7</td>\n",
       "    </tr>\n",
       "    <tr>\n",
       "      <th>...</th>\n",
       "      <td>...</td>\n",
       "      <td>...</td>\n",
       "      <td>...</td>\n",
       "    </tr>\n",
       "    <tr>\n",
       "      <th>’Tlat Bni Oukil</th>\n",
       "      <td>-16.426877</td>\n",
       "      <td>-89.1</td>\n",
       "      <td>56.5</td>\n",
       "    </tr>\n",
       "    <tr>\n",
       "      <th>’s-Gravendeel</th>\n",
       "      <td>-16.313714</td>\n",
       "      <td>-89.1</td>\n",
       "      <td>56.6</td>\n",
       "    </tr>\n",
       "    <tr>\n",
       "      <th>’s-Gravenzande</th>\n",
       "      <td>-16.109813</td>\n",
       "      <td>-89.2</td>\n",
       "      <td>56.6</td>\n",
       "    </tr>\n",
       "    <tr>\n",
       "      <th>’s-Heerenberg</th>\n",
       "      <td>-15.917343</td>\n",
       "      <td>-89.2</td>\n",
       "      <td>56.6</td>\n",
       "    </tr>\n",
       "    <tr>\n",
       "      <th>’s-Hertogenbosch</th>\n",
       "      <td>-16.604393</td>\n",
       "      <td>-89.2</td>\n",
       "      <td>56.6</td>\n",
       "    </tr>\n",
       "  </tbody>\n",
       "</table>\n",
       "<p>41343 rows × 3 columns</p>\n",
       "</div>"
      ],
      "text/plain": [
       "                       mean   min   max\n",
       "city                                   \n",
       "A Coruña         -16.353748 -89.1  56.7\n",
       "A Yun Pa         -17.098852 -89.2  56.6\n",
       "Aabenraa         -16.344334 -89.2  56.7\n",
       "Aachen           -15.359893 -89.2  56.7\n",
       "Aadorf           -14.452145 -89.1  56.7\n",
       "...                     ...   ...   ...\n",
       "’Tlat Bni Oukil  -16.426877 -89.1  56.5\n",
       "’s-Gravendeel    -16.313714 -89.1  56.6\n",
       "’s-Gravenzande   -16.109813 -89.2  56.6\n",
       "’s-Heerenberg    -15.917343 -89.2  56.6\n",
       "’s-Hertogenbosch -16.604393 -89.2  56.6\n",
       "\n",
       "[41343 rows x 3 columns]"
      ]
     },
     "execution_count": 50,
     "metadata": {},
     "output_type": "execute_result"
    }
   ],
   "source": [
    "%%time\n",
    "%load_ext cudf.pandas\n",
    "import pandas as pd\n",
    "\n",
    "# Caminho para o arquivo CSV grande\n",
    "file_path = 'data/teste.txt'\n",
    "\n",
    "# Defina o tamanho do chunk (por exemplo, 10000 linhas por chunk)\n",
    "chunk_size = 50_000_000\n",
    "\n",
    "# Crie um objeto iterador para ler o arquivo CSV em chunks\n",
    "csv_iter = pd.read_csv(file_path,sep=';',header=None,\n",
    "                       names=['city','temp'], \n",
    "                       iterator=True, chunksize=chunk_size)\n",
    "\n",
    "# Inicialize um DataFrame vazio para armazenar os resultados\n",
    "result_df = pd.DataFrame()\n",
    "\n",
    "# Loop sobre os chunks e processar cada um\n",
    "for chunk in csv_iter:\n",
    "    grouped_stats = chunk.groupby('city').agg({'temp': ['mean', 'min', 'max']}).reset_index()\n",
    "    result_df = pd.concat([result_df, grouped_stats], ignore_index=True)\n",
    "# Removendo o level city    \n",
    "result_df = result_df.droplevel(0,axis=1)\n",
    "# Renomeando o level 0 para city\n",
    "result_df.rename(columns={'':'city'}, inplace=True)\n",
    "# Fazendo o groupby geral.\n",
    "result_df.groupby('city').agg({'mean':'mean','min':'min', 'max':'max'})\n",
    "\n",
    "# Agora, result_df contém o arquivo CSV completo\n",
    "#print(\"Número total de linhas processadas:\", len(result_df))\n"
   ]
  },
  {
   "cell_type": "code",
   "execution_count": 49,
   "id": "71cbbfb3-22b7-440a-8853-6d2b87e6393e",
   "metadata": {
    "scrolled": true
   },
   "outputs": [
    {
     "name": "stdout",
     "output_type": "stream",
     "text": [
      "The cudf.pandas extension is already loaded. To reload it, use:\n",
      "  %reload_ext cudf.pandas\n",
      "CPU times: user 671 ms, sys: 22.2 ms, total: 693 ms\n",
      "Wall time: 715 ms\n"
     ]
    },
    {
     "data": {
      "text/html": [
       "<div>\n",
       "<style scoped>\n",
       "    .dataframe tbody tr th:only-of-type {\n",
       "        vertical-align: middle;\n",
       "    }\n",
       "\n",
       "    .dataframe tbody tr th {\n",
       "        vertical-align: top;\n",
       "    }\n",
       "\n",
       "    .dataframe thead th {\n",
       "        text-align: right;\n",
       "    }\n",
       "</style>\n",
       "<table border=\"1\" class=\"dataframe\">\n",
       "  <thead>\n",
       "    <tr style=\"text-align: right;\">\n",
       "      <th></th>\n",
       "      <th>mean</th>\n",
       "      <th>min</th>\n",
       "      <th>max</th>\n",
       "    </tr>\n",
       "    <tr>\n",
       "      <th>city</th>\n",
       "      <th></th>\n",
       "      <th></th>\n",
       "      <th></th>\n",
       "    </tr>\n",
       "  </thead>\n",
       "  <tbody>\n",
       "    <tr>\n",
       "      <th>A Coruña</th>\n",
       "      <td>-6.926495</td>\n",
       "      <td>-80.3</td>\n",
       "      <td>56.0</td>\n",
       "    </tr>\n",
       "    <tr>\n",
       "      <th>Aadorf</th>\n",
       "      <td>-15.665991</td>\n",
       "      <td>-88.4</td>\n",
       "      <td>56.0</td>\n",
       "    </tr>\n",
       "    <tr>\n",
       "      <th>Aalen</th>\n",
       "      <td>-10.661542</td>\n",
       "      <td>-89.2</td>\n",
       "      <td>56.4</td>\n",
       "    </tr>\n",
       "    <tr>\n",
       "      <th>Aalsmeer</th>\n",
       "      <td>-16.954142</td>\n",
       "      <td>-89.1</td>\n",
       "      <td>55.9</td>\n",
       "    </tr>\n",
       "    <tr>\n",
       "      <th>Aarschot</th>\n",
       "      <td>-24.261075</td>\n",
       "      <td>-86.8</td>\n",
       "      <td>56.4</td>\n",
       "    </tr>\n",
       "    <tr>\n",
       "      <th>...</th>\n",
       "      <td>...</td>\n",
       "      <td>...</td>\n",
       "      <td>...</td>\n",
       "    </tr>\n",
       "    <tr>\n",
       "      <th>‘Āmūdā</th>\n",
       "      <td>-19.513245</td>\n",
       "      <td>-88.5</td>\n",
       "      <td>53.2</td>\n",
       "    </tr>\n",
       "    <tr>\n",
       "      <th>’Ali Ben Sliman</th>\n",
       "      <td>-21.088462</td>\n",
       "      <td>-84.9</td>\n",
       "      <td>55.7</td>\n",
       "    </tr>\n",
       "    <tr>\n",
       "      <th>’Aïn Arnat</th>\n",
       "      <td>-18.877543</td>\n",
       "      <td>-88.5</td>\n",
       "      <td>54.8</td>\n",
       "    </tr>\n",
       "    <tr>\n",
       "      <th>’Aïn el Hammam</th>\n",
       "      <td>-14.240741</td>\n",
       "      <td>-89.0</td>\n",
       "      <td>55.7</td>\n",
       "    </tr>\n",
       "    <tr>\n",
       "      <th>’s-Hertogenbosch</th>\n",
       "      <td>-15.245833</td>\n",
       "      <td>-87.8</td>\n",
       "      <td>56.3</td>\n",
       "    </tr>\n",
       "  </tbody>\n",
       "</table>\n",
       "<p>8853 rows × 3 columns</p>\n",
       "</div>"
      ],
      "text/plain": [
       "                       mean   min   max\n",
       "city                                   \n",
       "A Coruña          -6.926495 -80.3  56.0\n",
       "Aadorf           -15.665991 -88.4  56.0\n",
       "Aalen            -10.661542 -89.2  56.4\n",
       "Aalsmeer         -16.954142 -89.1  55.9\n",
       "Aarschot         -24.261075 -86.8  56.4\n",
       "...                     ...   ...   ...\n",
       "‘Āmūdā           -19.513245 -88.5  53.2\n",
       "’Ali Ben Sliman  -21.088462 -84.9  55.7\n",
       "’Aïn Arnat       -18.877543 -88.5  54.8\n",
       "’Aïn el Hammam   -14.240741 -89.0  55.7\n",
       "’s-Hertogenbosch -15.245833 -87.8  56.3\n",
       "\n",
       "[8853 rows x 3 columns]"
      ]
     },
     "execution_count": 49,
     "metadata": {},
     "output_type": "execute_result"
    }
   ],
   "source": [
    "%%time\n",
    "%load_ext cudf.pandas\n",
    "import pandas as pd\n",
    "csv_iter = pd.read_csv('data/measurements1.txt',sep=';',header=None, names=['city','temp'], iterator=True, chunksize=500000)\n",
    "# Inicialize um DataFrame vazio para armazenar os resultados\n",
    "result_df = pd.DataFrame()\n",
    "\n",
    "# Loop sobre os chunks e processar cada um\n",
    "for chunk in csv_iter:\n",
    "    grouped_stats = chunk.groupby('city').agg({'temp': ['mean', 'min', 'max']}).reset_index()    \n",
    "    result_df = pd.concat([result_df, grouped_stats], ignore_index=True)\n",
    "# Removendo o level city    \n",
    "result_df = result_df.droplevel(0,axis=1)\n",
    "# Renomeando o level 0 para city\n",
    "result_df.rename(columns={'':'city'}, inplace=True)\n",
    "# Fazendo o groupby geral.\n",
    "result_df.groupby('city').agg({'mean':'mean','min':'min', 'max':'max'})"
   ]
  },
  {
   "cell_type": "code",
   "execution_count": null,
   "id": "c80ad272-046f-483a-90b3-a2b170bc1428",
   "metadata": {},
   "outputs": [],
   "source": []
  },
  {
   "cell_type": "code",
   "execution_count": null,
   "id": "2ef4ec06-7331-4e06-aca5-956540416b97",
   "metadata": {},
   "outputs": [],
   "source": [
    "%%time\n",
    "%load_ext cudf.pandas\n",
    "import pandas as pd\n",
    "csv_iter = pd.read_csv('data/measurements1.txt',sep=';',header=None, names=['city','temp'], iterator=True, chunksize=500000)\n",
    "# Inicialize um DataFrame vazio para armazenar os resultados\n",
    "result_df = pd.DataFrame()\n",
    "\n",
    "# Loop sobre os chunks e processar cada um\n",
    "for chunk in csv_iter:\n",
    "    grouped_stats = chunk.groupby('city').agg({'temp': ['mean', 'min', 'max']}).reset_index()    \n",
    "    result_df = pd.concat([result_df, grouped_stats], ignore_index=True)\n",
    "# Removendo o level city    \n",
    "result_df = result_df.droplevel(0,axis=1)\n",
    "# Renomeando o level 0 para city\n",
    "result_df.rename(columns={'':'city'}, inplace=True)\n",
    "# Fazendo o groupby geral.\n",
    "result_df.groupby('city').agg({'mean':'mean','min':'min', 'max':'max'})"
   ]
  },
  {
   "cell_type": "code",
   "execution_count": null,
   "id": "fb16f61a-d843-47b4-91d4-6250308fc4eb",
   "metadata": {},
   "outputs": [],
   "source": []
  },
  {
   "cell_type": "code",
   "execution_count": null,
   "id": "52521fa3-256d-4c0f-a6ed-2e484bd1765d",
   "metadata": {},
   "outputs": [],
   "source": []
  },
  {
   "cell_type": "code",
   "execution_count": 32,
   "id": "47c63286-1644-4ff8-89df-09bb9bdbc1e4",
   "metadata": {},
   "outputs": [
    {
     "data": {
      "text/plain": [
       "[Index(['city', 'temp'], dtype='object'),\n",
       " Index(['', 'max', 'mean', 'min'], dtype='object')]"
      ]
     },
     "execution_count": 32,
     "metadata": {},
     "output_type": "execute_result"
    }
   ],
   "source": [
    "result_df.columns.levels"
   ]
  },
  {
   "cell_type": "code",
   "execution_count": 36,
   "id": "ff0f6e29-d97f-48e4-9956-3e0a1c3d0943",
   "metadata": {},
   "outputs": [],
   "source": [
    "df2 = result_df.droplevel(0,axis=1)"
   ]
  },
  {
   "cell_type": "code",
   "execution_count": 38,
   "id": "0efa6506-17af-4f5f-a965-c57ae9d87c38",
   "metadata": {},
   "outputs": [
    {
     "data": {
      "text/plain": [
       "Index(['', 'mean', 'min', 'max'], dtype='object')"
      ]
     },
     "execution_count": 38,
     "metadata": {},
     "output_type": "execute_result"
    }
   ],
   "source": [
    "df2.columns"
   ]
  },
  {
   "cell_type": "code",
   "execution_count": 44,
   "id": "4b7cf8e5-83ec-4a46-9bac-862156351b22",
   "metadata": {},
   "outputs": [],
   "source": [
    "df2.rename(columns={'':'city'}, inplace=True)"
   ]
  },
  {
   "cell_type": "code",
   "execution_count": 46,
   "id": "f3913f6d-ede9-43db-94b7-c7cf880459dd",
   "metadata": {},
   "outputs": [
    {
     "data": {
      "text/html": [
       "<div>\n",
       "<style scoped>\n",
       "    .dataframe tbody tr th:only-of-type {\n",
       "        vertical-align: middle;\n",
       "    }\n",
       "\n",
       "    .dataframe tbody tr th {\n",
       "        vertical-align: top;\n",
       "    }\n",
       "\n",
       "    .dataframe thead th {\n",
       "        text-align: right;\n",
       "    }\n",
       "</style>\n",
       "<table border=\"1\" class=\"dataframe\">\n",
       "  <thead>\n",
       "    <tr style=\"text-align: right;\">\n",
       "      <th></th>\n",
       "      <th>mean</th>\n",
       "      <th>min</th>\n",
       "      <th>max</th>\n",
       "    </tr>\n",
       "    <tr>\n",
       "      <th>city</th>\n",
       "      <th></th>\n",
       "      <th></th>\n",
       "      <th></th>\n",
       "    </tr>\n",
       "  </thead>\n",
       "  <tbody>\n",
       "    <tr>\n",
       "      <th>A Coruña</th>\n",
       "      <td>-6.926495</td>\n",
       "      <td>-80.3</td>\n",
       "      <td>56.0</td>\n",
       "    </tr>\n",
       "    <tr>\n",
       "      <th>Aadorf</th>\n",
       "      <td>-15.665991</td>\n",
       "      <td>-88.4</td>\n",
       "      <td>56.0</td>\n",
       "    </tr>\n",
       "    <tr>\n",
       "      <th>Aalen</th>\n",
       "      <td>-10.661542</td>\n",
       "      <td>-89.2</td>\n",
       "      <td>56.4</td>\n",
       "    </tr>\n",
       "    <tr>\n",
       "      <th>Aalsmeer</th>\n",
       "      <td>-16.954142</td>\n",
       "      <td>-89.1</td>\n",
       "      <td>55.9</td>\n",
       "    </tr>\n",
       "    <tr>\n",
       "      <th>Aarschot</th>\n",
       "      <td>-24.261075</td>\n",
       "      <td>-86.8</td>\n",
       "      <td>56.4</td>\n",
       "    </tr>\n",
       "    <tr>\n",
       "      <th>...</th>\n",
       "      <td>...</td>\n",
       "      <td>...</td>\n",
       "      <td>...</td>\n",
       "    </tr>\n",
       "    <tr>\n",
       "      <th>‘Āmūdā</th>\n",
       "      <td>-19.513245</td>\n",
       "      <td>-88.5</td>\n",
       "      <td>53.2</td>\n",
       "    </tr>\n",
       "    <tr>\n",
       "      <th>’Ali Ben Sliman</th>\n",
       "      <td>-21.088462</td>\n",
       "      <td>-84.9</td>\n",
       "      <td>55.7</td>\n",
       "    </tr>\n",
       "    <tr>\n",
       "      <th>’Aïn Arnat</th>\n",
       "      <td>-18.877543</td>\n",
       "      <td>-88.5</td>\n",
       "      <td>54.8</td>\n",
       "    </tr>\n",
       "    <tr>\n",
       "      <th>’Aïn el Hammam</th>\n",
       "      <td>-14.240741</td>\n",
       "      <td>-89.0</td>\n",
       "      <td>55.7</td>\n",
       "    </tr>\n",
       "    <tr>\n",
       "      <th>’s-Hertogenbosch</th>\n",
       "      <td>-15.245833</td>\n",
       "      <td>-87.8</td>\n",
       "      <td>56.3</td>\n",
       "    </tr>\n",
       "  </tbody>\n",
       "</table>\n",
       "<p>8853 rows × 3 columns</p>\n",
       "</div>"
      ],
      "text/plain": [
       "                       mean   min   max\n",
       "city                                   \n",
       "A Coruña          -6.926495 -80.3  56.0\n",
       "Aadorf           -15.665991 -88.4  56.0\n",
       "Aalen            -10.661542 -89.2  56.4\n",
       "Aalsmeer         -16.954142 -89.1  55.9\n",
       "Aarschot         -24.261075 -86.8  56.4\n",
       "...                     ...   ...   ...\n",
       "‘Āmūdā           -19.513245 -88.5  53.2\n",
       "’Ali Ben Sliman  -21.088462 -84.9  55.7\n",
       "’Aïn Arnat       -18.877543 -88.5  54.8\n",
       "’Aïn el Hammam   -14.240741 -89.0  55.7\n",
       "’s-Hertogenbosch -15.245833 -87.8  56.3\n",
       "\n",
       "[8853 rows x 3 columns]"
      ]
     },
     "execution_count": 46,
     "metadata": {},
     "output_type": "execute_result"
    }
   ],
   "source": [
    "df2.groupby('city').agg({'mean':'mean','min':'min', 'max':'max'})"
   ]
  },
  {
   "cell_type": "code",
   "execution_count": null,
   "id": "e5e840ff-f609-49cc-91ee-9e5869cf6e1f",
   "metadata": {},
   "outputs": [],
   "source": []
  },
  {
   "cell_type": "code",
   "execution_count": 155,
   "id": "23c8542a-6ad3-422a-8bf8-14dd3516423d",
   "metadata": {},
   "outputs": [
    {
     "data": {
      "text/html": [
       "<div>\n",
       "<style scoped>\n",
       "    .dataframe tbody tr th:only-of-type {\n",
       "        vertical-align: middle;\n",
       "    }\n",
       "\n",
       "    .dataframe tbody tr th {\n",
       "        vertical-align: top;\n",
       "    }\n",
       "\n",
       "    .dataframe thead tr th {\n",
       "        text-align: left;\n",
       "    }\n",
       "\n",
       "    .dataframe thead tr:last-of-type th {\n",
       "        text-align: right;\n",
       "    }\n",
       "</style>\n",
       "<table border=\"1\" class=\"dataframe\">\n",
       "  <thead>\n",
       "    <tr>\n",
       "      <th></th>\n",
       "      <th colspan=\"8\" halign=\"left\">(temp, min)</th>\n",
       "      <th colspan=\"5\" halign=\"left\">(temp, max)</th>\n",
       "      <th colspan=\"8\" halign=\"left\">(temp, mean)</th>\n",
       "    </tr>\n",
       "    <tr>\n",
       "      <th></th>\n",
       "      <th>count</th>\n",
       "      <th>mean</th>\n",
       "      <th>std</th>\n",
       "      <th>min</th>\n",
       "      <th>25%</th>\n",
       "      <th>50%</th>\n",
       "      <th>75%</th>\n",
       "      <th>max</th>\n",
       "      <th>count</th>\n",
       "      <th>mean</th>\n",
       "      <th>...</th>\n",
       "      <th>75%</th>\n",
       "      <th>max</th>\n",
       "      <th>count</th>\n",
       "      <th>mean</th>\n",
       "      <th>std</th>\n",
       "      <th>min</th>\n",
       "      <th>25%</th>\n",
       "      <th>50%</th>\n",
       "      <th>75%</th>\n",
       "      <th>max</th>\n",
       "    </tr>\n",
       "    <tr>\n",
       "      <th>city</th>\n",
       "      <th></th>\n",
       "      <th></th>\n",
       "      <th></th>\n",
       "      <th></th>\n",
       "      <th></th>\n",
       "      <th></th>\n",
       "      <th></th>\n",
       "      <th></th>\n",
       "      <th></th>\n",
       "      <th></th>\n",
       "      <th></th>\n",
       "      <th></th>\n",
       "      <th></th>\n",
       "      <th></th>\n",
       "      <th></th>\n",
       "      <th></th>\n",
       "      <th></th>\n",
       "      <th></th>\n",
       "      <th></th>\n",
       "      <th></th>\n",
       "      <th></th>\n",
       "    </tr>\n",
       "  </thead>\n",
       "  <tbody>\n",
       "    <tr>\n",
       "      <th>A Coruña</th>\n",
       "      <td>1</td>\n",
       "      <td>-80.3</td>\n",
       "      <td>NaN</td>\n",
       "      <td>-80.3</td>\n",
       "      <td>-80.3</td>\n",
       "      <td>-80.3</td>\n",
       "      <td>-80.3</td>\n",
       "      <td>-80.3</td>\n",
       "      <td>1</td>\n",
       "      <td>56.0</td>\n",
       "      <td>...</td>\n",
       "      <td>56.0</td>\n",
       "      <td>56.0</td>\n",
       "      <td>1</td>\n",
       "      <td>-6.882353</td>\n",
       "      <td>NaN</td>\n",
       "      <td>-6.882353</td>\n",
       "      <td>-6.882353</td>\n",
       "      <td>-6.882353</td>\n",
       "      <td>-6.882353</td>\n",
       "      <td>-6.882353</td>\n",
       "    </tr>\n",
       "    <tr>\n",
       "      <th>Aadorf</th>\n",
       "      <td>1</td>\n",
       "      <td>-88.4</td>\n",
       "      <td>NaN</td>\n",
       "      <td>-88.4</td>\n",
       "      <td>-88.4</td>\n",
       "      <td>-88.4</td>\n",
       "      <td>-88.4</td>\n",
       "      <td>-88.4</td>\n",
       "      <td>1</td>\n",
       "      <td>56.0</td>\n",
       "      <td>...</td>\n",
       "      <td>56.0</td>\n",
       "      <td>56.0</td>\n",
       "      <td>1</td>\n",
       "      <td>-15.791743</td>\n",
       "      <td>NaN</td>\n",
       "      <td>-15.791743</td>\n",
       "      <td>-15.791743</td>\n",
       "      <td>-15.791743</td>\n",
       "      <td>-15.791743</td>\n",
       "      <td>-15.791743</td>\n",
       "    </tr>\n",
       "    <tr>\n",
       "      <th>Aalen</th>\n",
       "      <td>1</td>\n",
       "      <td>-89.2</td>\n",
       "      <td>NaN</td>\n",
       "      <td>-89.2</td>\n",
       "      <td>-89.2</td>\n",
       "      <td>-89.2</td>\n",
       "      <td>-89.2</td>\n",
       "      <td>-89.2</td>\n",
       "      <td>1</td>\n",
       "      <td>56.4</td>\n",
       "      <td>...</td>\n",
       "      <td>56.4</td>\n",
       "      <td>56.4</td>\n",
       "      <td>1</td>\n",
       "      <td>-11.404505</td>\n",
       "      <td>NaN</td>\n",
       "      <td>-11.404505</td>\n",
       "      <td>-11.404505</td>\n",
       "      <td>-11.404505</td>\n",
       "      <td>-11.404505</td>\n",
       "      <td>-11.404505</td>\n",
       "    </tr>\n",
       "    <tr>\n",
       "      <th>Aalsmeer</th>\n",
       "      <td>1</td>\n",
       "      <td>-89.1</td>\n",
       "      <td>NaN</td>\n",
       "      <td>-89.1</td>\n",
       "      <td>-89.1</td>\n",
       "      <td>-89.1</td>\n",
       "      <td>-89.1</td>\n",
       "      <td>-89.1</td>\n",
       "      <td>1</td>\n",
       "      <td>55.9</td>\n",
       "      <td>...</td>\n",
       "      <td>55.9</td>\n",
       "      <td>55.9</td>\n",
       "      <td>1</td>\n",
       "      <td>-16.932967</td>\n",
       "      <td>NaN</td>\n",
       "      <td>-16.932967</td>\n",
       "      <td>-16.932967</td>\n",
       "      <td>-16.932967</td>\n",
       "      <td>-16.932967</td>\n",
       "      <td>-16.932967</td>\n",
       "    </tr>\n",
       "    <tr>\n",
       "      <th>Aarschot</th>\n",
       "      <td>1</td>\n",
       "      <td>-86.8</td>\n",
       "      <td>NaN</td>\n",
       "      <td>-86.8</td>\n",
       "      <td>-86.8</td>\n",
       "      <td>-86.8</td>\n",
       "      <td>-86.8</td>\n",
       "      <td>-86.8</td>\n",
       "      <td>1</td>\n",
       "      <td>56.4</td>\n",
       "      <td>...</td>\n",
       "      <td>56.4</td>\n",
       "      <td>56.4</td>\n",
       "      <td>1</td>\n",
       "      <td>-24.309524</td>\n",
       "      <td>NaN</td>\n",
       "      <td>-24.309524</td>\n",
       "      <td>-24.309524</td>\n",
       "      <td>-24.309524</td>\n",
       "      <td>-24.309524</td>\n",
       "      <td>-24.309524</td>\n",
       "    </tr>\n",
       "    <tr>\n",
       "      <th>...</th>\n",
       "      <td>...</td>\n",
       "      <td>...</td>\n",
       "      <td>...</td>\n",
       "      <td>...</td>\n",
       "      <td>...</td>\n",
       "      <td>...</td>\n",
       "      <td>...</td>\n",
       "      <td>...</td>\n",
       "      <td>...</td>\n",
       "      <td>...</td>\n",
       "      <td>...</td>\n",
       "      <td>...</td>\n",
       "      <td>...</td>\n",
       "      <td>...</td>\n",
       "      <td>...</td>\n",
       "      <td>...</td>\n",
       "      <td>...</td>\n",
       "      <td>...</td>\n",
       "      <td>...</td>\n",
       "      <td>...</td>\n",
       "      <td>...</td>\n",
       "    </tr>\n",
       "    <tr>\n",
       "      <th>‘Āmūdā</th>\n",
       "      <td>1</td>\n",
       "      <td>-88.5</td>\n",
       "      <td>NaN</td>\n",
       "      <td>-88.5</td>\n",
       "      <td>-88.5</td>\n",
       "      <td>-88.5</td>\n",
       "      <td>-88.5</td>\n",
       "      <td>-88.5</td>\n",
       "      <td>1</td>\n",
       "      <td>53.2</td>\n",
       "      <td>...</td>\n",
       "      <td>53.2</td>\n",
       "      <td>53.2</td>\n",
       "      <td>1</td>\n",
       "      <td>-19.755882</td>\n",
       "      <td>NaN</td>\n",
       "      <td>-19.755882</td>\n",
       "      <td>-19.755882</td>\n",
       "      <td>-19.755882</td>\n",
       "      <td>-19.755882</td>\n",
       "      <td>-19.755882</td>\n",
       "    </tr>\n",
       "    <tr>\n",
       "      <th>’Ali Ben Sliman</th>\n",
       "      <td>1</td>\n",
       "      <td>-84.9</td>\n",
       "      <td>NaN</td>\n",
       "      <td>-84.9</td>\n",
       "      <td>-84.9</td>\n",
       "      <td>-84.9</td>\n",
       "      <td>-84.9</td>\n",
       "      <td>-84.9</td>\n",
       "      <td>1</td>\n",
       "      <td>55.7</td>\n",
       "      <td>...</td>\n",
       "      <td>55.7</td>\n",
       "      <td>55.7</td>\n",
       "      <td>1</td>\n",
       "      <td>-21.102083</td>\n",
       "      <td>NaN</td>\n",
       "      <td>-21.102083</td>\n",
       "      <td>-21.102083</td>\n",
       "      <td>-21.102083</td>\n",
       "      <td>-21.102083</td>\n",
       "      <td>-21.102083</td>\n",
       "    </tr>\n",
       "    <tr>\n",
       "      <th>’Aïn Arnat</th>\n",
       "      <td>1</td>\n",
       "      <td>-88.5</td>\n",
       "      <td>NaN</td>\n",
       "      <td>-88.5</td>\n",
       "      <td>-88.5</td>\n",
       "      <td>-88.5</td>\n",
       "      <td>-88.5</td>\n",
       "      <td>-88.5</td>\n",
       "      <td>1</td>\n",
       "      <td>54.8</td>\n",
       "      <td>...</td>\n",
       "      <td>54.8</td>\n",
       "      <td>54.8</td>\n",
       "      <td>1</td>\n",
       "      <td>-18.932558</td>\n",
       "      <td>NaN</td>\n",
       "      <td>-18.932558</td>\n",
       "      <td>-18.932558</td>\n",
       "      <td>-18.932558</td>\n",
       "      <td>-18.932558</td>\n",
       "      <td>-18.932558</td>\n",
       "    </tr>\n",
       "    <tr>\n",
       "      <th>’Aïn el Hammam</th>\n",
       "      <td>1</td>\n",
       "      <td>-89.0</td>\n",
       "      <td>NaN</td>\n",
       "      <td>-89.0</td>\n",
       "      <td>-89.0</td>\n",
       "      <td>-89.0</td>\n",
       "      <td>-89.0</td>\n",
       "      <td>-89.0</td>\n",
       "      <td>1</td>\n",
       "      <td>55.7</td>\n",
       "      <td>...</td>\n",
       "      <td>55.7</td>\n",
       "      <td>55.7</td>\n",
       "      <td>1</td>\n",
       "      <td>-14.240741</td>\n",
       "      <td>NaN</td>\n",
       "      <td>-14.240741</td>\n",
       "      <td>-14.240741</td>\n",
       "      <td>-14.240741</td>\n",
       "      <td>-14.240741</td>\n",
       "      <td>-14.240741</td>\n",
       "    </tr>\n",
       "    <tr>\n",
       "      <th>’s-Hertogenbosch</th>\n",
       "      <td>1</td>\n",
       "      <td>-87.8</td>\n",
       "      <td>NaN</td>\n",
       "      <td>-87.8</td>\n",
       "      <td>-87.8</td>\n",
       "      <td>-87.8</td>\n",
       "      <td>-87.8</td>\n",
       "      <td>-87.8</td>\n",
       "      <td>1</td>\n",
       "      <td>56.3</td>\n",
       "      <td>...</td>\n",
       "      <td>56.3</td>\n",
       "      <td>56.3</td>\n",
       "      <td>1</td>\n",
       "      <td>-15.097321</td>\n",
       "      <td>NaN</td>\n",
       "      <td>-15.097321</td>\n",
       "      <td>-15.097321</td>\n",
       "      <td>-15.097321</td>\n",
       "      <td>-15.097321</td>\n",
       "      <td>-15.097321</td>\n",
       "    </tr>\n",
       "  </tbody>\n",
       "</table>\n",
       "<p>8853 rows × 24 columns</p>\n",
       "</div>"
      ],
      "text/plain": [
       "                 (temp, min)                                            \\\n",
       "                       count  mean   std   min   25%   50%   75%   max   \n",
       "city                                                                     \n",
       "A Coruña                   1 -80.3  <NA> -80.3 -80.3 -80.3 -80.3 -80.3   \n",
       "Aadorf                     1 -88.4  <NA> -88.4 -88.4 -88.4 -88.4 -88.4   \n",
       "Aalen                      1 -89.2  <NA> -89.2 -89.2 -89.2 -89.2 -89.2   \n",
       "Aalsmeer                   1 -89.1  <NA> -89.1 -89.1 -89.1 -89.1 -89.1   \n",
       "Aarschot                   1 -86.8  <NA> -86.8 -86.8 -86.8 -86.8 -86.8   \n",
       "...                      ...   ...   ...   ...   ...   ...   ...   ...   \n",
       "‘Āmūdā                     1 -88.5  <NA> -88.5 -88.5 -88.5 -88.5 -88.5   \n",
       "’Ali Ben Sliman            1 -84.9  <NA> -84.9 -84.9 -84.9 -84.9 -84.9   \n",
       "’Aïn Arnat                 1 -88.5  <NA> -88.5 -88.5 -88.5 -88.5 -88.5   \n",
       "’Aïn el Hammam             1 -89.0  <NA> -89.0 -89.0 -89.0 -89.0 -89.0   \n",
       "’s-Hertogenbosch           1 -87.8  <NA> -87.8 -87.8 -87.8 -87.8 -87.8   \n",
       "\n",
       "                 (temp, max)        ...             (temp, mean)             \\\n",
       "                       count  mean  ...   75%   max        count       mean   \n",
       "city                                ...                                       \n",
       "A Coruña                   1  56.0  ...  56.0  56.0            1  -6.882353   \n",
       "Aadorf                     1  56.0  ...  56.0  56.0            1 -15.791743   \n",
       "Aalen                      1  56.4  ...  56.4  56.4            1 -11.404505   \n",
       "Aalsmeer                   1  55.9  ...  55.9  55.9            1 -16.932967   \n",
       "Aarschot                   1  56.4  ...  56.4  56.4            1 -24.309524   \n",
       "...                      ...   ...  ...   ...   ...          ...        ...   \n",
       "‘Āmūdā                     1  53.2  ...  53.2  53.2            1 -19.755882   \n",
       "’Ali Ben Sliman            1  55.7  ...  55.7  55.7            1 -21.102083   \n",
       "’Aïn Arnat                 1  54.8  ...  54.8  54.8            1 -18.932558   \n",
       "’Aïn el Hammam             1  55.7  ...  55.7  55.7            1 -14.240741   \n",
       "’s-Hertogenbosch           1  56.3  ...  56.3  56.3            1 -15.097321   \n",
       "\n",
       "                                                                               \n",
       "                   std        min        25%        50%        75%        max  \n",
       "city                                                                           \n",
       "A Coruña          <NA>  -6.882353  -6.882353  -6.882353  -6.882353  -6.882353  \n",
       "Aadorf            <NA> -15.791743 -15.791743 -15.791743 -15.791743 -15.791743  \n",
       "Aalen             <NA> -11.404505 -11.404505 -11.404505 -11.404505 -11.404505  \n",
       "Aalsmeer          <NA> -16.932967 -16.932967 -16.932967 -16.932967 -16.932967  \n",
       "Aarschot          <NA> -24.309524 -24.309524 -24.309524 -24.309524 -24.309524  \n",
       "...                ...        ...        ...        ...        ...        ...  \n",
       "‘Āmūdā            <NA> -19.755882 -19.755882 -19.755882 -19.755882 -19.755882  \n",
       "’Ali Ben Sliman   <NA> -21.102083 -21.102083 -21.102083 -21.102083 -21.102083  \n",
       "’Aïn Arnat        <NA> -18.932558 -18.932558 -18.932558 -18.932558 -18.932558  \n",
       "’Aïn el Hammam    <NA> -14.240741 -14.240741 -14.240741 -14.240741 -14.240741  \n",
       "’s-Hertogenbosch  <NA> -15.097321 -15.097321 -15.097321 -15.097321 -15.097321  \n",
       "\n",
       "[8853 rows x 24 columns]"
      ]
     },
     "execution_count": 155,
     "metadata": {},
     "output_type": "execute_result"
    }
   ],
   "source": [
    "# df_agrupado.groupby(level=0).agg({'min':'min','max':'max','mean':'mean'})\n",
    "df_agrupado.groupby(level=0).describe()"
   ]
  },
  {
   "cell_type": "code",
   "execution_count": 134,
   "id": "44d99ae1-e183-4d88-a8d6-5180779484d0",
   "metadata": {},
   "outputs": [
    {
     "data": {
      "text/plain": [
       "city\n",
       "A Coruña           -80.3\n",
       "Aadorf             -88.4\n",
       "Aalen              -89.2\n",
       "Aalsmeer           -89.1\n",
       "Aarschot           -86.8\n",
       "                    ... \n",
       "‘Āmūdā             -88.5\n",
       "’Ali Ben Sliman    -84.9\n",
       "’Aïn Arnat         -88.5\n",
       "’Aïn el Hammam     -89.0\n",
       "’s-Hertogenbosch   -87.8\n",
       "Name: ('temp', 'min'), Length: 8853, dtype: float64"
      ]
     },
     "execution_count": 134,
     "metadata": {},
     "output_type": "execute_result"
    }
   ],
   "source": [
    "df_agrupado['temp','min']\n"
   ]
  },
  {
   "cell_type": "code",
   "execution_count": 135,
   "id": "5cf19946-b8a6-4c73-bde1-b1e26524faf7",
   "metadata": {},
   "outputs": [
    {
     "data": {
      "text/plain": [
       "[Index(['temp'], dtype='object'),\n",
       " Index(['max', 'mean', 'min'], dtype='object')]"
      ]
     },
     "execution_count": 135,
     "metadata": {},
     "output_type": "execute_result"
    }
   ],
   "source": [
    "df_agrupado.columns.levels"
   ]
  },
  {
   "cell_type": "code",
   "execution_count": 140,
   "id": "469203f3-1653-47e7-9e42-dd41d364ccf7",
   "metadata": {},
   "outputs": [
    {
     "ename": "TypeError",
     "evalue": "Index must be a MultiIndex",
     "output_type": "error",
     "traceback": [
      "\u001b[0;31m---------------------------------------------------------------------------\u001b[0m",
      "\u001b[0;31mAttributeError\u001b[0m                            Traceback (most recent call last)",
      "File \u001b[0;32m~/bootcamps/bootcamp-jornada-de-dados_2024/.venv/lib/python3.11/site-packages/cudf/pandas/fast_slow_proxy.py:890\u001b[0m, in \u001b[0;36m_fast_slow_function_call\u001b[0;34m(func, *args, **kwargs)\u001b[0m\n\u001b[1;32m    885\u001b[0m \u001b[38;5;28;01mwith\u001b[39;00m nvtx\u001b[38;5;241m.\u001b[39mannotate(\n\u001b[1;32m    886\u001b[0m     \u001b[38;5;124m\"\u001b[39m\u001b[38;5;124mEXECUTE_FAST\u001b[39m\u001b[38;5;124m\"\u001b[39m,\n\u001b[1;32m    887\u001b[0m     color\u001b[38;5;241m=\u001b[39m_CUDF_PANDAS_NVTX_COLORS[\u001b[38;5;124m\"\u001b[39m\u001b[38;5;124mEXECUTE_FAST\u001b[39m\u001b[38;5;124m\"\u001b[39m],\n\u001b[1;32m    888\u001b[0m     domain\u001b[38;5;241m=\u001b[39m\u001b[38;5;124m\"\u001b[39m\u001b[38;5;124mcudf_pandas\u001b[39m\u001b[38;5;124m\"\u001b[39m,\n\u001b[1;32m    889\u001b[0m ):\n\u001b[0;32m--> 890\u001b[0m     fast_args, fast_kwargs \u001b[38;5;241m=\u001b[39m \u001b[43m_fast_arg\u001b[49m\u001b[43m(\u001b[49m\u001b[43margs\u001b[49m\u001b[43m)\u001b[49m, _fast_arg(kwargs)\n\u001b[1;32m    891\u001b[0m     result \u001b[38;5;241m=\u001b[39m func(\u001b[38;5;241m*\u001b[39mfast_args, \u001b[38;5;241m*\u001b[39m\u001b[38;5;241m*\u001b[39mfast_kwargs)\n",
      "File \u001b[0;32m~/bootcamps/bootcamp-jornada-de-dados_2024/.venv/lib/python3.11/site-packages/cudf/pandas/fast_slow_proxy.py:1009\u001b[0m, in \u001b[0;36m_fast_arg\u001b[0;34m(arg)\u001b[0m\n\u001b[1;32m   1008\u001b[0m seen: Set[\u001b[38;5;28mint\u001b[39m] \u001b[38;5;241m=\u001b[39m \u001b[38;5;28mset\u001b[39m()\n\u001b[0;32m-> 1009\u001b[0m \u001b[38;5;28;01mreturn\u001b[39;00m \u001b[43m_transform_arg\u001b[49m\u001b[43m(\u001b[49m\u001b[43marg\u001b[49m\u001b[43m,\u001b[49m\u001b[43m \u001b[49m\u001b[38;5;124;43m\"\u001b[39;49m\u001b[38;5;124;43m_fsproxy_fast\u001b[39;49m\u001b[38;5;124;43m\"\u001b[39;49m\u001b[43m,\u001b[49m\u001b[43m \u001b[49m\u001b[43mseen\u001b[49m\u001b[43m)\u001b[49m\n",
      "File \u001b[0;32m~/bootcamps/bootcamp-jornada-de-dados_2024/.venv/lib/python3.11/site-packages/cudf/pandas/fast_slow_proxy.py:936\u001b[0m, in \u001b[0;36m_transform_arg\u001b[0;34m(arg, attribute_name, seen)\u001b[0m\n\u001b[1;32m    934\u001b[0m \u001b[38;5;28;01mif\u001b[39;00m \u001b[38;5;28mtype\u001b[39m(arg) \u001b[38;5;129;01mis\u001b[39;00m \u001b[38;5;28mtuple\u001b[39m:\n\u001b[1;32m    935\u001b[0m     \u001b[38;5;66;03m# Must come first to avoid infinite recursion\u001b[39;00m\n\u001b[0;32m--> 936\u001b[0m     \u001b[38;5;28;01mreturn\u001b[39;00m \u001b[38;5;28mtuple\u001b[39m(_transform_arg(a, attribute_name, seen) \u001b[38;5;28;01mfor\u001b[39;00m a \u001b[38;5;129;01min\u001b[39;00m arg)\n\u001b[1;32m    937\u001b[0m \u001b[38;5;28;01melif\u001b[39;00m \u001b[38;5;28mhasattr\u001b[39m(arg, \u001b[38;5;124m\"\u001b[39m\u001b[38;5;124m__getnewargs_ex__\u001b[39m\u001b[38;5;124m\"\u001b[39m):\n\u001b[1;32m    938\u001b[0m     \u001b[38;5;66;03m# Partial implementation of to reconstruct with\u001b[39;00m\n\u001b[1;32m    939\u001b[0m     \u001b[38;5;66;03m# transformed pieces\u001b[39;00m\n\u001b[1;32m    940\u001b[0m     \u001b[38;5;66;03m# This handles scipy._lib._bunch._make_tuple_bunch\u001b[39;00m\n",
      "File \u001b[0;32m~/bootcamps/bootcamp-jornada-de-dados_2024/.venv/lib/python3.11/site-packages/cudf/pandas/fast_slow_proxy.py:936\u001b[0m, in \u001b[0;36m<genexpr>\u001b[0;34m(.0)\u001b[0m\n\u001b[1;32m    934\u001b[0m \u001b[38;5;28;01mif\u001b[39;00m \u001b[38;5;28mtype\u001b[39m(arg) \u001b[38;5;129;01mis\u001b[39;00m \u001b[38;5;28mtuple\u001b[39m:\n\u001b[1;32m    935\u001b[0m     \u001b[38;5;66;03m# Must come first to avoid infinite recursion\u001b[39;00m\n\u001b[0;32m--> 936\u001b[0m     \u001b[38;5;28;01mreturn\u001b[39;00m \u001b[38;5;28mtuple\u001b[39m(\u001b[43m_transform_arg\u001b[49m\u001b[43m(\u001b[49m\u001b[43ma\u001b[49m\u001b[43m,\u001b[49m\u001b[43m \u001b[49m\u001b[43mattribute_name\u001b[49m\u001b[43m,\u001b[49m\u001b[43m \u001b[49m\u001b[43mseen\u001b[49m\u001b[43m)\u001b[49m \u001b[38;5;28;01mfor\u001b[39;00m a \u001b[38;5;129;01min\u001b[39;00m arg)\n\u001b[1;32m    937\u001b[0m \u001b[38;5;28;01melif\u001b[39;00m \u001b[38;5;28mhasattr\u001b[39m(arg, \u001b[38;5;124m\"\u001b[39m\u001b[38;5;124m__getnewargs_ex__\u001b[39m\u001b[38;5;124m\"\u001b[39m):\n\u001b[1;32m    938\u001b[0m     \u001b[38;5;66;03m# Partial implementation of to reconstruct with\u001b[39;00m\n\u001b[1;32m    939\u001b[0m     \u001b[38;5;66;03m# transformed pieces\u001b[39;00m\n\u001b[1;32m    940\u001b[0m     \u001b[38;5;66;03m# This handles scipy._lib._bunch._make_tuple_bunch\u001b[39;00m\n",
      "File \u001b[0;32m~/bootcamps/bootcamp-jornada-de-dados_2024/.venv/lib/python3.11/site-packages/cudf/pandas/fast_slow_proxy.py:919\u001b[0m, in \u001b[0;36m_transform_arg\u001b[0;34m(arg, attribute_name, seen)\u001b[0m\n\u001b[1;32m    918\u001b[0m \u001b[38;5;28;01mif\u001b[39;00m \u001b[38;5;28misinstance\u001b[39m(arg, (_FastSlowProxy, _FastSlowProxyMeta, _FunctionProxy)):\n\u001b[0;32m--> 919\u001b[0m     typ \u001b[38;5;241m=\u001b[39m \u001b[38;5;28mgetattr\u001b[39m(arg, attribute_name)\n\u001b[1;32m    920\u001b[0m     \u001b[38;5;28;01mif\u001b[39;00m typ \u001b[38;5;129;01mis\u001b[39;00m _Unusable:\n",
      "File \u001b[0;32m~/bootcamps/bootcamp-jornada-de-dados_2024/.venv/lib/python3.11/site-packages/cudf/pandas/fast_slow_proxy.py:555\u001b[0m, in \u001b[0;36m_FastSlowProxy.__getattr__\u001b[0;34m(self, name)\u001b[0m\n\u001b[1;32m    552\u001b[0m \u001b[38;5;28;01mif\u001b[39;00m name\u001b[38;5;241m.\u001b[39mstartswith(\u001b[38;5;124m\"\u001b[39m\u001b[38;5;124m_fsproxy\u001b[39m\u001b[38;5;124m\"\u001b[39m):\n\u001b[1;32m    553\u001b[0m     \u001b[38;5;66;03m# an AttributeError was raised when trying to evaluate\u001b[39;00m\n\u001b[1;32m    554\u001b[0m     \u001b[38;5;66;03m# an internal attribute, we just need to propagate this\u001b[39;00m\n\u001b[0;32m--> 555\u001b[0m     \u001b[43m_raise_attribute_error\u001b[49m\u001b[43m(\u001b[49m\u001b[38;5;28;43mself\u001b[39;49m\u001b[38;5;241;43m.\u001b[39;49m\u001b[38;5;18;43m__class__\u001b[39;49m\u001b[38;5;241;43m.\u001b[39;49m\u001b[38;5;18;43m__name__\u001b[39;49m\u001b[43m,\u001b[49m\u001b[43m \u001b[49m\u001b[43mname\u001b[49m\u001b[43m)\u001b[49m\n\u001b[1;32m    556\u001b[0m \u001b[38;5;28;01mif\u001b[39;00m name \u001b[38;5;129;01min\u001b[39;00m {\n\u001b[1;32m    557\u001b[0m     \u001b[38;5;124m\"\u001b[39m\u001b[38;5;124m_ipython_canary_method_should_not_exist_\u001b[39m\u001b[38;5;124m\"\u001b[39m,\n\u001b[1;32m    558\u001b[0m     \u001b[38;5;124m\"\u001b[39m\u001b[38;5;124m_ipython_display_\u001b[39m\u001b[38;5;124m\"\u001b[39m,\n\u001b[0;32m   (...)\u001b[0m\n\u001b[1;32m    570\u001b[0m     \u001b[38;5;66;03m# This is somewhat delicate to the order in which IPython\u001b[39;00m\n\u001b[1;32m    571\u001b[0m     \u001b[38;5;66;03m# implements special display fallbacks.\u001b[39;00m\n",
      "File \u001b[0;32m~/bootcamps/bootcamp-jornada-de-dados_2024/.venv/lib/python3.11/site-packages/cudf/pandas/fast_slow_proxy.py:392\u001b[0m, in \u001b[0;36m_raise_attribute_error\u001b[0;34m(obj, name)\u001b[0m\n\u001b[1;32m    387\u001b[0m \u001b[38;5;250m\u001b[39m\u001b[38;5;124;03m\"\"\"\u001b[39;00m\n\u001b[1;32m    388\u001b[0m \u001b[38;5;124;03mRaise an AttributeError with a message that is consistent with\u001b[39;00m\n\u001b[1;32m    389\u001b[0m \u001b[38;5;124;03mthe error raised by Python for a non-existent attribute on a\u001b[39;00m\n\u001b[1;32m    390\u001b[0m \u001b[38;5;124;03mproxy object.\u001b[39;00m\n\u001b[1;32m    391\u001b[0m \u001b[38;5;124;03m\"\"\"\u001b[39;00m\n\u001b[0;32m--> 392\u001b[0m \u001b[38;5;28;01mraise\u001b[39;00m \u001b[38;5;167;01mAttributeError\u001b[39;00m(\u001b[38;5;124mf\u001b[39m\u001b[38;5;124m\"\u001b[39m\u001b[38;5;124m'\u001b[39m\u001b[38;5;132;01m{\u001b[39;00mobj\u001b[38;5;132;01m}\u001b[39;00m\u001b[38;5;124m'\u001b[39m\u001b[38;5;124m object has no attribute \u001b[39m\u001b[38;5;124m'\u001b[39m\u001b[38;5;132;01m{\u001b[39;00mname\u001b[38;5;132;01m}\u001b[39;00m\u001b[38;5;124m'\u001b[39m\u001b[38;5;124m\"\u001b[39m)\n",
      "\u001b[0;31mAttributeError\u001b[0m: 'function' object has no attribute '_fsproxy_fast'",
      "\nDuring handling of the above exception, another exception occurred:\n",
      "\u001b[0;31mTypeError\u001b[0m                                 Traceback (most recent call last)",
      "\u001b[0;32m/tmp/ipykernel_126379/4015948643.py\u001b[0m in \u001b[0;36m?\u001b[0;34m()\u001b[0m\n\u001b[0;32m----> 1\u001b[0;31m \u001b[0mdf_agrupado\u001b[0m\u001b[0;34m.\u001b[0m\u001b[0mxs\u001b[0m\u001b[0;34m(\u001b[0m\u001b[0;34m'temp'\u001b[0m\u001b[0;34m,\u001b[0m \u001b[0mlevel\u001b[0m\u001b[0;34m=\u001b[0m\u001b[0;34m'second'\u001b[0m\u001b[0;34m)\u001b[0m\u001b[0;34m\u001b[0m\u001b[0;34m\u001b[0m\u001b[0m\n\u001b[0m",
      "\u001b[0;32m~/bootcamps/bootcamp-jornada-de-dados_2024/.venv/lib/python3.11/site-packages/cudf/pandas/fast_slow_proxy.py\u001b[0m in \u001b[0;36m?\u001b[0;34m(self, *args, **kwargs)\u001b[0m\n\u001b[1;32m    838\u001b[0m     \u001b[0;32mdef\u001b[0m \u001b[0m__call__\u001b[0m\u001b[0;34m(\u001b[0m\u001b[0mself\u001b[0m\u001b[0;34m,\u001b[0m \u001b[0;34m*\u001b[0m\u001b[0margs\u001b[0m\u001b[0;34m,\u001b[0m \u001b[0;34m**\u001b[0m\u001b[0mkwargs\u001b[0m\u001b[0;34m)\u001b[0m \u001b[0;34m->\u001b[0m \u001b[0mAny\u001b[0m\u001b[0;34m:\u001b[0m\u001b[0;34m\u001b[0m\u001b[0;34m\u001b[0m\u001b[0m\n\u001b[0;32m--> 839\u001b[0;31m         result, _ = _fast_slow_function_call(\n\u001b[0m\u001b[1;32m    840\u001b[0m             \u001b[0;31m# We cannot directly call self here because we need it to be\u001b[0m\u001b[0;34m\u001b[0m\u001b[0;34m\u001b[0m\u001b[0m\n\u001b[1;32m    841\u001b[0m             \u001b[0;31m# converted into either the fast or slow object (by\u001b[0m\u001b[0;34m\u001b[0m\u001b[0;34m\u001b[0m\u001b[0m\n\u001b[1;32m    842\u001b[0m             \u001b[0;31m# _fast_slow_function_call) to avoid infinite recursion.\u001b[0m\u001b[0;34m\u001b[0m\u001b[0;34m\u001b[0m\u001b[0m\n",
      "\u001b[0;32m~/bootcamps/bootcamp-jornada-de-dados_2024/.venv/lib/python3.11/site-packages/cudf/pandas/fast_slow_proxy.py\u001b[0m in \u001b[0;36m?\u001b[0;34m(func, *args, **kwargs)\u001b[0m\n\u001b[1;32m    900\u001b[0m             \u001b[0mdomain\u001b[0m\u001b[0;34m=\u001b[0m\u001b[0;34m\"cudf_pandas\"\u001b[0m\u001b[0;34m,\u001b[0m\u001b[0;34m\u001b[0m\u001b[0;34m\u001b[0m\u001b[0m\n\u001b[1;32m    901\u001b[0m         ):\n\u001b[1;32m    902\u001b[0m             \u001b[0mslow_args\u001b[0m\u001b[0;34m,\u001b[0m \u001b[0mslow_kwargs\u001b[0m \u001b[0;34m=\u001b[0m \u001b[0m_slow_arg\u001b[0m\u001b[0;34m(\u001b[0m\u001b[0margs\u001b[0m\u001b[0;34m)\u001b[0m\u001b[0;34m,\u001b[0m \u001b[0m_slow_arg\u001b[0m\u001b[0;34m(\u001b[0m\u001b[0mkwargs\u001b[0m\u001b[0;34m)\u001b[0m\u001b[0;34m\u001b[0m\u001b[0;34m\u001b[0m\u001b[0m\n\u001b[1;32m    903\u001b[0m             \u001b[0;32mwith\u001b[0m \u001b[0mdisable_module_accelerator\u001b[0m\u001b[0;34m(\u001b[0m\u001b[0;34m)\u001b[0m\u001b[0;34m:\u001b[0m\u001b[0;34m\u001b[0m\u001b[0;34m\u001b[0m\u001b[0m\n\u001b[0;32m--> 904\u001b[0;31m                 \u001b[0mresult\u001b[0m \u001b[0;34m=\u001b[0m \u001b[0mfunc\u001b[0m\u001b[0;34m(\u001b[0m\u001b[0;34m*\u001b[0m\u001b[0mslow_args\u001b[0m\u001b[0;34m,\u001b[0m \u001b[0;34m**\u001b[0m\u001b[0mslow_kwargs\u001b[0m\u001b[0;34m)\u001b[0m\u001b[0;34m\u001b[0m\u001b[0;34m\u001b[0m\u001b[0m\n\u001b[0m\u001b[1;32m    905\u001b[0m     \u001b[0;32mreturn\u001b[0m \u001b[0m_maybe_wrap_result\u001b[0m\u001b[0;34m(\u001b[0m\u001b[0mresult\u001b[0m\u001b[0;34m,\u001b[0m \u001b[0mfunc\u001b[0m\u001b[0;34m,\u001b[0m \u001b[0;34m*\u001b[0m\u001b[0margs\u001b[0m\u001b[0;34m,\u001b[0m \u001b[0;34m**\u001b[0m\u001b[0mkwargs\u001b[0m\u001b[0;34m)\u001b[0m\u001b[0;34m,\u001b[0m \u001b[0mfast\u001b[0m\u001b[0;34m\u001b[0m\u001b[0;34m\u001b[0m\u001b[0m\n",
      "\u001b[0;32m~/bootcamps/bootcamp-jornada-de-dados_2024/.venv/lib/python3.11/site-packages/cudf/pandas/fast_slow_proxy.py\u001b[0m in \u001b[0;36m?\u001b[0;34m(fn, args, kwargs)\u001b[0m\n\u001b[1;32m     29\u001b[0m \u001b[0;32mdef\u001b[0m \u001b[0mcall_operator\u001b[0m\u001b[0;34m(\u001b[0m\u001b[0mfn\u001b[0m\u001b[0;34m,\u001b[0m \u001b[0margs\u001b[0m\u001b[0;34m,\u001b[0m \u001b[0mkwargs\u001b[0m\u001b[0;34m)\u001b[0m\u001b[0;34m:\u001b[0m\u001b[0;34m\u001b[0m\u001b[0;34m\u001b[0m\u001b[0m\n\u001b[0;32m---> 30\u001b[0;31m     \u001b[0;32mreturn\u001b[0m \u001b[0mfn\u001b[0m\u001b[0;34m(\u001b[0m\u001b[0;34m*\u001b[0m\u001b[0margs\u001b[0m\u001b[0;34m,\u001b[0m \u001b[0;34m**\u001b[0m\u001b[0mkwargs\u001b[0m\u001b[0;34m)\u001b[0m\u001b[0;34m\u001b[0m\u001b[0;34m\u001b[0m\u001b[0m\n\u001b[0m",
      "\u001b[0;32m~/bootcamps/bootcamp-jornada-de-dados_2024/.venv/lib/python3.11/site-packages/pandas/core/generic.py\u001b[0m in \u001b[0;36m?\u001b[0;34m(self, key, axis, level, drop_level)\u001b[0m\n\u001b[1;32m   4266\u001b[0m             \u001b[0;32mraise\u001b[0m \u001b[0mTypeError\u001b[0m\u001b[0;34m(\u001b[0m\u001b[0;34m\"list keys are not supported in xs, pass a tuple instead\"\u001b[0m\u001b[0;34m)\u001b[0m\u001b[0;34m\u001b[0m\u001b[0;34m\u001b[0m\u001b[0m\n\u001b[1;32m   4267\u001b[0m \u001b[0;34m\u001b[0m\u001b[0m\n\u001b[1;32m   4268\u001b[0m         \u001b[0;32mif\u001b[0m \u001b[0mlevel\u001b[0m \u001b[0;32mis\u001b[0m \u001b[0;32mnot\u001b[0m \u001b[0;32mNone\u001b[0m\u001b[0;34m:\u001b[0m\u001b[0;34m\u001b[0m\u001b[0;34m\u001b[0m\u001b[0m\n\u001b[1;32m   4269\u001b[0m             \u001b[0;32mif\u001b[0m \u001b[0;32mnot\u001b[0m \u001b[0misinstance\u001b[0m\u001b[0;34m(\u001b[0m\u001b[0mlabels\u001b[0m\u001b[0;34m,\u001b[0m \u001b[0mMultiIndex\u001b[0m\u001b[0;34m)\u001b[0m\u001b[0;34m:\u001b[0m\u001b[0;34m\u001b[0m\u001b[0;34m\u001b[0m\u001b[0m\n\u001b[0;32m-> 4270\u001b[0;31m                 \u001b[0;32mraise\u001b[0m \u001b[0mTypeError\u001b[0m\u001b[0;34m(\u001b[0m\u001b[0;34m\"Index must be a MultiIndex\"\u001b[0m\u001b[0;34m)\u001b[0m\u001b[0;34m\u001b[0m\u001b[0;34m\u001b[0m\u001b[0m\n\u001b[0m\u001b[1;32m   4271\u001b[0m             \u001b[0mloc\u001b[0m\u001b[0;34m,\u001b[0m \u001b[0mnew_ax\u001b[0m \u001b[0;34m=\u001b[0m \u001b[0mlabels\u001b[0m\u001b[0;34m.\u001b[0m\u001b[0mget_loc_level\u001b[0m\u001b[0;34m(\u001b[0m\u001b[0mkey\u001b[0m\u001b[0;34m,\u001b[0m \u001b[0mlevel\u001b[0m\u001b[0;34m=\u001b[0m\u001b[0mlevel\u001b[0m\u001b[0;34m,\u001b[0m \u001b[0mdrop_level\u001b[0m\u001b[0;34m=\u001b[0m\u001b[0mdrop_level\u001b[0m\u001b[0;34m)\u001b[0m\u001b[0;34m\u001b[0m\u001b[0;34m\u001b[0m\u001b[0m\n\u001b[1;32m   4272\u001b[0m \u001b[0;34m\u001b[0m\u001b[0m\n\u001b[1;32m   4273\u001b[0m             \u001b[0;31m# create the tuple of the indexer\u001b[0m\u001b[0;34m\u001b[0m\u001b[0;34m\u001b[0m\u001b[0m\n",
      "\u001b[0;31mTypeError\u001b[0m: Index must be a MultiIndex"
     ]
    }
   ],
   "source": [
    "df_agrupado.xs('temp', level='second')"
   ]
  },
  {
   "cell_type": "code",
   "execution_count": 12,
   "id": "6aac2545-cb0c-40e6-ad6c-1b3955b8a075",
   "metadata": {},
   "outputs": [
    {
     "name": "stdout",
     "output_type": "stream",
     "text": [
      "Variable       Type        Data/Info\n",
      "------------------------------------\n",
      "csv            module      <module 'csv' from '/home<...>3/lib/python3.11/csv.py'>\n",
      "i              int         0\n",
      "pandas_df      function    <function timer_to_csv.<l<...>rapper at 0x7f323ec2a340>\n",
      "pd             module      <module 'pandas' (ModuleA<...>fast=cudf, slow=pandas))>\n",
      "teste          function    <function teste at 0x7f31d3a2fa60>\n",
      "threading      module      <module 'threading' from <...>python3.11/threading.py'>\n",
      "time           module      <module 'time' (built-in)>\n",
      "timer_to_csv   function    <function timer_to_csv at 0x7f32dff137e0>\n"
     ]
    }
   ],
   "source": [
    "%whos"
   ]
  },
  {
   "cell_type": "code",
   "execution_count": 7,
   "id": "4f4958c6-2438-4799-8da9-35c76244cbd5",
   "metadata": {
    "editable": true,
    "slideshow": {
     "slide_type": ""
    },
    "tags": []
   },
   "outputs": [
    {
     "name": "stdout",
     "output_type": "stream",
     "text": [
      "The cudf.pandas extension is already loaded. To reload it, use:\n",
      "  %reload_ext cudf.pandas\n",
      "Tempo decorrido: 1 minutos 0 segundos\r"
     ]
    },
    {
     "data": {
      "text/html": [
       "<div>\n",
       "<style scoped>\n",
       "    .dataframe tbody tr th:only-of-type {\n",
       "        vertical-align: middle;\n",
       "    }\n",
       "\n",
       "    .dataframe tbody tr th {\n",
       "        vertical-align: top;\n",
       "    }\n",
       "\n",
       "    .dataframe thead tr th {\n",
       "        text-align: left;\n",
       "    }\n",
       "</style>\n",
       "<table border=\"1\" class=\"dataframe\">\n",
       "  <thead>\n",
       "    <tr>\n",
       "      <th></th>\n",
       "      <th>city</th>\n",
       "      <th colspan=\"3\" halign=\"left\">temp</th>\n",
       "    </tr>\n",
       "    <tr>\n",
       "      <th></th>\n",
       "      <th></th>\n",
       "      <th>mean</th>\n",
       "      <th>min</th>\n",
       "      <th>max</th>\n",
       "    </tr>\n",
       "  </thead>\n",
       "  <tbody>\n",
       "    <tr>\n",
       "      <th>0</th>\n",
       "      <td>A Coruña</td>\n",
       "      <td>-14.890771</td>\n",
       "      <td>-88.5</td>\n",
       "      <td>56.7</td>\n",
       "    </tr>\n",
       "    <tr>\n",
       "      <th>1</th>\n",
       "      <td>A Yun Pa</td>\n",
       "      <td>-17.457015</td>\n",
       "      <td>-88.9</td>\n",
       "      <td>56.6</td>\n",
       "    </tr>\n",
       "    <tr>\n",
       "      <th>2</th>\n",
       "      <td>Aabenraa</td>\n",
       "      <td>-17.354871</td>\n",
       "      <td>-89.0</td>\n",
       "      <td>56.7</td>\n",
       "    </tr>\n",
       "    <tr>\n",
       "      <th>3</th>\n",
       "      <td>Aachen</td>\n",
       "      <td>-16.246478</td>\n",
       "      <td>-89.1</td>\n",
       "      <td>56.7</td>\n",
       "    </tr>\n",
       "    <tr>\n",
       "      <th>4</th>\n",
       "      <td>Aadorf</td>\n",
       "      <td>-14.181548</td>\n",
       "      <td>-89.1</td>\n",
       "      <td>56.7</td>\n",
       "    </tr>\n",
       "    <tr>\n",
       "      <th>...</th>\n",
       "      <td>...</td>\n",
       "      <td>...</td>\n",
       "      <td>...</td>\n",
       "      <td>...</td>\n",
       "    </tr>\n",
       "    <tr>\n",
       "      <th>82681</th>\n",
       "      <td>’Tlat Bni Oukil</td>\n",
       "      <td>-16.819601</td>\n",
       "      <td>-89.1</td>\n",
       "      <td>56.3</td>\n",
       "    </tr>\n",
       "    <tr>\n",
       "      <th>82682</th>\n",
       "      <td>’s-Gravendeel</td>\n",
       "      <td>-17.244377</td>\n",
       "      <td>-89.0</td>\n",
       "      <td>56.5</td>\n",
       "    </tr>\n",
       "    <tr>\n",
       "      <th>82683</th>\n",
       "      <td>’s-Gravenzande</td>\n",
       "      <td>-15.141877</td>\n",
       "      <td>-89.2</td>\n",
       "      <td>56.6</td>\n",
       "    </tr>\n",
       "    <tr>\n",
       "      <th>82684</th>\n",
       "      <td>’s-Heerenberg</td>\n",
       "      <td>-14.079280</td>\n",
       "      <td>-89.2</td>\n",
       "      <td>56.6</td>\n",
       "    </tr>\n",
       "    <tr>\n",
       "      <th>82685</th>\n",
       "      <td>’s-Hertogenbosch</td>\n",
       "      <td>-15.727201</td>\n",
       "      <td>-89.2</td>\n",
       "      <td>56.5</td>\n",
       "    </tr>\n",
       "  </tbody>\n",
       "</table>\n",
       "<p>82686 rows × 4 columns</p>\n",
       "</div>"
      ],
      "text/plain": [
       "                   city       temp            \n",
       "                              mean   min   max\n",
       "0              A Coruña -14.890771 -88.5  56.7\n",
       "1              A Yun Pa -17.457015 -88.9  56.6\n",
       "2              Aabenraa -17.354871 -89.0  56.7\n",
       "3                Aachen -16.246478 -89.1  56.7\n",
       "4                Aadorf -14.181548 -89.1  56.7\n",
       "...                 ...        ...   ...   ...\n",
       "82681   ’Tlat Bni Oukil -16.819601 -89.1  56.3\n",
       "82682     ’s-Gravendeel -17.244377 -89.0  56.5\n",
       "82683    ’s-Gravenzande -15.141877 -89.2  56.6\n",
       "82684     ’s-Heerenberg -14.079280 -89.2  56.6\n",
       "82685  ’s-Hertogenbosch -15.727201 -89.2  56.5\n",
       "\n",
       "[82686 rows x 4 columns]"
      ]
     },
     "metadata": {},
     "output_type": "display_data"
    },
    {
     "name": "stdout",
     "output_type": "stream",
     "text": [
      "Tempo total de execução: 1 minutos 0 segundos\n",
      "None\n",
      "CPU times: user 55.5 s, sys: 5.46 s, total: 1min\n",
      "Wall time: 1min\n"
     ]
    }
   ],
   "source": [
    "%%time\n",
    "%load_ext cudf.pandas\n",
    "import pandas as pd\n",
    "@timer_to_csv\n",
    "def pandas_df():\n",
    "    # Defina o caminho para o seu arquivo CSV\n",
    "    file_path = \"data/teste.txt\"\n",
    "    \n",
    "    # Tamanho do chunk (você pode ajustar conforme necessário)\n",
    "    chunk_size = 50_000_000  # por exemplo, 1 milhão de linhas por chunk\n",
    "    \n",
    "    # Inicialize um DataFrame vazio para armazenar os resultados\n",
    "    results_df = pd.DataFrame()\n",
    "    \n",
    "    # Loop através do arquivo em chunks e calcule as estatísticas\n",
    "    for chunk in pd.read_csv(file_path,sep=';', header=None, names=['city', 'temp'], chunksize=chunk_size):\n",
    "        # Calcular as estatísticas por grupo\n",
    "        grouped_stats = chunk.groupby('city').agg({'temp': ['mean', 'min', 'max']}).reset_index()\n",
    "        # Concatenar os resultados ao DataFrame principal\n",
    "        results_df = pd.concat([results_df, grouped_stats], ignore_index=True)\n",
    "    \n",
    "    # Resultados finais\n",
    "    return display(results_df)\n",
    "\n",
    "if __name__== \"__main__\":\n",
    "    print(pandas_df())\n",
    "    "
   ]
  },
  {
   "cell_type": "code",
   "execution_count": null,
   "id": "606ee748-4d0c-4532-b835-cee92cde5a71",
   "metadata": {},
   "outputs": [
    {
     "name": "stdout",
     "output_type": "stream",
     "text": [
      "Iniciando o processamento do arquivo.\n"
     ]
    },
    {
     "name": "stderr",
     "output_type": "stream",
     "text": [
      "Processando:  74%|████████▏  | 743/1000 [06:52<50:50, 11.87s/it]"
     ]
    }
   ],
   "source": [
    "# Pandas=> script para caluclar min, max e mean em um bilhão de linhas.\n",
    "import pandas as pd \n",
    "import time\n",
    "from multiprocessing import Pool, cpu_count\n",
    "from tqdm import tqdm  # importa o tqdm para barra de progresso\n",
    "\n",
    "CONCURRENCY = cpu_count()\n",
    "\n",
    "total_linhas = 1_000_000_000  # Total de linhas conhecido\n",
    "chunksize = 100_000  # Define o tamanho do chunk\n",
    "filename = \"data/measurements.txt\"  # Certifique-se de que este é o caminho correto para o arquivo\n",
    "@timer_to_csv\n",
    "def process_chunk(chunk):\n",
    "    # Agrega os dados dentro do chunk usando Pandas\n",
    "    aggregated = chunk.groupby('city')['temp'].agg(['min', 'max', 'mean']).reset_index()\n",
    "    return aggregated\n",
    "\n",
    "def create_df_with_pandas(filename, total_linhas, chunksize=chunksize):\n",
    "    total_chunks = total_linhas // chunksize + (1 if total_linhas % chunksize else 0)\n",
    "    results = []\n",
    "\n",
    "    with pd.read_csv(filename, sep=';', header=None, names=['city', 'temp'], chunksize=chunksize) as reader:\n",
    "        # Envolvendo o iterador com tqdm para visualizar o progresso\n",
    "        with Pool(CONCURRENCY) as pool:\n",
    "            for chunk in tqdm(reader, total=total_chunks, desc=\"Processando\"):\n",
    "                # Processa cada chunk em paralelo\n",
    "                result = pool.apply_async(process_chunk, (chunk,))\n",
    "                results.append(result)\n",
    "\n",
    "            results = [result.get() for result in results]\n",
    "\n",
    "    final_df = pd.concat(results, ignore_index=True)\n",
    "\n",
    "    final_aggregated_df = final_df.groupby('city').agg({\n",
    "        'min': 'min',\n",
    "        'max': 'max',\n",
    "        'mean': 'mean'\n",
    "    }).reset_index().sort_values('city')\n",
    "\n",
    "    return final_aggregated_df\n",
    "\n",
    "if __name__ == \"__main__\":    \n",
    "\n",
    "    print(\"Iniciando o processamento do arquivo.\")\n",
    "    df = create_df_with_pandas(filename, total_linhas, chunksize)      \n",
    "    display(df())    \n"
   ]
  },
  {
   "cell_type": "markdown",
   "id": "28be5f4c-6870-4f2b-8403-3e4751da0eb1",
   "metadata": {},
   "source": [
    "## Polars - min, max e mean em 1 bilhão de linhas"
   ]
  },
  {
   "cell_type": "code",
   "execution_count": null,
   "id": "e622fcb8-9f8f-4b34-bf90-e491ccf0bd5e",
   "metadata": {},
   "outputs": [],
   "source": [
    "# Instalando a lib polars\n",
    "!poetry add polars"
   ]
  },
  {
   "cell_type": "code",
   "execution_count": 22,
   "id": "e31de0d4-931d-4fd3-8353-373c41062cb2",
   "metadata": {},
   "outputs": [
    {
     "name": "stdout",
     "output_type": "stream",
     "text": [
      "Tempo total de execução: 52.647 segundos\n",
      "shape: (8_854, 4)\n",
      "┌──────────────────┬──────────┬──────────┬────────────┐\n",
      "│ city             ┆ max_temp ┆ min_temp ┆ mean_temp  │\n",
      "│ ---              ┆ ---      ┆ ---      ┆ ---        │\n",
      "│ str              ┆ f64      ┆ f64      ┆ f64        │\n",
      "╞══════════════════╪══════════╪══════════╪════════════╡\n",
      "│ A Coruña         ┆ 56.7     ┆ -89.2    ┆ -16.284529 │\n",
      "│ Aachen           ┆ 56.7     ┆ -89.2    ┆ -16.263415 │\n",
      "│ Aalst            ┆ 56.7     ┆ -89.2    ┆ -16.487183 │\n",
      "│ Aarau            ┆ 56.7     ┆ -89.2    ┆ -16.132312 │\n",
      "│ Abaré            ┆ 56.7     ┆ -89.2    ┆ -16.397278 │\n",
      "│ …                ┆ …        ┆ …        ┆ …          │\n",
      "│ ‘Alīābād-e Katūl ┆ 56.7     ┆ -89.2    ┆ -16.228978 │\n",
      "│ ‘Amrān           ┆ 56.7     ┆ -89.2    ┆ -16.081336 │\n",
      "│ ‘Anadān          ┆ 56.7     ┆ -89.2    ┆ -16.288188 │\n",
      "│ ’Ayn Bni Mathar  ┆ 56.7     ┆ -89.2    ┆ -16.094876 │\n",
      "│ ’Tlat Bni Oukil  ┆ 56.7     ┆ -89.2    ┆ -16.255552 │\n",
      "└──────────────────┴──────────┴──────────┴────────────┘\n"
     ]
    }
   ],
   "source": [
    "# Polars => script para caluclar min, max e mean em um bilhão de linhas.\n",
    "import polars as pl\n",
    "@timer_to_csv\n",
    "def polars_df(): \n",
    "    pl.Config.set_streaming_chunk_size(100000)\n",
    "    # Leitura do arquivo CSV e definição do schema\n",
    "    return (pl.scan_csv(\"data/measurements.txt\", separator=\";\", has_header=False,\n",
    "                        schema={\"city\": pl.String, \"temp\": pl.Float64})\n",
    "                        .group_by(\"city\").agg(\n",
    "                                                 max_temp=pl.col(\"temp\").max(),\n",
    "                                                 min_temp=pl.col(\"temp\").min(),\n",
    "                                                 mean_temp=pl.col(\"temp\").mean()\n",
    "                                                ).sort(\"city\").collect(streaming=True)\n",
    "           )   \n",
    "if __name__ == \"__main__\":    \n",
    "    df = polars_df()\n",
    "    print(df)\n",
    "   \n"
   ]
  },
  {
   "cell_type": "markdown",
   "id": "b0e0fc93-52a7-4a33-9529-a3e8e78241c7",
   "metadata": {
    "jp-MarkdownHeadingCollapsed": true
   },
   "source": [
    "## Duckdb - min, max e mean em 1 bilhão de linhas"
   ]
  },
  {
   "cell_type": "code",
   "execution_count": null,
   "id": "27a4123a-14a4-4fd8-9336-c1a0dc1ab3bb",
   "metadata": {},
   "outputs": [],
   "source": [
    "!poetry add duckdb"
   ]
  },
  {
   "cell_type": "code",
   "execution_count": 43,
   "id": "60de2ece-ec1b-4e06-8e50-9569efd1f1a1",
   "metadata": {},
   "outputs": [
    {
     "data": {
      "application/vnd.jupyter.widget-view+json": {
       "model_id": "ac78969ea0d849bc909746714226550d",
       "version_major": 2,
       "version_minor": 0
      },
      "text/plain": [
       "FloatProgress(value=0.0, layout=Layout(width='auto'), style=ProgressStyle(bar_color='black'))"
      ]
     },
     "metadata": {},
     "output_type": "display_data"
    },
    {
     "name": "stdout",
     "output_type": "stream",
     "text": [
      "┌──────────────────┬─────────────────┬──────────────────┬─────────────────┐\n",
      "│       city       │ min_temperature │ mean_temperature │ max_temperature │\n",
      "│     varchar      │  decimal(18,3)  │  decimal(18,3)   │  decimal(18,3)  │\n",
      "├──────────────────┼─────────────────┼──────────────────┼─────────────────┤\n",
      "│ A Coruña         │         -89.200 │          -16.285 │          56.700 │\n",
      "│ Aachen           │         -89.200 │          -16.263 │          56.700 │\n",
      "│ Aalst            │         -89.200 │          -16.487 │          56.700 │\n",
      "│ Aarau            │         -89.200 │          -16.132 │          56.700 │\n",
      "│ Abaré            │         -89.200 │          -16.397 │          56.700 │\n",
      "│ Abbeville        │         -89.200 │          -16.167 │          56.700 │\n",
      "│ Abbotsford       │         -89.200 │          -16.416 │          56.700 │\n",
      "│ Aberbargoed      │         -89.200 │          -16.127 │          56.700 │\n",
      "│ Abidjan          │         -89.200 │          -16.136 │          56.700 │\n",
      "│ Abingdon         │         -89.200 │          -16.248 │          56.700 │\n",
      "│   ·              │            ·    │             ·    │             ·   │\n",
      "│   ·              │            ·    │             ·    │             ·   │\n",
      "│   ·              │            ·    │             ·    │             ·   │\n",
      "│ Ḩarmah           │         -89.200 │          -16.268 │          56.700 │\n",
      "│ Ḩorr-e Rīāḩī     │         -89.200 │          -16.408 │          56.700 │\n",
      "│ Ḩukūmatī Gīzāb   │         -89.200 │          -16.292 │          56.700 │\n",
      "│ Ḩās              │         -89.200 │          -16.157 │          56.700 │\n",
      "│ ‘Ajab Shīr       │         -89.200 │          -16.228 │          56.700 │\n",
      "│ ‘Alīābād-e Katūl │         -89.200 │          -16.229 │          56.700 │\n",
      "│ ‘Amrān           │         -89.200 │          -16.081 │          56.700 │\n",
      "│ ‘Anadān          │         -89.200 │          -16.288 │          56.700 │\n",
      "│ ’Ayn Bni Mathar  │         -89.200 │          -16.095 │          56.700 │\n",
      "│ ’Tlat Bni Oukil  │         -89.200 │          -16.256 │          56.700 │\n",
      "├──────────────────┴─────────────────┴──────────────────┴─────────────────┤\n",
      "│ 8854 rows (20 shown)                                          4 columns │\n",
      "└─────────────────────────────────────────────────────────────────────────┘\n",
      "\n",
      "duckdb_df Tempo de processamento: 20.785 segundos\n"
     ]
    }
   ],
   "source": [
    "# Duckdb => script para caluclar min, max e mean em um bilhão de linhas.\n",
    "import duckdb\n",
    "@timer_to_csv\n",
    "def duckdb_df():\n",
    "    duckdb.sql(\"\"\"\n",
    "        SELECT city,\n",
    "            MIN(temp) AS min_temperature,\n",
    "            CAST(AVG(temp) AS DECIMAL()) AS mean_temperature,\n",
    "            MAX(temp) AS max_temperature\n",
    "        FROM read_csv(\"data/measurements.txt\", AUTO_DETECT=FALSE, sep=';', columns={'city':VARCHAR, 'temp': 'DECIMAL'})\n",
    "        GROUP BY city\n",
    "        ORDER BY city\n",
    "    \"\"\").show()\n",
    "\n",
    "if __name__ == \"__main__\":\n",
    "    duckdb_df()   "
   ]
  },
  {
   "cell_type": "code",
   "execution_count": 44,
   "id": "d4d06b82-0eb9-4580-9d56-1588a191dc2a",
   "metadata": {},
   "outputs": [
    {
     "data": {
      "application/vnd.jupyter.widget-view+json": {
       "model_id": "23735b7ab7bc48aaae92f70a09121d91",
       "version_major": 2,
       "version_minor": 0
      },
      "text/plain": [
       "FloatProgress(value=0.0, layout=Layout(width='auto'), style=ProgressStyle(bar_color='black'))"
      ]
     },
     "metadata": {},
     "output_type": "display_data"
    },
    {
     "data": {
      "text/html": [
       "<div>\n",
       "<style scoped>\n",
       "    .dataframe tbody tr th:only-of-type {\n",
       "        vertical-align: middle;\n",
       "    }\n",
       "\n",
       "    .dataframe tbody tr th {\n",
       "        vertical-align: top;\n",
       "    }\n",
       "\n",
       "    .dataframe thead th {\n",
       "        text-align: right;\n",
       "    }\n",
       "</style>\n",
       "<table border=\"1\" class=\"dataframe\">\n",
       "  <thead>\n",
       "    <tr style=\"text-align: right;\">\n",
       "      <th></th>\n",
       "      <th>city</th>\n",
       "      <th>min_temperature</th>\n",
       "      <th>mean_temperature</th>\n",
       "      <th>max_temperature</th>\n",
       "    </tr>\n",
       "  </thead>\n",
       "  <tbody>\n",
       "    <tr>\n",
       "      <th>0</th>\n",
       "      <td>A Coruña</td>\n",
       "      <td>-89.2</td>\n",
       "      <td>-16.285</td>\n",
       "      <td>56.7</td>\n",
       "    </tr>\n",
       "    <tr>\n",
       "      <th>1</th>\n",
       "      <td>Aachen</td>\n",
       "      <td>-89.2</td>\n",
       "      <td>-16.263</td>\n",
       "      <td>56.7</td>\n",
       "    </tr>\n",
       "    <tr>\n",
       "      <th>2</th>\n",
       "      <td>Aalst</td>\n",
       "      <td>-89.2</td>\n",
       "      <td>-16.487</td>\n",
       "      <td>56.7</td>\n",
       "    </tr>\n",
       "    <tr>\n",
       "      <th>3</th>\n",
       "      <td>Aarau</td>\n",
       "      <td>-89.2</td>\n",
       "      <td>-16.132</td>\n",
       "      <td>56.7</td>\n",
       "    </tr>\n",
       "    <tr>\n",
       "      <th>4</th>\n",
       "      <td>Abaré</td>\n",
       "      <td>-89.2</td>\n",
       "      <td>-16.397</td>\n",
       "      <td>56.7</td>\n",
       "    </tr>\n",
       "    <tr>\n",
       "      <th>...</th>\n",
       "      <td>...</td>\n",
       "      <td>...</td>\n",
       "      <td>...</td>\n",
       "      <td>...</td>\n",
       "    </tr>\n",
       "    <tr>\n",
       "      <th>8849</th>\n",
       "      <td>‘Alīābād-e Katūl</td>\n",
       "      <td>-89.2</td>\n",
       "      <td>-16.229</td>\n",
       "      <td>56.7</td>\n",
       "    </tr>\n",
       "    <tr>\n",
       "      <th>8850</th>\n",
       "      <td>‘Amrān</td>\n",
       "      <td>-89.2</td>\n",
       "      <td>-16.081</td>\n",
       "      <td>56.7</td>\n",
       "    </tr>\n",
       "    <tr>\n",
       "      <th>8851</th>\n",
       "      <td>‘Anadān</td>\n",
       "      <td>-89.2</td>\n",
       "      <td>-16.288</td>\n",
       "      <td>56.7</td>\n",
       "    </tr>\n",
       "    <tr>\n",
       "      <th>8852</th>\n",
       "      <td>’Ayn Bni Mathar</td>\n",
       "      <td>-89.2</td>\n",
       "      <td>-16.095</td>\n",
       "      <td>56.7</td>\n",
       "    </tr>\n",
       "    <tr>\n",
       "      <th>8853</th>\n",
       "      <td>’Tlat Bni Oukil</td>\n",
       "      <td>-89.2</td>\n",
       "      <td>-16.256</td>\n",
       "      <td>56.7</td>\n",
       "    </tr>\n",
       "  </tbody>\n",
       "</table>\n",
       "<p>8854 rows × 4 columns</p>\n",
       "</div>"
      ],
      "text/plain": [
       "                  city  min_temperature  mean_temperature  max_temperature\n",
       "0             A Coruña            -89.2           -16.285             56.7\n",
       "1               Aachen            -89.2           -16.263             56.7\n",
       "2                Aalst            -89.2           -16.487             56.7\n",
       "3                Aarau            -89.2           -16.132             56.7\n",
       "4                Abaré            -89.2           -16.397             56.7\n",
       "...                ...              ...               ...              ...\n",
       "8849  ‘Alīābād-e Katūl            -89.2           -16.229             56.7\n",
       "8850            ‘Amrān            -89.2           -16.081             56.7\n",
       "8851           ‘Anadān            -89.2           -16.288             56.7\n",
       "8852   ’Ayn Bni Mathar            -89.2           -16.095             56.7\n",
       "8853   ’Tlat Bni Oukil            -89.2           -16.256             56.7\n",
       "\n",
       "[8854 rows x 4 columns]"
      ]
     },
     "metadata": {},
     "output_type": "display_data"
    },
    {
     "name": "stdout",
     "output_type": "stream",
     "text": [
      "create_duckdb Tempo de processamento:21.364 segundos\n"
     ]
    }
   ],
   "source": [
    "import duckdb\n",
    "@timer\n",
    "def create_duckdb(): \n",
    "    conn = duckdb.connect(':memory:')\n",
    "    start_time = time.time()\n",
    "    display(conn.execute(\"\"\"\n",
    "            SELECT city,\n",
    "                MIN(temp) AS min_temperature,\n",
    "                CAST(AVG(temp) AS DECIMAL()) AS mean_temperature,\n",
    "                MAX(temp) AS max_temperature\n",
    "            FROM read_csv(\"data/measurements.txt\", AUTO_DETECT=FALSE, sep=';', columns={'city':VARCHAR, 'temp': 'DECIMAL'})\n",
    "            GROUP BY city\n",
    "            ORDER BY city\n",
    "        \"\"\").df())\n",
    "    \n",
    "if __name__ == \"__main__\":\n",
    "    create_duckdb()   "
   ]
  },
  {
   "cell_type": "markdown",
   "id": "215a87d1-37ef-4def-960f-1e885b6008cd",
   "metadata": {
    "jp-MarkdownHeadingCollapsed": true
   },
   "source": [
    "## Dask - min, max e mean em 1 bilhão de linhas"
   ]
  },
  {
   "cell_type": "code",
   "execution_count": null,
   "id": "99cd03e5-8f9e-4f2c-9397-91d7fc3dfc19",
   "metadata": {},
   "outputs": [],
   "source": [
    "#necessário Instalar.\n",
    "!pip install dask-expr"
   ]
  },
  {
   "cell_type": "code",
   "execution_count": 46,
   "id": "1f02dcf6-7633-4b3a-b68e-4d7a9c50a810",
   "metadata": {},
   "outputs": [
    {
     "data": {
      "text/html": [
       "<div>\n",
       "<style scoped>\n",
       "    .dataframe tbody tr th:only-of-type {\n",
       "        vertical-align: middle;\n",
       "    }\n",
       "\n",
       "    .dataframe tbody tr th {\n",
       "        vertical-align: top;\n",
       "    }\n",
       "\n",
       "    .dataframe thead tr th {\n",
       "        text-align: left;\n",
       "    }\n",
       "\n",
       "    .dataframe thead tr:last-of-type th {\n",
       "        text-align: right;\n",
       "    }\n",
       "</style>\n",
       "<table border=\"1\" class=\"dataframe\">\n",
       "  <thead>\n",
       "    <tr>\n",
       "      <th></th>\n",
       "      <th colspan=\"3\" halign=\"left\">temp</th>\n",
       "    </tr>\n",
       "    <tr>\n",
       "      <th></th>\n",
       "      <th>max</th>\n",
       "      <th>min</th>\n",
       "      <th>mean</th>\n",
       "    </tr>\n",
       "    <tr>\n",
       "      <th>city</th>\n",
       "      <th></th>\n",
       "      <th></th>\n",
       "      <th></th>\n",
       "    </tr>\n",
       "  </thead>\n",
       "  <tbody>\n",
       "    <tr>\n",
       "      <th>A Coruña</th>\n",
       "      <td>56.7</td>\n",
       "      <td>-89.2</td>\n",
       "      <td>-16.284529</td>\n",
       "    </tr>\n",
       "    <tr>\n",
       "      <th>Aachen</th>\n",
       "      <td>56.7</td>\n",
       "      <td>-89.2</td>\n",
       "      <td>-16.263415</td>\n",
       "    </tr>\n",
       "    <tr>\n",
       "      <th>Aalst</th>\n",
       "      <td>56.7</td>\n",
       "      <td>-89.2</td>\n",
       "      <td>-16.487183</td>\n",
       "    </tr>\n",
       "    <tr>\n",
       "      <th>Aarau</th>\n",
       "      <td>56.7</td>\n",
       "      <td>-89.2</td>\n",
       "      <td>-16.132312</td>\n",
       "    </tr>\n",
       "    <tr>\n",
       "      <th>Abaré</th>\n",
       "      <td>56.7</td>\n",
       "      <td>-89.2</td>\n",
       "      <td>-16.397278</td>\n",
       "    </tr>\n",
       "    <tr>\n",
       "      <th>...</th>\n",
       "      <td>...</td>\n",
       "      <td>...</td>\n",
       "      <td>...</td>\n",
       "    </tr>\n",
       "    <tr>\n",
       "      <th>‘Alīābād-e Katūl</th>\n",
       "      <td>56.7</td>\n",
       "      <td>-89.2</td>\n",
       "      <td>-16.228978</td>\n",
       "    </tr>\n",
       "    <tr>\n",
       "      <th>‘Amrān</th>\n",
       "      <td>56.7</td>\n",
       "      <td>-89.2</td>\n",
       "      <td>-16.081336</td>\n",
       "    </tr>\n",
       "    <tr>\n",
       "      <th>‘Anadān</th>\n",
       "      <td>56.7</td>\n",
       "      <td>-89.2</td>\n",
       "      <td>-16.288188</td>\n",
       "    </tr>\n",
       "    <tr>\n",
       "      <th>’Ayn Bni Mathar</th>\n",
       "      <td>56.7</td>\n",
       "      <td>-89.2</td>\n",
       "      <td>-16.094876</td>\n",
       "    </tr>\n",
       "    <tr>\n",
       "      <th>’Tlat Bni Oukil</th>\n",
       "      <td>56.7</td>\n",
       "      <td>-89.2</td>\n",
       "      <td>-16.255552</td>\n",
       "    </tr>\n",
       "  </tbody>\n",
       "</table>\n",
       "<p>8854 rows × 3 columns</p>\n",
       "</div>"
      ],
      "text/plain": [
       "                  temp                 \n",
       "                   max   min       mean\n",
       "city                                   \n",
       "A Coruña          56.7 -89.2 -16.284529\n",
       "Aachen            56.7 -89.2 -16.263415\n",
       "Aalst             56.7 -89.2 -16.487183\n",
       "Aarau             56.7 -89.2 -16.132312\n",
       "Abaré             56.7 -89.2 -16.397278\n",
       "...                ...   ...        ...\n",
       "‘Alīābād-e Katūl  56.7 -89.2 -16.228978\n",
       "‘Amrān            56.7 -89.2 -16.081336\n",
       "‘Anadān           56.7 -89.2 -16.288188\n",
       "’Ayn Bni Mathar   56.7 -89.2 -16.094876\n",
       "’Tlat Bni Oukil   56.7 -89.2 -16.255552\n",
       "\n",
       "[8854 rows x 3 columns]"
      ]
     },
     "metadata": {},
     "output_type": "display_data"
    },
    {
     "name": "stdout",
     "output_type": "stream",
     "text": [
      "dask_df Tempo de processamento: 6 minutos 28 segundos\n"
     ]
    }
   ],
   "source": [
    "# Dask => script para caluclar min, max e mean em um bilhão de linhas.\n",
    "import dask\n",
    "dask.config.set({'dataframe.query-planning': True})\n",
    "import dask.dataframe as dd\n",
    "@timer_to_csv\n",
    "def dask_df():    \n",
    "    # Ler o arquivo txt diretamente em um DataFrame Dask\n",
    "    df = dd.read_csv('data/measurements.txt', delimiter=';', header=None, names=['city', 'temp'])\n",
    "    # min, max, e mean pela cidade ordenado pelo index\n",
    "    return display(df.groupby('city').agg({'temp': ['max','min','mean']}).compute().sort_index())\n",
    "\n",
    "if __name__ == \"__main__\":\n",
    "    dask_df()  \n"
   ]
  },
  {
   "cell_type": "code",
   "execution_count": 13,
   "id": "260f2322-7eb5-429b-bd4d-c8ffddbe6325",
   "metadata": {},
   "outputs": [
    {
     "name": "stdout",
     "output_type": "stream",
     "text": [
      "               measure                \n",
      "                   max   min      mean\n",
      "station                               \n",
      "Aabenraa          99.9 -99.9 -0.062295\n",
      "Aalten            99.9 -99.9 -0.161752\n",
      "Abadiânia         99.9 -99.9 -0.052772\n",
      "Abalessa          99.9 -99.9  0.211089\n",
      "Abangaritos       99.9 -99.9  0.063772\n",
      "...                ...   ...       ...\n",
      "’Aïn Abessa       99.9 -99.9 -0.013338\n",
      "’Aïn Azel         99.9 -99.9 -0.040762\n",
      "’Aïn Roua         99.9 -99.9 -0.026898\n",
      "’s-Gravenzande    99.9 -99.9 -0.080973\n",
      "’s-Heerenberg     99.9 -99.9  0.168265\n",
      "\n",
      "[8836 rows x 3 columns]\n",
      "create_dask Tempo de processamento:7 minutos 47 segundos\n"
     ]
    }
   ],
   "source": [
    "import dask\n",
    "dask.config.set({'dataframe.query-planning': True})\n",
    "import dask.dataframe as dd\n",
    "@timer\n",
    "def create_dask():    \n",
    "    # Ler o arquivo txt diretamente em um DataFrame Dask\n",
    "    df = dd.read_csv('data/measurements.txt', delimiter=';', header=None, names=['city', 'temp'])\n",
    "    # min, max, e mean pela cidade ordenado pelo index\n",
    "    print(df.groupby('city').\n",
    "    agg({'temp': ['max','min','mean']}).\n",
    "    compute().\n",
    "    sort_index())\n",
    "if __name__ == \"__main__\":\n",
    "    create_dask() \n",
    "    "
   ]
  },
  {
   "cell_type": "code",
   "execution_count": null,
   "id": "06d595f9-cc87-4855-b977-1cc10cab90c8",
   "metadata": {},
   "outputs": [],
   "source": []
  },
  {
   "cell_type": "markdown",
   "id": "e6d5a641-c514-4c94-a368-64424d857d9a",
   "metadata": {
    "jp-MarkdownHeadingCollapsed": true
   },
   "source": [
    "## Pyspark - min, max e mean em 1 bilhão de linhas."
   ]
  },
  {
   "cell_type": "code",
   "execution_count": null,
   "id": "b29f73b4-0590-48b2-9bce-0409c9aea24b",
   "metadata": {},
   "outputs": [],
   "source": [
    "#instalação da lib\n",
    "!poetry add pyspark"
   ]
  },
  {
   "cell_type": "code",
   "execution_count": 47,
   "id": "3950ab52-82b6-4f9a-8a6b-d9afefc2aa67",
   "metadata": {
    "scrolled": true
   },
   "outputs": [
    {
     "name": "stderr",
     "output_type": "stream",
     "text": [
      "24/03/18 17:49:19 WARN Utils: Your hostname, DESKTOP-AN64GAS resolves to a loopback address: 127.0.1.1; using 172.25.237.139 instead (on interface eth0)\n",
      "24/03/18 17:49:19 WARN Utils: Set SPARK_LOCAL_IP if you need to bind to another address\n",
      "Setting default log level to \"WARN\".\n",
      "To adjust logging level use sc.setLogLevel(newLevel). For SparkR, use setLogLevel(newLevel).\n",
      "24/03/18 17:49:21 WARN NativeCodeLoader: Unable to load native-hadoop library for your platform... using builtin-java classes where applicable\n",
      "[Stage 1:=====================================================> (116 + 3) / 119]\r"
     ]
    },
    {
     "name": "stdout",
     "output_type": "stream",
     "text": [
      "+------------+---------------+---------------+-------------------+\n",
      "|        City|Min Temperature|Max Temperature|    Avg Temperature|\n",
      "+------------+---------------+---------------+-------------------+\n",
      "|    A Coruña|          -89.2|           56.7|-16.284528545505232|\n",
      "|      Aachen|          -89.2|           56.7|-16.263414704742242|\n",
      "|       Aalst|          -89.2|           56.7| -16.48718319995992|\n",
      "|       Aarau|          -89.2|           56.7| -16.13231175768937|\n",
      "|       Abaré|          -89.2|           56.7|-16.397278180070117|\n",
      "|   Abbeville|          -89.2|           56.7|-16.166808968891303|\n",
      "|  Abbotsford|          -89.2|           56.7|-16.416303099194135|\n",
      "| Aberbargoed|          -89.2|           56.7|-16.126617025138096|\n",
      "|     Abidjan|          -89.2|           56.7|-16.135589951217774|\n",
      "|    Abingdon|          -89.2|           56.7| -16.24833997159865|\n",
      "|        Ablu|          -89.2|           56.7|-16.183003286616323|\n",
      "|       Abony|          -89.2|           56.7|-16.258345914991583|\n",
      "|     Absecon|          -89.2|           56.7|-16.352200107649303|\n",
      "|       Abuja|          -89.2|           56.7| -16.38235452638886|\n",
      "|       Abunã|          -89.2|           56.7|-15.964044859634097|\n",
      "|      Abuyog|          -89.2|           56.7| -16.21111858645468|\n",
      "|Abū Ḩulayfah|          -89.2|           56.7|-16.413436543658467|\n",
      "|  Acapetahua|          -89.2|           56.7| -16.31576112153317|\n",
      "|     Acarlar|          -89.2|           56.7|-15.995272368339302|\n",
      "|       Acará|          -89.2|           56.7|  -16.2552093852284|\n",
      "+------------+---------------+---------------+-------------------+\n",
      "only showing top 20 rows\n",
      "\n",
      "pyspark_df Tempo de processamento: 3 minutos 18 segundos\n"
     ]
    },
    {
     "name": "stderr",
     "output_type": "stream",
     "text": [
      "                                                                                \r"
     ]
    }
   ],
   "source": [
    "# Pyspark => script para caluclar min, max e mean em um bilhão de linhas.\n",
    "from pyspark.sql import SparkSession\n",
    "from pyspark.sql.functions import col, min as spark_min, max as spark_max, avg as spark_avg\n",
    "@timer_to_csv\n",
    "def pyspark_df():     \n",
    "    # Inicializar uma sessão Spark\n",
    "    spark = SparkSession.builder \\\n",
    "        .appName(\"Temperature Analysis\") \\\n",
    "        .getOrCreate()\n",
    "    \n",
    "    # Ler o arquivo CSV diretamente em um DataFrame Spark\n",
    "    df = spark.read.option(\"header\", \"false\").option(\"delimiter\", \";\").csv(\"data/measurements.txt\") \\\n",
    "        .toDF(\"City\", \"Temperature\")\n",
    "    \n",
    "    # Converter a coluna 'Temperature' para tipo numérico\n",
    "    df = df.withColumn(\"Temperature\", col(\"Temperature\").cast(\"float\"))\n",
    "    \n",
    "    # Calcular estatísticas usando Spark SQL\n",
    "    statistics = df.groupBy(\"City\") \\\n",
    "        .agg(spark_min(\"Temperature\").alias(\"Min Temperature\"),\n",
    "             spark_max(\"Temperature\").alias(\"Max Temperature\"),\n",
    "             spark_avg(\"Temperature\").alias(\"Avg Temperature\"))\n",
    "    \n",
    "    # Ordenar as estatísticas pela cidade\n",
    "    statistics_sorted = statistics.orderBy(\"City\")\n",
    "    \n",
    "    # Mostrar as estatísticas\n",
    "    return statistics_sorted.show()\n",
    "    \n",
    "    # Encerrar a sessão Spark\n",
    "    # spark.stop()\n",
    "\n",
    "if __name__ == \"__main__\":\n",
    "    pyspark_df()  \n"
   ]
  },
  {
   "cell_type": "markdown",
   "id": "1cf2b54f-3cd0-4b33-9781-e1b2a8a2c66d",
   "metadata": {
    "jp-MarkdownHeadingCollapsed": true
   },
   "source": [
    "## Vaex - min, max e mean em 1 bilhão de linhas."
   ]
  },
  {
   "cell_type": "markdown",
   "id": "e0111eb8-99c0-46a2-a91a-b8378f7ddbf0",
   "metadata": {},
   "source": [
    "* **Para utilizar o Vaex foi necessário selecionar outro kernel com python 3.10.13.**"
   ]
  },
  {
   "cell_type": "code",
   "execution_count": 2,
   "id": "6b2e662f-d655-4479-85d8-595a8d1455df",
   "metadata": {},
   "outputs": [
    {
     "name": "stdout",
     "output_type": "stream",
     "text": [
      "Python 3.10.13\n"
     ]
    }
   ],
   "source": [
    "!python --version"
   ]
  },
  {
   "cell_type": "code",
   "execution_count": 54,
   "id": "bc87d1a2-852f-4c65-bd6e-215faf967407",
   "metadata": {},
   "outputs": [
    {
     "data": {
      "text/html": [
       "<table>\n",
       "<thead>\n",
       "<tr><th>#                                 </th><th>station         </th><th>measure_min  </th><th>measure_max  </th><th>measure_mean      </th></tr>\n",
       "</thead>\n",
       "<tbody>\n",
       "<tr><td><i style='opacity: 0.6'>0</i>     </td><td>South Dana      </td><td>-45.4        </td><td>96.7         </td><td>34.13404255319149 </td></tr>\n",
       "<tr><td><i style='opacity: 0.6'>1</i>     </td><td>Benjaminborough </td><td>-47.8        </td><td>98.0         </td><td>27.29387755102041 </td></tr>\n",
       "<tr><td><i style='opacity: 0.6'>2</i>     </td><td>New Ashley      </td><td>-47.9        </td><td>99.8         </td><td>39.13777777777778 </td></tr>\n",
       "<tr><td><i style='opacity: 0.6'>3</i>     </td><td>South Angela    </td><td>-48.5        </td><td>99.9         </td><td>45.92227488151659 </td></tr>\n",
       "<tr><td><i style='opacity: 0.6'>4</i>     </td><td>West Pamela     </td><td>-44.1        </td><td>95.4         </td><td>38.808045977011496</td></tr>\n",
       "<tr><td>...                               </td><td>...             </td><td>...          </td><td>...          </td><td>...               </td></tr>\n",
       "<tr><td><i style='opacity: 0.6'>91,357</i></td><td>New Rickyfort   </td><td>95.0         </td><td>95.0         </td><td>95.0              </td></tr>\n",
       "<tr><td><i style='opacity: 0.6'>91,358</i></td><td>South Ruthfort  </td><td>41.0         </td><td>41.0         </td><td>41.0              </td></tr>\n",
       "<tr><td><i style='opacity: 0.6'>91,359</i></td><td>Lake Biancafort </td><td>86.4         </td><td>86.4         </td><td>86.4              </td></tr>\n",
       "<tr><td><i style='opacity: 0.6'>91,360</i></td><td>Port Selenamouth</td><td>-46.7        </td><td>-46.7        </td><td>-46.7             </td></tr>\n",
       "<tr><td><i style='opacity: 0.6'>91,361</i></td><td>North Haroldland</td><td>93.4         </td><td>93.4         </td><td>93.4              </td></tr>\n",
       "</tbody>\n",
       "</table>"
      ],
      "text/plain": [
       "#       station           measure_min    measure_max    measure_mean\n",
       "0       South Dana        -45.4          96.7           34.13404255319149\n",
       "1       Benjaminborough   -47.8          98.0           27.29387755102041\n",
       "2       New Ashley        -47.9          99.8           39.13777777777778\n",
       "3       South Angela      -48.5          99.9           45.92227488151659\n",
       "4       West Pamela       -44.1          95.4           38.808045977011496\n",
       "...     ...               ...            ...            ...\n",
       "91,357  New Rickyfort     95.0           95.0           95.0\n",
       "91,358  South Ruthfort    41.0           41.0           41.0\n",
       "91,359  Lake Biancafort   86.4           86.4           86.4\n",
       "91,360  Port Selenamouth  -46.7          -46.7          -46.7\n",
       "91,361  North Haroldland  93.4           93.4           93.4"
      ]
     },
     "metadata": {},
     "output_type": "display_data"
    },
    {
     "name": "stdout",
     "output_type": "stream",
     "text": [
      "create_vaex Tempo de processamento:0.943 segundos\n"
     ]
    }
   ],
   "source": [
    "# Vaex => script para caluclar min, max e mean.\n",
    "import vaex\n",
    "@timer\n",
    "def create_vaex(filename):\n",
    "    # Leitura do arquivo CSV utilizando Vaex\n",
    "    df = vaex.from_csv(filename, names=['city', 'temp'], sep=';')\n",
    "\n",
    "    # Cálculo das estatísticas\n",
    "    combined_results = df.groupby(df['city']).agg({'temp': ['min', 'max', 'mean']})\n",
    "\n",
    "    # Exibição dos resultados\n",
    "    return display(combined_results)\n",
    "   \n",
    "if __name__ == \"__main__\":\n",
    "    filename = \"data/tempments1.txt\"\n",
    "    create_vaex(filename)\n"
   ]
  },
  {
   "cell_type": "code",
   "execution_count": 47,
   "id": "fb494d83-fade-4295-9c41-7f96103f6983",
   "metadata": {},
   "outputs": [
    {
     "name": "stdout",
     "output_type": "stream",
     "text": [
      "Converting csv to chunk files\n",
      "Saved chunk #0 to data/measurements.txt_chunk_0.hdf5\n",
      "Saved chunk #1 to data/measurements.txt_chunk_1.hdf5\n",
      "Saved chunk #2 to data/measurements.txt_chunk_2.hdf5\n",
      "Saved chunk #3 to data/measurements.txt_chunk_3.hdf5\n",
      "Saved chunk #4 to data/measurements.txt_chunk_4.hdf5\n",
      "Saved chunk #5 to data/measurements.txt_chunk_5.hdf5\n",
      "Saved chunk #6 to data/measurements.txt_chunk_6.hdf5\n",
      "Saved chunk #7 to data/measurements.txt_chunk_7.hdf5\n",
      "Saved chunk #8 to data/measurements.txt_chunk_8.hdf5\n",
      "Saved chunk #9 to data/measurements.txt_chunk_9.hdf5\n",
      "Saved chunk #10 to data/measurements.txt_chunk_10.hdf5\n",
      "Saved chunk #11 to data/measurements.txt_chunk_11.hdf5\n",
      "Saved chunk #12 to data/measurements.txt_chunk_12.hdf5\n",
      "Saved chunk #13 to data/measurements.txt_chunk_13.hdf5\n",
      "Saved chunk #14 to data/measurements.txt_chunk_14.hdf5\n",
      "Saved chunk #15 to data/measurements.txt_chunk_15.hdf5\n",
      "Saved chunk #16 to data/measurements.txt_chunk_16.hdf5\n",
      "Saved chunk #17 to data/measurements.txt_chunk_17.hdf5\n",
      "Saved chunk #18 to data/measurements.txt_chunk_18.hdf5\n",
      "Saved chunk #19 to data/measurements.txt_chunk_19.hdf5\n",
      "Saved chunk #20 to data/measurements.txt_chunk_20.hdf5\n",
      "Saved chunk #21 to data/measurements.txt_chunk_21.hdf5\n",
      "Saved chunk #22 to data/measurements.txt_chunk_22.hdf5\n",
      "Saved chunk #23 to data/measurements.txt_chunk_23.hdf5\n",
      "Saved chunk #24 to data/measurements.txt_chunk_24.hdf5\n",
      "Saved chunk #25 to data/measurements.txt_chunk_25.hdf5\n",
      "Saved chunk #26 to data/measurements.txt_chunk_26.hdf5\n",
      "Saved chunk #27 to data/measurements.txt_chunk_27.hdf5\n",
      "Saved chunk #28 to data/measurements.txt_chunk_28.hdf5\n",
      "Saved chunk #29 to data/measurements.txt_chunk_29.hdf5\n",
      "Saved chunk #30 to data/measurements.txt_chunk_30.hdf5\n",
      "Saved chunk #31 to data/measurements.txt_chunk_31.hdf5\n",
      "Saved chunk #32 to data/measurements.txt_chunk_32.hdf5\n",
      "Saved chunk #33 to data/measurements.txt_chunk_33.hdf5\n",
      "Saved chunk #34 to data/measurements.txt_chunk_34.hdf5\n",
      "Saved chunk #35 to data/measurements.txt_chunk_35.hdf5\n",
      "Saved chunk #36 to data/measurements.txt_chunk_36.hdf5\n",
      "Saved chunk #37 to data/measurements.txt_chunk_37.hdf5\n",
      "Saved chunk #38 to data/measurements.txt_chunk_38.hdf5\n",
      "Saved chunk #39 to data/measurements.txt_chunk_39.hdf5\n",
      "Saved chunk #40 to data/measurements.txt_chunk_40.hdf5\n",
      "Saved chunk #41 to data/measurements.txt_chunk_41.hdf5\n",
      "Saved chunk #42 to data/measurements.txt_chunk_42.hdf5\n",
      "Saved chunk #43 to data/measurements.txt_chunk_43.hdf5\n",
      "Saved chunk #44 to data/measurements.txt_chunk_44.hdf5\n",
      "Saved chunk #45 to data/measurements.txt_chunk_45.hdf5\n",
      "Saved chunk #46 to data/measurements.txt_chunk_46.hdf5\n",
      "Saved chunk #47 to data/measurements.txt_chunk_47.hdf5\n",
      "Saved chunk #48 to data/measurements.txt_chunk_48.hdf5\n",
      "Saved chunk #49 to data/measurements.txt_chunk_49.hdf5\n",
      "Saved chunk #50 to data/measurements.txt_chunk_50.hdf5\n",
      "Saved chunk #51 to data/measurements.txt_chunk_51.hdf5\n",
      "Saved chunk #52 to data/measurements.txt_chunk_52.hdf5\n",
      "Saved chunk #53 to data/measurements.txt_chunk_53.hdf5\n",
      "Saved chunk #54 to data/measurements.txt_chunk_54.hdf5\n",
      "Saved chunk #55 to data/measurements.txt_chunk_55.hdf5\n",
      "Saved chunk #56 to data/measurements.txt_chunk_56.hdf5\n",
      "Saved chunk #57 to data/measurements.txt_chunk_57.hdf5\n",
      "Saved chunk #58 to data/measurements.txt_chunk_58.hdf5\n",
      "Saved chunk #59 to data/measurements.txt_chunk_59.hdf5\n",
      "Saved chunk #60 to data/measurements.txt_chunk_60.hdf5\n",
      "Saved chunk #61 to data/measurements.txt_chunk_61.hdf5\n",
      "Saved chunk #62 to data/measurements.txt_chunk_62.hdf5\n",
      "Saved chunk #63 to data/measurements.txt_chunk_63.hdf5\n",
      "Saved chunk #64 to data/measurements.txt_chunk_64.hdf5\n",
      "Saved chunk #65 to data/measurements.txt_chunk_65.hdf5\n",
      "Saved chunk #66 to data/measurements.txt_chunk_66.hdf5\n",
      "Saved chunk #67 to data/measurements.txt_chunk_67.hdf5\n",
      "Saved chunk #68 to data/measurements.txt_chunk_68.hdf5\n",
      "Saved chunk #69 to data/measurements.txt_chunk_69.hdf5\n",
      "Saved chunk #70 to data/measurements.txt_chunk_70.hdf5\n",
      "Saved chunk #71 to data/measurements.txt_chunk_71.hdf5\n",
      "Saved chunk #72 to data/measurements.txt_chunk_72.hdf5\n",
      "Saved chunk #73 to data/measurements.txt_chunk_73.hdf5\n",
      "Saved chunk #74 to data/measurements.txt_chunk_74.hdf5\n",
      "Saved chunk #75 to data/measurements.txt_chunk_75.hdf5\n",
      "Saved chunk #76 to data/measurements.txt_chunk_76.hdf5\n",
      "Saved chunk #77 to data/measurements.txt_chunk_77.hdf5\n",
      "Saved chunk #78 to data/measurements.txt_chunk_78.hdf5\n",
      "Saved chunk #79 to data/measurements.txt_chunk_79.hdf5\n",
      "Saved chunk #80 to data/measurements.txt_chunk_80.hdf5\n",
      "Saved chunk #81 to data/measurements.txt_chunk_81.hdf5\n",
      "Saved chunk #82 to data/measurements.txt_chunk_82.hdf5\n",
      "Saved chunk #83 to data/measurements.txt_chunk_83.hdf5\n",
      "Saved chunk #84 to data/measurements.txt_chunk_84.hdf5\n",
      "Saved chunk #85 to data/measurements.txt_chunk_85.hdf5\n",
      "Saved chunk #86 to data/measurements.txt_chunk_86.hdf5\n",
      "Saved chunk #87 to data/measurements.txt_chunk_87.hdf5\n",
      "Saved chunk #88 to data/measurements.txt_chunk_88.hdf5\n",
      "Saved chunk #89 to data/measurements.txt_chunk_89.hdf5\n",
      "Saved chunk #90 to data/measurements.txt_chunk_90.hdf5\n",
      "Saved chunk #91 to data/measurements.txt_chunk_91.hdf5\n",
      "Saved chunk #92 to data/measurements.txt_chunk_92.hdf5\n",
      "Saved chunk #93 to data/measurements.txt_chunk_93.hdf5\n",
      "Saved chunk #94 to data/measurements.txt_chunk_94.hdf5\n",
      "Saved chunk #95 to data/measurements.txt_chunk_95.hdf5\n",
      "Saved chunk #96 to data/measurements.txt_chunk_96.hdf5\n",
      "Saved chunk #97 to data/measurements.txt_chunk_97.hdf5\n",
      "Saved chunk #98 to data/measurements.txt_chunk_98.hdf5\n",
      "Saved chunk #99 to data/measurements.txt_chunk_99.hdf5\n",
      "Converting 100 chunks into single file data/measurements.txt.hdf5\n",
      "export(hdf5) [########################################] 100.00% elapsed time  :   198.26s =  3.3m =  0.1h h                  \n",
      " "
     ]
    }
   ],
   "source": [
    "df = vaex.from_csv('data/measurements.txt', names=['city', 'temp'], sep=';',convert=True,chunk_size=10_000_000 , progress=True)"
   ]
  },
  {
   "cell_type": "code",
   "execution_count": 56,
   "id": "44b95d1e-4445-4dd4-bb9c-5a5937ddcaed",
   "metadata": {},
   "outputs": [
    {
     "data": {
      "text/html": [
       "<table>\n",
       "<thead>\n",
       "<tr><th>#                                </th><th>station       </th><th>measure_min  </th><th>measure_max  </th><th>measure_mean         </th></tr>\n",
       "</thead>\n",
       "<tbody>\n",
       "<tr><td><i style='opacity: 0.6'>0</i>    </td><td>Aabenraa      </td><td>-99.9        </td><td>99.9         </td><td>-0.062294754104918   </td></tr>\n",
       "<tr><td><i style='opacity: 0.6'>1</i>    </td><td>Aalten        </td><td>-99.9        </td><td>99.9         </td><td>-0.16175191675246645 </td></tr>\n",
       "<tr><td><i style='opacity: 0.6'>2</i>    </td><td>Abadiânia     </td><td>-99.9        </td><td>99.9         </td><td>-0.0527721562105517  </td></tr>\n",
       "<tr><td><i style='opacity: 0.6'>3</i>    </td><td>Abalessa      </td><td>-99.9        </td><td>99.9         </td><td>0.21108942210476792  </td></tr>\n",
       "<tr><td><i style='opacity: 0.6'>4</i>    </td><td>Abangaritos   </td><td>-99.9        </td><td>99.9         </td><td>0.06377211442610778  </td></tr>\n",
       "<tr><td>...                              </td><td>...           </td><td>...          </td><td>...          </td><td>...                  </td></tr>\n",
       "<tr><td><i style='opacity: 0.6'>8,831</i></td><td>’Aïn Abessa   </td><td>-99.9        </td><td>99.9         </td><td>-0.013338384996559474</td></tr>\n",
       "<tr><td><i style='opacity: 0.6'>8,832</i></td><td>’Aïn Azel     </td><td>-99.9        </td><td>99.9         </td><td>-0.040762228668600346</td></tr>\n",
       "<tr><td><i style='opacity: 0.6'>8,833</i></td><td>’Aïn Roua     </td><td>-99.9        </td><td>99.9         </td><td>-0.02689839143166584 </td></tr>\n",
       "<tr><td><i style='opacity: 0.6'>8,834</i></td><td>’s-Gravenzande</td><td>-99.9        </td><td>99.9         </td><td>-0.0809733627077911  </td></tr>\n",
       "<tr><td><i style='opacity: 0.6'>8,835</i></td><td>’s-Heerenberg </td><td>-99.9        </td><td>99.9         </td><td>0.16826510134457162  </td></tr>\n",
       "</tbody>\n",
       "</table>"
      ],
      "text/plain": [
       "#      station         measure_min    measure_max    measure_mean\n",
       "0      Aabenraa        -99.9          99.9           -0.062294754104918\n",
       "1      Aalten          -99.9          99.9           -0.16175191675246645\n",
       "2      Abadiânia       -99.9          99.9           -0.0527721562105517\n",
       "3      Abalessa        -99.9          99.9           0.21108942210476792\n",
       "4      Abangaritos     -99.9          99.9           0.06377211442610778\n",
       "...    ...             ...            ...            ...\n",
       "8,831  ’Aïn Abessa     -99.9          99.9           -0.013338384996559474\n",
       "8,832  ’Aïn Azel       -99.9          99.9           -0.040762228668600346\n",
       "8,833  ’Aïn Roua       -99.9          99.9           -0.02689839143166584\n",
       "8,834  ’s-Gravenzande  -99.9          99.9           -0.0809733627077911\n",
       "8,835  ’s-Heerenberg   -99.9          99.9           0.16826510134457162"
      ]
     },
     "metadata": {},
     "output_type": "display_data"
    },
    {
     "name": "stdout",
     "output_type": "stream",
     "text": [
      "create_vaex Tempo de processamento:47.454 segundos\n"
     ]
    }
   ],
   "source": [
    "# Vaex => script para caluclar min, max e mean em um bilhão de linhas.\n",
    "import vaex\n",
    "@timer_to_csv\n",
    "def vaex_df(filename):\n",
    "    # Leitura do arquivo CSV utilizando Vaex\n",
    "    df = vaex.open(filename)\n",
    "\n",
    "    # Cálculo das estatísticas\n",
    "    combined_results = df.groupby(df['city']).agg({'temp': ['min', 'max', 'mean']})\n",
    "    \n",
    "    # Ordenar por 'city'\n",
    "    combined_results = combined_results.sort(by='city')\n",
    "\n",
    "    # Exibição dos resultados\n",
    "    return display(combined_results)\n",
    "   \n",
    "if __name__ == \"__main__\":\n",
    "    filename = \"data/measurements.txt\"\n",
    "    vaex_df(filename)\n"
   ]
  },
  {
   "cell_type": "code",
   "execution_count": null,
   "id": "1cbf1f1e-efaa-4bde-b541-d1ab1e36d4a8",
   "metadata": {},
   "outputs": [],
   "source": []
  },
  {
   "cell_type": "markdown",
   "id": "3e3e549a-a6eb-47fb-af6c-273174f288c4",
   "metadata": {},
   "source": [
    "## cuDF com pandas via GPU"
   ]
  },
  {
   "cell_type": "code",
   "execution_count": 3,
   "id": "7ab3c819-0818-4ee5-b9a0-4ab180eb3384",
   "metadata": {},
   "outputs": [
    {
     "name": "stdout",
     "output_type": "stream",
     "text": [
      "Python 3.11.3\n"
     ]
    }
   ],
   "source": [
    "#verificando a versão do python para esse estudo.\n",
    "!python --version"
   ]
  },
  {
   "cell_type": "code",
   "execution_count": 37,
   "id": "0bce2ec8-d937-437b-87a7-0bf7f2fe4296",
   "metadata": {},
   "outputs": [
    {
     "data": {
      "text/plain": [
       "['/home/jcnok/bootcamps/bootcamp-jornada-de-dados_2024/.venv/lib/python3.11/site-packages']"
      ]
     },
     "execution_count": 37,
     "metadata": {},
     "output_type": "execute_result"
    }
   ],
   "source": [
    "# Verificando se o ambiente virtual foi setado corretamente.\n",
    "import site\n",
    "site.getsitepackages()"
   ]
  },
  {
   "cell_type": "markdown",
   "id": "10e02e54-5975-4862-b7fe-275f37311550",
   "metadata": {},
   "source": [
    "* **Para a leitura para 10 milhões de linha foi extremamente rápido, porém para 1 bilhão a memória não suportou.**"
   ]
  },
  {
   "cell_type": "code",
   "execution_count": 42,
   "id": "9e9a4784-5d7a-4e9f-abb4-b2e69fee5fef",
   "metadata": {},
   "outputs": [
    {
     "name": "stdout",
     "output_type": "stream",
     "text": [
      "             measure                 \n",
      "                 min   max       mean\n",
      "station                              \n",
      "Aaronberg      -48.6  99.4  37.065909\n",
      "Aaronborough   -46.4  98.4  38.725000\n",
      "Aaronburgh     -45.4  92.0  33.942000\n",
      "Aaronbury      -47.3  98.7  53.363636\n",
      "Aaronchester   -49.9  98.8  43.383333\n",
      "...              ...   ...        ...\n",
      "Zunigastad     -13.7  57.8  17.450000\n",
      "Zunigaton      -44.7  86.1  29.414286\n",
      "Zunigatown      45.2  99.4  68.266667\n",
      "Zunigaview      -4.1  86.5  60.760000\n",
      "Zunigaville     -2.1  57.1  38.450000\n",
      "\n",
      "[91362 rows x 3 columns]\n",
      "create_cudf Tempo de processamento:0.163 segundos\n"
     ]
    }
   ],
   "source": [
    "import cudf\n",
    "@timer\n",
    "def create_cudf(filename):\n",
    "    \n",
    "    # Carregar o arquivo CSV e criar os cabeçalhos 'city' e 'temp'\n",
    "    df = cudf.read_csv(filename, header=None, sep=';', names=['city', 'temp'])\n",
    "    \n",
    "    # Agrupar por 'city' e calcular o 'min', 'max' e 'mean' da coluna 'temp'\n",
    "    grouped_df = df.groupby('city').agg({'temp': ['min', 'max', 'mean']})\n",
    "    \n",
    "    # Ordenar o DataFrame pelo índice (city)\n",
    "    result = grouped_df.sort_index()     \n",
    "    \n",
    "    # retorna o resultado\n",
    "    return print(result)\n",
    "\n",
    "if __name__ == \"__main__\":\n",
    "    filename = \"data/tempments1.txt\"\n",
    "    create_cudf(filename)\n"
   ]
  },
  {
   "cell_type": "code",
   "execution_count": 48,
   "id": "a47fc4a6-f170-4067-9af5-977bcb0f4171",
   "metadata": {},
   "outputs": [
    {
     "ename": "TypeError",
     "evalue": "expected string or bytes-like object, got 'NoneType'",
     "output_type": "error",
     "traceback": [
      "\u001b[0;31m---------------------------------------------------------------------------\u001b[0m",
      "\u001b[0;31mTypeError\u001b[0m                                 Traceback (most recent call last)",
      "File \u001b[0;32m<timed exec>:1\u001b[0m\n",
      "File \u001b[0;32m~/bootcamps/bootcamp-jornada-de-dados_2024/.venv/lib/python3.11/site-packages/dask_cudf/__init__.py:7\u001b[0m\n\u001b[1;32m      3\u001b[0m \u001b[38;5;28;01mfrom\u001b[39;00m \u001b[38;5;21;01mdask\u001b[39;00m\u001b[38;5;21;01m.\u001b[39;00m\u001b[38;5;21;01mdataframe\u001b[39;00m \u001b[38;5;28;01mimport\u001b[39;00m from_delayed\n\u001b[1;32m      5\u001b[0m \u001b[38;5;28;01mimport\u001b[39;00m \u001b[38;5;21;01mcudf\u001b[39;00m\n\u001b[0;32m----> 7\u001b[0m \u001b[38;5;28;01mfrom\u001b[39;00m \u001b[38;5;21;01m.\u001b[39;00m \u001b[38;5;28;01mimport\u001b[39;00m backends\n\u001b[1;32m      8\u001b[0m \u001b[38;5;28;01mfrom\u001b[39;00m \u001b[38;5;21;01m.\u001b[39;00m\u001b[38;5;21;01m_version\u001b[39;00m \u001b[38;5;28;01mimport\u001b[39;00m __git_commit__, __version__\n\u001b[1;32m      9\u001b[0m \u001b[38;5;28;01mfrom\u001b[39;00m \u001b[38;5;21;01m.\u001b[39;00m\u001b[38;5;21;01mcore\u001b[39;00m \u001b[38;5;28;01mimport\u001b[39;00m DataFrame, Series, concat, from_cudf, from_dask_dataframe\n",
      "File \u001b[0;32m~/bootcamps/bootcamp-jornada-de-dados_2024/.venv/lib/python3.11/site-packages/dask_cudf/backends.py:47\u001b[0m\n\u001b[1;32m     44\u001b[0m \u001b[38;5;28;01mfrom\u001b[39;00m \u001b[38;5;21;01mcudf\u001b[39;00m\u001b[38;5;21;01m.\u001b[39;00m\u001b[38;5;21;01mapi\u001b[39;00m\u001b[38;5;21;01m.\u001b[39;00m\u001b[38;5;21;01mtypes\u001b[39;00m \u001b[38;5;28;01mimport\u001b[39;00m is_string_dtype\n\u001b[1;32m     45\u001b[0m \u001b[38;5;28;01mfrom\u001b[39;00m \u001b[38;5;21;01mcudf\u001b[39;00m\u001b[38;5;21;01m.\u001b[39;00m\u001b[38;5;21;01mutils\u001b[39;00m\u001b[38;5;21;01m.\u001b[39;00m\u001b[38;5;21;01mnvtx_annotation\u001b[39;00m \u001b[38;5;28;01mimport\u001b[39;00m _dask_cudf_nvtx_annotate\n\u001b[0;32m---> 47\u001b[0m \u001b[38;5;28;01mfrom\u001b[39;00m \u001b[38;5;21;01m.\u001b[39;00m\u001b[38;5;21;01mcore\u001b[39;00m \u001b[38;5;28;01mimport\u001b[39;00m DataFrame, Index, Series\n\u001b[1;32m     49\u001b[0m get_parallel_type\u001b[38;5;241m.\u001b[39mregister(cudf\u001b[38;5;241m.\u001b[39mDataFrame, \u001b[38;5;28;01mlambda\u001b[39;00m _: DataFrame)\n\u001b[1;32m     50\u001b[0m get_parallel_type\u001b[38;5;241m.\u001b[39mregister(cudf\u001b[38;5;241m.\u001b[39mSeries, \u001b[38;5;28;01mlambda\u001b[39;00m _: Series)\n",
      "File \u001b[0;32m~/bootcamps/bootcamp-jornada-de-dados_2024/.venv/lib/python3.11/site-packages/dask_cudf/core.py:714\u001b[0m\n\u001b[1;32m    693\u001b[0m     name \u001b[38;5;241m=\u001b[39m name \u001b[38;5;129;01mor\u001b[39;00m (\u001b[38;5;124m\"\u001b[39m\u001b[38;5;124mfrom_cudf-\u001b[39m\u001b[38;5;124m\"\u001b[39m \u001b[38;5;241m+\u001b[39m tokenize(data, npartitions \u001b[38;5;129;01mor\u001b[39;00m chunksize))\n\u001b[1;32m    694\u001b[0m     \u001b[38;5;28;01mreturn\u001b[39;00m dd\u001b[38;5;241m.\u001b[39mfrom_pandas(\n\u001b[1;32m    695\u001b[0m         data,\n\u001b[1;32m    696\u001b[0m         npartitions\u001b[38;5;241m=\u001b[39mnpartitions,\n\u001b[0;32m   (...)\u001b[0m\n\u001b[1;32m    699\u001b[0m         name\u001b[38;5;241m=\u001b[39mname,\n\u001b[1;32m    700\u001b[0m     )\n\u001b[1;32m    703\u001b[0m from_cudf\u001b[38;5;241m.\u001b[39m\u001b[38;5;18m__doc__\u001b[39m \u001b[38;5;241m=\u001b[39m (\n\u001b[1;32m    704\u001b[0m     textwrap\u001b[38;5;241m.\u001b[39mdedent(\n\u001b[1;32m    705\u001b[0m \u001b[38;5;250m        \u001b[39m\u001b[38;5;124;03m\"\"\"\u001b[39;00m\n\u001b[1;32m    706\u001b[0m \u001b[38;5;124;03m        Create a :class:`.DataFrame` from a :class:`cudf.DataFrame`.\u001b[39;00m\n\u001b[1;32m    707\u001b[0m \n\u001b[1;32m    708\u001b[0m \u001b[38;5;124;03m        This function is a thin wrapper around\u001b[39;00m\n\u001b[1;32m    709\u001b[0m \u001b[38;5;124;03m        :func:`dask.dataframe.from_pandas`, accepting the same\u001b[39;00m\n\u001b[1;32m    710\u001b[0m \u001b[38;5;124;03m        arguments (described below) excepting that it operates on cuDF\u001b[39;00m\n\u001b[1;32m    711\u001b[0m \u001b[38;5;124;03m        rather than pandas objects.\\n\u001b[39;00m\n\u001b[1;32m    712\u001b[0m \u001b[38;5;124;03m        \"\"\"\u001b[39;00m\n\u001b[1;32m    713\u001b[0m     )\n\u001b[0;32m--> 714\u001b[0m     \u001b[38;5;241m+\u001b[39m \u001b[43mtextwrap\u001b[49m\u001b[38;5;241;43m.\u001b[39;49m\u001b[43mdedent\u001b[49m\u001b[43m(\u001b[49m\u001b[43mdd\u001b[49m\u001b[38;5;241;43m.\u001b[39;49m\u001b[43mfrom_pandas\u001b[49m\u001b[38;5;241;43m.\u001b[39;49m\u001b[38;5;18;43m__doc__\u001b[39;49m\u001b[43m)\u001b[49m\n\u001b[1;32m    715\u001b[0m )\n\u001b[1;32m    718\u001b[0m \u001b[38;5;129m@_dask_cudf_nvtx_annotate\u001b[39m\n\u001b[1;32m    719\u001b[0m \u001b[38;5;28;01mdef\u001b[39;00m \u001b[38;5;21mfrom_dask_dataframe\u001b[39m(df):\n\u001b[1;32m    720\u001b[0m \u001b[38;5;250m    \u001b[39m\u001b[38;5;124;03m\"\"\"\u001b[39;00m\n\u001b[1;32m    721\u001b[0m \u001b[38;5;124;03m    Convert a Dask :class:`dask.dataframe.DataFrame` to a Dask-cuDF\u001b[39;00m\n\u001b[1;32m    722\u001b[0m \u001b[38;5;124;03m    one.\u001b[39;00m\n\u001b[0;32m   (...)\u001b[0m\n\u001b[1;32m    731\u001b[0m \u001b[38;5;124;03m    dask_cudf.DataFrame : A new Dask collection backed by cuDF objects\u001b[39;00m\n\u001b[1;32m    732\u001b[0m \u001b[38;5;124;03m    \"\"\"\u001b[39;00m\n",
      "File \u001b[0;32m~/.pyenv/versions/3.11.3/lib/python3.11/textwrap.py:435\u001b[0m, in \u001b[0;36mdedent\u001b[0;34m(text)\u001b[0m\n\u001b[1;32m    432\u001b[0m \u001b[38;5;66;03m# Look for the longest leading string of spaces and tabs common to\u001b[39;00m\n\u001b[1;32m    433\u001b[0m \u001b[38;5;66;03m# all lines.\u001b[39;00m\n\u001b[1;32m    434\u001b[0m margin \u001b[38;5;241m=\u001b[39m \u001b[38;5;28;01mNone\u001b[39;00m\n\u001b[0;32m--> 435\u001b[0m text \u001b[38;5;241m=\u001b[39m \u001b[43m_whitespace_only_re\u001b[49m\u001b[38;5;241;43m.\u001b[39;49m\u001b[43msub\u001b[49m\u001b[43m(\u001b[49m\u001b[38;5;124;43m'\u001b[39;49m\u001b[38;5;124;43m'\u001b[39;49m\u001b[43m,\u001b[49m\u001b[43m \u001b[49m\u001b[43mtext\u001b[49m\u001b[43m)\u001b[49m\n\u001b[1;32m    436\u001b[0m indents \u001b[38;5;241m=\u001b[39m _leading_whitespace_re\u001b[38;5;241m.\u001b[39mfindall(text)\n\u001b[1;32m    437\u001b[0m \u001b[38;5;28;01mfor\u001b[39;00m indent \u001b[38;5;129;01min\u001b[39;00m indents:\n",
      "\u001b[0;31mTypeError\u001b[0m: expected string or bytes-like object, got 'NoneType'"
     ]
    }
   ],
   "source": [
    "%%time\n",
    "import dask_cudf as dc\n",
    "\n",
    "# Carregar o arquivo csv em um dataframe dask_cudf\n",
    "df = dc.read_csv('data/measurements.txt',sep=';', header=None, names=['city', 'temp'], dtype=['str', 'float32'], blocksize='1024 Mib')\n",
    "\n",
    "# Agrupar pela coluna 'city' e calcular min, max e mean da coluna 'temp'\n",
    "grouped_df = df.groupby('city').agg({'temp': ['min', 'max', 'mean']}).compute()\n",
    "\n",
    "# Ordenar pelo 'city'\n",
    "sorted_df = grouped_df.sort_index()\n",
    "\n",
    "# Imprimir as 5 primeiras e últimas linhas\n",
    "display(sorted_df)\n",
    "#print(sorted_df.tail(5))\n"
   ]
  },
  {
   "cell_type": "markdown",
   "id": "670c59e4-a3d7-4caa-a681-0e05cae2b033",
   "metadata": {},
   "source": [
    "## Dask_cudf com GPU"
   ]
  },
  {
   "cell_type": "code",
   "execution_count": 3,
   "id": "b3389d4f-d044-450e-8bfe-9e955a9df3bd",
   "metadata": {},
   "outputs": [
    {
     "data": {
      "text/plain": [
       "24"
      ]
     },
     "execution_count": 3,
     "metadata": {},
     "output_type": "execute_result"
    }
   ],
   "source": [
    "# Definindo a quantidad de workers, geralmente a mesma quantidade de threads ou nucleos para processamento em CPU\n",
    "# Informa os threads da maquina.\n",
    "from multiprocessing import cpu_count\n",
    "cpu_count()"
   ]
  },
  {
   "cell_type": "code",
   "execution_count": 6,
   "id": "20065cee-efaf-4257-838e-ba9870e06811",
   "metadata": {},
   "outputs": [],
   "source": [
    "import dask"
   ]
  },
  {
   "cell_type": "code",
   "execution_count": 7,
   "id": "5f6d67cb-08c1-4025-8e33-66b942b4268f",
   "metadata": {},
   "outputs": [
    {
     "data": {
      "text/plain": [
       "<dask.config.set at 0x7f2c102bf690>"
      ]
     },
     "execution_count": 7,
     "metadata": {},
     "output_type": "execute_result"
    }
   ],
   "source": [
    "dask.config.set({'dataframe.query-planning': True})"
   ]
  },
  {
   "cell_type": "code",
   "execution_count": 11,
   "id": "1fe9f5c5-a252-48b5-866e-e133ba5794d0",
   "metadata": {},
   "outputs": [],
   "source": [
    "# Definindo o cluster para usar gpu.ascii"
   ]
  },
  {
   "cell_type": "code",
   "execution_count": 5,
   "id": "04c44b4f-8b3a-4180-aa99-b8de66caab06",
   "metadata": {},
   "outputs": [
    {
     "name": "stderr",
     "output_type": "stream",
     "text": [
      "/home/jcnok/bootcamps/bootcamp-jornada-de-dados_2024/.venv/lib/python3.11/site-packages/dask_cuda/utils.py:170: UserWarning: Cannot get CPU affinity for device with index 0, setting default affinity\n",
      "  warnings.warn(\n",
      "2024-03-18 18:13:54,564 - distributed.nanny - WARNING - Restarting worker\n",
      "2024-03-18 18:13:54,602 - distributed.nanny - WARNING - Restarting worker\n",
      "2024-03-18 18:13:54,930 - distributed.nanny - WARNING - Restarting worker\n",
      "2024-03-18 18:13:55,952 - distributed.nanny - WARNING - Restarting worker\n"
     ]
    }
   ],
   "source": [
    "from dask.distributed import Client\n",
    "from dask_cuda import LocalCUDACluster\n",
    "# create a local CUDA cluster\n",
    "cluster = LocalCUDACluster()\n",
    "client = Client(cluster)\n"
   ]
  },
  {
   "cell_type": "code",
   "execution_count": 6,
   "id": "bafbcda4-b8da-4f1d-bde5-09697fc102f4",
   "metadata": {},
   "outputs": [
    {
     "data": {
      "text/html": [
       "<div>\n",
       "    <div style=\"width: 24px; height: 24px; background-color: #e1e1e1; border: 3px solid #9D9D9D; border-radius: 5px; position: absolute;\"> </div>\n",
       "    <div style=\"margin-left: 48px;\">\n",
       "        <h3 style=\"margin-bottom: 0px;\">Client</h3>\n",
       "        <p style=\"color: #9D9D9D; margin-bottom: 0px;\">Client-e418d4b6-e56a-11ee-86ec-61815e453d1b</p>\n",
       "        <table style=\"width: 100%; text-align: left;\">\n",
       "\n",
       "        <tr>\n",
       "        \n",
       "            <td style=\"text-align: left;\"><strong>Connection method:</strong> Cluster object</td>\n",
       "            <td style=\"text-align: left;\"><strong>Cluster type:</strong> dask_cuda.LocalCUDACluster</td>\n",
       "        \n",
       "        </tr>\n",
       "\n",
       "        \n",
       "            <tr>\n",
       "                <td style=\"text-align: left;\">\n",
       "                    <strong>Dashboard: </strong> <a href=\"http://127.0.0.1:8787/status\" target=\"_blank\">http://127.0.0.1:8787/status</a>\n",
       "                </td>\n",
       "                <td style=\"text-align: left;\"></td>\n",
       "            </tr>\n",
       "        \n",
       "\n",
       "        </table>\n",
       "\n",
       "        \n",
       "\n",
       "        \n",
       "            <details>\n",
       "            <summary style=\"margin-bottom: 20px;\"><h3 style=\"display: inline;\">Cluster Info</h3></summary>\n",
       "            <div class=\"jp-RenderedHTMLCommon jp-RenderedHTML jp-mod-trusted jp-OutputArea-output\">\n",
       "    <div style=\"width: 24px; height: 24px; background-color: #e1e1e1; border: 3px solid #9D9D9D; border-radius: 5px; position: absolute;\">\n",
       "    </div>\n",
       "    <div style=\"margin-left: 48px;\">\n",
       "        <h3 style=\"margin-bottom: 0px; margin-top: 0px;\">LocalCUDACluster</h3>\n",
       "        <p style=\"color: #9D9D9D; margin-bottom: 0px;\">91d5781a</p>\n",
       "        <table style=\"width: 100%; text-align: left;\">\n",
       "            <tr>\n",
       "                <td style=\"text-align: left;\">\n",
       "                    <strong>Dashboard:</strong> <a href=\"http://127.0.0.1:8787/status\" target=\"_blank\">http://127.0.0.1:8787/status</a>\n",
       "                </td>\n",
       "                <td style=\"text-align: left;\">\n",
       "                    <strong>Workers:</strong> 1\n",
       "                </td>\n",
       "            </tr>\n",
       "            <tr>\n",
       "                <td style=\"text-align: left;\">\n",
       "                    <strong>Total threads:</strong> 1\n",
       "                </td>\n",
       "                <td style=\"text-align: left;\">\n",
       "                    <strong>Total memory:</strong> 11.68 GiB\n",
       "                </td>\n",
       "            </tr>\n",
       "            \n",
       "            <tr>\n",
       "    <td style=\"text-align: left;\"><strong>Status:</strong> running</td>\n",
       "    <td style=\"text-align: left;\"><strong>Using processes:</strong> True</td>\n",
       "</tr>\n",
       "\n",
       "            \n",
       "        </table>\n",
       "\n",
       "        <details>\n",
       "            <summary style=\"margin-bottom: 20px;\">\n",
       "                <h3 style=\"display: inline;\">Scheduler Info</h3>\n",
       "            </summary>\n",
       "\n",
       "            <div style=\"\">\n",
       "    <div>\n",
       "        <div style=\"width: 24px; height: 24px; background-color: #FFF7E5; border: 3px solid #FF6132; border-radius: 5px; position: absolute;\"> </div>\n",
       "        <div style=\"margin-left: 48px;\">\n",
       "            <h3 style=\"margin-bottom: 0px;\">Scheduler</h3>\n",
       "            <p style=\"color: #9D9D9D; margin-bottom: 0px;\">Scheduler-107b734b-cbf5-490c-a15b-d6128b4e9faf</p>\n",
       "            <table style=\"width: 100%; text-align: left;\">\n",
       "                <tr>\n",
       "                    <td style=\"text-align: left;\">\n",
       "                        <strong>Comm:</strong> tcp://127.0.0.1:33209\n",
       "                    </td>\n",
       "                    <td style=\"text-align: left;\">\n",
       "                        <strong>Workers:</strong> 1\n",
       "                    </td>\n",
       "                </tr>\n",
       "                <tr>\n",
       "                    <td style=\"text-align: left;\">\n",
       "                        <strong>Dashboard:</strong> <a href=\"http://127.0.0.1:8787/status\" target=\"_blank\">http://127.0.0.1:8787/status</a>\n",
       "                    </td>\n",
       "                    <td style=\"text-align: left;\">\n",
       "                        <strong>Total threads:</strong> 1\n",
       "                    </td>\n",
       "                </tr>\n",
       "                <tr>\n",
       "                    <td style=\"text-align: left;\">\n",
       "                        <strong>Started:</strong> Just now\n",
       "                    </td>\n",
       "                    <td style=\"text-align: left;\">\n",
       "                        <strong>Total memory:</strong> 11.68 GiB\n",
       "                    </td>\n",
       "                </tr>\n",
       "            </table>\n",
       "        </div>\n",
       "    </div>\n",
       "\n",
       "    <details style=\"margin-left: 48px;\">\n",
       "        <summary style=\"margin-bottom: 20px;\">\n",
       "            <h3 style=\"display: inline;\">Workers</h3>\n",
       "        </summary>\n",
       "\n",
       "        \n",
       "        <div style=\"margin-bottom: 20px;\">\n",
       "            <div style=\"width: 24px; height: 24px; background-color: #DBF5FF; border: 3px solid #4CC9FF; border-radius: 5px; position: absolute;\"> </div>\n",
       "            <div style=\"margin-left: 48px;\">\n",
       "            <details>\n",
       "                <summary>\n",
       "                    <h4 style=\"margin-bottom: 0px; display: inline;\">Worker: 0</h4>\n",
       "                </summary>\n",
       "                <table style=\"width: 100%; text-align: left;\">\n",
       "                    <tr>\n",
       "                        <td style=\"text-align: left;\">\n",
       "                            <strong>Comm: </strong> tcp://127.0.0.1:46597\n",
       "                        </td>\n",
       "                        <td style=\"text-align: left;\">\n",
       "                            <strong>Total threads: </strong> 1\n",
       "                        </td>\n",
       "                    </tr>\n",
       "                    <tr>\n",
       "                        <td style=\"text-align: left;\">\n",
       "                            <strong>Dashboard: </strong> <a href=\"http://127.0.0.1:38711/status\" target=\"_blank\">http://127.0.0.1:38711/status</a>\n",
       "                        </td>\n",
       "                        <td style=\"text-align: left;\">\n",
       "                            <strong>Memory: </strong> 11.68 GiB\n",
       "                        </td>\n",
       "                    </tr>\n",
       "                    <tr>\n",
       "                        <td style=\"text-align: left;\">\n",
       "                            <strong>Nanny: </strong> tcp://127.0.0.1:34823\n",
       "                        </td>\n",
       "                        <td style=\"text-align: left;\"></td>\n",
       "                    </tr>\n",
       "                    <tr>\n",
       "                        <td colspan=\"2\" style=\"text-align: left;\">\n",
       "                            <strong>Local directory: </strong> /tmp/dask-scratch-space/worker-_fx1g215\n",
       "                        </td>\n",
       "                    </tr>\n",
       "\n",
       "                    \n",
       "\n",
       "                    \n",
       "\n",
       "                </table>\n",
       "            </details>\n",
       "            </div>\n",
       "        </div>\n",
       "        \n",
       "\n",
       "    </details>\n",
       "</div>\n",
       "\n",
       "        </details>\n",
       "    </div>\n",
       "</div>\n",
       "            </details>\n",
       "        \n",
       "\n",
       "    </div>\n",
       "</div>"
      ],
      "text/plain": [
       "<Client: 'tcp://127.0.0.1:33209' processes=1 threads=1, memory=11.68 GiB>"
      ]
     },
     "execution_count": 6,
     "metadata": {},
     "output_type": "execute_result"
    }
   ],
   "source": [
    "#Exibe o link para monitorar o cluster criado;\n",
    "cluster.get_client()"
   ]
  },
  {
   "cell_type": "code",
   "execution_count": null,
   "id": "648d5a5f-617a-4027-a261-b0aef8d47b2d",
   "metadata": {},
   "outputs": [],
   "source": [
    "# no bash pode digitar o comando abaixo para acompanhar o uso da gpu:\n",
    "$ watch -n 1 nvidia-smi"
   ]
  },
  {
   "cell_type": "code",
   "execution_count": 1,
   "id": "5418a47b-7d1f-4b08-aca6-ae8e58b8a114",
   "metadata": {},
   "outputs": [
    {
     "name": "stdout",
     "output_type": "stream",
     "text": [
      "\n",
      "\u001b[34mUpdating dependencies\u001b[39m\n",
      "\u001b[2K\u001b[34mResolving dependencies...\u001b[39m \u001b[39;2m(1.3s)\u001b[39;22m\u001b[34mResolving dependencies...\u001b[39m \u001b[39;2m(1.0s)\u001b[39;22m\n",
      "\n",
      "\u001b[39;1mPackage operations\u001b[39;22m: \u001b[34m0\u001b[39m installs, \u001b[34m3\u001b[39m updates, \u001b[34m0\u001b[39m removals\n",
      "\n",
      "  \u001b[34;1m•\u001b[39;22m \u001b[39mDowngrading \u001b[39m\u001b[36mdask\u001b[39m\u001b[39m (\u001b[39m\u001b[39;1m2024.2.1\u001b[39;22m\u001b[39m -> \u001b[39m\u001b[39;1m2024.1.1\u001b[39;22m\u001b[39m)\u001b[39m: \u001b[34mPending...\u001b[39m\n",
      "  \u001b[34;1m•\u001b[39;22m \u001b[39mUpdating \u001b[39m\u001b[36mpyarrow\u001b[39m\u001b[39m (\u001b[39m\u001b[39;1m11.0.0\u001b[39;22m\u001b[39m -> \u001b[39m\u001b[39;1m14.0.1\u001b[39;22m\u001b[39m)\u001b[39m: \u001b[34mPending...\u001b[39m\n",
      "\u001b[1A\u001b[0J  \u001b[34;1m•\u001b[39;22m \u001b[39mUpdating \u001b[39m\u001b[36mpyarrow\u001b[39m\u001b[39m (\u001b[39m\u001b[39;1m11.0.0\u001b[39;22m\u001b[39m -> \u001b[39m\u001b[39;1m14.0.1\u001b[39;22m\u001b[39m)\u001b[39m: \u001b[34mDownloading...\u001b[39m \u001b[39;1m0%\u001b[39;22m\n",
      "\u001b[2A\u001b[0J  \u001b[34;1m•\u001b[39;22m \u001b[39mUpdating \u001b[39m\u001b[36mpyarrow\u001b[39m\u001b[39m (\u001b[39m\u001b[39;1m11.0.0\u001b[39;22m\u001b[39m -> \u001b[39m\u001b[39;1m14.0.1\u001b[39;22m\u001b[39m)\u001b[39m: \u001b[34mDownloading...\u001b[39m \u001b[39;1m0%\u001b[39;22m\n",
      "\u001b[1A\u001b[0J  \u001b[34;1m•\u001b[39;22m \u001b[39mDowngrading \u001b[39m\u001b[36mdask\u001b[39m\u001b[39m (\u001b[39m\u001b[39;1m2024.2.1\u001b[39;22m\u001b[39m -> \u001b[39m\u001b[39;1m2024.1.1\u001b[39;22m\u001b[39m)\u001b[39m: \u001b[34mDownloading...\u001b[39m \u001b[39;1m0%\u001b[39;22m\n",
      "  \u001b[34;1m•\u001b[39;22m \u001b[39mUpdating \u001b[39m\u001b[36mpyarrow\u001b[39m\u001b[39m (\u001b[39m\u001b[39;1m11.0.0\u001b[39;22m\u001b[39m -> \u001b[39m\u001b[39;1m14.0.1\u001b[39;22m\u001b[39m)\u001b[39m: \u001b[34mDownloading...\u001b[39m \u001b[39;1m0%\u001b[39;22m\n",
      "\u001b[2A\u001b[0J  \u001b[34;1m•\u001b[39;22m \u001b[39mUpdating \u001b[39m\u001b[36mpyarrow\u001b[39m\u001b[39m (\u001b[39m\u001b[39;1m11.0.0\u001b[39;22m\u001b[39m -> \u001b[39m\u001b[39;1m14.0.1\u001b[39;22m\u001b[39m)\u001b[39m: \u001b[34mDownloading...\u001b[39m \u001b[39;1m0%\u001b[39;22m\n",
      "\u001b[1A\u001b[0J  \u001b[34;1m•\u001b[39;22m \u001b[39mDowngrading \u001b[39m\u001b[36mdask\u001b[39m\u001b[39m (\u001b[39m\u001b[39;1m2024.2.1\u001b[39;22m\u001b[39m -> \u001b[39m\u001b[39;1m2024.1.1\u001b[39;22m\u001b[39m)\u001b[39m: \u001b[34mDownloading...\u001b[39m \u001b[39;1m50%\u001b[39;22m\n",
      "  \u001b[34;1m•\u001b[39;22m \u001b[39mUpdating \u001b[39m\u001b[36mpyarrow\u001b[39m\u001b[39m (\u001b[39m\u001b[39;1m11.0.0\u001b[39;22m\u001b[39m -> \u001b[39m\u001b[39;1m14.0.1\u001b[39;22m\u001b[39m)\u001b[39m: \u001b[34mDownloading...\u001b[39m \u001b[39;1m0%\u001b[39;22m\n",
      "\u001b[2A\u001b[0J  \u001b[34;1m•\u001b[39;22m \u001b[39mUpdating \u001b[39m\u001b[36mpyarrow\u001b[39m\u001b[39m (\u001b[39m\u001b[39;1m11.0.0\u001b[39;22m\u001b[39m -> \u001b[39m\u001b[39;1m14.0.1\u001b[39;22m\u001b[39m)\u001b[39m: \u001b[34mDownloading...\u001b[39m \u001b[39;1m0%\u001b[39;22m\n",
      "\u001b[1A\u001b[0J  \u001b[34;1m•\u001b[39;22m \u001b[39mDowngrading \u001b[39m\u001b[36mdask\u001b[39m\u001b[39m (\u001b[39m\u001b[39;1m2024.2.1\u001b[39;22m\u001b[39m -> \u001b[39m\u001b[39;1m2024.1.1\u001b[39;22m\u001b[39m)\u001b[39m: \u001b[34mDownloading...\u001b[39m \u001b[39;1m100%\u001b[39;22m\n",
      "  \u001b[34;1m•\u001b[39;22m \u001b[39mUpdating \u001b[39m\u001b[36mpyarrow\u001b[39m\u001b[39m (\u001b[39m\u001b[39;1m11.0.0\u001b[39;22m\u001b[39m -> \u001b[39m\u001b[39;1m14.0.1\u001b[39;22m\u001b[39m)\u001b[39m: \u001b[34mDownloading...\u001b[39m \u001b[39;1m0%\u001b[39;22m\n",
      "\u001b[2A\u001b[0J  \u001b[34;1m•\u001b[39;22m \u001b[39mUpdating \u001b[39m\u001b[36mpyarrow\u001b[39m\u001b[39m (\u001b[39m\u001b[39;1m11.0.0\u001b[39;22m\u001b[39m -> \u001b[39m\u001b[39;1m14.0.1\u001b[39;22m\u001b[39m)\u001b[39m: \u001b[34mDownloading...\u001b[39m \u001b[39;1m0%\u001b[39;22m\n",
      "\u001b[1A\u001b[0J  \u001b[34;1m•\u001b[39;22m \u001b[39mDowngrading \u001b[39m\u001b[36mdask\u001b[39m\u001b[39m (\u001b[39m\u001b[39;1m2024.2.1\u001b[39;22m\u001b[39m -> \u001b[39m\u001b[39;1m2024.1.1\u001b[39;22m\u001b[39m)\u001b[39m: \u001b[34mInstalling...\u001b[39m\n",
      "  \u001b[34;1m•\u001b[39;22m \u001b[39mUpdating \u001b[39m\u001b[36mpyarrow\u001b[39m\u001b[39m (\u001b[39m\u001b[39;1m11.0.0\u001b[39;22m\u001b[39m -> \u001b[39m\u001b[39;1m14.0.1\u001b[39;22m\u001b[39m)\u001b[39m: \u001b[34mDownloading...\u001b[39m \u001b[39;1m0%\u001b[39;22m\n",
      "\u001b[1A\u001b[0J  \u001b[34;1m•\u001b[39;22m \u001b[39mUpdating \u001b[39m\u001b[36mpyarrow\u001b[39m\u001b[39m (\u001b[39m\u001b[39;1m11.0.0\u001b[39;22m\u001b[39m -> \u001b[39m\u001b[39;1m14.0.1\u001b[39;22m\u001b[39m)\u001b[39m: \u001b[34mDownloading...\u001b[39m \u001b[39;1m10%\u001b[39;22m\n",
      "\u001b[1A\u001b[0J  \u001b[34;1m•\u001b[39;22m \u001b[39mUpdating \u001b[39m\u001b[36mpyarrow\u001b[39m\u001b[39m (\u001b[39m\u001b[39;1m11.0.0\u001b[39;22m\u001b[39m -> \u001b[39m\u001b[39;1m14.0.1\u001b[39;22m\u001b[39m)\u001b[39m: \u001b[34mDownloading...\u001b[39m \u001b[39;1m20%\u001b[39;22m\n",
      "\u001b[1A\u001b[0J  \u001b[34;1m•\u001b[39;22m \u001b[39mUpdating \u001b[39m\u001b[36mpyarrow\u001b[39m\u001b[39m (\u001b[39m\u001b[39;1m11.0.0\u001b[39;22m\u001b[39m -> \u001b[39m\u001b[39;1m14.0.1\u001b[39;22m\u001b[39m)\u001b[39m: \u001b[34mDownloading...\u001b[39m \u001b[39;1m30%\u001b[39;22m\n",
      "\u001b[1A\u001b[0J  \u001b[34;1m•\u001b[39;22m \u001b[39mUpdating \u001b[39m\u001b[36mpyarrow\u001b[39m\u001b[39m (\u001b[39m\u001b[39;1m11.0.0\u001b[39;22m\u001b[39m -> \u001b[39m\u001b[39;1m14.0.1\u001b[39;22m\u001b[39m)\u001b[39m: \u001b[34mDownloading...\u001b[39m \u001b[39;1m40%\u001b[39;22m\n",
      "\u001b[2A\u001b[0J  \u001b[34;1m•\u001b[39;22m \u001b[39mUpdating \u001b[39m\u001b[36mpyarrow\u001b[39m\u001b[39m (\u001b[39m\u001b[39;1m11.0.0\u001b[39;22m\u001b[39m -> \u001b[39m\u001b[39;1m14.0.1\u001b[39;22m\u001b[39m)\u001b[39m: \u001b[34mDownloading...\u001b[39m \u001b[39;1m40%\u001b[39;22m\n",
      "\u001b[1A\u001b[0J  \u001b[32;1m•\u001b[39;22m \u001b[39mDowngrading \u001b[39m\u001b[36mdask\u001b[39m\u001b[39m (\u001b[39m\u001b[39;1m2024.2.1\u001b[39;22m\u001b[39m -> \u001b[39m\u001b[32m2024.1.1\u001b[39m\u001b[39m)\u001b[39m\n",
      "  \u001b[34;1m•\u001b[39;22m \u001b[39mUpdating \u001b[39m\u001b[36mpyarrow\u001b[39m\u001b[39m (\u001b[39m\u001b[39;1m11.0.0\u001b[39;22m\u001b[39m -> \u001b[39m\u001b[39;1m14.0.1\u001b[39;22m\u001b[39m)\u001b[39m: \u001b[34mDownloading...\u001b[39m \u001b[39;1m40%\u001b[39;22m\n",
      "\u001b[1A\u001b[0J  \u001b[34;1m•\u001b[39;22m \u001b[39mUpdating \u001b[39m\u001b[36mpyarrow\u001b[39m\u001b[39m (\u001b[39m\u001b[39;1m11.0.0\u001b[39;22m\u001b[39m -> \u001b[39m\u001b[39;1m14.0.1\u001b[39;22m\u001b[39m)\u001b[39m: \u001b[34mDownloading...\u001b[39m \u001b[39;1m50%\u001b[39;22m\n",
      "\u001b[1A\u001b[0J  \u001b[34;1m•\u001b[39;22m \u001b[39mUpdating \u001b[39m\u001b[36mpyarrow\u001b[39m\u001b[39m (\u001b[39m\u001b[39;1m11.0.0\u001b[39;22m\u001b[39m -> \u001b[39m\u001b[39;1m14.0.1\u001b[39;22m\u001b[39m)\u001b[39m: \u001b[34mDownloading...\u001b[39m \u001b[39;1m60%\u001b[39;22m\n",
      "\u001b[1A\u001b[0J  \u001b[34;1m•\u001b[39;22m \u001b[39mUpdating \u001b[39m\u001b[36mpyarrow\u001b[39m\u001b[39m (\u001b[39m\u001b[39;1m11.0.0\u001b[39;22m\u001b[39m -> \u001b[39m\u001b[39;1m14.0.1\u001b[39;22m\u001b[39m)\u001b[39m: \u001b[34mDownloading...\u001b[39m \u001b[39;1m70%\u001b[39;22m\n",
      "\u001b[1A\u001b[0J  \u001b[34;1m•\u001b[39;22m \u001b[39mUpdating \u001b[39m\u001b[36mpyarrow\u001b[39m\u001b[39m (\u001b[39m\u001b[39;1m11.0.0\u001b[39;22m\u001b[39m -> \u001b[39m\u001b[39;1m14.0.1\u001b[39;22m\u001b[39m)\u001b[39m: \u001b[34mDownloading...\u001b[39m \u001b[39;1m80%\u001b[39;22m\n",
      "\u001b[1A\u001b[0J  \u001b[34;1m•\u001b[39;22m \u001b[39mUpdating \u001b[39m\u001b[36mpyarrow\u001b[39m\u001b[39m (\u001b[39m\u001b[39;1m11.0.0\u001b[39;22m\u001b[39m -> \u001b[39m\u001b[39;1m14.0.1\u001b[39;22m\u001b[39m)\u001b[39m: \u001b[34mDownloading...\u001b[39m \u001b[39;1m90%\u001b[39;22m\n",
      "\u001b[1A\u001b[0J  \u001b[34;1m•\u001b[39;22m \u001b[39mUpdating \u001b[39m\u001b[36mpyarrow\u001b[39m\u001b[39m (\u001b[39m\u001b[39;1m11.0.0\u001b[39;22m\u001b[39m -> \u001b[39m\u001b[39;1m14.0.1\u001b[39;22m\u001b[39m)\u001b[39m: \u001b[34mDownloading...\u001b[39m \u001b[39;1m100%\u001b[39;22m\n",
      "\u001b[1A\u001b[0J  \u001b[34;1m•\u001b[39;22m \u001b[39mUpdating \u001b[39m\u001b[36mpyarrow\u001b[39m\u001b[39m (\u001b[39m\u001b[39;1m11.0.0\u001b[39;22m\u001b[39m -> \u001b[39m\u001b[39;1m14.0.1\u001b[39;22m\u001b[39m)\u001b[39m: \u001b[34mInstalling...\u001b[39m\n",
      "\u001b[1A\u001b[0J  \u001b[32;1m•\u001b[39;22m \u001b[39mUpdating \u001b[39m\u001b[36mpyarrow\u001b[39m\u001b[39m (\u001b[39m\u001b[39;1m11.0.0\u001b[39;22m\u001b[39m -> \u001b[39m\u001b[32m14.0.1\u001b[39m\u001b[39m)\u001b[39m\n",
      "  \u001b[34;1m•\u001b[39;22m \u001b[39mDowngrading \u001b[39m\u001b[36mdask-expr\u001b[39m\u001b[39m (\u001b[39m\u001b[39;1m0.5.3\u001b[39;22m\u001b[39m -> \u001b[39m\u001b[39;1m0.4.0\u001b[39;22m\u001b[39m)\u001b[39m: \u001b[34mPending...\u001b[39m\n",
      "\u001b[1A\u001b[0J  \u001b[34;1m•\u001b[39;22m \u001b[39mDowngrading \u001b[39m\u001b[36mdask-expr\u001b[39m\u001b[39m (\u001b[39m\u001b[39;1m0.5.3\u001b[39;22m\u001b[39m -> \u001b[39m\u001b[39;1m0.4.0\u001b[39;22m\u001b[39m)\u001b[39m: \u001b[34mDownloading...\u001b[39m \u001b[39;1m0%\u001b[39;22m\n",
      "\u001b[1A\u001b[0J  \u001b[34;1m•\u001b[39;22m \u001b[39mDowngrading \u001b[39m\u001b[36mdask-expr\u001b[39m\u001b[39m (\u001b[39m\u001b[39;1m0.5.3\u001b[39;22m\u001b[39m -> \u001b[39m\u001b[39;1m0.4.0\u001b[39;22m\u001b[39m)\u001b[39m: \u001b[34mDownloading...\u001b[39m \u001b[39;1m100%\u001b[39;22m\n",
      "\u001b[1A\u001b[0J  \u001b[34;1m•\u001b[39;22m \u001b[39mDowngrading \u001b[39m\u001b[36mdask-expr\u001b[39m\u001b[39m (\u001b[39m\u001b[39;1m0.5.3\u001b[39;22m\u001b[39m -> \u001b[39m\u001b[39;1m0.4.0\u001b[39;22m\u001b[39m)\u001b[39m: \u001b[34mInstalling...\u001b[39m\n",
      "\u001b[1A\u001b[0J  \u001b[32;1m•\u001b[39;22m \u001b[39mDowngrading \u001b[39m\u001b[36mdask-expr\u001b[39m\u001b[39m (\u001b[39m\u001b[39;1m0.5.3\u001b[39;22m\u001b[39m -> \u001b[39m\u001b[32m0.4.0\u001b[39m\u001b[39m)\u001b[39m\n",
      "\n",
      "\u001b[34mWriting lock file\u001b[39m\n"
     ]
    }
   ],
   "source": [
    "!poetry add pyarrow==14.0.1 dask==2024.1.1 dask-expr==0.4.0"
   ]
  },
  {
   "cell_type": "code",
   "execution_count": 4,
   "id": "89c7bafe-356b-42d8-8138-419a509b5bea",
   "metadata": {},
   "outputs": [
    {
     "name": "stderr",
     "output_type": "stream",
     "text": [
      "/home/jcnok/bootcamps/bootcamp-jornada-de-dados_2024/.venv/lib/python3.11/site-packages/distributed/node.py:182: UserWarning: Port 8787 is already in use.\n",
      "Perhaps you already have a cluster running?\n",
      "Hosting the HTTP server on port 40885 instead\n",
      "  warnings.warn(\n"
     ]
    },
    {
     "name": "stdout",
     "output_type": "stream",
     "text": [
      "dask_cudf_1024 Tempo de processamento: 3 minutos 40 segundos\n"
     ]
    },
    {
     "data": {
      "text/html": [
       "<div>\n",
       "<style scoped>\n",
       "    .dataframe tbody tr th:only-of-type {\n",
       "        vertical-align: middle;\n",
       "    }\n",
       "\n",
       "    .dataframe tbody tr th {\n",
       "        vertical-align: top;\n",
       "    }\n",
       "\n",
       "    .dataframe thead tr th {\n",
       "        text-align: left;\n",
       "    }\n",
       "\n",
       "    .dataframe thead tr:last-of-type th {\n",
       "        text-align: right;\n",
       "    }\n",
       "</style>\n",
       "<table border=\"1\" class=\"dataframe\">\n",
       "  <thead>\n",
       "    <tr>\n",
       "      <th></th>\n",
       "      <th colspan=\"3\" halign=\"left\">temp</th>\n",
       "    </tr>\n",
       "    <tr>\n",
       "      <th></th>\n",
       "      <th>min</th>\n",
       "      <th>max</th>\n",
       "      <th>mean</th>\n",
       "    </tr>\n",
       "    <tr>\n",
       "      <th>city</th>\n",
       "      <th></th>\n",
       "      <th></th>\n",
       "      <th></th>\n",
       "    </tr>\n",
       "  </thead>\n",
       "  <tbody>\n",
       "    <tr>\n",
       "      <th>A Coruña</th>\n",
       "      <td>-89.199997</td>\n",
       "      <td>56.700001</td>\n",
       "      <td>-16.284525</td>\n",
       "    </tr>\n",
       "    <tr>\n",
       "      <th>Aachen</th>\n",
       "      <td>-89.199997</td>\n",
       "      <td>56.700001</td>\n",
       "      <td>-16.263411</td>\n",
       "    </tr>\n",
       "    <tr>\n",
       "      <th>Aalst</th>\n",
       "      <td>-89.199997</td>\n",
       "      <td>56.700001</td>\n",
       "      <td>-16.487180</td>\n",
       "    </tr>\n",
       "    <tr>\n",
       "      <th>Aarau</th>\n",
       "      <td>-89.199997</td>\n",
       "      <td>56.700001</td>\n",
       "      <td>-16.132308</td>\n",
       "    </tr>\n",
       "    <tr>\n",
       "      <th>Abaré</th>\n",
       "      <td>-89.199997</td>\n",
       "      <td>56.700001</td>\n",
       "      <td>-16.397278</td>\n",
       "    </tr>\n",
       "    <tr>\n",
       "      <th>...</th>\n",
       "      <td>...</td>\n",
       "      <td>...</td>\n",
       "      <td>...</td>\n",
       "    </tr>\n",
       "    <tr>\n",
       "      <th>‘Alīābād-e Katūl</th>\n",
       "      <td>-89.199997</td>\n",
       "      <td>56.700001</td>\n",
       "      <td>-16.228983</td>\n",
       "    </tr>\n",
       "    <tr>\n",
       "      <th>‘Amrān</th>\n",
       "      <td>-89.199997</td>\n",
       "      <td>56.700001</td>\n",
       "      <td>-16.081338</td>\n",
       "    </tr>\n",
       "    <tr>\n",
       "      <th>‘Anadān</th>\n",
       "      <td>-89.199997</td>\n",
       "      <td>56.700001</td>\n",
       "      <td>-16.288193</td>\n",
       "    </tr>\n",
       "    <tr>\n",
       "      <th>’Ayn Bni Mathar</th>\n",
       "      <td>-89.199997</td>\n",
       "      <td>56.700001</td>\n",
       "      <td>-16.094875</td>\n",
       "    </tr>\n",
       "    <tr>\n",
       "      <th>’Tlat Bni Oukil</th>\n",
       "      <td>-89.199997</td>\n",
       "      <td>56.700001</td>\n",
       "      <td>-16.255560</td>\n",
       "    </tr>\n",
       "  </tbody>\n",
       "</table>\n",
       "<p>8854 rows × 3 columns</p>\n",
       "</div>"
      ],
      "text/plain": [
       "                       temp                      \n",
       "                        min        max       mean\n",
       "city                                             \n",
       "A Coruña         -89.199997  56.700001 -16.284525\n",
       "Aachen           -89.199997  56.700001 -16.263411\n",
       "Aalst            -89.199997  56.700001 -16.487180\n",
       "Aarau            -89.199997  56.700001 -16.132308\n",
       "Abaré            -89.199997  56.700001 -16.397278\n",
       "...                     ...        ...        ...\n",
       "‘Alīābād-e Katūl -89.199997  56.700001 -16.228983\n",
       "‘Amrān           -89.199997  56.700001 -16.081338\n",
       "‘Anadān          -89.199997  56.700001 -16.288193\n",
       "’Ayn Bni Mathar  -89.199997  56.700001 -16.094875\n",
       "’Tlat Bni Oukil  -89.199997  56.700001 -16.255560\n",
       "\n",
       "[8854 rows x 3 columns]"
      ]
     },
     "execution_count": 4,
     "metadata": {},
     "output_type": "execute_result"
    }
   ],
   "source": [
    "# dask_cudf com blocksize 1gb => script para caluclar min, max e mean em um bilhão de linhas usando a gpu rtx 3060ti.\n",
    "# Definindo o cluster para usar gpu\n",
    "from dask.distributed import Client\n",
    "from dask_cuda import LocalCUDACluster\n",
    "# create a local CUDA cluster\n",
    "cluster = LocalCUDACluster()\n",
    "client = Client(cluster)\n",
    "import dask_cudf as dc\n",
    "@timer_to_csv\n",
    "def dask_cudf_1024():\n",
    "    # Carregar o arquivo csv em um dataframe dask_cudf\n",
    "    df = dc.read_csv('data/measurements.txt',sep=';', header=None, names=['city', 'temp'], dtype=['str', 'float32'], blocksize='1024 Mib')\n",
    "    \n",
    "    # Agrupar pela coluna 'city' e calcular min, max e mean da coluna 'temp'\n",
    "    grouped_df = df.groupby('city').agg({'temp': ['min', 'max', 'mean']}).compute()\n",
    "    \n",
    "    # Ordenar pelo 'city'\n",
    "    sorted_df = grouped_df.sort_index()\n",
    "    \n",
    "    # retorna o dataframe\n",
    "    return sorted_df\n",
    "    \n",
    "dask_cudf_1024()"
   ]
  },
  {
   "cell_type": "code",
   "execution_count": 7,
   "id": "b0a25575-9e98-4062-be7c-4d3865bc6fa1",
   "metadata": {},
   "outputs": [
    {
     "name": "stdout",
     "output_type": "stream",
     "text": [
      "A memória total alocada para o JupyterLab é de aproximadamente 399.37 MB\n"
     ]
    }
   ],
   "source": [
    "import psutil\n",
    "\n",
    "# Obtém o processo JupyterLab\n",
    "process = psutil.Process()\n",
    "\n",
    "# Obtém a quantidade total de memória alocada para o processo em bytes\n",
    "memoria_total = process.memory_info().rss\n",
    "\n",
    "# Converta bytes para megabytes para uma leitura mais compreensível\n",
    "memoria_total_mb = memoria_total / (1024 * 1024)\n",
    "\n",
    "print(f\"A memória total alocada para o JupyterLab é de aproximadamente {memoria_total_mb:.2f} MB\")\n"
   ]
  },
  {
   "cell_type": "code",
   "execution_count": null,
   "id": "f77f3e20-05fe-401b-8a40-f72651b277e1",
   "metadata": {},
   "outputs": [],
   "source": [
    "# muito util pois imprime os parametros do método.\n",
    "??cudf.read_csv"
   ]
  },
  {
   "cell_type": "code",
   "execution_count": 6,
   "id": "4e030d72-2b7f-4edf-a3d6-475a70e92766",
   "metadata": {},
   "outputs": [
    {
     "name": "stderr",
     "output_type": "stream",
     "text": [
      "/home/jcnok/bootcamps/bootcamp-jornada-de-dados_2024/.venv/lib/python3.11/site-packages/distributed/node.py:182: UserWarning: Port 8787 is already in use.\n",
      "Perhaps you already have a cluster running?\n",
      "Hosting the HTTP server on port 46081 instead\n",
      "  warnings.warn(\n",
      "/home/jcnok/bootcamps/bootcamp-jornada-de-dados_2024/.venv/lib/python3.11/site-packages/dask_cuda/utils.py:170: UserWarning: Cannot get CPU affinity for device with index 0, setting default affinity\n",
      "  warnings.warn(\n"
     ]
    },
    {
     "name": "stdout",
     "output_type": "stream",
     "text": [
      "dask_cudf_256 Tempo de processamento: 56.626 segundos\n"
     ]
    },
    {
     "data": {
      "text/html": [
       "<div>\n",
       "<style scoped>\n",
       "    .dataframe tbody tr th:only-of-type {\n",
       "        vertical-align: middle;\n",
       "    }\n",
       "\n",
       "    .dataframe tbody tr th {\n",
       "        vertical-align: top;\n",
       "    }\n",
       "\n",
       "    .dataframe thead tr th {\n",
       "        text-align: left;\n",
       "    }\n",
       "\n",
       "    .dataframe thead tr:last-of-type th {\n",
       "        text-align: right;\n",
       "    }\n",
       "</style>\n",
       "<table border=\"1\" class=\"dataframe\">\n",
       "  <thead>\n",
       "    <tr>\n",
       "      <th></th>\n",
       "      <th colspan=\"3\" halign=\"left\">temp</th>\n",
       "    </tr>\n",
       "    <tr>\n",
       "      <th></th>\n",
       "      <th>min</th>\n",
       "      <th>max</th>\n",
       "      <th>mean</th>\n",
       "    </tr>\n",
       "    <tr>\n",
       "      <th>city</th>\n",
       "      <th></th>\n",
       "      <th></th>\n",
       "      <th></th>\n",
       "    </tr>\n",
       "  </thead>\n",
       "  <tbody>\n",
       "    <tr>\n",
       "      <th>A Coruña</th>\n",
       "      <td>-89.199997</td>\n",
       "      <td>56.700001</td>\n",
       "      <td>-16.284526</td>\n",
       "    </tr>\n",
       "    <tr>\n",
       "      <th>Aachen</th>\n",
       "      <td>-89.199997</td>\n",
       "      <td>56.700001</td>\n",
       "      <td>-16.263415</td>\n",
       "    </tr>\n",
       "    <tr>\n",
       "      <th>Aalst</th>\n",
       "      <td>-89.199997</td>\n",
       "      <td>56.700001</td>\n",
       "      <td>-16.487183</td>\n",
       "    </tr>\n",
       "    <tr>\n",
       "      <th>Aarau</th>\n",
       "      <td>-89.199997</td>\n",
       "      <td>56.700001</td>\n",
       "      <td>-16.132312</td>\n",
       "    </tr>\n",
       "    <tr>\n",
       "      <th>Abaré</th>\n",
       "      <td>-89.199997</td>\n",
       "      <td>56.700001</td>\n",
       "      <td>-16.397278</td>\n",
       "    </tr>\n",
       "    <tr>\n",
       "      <th>...</th>\n",
       "      <td>...</td>\n",
       "      <td>...</td>\n",
       "      <td>...</td>\n",
       "    </tr>\n",
       "    <tr>\n",
       "      <th>‘Alīābād-e Katūl</th>\n",
       "      <td>-89.199997</td>\n",
       "      <td>56.700001</td>\n",
       "      <td>-16.228977</td>\n",
       "    </tr>\n",
       "    <tr>\n",
       "      <th>‘Amrān</th>\n",
       "      <td>-89.199997</td>\n",
       "      <td>56.700001</td>\n",
       "      <td>-16.081335</td>\n",
       "    </tr>\n",
       "    <tr>\n",
       "      <th>‘Anadān</th>\n",
       "      <td>-89.199997</td>\n",
       "      <td>56.700001</td>\n",
       "      <td>-16.288188</td>\n",
       "    </tr>\n",
       "    <tr>\n",
       "      <th>’Ayn Bni Mathar</th>\n",
       "      <td>-89.199997</td>\n",
       "      <td>56.700001</td>\n",
       "      <td>-16.094877</td>\n",
       "    </tr>\n",
       "    <tr>\n",
       "      <th>’Tlat Bni Oukil</th>\n",
       "      <td>-89.199997</td>\n",
       "      <td>56.700001</td>\n",
       "      <td>-16.255551</td>\n",
       "    </tr>\n",
       "  </tbody>\n",
       "</table>\n",
       "<p>8854 rows × 3 columns</p>\n",
       "</div>"
      ],
      "text/plain": [
       "                       temp                      \n",
       "                        min        max       mean\n",
       "city                                             \n",
       "A Coruña         -89.199997  56.700001 -16.284526\n",
       "Aachen           -89.199997  56.700001 -16.263415\n",
       "Aalst            -89.199997  56.700001 -16.487183\n",
       "Aarau            -89.199997  56.700001 -16.132312\n",
       "Abaré            -89.199997  56.700001 -16.397278\n",
       "...                     ...        ...        ...\n",
       "‘Alīābād-e Katūl -89.199997  56.700001 -16.228977\n",
       "‘Amrān           -89.199997  56.700001 -16.081335\n",
       "‘Anadān          -89.199997  56.700001 -16.288188\n",
       "’Ayn Bni Mathar  -89.199997  56.700001 -16.094877\n",
       "’Tlat Bni Oukil  -89.199997  56.700001 -16.255551\n",
       "\n",
       "[8854 rows x 3 columns]"
      ]
     },
     "execution_count": 6,
     "metadata": {},
     "output_type": "execute_result"
    }
   ],
   "source": [
    "# dask_cudf com blocksize 256mb => script para caluclar min, max e mean em um bilhão de linhas usando a gpu rtx 3060ti.\n",
    "# Definindo o cluster para usar gpu\n",
    "from dask.distributed import Client\n",
    "from dask_cuda import LocalCUDACluster\n",
    "# create a local CUDA cluster\n",
    "cluster = LocalCUDACluster()\n",
    "client = Client(cluster)\n",
    "import dask_cudf as dc\n",
    "@timer_to_csv\n",
    "def dask_cudf_256():\n",
    "    # Carregar o arquivo csv em um dataframe dask_cudf\n",
    "    df = dc.read_csv('data/measurements.txt',\n",
    "                     sep=';', header=None,\n",
    "                     names=['city', 'temp'], \n",
    "                     dtype=['str', 'float32'],\n",
    "                     blocksize='256 Mib')\n",
    "    \n",
    "    # Agrupar pela coluna 'city' e calcular min, max e mean da coluna 'temp'\n",
    "    grouped_df = df.groupby('city').agg({'temp': ['min', 'max', 'mean']}).compute()\n",
    "    \n",
    "    # Ordenar pelo 'city'\n",
    "    sorted_df = grouped_df.sort_index()\n",
    "    \n",
    "    # Imprimir as 5 primeiras e últimas linhas\n",
    "    return sorted_df\n",
    "    #print(sorted_df.tail(5))\n",
    "dask_cudf_256()"
   ]
  },
  {
   "cell_type": "markdown",
   "id": "d8cd4657-f16a-4687-8bd7-7dc1e65a2c35",
   "metadata": {},
   "source": [
    "* **Alterando para 256 MiB a performance melhorou, mas ainda assim bem longe de superar o DuckDB.**\n",
    "* **Conforme o benchmarch da documentação ele tem capacidade de superar o sgdb. Talvez alguma configuração pois ainda não li toda a documentação.**"
   ]
  },
  {
   "cell_type": "markdown",
   "id": "e1cfb8f5-e219-4cae-85e4-d271d08b7398",
   "metadata": {},
   "source": [
    "## testes"
   ]
  },
  {
   "cell_type": "markdown",
   "id": "fd6ac3a7-4c82-4ed1-afa5-5bea51d72406",
   "metadata": {},
   "source": [
    "* não consegue ler 1bilhão."
   ]
  },
  {
   "cell_type": "code",
   "execution_count": 1,
   "id": "d04e53d0-bd6b-42d7-8147-ea35cd345435",
   "metadata": {},
   "outputs": [
    {
     "name": "stdout",
     "output_type": "stream",
     "text": [
      "               min   max       mean\n",
      "cidade                             \n",
      "Aaronberg    -48.6  99.4  37.065909\n",
      "Aaronborough -46.4  98.4  38.725000\n",
      "Aaronburgh   -45.4  92.0  33.942000\n",
      "Aaronbury    -47.3  98.7  53.363636\n",
      "Aaronchester -49.9  98.8  43.383333\n",
      "...            ...   ...        ...\n",
      "Zunigastad   -13.7  57.8  17.450000\n",
      "Zunigaton    -44.7  86.1  29.414286\n",
      "Zunigatown    45.2  99.4  68.266667\n",
      "Zunigaview    -4.1  86.5  60.760000\n",
      "Zunigaville   -2.1  57.1  38.450000\n",
      "\n",
      "[91362 rows x 3 columns]\n",
      "CPU times: user 1.07 s, sys: 374 ms, total: 1.44 s\n",
      "Wall time: 1.46 s\n"
     ]
    }
   ],
   "source": [
    "%%time\n",
    "import pyarrow.csv as csv\n",
    "\n",
    "# Definir opções de leitura\n",
    "read_options = csv.ReadOptions(use_threads=True, column_names=['cidade','temperatura'])\n",
    "parse_options = csv.ParseOptions(delimiter=';')\n",
    "\n",
    "# Carregar o arquivo de medidas\n",
    "table = csv.read_csv('data/tempments1.txt', read_options=read_options, parse_options=parse_options)\n",
    "\n",
    "# Converter para um DataFrame Arrow\n",
    "df = table.to_pandas()\n",
    "\n",
    "# Agrupar por cidade e calcular mínimo, máximo e média das temperaturas\n",
    "resultados = df.groupby('cidade')['temperatura'].agg(['min', 'max', 'mean'])\n",
    "\n",
    "# Ordenar os resultados pela cidade\n",
    "resultados = resultados.sort_index()\n",
    "\n",
    "# Exibir os resultados\n",
    "print(resultados)"
   ]
  },
  {
   "cell_type": "code",
   "execution_count": null,
   "id": "80f030c3-f3ef-4db8-8b24-b91684c0ae53",
   "metadata": {},
   "outputs": [],
   "source": []
  },
  {
   "cell_type": "code",
   "execution_count": null,
   "id": "0cd2dc43-58c2-4555-b606-2940d79a83cd",
   "metadata": {},
   "outputs": [],
   "source": []
  },
  {
   "cell_type": "markdown",
   "id": "f8255bbf-0095-46dd-a021-029b0f0601f0",
   "metadata": {},
   "source": [
    "## Setup and install RAPIDs"
   ]
  },
  {
   "cell_type": "code",
   "execution_count": 1,
   "id": "35e35433-a3d0-4e29-b017-37c75435f9a1",
   "metadata": {
    "scrolled": true
   },
   "outputs": [
    {
     "name": "stdout",
     "output_type": "stream",
     "text": [
      "Tue Mar 12 18:27:47 2024       \n",
      "+-----------------------------------------------------------------------------------------+\n",
      "| NVIDIA-SMI 550.40.06              Driver Version: 551.23         CUDA Version: 12.4     |\n",
      "|-----------------------------------------+------------------------+----------------------+\n",
      "| GPU  Name                 Persistence-M | Bus-Id          Disp.A | Volatile Uncorr. ECC |\n",
      "| Fan  Temp   Perf          Pwr:Usage/Cap |           Memory-Usage | GPU-Util  Compute M. |\n",
      "|                                         |                        |               MIG M. |\n",
      "|=========================================+========================+======================|\n",
      "|   0  NVIDIA GeForce RTX 3060 Ti     On  |   00000000:03:00.0  On |                  N/A |\n",
      "| 34%   42C    P8             16W /  200W |     487MiB /   8192MiB |      0%      Default |\n",
      "|                                         |                        |                  N/A |\n",
      "+-----------------------------------------+------------------------+----------------------+\n",
      "                                                                                         \n",
      "+-----------------------------------------------------------------------------------------+\n",
      "| Processes:                                                                              |\n",
      "|  GPU   GI   CI        PID   Type   Process name                              GPU Memory |\n",
      "|        ID   ID                                                               Usage      |\n",
      "|=========================================================================================|\n",
      "|    0   N/A  N/A        37      G   /Xwayland                                   N/A      |\n",
      "+-----------------------------------------------------------------------------------------+\n"
     ]
    }
   ],
   "source": [
    "!nvidia-smi"
   ]
  },
  {
   "cell_type": "markdown",
   "id": "97774ded-ab7b-4b27-812d-1c0b3b8031f8",
   "metadata": {},
   "source": [
    "* **Veja que interessante o %%load_ext cudf.pandas converte a maioria dos comandos do pandas para processamento em gpu.** "
   ]
  },
  {
   "cell_type": "code",
   "execution_count": 7,
   "id": "1591dd80-e3d8-49b2-8f7f-1ecf76763dab",
   "metadata": {},
   "outputs": [],
   "source": [
    "# Carrega o cudf para pandas\n",
    "%load_ext cudf.pandas\n",
    "import pandas as pd"
   ]
  },
  {
   "cell_type": "code",
   "execution_count": 12,
   "id": "d8f493b7-de65-464c-9769-1ed1259d4514",
   "metadata": {},
   "outputs": [
    {
     "data": {
      "text/plain": [
       "<module 'pandas' (ModuleAccelerator(fast=cudf, slow=pandas))>"
      ]
     },
     "execution_count": 12,
     "metadata": {},
     "output_type": "execute_result"
    }
   ],
   "source": [
    "# verificando se o cudf foi setado no pandas\n",
    "pd"
   ]
  },
  {
   "cell_type": "code",
   "execution_count": 13,
   "id": "270da079-265a-43e7-b0f5-4738601a146f",
   "metadata": {},
   "outputs": [
    {
     "data": {
      "text/plain": [
       "cudf.pandas.fast_slow_proxy._FunctionProxy"
      ]
     },
     "execution_count": 13,
     "metadata": {},
     "output_type": "execute_result"
    }
   ],
   "source": [
    "# verificando se o método read do pandas está em modo fast.\n",
    "type(pd.read_csv)"
   ]
  },
  {
   "cell_type": "code",
   "execution_count": 11,
   "id": "3ede2eca-59e6-42b9-ab05-053a63549aa6",
   "metadata": {},
   "outputs": [
    {
     "name": "stdout",
     "output_type": "stream",
     "text": [
      "The cudf.pandas extension is already loaded. To reload it, use:\n",
      "  %reload_ext cudf.pandas\n",
      "dc_read Tempo de processamento:0.166 segundos\n"
     ]
    },
    {
     "data": {
      "text/html": [
       "<div>\n",
       "<style scoped>\n",
       "    .dataframe tbody tr th:only-of-type {\n",
       "        vertical-align: middle;\n",
       "    }\n",
       "\n",
       "    .dataframe tbody tr th {\n",
       "        vertical-align: top;\n",
       "    }\n",
       "\n",
       "    .dataframe thead tr th {\n",
       "        text-align: left;\n",
       "    }\n",
       "\n",
       "    .dataframe thead tr:last-of-type th {\n",
       "        text-align: right;\n",
       "    }\n",
       "</style>\n",
       "<table border=\"1\" class=\"dataframe\">\n",
       "  <thead>\n",
       "    <tr>\n",
       "      <th></th>\n",
       "      <th colspan=\"3\" halign=\"left\">measure</th>\n",
       "    </tr>\n",
       "    <tr>\n",
       "      <th></th>\n",
       "      <th>min</th>\n",
       "      <th>max</th>\n",
       "      <th>mean</th>\n",
       "    </tr>\n",
       "    <tr>\n",
       "      <th>station</th>\n",
       "      <th></th>\n",
       "      <th></th>\n",
       "      <th></th>\n",
       "    </tr>\n",
       "  </thead>\n",
       "  <tbody>\n",
       "    <tr>\n",
       "      <th>Aaronberg</th>\n",
       "      <td>-48.599998</td>\n",
       "      <td>99.400002</td>\n",
       "      <td>37.065918</td>\n",
       "    </tr>\n",
       "    <tr>\n",
       "      <th>Aaronborough</th>\n",
       "      <td>-46.400002</td>\n",
       "      <td>98.400002</td>\n",
       "      <td>38.724998</td>\n",
       "    </tr>\n",
       "    <tr>\n",
       "      <th>Aaronburgh</th>\n",
       "      <td>-45.400002</td>\n",
       "      <td>92.000000</td>\n",
       "      <td>33.942002</td>\n",
       "    </tr>\n",
       "    <tr>\n",
       "      <th>Aaronbury</th>\n",
       "      <td>-47.299999</td>\n",
       "      <td>98.699997</td>\n",
       "      <td>53.363631</td>\n",
       "    </tr>\n",
       "    <tr>\n",
       "      <th>Aaronchester</th>\n",
       "      <td>-49.900002</td>\n",
       "      <td>98.800003</td>\n",
       "      <td>43.383333</td>\n",
       "    </tr>\n",
       "    <tr>\n",
       "      <th>...</th>\n",
       "      <td>...</td>\n",
       "      <td>...</td>\n",
       "      <td>...</td>\n",
       "    </tr>\n",
       "    <tr>\n",
       "      <th>Zunigastad</th>\n",
       "      <td>-13.700000</td>\n",
       "      <td>57.799999</td>\n",
       "      <td>17.449999</td>\n",
       "    </tr>\n",
       "    <tr>\n",
       "      <th>Zunigaton</th>\n",
       "      <td>-44.700001</td>\n",
       "      <td>86.099998</td>\n",
       "      <td>29.414285</td>\n",
       "    </tr>\n",
       "    <tr>\n",
       "      <th>Zunigatown</th>\n",
       "      <td>45.200001</td>\n",
       "      <td>99.400002</td>\n",
       "      <td>68.266668</td>\n",
       "    </tr>\n",
       "    <tr>\n",
       "      <th>Zunigaview</th>\n",
       "      <td>-4.100000</td>\n",
       "      <td>86.500000</td>\n",
       "      <td>60.759998</td>\n",
       "    </tr>\n",
       "    <tr>\n",
       "      <th>Zunigaville</th>\n",
       "      <td>-2.100000</td>\n",
       "      <td>57.099998</td>\n",
       "      <td>38.450001</td>\n",
       "    </tr>\n",
       "  </tbody>\n",
       "</table>\n",
       "<p>91362 rows × 3 columns</p>\n",
       "</div>"
      ],
      "text/plain": [
       "                measure                      \n",
       "                    min        max       mean\n",
       "station                                      \n",
       "Aaronberg    -48.599998  99.400002  37.065918\n",
       "Aaronborough -46.400002  98.400002  38.724998\n",
       "Aaronburgh   -45.400002  92.000000  33.942002\n",
       "Aaronbury    -47.299999  98.699997  53.363631\n",
       "Aaronchester -49.900002  98.800003  43.383333\n",
       "...                 ...        ...        ...\n",
       "Zunigastad   -13.700000  57.799999  17.449999\n",
       "Zunigaton    -44.700001  86.099998  29.414285\n",
       "Zunigatown    45.200001  99.400002  68.266668\n",
       "Zunigaview    -4.100000  86.500000  60.759998\n",
       "Zunigaville   -2.100000  57.099998  38.450001\n",
       "\n",
       "[91362 rows x 3 columns]"
      ]
     },
     "execution_count": 11,
     "metadata": {},
     "output_type": "execute_result"
    }
   ],
   "source": [
    "# Carrega o cudf para pandas\n",
    "%load_ext cudf.pandas\n",
    "import pandas as pd\n",
    "@timer\n",
    "def dc_read():\n",
    "    # Carregar o arquivo csv em um dataframe dask_cudf\n",
    "    df = pd.read_csv('data/tempments1.txt',\n",
    "                     sep=';', header=None,\n",
    "                     names=['city', 'temp'], \n",
    "                     dtype=['str', 'float32'])\n",
    "    \n",
    "    # Agrupar pela coluna 'city' e calcular min, max e mean da coluna 'temp'\n",
    "    grouped_df = df.groupby('city').agg({'temp': ['min', 'max', 'mean']})\n",
    "    \n",
    "    # Ordenar pelo 'city'\n",
    "    sorted_df = grouped_df.sort_index()    \n",
    "    \n",
    "    return sorted_df\n",
    "dc_read()\n"
   ]
  },
  {
   "cell_type": "code",
   "execution_count": 57,
   "id": "24dd069f-e73a-4f78-98c3-1694d5cd88ae",
   "metadata": {},
   "outputs": [
    {
     "data": {
      "text/plain": [
       "{'status': 'ok', 'restart': True}"
      ]
     },
     "execution_count": 57,
     "metadata": {},
     "output_type": "execute_result"
    }
   ],
   "source": [
    "# reinicia o kernel\n",
    "# @title\n",
    "get_ipython().kernel.do_shutdown(restart=True)"
   ]
  },
  {
   "cell_type": "code",
   "execution_count": 7,
   "id": "d9c2e069-9392-43cb-81fe-92225d1f6aea",
   "metadata": {},
   "outputs": [],
   "source": [
    "import cudf"
   ]
  },
  {
   "cell_type": "markdown",
   "id": "37bda8a8-b152-4933-954f-36347e069038",
   "metadata": {},
   "source": [
    "Introduction to Dask¶\n",
    "Dask is a library the allows for parallelized computing. Written in Python, it allows one to compose complex workflows using large data structures like those found in NumPy, Pandas, and cuDF. In the following examples and notebooks, we'll show how to use Dask with cuDF to accelerate common ETL tasks as well as build and train machine learning models like Linear Regression and XGBoost.\n",
    "\n",
    "To learn more about Dask, check out the documentation here: http://docs.dask.org/en/latest/\n",
    "\n",
    "Client/Workers\n",
    "Dask operates by creating a cluster composed of a \"client\" and multiple \"workers\". The client is responsible for scheduling work; the workers are responsible for actually executing that work.\n",
    "\n",
    "Typically, we set the number of workers to be equal to the number of computing resources we have available to us. For CPU based workflows, this might be the number of cores or threads on that particlular machine. For example, we might set n_workers = 8 if we have 8 CPU cores or threads on our machine that can each operate in parallel. This allows us to take advantage of all of our computing resources and enjoy the most benefits from parallelization.\n",
    "\n",
    "On a system with one or more GPUs, we usually set the number of workers equal to the number of GPUs available to us. Dask is a first class citizen in the world of General Purpose GPU computing and the RAPIDS ecosystem makes it very easy to use Dask with cuDF and XGBoost.\n",
    "\n",
    "Before we get started with Dask, we need to setup a Local Cluster of workers to execute our work and a Client to coordinate and schedule work for that cluster. As we see below, we can inititate a cluster and client using only few lines of code.\n",
    "\n",
    "\n",
    "Introdução ao Dask¶ Dask é uma biblioteca que permite computação paralelizada. Escrito em Python, permite compor fluxos de trabalho complexos usando grandes estruturas de dados como as encontradas em NumPy, Pandas e cuDF. Nos exemplos e notebooks a seguir, mostraremos como usar Dask com cuDF para acelerar tarefas comuns de ETL, bem como construir e treinar modelos de aprendizado de máquina como regressão linear e XGBoost. Para saber mais sobre o Dask, confira a documentação aqui: http://docs.dask.org/en/latest/ Client/Workers O Dask opera criando um cluster composto por um \"cliente\" e vários \"trabalhadores\". O cliente é responsável pelo agendamento dos trabalhos; os trabalhadores são responsáveis ​​pela execução efetiva desse trabalho. Normalmente, definimos o número de trabalhadores como igual ao número de recursos computacionais que temos disponíveis. Para fluxos de trabalho baseados em CPU, esse pode ser o número de núcleos ou threads naquela máquina específica. Por exemplo, podemos definir n_workers = 8 se tivermos 8 núcleos de CPU ou threads em nossa máquina que podem operar em paralelo. Isso nos permite aproveitar todos os nossos recursos computacionais e aproveitar ao máximo os benefícios da paralelização. Em um sistema com uma ou mais GPUs, normalmente definimos o número de trabalhadores igual ao número de GPUs disponíveis para nós. Dask é um cidadão de primeira classe no mundo da computação GPU de uso geral e o ecossistema RAPIDS torna muito fácil usar o Dask com cuDF e XGBoost. Antes de começarmos com o Dask, precisamos configurar um cluster local de trabalhadores para executar nosso trabalho e um cliente para coordenar e agendar o trabalho para esse cluster. Como vemos abaixo, podemos iniciar um cluster e um cliente usando apenas algumas linhas de código."
   ]
  },
  {
   "cell_type": "code",
   "execution_count": 9,
   "id": "ce055b98-b107-4958-9eb9-fdae969cdf31",
   "metadata": {},
   "outputs": [
    {
     "name": "stdout",
     "output_type": "stream",
     "text": [
      "Dask Version: 2024.1.1\n"
     ]
    }
   ],
   "source": [
    "import dask; print('Dask Version:', dask.__version__)\n",
    "from dask.distributed import Client, LocalCluster\n",
    "\n",
    "\n",
    "# create a local cluster with 4 workers\n",
    "n_workers = 4\n",
    "cluster = LocalCluster(n_workers=n_workers)\n",
    "client = Client(cluster)"
   ]
  },
  {
   "cell_type": "markdown",
   "id": "6bd403fa-429d-4b27-99bc-27050f1b7d4b",
   "metadata": {},
   "source": [
    "Let's inspect the client object to view our current Dask status. We should see the IP Address for our Scheduler as well as the the number of workers in our Cluster.\n",
    "\n",
    "Vamos inspecionar o objeto cliente para visualizar nosso status atual do Dask. Devemos ver o endereço IP do nosso Agendador, bem como o número de trabalhadores no nosso Cluster."
   ]
  },
  {
   "cell_type": "code",
   "execution_count": 10,
   "id": "0483866c-cfa7-46be-a1b7-99340d7d9ab2",
   "metadata": {},
   "outputs": [
    {
     "data": {
      "text/html": [
       "<div>\n",
       "    <div style=\"width: 24px; height: 24px; background-color: #e1e1e1; border: 3px solid #9D9D9D; border-radius: 5px; position: absolute;\"> </div>\n",
       "    <div style=\"margin-left: 48px;\">\n",
       "        <h3 style=\"margin-bottom: 0px;\">Client</h3>\n",
       "        <p style=\"color: #9D9D9D; margin-bottom: 0px;\">Client-93c82fc9-e021-11ee-b136-6174df56fd34</p>\n",
       "        <table style=\"width: 100%; text-align: left;\">\n",
       "\n",
       "        <tr>\n",
       "        \n",
       "            <td style=\"text-align: left;\"><strong>Connection method:</strong> Cluster object</td>\n",
       "            <td style=\"text-align: left;\"><strong>Cluster type:</strong> distributed.LocalCluster</td>\n",
       "        \n",
       "        </tr>\n",
       "\n",
       "        \n",
       "            <tr>\n",
       "                <td style=\"text-align: left;\">\n",
       "                    <strong>Dashboard: </strong> <a href=\"http://127.0.0.1:8787/status\" target=\"_blank\">http://127.0.0.1:8787/status</a>\n",
       "                </td>\n",
       "                <td style=\"text-align: left;\"></td>\n",
       "            </tr>\n",
       "        \n",
       "\n",
       "        </table>\n",
       "\n",
       "        \n",
       "\n",
       "        \n",
       "            <details>\n",
       "            <summary style=\"margin-bottom: 20px;\"><h3 style=\"display: inline;\">Cluster Info</h3></summary>\n",
       "            <div class=\"jp-RenderedHTMLCommon jp-RenderedHTML jp-mod-trusted jp-OutputArea-output\">\n",
       "    <div style=\"width: 24px; height: 24px; background-color: #e1e1e1; border: 3px solid #9D9D9D; border-radius: 5px; position: absolute;\">\n",
       "    </div>\n",
       "    <div style=\"margin-left: 48px;\">\n",
       "        <h3 style=\"margin-bottom: 0px; margin-top: 0px;\">LocalCluster</h3>\n",
       "        <p style=\"color: #9D9D9D; margin-bottom: 0px;\">cdddd731</p>\n",
       "        <table style=\"width: 100%; text-align: left;\">\n",
       "            <tr>\n",
       "                <td style=\"text-align: left;\">\n",
       "                    <strong>Dashboard:</strong> <a href=\"http://127.0.0.1:8787/status\" target=\"_blank\">http://127.0.0.1:8787/status</a>\n",
       "                </td>\n",
       "                <td style=\"text-align: left;\">\n",
       "                    <strong>Workers:</strong> 4\n",
       "                </td>\n",
       "            </tr>\n",
       "            <tr>\n",
       "                <td style=\"text-align: left;\">\n",
       "                    <strong>Total threads:</strong> 24\n",
       "                </td>\n",
       "                <td style=\"text-align: left;\">\n",
       "                    <strong>Total memory:</strong> 7.68 GiB\n",
       "                </td>\n",
       "            </tr>\n",
       "            \n",
       "            <tr>\n",
       "    <td style=\"text-align: left;\"><strong>Status:</strong> running</td>\n",
       "    <td style=\"text-align: left;\"><strong>Using processes:</strong> True</td>\n",
       "</tr>\n",
       "\n",
       "            \n",
       "        </table>\n",
       "\n",
       "        <details>\n",
       "            <summary style=\"margin-bottom: 20px;\">\n",
       "                <h3 style=\"display: inline;\">Scheduler Info</h3>\n",
       "            </summary>\n",
       "\n",
       "            <div style=\"\">\n",
       "    <div>\n",
       "        <div style=\"width: 24px; height: 24px; background-color: #FFF7E5; border: 3px solid #FF6132; border-radius: 5px; position: absolute;\"> </div>\n",
       "        <div style=\"margin-left: 48px;\">\n",
       "            <h3 style=\"margin-bottom: 0px;\">Scheduler</h3>\n",
       "            <p style=\"color: #9D9D9D; margin-bottom: 0px;\">Scheduler-9d79611f-daad-4492-a2bf-cdc7f9c6a0e2</p>\n",
       "            <table style=\"width: 100%; text-align: left;\">\n",
       "                <tr>\n",
       "                    <td style=\"text-align: left;\">\n",
       "                        <strong>Comm:</strong> tcp://127.0.0.1:43807\n",
       "                    </td>\n",
       "                    <td style=\"text-align: left;\">\n",
       "                        <strong>Workers:</strong> 4\n",
       "                    </td>\n",
       "                </tr>\n",
       "                <tr>\n",
       "                    <td style=\"text-align: left;\">\n",
       "                        <strong>Dashboard:</strong> <a href=\"http://127.0.0.1:8787/status\" target=\"_blank\">http://127.0.0.1:8787/status</a>\n",
       "                    </td>\n",
       "                    <td style=\"text-align: left;\">\n",
       "                        <strong>Total threads:</strong> 24\n",
       "                    </td>\n",
       "                </tr>\n",
       "                <tr>\n",
       "                    <td style=\"text-align: left;\">\n",
       "                        <strong>Started:</strong> 1 minute ago\n",
       "                    </td>\n",
       "                    <td style=\"text-align: left;\">\n",
       "                        <strong>Total memory:</strong> 7.68 GiB\n",
       "                    </td>\n",
       "                </tr>\n",
       "            </table>\n",
       "        </div>\n",
       "    </div>\n",
       "\n",
       "    <details style=\"margin-left: 48px;\">\n",
       "        <summary style=\"margin-bottom: 20px;\">\n",
       "            <h3 style=\"display: inline;\">Workers</h3>\n",
       "        </summary>\n",
       "\n",
       "        \n",
       "        <div style=\"margin-bottom: 20px;\">\n",
       "            <div style=\"width: 24px; height: 24px; background-color: #DBF5FF; border: 3px solid #4CC9FF; border-radius: 5px; position: absolute;\"> </div>\n",
       "            <div style=\"margin-left: 48px;\">\n",
       "            <details>\n",
       "                <summary>\n",
       "                    <h4 style=\"margin-bottom: 0px; display: inline;\">Worker: 0</h4>\n",
       "                </summary>\n",
       "                <table style=\"width: 100%; text-align: left;\">\n",
       "                    <tr>\n",
       "                        <td style=\"text-align: left;\">\n",
       "                            <strong>Comm: </strong> tcp://127.0.0.1:44895\n",
       "                        </td>\n",
       "                        <td style=\"text-align: left;\">\n",
       "                            <strong>Total threads: </strong> 6\n",
       "                        </td>\n",
       "                    </tr>\n",
       "                    <tr>\n",
       "                        <td style=\"text-align: left;\">\n",
       "                            <strong>Dashboard: </strong> <a href=\"http://127.0.0.1:41109/status\" target=\"_blank\">http://127.0.0.1:41109/status</a>\n",
       "                        </td>\n",
       "                        <td style=\"text-align: left;\">\n",
       "                            <strong>Memory: </strong> 1.92 GiB\n",
       "                        </td>\n",
       "                    </tr>\n",
       "                    <tr>\n",
       "                        <td style=\"text-align: left;\">\n",
       "                            <strong>Nanny: </strong> tcp://127.0.0.1:39471\n",
       "                        </td>\n",
       "                        <td style=\"text-align: left;\"></td>\n",
       "                    </tr>\n",
       "                    <tr>\n",
       "                        <td colspan=\"2\" style=\"text-align: left;\">\n",
       "                            <strong>Local directory: </strong> /tmp/dask-scratch-space/worker-ioedatmr\n",
       "                        </td>\n",
       "                    </tr>\n",
       "\n",
       "                    \n",
       "\n",
       "                    \n",
       "\n",
       "                </table>\n",
       "            </details>\n",
       "            </div>\n",
       "        </div>\n",
       "        \n",
       "        <div style=\"margin-bottom: 20px;\">\n",
       "            <div style=\"width: 24px; height: 24px; background-color: #DBF5FF; border: 3px solid #4CC9FF; border-radius: 5px; position: absolute;\"> </div>\n",
       "            <div style=\"margin-left: 48px;\">\n",
       "            <details>\n",
       "                <summary>\n",
       "                    <h4 style=\"margin-bottom: 0px; display: inline;\">Worker: 1</h4>\n",
       "                </summary>\n",
       "                <table style=\"width: 100%; text-align: left;\">\n",
       "                    <tr>\n",
       "                        <td style=\"text-align: left;\">\n",
       "                            <strong>Comm: </strong> tcp://127.0.0.1:35853\n",
       "                        </td>\n",
       "                        <td style=\"text-align: left;\">\n",
       "                            <strong>Total threads: </strong> 6\n",
       "                        </td>\n",
       "                    </tr>\n",
       "                    <tr>\n",
       "                        <td style=\"text-align: left;\">\n",
       "                            <strong>Dashboard: </strong> <a href=\"http://127.0.0.1:42527/status\" target=\"_blank\">http://127.0.0.1:42527/status</a>\n",
       "                        </td>\n",
       "                        <td style=\"text-align: left;\">\n",
       "                            <strong>Memory: </strong> 1.92 GiB\n",
       "                        </td>\n",
       "                    </tr>\n",
       "                    <tr>\n",
       "                        <td style=\"text-align: left;\">\n",
       "                            <strong>Nanny: </strong> tcp://127.0.0.1:44081\n",
       "                        </td>\n",
       "                        <td style=\"text-align: left;\"></td>\n",
       "                    </tr>\n",
       "                    <tr>\n",
       "                        <td colspan=\"2\" style=\"text-align: left;\">\n",
       "                            <strong>Local directory: </strong> /tmp/dask-scratch-space/worker-t0mykxrk\n",
       "                        </td>\n",
       "                    </tr>\n",
       "\n",
       "                    \n",
       "\n",
       "                    \n",
       "\n",
       "                </table>\n",
       "            </details>\n",
       "            </div>\n",
       "        </div>\n",
       "        \n",
       "        <div style=\"margin-bottom: 20px;\">\n",
       "            <div style=\"width: 24px; height: 24px; background-color: #DBF5FF; border: 3px solid #4CC9FF; border-radius: 5px; position: absolute;\"> </div>\n",
       "            <div style=\"margin-left: 48px;\">\n",
       "            <details>\n",
       "                <summary>\n",
       "                    <h4 style=\"margin-bottom: 0px; display: inline;\">Worker: 2</h4>\n",
       "                </summary>\n",
       "                <table style=\"width: 100%; text-align: left;\">\n",
       "                    <tr>\n",
       "                        <td style=\"text-align: left;\">\n",
       "                            <strong>Comm: </strong> tcp://127.0.0.1:32787\n",
       "                        </td>\n",
       "                        <td style=\"text-align: left;\">\n",
       "                            <strong>Total threads: </strong> 6\n",
       "                        </td>\n",
       "                    </tr>\n",
       "                    <tr>\n",
       "                        <td style=\"text-align: left;\">\n",
       "                            <strong>Dashboard: </strong> <a href=\"http://127.0.0.1:39975/status\" target=\"_blank\">http://127.0.0.1:39975/status</a>\n",
       "                        </td>\n",
       "                        <td style=\"text-align: left;\">\n",
       "                            <strong>Memory: </strong> 1.92 GiB\n",
       "                        </td>\n",
       "                    </tr>\n",
       "                    <tr>\n",
       "                        <td style=\"text-align: left;\">\n",
       "                            <strong>Nanny: </strong> tcp://127.0.0.1:44181\n",
       "                        </td>\n",
       "                        <td style=\"text-align: left;\"></td>\n",
       "                    </tr>\n",
       "                    <tr>\n",
       "                        <td colspan=\"2\" style=\"text-align: left;\">\n",
       "                            <strong>Local directory: </strong> /tmp/dask-scratch-space/worker-tf388_05\n",
       "                        </td>\n",
       "                    </tr>\n",
       "\n",
       "                    \n",
       "\n",
       "                    \n",
       "\n",
       "                </table>\n",
       "            </details>\n",
       "            </div>\n",
       "        </div>\n",
       "        \n",
       "        <div style=\"margin-bottom: 20px;\">\n",
       "            <div style=\"width: 24px; height: 24px; background-color: #DBF5FF; border: 3px solid #4CC9FF; border-radius: 5px; position: absolute;\"> </div>\n",
       "            <div style=\"margin-left: 48px;\">\n",
       "            <details>\n",
       "                <summary>\n",
       "                    <h4 style=\"margin-bottom: 0px; display: inline;\">Worker: 3</h4>\n",
       "                </summary>\n",
       "                <table style=\"width: 100%; text-align: left;\">\n",
       "                    <tr>\n",
       "                        <td style=\"text-align: left;\">\n",
       "                            <strong>Comm: </strong> tcp://127.0.0.1:44029\n",
       "                        </td>\n",
       "                        <td style=\"text-align: left;\">\n",
       "                            <strong>Total threads: </strong> 6\n",
       "                        </td>\n",
       "                    </tr>\n",
       "                    <tr>\n",
       "                        <td style=\"text-align: left;\">\n",
       "                            <strong>Dashboard: </strong> <a href=\"http://127.0.0.1:43901/status\" target=\"_blank\">http://127.0.0.1:43901/status</a>\n",
       "                        </td>\n",
       "                        <td style=\"text-align: left;\">\n",
       "                            <strong>Memory: </strong> 1.92 GiB\n",
       "                        </td>\n",
       "                    </tr>\n",
       "                    <tr>\n",
       "                        <td style=\"text-align: left;\">\n",
       "                            <strong>Nanny: </strong> tcp://127.0.0.1:40235\n",
       "                        </td>\n",
       "                        <td style=\"text-align: left;\"></td>\n",
       "                    </tr>\n",
       "                    <tr>\n",
       "                        <td colspan=\"2\" style=\"text-align: left;\">\n",
       "                            <strong>Local directory: </strong> /tmp/dask-scratch-space/worker-jmlptawh\n",
       "                        </td>\n",
       "                    </tr>\n",
       "\n",
       "                    \n",
       "\n",
       "                    \n",
       "\n",
       "                </table>\n",
       "            </details>\n",
       "            </div>\n",
       "        </div>\n",
       "        \n",
       "\n",
       "    </details>\n",
       "</div>\n",
       "\n",
       "        </details>\n",
       "    </div>\n",
       "</div>\n",
       "            </details>\n",
       "        \n",
       "\n",
       "    </div>\n",
       "</div>"
      ],
      "text/plain": [
       "<Client: 'tcp://127.0.0.1:43807' processes=4 threads=24, memory=7.68 GiB>"
      ]
     },
     "execution_count": 10,
     "metadata": {},
     "output_type": "execute_result"
    }
   ],
   "source": [
    "# show current Dask status\n",
    "client"
   ]
  },
  {
   "cell_type": "markdown",
   "id": "5644c259-a41f-4ea7-a099-7993dc0b60c6",
   "metadata": {},
   "source": [
    "You can also see the status and more information at the Dashboard, found at http://<ip_address>/status. This can be ignored now since this is pointing to local machine.\n",
    "\n",
    "With our client and workers setup, it's time to execute our first program in parallel. We'll define a function called add_5_to_x that takes some value x and adds 5 to it.\n",
    "\n",
    "Você também pode ver o status e mais informações no Dashboard, encontrado em http://<ip_address>/status. Isso pode ser ignorado agora, pois está apontando para a máquina local. Com a configuração do cliente e dos trabalhadores, é hora de executar nosso primeiro programa em paralelo. Definiremos uma função chamada add_5_to_x que recebe algum valor x e adiciona 5 a ele."
   ]
  },
  {
   "cell_type": "code",
   "execution_count": 11,
   "id": "c3af3b32-f006-47a0-91cd-71907e64bb70",
   "metadata": {},
   "outputs": [],
   "source": [
    "def add_5_to_x(x):\n",
    "    return x + 5"
   ]
  },
  {
   "cell_type": "markdown",
   "id": "b3d2d8d8-88d9-402e-b837-3ddcf744b1ad",
   "metadata": {},
   "source": [
    "Next, we'll iterate through our n_workers and create an execution graph, where each worker is responsible for taking its ID and passing it to the function add_5_to_x. For example, the worker with ID 2 will take its ID and pass it to the function add_5_to_x, resulting in the value 7.\n",
    "\n",
    "A seguir, iremos iterar através de nossos n_workers e criar um gráfico de execução, onde cada trabalhador é responsável por pegar seu ID e passá-lo para a função add_5_to_x. Por exemplo, o trabalhador com ID 2 pegará seu ID e o passará para a função add_5_to_x, resultando no valor 7."
   ]
  },
  {
   "cell_type": "code",
   "execution_count": 12,
   "id": "67155fef-023b-4c30-aec3-c463c577175f",
   "metadata": {},
   "outputs": [
    {
     "data": {
      "text/plain": [
       "[Delayed('add_5_to_x-4c0ff802-4d66-41b4-adbb-e3e8542532d9'),\n",
       " Delayed('add_5_to_x-ea344c11-d675-4f8b-83c7-c96a0e015da7'),\n",
       " Delayed('add_5_to_x-093d2c6d-4eb0-41f3-a38d-f73c23653800'),\n",
       " Delayed('add_5_to_x-d9af2829-552e-497b-bc61-fca5a643bcf5')]"
      ]
     },
     "execution_count": 12,
     "metadata": {},
     "output_type": "execute_result"
    }
   ],
   "source": [
    "from dask import delayed\n",
    "\n",
    "\n",
    "addition_operations = [delayed(add_5_to_x)(i) for i in range(n_workers)]\n",
    "addition_operations"
   ]
  },
  {
   "cell_type": "markdown",
   "id": "76574480-ee55-452d-b95b-819d0032d34a",
   "metadata": {},
   "source": [
    "The above output shows a list of several Delayed objects. An important thing to note is that the workers aren't actually executing these results - we're just defining the execution graph for our client to execute later. The delayed function wraps our function add_5_to_x and returns a Delayed object. This ensures that this computation is in fact \"delayed\" - or lazily evaluated - and not executed on the spot i.e. when we define it.\n",
    "\n",
    "Next, let's sum each one of these intermediate results. We can accomplish this by wrapping Python's built-in sum function using our delayed function and storing this in a variable called total.\n",
    "\n",
    "A saída acima mostra uma lista de vários objetos atrasados. Uma coisa importante a notar é que os trabalhadores não estão realmente executando esses resultados - estamos apenas definindo o gráfico de execução para nosso cliente executar mais tarde. A função atrasada envolve nossa função add_5_to_x e retorna um objeto Atrasado. Isso garante que este cálculo seja de fato \"atrasado\" - ou avaliado preguiçosamente - e não executado no local, ou seja, quando o definimos. A seguir, vamos somar cada um desses resultados intermediários. Podemos fazer isso agrupando a função sum integrada do Python usando nossa função atrasada e armazenando isso em uma variável chamada total."
   ]
  },
  {
   "cell_type": "code",
   "execution_count": 13,
   "id": "6f77c7fb-35f3-457e-8bd4-99ce9f030f8c",
   "metadata": {},
   "outputs": [
    {
     "data": {
      "text/plain": [
       "Delayed('sum-230eb00e-b56e-47c5-98b7-4197ebd243c3')"
      ]
     },
     "execution_count": 13,
     "metadata": {},
     "output_type": "execute_result"
    }
   ],
   "source": [
    "total = delayed(sum)(addition_operations)\n",
    "total"
   ]
  },
  {
   "cell_type": "markdown",
   "id": "df8c3002-5bea-4845-9afd-bc445b3defa6",
   "metadata": {},
   "source": [
    "Using the graphviz library, we can use the visualize method of a Delayed object to visualize our current graph.\n",
    "Usando a biblioteca graphviz, podemos usar o método de visualização de um objeto Delayed para visualizar nosso gráfico atual."
   ]
  },
  {
   "cell_type": "code",
   "execution_count": 16,
   "id": "dbb45edd-116a-47fa-8929-76c84e031c9a",
   "metadata": {},
   "outputs": [],
   "source": [
    "!pip install graphviz -q"
   ]
  },
  {
   "cell_type": "code",
   "execution_count": 21,
   "id": "af8e0340-6f37-4007-b55d-cd70025a8d85",
   "metadata": {},
   "outputs": [],
   "source": [
    "import os\n",
    "try:\n",
    "    import graphviz\n",
    "except ModuleNotFoundError:\n",
    "    os.system('conda install -c conda-forge graphviz -y')\n",
    "    os.system('conda install -c conda-forge python-graphviz -y')"
   ]
  },
  {
   "cell_type": "code",
   "execution_count": 20,
   "id": "ffbf897f-bfcd-4236-a13b-dce3f7f96da7",
   "metadata": {},
   "outputs": [],
   "source": [
    "#total.visualize()"
   ]
  },
  {
   "cell_type": "code",
   "execution_count": null,
   "id": "00ef4f17-eabe-4885-87c5-2721f3693d9f",
   "metadata": {},
   "outputs": [],
   "source": []
  },
  {
   "cell_type": "markdown",
   "id": "8a29d289-4421-45b2-a604-992f9040f7dd",
   "metadata": {},
   "source": [
    "As we mentioned before, none of these results - intermediate or final - have actually been compute. We can compute them using the compute method of our client.\n",
    "Como mencionamos anteriormente, nenhum desses resultados – intermediários ou finais – foi realmente computado. Podemos calculá-los usando o método de computação do nosso cliente."
   ]
  },
  {
   "cell_type": "code",
   "execution_count": 22,
   "id": "8ed62c80-0976-4ff7-a5a4-7b0febc6c685",
   "metadata": {},
   "outputs": [
    {
     "data": {
      "text/plain": [
       "DoneAndNotDoneFutures(done={<Future: finished, type: int, key: sum-230eb00e-b56e-47c5-98b7-4197ebd243c3>}, not_done=set())"
      ]
     },
     "execution_count": 22,
     "metadata": {},
     "output_type": "execute_result"
    }
   ],
   "source": [
    "from dask.distributed import wait\n",
    "import time\n",
    "\n",
    "\n",
    "addition_futures = client.compute(addition_operations, optimize_graph=False, fifo_timeout=\"0ms\")\n",
    "total_future = client.compute(total, optimize_graph=False, fifo_timeout=\"0ms\")\n",
    "wait(total_future)  # this will give Dask time to execute the work"
   ]
  },
  {
   "cell_type": "code",
   "execution_count": 23,
   "id": "e46d70e5-3587-4ecf-a51c-7aed2b568ff7",
   "metadata": {},
   "outputs": [
    {
     "data": {
      "text/plain": [
       "[<Future: finished, type: int, key: add_5_to_x-4c0ff802-4d66-41b4-adbb-e3e8542532d9>,\n",
       " <Future: finished, type: int, key: add_5_to_x-ea344c11-d675-4f8b-83c7-c96a0e015da7>,\n",
       " <Future: finished, type: int, key: add_5_to_x-093d2c6d-4eb0-41f3-a38d-f73c23653800>,\n",
       " <Future: finished, type: int, key: add_5_to_x-d9af2829-552e-497b-bc61-fca5a643bcf5>]"
      ]
     },
     "execution_count": 23,
     "metadata": {},
     "output_type": "execute_result"
    }
   ],
   "source": [
    "addition_futures"
   ]
  },
  {
   "cell_type": "markdown",
   "id": "8310b158-12c4-4ea0-929c-d774a56d2ebb",
   "metadata": {},
   "source": [
    "We can see from the above output that our addition_futures variable is a list of Future objects - not the \"actual results\" of adding 5 to each of [0, 1, 2, 3]. These Future objects are a promise that at one point a computation will take place and we will be left with a result. Dask is responsible for fulfilling that promise by delegating that task to the appropriate Dask worker and collecting the result.\n",
    "\n",
    "Let's take a look at our total_future object:\n",
    "\n",
    "Podemos ver na saída acima que nossa variável add_futures é uma lista de objetos Future - não os \"resultados reais\" da adição de 5 a cada um de [0, 1, 2, 3]. Esses objetos Future são uma promessa de que em determinado momento ocorrerá um cálculo e teremos um resultado. Dask é responsável por cumprir essa promessa, delegando essa tarefa ao trabalhador Dask apropriado e coletando o resultado. Vamos dar uma olhada em nosso objeto total_future:"
   ]
  },
  {
   "cell_type": "code",
   "execution_count": 24,
   "id": "a9ebb96d-9b95-410f-86e5-ebae689a0e25",
   "metadata": {},
   "outputs": [
    {
     "name": "stdout",
     "output_type": "stream",
     "text": [
      "<Future: finished, type: int, key: sum-230eb00e-b56e-47c5-98b7-4197ebd243c3>\n",
      "<class 'distributed.client.Future'>\n"
     ]
    }
   ],
   "source": [
    "print(total_future)\n",
    "print(type(total_future))"
   ]
  },
  {
   "cell_type": "markdown",
   "id": "17884283-c215-4031-9973-a04e78537c20",
   "metadata": {},
   "source": [
    "Again, we see that this is an object of type Future as well as metadata about the status of the request (i.e. whether it has finished or not), the type of the result, and a key associated with that operation. To collect and print the result of each of these Future objects, we can call the result() method.\n",
    "Novamente, vemos que este é um objeto do tipo Future, bem como metadados sobre o status da solicitação (ou seja, se ela foi concluída ou não), o tipo de resultado e uma chave associada a essa operação. Para coletar e imprimir o resultado de cada um desses objetos Future, podemos chamar o método result()."
   ]
  },
  {
   "cell_type": "code",
   "execution_count": 25,
   "id": "3152ba6f-471f-44aa-82af-ff109566c7ba",
   "metadata": {},
   "outputs": [
    {
     "name": "stdout",
     "output_type": "stream",
     "text": [
      "Addition Results: [5, 6, 7, 8]\n"
     ]
    }
   ],
   "source": [
    "addition_results = [future.result() for future in addition_futures]\n",
    "print('Addition Results:', addition_results)"
   ]
  },
  {
   "cell_type": "markdown",
   "id": "92aa3a48-853a-4c6f-9dc1-531f5f44010c",
   "metadata": {},
   "source": [
    "Now we see the results that we want from our addition operations. We can also use the simpler syntax of the client.gather method to collect our results.\n",
    "Agora vemos os resultados que queremos das nossas operações de adição. Também podemos usar a sintaxe mais simples do método client.gather para coletar nossos resultados."
   ]
  },
  {
   "cell_type": "code",
   "execution_count": 25,
   "id": "3493ceee-5697-4984-89ca-8c02cef21a30",
   "metadata": {},
   "outputs": [
    {
     "name": "stdout",
     "output_type": "stream",
     "text": [
      "Addition Results: [5, 6, 7, 8]\n",
      "Total Result: 26\n"
     ]
    }
   ],
   "source": [
    "addition_results = client.gather(addition_futures)\n",
    "total_result = client.gather(total_future)\n",
    "print('Addition Results:', addition_results)\n",
    "print('Total Result:', total_result)"
   ]
  },
  {
   "cell_type": "markdown",
   "id": "11fffd98-469b-48f3-aee9-27d5e129e003",
   "metadata": {},
   "source": [
    "Awesome! We just wrote our first distributed workflow.\n",
    "\n",
    "To confirm that Dask is truly executing in parallel, let's define a function that sleeps for 1 second and returns the string \"Success!\". In serial, this function should take our 4 workers around 4 seconds to execute.\n",
    "\n",
    "Incrível! Acabamos de escrever nosso primeiro fluxo de trabalho distribuído. Para confirmar que Dask está realmente executando em paralelo, vamos definir uma função que durma por 1 segundo e retorne a string \"Sucesso!\". Em série, esta função deve levar cerca de 4 segundos para nossos 4 trabalhadores serem executados."
   ]
  },
  {
   "cell_type": "code",
   "execution_count": 26,
   "id": "d6143505-5859-41c0-b2fe-dbaec1e182a9",
   "metadata": {},
   "outputs": [],
   "source": [
    "def sleep_1():\n",
    "    time.sleep(1)\n",
    "    return 'Success!'"
   ]
  },
  {
   "cell_type": "code",
   "execution_count": 27,
   "id": "e4a81869-3290-425c-a3ac-c07947b3f913",
   "metadata": {},
   "outputs": [
    {
     "name": "stdout",
     "output_type": "stream",
     "text": [
      "CPU times: user 331 ms, sys: 91.9 ms, total: 423 ms\n",
      "Wall time: 4 s\n"
     ]
    }
   ],
   "source": [
    "%%time\n",
    "\n",
    "for _ in range(n_workers):\n",
    "    sleep_1()"
   ]
  },
  {
   "cell_type": "markdown",
   "id": "48212c38-b057-4fc4-ba67-b0795bc5f7fa",
   "metadata": {},
   "source": [
    "As expected, our process takes about 4 seconds to run. Now let's execute this same workflow in parallel using Dask.\n",
    "Como esperado, nosso processo leva cerca de 4 segundos para ser executado. Agora vamos executar esse mesmo fluxo de trabalho em paralelo usando Dask.\n",
    "\n"
   ]
  },
  {
   "cell_type": "code",
   "execution_count": 28,
   "id": "eee9d45f-40de-475a-932e-8d192ae2408f",
   "metadata": {},
   "outputs": [
    {
     "name": "stdout",
     "output_type": "stream",
     "text": [
      "['Success!', 'Success!', 'Success!', 'Success!']\n",
      "CPU times: user 127 ms, sys: 10 ms, total: 137 ms\n",
      "Wall time: 1.03 s\n"
     ]
    }
   ],
   "source": [
    "%%time\n",
    "\n",
    "# define delayed execution graph\n",
    "sleep_operations = [delayed(sleep_1)() for _ in range(n_workers)]\n",
    "\n",
    "# use client to perform computations using execution graph\n",
    "sleep_futures = client.compute(sleep_operations, optimize_graph=False, fifo_timeout=\"0ms\")\n",
    "\n",
    "# collect and print results\n",
    "sleep_results = client.gather(sleep_futures)\n",
    "print(sleep_results)"
   ]
  },
  {
   "cell_type": "markdown",
   "id": "25791cdc-78d5-478d-907d-cef3c25d3e28",
   "metadata": {},
   "source": [
    "Using Dask, we see that this whole process takes a little over a second - each worker is executing in parallel!\n",
    "Usando o Dask, vemos que todo esse processo leva pouco mais de um segundo - cada trabalhador está executando em paralelo!"
   ]
  },
  {
   "cell_type": "markdown",
   "id": "92b3dfd9-9d94-454f-849d-7c405a9c646e",
   "metadata": {},
   "source": [
    "### Dask Cudf\n",
    "Let's start by creating a local cluster of workers and a client to interact with that cluster.\n",
    "Vamos começar criando um cluster local de trabalhadores e um cliente para interagir com esse cluster."
   ]
  },
  {
   "cell_type": "code",
   "execution_count": 29,
   "id": "0d04f5d4-4e98-4c7c-bac6-677a8fca9fc5",
   "metadata": {},
   "outputs": [
    {
     "name": "stderr",
     "output_type": "stream",
     "text": [
      "/home/jcnok/bootcamps/bootcamp-jornada-de-dados_2024/.venv/lib/python3.11/site-packages/distributed/node.py:182: UserWarning: Port 8787 is already in use.\n",
      "Perhaps you already have a cluster running?\n",
      "Hosting the HTTP server on port 40393 instead\n",
      "  warnings.warn(\n",
      "/home/jcnok/bootcamps/bootcamp-jornada-de-dados_2024/.venv/lib/python3.11/site-packages/dask_cuda/utils.py:170: UserWarning: Cannot get CPU affinity for device with index 0, setting default affinity\n",
      "  warnings.warn(\n"
     ]
    },
    {
     "data": {
      "text/html": [
       "<div>\n",
       "    <div style=\"width: 24px; height: 24px; background-color: #e1e1e1; border: 3px solid #9D9D9D; border-radius: 5px; position: absolute;\"> </div>\n",
       "    <div style=\"margin-left: 48px;\">\n",
       "        <h3 style=\"margin-bottom: 0px;\">Client</h3>\n",
       "        <p style=\"color: #9D9D9D; margin-bottom: 0px;\">Client-d4105a06-e01c-11ee-8a5c-6174df56fd34</p>\n",
       "        <table style=\"width: 100%; text-align: left;\">\n",
       "\n",
       "        <tr>\n",
       "        \n",
       "            <td style=\"text-align: left;\"><strong>Connection method:</strong> Cluster object</td>\n",
       "            <td style=\"text-align: left;\"><strong>Cluster type:</strong> dask_cuda.LocalCUDACluster</td>\n",
       "        \n",
       "        </tr>\n",
       "\n",
       "        \n",
       "            <tr>\n",
       "                <td style=\"text-align: left;\">\n",
       "                    <strong>Dashboard: </strong> <a href=\"http://127.0.0.1:40393/status\" target=\"_blank\">http://127.0.0.1:40393/status</a>\n",
       "                </td>\n",
       "                <td style=\"text-align: left;\"></td>\n",
       "            </tr>\n",
       "        \n",
       "\n",
       "        </table>\n",
       "\n",
       "        \n",
       "\n",
       "        \n",
       "            <details>\n",
       "            <summary style=\"margin-bottom: 20px;\"><h3 style=\"display: inline;\">Cluster Info</h3></summary>\n",
       "            <div class=\"jp-RenderedHTMLCommon jp-RenderedHTML jp-mod-trusted jp-OutputArea-output\">\n",
       "    <div style=\"width: 24px; height: 24px; background-color: #e1e1e1; border: 3px solid #9D9D9D; border-radius: 5px; position: absolute;\">\n",
       "    </div>\n",
       "    <div style=\"margin-left: 48px;\">\n",
       "        <h3 style=\"margin-bottom: 0px; margin-top: 0px;\">LocalCUDACluster</h3>\n",
       "        <p style=\"color: #9D9D9D; margin-bottom: 0px;\">d73dbc79</p>\n",
       "        <table style=\"width: 100%; text-align: left;\">\n",
       "            <tr>\n",
       "                <td style=\"text-align: left;\">\n",
       "                    <strong>Dashboard:</strong> <a href=\"http://127.0.0.1:40393/status\" target=\"_blank\">http://127.0.0.1:40393/status</a>\n",
       "                </td>\n",
       "                <td style=\"text-align: left;\">\n",
       "                    <strong>Workers:</strong> 1\n",
       "                </td>\n",
       "            </tr>\n",
       "            <tr>\n",
       "                <td style=\"text-align: left;\">\n",
       "                    <strong>Total threads:</strong> 1\n",
       "                </td>\n",
       "                <td style=\"text-align: left;\">\n",
       "                    <strong>Total memory:</strong> 7.68 GiB\n",
       "                </td>\n",
       "            </tr>\n",
       "            \n",
       "            <tr>\n",
       "    <td style=\"text-align: left;\"><strong>Status:</strong> running</td>\n",
       "    <td style=\"text-align: left;\"><strong>Using processes:</strong> True</td>\n",
       "</tr>\n",
       "\n",
       "            \n",
       "        </table>\n",
       "\n",
       "        <details>\n",
       "            <summary style=\"margin-bottom: 20px;\">\n",
       "                <h3 style=\"display: inline;\">Scheduler Info</h3>\n",
       "            </summary>\n",
       "\n",
       "            <div style=\"\">\n",
       "    <div>\n",
       "        <div style=\"width: 24px; height: 24px; background-color: #FFF7E5; border: 3px solid #FF6132; border-radius: 5px; position: absolute;\"> </div>\n",
       "        <div style=\"margin-left: 48px;\">\n",
       "            <h3 style=\"margin-bottom: 0px;\">Scheduler</h3>\n",
       "            <p style=\"color: #9D9D9D; margin-bottom: 0px;\">Scheduler-9a061646-4f18-402f-b3ae-c5987d3bf187</p>\n",
       "            <table style=\"width: 100%; text-align: left;\">\n",
       "                <tr>\n",
       "                    <td style=\"text-align: left;\">\n",
       "                        <strong>Comm:</strong> tcp://127.0.0.1:37575\n",
       "                    </td>\n",
       "                    <td style=\"text-align: left;\">\n",
       "                        <strong>Workers:</strong> 1\n",
       "                    </td>\n",
       "                </tr>\n",
       "                <tr>\n",
       "                    <td style=\"text-align: left;\">\n",
       "                        <strong>Dashboard:</strong> <a href=\"http://127.0.0.1:40393/status\" target=\"_blank\">http://127.0.0.1:40393/status</a>\n",
       "                    </td>\n",
       "                    <td style=\"text-align: left;\">\n",
       "                        <strong>Total threads:</strong> 1\n",
       "                    </td>\n",
       "                </tr>\n",
       "                <tr>\n",
       "                    <td style=\"text-align: left;\">\n",
       "                        <strong>Started:</strong> Just now\n",
       "                    </td>\n",
       "                    <td style=\"text-align: left;\">\n",
       "                        <strong>Total memory:</strong> 7.68 GiB\n",
       "                    </td>\n",
       "                </tr>\n",
       "            </table>\n",
       "        </div>\n",
       "    </div>\n",
       "\n",
       "    <details style=\"margin-left: 48px;\">\n",
       "        <summary style=\"margin-bottom: 20px;\">\n",
       "            <h3 style=\"display: inline;\">Workers</h3>\n",
       "        </summary>\n",
       "\n",
       "        \n",
       "        <div style=\"margin-bottom: 20px;\">\n",
       "            <div style=\"width: 24px; height: 24px; background-color: #DBF5FF; border: 3px solid #4CC9FF; border-radius: 5px; position: absolute;\"> </div>\n",
       "            <div style=\"margin-left: 48px;\">\n",
       "            <details>\n",
       "                <summary>\n",
       "                    <h4 style=\"margin-bottom: 0px; display: inline;\">Worker: 0</h4>\n",
       "                </summary>\n",
       "                <table style=\"width: 100%; text-align: left;\">\n",
       "                    <tr>\n",
       "                        <td style=\"text-align: left;\">\n",
       "                            <strong>Comm: </strong> tcp://127.0.0.1:35241\n",
       "                        </td>\n",
       "                        <td style=\"text-align: left;\">\n",
       "                            <strong>Total threads: </strong> 1\n",
       "                        </td>\n",
       "                    </tr>\n",
       "                    <tr>\n",
       "                        <td style=\"text-align: left;\">\n",
       "                            <strong>Dashboard: </strong> <a href=\"http://127.0.0.1:43695/status\" target=\"_blank\">http://127.0.0.1:43695/status</a>\n",
       "                        </td>\n",
       "                        <td style=\"text-align: left;\">\n",
       "                            <strong>Memory: </strong> 7.68 GiB\n",
       "                        </td>\n",
       "                    </tr>\n",
       "                    <tr>\n",
       "                        <td style=\"text-align: left;\">\n",
       "                            <strong>Nanny: </strong> tcp://127.0.0.1:37061\n",
       "                        </td>\n",
       "                        <td style=\"text-align: left;\"></td>\n",
       "                    </tr>\n",
       "                    <tr>\n",
       "                        <td colspan=\"2\" style=\"text-align: left;\">\n",
       "                            <strong>Local directory: </strong> /tmp/dask-scratch-space/worker-drnl3y_d\n",
       "                        </td>\n",
       "                    </tr>\n",
       "\n",
       "                    \n",
       "\n",
       "                    \n",
       "\n",
       "                </table>\n",
       "            </details>\n",
       "            </div>\n",
       "        </div>\n",
       "        \n",
       "\n",
       "    </details>\n",
       "</div>\n",
       "\n",
       "        </details>\n",
       "    </div>\n",
       "</div>\n",
       "            </details>\n",
       "        \n",
       "\n",
       "    </div>\n",
       "</div>"
      ],
      "text/plain": [
       "<Client: 'tcp://127.0.0.1:37575' processes=1 threads=1, memory=7.68 GiB>"
      ]
     },
     "execution_count": 29,
     "metadata": {},
     "output_type": "execute_result"
    },
    {
     "name": "stderr",
     "output_type": "stream",
     "text": [
      "2024-03-12 00:30:05,011 - distributed.core - INFO - Received 'close-stream' from tcp://127.0.0.1:48720; closing.\n",
      "2024-03-12 00:30:05,014 - distributed.scheduler - INFO - Remove worker <WorkerState 'tcp://127.0.0.1:35241', name: 0, status: closing, memory: 3, processing: 0> (stimulus_id='handle-worker-cleanup-1710214205.01484')\n",
      "2024-03-12 00:30:05,016 - distributed.scheduler - INFO - Lost all workers\n",
      "2024-03-12 00:30:06,132 - distributed.scheduler - INFO - Scheduler closing due to unknown reason...\n",
      "2024-03-12 00:30:06,136 - distributed.scheduler - INFO - Scheduler closing all comms\n"
     ]
    }
   ],
   "source": [
    "from dask.distributed import Client\n",
    "from dask_cuda import LocalCUDACluster\n",
    "\n",
    "\n",
    "# create a local CUDA cluster\n",
    "cluster = LocalCUDACluster()\n",
    "client = Client(cluster)\n",
    "client"
   ]
  },
  {
   "cell_type": "markdown",
   "id": "baf88742-d9f8-4f5a-9ad7-c92402cde33b",
   "metadata": {},
   "source": [
    "We'll define a function called load_data that will create a cudf.DataFrame with two columns, key and value. The column key will be randomly filled with either a 0 or a 1, with 50% probability of either number being selected. The column value will be randomly filled with numbers sampled from a normal distribution.\n",
    "\n",
    "Definiremos uma função chamada load_data que criará um cudf.DataFrame com duas colunas, chave e valor. A chave da coluna será preenchida aleatoriamente com 0 ou 1, com 50% de probabilidade de qualquer um dos números ser selecionado. O valor da coluna será preenchido aleatoriamente com números amostrados de uma distribuição normal."
   ]
  },
  {
   "cell_type": "code",
   "execution_count": 30,
   "id": "1b8bbaa1-f989-4d68-885b-201be8ad0510",
   "metadata": {},
   "outputs": [
    {
     "name": "stdout",
     "output_type": "stream",
     "text": [
      "cuDF Version: 24.04.00a546\n",
      "NumPy Version: 1.26.4\n"
     ]
    }
   ],
   "source": [
    "import cudf; print('cuDF Version:', cudf.__version__)\n",
    "import numpy as np; print('NumPy Version:', np.__version__)\n",
    "\n",
    "\n",
    "def load_data(n_rows):\n",
    "    df = cudf.DataFrame()\n",
    "    random_state = np.random.RandomState(43210)\n",
    "    df['key'] = random_state.binomial(n=1, p=0.5, size=(n_rows,))\n",
    "    df['value'] = random_state.normal(size=(n_rows,))\n",
    "    return df"
   ]
  },
  {
   "cell_type": "markdown",
   "id": "c0309e49-bae5-446d-ad3c-ebab2156570e",
   "metadata": {},
   "source": [
    "We'll also define a function head that takes a cudf.DataFrame and returns the first 5 rows.\n",
    "Também definiremos um cabeçalho de função que recebe cudf.DataFrame e retorna as 5 primeiras linhas."
   ]
  },
  {
   "cell_type": "code",
   "execution_count": 31,
   "id": "2873fe84-a7ea-4b0b-819e-61e702546c09",
   "metadata": {},
   "outputs": [],
   "source": [
    "def head(dataframe):\n",
    "    return dataframe.head()"
   ]
  },
  {
   "cell_type": "markdown",
   "id": "d3958446-1ef5-4b5e-9040-b82ff86ab04e",
   "metadata": {},
   "source": [
    "We'll define the number of workers as well as the number of rows each dataframe will have.\n",
    "Definiremos o número de trabalhadores, bem como o número de linhas que cada dataframe terá.\n"
   ]
  },
  {
   "cell_type": "code",
   "execution_count": 33,
   "id": "05f89ffe-beba-4504-a8c2-91a83312244f",
   "metadata": {},
   "outputs": [],
   "source": [
    "# define the number of workers\n",
    "n_workers = 1  # feel free to change this depending on how many GPUs you have\n",
    "\n",
    "# define the number of rows each dataframe will have\n",
    "n_rows = 125000000  # we'll use 125 million rows in each dataframe"
   ]
  },
  {
   "cell_type": "markdown",
   "id": "86682a50-b7a9-436a-a193-3ae02c547e4a",
   "metadata": {},
   "source": [
    "We'll create each dataframe using the delayed operator.\n",
    "Criaremos cada dataframe usando o operador atrasado."
   ]
  },
  {
   "cell_type": "code",
   "execution_count": 34,
   "id": "429493d9-1a9c-43eb-b3b6-45f1d99e2106",
   "metadata": {},
   "outputs": [
    {
     "data": {
      "text/plain": [
       "[Delayed('load_data-f841e897-3a26-45fb-8278-a9fe8eec0745')]"
      ]
     },
     "execution_count": 34,
     "metadata": {},
     "output_type": "execute_result"
    }
   ],
   "source": [
    "from dask.delayed import delayed\n",
    "\n",
    "\n",
    "# create each dataframe using a delayed operation\n",
    "dfs = [delayed(load_data)(n_rows) for i in range(n_workers)]\n",
    "dfs"
   ]
  },
  {
   "cell_type": "markdown",
   "id": "0cef00e8-138c-4b64-b673-8d1d4757baa7",
   "metadata": {},
   "source": [
    "Vemos que o resultado desta operação é uma lista de objetos atrasados. É importante notar que estas operações estão “atrasadas” – nada foi computado ainda, ou seja, nossos dados ainda não foram criados! Podemos aplicar a função head a cada um de nossos dataframes \"atrasados\"."
   ]
  },
  {
   "cell_type": "code",
   "execution_count": 35,
   "id": "5d14eb48-4fa0-4c59-bcd8-342be2868e69",
   "metadata": {},
   "outputs": [
    {
     "data": {
      "text/plain": [
       "[Delayed('head-3beb5e6e-57b2-4736-9bc3-0c4832d33392')]"
      ]
     },
     "execution_count": 35,
     "metadata": {},
     "output_type": "execute_result"
    }
   ],
   "source": [
    "head_dfs = [delayed(head)(df) for df in dfs]\n",
    "head_dfs"
   ]
  },
  {
   "cell_type": "markdown",
   "id": "13035b8b-888f-41f5-9b0b-9d3f3e4386da",
   "metadata": {},
   "source": [
    "\n",
    "Como antes, vemos que o resultado é uma lista de objetos Delayed – uma coisa importante a notar é que nossa “chave”, ou identificador exclusivo para cada operação, mudou. Você deverá ver o nome do cabeçalho da função seguido por um sinal de cerquilha. Por exemplo, pode-se ver: [Delayed('head-8e946db2-feaf-4e79-99ab-f732b6e28461') Delayed('head-eb06bc77-9d5c-4a47-8c01-b5b36710b727')] Novamente, nada foi computado - vamos calcular os resultados e execute o fluxo de trabalho usando o método client.compute()."
   ]
  },
  {
   "cell_type": "code",
   "execution_count": 36,
   "id": "15d6447b-cfd9-42c9-9e68-f202a26699ca",
   "metadata": {},
   "outputs": [
    {
     "data": {
      "text/plain": [
       "[<Future: finished, type: cudf.core.dataframe.DataFrame, key: head-3beb5e6e-57b2-4736-9bc3-0c4832d33392>]"
      ]
     },
     "execution_count": 36,
     "metadata": {},
     "output_type": "execute_result"
    }
   ],
   "source": [
    "from dask.distributed import wait\n",
    "\n",
    "\n",
    "# use the client to compute - this means create each dataframe and take the head\n",
    "futures = client.compute(head_dfs)\n",
    "wait(futures)  # this will give Dask time to execute the work before moving to any subsequently defined operations\n",
    "futures"
   ]
  },
  {
   "cell_type": "markdown",
   "id": "095d322b-5299-41aa-ae41-0af20be1f125",
   "metadata": {},
   "source": [
    "We see that our results are a list of futures. Each object in this list tells us a bit information about itself: the status (pending, error, finished), the type of the object, and the key (unique identifief).\n",
    "\n",
    "We can use the client.gather method to collect the results of each of these futures.\n",
    "\n",
    "Vemos que nossos resultados são uma lista de futuros. Cada objeto nesta lista nos fornece algumas informações sobre si mesmo: o status (pendente, erro, concluído), o tipo do objeto e a chave (identificação única). Podemos usar o método client.gather para coletar os resultados de cada um desses futuros."
   ]
  },
  {
   "cell_type": "code",
   "execution_count": 37,
   "id": "e11422f9-303d-4f4a-95b1-8d2353779ca3",
   "metadata": {},
   "outputs": [
    {
     "data": {
      "text/plain": [
       "[   key     value\n",
       " 0    1  0.689155\n",
       " 1    0  0.999085\n",
       " 2    0 -0.277850\n",
       " 3    1 -1.535017\n",
       " 4    1 -0.028184]"
      ]
     },
     "execution_count": 37,
     "metadata": {},
     "output_type": "execute_result"
    }
   ],
   "source": [
    "# collect the results\n",
    "results = client.gather(futures)\n",
    "results"
   ]
  },
  {
   "cell_type": "markdown",
   "id": "2946b49d-859f-447c-a9e7-e46094e32ef7",
   "metadata": {},
   "source": [
    "We see that our results are a list of cuDF DataFrames, each having 2 columns and 5 rows. Let's inspect the first dataframe:\n",
    "Vemos que nossos resultados são uma lista de DataFrames cuDF, cada um com 2 colunas e 5 linhas. Vamos inspecionar o primeiro dataframe:"
   ]
  },
  {
   "cell_type": "code",
   "execution_count": 38,
   "id": "f41dbd82-7583-47fa-818b-ec0ea7ff3a4e",
   "metadata": {},
   "outputs": [
    {
     "name": "stdout",
     "output_type": "stream",
     "text": [
      "   key     value\n",
      "0    1  0.689155\n",
      "1    0  0.999085\n",
      "2    0 -0.277850\n",
      "3    1 -1.535017\n",
      "4    1 -0.028184\n"
     ]
    }
   ],
   "source": [
    "# let's inspect the head of the first dataframe\n",
    "print(results[0])"
   ]
  },
  {
   "cell_type": "markdown",
   "id": "9d2f8437-b6c0-447c-bd76-073417b2d515",
   "metadata": {},
   "source": [
    "That was a pretty simple example. Let's see how we can use this perform a more complex operation like figuring how many total rows we have across all of our dataframes. We'll define a function called length that will take a cudf.DataFrame and return the first value of the shape attribute i.e. the number of rows for that particular dataframe.\n",
    "\n",
    "Esse foi um exemplo bem simples. Vamos ver como podemos usar isso para realizar uma operação mais complexa, como descobrir quantas linhas totais temos em todos os nossos dataframes. Definiremos uma função chamada length que pegará um cudf.DataFrame e retornará o primeiro valor do atributo shape, ou seja, o número de linhas para aquele dataframe específico."
   ]
  },
  {
   "cell_type": "code",
   "execution_count": 39,
   "id": "1c31ce80-aac4-483b-9755-4c2d507cd896",
   "metadata": {},
   "outputs": [],
   "source": [
    "def length(dataframe):\n",
    "    return dataframe.shape[0]"
   ]
  },
  {
   "cell_type": "markdown",
   "id": "80d4d93a-7a90-4cd0-bbe4-7eca6bcbd03c",
   "metadata": {},
   "source": [
    "We'll define our operation on the dataframes we've created:\n",
    "Definiremos nossa operação nos dataframes que criamos:"
   ]
  },
  {
   "cell_type": "code",
   "execution_count": 40,
   "id": "dc0ba000-a15b-437a-8732-33a3dc7b2047",
   "metadata": {},
   "outputs": [
    {
     "data": {
      "text/plain": [
       "[Delayed('length-fff0b6ca-f3eb-4698-bc09-51d97eae936e')]"
      ]
     },
     "execution_count": 40,
     "metadata": {},
     "output_type": "execute_result"
    }
   ],
   "source": [
    "lengths = [delayed(length)(df) for df in dfs]\n",
    "lengths"
   ]
  },
  {
   "cell_type": "markdown",
   "id": "e623352d-6f02-4f43-a530-1199382dd95c",
   "metadata": {},
   "source": [
    "And then use Python's built-in sum function to sum all of these lengths.\n",
    "E então use a função sum integrada do Python para somar todos esses comprimentos."
   ]
  },
  {
   "cell_type": "code",
   "execution_count": 41,
   "id": "afa44f75-497d-48fb-aac2-4560e1093489",
   "metadata": {},
   "outputs": [],
   "source": [
    "total_number_of_rows = delayed(sum)(lengths)\n"
   ]
  },
  {
   "cell_type": "markdown",
   "id": "ee65de7b-4b14-43e5-bda6-330fdc19146d",
   "metadata": {},
   "source": [
    "At this point, total_number_of_rows hasn't been computed yet. But we can still visualize the graph of operations we've defined using the visualize() method.\n",
    "Neste ponto, total_number_of_rows ainda não foi calculado. Mas ainda podemos visualizar o gráfico de operações que definimos usando o método visualize()."
   ]
  },
  {
   "cell_type": "code",
   "execution_count": 43,
   "id": "92b356f9-e408-4e1c-8213-cd6d0ab415dc",
   "metadata": {},
   "outputs": [],
   "source": [
    "# total_number_of_rows.visualize()"
   ]
  },
  {
   "cell_type": "markdown",
   "id": "6ff6af2f-4e77-4a37-867a-ea77606428a3",
   "metadata": {},
   "source": [
    "The graph can be read from bottom to top. We see that for each worker, we will first execute the load_data function to create each dataframe. Then the function length will be applied to each dataframe; the results from these operations on each worker will then be combined into a single result via the sum function.\n",
    "\n",
    "Let's now execute our workflow and compute a value for the total_number_of_rows variable.\n",
    "\n",
    "O gráfico pode ser lido de baixo para cima. Vemos que para cada trabalhador, primeiro executaremos a função load_data para criar cada dataframe. Em seguida, o comprimento da função será aplicado a cada dataframe; os resultados dessas operações em cada trabalhador serão então combinados em um único resultado por meio da função soma. Vamos agora executar nosso fluxo de trabalho e calcular um valor para a variável total_number_of_rows."
   ]
  },
  {
   "cell_type": "code",
   "execution_count": 44,
   "id": "a082803a-cccd-482e-b7cd-e56739497499",
   "metadata": {},
   "outputs": [
    {
     "data": {
      "text/html": [
       "<strong>Future: sum</strong>\n",
       "<span style=\"color: var(--jp-ui-font-color2, gray)\"> status: </span>\n",
       "\n",
       "\n",
       "<span style=\"color: var(--jp-error-color0, black)\">finished</span>,\n",
       "\n",
       "\n",
       "\n",
       "<span style=\"color: var(--jp-ui-font-color2, gray)\"> type:</span> int,\n",
       "\n",
       "\n",
       "<span style=\"color: var(--jp-ui-font-color2, gray)\"> key:</span> sum-4786aa41-17e6-4928-b8c2-24aa529014a4"
      ],
      "text/plain": [
       "<Future: finished, type: int, key: sum-4786aa41-17e6-4928-b8c2-24aa529014a4>"
      ]
     },
     "execution_count": 44,
     "metadata": {},
     "output_type": "execute_result"
    }
   ],
   "source": [
    "# use the client to compute the result and wait for it to finish\n",
    "future = client.compute(total_number_of_rows)\n",
    "wait(future)\n",
    "future"
   ]
  },
  {
   "cell_type": "markdown",
   "id": "83726f52-9c39-4c22-a040-ddaf11d17a52",
   "metadata": {},
   "source": [
    "We see that our computation has finished - our result is of type int. We can collect our result using the client.gather() method.\n",
    "Vemos que nosso cálculo foi concluído – nosso resultado é do tipo int. Podemos coletar nosso resultado usando o método client.gather()."
   ]
  },
  {
   "cell_type": "code",
   "execution_count": 45,
   "id": "c0c47376-b1e7-4b97-93c9-6e79ef0d75d8",
   "metadata": {},
   "outputs": [
    {
     "data": {
      "text/plain": [
       "125000000"
      ]
     },
     "execution_count": 45,
     "metadata": {},
     "output_type": "execute_result"
    }
   ],
   "source": [
    "# collect result\n",
    "result = client.gather(future)\n",
    "result"
   ]
  },
  {
   "cell_type": "markdown",
   "id": "da8f1763-54d7-471b-b5f3-0686fa56e5dd",
   "metadata": {},
   "source": [
    "That's all there is to it! We can define even more complex operations and workflows using cuDF DataFrames by using the delayed, wait, client.submit(), and client.gather() workflow.\n",
    "\n",
    "However, there can sometimes be a drawback from using this pattern. For example, consider a common operation such as a groupby - we might want to group on certain keys and aggregate the values to compute a mean, variance, or even more complex aggregations. Each dataframe is located on a different GPU - and we're not guaranteed that all of the keys necessary for that groupby operation are located on a single GPU i.e. keys may be scattered across multiple GPUs.\n",
    "\n",
    "To make our problem even more concrete, let's consider the simple operation of grouping on our key column and calculating the mean of the value column. To sovle this problem, we'd have to sort the data and transfer keys and their associated values from one GPU to another - a tricky thing to do using the delayed pattern. In the example below, we'll show an example of this issue with the delayed pattern and motivate why one might consider using the dask_cudf API.\n",
    "\n",
    "First, let's define a function groupby that takes a cudf.DataFrame, groups by the key column, and calculates the mean of the value column.\n",
    "\n",
    "Isso é tudo que há para fazer! Podemos definir operações e fluxos de trabalho ainda mais complexos usando cuDF DataFrames usando o fluxo de trabalho atrasado, de espera, client.submit() e client.gather(). No entanto, às vezes pode haver uma desvantagem no uso desse padrão. Por exemplo, considere uma operação comum como groupby - podemos querer agrupar em determinadas chaves e agregar os valores para calcular uma média, variância ou agregações ainda mais complexas. Cada dataframe está localizado em uma GPU diferente - e não temos garantia de que todas as chaves necessárias para essa operação de agrupamento estejam localizadas em uma única GPU, ou seja, as chaves podem estar espalhadas por várias GPUs. Para tornar nosso problema ainda mais concreto, vamos considerar a operação simples de agrupar em nossa coluna-chave e calcular a média da coluna de valor. Para resolver esse problema, teríamos que classificar os dados e transferir chaves e seus valores associados de uma GPU para outra - algo complicado de fazer usando o padrão atrasado. No exemplo abaixo, mostraremos um exemplo desse problema com o padrão atrasado e motivaremos por que alguém pode considerar o uso da API dask_cudf. Primeiro, vamos definir uma função groupby que pega um cudf.DataFrame, agrupa pela coluna-chave e calcula a média da coluna de valor."
   ]
  },
  {
   "cell_type": "code",
   "execution_count": 46,
   "id": "673306e4-b51e-4a76-8fe0-76549230433f",
   "metadata": {},
   "outputs": [],
   "source": [
    "def groupby(dataframe):\n",
    "    return dataframe.groupby('key')['value'].mean()"
   ]
  },
  {
   "cell_type": "markdown",
   "id": "2f4a62a5-dd21-49aa-bfa8-42bc0ea91df5",
   "metadata": {},
   "source": [
    "We'll apply the function groupby to each dataframe using the delayed operation.\n",
    "Aplicaremos a função groupby a cada dataframe usando a operação atrasada."
   ]
  },
  {
   "cell_type": "code",
   "execution_count": 47,
   "id": "c9adc193-77d1-4067-9df2-97d8045f1a2d",
   "metadata": {},
   "outputs": [],
   "source": [
    "groupbys = [delayed(groupby)(df) for df in dfs]"
   ]
  },
  {
   "cell_type": "code",
   "execution_count": 48,
   "id": "8d6d72fc-f1d0-4d69-bbc1-af88f49e27dc",
   "metadata": {},
   "outputs": [
    {
     "data": {
      "text/plain": [
       "[<Future: finished, type: cudf.core.series.Series, key: groupby-03b5af48-c53f-424f-bebb-06dc1a521cf8>]"
      ]
     },
     "execution_count": 48,
     "metadata": {},
     "output_type": "execute_result"
    }
   ],
   "source": [
    "# use the client to compute the result and wait for it to finish\n",
    "groupby_dfs = client.compute(groupbys)\n",
    "wait(groupby_dfs)\n",
    "groupby_dfs"
   ]
  },
  {
   "cell_type": "code",
   "execution_count": 49,
   "id": "5e547c16-5942-4566-9c1a-22327468aa66",
   "metadata": {},
   "outputs": [
    {
     "data": {
      "text/plain": [
       "[key\n",
       " 0   -0.000173\n",
       " 1   -0.000059\n",
       " Name: value, dtype: float64]"
      ]
     },
     "execution_count": 49,
     "metadata": {},
     "output_type": "execute_result"
    }
   ],
   "source": [
    "results = client.gather(groupby_dfs)\n",
    "results"
   ]
  },
  {
   "cell_type": "code",
   "execution_count": 50,
   "id": "ef96d75c-e238-4b1a-adfa-2470b1e48b1b",
   "metadata": {},
   "outputs": [
    {
     "name": "stdout",
     "output_type": "stream",
     "text": [
      "cuDF DataFrame: 0\n",
      "key\n",
      "0   -0.000173\n",
      "1   -0.000059\n",
      "Name: value, dtype: float64\n"
     ]
    }
   ],
   "source": [
    "for i, result in enumerate(results):\n",
    "    print('cuDF DataFrame:', i)\n",
    "    print(result)"
   ]
  },
  {
   "cell_type": "markdown",
   "id": "08d9da46-2fa7-4061-85b3-4eb887eb3343",
   "metadata": {},
   "source": [
    "This isn't exactly what we wanted though - ideally, we'd get one dataframe where for each unique key (0 and 1), we get the mean of the value column.\n",
    "\n",
    "We can use the dask_cudf API to help up solve this problem. First we'll import the dask_cudf library and then use the dask_cudf.from_delayed function to convert our list of delayed dataframes to an object of type dask_cudf.core.DataFrame. We'll use this object - distributed_df - along with the dask_cudf API to perform that \"tricky\" groupby operation.\n",
    "\n",
    "Porém, isso não é exatamente o que queríamos - idealmente, obteríamos um dataframe onde, para cada chave exclusiva (0 e 1), obteríamos a média da coluna de valor. Podemos usar a API dask_cudf para ajudar a resolver este problema. Primeiro importaremos a biblioteca dask_cudf e depois usaremos a função dask_cudf.from_delayed para converter nossa lista de dataframes atrasados ​​em um objeto do tipo dask_cudf.core.DataFrame. Usaremos este objeto - distribuído_df - junto com a API dask_cudf para realizar aquela operação \"complicada\" de agrupamento."
   ]
  },
  {
   "cell_type": "code",
   "execution_count": null,
   "id": "6f13f25a-09c4-47ce-8522-d93560e7e48c",
   "metadata": {},
   "outputs": [],
   "source": []
  },
  {
   "cell_type": "code",
   "execution_count": 51,
   "id": "bc75d3fa-3485-4056-a547-476ba3c109f7",
   "metadata": {},
   "outputs": [
    {
     "name": "stdout",
     "output_type": "stream",
     "text": [
      "Dask cuDF Version: 24.04.00a546\n",
      "Type: <class 'dask_cudf.core.DataFrame'>\n"
     ]
    },
    {
     "data": {
      "text/html": [
       "<div><strong>Dask DataFrame Structure:</strong></div>\n",
       "<div>\n",
       "<style scoped>\n",
       "    .dataframe tbody tr th:only-of-type {\n",
       "        vertical-align: middle;\n",
       "    }\n",
       "\n",
       "    .dataframe tbody tr th {\n",
       "        vertical-align: top;\n",
       "    }\n",
       "\n",
       "    .dataframe thead th {\n",
       "        text-align: right;\n",
       "    }\n",
       "</style>\n",
       "<table border=\"1\" class=\"dataframe\">\n",
       "  <thead>\n",
       "    <tr style=\"text-align: right;\">\n",
       "      <th></th>\n",
       "      <th>key</th>\n",
       "      <th>value</th>\n",
       "    </tr>\n",
       "    <tr>\n",
       "      <th>npartitions=1</th>\n",
       "      <th></th>\n",
       "      <th></th>\n",
       "    </tr>\n",
       "  </thead>\n",
       "  <tbody>\n",
       "    <tr>\n",
       "      <th></th>\n",
       "      <td>int64</td>\n",
       "      <td>float64</td>\n",
       "    </tr>\n",
       "    <tr>\n",
       "      <th></th>\n",
       "      <td>...</td>\n",
       "      <td>...</td>\n",
       "    </tr>\n",
       "  </tbody>\n",
       "</table>\n",
       "</div>\n",
       "<div>Dask Name: from-delayed, 2 graph layers</div>"
      ],
      "text/plain": [
       "<dask_cudf.DataFrame | 2 tasks | 1 npartitions>"
      ]
     },
     "execution_count": 51,
     "metadata": {},
     "output_type": "execute_result"
    }
   ],
   "source": [
    "import dask_cudf; print('Dask cuDF Version:', dask_cudf.__version__)\n",
    "\n",
    "\n",
    "# create a distributed cuDF DataFrame using Dask\n",
    "distributed_df = dask_cudf.from_delayed(dfs)\n",
    "print('Type:', type(distributed_df))\n",
    "distributed_df"
   ]
  },
  {
   "cell_type": "markdown",
   "id": "bcbb349e-3cdc-4ddf-95c9-df2bbaea7db2",
   "metadata": {},
   "source": [
    "The dask_cudf API closely mirrors the cuDF API. We can use a groupby similar to how we would with cuDF - but this time, our operation is distributed across multiple GPUs!\n",
    "A API dask_cudf reflete de perto a API cuDF. Podemos usar um groupby semelhante ao que faríamos com cuDF - mas desta vez, nossa operação é distribuída por várias GPUs!"
   ]
  },
  {
   "cell_type": "code",
   "execution_count": null,
   "id": "0dc2f106-d02a-45d8-8e4d-832d09c2d97a",
   "metadata": {},
   "outputs": [],
   "source": [
    "result = distributed_df.groupby('key')['value'].mean().compute()\n",
    "result"
   ]
  },
  {
   "cell_type": "markdown",
   "id": "59a9ea14-bacc-420c-89ac-ec61c5ed026e",
   "metadata": {},
   "source": [
    "Lastly, let's examine our result!\n",
    "\n",
    "Por último, vamos examinar nosso resultado!"
   ]
  },
  {
   "cell_type": "code",
   "execution_count": 54,
   "id": "7cdf7f68-b0fa-4832-ba4a-6917a6fe3ff1",
   "metadata": {},
   "outputs": [
    {
     "name": "stdout",
     "output_type": "stream",
     "text": [
      "key\n",
      "0   -0.000173\n",
      "1   -0.000059\n",
      "Name: value, dtype: float64\n"
     ]
    }
   ],
   "source": [
    "print(result)"
   ]
  },
  {
   "cell_type": "markdown",
   "id": "f2ac218d-60f5-4f0c-bb05-886f74fef005",
   "metadata": {},
   "source": [
    "## Resultados:"
   ]
  },
  {
   "cell_type": "markdown",
   "id": "67997a8d-42a5-40bd-928a-02614905e4fd",
   "metadata": {},
   "source": [
    "#### Segue abaixo o resultado do ranking geral de todos os testes realizados para calcular o min, max e média ordenado pela cidade em um bilhão de linhas."
   ]
  },
  {
   "cell_type": "markdown",
   "id": "da22e866-e7f7-49b3-930b-408535bcdcc7",
   "metadata": {},
   "source": [
    "* **obs:** Vale ressaltar que esse resultado só serve de parâmetro para minha máquina, com base nos scripts gerados aqui, certamente cabem espaços para otimização e em outros cenários os resultados podem ser bem divergentes.\n",
    "* segue as configurações da minha máquina abaixo:"
   ]
  },
  {
   "cell_type": "markdown",
   "id": "237c7c2e-4c8e-41ee-bcc1-c0834c01cbad",
   "metadata": {},
   "source": [
    "#### Memória:\n",
    "Memory block size:       128M\n",
    "Total online memory:      12G\n",
    "Total offline memory:      0B"
   ]
  },
  {
   "cell_type": "markdown",
   "id": "32d37301-3900-45b5-b5a0-09c6b6f52210",
   "metadata": {},
   "source": [
    "#### CPU:\n",
    "Architecture:            x86_64\n",
    "  CPU op-mode(s):        32-bit, 64-bit\n",
    "  Address sizes:         46 bits physical, 48 bits virtual\n",
    "  Byte Order:            Little Endian\n",
    "CPU(s):                  24\n",
    "  On-line CPU(s) list:   0-23\n",
    "Vendor ID:               GenuineIntel\n",
    "  Model name:            Intel(R) Xeon(R) CPU E5-2670 v3 @ 2.30GHz\n",
    "    CPU family:          6\n",
    "    Model:               63\n",
    "    Thread(s) per core:  2\n",
    "    Core(s) per socket:  12\n",
    "    Socket(s):           1"
   ]
  },
  {
   "cell_type": "markdown",
   "id": "03902619-8afb-4d6d-bd2a-18f084a93113",
   "metadata": {},
   "source": [
    "#### GPU:\n",
    "RTX 3060ti 8Gbs"
   ]
  },
  {
   "cell_type": "code",
   "execution_count": null,
   "id": "dc6a1b93-b6af-49f4-b4bb-a059547f723e",
   "metadata": {},
   "outputs": [],
   "source": [
    "!poetry add matplotlib"
   ]
  },
  {
   "cell_type": "code",
   "execution_count": 11,
   "id": "09643745-6f33-4b8d-98ae-4fc7f548522e",
   "metadata": {
    "scrolled": true
   },
   "outputs": [
    {
     "data": {
      "image/png": "[encoded data removed]",
      "text/plain": [
       "<Figure size 1000x600 with 1 Axes>"
      ]
     },
     "metadata": {},
     "output_type": "display_data"
    }
   ],
   "source": [
    "#script para plotar um grafico do ranking geral.\n",
    "import csv\n",
    "import matplotlib.pyplot as plt\n",
    "\n",
    "# Leitura dos dados do arquivo CSV\n",
    "dados = []\n",
    "\n",
    "with open('data/tempos_execucao.csv', 'r') as csvfile:\n",
    "    reader = csv.reader(csvfile)\n",
    "    for row in reader:\n",
    "        nome_funcao = row[0]\n",
    "        tempo = row[1].split()  # Separa minutos e segundos\n",
    "        if len(tempo) == 2 and tempo[1] == 'segundos':  # Se houver apenas segundos\n",
    "            tempo_total = float(tempo[0])\n",
    "        elif len(tempo) == 4:  # Se houver minutos e segundos\n",
    "            minutos = float(tempo[0])\n",
    "            segundos = float(tempo[2])\n",
    "            tempo_total = minutos * 60 + segundos  # Converte minutos para segundos\n",
    "        else:\n",
    "            raise ValueError(f'Formato de tempo inválido: {row[1]}')\n",
    "        dados.append((nome_funcao, tempo_total))\n",
    "\n",
    "# Ordena os dados pelo tempo de execução\n",
    "dados_ordenados = sorted(dados, key=lambda x: x[1])\n",
    "\n",
    "# Extrai os nomes das funções e os tempos de execução ordenados\n",
    "nomes_funcoes_ordenados = [item[0] for item in dados_ordenados]\n",
    "tempos_execucao_ordenados = [item[1] for item in dados_ordenados]\n",
    "\n",
    "# Plotagem do gráfico\n",
    "plt.figure(figsize=(10, 6))\n",
    "plt.barh(nomes_funcoes_ordenados, tempos_execucao_ordenados, color='skyblue')\n",
    "plt.xlabel('Tempo de Execução (segundos)')\n",
    "plt.ylabel('Função')\n",
    "plt.title('Tempo de Execução das Funções (Ordenado)')\n",
    "plt.grid(axis='x')\n",
    "plt.tight_layout()\n",
    "\n",
    "# Adicionando os valores nas barras\n",
    "for i, valor in enumerate(tempos_execucao_ordenados):\n",
    "    plt.text(valor, i, f'{valor:.2f} s', va='center')\n",
    "\n",
    "# Exibindo o gráfico\n",
    "plt.show()\n"
   ]
  },
  {
   "cell_type": "code",
   "execution_count": null,
   "id": "8841ca81-aeae-4ab6-866f-0651b6526b04",
   "metadata": {},
   "outputs": [],
   "source": []
  },
  {
   "cell_type": "code",
   "execution_count": null,
   "id": "8cfb0c6c-c3a2-4843-8e85-3c7ac77d403e",
   "metadata": {},
   "outputs": [],
   "source": [
    "<a id=\"ancora01\"></a>"
   ]
  },
  {
   "cell_type": "code",
   "execution_count": null,
   "id": "edab018f-e073-4ab4-ba69-6b98813986ec",
   "metadata": {},
   "outputs": [],
   "source": [
    "<a id=\"ancora02\"></a>"
   ]
  },
  {
   "cell_type": "code",
   "execution_count": null,
   "id": "fabd8557-34ae-4873-bbd6-02819ea12b15",
   "metadata": {},
   "outputs": [],
   "source": [
    "<a id=\"ancora03\"></a>"
   ]
  },
  {
   "cell_type": "code",
   "execution_count": null,
   "id": "5e40fd2e-d5d3-494a-89d0-3e2109f5b0fe",
   "metadata": {},
   "outputs": [],
   "source": [
    "<a id=\"ancora04\"></a>"
   ]
  },
  {
   "cell_type": "code",
   "execution_count": null,
   "id": "80890444-09da-4dd7-a4a4-21a3213c53ad",
   "metadata": {},
   "outputs": [],
   "source": [
    "<a id=\"ancora05\"></a>"
   ]
  },
  {
   "cell_type": "code",
   "execution_count": null,
   "id": "80dc9972-7238-4976-89f5-263dfbcceefe",
   "metadata": {},
   "outputs": [],
   "source": [
    "<a id=\"ancora06\"></a>"
   ]
  },
  {
   "cell_type": "code",
   "execution_count": null,
   "id": "12eb553c-e8d9-4050-94bf-ab84dab6537e",
   "metadata": {},
   "outputs": [],
   "source": [
    "<a id=\"ancora07\"></a>"
   ]
  },
  {
   "cell_type": "code",
   "execution_count": null,
   "id": "f4f49135-6883-4aae-aa1a-86b22496ddcc",
   "metadata": {},
   "outputs": [],
   "source": [
    "<a id=\"ancora08\"></a>"
   ]
  },
  {
   "cell_type": "code",
   "execution_count": null,
   "id": "a5fca550-56b0-408d-98ae-26b8967ecb55",
   "metadata": {},
   "outputs": [],
   "source": [
    "<a id=\"ancora09\"></a>"
   ]
  },
  {
   "cell_type": "code",
   "execution_count": null,
   "id": "f6d9e29f-1b68-420f-a9d0-79998bef6847",
   "metadata": {},
   "outputs": [],
   "source": [
    "<a id=\"ancora10\"></a>"
   ]
  },
  {
   "cell_type": "code",
   "execution_count": null,
   "id": "c7e808a9-c4c1-46d8-b29e-2553caa37d0b",
   "metadata": {},
   "outputs": [],
   "source": [
    "<a id=\"ancora11\"></a>"
   ]
  },
  {
   "cell_type": "code",
   "execution_count": null,
   "id": "912e1461-caf7-4252-ab8d-ede0f6f6419a",
   "metadata": {},
   "outputs": [],
   "source": [
    "<a id=\"ancora12\"></a>"
   ]
  },
  {
   "cell_type": "code",
   "execution_count": null,
   "id": "ea98eb77-35ad-4d99-b14b-b918b68c83e8",
   "metadata": {},
   "outputs": [],
   "source": [
    "<a id=\"ancora13\"></a>"
   ]
  },
  {
   "cell_type": "code",
   "execution_count": null,
   "id": "d85b02a0-6493-4c05-b0f8-6250c848cd19",
   "metadata": {},
   "outputs": [],
   "source": [
    "<a id=\"ancora14\"></a>"
   ]
  },
  {
   "cell_type": "code",
   "execution_count": null,
   "id": "7073b820-4cde-4db7-88e0-1cc81c5d61ef",
   "metadata": {},
   "outputs": [],
   "source": [
    "<a id=\"ancora15\"></a>"
   ]
  },
  {
   "cell_type": "code",
   "execution_count": null,
   "id": "62da02d5-0cfe-4797-8492-d0ac66400b2a",
   "metadata": {},
   "outputs": [],
   "source": [
    "<a id=\"ancora16\"></a>"
   ]
  },
  {
   "cell_type": "code",
   "execution_count": null,
   "id": "4d3d620b-fff8-4510-b55a-dd8bfb84c339",
   "metadata": {},
   "outputs": [],
   "source": [
    "<a id=\"ancora17\"></a>"
   ]
  },
  {
   "cell_type": "code",
   "execution_count": null,
   "id": "bbd0aa1f-81c9-4d88-b98a-f22ebc55a414",
   "metadata": {},
   "outputs": [],
   "source": [
    "<a id=\"ancora18\"></a>"
   ]
  },
  {
   "cell_type": "code",
   "execution_count": null,
   "id": "c5cdcc91-f8eb-461e-80b5-2db463929d30",
   "metadata": {},
   "outputs": [],
   "source": [
    "<a id=\"ancora19\"></a>"
   ]
  },
  {
   "cell_type": "code",
   "execution_count": null,
   "id": "fd813f7d-8ca4-4579-aa6f-081a3b6963e3",
   "metadata": {},
   "outputs": [],
   "source": [
    "<a id=\"ancora20\"></a>"
   ]
  },
  {
   "cell_type": "code",
   "execution_count": null,
   "id": "d5ea96eb-3ad0-41a8-bcb1-d991ef41cd4b",
   "metadata": {},
   "outputs": [],
   "source": []
  }
 ],
 "metadata": {
  "kernelspec": {
   "display_name": "bootcamp_jd24",
   "language": "python",
   "name": "bootcamp_jd24"
  },
  "language_info": {
   "codemirror_mode": {
    "name": "ipython",
    "version": 3
   },
   "file_extension": ".py",
   "mimetype": "text/x-python",
   "name": "python",
   "nbconvert_exporter": "python",
   "pygments_lexer": "ipython3",
   "version": "3.11.3"
  }
 },
 "nbformat": 4,
 "nbformat_minor": 5
}
