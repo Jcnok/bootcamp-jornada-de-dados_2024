{
 "cells": [
  {
   "cell_type": "code",
   "execution_count": null,
   "id": "baca9eda-4225-4d90-b562-7f9a13ede487",
   "metadata": {},
   "outputs": [],
   "source": [
    "!pip install faker "
   ]
  },
  {
   "cell_type": "code",
   "execution_count": null,
   "id": "f298fa10-9391-46b8-a273-e9af01922cbf",
   "metadata": {},
   "outputs": [],
   "source": [
    "!pip install tqdm"
   ]
  },
  {
   "cell_type": "markdown",
   "id": "aa84e768-edde-4dbe-8a7a-6090da4104fc",
   "metadata": {
    "jp-MarkdownHeadingCollapsed": true
   },
   "source": [
    "## Modelo simples para gerar dados aleatórios com faker"
   ]
  },
  {
   "cell_type": "code",
   "execution_count": 7,
   "id": "0c90fa0e-7ad7-4064-a07e-1f3ebce826af",
   "metadata": {},
   "outputs": [
    {
     "name": "stdin",
     "output_type": "stream",
     "text": [
      "Digite o número de linhas a serem geradas:  1000000\n"
     ]
    },
    {
     "name": "stderr",
     "output_type": "stream",
     "text": [
      "100%|██████████████████████████████████████████| 1000000/1000000 [01:57<00:00, 8520.61it/s]"
     ]
    },
    {
     "name": "stdout",
     "output_type": "stream",
     "text": [
      "Tempo real de geração:1 minutos 57 segundos\n",
      "Tamanho real do arquivo: 17.36 Megabytes\n"
     ]
    },
    {
     "name": "stderr",
     "output_type": "stream",
     "text": [
      "\n"
     ]
    }
   ],
   "source": [
    "# Gera dados aleatórios \n",
    "import faker\n",
    "import os\n",
    "import sys\n",
    "import time\n",
    "from tqdm import tqdm\n",
    "import random\n",
    "\n",
    "# Cria um objeto Faker\n",
    "fake = faker.Faker()\n",
    "\n",
    "def format_time(segundos):\n",
    "    \"\"\"\n",
    "    Formata os milisegundos em hora:minuto:segundo\n",
    "    \"\"\"\n",
    "    if segundos < 60:\n",
    "        return f\"{segundos:.3f} segundos\"\n",
    "    elif segundos < 3600:\n",
    "        minutos, segundos = divmod(segundos, 60)\n",
    "        return f\"{int(minutos)} minutos {int(segundos)} segundos\"\n",
    "    else:\n",
    "        horas, remainder = divmod(seconds, 3600)\n",
    "        minutos, segundos = divmod(remainder, 60)\n",
    "        if minutos == 0:\n",
    "            return f\"{int(horas)} horas {int(segundos)} segundos\"\n",
    "        else:\n",
    "            return f\"{int(horas)} horas {int(minutos)} minutos {int(segundos)} segundos\"\n",
    "\n",
    "# Função para gerar os dados de teste\n",
    "def generate_test_data(num_rows):\n",
    "  \"\"\"\n",
    "  Gera dados de teste e os escreve em um arquivo.\n",
    "\n",
    "  Argumentos:\n",
    "    num_rows: Número de linhas a serem geradas.\n",
    "\n",
    "  Retorno:\n",
    "    None.\n",
    "  \"\"\"\n",
    "  with open(\"data/measurements1.txt\", \"w\", encoding=\"utf-8\") as file:\n",
    "    for _ in tqdm(range(num_rows)):\n",
    "      # Gera dados aleatórios\n",
    "      station_name = fake.city()\n",
    "      temperature = round(fake.random_element([random.uniform(-50, 50), random.uniform(50, 100)]), 1)\n",
    "\n",
    "      # Escreve a linha no arquivo\n",
    "      file.write(f\"{station_name};{temperature}\\n\")\n",
    "\n",
    "# Solicita o número de linhas ao usuário\n",
    "num_rows = int(input(\"Digite o número de linhas a serem geradas: \"))\n",
    "\n",
    "# Gera os dados de teste\n",
    "start_time = time.time()\n",
    "generate_test_data(num_rows)\n",
    "end_time = time.time()\n",
    "\n",
    "# Exibe o tempo real de geração\n",
    "tempo_em_segundos = end_time - start_time\n",
    "print(f\"Tempo real de geração:{format_time(tempo_em_segundos)}\")\n",
    "\n",
    "# Converte o tamanho do arquivo para megabytes\n",
    "file_size = os.path.getsize(\"data/measurements1.txt\")\n",
    "file_size_mb = file_size / (1024 * 1024)\n",
    "\n",
    "# Exibe o tamanho do arquivo em megabytes\n",
    "print(f\"Tamanho real do arquivo: {file_size_mb:.2f} Megabytes\")"
   ]
  },
  {
   "cell_type": "markdown",
   "id": "a118380c-d98f-4c19-8f43-b504fafc9473",
   "metadata": {
    "jp-MarkdownHeadingCollapsed": true
   },
   "source": [
    "## Modelo para gerar dados aleatórios com faker e multiprocessing."
   ]
  },
  {
   "cell_type": "code",
   "execution_count": 8,
   "id": "ffd0d41e-45a8-4419-bbf0-171d132c7be5",
   "metadata": {},
   "outputs": [
    {
     "name": "stdin",
     "output_type": "stream",
     "text": [
      "Digite o número de linhas a serem geradas:  1000000\n"
     ]
    },
    {
     "name": "stderr",
     "output_type": "stream",
     "text": [
      "100%|████████████████████████████████████████████████████| 100/100 [01:46<00:00,  1.07s/it]\n"
     ]
    },
    {
     "name": "stdout",
     "output_type": "stream",
     "text": [
      "Tempo real de geração:1 minutos 47 segundos\n",
      "Tamanho real do arquivo: 17.36 Megabytes\n"
     ]
    }
   ],
   "source": [
    "import faker\n",
    "import os\n",
    "import sys\n",
    "import time\n",
    "import random\n",
    "from tqdm import tqdm\n",
    "from multiprocessing import Pool\n",
    "\n",
    "# Cria um objeto Faker\n",
    "fake = faker.Faker()\n",
    "\n",
    "# Formata o tempo.\n",
    "def format_time(segundos):\n",
    "    \"\"\"\n",
    "    Formata os milisegundos em hora:minuto:segundo\n",
    "    \"\"\"\n",
    "    if segundos < 60:\n",
    "        return f\"{segundos:.3f} segundos\"\n",
    "    elif segundos < 3600:\n",
    "        minutos, segundos = divmod(segundos, 60)\n",
    "        return f\"{int(minutos)} minutos {int(segundos)} segundos\"\n",
    "    else:\n",
    "        horas, remainder = divmod(seconds, 3600)\n",
    "        minutos, segundos = divmod(remainder, 60)\n",
    "        if minutos == 0:\n",
    "            return f\"{int(horas)} horas {int(segundos)} segundos\"\n",
    "        else:\n",
    "            return f\"{int(horas)} horas {int(minutos)} minutos {int(segundos)} segundos\"\n",
    "\n",
    "# Função para gerar dados de teste\n",
    "def generate_test_data(num_rows, chunk_size):\n",
    "  \"\"\"\n",
    "  Gera dados de teste e os escreve em um arquivo.\n",
    "\n",
    "  Argumentos:\n",
    "    num_rows: Número de linhas a serem geradas.\n",
    "    chunk_size: Tamanho do bloco de dados a ser gerado por cada thread.\n",
    "\n",
    "  Retorno:\n",
    "    None.\n",
    "  \"\"\"\n",
    "  with open(\"data/measurements.txt\", \"w\", encoding=\"utf-8\") as file:\n",
    "    for i in tqdm(range(0, num_rows, chunk_size)):\n",
    "      # Gera um bloco de dados\n",
    "      data_chunk = []\n",
    "      for _ in range(chunk_size):\n",
    "        station_name = fake.city()\n",
    "        temperature = round(fake.random_element([random.uniform(-50, 50), random.uniform(50, 100)]), 1)\n",
    "        data_chunk.append(f\"{station_name};{temperature}\\n\")\n",
    "\n",
    "      # Escreve o bloco de dados no arquivo\n",
    "      file.writelines(data_chunk)\n",
    "\n",
    "# Solicita o número de linhas ao usuário\n",
    "num_rows = int(input(\"Digite o número de linhas a serem geradas: \"))\n",
    "\n",
    "# Define o tamanho do bloco de dados\n",
    "chunk_size = 10_000  # Ajuste este valor de acordo com a sua memória disponível\n",
    "\n",
    "# Número de threads\n",
    "num_workers = os.cpu_count()\n",
    "\n",
    "# Gera os dados de teste em paralelo\n",
    "start_time = time.time()\n",
    "with Pool(num_workers) as pool:\n",
    "  pool.starmap(generate_test_data, [(num_rows, chunk_size)])\n",
    "end_time = time.time()\n",
    "\n",
    "# Exibe o tempo real de geração\n",
    "tempo_em_segundos = end_time - start_time\n",
    "print(f\"Tempo real de geração:{format_time(tempo_em_segundos)}\")\n",
    "\n",
    "# Exibe o tamanho real do arquivo\n",
    "file_size = os.path.getsize(\"data/measurements.txt\")\n",
    "\n",
    "# Converte o tamanho do arquivo para megabytes\n",
    "file_size_mb = file_size / (1024 * 1024)\n",
    "\n",
    "# Exibe o tamanho do arquivo em megabytes\n",
    "print(f\"Tamanho real do arquivo: {file_size_mb:.2f} Megabytes\")"
   ]
  },
  {
   "cell_type": "markdown",
   "id": "d274703a-146f-472d-a0fa-3fadebf510bd",
   "metadata": {
    "jp-MarkdownHeadingCollapsed": true
   },
   "source": [
    "## Scrip python para gerar dados aleatórios\n",
    "* **O script foi retirado do desafio [The One Billion Row Challenge](https://github.com/gunnarmorling/1brc), originalmente proposto para Java.**"
   ]
  },
  {
   "cell_type": "code",
   "execution_count": 5,
   "id": "c1ff1f98-314d-4e04-8e10-28da8764ecf4",
   "metadata": {},
   "outputs": [],
   "source": [
    "# Based on https://github.com/gunnarmorling/1brc/blob/main/src/main/java/dev/morling/onebrc/CreateMeasurements.java\n",
    "\n",
    "import os\n",
    "import sys\n",
    "import random\n",
    "import time\n",
    "\n",
    "\n",
    "def check_args(file_args):\n",
    "    \"\"\"\n",
    "    Sanity checks out input and prints out usage if input is not a positive integer\n",
    "    \"\"\"\n",
    "    try:\n",
    "        if len(file_args) != 2 or int(file_args[1]) <= 0:\n",
    "            raise Exception()\n",
    "    except:\n",
    "        print(\"Usage:  create_measurements.sh <positive integer number of records to create>\")\n",
    "        print(\"        You can use underscore notation for large number of records.\")\n",
    "        print(\"        For example:  1_000_000_000 for one billion\")\n",
    "        exit()\n",
    "\n",
    "\n",
    "def build_weather_station_name_list():\n",
    "    \"\"\"\n",
    "    Grabs the weather station names from example data provided in repo and dedups\n",
    "    \"\"\"\n",
    "    station_names = []\n",
    "    with open('data/weather_stations.csv', 'r') as file:\n",
    "        file_contents = file.read()\n",
    "    for station in file_contents.splitlines():\n",
    "        if \"#\" in station:\n",
    "            next\n",
    "        else:\n",
    "            station_names.append(station.split(';')[0])\n",
    "    return list(set(station_names))\n",
    "\n",
    "\n",
    "def convert_bytes(num):\n",
    "    \"\"\"\n",
    "    Convert bytes to a human-readable format (e.g., KiB, MiB, GiB)\n",
    "    \"\"\"\n",
    "    for x in ['bytes', 'KiB', 'MiB', 'GiB']:\n",
    "        if num < 1024.0:\n",
    "            return \"%3.1f %s\" % (num, x)\n",
    "        num /= 1024.0\n",
    "\n",
    "\n",
    "def format_elapsed_time(seconds):\n",
    "    \"\"\"\n",
    "    Format elapsed time in a human-readable format\n",
    "    \"\"\"\n",
    "    if seconds < 60:\n",
    "        return f\"{seconds:.3f} seconds\"\n",
    "    elif seconds < 3600:\n",
    "        minutes, seconds = divmod(seconds, 60)\n",
    "        return f\"{int(minutes)} minutes {int(seconds)} seconds\"\n",
    "    else:\n",
    "        hours, remainder = divmod(seconds, 3600)\n",
    "        minutes, seconds = divmod(remainder, 60)\n",
    "        if minutes == 0:\n",
    "            return f\"{int(hours)} hours {int(seconds)} seconds\"\n",
    "        else:\n",
    "            return f\"{int(hours)} hours {int(minutes)} minutes {int(seconds)} seconds\"\n",
    "\n",
    "\n",
    "def estimate_file_size(weather_station_names, num_rows_to_create):\n",
    "    \"\"\"\n",
    "    Tries to estimate how large a file the test data will be\n",
    "    \"\"\"\n",
    "    total_name_bytes = sum(len(s.encode(\"utf-8\")) for s in weather_station_names)\n",
    "    avg_name_bytes = total_name_bytes / float(len(weather_station_names))\n",
    "\n",
    "    # avg_temp_bytes = sum(len(str(n / 10.0)) for n in range(-999, 1000)) / 1999\n",
    "    avg_temp_bytes = 4.400200100050025\n",
    "\n",
    "    # add 2 for separator and newline\n",
    "    avg_line_length = avg_name_bytes + avg_temp_bytes + 2\n",
    "\n",
    "    human_file_size = convert_bytes(num_rows_to_create * avg_line_length)\n",
    "\n",
    "    return f\"Estimated max file size is:  {human_file_size}.\"\n",
    "\n",
    "\n",
    "def build_test_data(weather_station_names, num_rows_to_create):\n",
    "    \"\"\"\n",
    "    Generates and writes to file the requested length of test data\n",
    "    \"\"\"\n",
    "    start_time = time.time()\n",
    "    coldest_temp = -99.9\n",
    "    hottest_temp = 99.9\n",
    "    station_names_10k_max = random.choices(weather_station_names, k=10_000)\n",
    "    batch_size = 10000 # instead of writing line by line to file, process a batch of stations and put it to disk\n",
    "    chunks = num_rows_to_create // batch_size\n",
    "    print('Building test data...')\n",
    "\n",
    "    try:\n",
    "        with open(\"data/measurements1.txt\", 'w') as file:\n",
    "            progress = 0\n",
    "            for chunk in range(chunks):\n",
    "                \n",
    "                batch = random.choices(station_names_10k_max, k=batch_size)\n",
    "                prepped_deviated_batch = '\\n'.join([f\"{station};{random.uniform(coldest_temp, hottest_temp):.1f}\" for station in batch]) # :.1f should quicker than round on a large scale, because round utilizes mathematical operation\n",
    "                file.write(prepped_deviated_batch + '\\n')\n",
    "                \n",
    "                # Update progress bar every 1%\n",
    "                if (chunk + 1) * 100 // chunks != progress:\n",
    "                    progress = (chunk + 1) * 100 // chunks\n",
    "                    bars = '=' * (progress // 2)\n",
    "                    sys.stdout.write(f\"\\r[{bars:<50}] {progress}%\")\n",
    "                    sys.stdout.flush()\n",
    "        sys.stdout.write('\\n')\n",
    "    except Exception as e:\n",
    "        print(\"Something went wrong. Printing error info and exiting...\")\n",
    "        print(e)\n",
    "        exit()\n",
    "    \n",
    "    end_time = time.time()\n",
    "    elapsed_time = end_time - start_time\n",
    "    file_size = os.path.getsize(\"data/measurements1.txt\")\n",
    "    human_file_size = convert_bytes(file_size)\n",
    " \n",
    "    print(\"Test data successfully written to data/measurements1.txt\")\n",
    "    print(f\"Actual file size:  {human_file_size}\")\n",
    "    print(f\"Elapsed time: {format_elapsed_time(elapsed_time)}\")\n",
    "\n",
    "\n",
    "def main():\n",
    "    \"\"\"\n",
    "    main program function\n",
    "    \"\"\"\n",
    "    num_rows_to_create = 1_000_000\n",
    "    weather_station_names = []\n",
    "    weather_station_names = build_weather_station_name_list()\n",
    "    print(estimate_file_size(weather_station_names, num_rows_to_create))\n",
    "    build_test_data(weather_station_names, num_rows_to_create)\n",
    "    print(\"Test data build complete.\")\n",
    "\n",
    "\n",
    "if __name__ == \"__main__\":\n",
    "    main()\n",
    "exit()"
   ]
  },
  {
   "cell_type": "markdown",
   "id": "73194a23-2a9e-44f0-a8b2-1317bb3f6536",
   "metadata": {},
   "source": [
    "### Conclusão\n",
    "* **O modelo para gerar dados com o faker se saiu extremamente lento em comparação ao script do [Gunnar Morling](https://github.com/gunnarmorling) acima.**"
   ]
  },
  {
   "cell_type": "markdown",
   "id": "854b4f57-8c2e-4cb2-941b-526d10fd663e",
   "metadata": {
    "jp-MarkdownHeadingCollapsed": true
   },
   "source": [
    "## Gerando 1 bilhão de linhas:"
   ]
  },
  {
   "cell_type": "code",
   "execution_count": 6,
   "id": "fd9fccf3-871e-44e0-8089-406a476b40ce",
   "metadata": {},
   "outputs": [
    {
     "name": "stdout",
     "output_type": "stream",
     "text": [
      "Estimated max file size is:  14.8 GiB.\n",
      "Building test data...\n",
      "[==================================================] 100%\n",
      "Test data successfully written to data/measurements.txt\n",
      "Actual file size:  14.9 GiB\n",
      "Elapsed time: 15 minutes 3 seconds\n",
      "Test data build complete.\n"
     ]
    }
   ],
   "source": [
    "# gerando 1 bilhão de linhas\n",
    "num_rows_to_create = 1_000_000_000\n",
    "weather_station_names = []\n",
    "weather_station_names = build_weather_station_name_list()\n",
    "print(estimate_file_size(weather_station_names, num_rows_to_create))\n",
    "build_test_data(weather_station_names, num_rows_to_create)\n",
    "print(\"Test data build complete.\")\n",
    "\n",
    "\n"
   ]
  },
  {
   "cell_type": "markdown",
   "id": "5dd7b87b-9ff0-4e17-bac4-ec9dc191add3",
   "metadata": {},
   "source": [
    "## Decoradores"
   ]
  },
  {
   "cell_type": "code",
   "execution_count": 24,
   "id": "68c4b55b-6d4d-4094-b518-f99a45da2a6b",
   "metadata": {},
   "outputs": [],
   "source": [
    "# Criando um decorator para calcular o tempo de processamento\n",
    "def timer(func):\n",
    "    import time\n",
    "    # Formata o tempo.\n",
    "    def format_time(segundos: int): \n",
    "        \"\"\"\n",
    "        Formata os milisegundos em hora:minuto:segundo\n",
    "        \"\"\"\n",
    "        if segundos < 60:\n",
    "            return f\"{segundos:.3f} segundos\"\n",
    "        elif segundos < 3600:\n",
    "            minutos, segundos = divmod(segundos, 60)\n",
    "            return f\"{int(minutos)} minutos {int(segundos)} segundos\"\n",
    "        else:\n",
    "            horas, remainder = divmod(seconds, 3600)\n",
    "            minutos, segundos = divmod(remainder, 60)\n",
    "            if minutos == 0:\n",
    "                return f\"{int(horas)} horas {int(segundos)} segundos\"\n",
    "            else:\n",
    "                return f\"{int(horas)} horas {int(minutos)} minutos {int(segundos)} segundos\"  \n",
    "\n",
    "    def wrapper(*args, **kwargs):\n",
    "        start = time.time()\n",
    "        result = func(*args, **kwargs)\n",
    "        end = time.time()\n",
    "        tempo_em_segundos = end - start       \n",
    "        # Exibe o tempo real de geração    \n",
    "        print(f\"{func.__name__} Tempo de processamento:{format_time(tempo_em_segundos)}\")   \n",
    "        #print(type(format_time(tempo_em_segundos)))\n",
    "        return result\n",
    "    return wrapper\n"
   ]
  },
  {
   "cell_type": "markdown",
   "id": "e4c14b73-eeef-4545-a1aa-11f872ae2d6b",
   "metadata": {},
   "source": [
    "## Pandas - min, max e mean em 1 bilhão de linhas"
   ]
  },
  {
   "cell_type": "code",
   "execution_count": null,
   "id": "81ac2551-f634-411a-bafe-70ceb59bdb8e",
   "metadata": {},
   "outputs": [],
   "source": [
    "# Instalando a lib pandas.\n",
    "!poetry add pandas"
   ]
  },
  {
   "cell_type": "code",
   "execution_count": 1,
   "id": "606ee748-4d0c-4532-b835-cee92cde5a71",
   "metadata": {},
   "outputs": [
    {
     "name": "stdout",
     "output_type": "stream",
     "text": [
      "Iniciando o processamento do arquivo.\n"
     ]
    },
    {
     "name": "stderr",
     "output_type": "stream",
     "text": [
      "Processando:  60%|█████████████████████████▏                | 6/10 [05:24<03:40, 55.25s/it]IOStream.flush timed out\n",
      "Processando:  70%|█████████████████████████████▍            | 7/10 [06:20<02:46, 55.35s/it]IOStream.flush timed out\n",
      "Processando:  90%|█████████████████████████████████████▊    | 9/10 [08:11<00:55, 55.40s/it]IOStream.flush timed out\n",
      "Processando: 100%|█████████████████████████████████████████| 10/10 [09:20<00:00, 56.07s/it]\n"
     ]
    },
    {
     "name": "stdout",
     "output_type": "stream",
     "text": [
      "       station   min   max      mean\n",
      "0     Aabenraa -99.9  99.9 -0.061535\n",
      "1       Aalten -99.9  99.9 -0.161205\n",
      "2    Abadiânia -99.9  99.9 -0.051514\n",
      "3     Abalessa -99.9  99.9  0.211034\n",
      "4  Abangaritos -99.9  99.9  0.066196\n",
      "Tempo de processamento:-1709939632.573 segundos\n"
     ]
    }
   ],
   "source": [
    "# Script para min, max e mean de um bilhão de linhas com pandas.\n",
    "import pandas as pd\n",
    "import time\n",
    "from multiprocessing import Pool, cpu_count\n",
    "from tqdm import tqdm  # importa o tqdm para barra de progresso\n",
    "\n",
    "CONCURRENCY = cpu_count()\n",
    "\n",
    "total_linhas = 1_000_000_000  # Total de linhas conhecido\n",
    "chunksize = 100_000_000  # Define o tamanho do chunk\n",
    "filename = \"data/measurements.txt\"  # Certifique-se de que este é o caminho correto para o arquivo\n",
    "\n",
    "# Formata o tempo.\n",
    "def format_time(segundos):\n",
    "    \"\"\"\n",
    "    Formata os milisegundos em hora:minuto:segundo\n",
    "    \"\"\"\n",
    "    if segundos < 60:\n",
    "        return f\"{segundos:.3f} segundos\"\n",
    "    elif segundos < 3600:\n",
    "        minutos, segundos = divmod(segundos, 60)\n",
    "        return f\"{int(minutos)} minutos {int(segundos)} segundos\"\n",
    "    else:\n",
    "        horas, remainder = divmod(seconds, 3600)\n",
    "        minutos, segundos = divmod(remainder, 60)\n",
    "        if minutos == 0:\n",
    "            return f\"{int(horas)} horas {int(segundos)} segundos\"\n",
    "        else:\n",
    "            return f\"{int(horas)} horas {int(minutos)} minutos {int(segundos)} segundos\"\n",
    "\n",
    "def process_chunk(chunk):\n",
    "    # Agrega os dados dentro do chunk usando Pandas\n",
    "    aggregated = chunk.groupby('station')['measure'].agg(['min', 'max', 'mean']).reset_index()\n",
    "    return aggregated\n",
    "\n",
    "def create_df_with_pandas(filename, total_linhas, chunksize=chunksize):\n",
    "    total_chunks = total_linhas // chunksize + (1 if total_linhas % chunksize else 0)\n",
    "    results = []\n",
    "\n",
    "    with pd.read_csv(filename, sep=';', header=None, names=['station', 'measure'], chunksize=chunksize) as reader:\n",
    "        # Envolvendo o iterador com tqdm para visualizar o progresso\n",
    "        with Pool(CONCURRENCY) as pool:\n",
    "            for chunk in tqdm(reader, total=total_chunks, desc=\"Processando\"):\n",
    "                # Processa cada chunk em paralelo\n",
    "                result = pool.apply_async(process_chunk, (chunk,))\n",
    "                results.append(result)\n",
    "\n",
    "            results = [result.get() for result in results]\n",
    "\n",
    "    final_df = pd.concat(results, ignore_index=True)\n",
    "\n",
    "    final_aggregated_df = final_df.groupby('station').agg({\n",
    "        'min': 'min',\n",
    "        'max': 'max',\n",
    "        'mean': 'mean'\n",
    "    }).reset_index().sort_values('station')\n",
    "\n",
    "    return final_aggregated_df\n",
    "\n",
    "if __name__ == \"__main__\":\n",
    "    import time\n",
    "\n",
    "    print(\"Iniciando o processamento do arquivo.\")\n",
    "    start_time = time.time()\n",
    "    df = create_df_with_pandas(filename, total_linhas, chunksize)\n",
    "    end_time = time.time()\n",
    "    tempo_em_segundos = end_time - start_time\n",
    "    print(df.head())\n",
    "    # Exibe o tempo real de geração    \n",
    "    print(f\"Tempo de processamento:{format_time(tempo_em_segundos)}\")\n"
   ]
  },
  {
   "cell_type": "markdown",
   "id": "28be5f4c-6870-4f2b-8403-3e4751da0eb1",
   "metadata": {},
   "source": [
    "## Polars - min, max e mean em 1 bilhão de linhas"
   ]
  },
  {
   "cell_type": "code",
   "execution_count": null,
   "id": "e622fcb8-9f8f-4b34-bf90-e491ccf0bd5e",
   "metadata": {},
   "outputs": [],
   "source": [
    "# Instalando a lib polars\n",
    "!poetry add polars"
   ]
  },
  {
   "cell_type": "code",
   "execution_count": 3,
   "id": "e31de0d4-931d-4fd3-8353-373c41062cb2",
   "metadata": {},
   "outputs": [
    {
     "name": "stdout",
     "output_type": "stream",
     "text": [
      "create_polars_df Tempo de processamento:26.558 segundos\n",
      "shape: (8_836, 4)\n",
      "┌────────────────┬──────────┬──────────┬───────────┐\n",
      "│ station        ┆ max_temp ┆ min_temp ┆ mean_temp │\n",
      "│ ---            ┆ ---      ┆ ---      ┆ ---       │\n",
      "│ str            ┆ f64      ┆ f64      ┆ f64       │\n",
      "╞════════════════╪══════════╪══════════╪═══════════╡\n",
      "│ Aabenraa       ┆ 99.9     ┆ -99.9    ┆ -0.062295 │\n",
      "│ Aalten         ┆ 99.9     ┆ -99.9    ┆ -0.161752 │\n",
      "│ Abadiânia      ┆ 99.9     ┆ -99.9    ┆ -0.052772 │\n",
      "│ Abalessa       ┆ 99.9     ┆ -99.9    ┆ 0.211089  │\n",
      "│ Abangaritos    ┆ 99.9     ┆ -99.9    ┆ 0.063772  │\n",
      "│ …              ┆ …        ┆ …        ┆ …         │\n",
      "│ ’Aïn Abessa    ┆ 99.9     ┆ -99.9    ┆ -0.013338 │\n",
      "│ ’Aïn Azel      ┆ 99.9     ┆ -99.9    ┆ -0.040762 │\n",
      "│ ’Aïn Roua      ┆ 99.9     ┆ -99.9    ┆ -0.026898 │\n",
      "│ ’s-Gravenzande ┆ 99.9     ┆ -99.9    ┆ -0.080973 │\n",
      "│ ’s-Heerenberg  ┆ 99.9     ┆ -99.9    ┆ 0.168265  │\n",
      "└────────────────┴──────────┴──────────┴───────────┘\n"
     ]
    }
   ],
   "source": [
    "import polars as pl\n",
    "@timer\n",
    "def create_polars_df(): \n",
    "    pl.Config.set_streaming_chunk_size(5000000)\n",
    "    # Leitura do arquivo CSV e definição do schema\n",
    "    return (pl.scan_csv(\"data/measurements.txt\", separator=\";\", has_header=False,\n",
    "                        schema={\"station\": pl.String, \"measure\": pl.Float64})\n",
    "                        .group_by(\"station\").agg(\n",
    "                                                 max_temp=pl.col(\"measure\").max(),\n",
    "                                                 min_temp=pl.col(\"measure\").min(),\n",
    "                                                 mean_temp=pl.col(\"measure\").mean()\n",
    "                                                ).sort(\"station\").collect(streaming=True)\n",
    "           )   \n",
    "if __name__ == \"__main__\":    \n",
    "    df = create_polars_df()\n",
    "    print(df)\n",
    "   \n"
   ]
  },
  {
   "cell_type": "markdown",
   "id": "b0e0fc93-52a7-4a33-9529-a3e8e78241c7",
   "metadata": {},
   "source": [
    "## Duckdb - min, max e mean em 1 bilhão de linhas"
   ]
  },
  {
   "cell_type": "code",
   "execution_count": null,
   "id": "27a4123a-14a4-4fd8-9336-c1a0dc1ab3bb",
   "metadata": {},
   "outputs": [],
   "source": [
    "!poetry add duckdb"
   ]
  },
  {
   "cell_type": "code",
   "execution_count": 7,
   "id": "60de2ece-ec1b-4e06-8e50-9569efd1f1a1",
   "metadata": {},
   "outputs": [
    {
     "data": {
      "application/vnd.jupyter.widget-view+json": {
       "model_id": "1e73372ad3b1479696fda6d952208310",
       "version_major": 2,
       "version_minor": 0
      },
      "text/plain": [
       "FloatProgress(value=0.0, layout=Layout(width='auto'), style=ProgressStyle(bar_color='black'))"
      ]
     },
     "metadata": {},
     "output_type": "display_data"
    },
    {
     "name": "stdout",
     "output_type": "stream",
     "text": [
      "┌─────────────────┬─────────────────┬──────────────────┬─────────────────┐\n",
      "│     station     │ min_temperature │ mean_temperature │ max_temperature │\n",
      "│     varchar     │  decimal(18,3)  │  decimal(18,3)   │  decimal(18,3)  │\n",
      "├─────────────────┼─────────────────┼──────────────────┼─────────────────┤\n",
      "│ Aabenraa        │         -99.900 │           -0.062 │          99.900 │\n",
      "│ Aalten          │         -99.900 │           -0.162 │          99.900 │\n",
      "│ Abadiânia       │         -99.900 │           -0.053 │          99.900 │\n",
      "│ Abalessa        │         -99.900 │            0.211 │          99.900 │\n",
      "│ Abangaritos     │         -99.900 │            0.064 │          99.900 │\n",
      "│ Abano Terme     │         -99.900 │            0.172 │          99.900 │\n",
      "│ Abaré           │         -99.900 │           -0.267 │          99.900 │\n",
      "│ Abbeville       │         -99.900 │            0.074 │          99.900 │\n",
      "│ Abbiategrasso   │         -99.900 │           -0.195 │          99.900 │\n",
      "│ Abbots Langley  │         -99.900 │            0.207 │          99.900 │\n",
      "│     ·           │            ·    │              ·   │             ·   │\n",
      "│     ·           │            ·    │              ·   │             ·   │\n",
      "│     ·           │            ·    │              ·   │             ·   │\n",
      "│ ‘Ajab Shīr      │         -99.900 │           -0.037 │          99.900 │\n",
      "│ ‘Ajmān          │         -99.900 │           -0.054 │          99.900 │\n",
      "│ ‘Akko           │         -99.900 │            0.156 │          99.900 │\n",
      "│ ‘Izbat al Burj  │         -99.900 │            0.172 │          99.900 │\n",
      "│ ’Ayn Bni Mathar │         -99.900 │           -0.102 │          99.900 │\n",
      "│ ’Aïn Abessa     │         -99.900 │           -0.013 │          99.900 │\n",
      "│ ’Aïn Azel       │         -99.900 │           -0.041 │          99.900 │\n",
      "│ ’Aïn Roua       │         -99.900 │           -0.027 │          99.900 │\n",
      "│ ’s-Gravenzande  │         -99.900 │           -0.081 │          99.900 │\n",
      "│ ’s-Heerenberg   │         -99.900 │            0.168 │          99.900 │\n",
      "├─────────────────┴─────────────────┴──────────────────┴─────────────────┤\n",
      "│ 8836 rows (20 shown)                                         4 columns │\n",
      "└────────────────────────────────────────────────────────────────────────┘\n",
      "\n",
      "create_duckdb Tempo de processamento:18.208 segundos\n"
     ]
    }
   ],
   "source": [
    "import duckdb\n",
    "@timer\n",
    "def create_duckdb():\n",
    "    duckdb.sql(\"\"\"\n",
    "        SELECT station,\n",
    "            MIN(measure) AS min_temperature,\n",
    "            CAST(AVG(measure) AS DECIMAL()) AS mean_temperature,\n",
    "            MAX(measure) AS max_temperature\n",
    "        FROM read_csv(\"data/measurements.txt\", AUTO_DETECT=FALSE, sep=';', columns={'station':VARCHAR, 'measure': 'DECIMAL'})\n",
    "        GROUP BY station\n",
    "        ORDER BY station\n",
    "    \"\"\").show()\n",
    "\n",
    "if __name__ == \"__main__\":\n",
    "    create_duckdb()   "
   ]
  },
  {
   "cell_type": "code",
   "execution_count": 9,
   "id": "d4d06b82-0eb9-4580-9d56-1588a191dc2a",
   "metadata": {},
   "outputs": [
    {
     "data": {
      "application/vnd.jupyter.widget-view+json": {
       "model_id": "3f5af59667b949d2a5e655c28442779d",
       "version_major": 2,
       "version_minor": 0
      },
      "text/plain": [
       "FloatProgress(value=0.0, layout=Layout(width='auto'), style=ProgressStyle(bar_color='black'))"
      ]
     },
     "metadata": {},
     "output_type": "display_data"
    },
    {
     "data": {
      "text/html": [
       "<div>\n",
       "<style scoped>\n",
       "    .dataframe tbody tr th:only-of-type {\n",
       "        vertical-align: middle;\n",
       "    }\n",
       "\n",
       "    .dataframe tbody tr th {\n",
       "        vertical-align: top;\n",
       "    }\n",
       "\n",
       "    .dataframe thead th {\n",
       "        text-align: right;\n",
       "    }\n",
       "</style>\n",
       "<table border=\"1\" class=\"dataframe\">\n",
       "  <thead>\n",
       "    <tr style=\"text-align: right;\">\n",
       "      <th></th>\n",
       "      <th>station</th>\n",
       "      <th>min_temperature</th>\n",
       "      <th>mean_temperature</th>\n",
       "      <th>max_temperature</th>\n",
       "    </tr>\n",
       "  </thead>\n",
       "  <tbody>\n",
       "    <tr>\n",
       "      <th>0</th>\n",
       "      <td>Aabenraa</td>\n",
       "      <td>-99.9</td>\n",
       "      <td>-0.062</td>\n",
       "      <td>99.9</td>\n",
       "    </tr>\n",
       "    <tr>\n",
       "      <th>1</th>\n",
       "      <td>Aalten</td>\n",
       "      <td>-99.9</td>\n",
       "      <td>-0.162</td>\n",
       "      <td>99.9</td>\n",
       "    </tr>\n",
       "    <tr>\n",
       "      <th>2</th>\n",
       "      <td>Abadiânia</td>\n",
       "      <td>-99.9</td>\n",
       "      <td>-0.053</td>\n",
       "      <td>99.9</td>\n",
       "    </tr>\n",
       "    <tr>\n",
       "      <th>3</th>\n",
       "      <td>Abalessa</td>\n",
       "      <td>-99.9</td>\n",
       "      <td>0.211</td>\n",
       "      <td>99.9</td>\n",
       "    </tr>\n",
       "    <tr>\n",
       "      <th>4</th>\n",
       "      <td>Abangaritos</td>\n",
       "      <td>-99.9</td>\n",
       "      <td>0.064</td>\n",
       "      <td>99.9</td>\n",
       "    </tr>\n",
       "    <tr>\n",
       "      <th>...</th>\n",
       "      <td>...</td>\n",
       "      <td>...</td>\n",
       "      <td>...</td>\n",
       "      <td>...</td>\n",
       "    </tr>\n",
       "    <tr>\n",
       "      <th>8831</th>\n",
       "      <td>’Aïn Abessa</td>\n",
       "      <td>-99.9</td>\n",
       "      <td>-0.013</td>\n",
       "      <td>99.9</td>\n",
       "    </tr>\n",
       "    <tr>\n",
       "      <th>8832</th>\n",
       "      <td>’Aïn Azel</td>\n",
       "      <td>-99.9</td>\n",
       "      <td>-0.041</td>\n",
       "      <td>99.9</td>\n",
       "    </tr>\n",
       "    <tr>\n",
       "      <th>8833</th>\n",
       "      <td>’Aïn Roua</td>\n",
       "      <td>-99.9</td>\n",
       "      <td>-0.027</td>\n",
       "      <td>99.9</td>\n",
       "    </tr>\n",
       "    <tr>\n",
       "      <th>8834</th>\n",
       "      <td>’s-Gravenzande</td>\n",
       "      <td>-99.9</td>\n",
       "      <td>-0.081</td>\n",
       "      <td>99.9</td>\n",
       "    </tr>\n",
       "    <tr>\n",
       "      <th>8835</th>\n",
       "      <td>’s-Heerenberg</td>\n",
       "      <td>-99.9</td>\n",
       "      <td>0.168</td>\n",
       "      <td>99.9</td>\n",
       "    </tr>\n",
       "  </tbody>\n",
       "</table>\n",
       "<p>8836 rows × 4 columns</p>\n",
       "</div>"
      ],
      "text/plain": [
       "             station  min_temperature  mean_temperature  max_temperature\n",
       "0           Aabenraa            -99.9            -0.062             99.9\n",
       "1             Aalten            -99.9            -0.162             99.9\n",
       "2          Abadiânia            -99.9            -0.053             99.9\n",
       "3           Abalessa            -99.9             0.211             99.9\n",
       "4        Abangaritos            -99.9             0.064             99.9\n",
       "...              ...              ...               ...              ...\n",
       "8831     ’Aïn Abessa            -99.9            -0.013             99.9\n",
       "8832       ’Aïn Azel            -99.9            -0.041             99.9\n",
       "8833       ’Aïn Roua            -99.9            -0.027             99.9\n",
       "8834  ’s-Gravenzande            -99.9            -0.081             99.9\n",
       "8835   ’s-Heerenberg            -99.9             0.168             99.9\n",
       "\n",
       "[8836 rows x 4 columns]"
      ]
     },
     "metadata": {},
     "output_type": "display_data"
    },
    {
     "name": "stdout",
     "output_type": "stream",
     "text": [
      "create_duckdb Tempo de processamento:19.675 segundos\n"
     ]
    }
   ],
   "source": [
    "import duckdb\n",
    "@timer\n",
    "def create_duckdb(): \n",
    "    conn = duckdb.connect(':memory:')\n",
    "    start_time = time.time()\n",
    "    display(conn.execute(\"\"\"\n",
    "            SELECT station,\n",
    "                MIN(measure) AS min_temperature,\n",
    "                CAST(AVG(measure) AS DECIMAL()) AS mean_temperature,\n",
    "                MAX(measure) AS max_temperature\n",
    "            FROM read_csv(\"data/measurements.txt\", AUTO_DETECT=FALSE, sep=';', columns={'station':VARCHAR, 'measure': 'DECIMAL'})\n",
    "            GROUP BY station\n",
    "            ORDER BY station\n",
    "        \"\"\").df())\n",
    "    \n",
    "if __name__ == \"__main__\":\n",
    "    create_duckdb()   "
   ]
  },
  {
   "cell_type": "code",
   "execution_count": 9,
   "id": "5b56db18-3681-43c0-b1d8-f85dc0c5a001",
   "metadata": {},
   "outputs": [
    {
     "data": {
      "text/html": [
       "<div>\n",
       "<style scoped>\n",
       "    .dataframe tbody tr th:only-of-type {\n",
       "        vertical-align: middle;\n",
       "    }\n",
       "\n",
       "    .dataframe tbody tr th {\n",
       "        vertical-align: top;\n",
       "    }\n",
       "\n",
       "    .dataframe thead th {\n",
       "        text-align: right;\n",
       "    }\n",
       "</style>\n",
       "<table border=\"1\" class=\"dataframe\">\n",
       "  <thead>\n",
       "    <tr style=\"text-align: right;\">\n",
       "      <th></th>\n",
       "      <th>name</th>\n",
       "    </tr>\n",
       "  </thead>\n",
       "  <tbody>\n",
       "    <tr>\n",
       "      <th>0</th>\n",
       "      <td>measurements</td>\n",
       "    </tr>\n",
       "  </tbody>\n",
       "</table>\n",
       "</div>"
      ],
      "text/plain": [
       "           name\n",
       "0  measurements"
      ]
     },
     "metadata": {},
     "output_type": "display_data"
    }
   ],
   "source": [
    "display(conn.execute('SHOW TABLES').df())"
   ]
  },
  {
   "cell_type": "code",
   "execution_count": 10,
   "id": "16e60b76-b8bd-4d71-a747-766149ec8fbb",
   "metadata": {},
   "outputs": [
    {
     "data": {
      "text/html": [
       "<div>\n",
       "<style scoped>\n",
       "    .dataframe tbody tr th:only-of-type {\n",
       "        vertical-align: middle;\n",
       "    }\n",
       "\n",
       "    .dataframe tbody tr th {\n",
       "        vertical-align: top;\n",
       "    }\n",
       "\n",
       "    .dataframe thead th {\n",
       "        text-align: right;\n",
       "    }\n",
       "</style>\n",
       "<table border=\"1\" class=\"dataframe\">\n",
       "  <thead>\n",
       "    <tr style=\"text-align: right;\">\n",
       "      <th></th>\n",
       "      <th>station</th>\n",
       "      <th>measure</th>\n",
       "    </tr>\n",
       "  </thead>\n",
       "  <tbody>\n",
       "    <tr>\n",
       "      <th>0</th>\n",
       "      <td>Uppalapādu</td>\n",
       "      <td>-29.9</td>\n",
       "    </tr>\n",
       "    <tr>\n",
       "      <th>1</th>\n",
       "      <td>Kaman</td>\n",
       "      <td>-34.0</td>\n",
       "    </tr>\n",
       "    <tr>\n",
       "      <th>2</th>\n",
       "      <td>Tamu</td>\n",
       "      <td>-40.2</td>\n",
       "    </tr>\n",
       "    <tr>\n",
       "      <th>3</th>\n",
       "      <td>Quillabamba</td>\n",
       "      <td>50.6</td>\n",
       "    </tr>\n",
       "    <tr>\n",
       "      <th>4</th>\n",
       "      <td>Jabuticabal</td>\n",
       "      <td>15.8</td>\n",
       "    </tr>\n",
       "    <tr>\n",
       "      <th>5</th>\n",
       "      <td>Kilibo</td>\n",
       "      <td>-98.4</td>\n",
       "    </tr>\n",
       "    <tr>\n",
       "      <th>6</th>\n",
       "      <td>Tillaivilāgam</td>\n",
       "      <td>48.3</td>\n",
       "    </tr>\n",
       "    <tr>\n",
       "      <th>7</th>\n",
       "      <td>Ensenada</td>\n",
       "      <td>97.4</td>\n",
       "    </tr>\n",
       "    <tr>\n",
       "      <th>8</th>\n",
       "      <td>Indio</td>\n",
       "      <td>64.6</td>\n",
       "    </tr>\n",
       "    <tr>\n",
       "      <th>9</th>\n",
       "      <td>Buxton</td>\n",
       "      <td>-54.7</td>\n",
       "    </tr>\n",
       "  </tbody>\n",
       "</table>\n",
       "</div>"
      ],
      "text/plain": [
       "         station  measure\n",
       "0     Uppalapādu    -29.9\n",
       "1          Kaman    -34.0\n",
       "2           Tamu    -40.2\n",
       "3    Quillabamba     50.6\n",
       "4    Jabuticabal     15.8\n",
       "5         Kilibo    -98.4\n",
       "6  Tillaivilāgam     48.3\n",
       "7       Ensenada     97.4\n",
       "8          Indio     64.6\n",
       "9         Buxton    -54.7"
      ]
     },
     "metadata": {},
     "output_type": "display_data"
    }
   ],
   "source": [
    "display(conn.execute('Select * from measurements limit 10').df())"
   ]
  },
  {
   "cell_type": "code",
   "execution_count": 30,
   "id": "06f0f088-a242-494f-a82a-d23ab44fac0d",
   "metadata": {},
   "outputs": [],
   "source": [
    "conn.close()"
   ]
  },
  {
   "cell_type": "markdown",
   "id": "215a87d1-37ef-4def-960f-1e885b6008cd",
   "metadata": {
    "jp-MarkdownHeadingCollapsed": true
   },
   "source": [
    "## Dask - min, max e mean em 1 bilhão de linhas"
   ]
  },
  {
   "cell_type": "code",
   "execution_count": null,
   "id": "99cd03e5-8f9e-4f2c-9397-91d7fc3dfc19",
   "metadata": {},
   "outputs": [],
   "source": [
    "#necessário Instalar.\n",
    "!pip install dask-expr"
   ]
  },
  {
   "cell_type": "code",
   "execution_count": 18,
   "id": "1f02dcf6-7633-4b3a-b68e-4d7a9c50a810",
   "metadata": {},
   "outputs": [
    {
     "data": {
      "text/html": [
       "<div>\n",
       "<style scoped>\n",
       "    .dataframe tbody tr th:only-of-type {\n",
       "        vertical-align: middle;\n",
       "    }\n",
       "\n",
       "    .dataframe tbody tr th {\n",
       "        vertical-align: top;\n",
       "    }\n",
       "\n",
       "    .dataframe thead tr th {\n",
       "        text-align: left;\n",
       "    }\n",
       "\n",
       "    .dataframe thead tr:last-of-type th {\n",
       "        text-align: right;\n",
       "    }\n",
       "</style>\n",
       "<table border=\"1\" class=\"dataframe\">\n",
       "  <thead>\n",
       "    <tr>\n",
       "      <th></th>\n",
       "      <th colspan=\"3\" halign=\"left\">measure</th>\n",
       "    </tr>\n",
       "    <tr>\n",
       "      <th></th>\n",
       "      <th>max</th>\n",
       "      <th>min</th>\n",
       "      <th>mean</th>\n",
       "    </tr>\n",
       "    <tr>\n",
       "      <th>station</th>\n",
       "      <th></th>\n",
       "      <th></th>\n",
       "      <th></th>\n",
       "    </tr>\n",
       "  </thead>\n",
       "  <tbody>\n",
       "    <tr>\n",
       "      <th>Aabenraa</th>\n",
       "      <td>99.9</td>\n",
       "      <td>-99.9</td>\n",
       "      <td>-0.062295</td>\n",
       "    </tr>\n",
       "    <tr>\n",
       "      <th>Aalten</th>\n",
       "      <td>99.9</td>\n",
       "      <td>-99.9</td>\n",
       "      <td>-0.161752</td>\n",
       "    </tr>\n",
       "    <tr>\n",
       "      <th>Abadiânia</th>\n",
       "      <td>99.9</td>\n",
       "      <td>-99.9</td>\n",
       "      <td>-0.052772</td>\n",
       "    </tr>\n",
       "    <tr>\n",
       "      <th>Abalessa</th>\n",
       "      <td>99.9</td>\n",
       "      <td>-99.9</td>\n",
       "      <td>0.211089</td>\n",
       "    </tr>\n",
       "    <tr>\n",
       "      <th>Abangaritos</th>\n",
       "      <td>99.9</td>\n",
       "      <td>-99.9</td>\n",
       "      <td>0.063772</td>\n",
       "    </tr>\n",
       "    <tr>\n",
       "      <th>...</th>\n",
       "      <td>...</td>\n",
       "      <td>...</td>\n",
       "      <td>...</td>\n",
       "    </tr>\n",
       "    <tr>\n",
       "      <th>’Aïn Abessa</th>\n",
       "      <td>99.9</td>\n",
       "      <td>-99.9</td>\n",
       "      <td>-0.013338</td>\n",
       "    </tr>\n",
       "    <tr>\n",
       "      <th>’Aïn Azel</th>\n",
       "      <td>99.9</td>\n",
       "      <td>-99.9</td>\n",
       "      <td>-0.040762</td>\n",
       "    </tr>\n",
       "    <tr>\n",
       "      <th>’Aïn Roua</th>\n",
       "      <td>99.9</td>\n",
       "      <td>-99.9</td>\n",
       "      <td>-0.026898</td>\n",
       "    </tr>\n",
       "    <tr>\n",
       "      <th>’s-Gravenzande</th>\n",
       "      <td>99.9</td>\n",
       "      <td>-99.9</td>\n",
       "      <td>-0.080973</td>\n",
       "    </tr>\n",
       "    <tr>\n",
       "      <th>’s-Heerenberg</th>\n",
       "      <td>99.9</td>\n",
       "      <td>-99.9</td>\n",
       "      <td>0.168265</td>\n",
       "    </tr>\n",
       "  </tbody>\n",
       "</table>\n",
       "<p>8836 rows × 3 columns</p>\n",
       "</div>"
      ],
      "text/plain": [
       "               measure                \n",
       "                   max   min      mean\n",
       "station                               \n",
       "Aabenraa          99.9 -99.9 -0.062295\n",
       "Aalten            99.9 -99.9 -0.161752\n",
       "Abadiânia         99.9 -99.9 -0.052772\n",
       "Abalessa          99.9 -99.9  0.211089\n",
       "Abangaritos       99.9 -99.9  0.063772\n",
       "...                ...   ...       ...\n",
       "’Aïn Abessa       99.9 -99.9 -0.013338\n",
       "’Aïn Azel         99.9 -99.9 -0.040762\n",
       "’Aïn Roua         99.9 -99.9 -0.026898\n",
       "’s-Gravenzande    99.9 -99.9 -0.080973\n",
       "’s-Heerenberg     99.9 -99.9  0.168265\n",
       "\n",
       "[8836 rows x 3 columns]"
      ]
     },
     "metadata": {},
     "output_type": "display_data"
    },
    {
     "name": "stdout",
     "output_type": "stream",
     "text": [
      "create_dask Tempo de processamento:7 minutos 41 segundos\n"
     ]
    }
   ],
   "source": [
    "import dask\n",
    "dask.config.set({'dataframe.query-planning': True})\n",
    "import dask.dataframe as dd\n",
    "@timer\n",
    "def create_dask():    \n",
    "    # Ler o arquivo txt diretamente em um DataFrame Dask\n",
    "    df = dd.read_csv('data/measurements.txt', delimiter=';', header=None, names=['station', 'measure'])\n",
    "    # min, max, e mean pela cidade ordenado pelo index\n",
    "    return display(df.groupby('station').agg({'measure': ['max','min','mean']}).compute().sort_index())\n",
    "\n",
    "if __name__ == \"__main__\":\n",
    "    create_dask()  \n"
   ]
  },
  {
   "cell_type": "code",
   "execution_count": 13,
   "id": "260f2322-7eb5-429b-bd4d-c8ffddbe6325",
   "metadata": {},
   "outputs": [
    {
     "name": "stdout",
     "output_type": "stream",
     "text": [
      "               measure                \n",
      "                   max   min      mean\n",
      "station                               \n",
      "Aabenraa          99.9 -99.9 -0.062295\n",
      "Aalten            99.9 -99.9 -0.161752\n",
      "Abadiânia         99.9 -99.9 -0.052772\n",
      "Abalessa          99.9 -99.9  0.211089\n",
      "Abangaritos       99.9 -99.9  0.063772\n",
      "...                ...   ...       ...\n",
      "’Aïn Abessa       99.9 -99.9 -0.013338\n",
      "’Aïn Azel         99.9 -99.9 -0.040762\n",
      "’Aïn Roua         99.9 -99.9 -0.026898\n",
      "’s-Gravenzande    99.9 -99.9 -0.080973\n",
      "’s-Heerenberg     99.9 -99.9  0.168265\n",
      "\n",
      "[8836 rows x 3 columns]\n",
      "create_dask Tempo de processamento:7 minutos 47 segundos\n"
     ]
    }
   ],
   "source": [
    "import dask\n",
    "dask.config.set({'dataframe.query-planning': True})\n",
    "import dask.dataframe as dd\n",
    "@timer\n",
    "def create_dask():    \n",
    "    # Ler o arquivo txt diretamente em um DataFrame Dask\n",
    "    df = dd.read_csv('data/measurements.txt', delimiter=';', header=None, names=['station', 'measure'])\n",
    "    # min, max, e mean pela cidade ordenado pelo index\n",
    "    print(df.groupby('station').\n",
    "    agg({'measure': ['max','min','mean']}).\n",
    "    compute().\n",
    "    sort_index())\n",
    "if __name__ == \"__main__\":\n",
    "    create_dask() \n",
    "    "
   ]
  },
  {
   "cell_type": "code",
   "execution_count": null,
   "id": "06d595f9-cc87-4855-b977-1cc10cab90c8",
   "metadata": {},
   "outputs": [],
   "source": []
  },
  {
   "cell_type": "markdown",
   "id": "e6d5a641-c514-4c94-a368-64424d857d9a",
   "metadata": {
    "jp-MarkdownHeadingCollapsed": true
   },
   "source": [
    "## Pyspark - min, max e mean em 1 bilhão de linhas."
   ]
  },
  {
   "cell_type": "code",
   "execution_count": null,
   "id": "b29f73b4-0590-48b2-9bce-0409c9aea24b",
   "metadata": {},
   "outputs": [],
   "source": [
    "#instalação da lib\n",
    "!poetry add pyspark"
   ]
  },
  {
   "cell_type": "code",
   "execution_count": 5,
   "id": "3950ab52-82b6-4f9a-8a6b-d9afefc2aa67",
   "metadata": {
    "scrolled": true
   },
   "outputs": [
    {
     "name": "stderr",
     "output_type": "stream",
     "text": [
      "[Stage 9:======================================================>(118 + 1) / 119]\r"
     ]
    },
    {
     "name": "stdout",
     "output_type": "stream",
     "text": [
      "+--------------+---------------+---------------+--------------------+\n",
      "|          City|Min Temperature|Max Temperature|     Avg Temperature|\n",
      "+--------------+---------------+---------------+--------------------+\n",
      "|      Aabenraa|          -99.9|           99.9| -0.0622947488794981|\n",
      "|        Aalten|          -99.9|           99.9|-0.16175193009676553|\n",
      "|     Abadiânia|          -99.9|           99.9|-0.05277215372419822|\n",
      "|      Abalessa|          -99.9|           99.9| 0.21108941553593294|\n",
      "|   Abangaritos|          -99.9|           99.9| 0.06377211310947027|\n",
      "|   Abano Terme|          -99.9|           99.9| 0.17194244350252394|\n",
      "|         Abaré|          -99.9|           99.9| -0.2666045273852838|\n",
      "|     Abbeville|          -99.9|           99.9| 0.07425508222933982|\n",
      "| Abbiategrasso|          -99.9|           99.9|-0.19547850239845785|\n",
      "|Abbots Langley|          -99.9|           99.9| 0.20737068497627278|\n",
      "|      Abdulino|          -99.9|           99.9|  0.1269626020386111|\n",
      "|      Aberdare|          -99.9|           99.9|-0.10531290191095477|\n",
      "|   Aberystwyth|          -99.9|           99.9| -0.1610037180650041|\n",
      "|       Abidjan|          -99.9|           99.9| 0.21977946705104265|\n",
      "|        Abinsk|          -99.9|           99.9|-0.11314484812510645|\n",
      "|         Abram|          -99.9|           99.9|-0.03221989738014504|\n",
      "|      Abrantes|          -99.9|           99.9| 0.16961210453744585|\n",
      "|     Abu Dhabi|          -99.9|           99.9|   0.225045139297893|\n",
      "|         Aburi|          -99.9|           99.9|0.012415769482142035|\n",
      "| Abī al Khaşīb|          -99.9|           99.9| 0.45014594150587645|\n",
      "+--------------+---------------+---------------+--------------------+\n",
      "only showing top 20 rows\n",
      "\n",
      "create_pyspark Tempo de processamento:2 minutos 52 segundos\n"
     ]
    },
    {
     "name": "stderr",
     "output_type": "stream",
     "text": [
      "                                                                                \r"
     ]
    }
   ],
   "source": [
    "from pyspark.sql import SparkSession\n",
    "from pyspark.sql.functions import col, min as spark_min, max as spark_max, avg as spark_avg\n",
    "@timer\n",
    "def create_pyspark():     \n",
    "    # Inicializar uma sessão Spark\n",
    "    spark = SparkSession.builder \\\n",
    "        .appName(\"Temperature Analysis\") \\\n",
    "        .getOrCreate()\n",
    "    \n",
    "    # Ler o arquivo CSV diretamente em um DataFrame Spark\n",
    "    df = spark.read.option(\"header\", \"false\").option(\"delimiter\", \";\").csv(\"data/measurements.txt\") \\\n",
    "        .toDF(\"City\", \"Temperature\")\n",
    "    \n",
    "    # Converter a coluna 'Temperature' para tipo numérico\n",
    "    df = df.withColumn(\"Temperature\", col(\"Temperature\").cast(\"float\"))\n",
    "    \n",
    "    # Calcular estatísticas usando Spark SQL\n",
    "    statistics = df.groupBy(\"City\") \\\n",
    "        .agg(spark_min(\"Temperature\").alias(\"Min Temperature\"),\n",
    "             spark_max(\"Temperature\").alias(\"Max Temperature\"),\n",
    "             spark_avg(\"Temperature\").alias(\"Avg Temperature\"))\n",
    "    \n",
    "    # Ordenar as estatísticas pela cidade\n",
    "    statistics_sorted = statistics.orderBy(\"City\")\n",
    "    \n",
    "    # Mostrar as estatísticas\n",
    "    return statistics_sorted.show()\n",
    "    \n",
    "    # Encerrar a sessão Spark\n",
    "    # spark.stop()\n",
    "\n",
    "if __name__ == \"__main__\":\n",
    "    create_pyspark()  \n"
   ]
  },
  {
   "cell_type": "markdown",
   "id": "1cf2b54f-3cd0-4b33-9781-e1b2a8a2c66d",
   "metadata": {
    "jp-MarkdownHeadingCollapsed": true
   },
   "source": [
    "## Vaex - min, max e mean em 1 bilhão de linhas."
   ]
  },
  {
   "cell_type": "markdown",
   "id": "e0111eb8-99c0-46a2-a91a-b8378f7ddbf0",
   "metadata": {},
   "source": [
    "* **Para utilizar o Vaex foi necessário selecionar outro kernel com python 3.10.13.**"
   ]
  },
  {
   "cell_type": "code",
   "execution_count": 2,
   "id": "6b2e662f-d655-4479-85d8-595a8d1455df",
   "metadata": {},
   "outputs": [
    {
     "name": "stdout",
     "output_type": "stream",
     "text": [
      "Python 3.10.13\n"
     ]
    }
   ],
   "source": [
    "!python --version"
   ]
  },
  {
   "cell_type": "code",
   "execution_count": 54,
   "id": "bc87d1a2-852f-4c65-bd6e-215faf967407",
   "metadata": {},
   "outputs": [
    {
     "data": {
      "text/html": [
       "<table>\n",
       "<thead>\n",
       "<tr><th>#                                 </th><th>station         </th><th>measure_min  </th><th>measure_max  </th><th>measure_mean      </th></tr>\n",
       "</thead>\n",
       "<tbody>\n",
       "<tr><td><i style='opacity: 0.6'>0</i>     </td><td>South Dana      </td><td>-45.4        </td><td>96.7         </td><td>34.13404255319149 </td></tr>\n",
       "<tr><td><i style='opacity: 0.6'>1</i>     </td><td>Benjaminborough </td><td>-47.8        </td><td>98.0         </td><td>27.29387755102041 </td></tr>\n",
       "<tr><td><i style='opacity: 0.6'>2</i>     </td><td>New Ashley      </td><td>-47.9        </td><td>99.8         </td><td>39.13777777777778 </td></tr>\n",
       "<tr><td><i style='opacity: 0.6'>3</i>     </td><td>South Angela    </td><td>-48.5        </td><td>99.9         </td><td>45.92227488151659 </td></tr>\n",
       "<tr><td><i style='opacity: 0.6'>4</i>     </td><td>West Pamela     </td><td>-44.1        </td><td>95.4         </td><td>38.808045977011496</td></tr>\n",
       "<tr><td>...                               </td><td>...             </td><td>...          </td><td>...          </td><td>...               </td></tr>\n",
       "<tr><td><i style='opacity: 0.6'>91,357</i></td><td>New Rickyfort   </td><td>95.0         </td><td>95.0         </td><td>95.0              </td></tr>\n",
       "<tr><td><i style='opacity: 0.6'>91,358</i></td><td>South Ruthfort  </td><td>41.0         </td><td>41.0         </td><td>41.0              </td></tr>\n",
       "<tr><td><i style='opacity: 0.6'>91,359</i></td><td>Lake Biancafort </td><td>86.4         </td><td>86.4         </td><td>86.4              </td></tr>\n",
       "<tr><td><i style='opacity: 0.6'>91,360</i></td><td>Port Selenamouth</td><td>-46.7        </td><td>-46.7        </td><td>-46.7             </td></tr>\n",
       "<tr><td><i style='opacity: 0.6'>91,361</i></td><td>North Haroldland</td><td>93.4         </td><td>93.4         </td><td>93.4              </td></tr>\n",
       "</tbody>\n",
       "</table>"
      ],
      "text/plain": [
       "#       station           measure_min    measure_max    measure_mean\n",
       "0       South Dana        -45.4          96.7           34.13404255319149\n",
       "1       Benjaminborough   -47.8          98.0           27.29387755102041\n",
       "2       New Ashley        -47.9          99.8           39.13777777777778\n",
       "3       South Angela      -48.5          99.9           45.92227488151659\n",
       "4       West Pamela       -44.1          95.4           38.808045977011496\n",
       "...     ...               ...            ...            ...\n",
       "91,357  New Rickyfort     95.0           95.0           95.0\n",
       "91,358  South Ruthfort    41.0           41.0           41.0\n",
       "91,359  Lake Biancafort   86.4           86.4           86.4\n",
       "91,360  Port Selenamouth  -46.7          -46.7          -46.7\n",
       "91,361  North Haroldland  93.4           93.4           93.4"
      ]
     },
     "metadata": {},
     "output_type": "display_data"
    },
    {
     "name": "stdout",
     "output_type": "stream",
     "text": [
      "create_vaex Tempo de processamento:0.943 segundos\n"
     ]
    }
   ],
   "source": [
    "import vaex\n",
    "@timer\n",
    "def create_vaex(filename):\n",
    "    # Leitura do arquivo CSV utilizando Vaex\n",
    "    df = vaex.from_csv(filename, names=['station', 'measure'], sep=';')\n",
    "\n",
    "    # Cálculo das estatísticas\n",
    "    combined_results = df.groupby(df['station']).agg({'measure': ['min', 'max', 'mean']})\n",
    "\n",
    "    # Exibição dos resultados\n",
    "    return display(combined_results)\n",
    "   \n",
    "if __name__ == \"__main__\":\n",
    "    filename = \"data/measurements1.txt\"\n",
    "    create_vaex(filename)\n"
   ]
  },
  {
   "cell_type": "code",
   "execution_count": 47,
   "id": "fb494d83-fade-4295-9c41-7f96103f6983",
   "metadata": {},
   "outputs": [
    {
     "name": "stdout",
     "output_type": "stream",
     "text": [
      "Converting csv to chunk files\n",
      "Saved chunk #0 to data/measurements.txt_chunk_0.hdf5\n",
      "Saved chunk #1 to data/measurements.txt_chunk_1.hdf5\n",
      "Saved chunk #2 to data/measurements.txt_chunk_2.hdf5\n",
      "Saved chunk #3 to data/measurements.txt_chunk_3.hdf5\n",
      "Saved chunk #4 to data/measurements.txt_chunk_4.hdf5\n",
      "Saved chunk #5 to data/measurements.txt_chunk_5.hdf5\n",
      "Saved chunk #6 to data/measurements.txt_chunk_6.hdf5\n",
      "Saved chunk #7 to data/measurements.txt_chunk_7.hdf5\n",
      "Saved chunk #8 to data/measurements.txt_chunk_8.hdf5\n",
      "Saved chunk #9 to data/measurements.txt_chunk_9.hdf5\n",
      "Saved chunk #10 to data/measurements.txt_chunk_10.hdf5\n",
      "Saved chunk #11 to data/measurements.txt_chunk_11.hdf5\n",
      "Saved chunk #12 to data/measurements.txt_chunk_12.hdf5\n",
      "Saved chunk #13 to data/measurements.txt_chunk_13.hdf5\n",
      "Saved chunk #14 to data/measurements.txt_chunk_14.hdf5\n",
      "Saved chunk #15 to data/measurements.txt_chunk_15.hdf5\n",
      "Saved chunk #16 to data/measurements.txt_chunk_16.hdf5\n",
      "Saved chunk #17 to data/measurements.txt_chunk_17.hdf5\n",
      "Saved chunk #18 to data/measurements.txt_chunk_18.hdf5\n",
      "Saved chunk #19 to data/measurements.txt_chunk_19.hdf5\n",
      "Saved chunk #20 to data/measurements.txt_chunk_20.hdf5\n",
      "Saved chunk #21 to data/measurements.txt_chunk_21.hdf5\n",
      "Saved chunk #22 to data/measurements.txt_chunk_22.hdf5\n",
      "Saved chunk #23 to data/measurements.txt_chunk_23.hdf5\n",
      "Saved chunk #24 to data/measurements.txt_chunk_24.hdf5\n",
      "Saved chunk #25 to data/measurements.txt_chunk_25.hdf5\n",
      "Saved chunk #26 to data/measurements.txt_chunk_26.hdf5\n",
      "Saved chunk #27 to data/measurements.txt_chunk_27.hdf5\n",
      "Saved chunk #28 to data/measurements.txt_chunk_28.hdf5\n",
      "Saved chunk #29 to data/measurements.txt_chunk_29.hdf5\n",
      "Saved chunk #30 to data/measurements.txt_chunk_30.hdf5\n",
      "Saved chunk #31 to data/measurements.txt_chunk_31.hdf5\n",
      "Saved chunk #32 to data/measurements.txt_chunk_32.hdf5\n",
      "Saved chunk #33 to data/measurements.txt_chunk_33.hdf5\n",
      "Saved chunk #34 to data/measurements.txt_chunk_34.hdf5\n",
      "Saved chunk #35 to data/measurements.txt_chunk_35.hdf5\n",
      "Saved chunk #36 to data/measurements.txt_chunk_36.hdf5\n",
      "Saved chunk #37 to data/measurements.txt_chunk_37.hdf5\n",
      "Saved chunk #38 to data/measurements.txt_chunk_38.hdf5\n",
      "Saved chunk #39 to data/measurements.txt_chunk_39.hdf5\n",
      "Saved chunk #40 to data/measurements.txt_chunk_40.hdf5\n",
      "Saved chunk #41 to data/measurements.txt_chunk_41.hdf5\n",
      "Saved chunk #42 to data/measurements.txt_chunk_42.hdf5\n",
      "Saved chunk #43 to data/measurements.txt_chunk_43.hdf5\n",
      "Saved chunk #44 to data/measurements.txt_chunk_44.hdf5\n",
      "Saved chunk #45 to data/measurements.txt_chunk_45.hdf5\n",
      "Saved chunk #46 to data/measurements.txt_chunk_46.hdf5\n",
      "Saved chunk #47 to data/measurements.txt_chunk_47.hdf5\n",
      "Saved chunk #48 to data/measurements.txt_chunk_48.hdf5\n",
      "Saved chunk #49 to data/measurements.txt_chunk_49.hdf5\n",
      "Saved chunk #50 to data/measurements.txt_chunk_50.hdf5\n",
      "Saved chunk #51 to data/measurements.txt_chunk_51.hdf5\n",
      "Saved chunk #52 to data/measurements.txt_chunk_52.hdf5\n",
      "Saved chunk #53 to data/measurements.txt_chunk_53.hdf5\n",
      "Saved chunk #54 to data/measurements.txt_chunk_54.hdf5\n",
      "Saved chunk #55 to data/measurements.txt_chunk_55.hdf5\n",
      "Saved chunk #56 to data/measurements.txt_chunk_56.hdf5\n",
      "Saved chunk #57 to data/measurements.txt_chunk_57.hdf5\n",
      "Saved chunk #58 to data/measurements.txt_chunk_58.hdf5\n",
      "Saved chunk #59 to data/measurements.txt_chunk_59.hdf5\n",
      "Saved chunk #60 to data/measurements.txt_chunk_60.hdf5\n",
      "Saved chunk #61 to data/measurements.txt_chunk_61.hdf5\n",
      "Saved chunk #62 to data/measurements.txt_chunk_62.hdf5\n",
      "Saved chunk #63 to data/measurements.txt_chunk_63.hdf5\n",
      "Saved chunk #64 to data/measurements.txt_chunk_64.hdf5\n",
      "Saved chunk #65 to data/measurements.txt_chunk_65.hdf5\n",
      "Saved chunk #66 to data/measurements.txt_chunk_66.hdf5\n",
      "Saved chunk #67 to data/measurements.txt_chunk_67.hdf5\n",
      "Saved chunk #68 to data/measurements.txt_chunk_68.hdf5\n",
      "Saved chunk #69 to data/measurements.txt_chunk_69.hdf5\n",
      "Saved chunk #70 to data/measurements.txt_chunk_70.hdf5\n",
      "Saved chunk #71 to data/measurements.txt_chunk_71.hdf5\n",
      "Saved chunk #72 to data/measurements.txt_chunk_72.hdf5\n",
      "Saved chunk #73 to data/measurements.txt_chunk_73.hdf5\n",
      "Saved chunk #74 to data/measurements.txt_chunk_74.hdf5\n",
      "Saved chunk #75 to data/measurements.txt_chunk_75.hdf5\n",
      "Saved chunk #76 to data/measurements.txt_chunk_76.hdf5\n",
      "Saved chunk #77 to data/measurements.txt_chunk_77.hdf5\n",
      "Saved chunk #78 to data/measurements.txt_chunk_78.hdf5\n",
      "Saved chunk #79 to data/measurements.txt_chunk_79.hdf5\n",
      "Saved chunk #80 to data/measurements.txt_chunk_80.hdf5\n",
      "Saved chunk #81 to data/measurements.txt_chunk_81.hdf5\n",
      "Saved chunk #82 to data/measurements.txt_chunk_82.hdf5\n",
      "Saved chunk #83 to data/measurements.txt_chunk_83.hdf5\n",
      "Saved chunk #84 to data/measurements.txt_chunk_84.hdf5\n",
      "Saved chunk #85 to data/measurements.txt_chunk_85.hdf5\n",
      "Saved chunk #86 to data/measurements.txt_chunk_86.hdf5\n",
      "Saved chunk #87 to data/measurements.txt_chunk_87.hdf5\n",
      "Saved chunk #88 to data/measurements.txt_chunk_88.hdf5\n",
      "Saved chunk #89 to data/measurements.txt_chunk_89.hdf5\n",
      "Saved chunk #90 to data/measurements.txt_chunk_90.hdf5\n",
      "Saved chunk #91 to data/measurements.txt_chunk_91.hdf5\n",
      "Saved chunk #92 to data/measurements.txt_chunk_92.hdf5\n",
      "Saved chunk #93 to data/measurements.txt_chunk_93.hdf5\n",
      "Saved chunk #94 to data/measurements.txt_chunk_94.hdf5\n",
      "Saved chunk #95 to data/measurements.txt_chunk_95.hdf5\n",
      "Saved chunk #96 to data/measurements.txt_chunk_96.hdf5\n",
      "Saved chunk #97 to data/measurements.txt_chunk_97.hdf5\n",
      "Saved chunk #98 to data/measurements.txt_chunk_98.hdf5\n",
      "Saved chunk #99 to data/measurements.txt_chunk_99.hdf5\n",
      "Converting 100 chunks into single file data/measurements.txt.hdf5\n",
      "export(hdf5) [########################################] 100.00% elapsed time  :   198.26s =  3.3m =  0.1h h                  \n",
      " "
     ]
    }
   ],
   "source": [
    "df = vaex.from_csv('data/measurements.txt', names=['station', 'measure'], sep=';',convert=True,chunk_size=10_000_000 , progress=True)"
   ]
  },
  {
   "cell_type": "code",
   "execution_count": 56,
   "id": "44b95d1e-4445-4dd4-bb9c-5a5937ddcaed",
   "metadata": {},
   "outputs": [
    {
     "data": {
      "text/html": [
       "<table>\n",
       "<thead>\n",
       "<tr><th>#                                </th><th>station       </th><th>measure_min  </th><th>measure_max  </th><th>measure_mean         </th></tr>\n",
       "</thead>\n",
       "<tbody>\n",
       "<tr><td><i style='opacity: 0.6'>0</i>    </td><td>Aabenraa      </td><td>-99.9        </td><td>99.9         </td><td>-0.062294754104918   </td></tr>\n",
       "<tr><td><i style='opacity: 0.6'>1</i>    </td><td>Aalten        </td><td>-99.9        </td><td>99.9         </td><td>-0.16175191675246645 </td></tr>\n",
       "<tr><td><i style='opacity: 0.6'>2</i>    </td><td>Abadiânia     </td><td>-99.9        </td><td>99.9         </td><td>-0.0527721562105517  </td></tr>\n",
       "<tr><td><i style='opacity: 0.6'>3</i>    </td><td>Abalessa      </td><td>-99.9        </td><td>99.9         </td><td>0.21108942210476792  </td></tr>\n",
       "<tr><td><i style='opacity: 0.6'>4</i>    </td><td>Abangaritos   </td><td>-99.9        </td><td>99.9         </td><td>0.06377211442610778  </td></tr>\n",
       "<tr><td>...                              </td><td>...           </td><td>...          </td><td>...          </td><td>...                  </td></tr>\n",
       "<tr><td><i style='opacity: 0.6'>8,831</i></td><td>’Aïn Abessa   </td><td>-99.9        </td><td>99.9         </td><td>-0.013338384996559474</td></tr>\n",
       "<tr><td><i style='opacity: 0.6'>8,832</i></td><td>’Aïn Azel     </td><td>-99.9        </td><td>99.9         </td><td>-0.040762228668600346</td></tr>\n",
       "<tr><td><i style='opacity: 0.6'>8,833</i></td><td>’Aïn Roua     </td><td>-99.9        </td><td>99.9         </td><td>-0.02689839143166584 </td></tr>\n",
       "<tr><td><i style='opacity: 0.6'>8,834</i></td><td>’s-Gravenzande</td><td>-99.9        </td><td>99.9         </td><td>-0.0809733627077911  </td></tr>\n",
       "<tr><td><i style='opacity: 0.6'>8,835</i></td><td>’s-Heerenberg </td><td>-99.9        </td><td>99.9         </td><td>0.16826510134457162  </td></tr>\n",
       "</tbody>\n",
       "</table>"
      ],
      "text/plain": [
       "#      station         measure_min    measure_max    measure_mean\n",
       "0      Aabenraa        -99.9          99.9           -0.062294754104918\n",
       "1      Aalten          -99.9          99.9           -0.16175191675246645\n",
       "2      Abadiânia       -99.9          99.9           -0.0527721562105517\n",
       "3      Abalessa        -99.9          99.9           0.21108942210476792\n",
       "4      Abangaritos     -99.9          99.9           0.06377211442610778\n",
       "...    ...             ...            ...            ...\n",
       "8,831  ’Aïn Abessa     -99.9          99.9           -0.013338384996559474\n",
       "8,832  ’Aïn Azel       -99.9          99.9           -0.040762228668600346\n",
       "8,833  ’Aïn Roua       -99.9          99.9           -0.02689839143166584\n",
       "8,834  ’s-Gravenzande  -99.9          99.9           -0.0809733627077911\n",
       "8,835  ’s-Heerenberg   -99.9          99.9           0.16826510134457162"
      ]
     },
     "metadata": {},
     "output_type": "display_data"
    },
    {
     "name": "stdout",
     "output_type": "stream",
     "text": [
      "create_vaex Tempo de processamento:47.454 segundos\n"
     ]
    }
   ],
   "source": [
    "import vaex\n",
    "@timer\n",
    "def create_vaex(filename):\n",
    "    # Leitura do arquivo CSV utilizando Vaex\n",
    "    df = vaex.open(filename)\n",
    "\n",
    "    # Cálculo das estatísticas\n",
    "    combined_results = df.groupby(df['station']).agg({'measure': ['min', 'max', 'mean']})\n",
    "    \n",
    "    # Ordenar por 'station'\n",
    "    combined_results = combined_results.sort(by='station')\n",
    "\n",
    "    # Exibição dos resultados\n",
    "    return display(combined_results)\n",
    "   \n",
    "if __name__ == \"__main__\":\n",
    "    filename = \"data/measurements.txt.hdf5\"\n",
    "    create_vaex(filename)\n"
   ]
  },
  {
   "cell_type": "code",
   "execution_count": null,
   "id": "1cbf1f1e-efaa-4bde-b541-d1ab1e36d4a8",
   "metadata": {},
   "outputs": [],
   "source": []
  },
  {
   "cell_type": "markdown",
   "id": "3e3e549a-a6eb-47fb-af6c-273174f288c4",
   "metadata": {},
   "source": [
    "## cuDF com pandas via GPU"
   ]
  },
  {
   "cell_type": "code",
   "execution_count": 3,
   "id": "7ab3c819-0818-4ee5-b9a0-4ab180eb3384",
   "metadata": {},
   "outputs": [
    {
     "name": "stdout",
     "output_type": "stream",
     "text": [
      "Python 3.11.3\n"
     ]
    }
   ],
   "source": [
    "#verificando a versão do python para esse estudo.\n",
    "!python --version"
   ]
  },
  {
   "cell_type": "code",
   "execution_count": 37,
   "id": "0bce2ec8-d937-437b-87a7-0bf7f2fe4296",
   "metadata": {},
   "outputs": [
    {
     "data": {
      "text/plain": [
       "['/home/jcnok/bootcamps/bootcamp-jornada-de-dados_2024/.venv/lib/python3.11/site-packages']"
      ]
     },
     "execution_count": 37,
     "metadata": {},
     "output_type": "execute_result"
    }
   ],
   "source": [
    "# Verificando se o ambiente virtual foi setado corretamente.\n",
    "import site\n",
    "site.getsitepackages()"
   ]
  },
  {
   "cell_type": "markdown",
   "id": "10e02e54-5975-4862-b7fe-275f37311550",
   "metadata": {},
   "source": [
    "* **Para a leitura para 10 milhões de linha foi extremamente rápido, porém para 1 bilhão a memória não suportou.**"
   ]
  },
  {
   "cell_type": "code",
   "execution_count": 42,
   "id": "9e9a4784-5d7a-4e9f-abb4-b2e69fee5fef",
   "metadata": {},
   "outputs": [
    {
     "name": "stdout",
     "output_type": "stream",
     "text": [
      "             measure                 \n",
      "                 min   max       mean\n",
      "station                              \n",
      "Aaronberg      -48.6  99.4  37.065909\n",
      "Aaronborough   -46.4  98.4  38.725000\n",
      "Aaronburgh     -45.4  92.0  33.942000\n",
      "Aaronbury      -47.3  98.7  53.363636\n",
      "Aaronchester   -49.9  98.8  43.383333\n",
      "...              ...   ...        ...\n",
      "Zunigastad     -13.7  57.8  17.450000\n",
      "Zunigaton      -44.7  86.1  29.414286\n",
      "Zunigatown      45.2  99.4  68.266667\n",
      "Zunigaview      -4.1  86.5  60.760000\n",
      "Zunigaville     -2.1  57.1  38.450000\n",
      "\n",
      "[91362 rows x 3 columns]\n",
      "create_cudf Tempo de processamento:0.163 segundos\n"
     ]
    }
   ],
   "source": [
    "import cudf\n",
    "@timer\n",
    "def create_cudf(filename):\n",
    "    \n",
    "    # Carregar o arquivo CSV e criar os cabeçalhos 'station' e 'measure'\n",
    "    df = cudf.read_csv(filename, header=None, sep=';', names=['station', 'measure'])\n",
    "    \n",
    "    # Agrupar por 'station' e calcular o 'min', 'max' e 'mean' da coluna 'measure'\n",
    "    grouped_df = df.groupby('station').agg({'measure': ['min', 'max', 'mean']})\n",
    "    \n",
    "    # Ordenar o DataFrame pelo índice (station)\n",
    "    result = grouped_df.sort_index()     \n",
    "    \n",
    "    # retorna o resultado\n",
    "    return print(result)\n",
    "\n",
    "if __name__ == \"__main__\":\n",
    "    filename = \"data/measurements1.txt\"\n",
    "    create_cudf(filename)\n"
   ]
  },
  {
   "cell_type": "code",
   "execution_count": 22,
   "id": "a47fc4a6-f170-4067-9af5-977bcb0f4171",
   "metadata": {},
   "outputs": [
    {
     "data": {
      "text/html": [
       "<div>\n",
       "<style scoped>\n",
       "    .dataframe tbody tr th:only-of-type {\n",
       "        vertical-align: middle;\n",
       "    }\n",
       "\n",
       "    .dataframe tbody tr th {\n",
       "        vertical-align: top;\n",
       "    }\n",
       "\n",
       "    .dataframe thead tr th {\n",
       "        text-align: left;\n",
       "    }\n",
       "\n",
       "    .dataframe thead tr:last-of-type th {\n",
       "        text-align: right;\n",
       "    }\n",
       "</style>\n",
       "<table border=\"1\" class=\"dataframe\">\n",
       "  <thead>\n",
       "    <tr>\n",
       "      <th></th>\n",
       "      <th colspan=\"3\" halign=\"left\">measure</th>\n",
       "    </tr>\n",
       "    <tr>\n",
       "      <th></th>\n",
       "      <th>min</th>\n",
       "      <th>max</th>\n",
       "      <th>mean</th>\n",
       "    </tr>\n",
       "    <tr>\n",
       "      <th>station</th>\n",
       "      <th></th>\n",
       "      <th></th>\n",
       "      <th></th>\n",
       "    </tr>\n",
       "  </thead>\n",
       "  <tbody>\n",
       "    <tr>\n",
       "      <th>Aabenraa</th>\n",
       "      <td>-99.900002</td>\n",
       "      <td>99.900002</td>\n",
       "      <td>-0.062294</td>\n",
       "    </tr>\n",
       "    <tr>\n",
       "      <th>Aalten</th>\n",
       "      <td>-99.900002</td>\n",
       "      <td>99.900002</td>\n",
       "      <td>-0.161752</td>\n",
       "    </tr>\n",
       "    <tr>\n",
       "      <th>Abadiânia</th>\n",
       "      <td>-99.900002</td>\n",
       "      <td>99.900002</td>\n",
       "      <td>-0.052772</td>\n",
       "    </tr>\n",
       "    <tr>\n",
       "      <th>Abalessa</th>\n",
       "      <td>-99.900002</td>\n",
       "      <td>99.900002</td>\n",
       "      <td>0.211090</td>\n",
       "    </tr>\n",
       "    <tr>\n",
       "      <th>Abangaritos</th>\n",
       "      <td>-99.900002</td>\n",
       "      <td>99.900002</td>\n",
       "      <td>0.063772</td>\n",
       "    </tr>\n",
       "    <tr>\n",
       "      <th>...</th>\n",
       "      <td>...</td>\n",
       "      <td>...</td>\n",
       "      <td>...</td>\n",
       "    </tr>\n",
       "    <tr>\n",
       "      <th>’Aïn Abessa</th>\n",
       "      <td>-99.900002</td>\n",
       "      <td>99.900002</td>\n",
       "      <td>-0.013338</td>\n",
       "    </tr>\n",
       "    <tr>\n",
       "      <th>’Aïn Azel</th>\n",
       "      <td>-99.900002</td>\n",
       "      <td>99.900002</td>\n",
       "      <td>-0.040762</td>\n",
       "    </tr>\n",
       "    <tr>\n",
       "      <th>’Aïn Roua</th>\n",
       "      <td>-99.900002</td>\n",
       "      <td>99.900002</td>\n",
       "      <td>-0.026899</td>\n",
       "    </tr>\n",
       "    <tr>\n",
       "      <th>’s-Gravenzande</th>\n",
       "      <td>-99.900002</td>\n",
       "      <td>99.900002</td>\n",
       "      <td>-0.080973</td>\n",
       "    </tr>\n",
       "    <tr>\n",
       "      <th>’s-Heerenberg</th>\n",
       "      <td>-99.900002</td>\n",
       "      <td>99.900002</td>\n",
       "      <td>0.168265</td>\n",
       "    </tr>\n",
       "  </tbody>\n",
       "</table>\n",
       "<p>8836 rows × 3 columns</p>\n",
       "</div>"
      ],
      "text/plain": [
       "                  measure                     \n",
       "                      min        max      mean\n",
       "station                                       \n",
       "Aabenraa       -99.900002  99.900002 -0.062294\n",
       "Aalten         -99.900002  99.900002 -0.161752\n",
       "Abadiânia      -99.900002  99.900002 -0.052772\n",
       "Abalessa       -99.900002  99.900002  0.211090\n",
       "Abangaritos    -99.900002  99.900002  0.063772\n",
       "...                   ...        ...       ...\n",
       "’Aïn Abessa    -99.900002  99.900002 -0.013338\n",
       "’Aïn Azel      -99.900002  99.900002 -0.040762\n",
       "’Aïn Roua      -99.900002  99.900002 -0.026899\n",
       "’s-Gravenzande -99.900002  99.900002 -0.080973\n",
       "’s-Heerenberg  -99.900002  99.900002  0.168265\n",
       "\n",
       "[8836 rows x 3 columns]"
      ]
     },
     "metadata": {},
     "output_type": "display_data"
    },
    {
     "name": "stdout",
     "output_type": "stream",
     "text": [
      "CPU times: user 6.88 s, sys: 991 ms, total: 7.87 s\n",
      "Wall time: 54.8 s\n"
     ]
    }
   ],
   "source": [
    "%%time\n",
    "import dask_cudf as dc\n",
    "\n",
    "# Carregar o arquivo csv em um dataframe dask_cudf\n",
    "df = dc.read_csv('data/measurements.txt',sep=';', header=None, names=['station', 'measure'], dtype=['str', 'float32'], blocksize='1024 Mib')\n",
    "\n",
    "# Agrupar pela coluna 'station' e calcular min, max e mean da coluna 'measure'\n",
    "grouped_df = df.groupby('station').agg({'measure': ['min', 'max', 'mean']}).compute()\n",
    "\n",
    "# Ordenar pelo 'station'\n",
    "sorted_df = grouped_df.sort_index()\n",
    "\n",
    "# Imprimir as 5 primeiras e últimas linhas\n",
    "display(sorted_df)\n",
    "#print(sorted_df.tail(5))\n"
   ]
  },
  {
   "cell_type": "code",
   "execution_count": null,
   "id": "aa9987ad-6ef7-481b-afe7-30de3c04fde0",
   "metadata": {},
   "outputs": [],
   "source": []
  },
  {
   "cell_type": "code",
   "execution_count": 8,
   "id": "ce167389-7304-4619-ba14-9f46ccc3511a",
   "metadata": {},
   "outputs": [],
   "source": [
    "## 12/03 tentativa de configuração do dask_cudfm"
   ]
  },
  {
   "cell_type": "code",
   "execution_count": 9,
   "id": "b3389d4f-d044-450e-8bfe-9e955a9df3bd",
   "metadata": {},
   "outputs": [],
   "source": [
    "from multiprocessing import cpu_count"
   ]
  },
  {
   "cell_type": "code",
   "execution_count": 10,
   "id": "e2ffc4d1-cc3c-4d36-b517-2916a7cacdcb",
   "metadata": {},
   "outputs": [
    {
     "data": {
      "text/plain": [
       "24"
      ]
     },
     "execution_count": 10,
     "metadata": {},
     "output_type": "execute_result"
    }
   ],
   "source": [
    "cpu_count()"
   ]
  },
  {
   "cell_type": "code",
   "execution_count": 11,
   "id": "1fe9f5c5-a252-48b5-866e-e133ba5794d0",
   "metadata": {},
   "outputs": [],
   "source": [
    "# Definindo a quantidad de workers, geralmente a mesma quantidade de threads ou nucleos"
   ]
  },
  {
   "cell_type": "code",
   "execution_count": 8,
   "id": "04c44b4f-8b3a-4180-aa99-b8de66caab06",
   "metadata": {},
   "outputs": [
    {
     "name": "stderr",
     "output_type": "stream",
     "text": [
      "/home/jcnok/bootcamps/bootcamp-jornada-de-dados_2024/.venv/lib/python3.11/site-packages/distributed/node.py:182: UserWarning: Port 8787 is already in use.\n",
      "Perhaps you already have a cluster running?\n",
      "Hosting the HTTP server on port 46611 instead\n",
      "  warnings.warn(\n"
     ]
    },
    {
     "data": {
      "text/html": [
       "<div>\n",
       "    <div style=\"width: 24px; height: 24px; background-color: #e1e1e1; border: 3px solid #9D9D9D; border-radius: 5px; position: absolute;\"> </div>\n",
       "    <div style=\"margin-left: 48px;\">\n",
       "        <h3 style=\"margin-bottom: 0px;\">Client</h3>\n",
       "        <p style=\"color: #9D9D9D; margin-bottom: 0px;\">Client-eb869d84-e0bd-11ee-8b4f-03633ab1c7d1</p>\n",
       "        <table style=\"width: 100%; text-align: left;\">\n",
       "\n",
       "        <tr>\n",
       "        \n",
       "            <td style=\"text-align: left;\"><strong>Connection method:</strong> Cluster object</td>\n",
       "            <td style=\"text-align: left;\"><strong>Cluster type:</strong> dask_cuda.LocalCUDACluster</td>\n",
       "        \n",
       "        </tr>\n",
       "\n",
       "        \n",
       "            <tr>\n",
       "                <td style=\"text-align: left;\">\n",
       "                    <strong>Dashboard: </strong> <a href=\"http://127.0.0.1:46611/status\" target=\"_blank\">http://127.0.0.1:46611/status</a>\n",
       "                </td>\n",
       "                <td style=\"text-align: left;\"></td>\n",
       "            </tr>\n",
       "        \n",
       "\n",
       "        </table>\n",
       "\n",
       "        \n",
       "\n",
       "        \n",
       "            <details>\n",
       "            <summary style=\"margin-bottom: 20px;\"><h3 style=\"display: inline;\">Cluster Info</h3></summary>\n",
       "            <div class=\"jp-RenderedHTMLCommon jp-RenderedHTML jp-mod-trusted jp-OutputArea-output\">\n",
       "    <div style=\"width: 24px; height: 24px; background-color: #e1e1e1; border: 3px solid #9D9D9D; border-radius: 5px; position: absolute;\">\n",
       "    </div>\n",
       "    <div style=\"margin-left: 48px;\">\n",
       "        <h3 style=\"margin-bottom: 0px; margin-top: 0px;\">LocalCUDACluster</h3>\n",
       "        <p style=\"color: #9D9D9D; margin-bottom: 0px;\">0691be08</p>\n",
       "        <table style=\"width: 100%; text-align: left;\">\n",
       "            <tr>\n",
       "                <td style=\"text-align: left;\">\n",
       "                    <strong>Dashboard:</strong> <a href=\"http://127.0.0.1:46611/status\" target=\"_blank\">http://127.0.0.1:46611/status</a>\n",
       "                </td>\n",
       "                <td style=\"text-align: left;\">\n",
       "                    <strong>Workers:</strong> 1\n",
       "                </td>\n",
       "            </tr>\n",
       "            <tr>\n",
       "                <td style=\"text-align: left;\">\n",
       "                    <strong>Total threads:</strong> 1\n",
       "                </td>\n",
       "                <td style=\"text-align: left;\">\n",
       "                    <strong>Total memory:</strong> 7.68 GiB\n",
       "                </td>\n",
       "            </tr>\n",
       "            \n",
       "            <tr>\n",
       "    <td style=\"text-align: left;\"><strong>Status:</strong> running</td>\n",
       "    <td style=\"text-align: left;\"><strong>Using processes:</strong> True</td>\n",
       "</tr>\n",
       "\n",
       "            \n",
       "        </table>\n",
       "\n",
       "        <details>\n",
       "            <summary style=\"margin-bottom: 20px;\">\n",
       "                <h3 style=\"display: inline;\">Scheduler Info</h3>\n",
       "            </summary>\n",
       "\n",
       "            <div style=\"\">\n",
       "    <div>\n",
       "        <div style=\"width: 24px; height: 24px; background-color: #FFF7E5; border: 3px solid #FF6132; border-radius: 5px; position: absolute;\"> </div>\n",
       "        <div style=\"margin-left: 48px;\">\n",
       "            <h3 style=\"margin-bottom: 0px;\">Scheduler</h3>\n",
       "            <p style=\"color: #9D9D9D; margin-bottom: 0px;\">Scheduler-bd784790-b215-4016-91d2-4914ec6b3b4e</p>\n",
       "            <table style=\"width: 100%; text-align: left;\">\n",
       "                <tr>\n",
       "                    <td style=\"text-align: left;\">\n",
       "                        <strong>Comm:</strong> tcp://127.0.0.1:36487\n",
       "                    </td>\n",
       "                    <td style=\"text-align: left;\">\n",
       "                        <strong>Workers:</strong> 1\n",
       "                    </td>\n",
       "                </tr>\n",
       "                <tr>\n",
       "                    <td style=\"text-align: left;\">\n",
       "                        <strong>Dashboard:</strong> <a href=\"http://127.0.0.1:46611/status\" target=\"_blank\">http://127.0.0.1:46611/status</a>\n",
       "                    </td>\n",
       "                    <td style=\"text-align: left;\">\n",
       "                        <strong>Total threads:</strong> 1\n",
       "                    </td>\n",
       "                </tr>\n",
       "                <tr>\n",
       "                    <td style=\"text-align: left;\">\n",
       "                        <strong>Started:</strong> Just now\n",
       "                    </td>\n",
       "                    <td style=\"text-align: left;\">\n",
       "                        <strong>Total memory:</strong> 7.68 GiB\n",
       "                    </td>\n",
       "                </tr>\n",
       "            </table>\n",
       "        </div>\n",
       "    </div>\n",
       "\n",
       "    <details style=\"margin-left: 48px;\">\n",
       "        <summary style=\"margin-bottom: 20px;\">\n",
       "            <h3 style=\"display: inline;\">Workers</h3>\n",
       "        </summary>\n",
       "\n",
       "        \n",
       "        <div style=\"margin-bottom: 20px;\">\n",
       "            <div style=\"width: 24px; height: 24px; background-color: #DBF5FF; border: 3px solid #4CC9FF; border-radius: 5px; position: absolute;\"> </div>\n",
       "            <div style=\"margin-left: 48px;\">\n",
       "            <details>\n",
       "                <summary>\n",
       "                    <h4 style=\"margin-bottom: 0px; display: inline;\">Worker: 0</h4>\n",
       "                </summary>\n",
       "                <table style=\"width: 100%; text-align: left;\">\n",
       "                    <tr>\n",
       "                        <td style=\"text-align: left;\">\n",
       "                            <strong>Comm: </strong> tcp://127.0.0.1:44407\n",
       "                        </td>\n",
       "                        <td style=\"text-align: left;\">\n",
       "                            <strong>Total threads: </strong> 1\n",
       "                        </td>\n",
       "                    </tr>\n",
       "                    <tr>\n",
       "                        <td style=\"text-align: left;\">\n",
       "                            <strong>Dashboard: </strong> <a href=\"http://127.0.0.1:40769/status\" target=\"_blank\">http://127.0.0.1:40769/status</a>\n",
       "                        </td>\n",
       "                        <td style=\"text-align: left;\">\n",
       "                            <strong>Memory: </strong> 7.68 GiB\n",
       "                        </td>\n",
       "                    </tr>\n",
       "                    <tr>\n",
       "                        <td style=\"text-align: left;\">\n",
       "                            <strong>Nanny: </strong> tcp://127.0.0.1:33621\n",
       "                        </td>\n",
       "                        <td style=\"text-align: left;\"></td>\n",
       "                    </tr>\n",
       "                    <tr>\n",
       "                        <td colspan=\"2\" style=\"text-align: left;\">\n",
       "                            <strong>Local directory: </strong> /tmp/dask-scratch-space/worker-ebjib2xq\n",
       "                        </td>\n",
       "                    </tr>\n",
       "\n",
       "                    \n",
       "\n",
       "                    \n",
       "\n",
       "                </table>\n",
       "            </details>\n",
       "            </div>\n",
       "        </div>\n",
       "        \n",
       "\n",
       "    </details>\n",
       "</div>\n",
       "\n",
       "        </details>\n",
       "    </div>\n",
       "</div>\n",
       "            </details>\n",
       "        \n",
       "\n",
       "    </div>\n",
       "</div>"
      ],
      "text/plain": [
       "<Client: 'tcp://127.0.0.1:36487' processes=1 threads=1, memory=7.68 GiB>"
      ]
     },
     "execution_count": 8,
     "metadata": {},
     "output_type": "execute_result"
    },
    {
     "name": "stderr",
     "output_type": "stream",
     "text": [
      "/home/jcnok/bootcamps/bootcamp-jornada-de-dados_2024/.venv/lib/python3.11/site-packages/jupyter_server/base/handlers.py:607: UserWarning: The Tornado web application does not have an 'identity_provider' defined in its settings. In future releases of jupyter_server, this will be a required key for all subclasses of `JupyterHandler`. For an example, see the jupyter_server source code for how to add an identity provider to the tornado settings: https://github.com/jupyter-server/jupyter_server/blob/v2.0.0/jupyter_server/serverapp.py#L242\n",
      "  if type(self.identity_provider) is IdentityProvider and mod_obj.__name__ != __name__:\n",
      "2024-03-12 22:34:59,233 - tornado.application - ERROR - Uncaught exception GET /proxy/40769/127.0.0.1/status (127.0.0.1)\n",
      "HTTPServerRequest(protocol='http', host='127.0.0.1:46611', method='GET', uri='/proxy/40769/127.0.0.1/status', version='HTTP/1.1', remote_ip='127.0.0.1')\n",
      "Traceback (most recent call last):\n",
      "  File \"/home/jcnok/bootcamps/bootcamp-jornada-de-dados_2024/.venv/lib/python3.11/site-packages/tornado/web.py\", line 1769, in _execute\n",
      "    result = await result  # type: ignore\n",
      "             ^^^^^^^^^^^^\n",
      "  File \"/home/jcnok/bootcamps/bootcamp-jornada-de-dados_2024/.venv/lib/python3.11/site-packages/jupyter_server/base/handlers.py\", line 622, in prepare\n",
      "    _user = await _user\n",
      "            ^^^^^^^^^^^\n",
      "  File \"/home/jcnok/bootcamps/bootcamp-jornada-de-dados_2024/.venv/lib/python3.11/site-packages/jupyter_server/auth/identity.py\", line 235, in _get_user\n",
      "    _cookie_user = self.get_user_cookie(handler)\n",
      "                   ^^^^^^^^^^^^^^^^^^^^^^^^^^^^^\n",
      "  File \"/home/jcnok/bootcamps/bootcamp-jornada-de-dados_2024/.venv/lib/python3.11/site-packages/jupyter_server/auth/identity.py\", line 395, in get_user_cookie\n",
      "    _user_cookie = handler.get_secure_cookie(\n",
      "                   ^^^^^^^^^^^^^^^^^^^^^^^^^^\n",
      "  File \"/home/jcnok/bootcamps/bootcamp-jornada-de-dados_2024/.venv/lib/python3.11/site-packages/tornado/web.py\", line 840, in get_signed_cookie\n",
      "    self.require_setting(\"cookie_secret\", \"secure cookies\")\n",
      "  File \"/home/jcnok/bootcamps/bootcamp-jornada-de-dados_2024/.venv/lib/python3.11/site-packages/tornado/web.py\", line 1673, in require_setting\n",
      "    raise Exception(\n",
      "Exception: You must define the 'cookie_secret' setting in your application to use secure cookies\n",
      "2024-03-12 22:34:59,239 - tornado.application - ERROR - Uncaught exception in write_error\n",
      "Traceback (most recent call last):\n",
      "  File \"/home/jcnok/bootcamps/bootcamp-jornada-de-dados_2024/.venv/lib/python3.11/site-packages/tornado/web.py\", line 1769, in _execute\n",
      "    result = await result  # type: ignore\n",
      "             ^^^^^^^^^^^^\n",
      "  File \"/home/jcnok/bootcamps/bootcamp-jornada-de-dados_2024/.venv/lib/python3.11/site-packages/jupyter_server/base/handlers.py\", line 622, in prepare\n",
      "    _user = await _user\n",
      "            ^^^^^^^^^^^\n",
      "  File \"/home/jcnok/bootcamps/bootcamp-jornada-de-dados_2024/.venv/lib/python3.11/site-packages/jupyter_server/auth/identity.py\", line 235, in _get_user\n",
      "    _cookie_user = self.get_user_cookie(handler)\n",
      "                   ^^^^^^^^^^^^^^^^^^^^^^^^^^^^^\n",
      "  File \"/home/jcnok/bootcamps/bootcamp-jornada-de-dados_2024/.venv/lib/python3.11/site-packages/jupyter_server/auth/identity.py\", line 395, in get_user_cookie\n",
      "    _user_cookie = handler.get_secure_cookie(\n",
      "                   ^^^^^^^^^^^^^^^^^^^^^^^^^^\n",
      "  File \"/home/jcnok/bootcamps/bootcamp-jornada-de-dados_2024/.venv/lib/python3.11/site-packages/tornado/web.py\", line 840, in get_signed_cookie\n",
      "    self.require_setting(\"cookie_secret\", \"secure cookies\")\n",
      "  File \"/home/jcnok/bootcamps/bootcamp-jornada-de-dados_2024/.venv/lib/python3.11/site-packages/tornado/web.py\", line 1673, in require_setting\n",
      "    raise Exception(\n",
      "Exception: You must define the 'cookie_secret' setting in your application to use secure cookies\n",
      "\n",
      "During handling of the above exception, another exception occurred:\n",
      "\n",
      "Traceback (most recent call last):\n",
      "  File \"/home/jcnok/bootcamps/bootcamp-jornada-de-dados_2024/.venv/lib/python3.11/site-packages/tornado/web.py\", line 1298, in send_error\n",
      "    self.write_error(status_code, **kwargs)\n",
      "  File \"/home/jcnok/bootcamps/bootcamp-jornada-de-dados_2024/.venv/lib/python3.11/site-packages/jupyter_server/base/handlers.py\", line 719, in write_error\n",
      "    html = self.render_template(\"%s.html\" % status_code, **ns)\n",
      "           ^^^^^^^^^^^^^^^^^^^^^^^^^^^^^^^^^^^^^^^^^^^^^^^^^^^\n",
      "  File \"/home/jcnok/bootcamps/bootcamp-jornada-de-dados_2024/.venv/lib/python3.11/site-packages/jupyter_server/base/handlers.py\", line 645, in render_template\n",
      "    ns.update(self.template_namespace)\n",
      "              ^^^^^^^^^^^^^^^^^^^^^^^\n",
      "  File \"/home/jcnok/bootcamps/bootcamp-jornada-de-dados_2024/.venv/lib/python3.11/site-packages/jupyter_server/base/handlers.py\", line 655, in template_namespace\n",
      "    logged_in=self.logged_in,\n",
      "              ^^^^^^^^^^^^^^\n",
      "  File \"/home/jcnok/bootcamps/bootcamp-jornada-de-dados_2024/.venv/lib/python3.11/site-packages/jupyter_server/base/handlers.py\", line 197, in logged_in\n",
      "    user = self.current_user\n",
      "           ^^^^^^^^^^^^^^^^^\n",
      "  File \"/home/jcnok/bootcamps/bootcamp-jornada-de-dados_2024/.venv/lib/python3.11/site-packages/tornado/web.py\", line 1424, in current_user\n",
      "    self._current_user = self.get_current_user()\n",
      "                         ^^^^^^^^^^^^^^^^^^^^^^^\n",
      "  File \"/home/jcnok/bootcamps/bootcamp-jornada-de-dados_2024/.venv/lib/python3.11/site-packages/jupyter_server/base/handlers.py\", line 176, in get_current_user\n",
      "    raise RuntimeError(msg)\n",
      "RuntimeError: Calling `GlobalProxyHandler.get_current_user()` directly is deprecated in jupyter-server 2.0. Use `self.current_user` instead (works in all versions).\n",
      "2024-03-12 22:35:02,476 - tornado.application - ERROR - Uncaught exception GET /proxy/40769/127.0.0.1/status (127.0.0.1)\n",
      "HTTPServerRequest(protocol='http', host='127.0.0.1:46611', method='GET', uri='/proxy/40769/127.0.0.1/status', version='HTTP/1.1', remote_ip='127.0.0.1')\n",
      "Traceback (most recent call last):\n",
      "  File \"/home/jcnok/bootcamps/bootcamp-jornada-de-dados_2024/.venv/lib/python3.11/site-packages/tornado/web.py\", line 1769, in _execute\n",
      "    result = await result  # type: ignore\n",
      "             ^^^^^^^^^^^^\n",
      "  File \"/home/jcnok/bootcamps/bootcamp-jornada-de-dados_2024/.venv/lib/python3.11/site-packages/jupyter_server/base/handlers.py\", line 622, in prepare\n",
      "    _user = await _user\n",
      "            ^^^^^^^^^^^\n",
      "  File \"/home/jcnok/bootcamps/bootcamp-jornada-de-dados_2024/.venv/lib/python3.11/site-packages/jupyter_server/auth/identity.py\", line 235, in _get_user\n",
      "    _cookie_user = self.get_user_cookie(handler)\n",
      "                   ^^^^^^^^^^^^^^^^^^^^^^^^^^^^^\n",
      "  File \"/home/jcnok/bootcamps/bootcamp-jornada-de-dados_2024/.venv/lib/python3.11/site-packages/jupyter_server/auth/identity.py\", line 395, in get_user_cookie\n",
      "    _user_cookie = handler.get_secure_cookie(\n",
      "                   ^^^^^^^^^^^^^^^^^^^^^^^^^^\n",
      "  File \"/home/jcnok/bootcamps/bootcamp-jornada-de-dados_2024/.venv/lib/python3.11/site-packages/tornado/web.py\", line 840, in get_signed_cookie\n",
      "    self.require_setting(\"cookie_secret\", \"secure cookies\")\n",
      "  File \"/home/jcnok/bootcamps/bootcamp-jornada-de-dados_2024/.venv/lib/python3.11/site-packages/tornado/web.py\", line 1673, in require_setting\n",
      "    raise Exception(\n",
      "Exception: You must define the 'cookie_secret' setting in your application to use secure cookies\n",
      "2024-03-12 22:35:02,479 - tornado.application - ERROR - Uncaught exception in write_error\n",
      "Traceback (most recent call last):\n",
      "  File \"/home/jcnok/bootcamps/bootcamp-jornada-de-dados_2024/.venv/lib/python3.11/site-packages/tornado/web.py\", line 1769, in _execute\n",
      "    result = await result  # type: ignore\n",
      "             ^^^^^^^^^^^^\n",
      "  File \"/home/jcnok/bootcamps/bootcamp-jornada-de-dados_2024/.venv/lib/python3.11/site-packages/jupyter_server/base/handlers.py\", line 622, in prepare\n",
      "    _user = await _user\n",
      "            ^^^^^^^^^^^\n",
      "  File \"/home/jcnok/bootcamps/bootcamp-jornada-de-dados_2024/.venv/lib/python3.11/site-packages/jupyter_server/auth/identity.py\", line 235, in _get_user\n",
      "    _cookie_user = self.get_user_cookie(handler)\n",
      "                   ^^^^^^^^^^^^^^^^^^^^^^^^^^^^^\n",
      "  File \"/home/jcnok/bootcamps/bootcamp-jornada-de-dados_2024/.venv/lib/python3.11/site-packages/jupyter_server/auth/identity.py\", line 395, in get_user_cookie\n",
      "    _user_cookie = handler.get_secure_cookie(\n",
      "                   ^^^^^^^^^^^^^^^^^^^^^^^^^^\n",
      "  File \"/home/jcnok/bootcamps/bootcamp-jornada-de-dados_2024/.venv/lib/python3.11/site-packages/tornado/web.py\", line 840, in get_signed_cookie\n",
      "    self.require_setting(\"cookie_secret\", \"secure cookies\")\n",
      "  File \"/home/jcnok/bootcamps/bootcamp-jornada-de-dados_2024/.venv/lib/python3.11/site-packages/tornado/web.py\", line 1673, in require_setting\n",
      "    raise Exception(\n",
      "Exception: You must define the 'cookie_secret' setting in your application to use secure cookies\n",
      "\n",
      "During handling of the above exception, another exception occurred:\n",
      "\n",
      "Traceback (most recent call last):\n",
      "  File \"/home/jcnok/bootcamps/bootcamp-jornada-de-dados_2024/.venv/lib/python3.11/site-packages/tornado/web.py\", line 1298, in send_error\n",
      "    self.write_error(status_code, **kwargs)\n",
      "  File \"/home/jcnok/bootcamps/bootcamp-jornada-de-dados_2024/.venv/lib/python3.11/site-packages/jupyter_server/base/handlers.py\", line 719, in write_error\n",
      "    html = self.render_template(\"%s.html\" % status_code, **ns)\n",
      "           ^^^^^^^^^^^^^^^^^^^^^^^^^^^^^^^^^^^^^^^^^^^^^^^^^^^\n",
      "  File \"/home/jcnok/bootcamps/bootcamp-jornada-de-dados_2024/.venv/lib/python3.11/site-packages/jupyter_server/base/handlers.py\", line 645, in render_template\n",
      "    ns.update(self.template_namespace)\n",
      "              ^^^^^^^^^^^^^^^^^^^^^^^\n",
      "  File \"/home/jcnok/bootcamps/bootcamp-jornada-de-dados_2024/.venv/lib/python3.11/site-packages/jupyter_server/base/handlers.py\", line 655, in template_namespace\n",
      "    logged_in=self.logged_in,\n",
      "              ^^^^^^^^^^^^^^\n",
      "  File \"/home/jcnok/bootcamps/bootcamp-jornada-de-dados_2024/.venv/lib/python3.11/site-packages/jupyter_server/base/handlers.py\", line 197, in logged_in\n",
      "    user = self.current_user\n",
      "           ^^^^^^^^^^^^^^^^^\n",
      "  File \"/home/jcnok/bootcamps/bootcamp-jornada-de-dados_2024/.venv/lib/python3.11/site-packages/tornado/web.py\", line 1424, in current_user\n",
      "    self._current_user = self.get_current_user()\n",
      "                         ^^^^^^^^^^^^^^^^^^^^^^^\n",
      "  File \"/home/jcnok/bootcamps/bootcamp-jornada-de-dados_2024/.venv/lib/python3.11/site-packages/jupyter_server/base/handlers.py\", line 176, in get_current_user\n",
      "    raise RuntimeError(msg)\n",
      "RuntimeError: Calling `GlobalProxyHandler.get_current_user()` directly is deprecated in jupyter-server 2.0. Use `self.current_user` instead (works in all versions).\n",
      "2024-03-12 22:57:49,458 - tornado.application - ERROR - Uncaught exception GET /status/ws (127.0.0.1)\n",
      "HTTPServerRequest(protocol='http', host='127.0.0.1:46611', method='GET', uri='/status/ws', version='HTTP/1.1', remote_ip='127.0.0.1')\n",
      "Traceback (most recent call last):\n",
      "  File \"/home/jcnok/bootcamps/bootcamp-jornada-de-dados_2024/.venv/lib/python3.11/site-packages/tornado/websocket.py\", line 938, in _accept_connection\n",
      "    open_result = handler.open(*handler.open_args, **handler.open_kwargs)\n",
      "                  ^^^^^^^^^^^^^^^^^^^^^^^^^^^^^^^^^^^^^^^^^^^^^^^^^^^^^^^\n",
      "  File \"/home/jcnok/bootcamps/bootcamp-jornada-de-dados_2024/.venv/lib/python3.11/site-packages/tornado/web.py\", line 3301, in wrapper\n",
      "    return method(self, *args, **kwargs)\n",
      "           ^^^^^^^^^^^^^^^^^^^^^^^^^^^^^\n",
      "  File \"/home/jcnok/bootcamps/bootcamp-jornada-de-dados_2024/.venv/lib/python3.11/site-packages/bokeh/server/views/ws.py\", line 149, in open\n",
      "    raise ProtocolError(\"Token is expired.\")\n",
      "bokeh.protocol.exceptions.ProtocolError: Token is expired.\n"
     ]
    }
   ],
   "source": [
    "from dask.distributed import Client\n",
    "from dask_cuda import LocalCUDACluster\n",
    "\n",
    "\n",
    "# create a local CUDA cluster\n",
    "cluster = LocalCUDACluster()\n",
    "client = Client(cluster)\n",
    "client\n"
   ]
  },
  {
   "cell_type": "code",
   "execution_count": 27,
   "id": "89c7bafe-356b-42d8-8138-419a509b5bea",
   "metadata": {},
   "outputs": [
    {
     "name": "stdout",
     "output_type": "stream",
     "text": [
      "dc_read Tempo de processamento:51.708 segundos\n"
     ]
    },
    {
     "data": {
      "text/html": [
       "<div>\n",
       "<style scoped>\n",
       "    .dataframe tbody tr th:only-of-type {\n",
       "        vertical-align: middle;\n",
       "    }\n",
       "\n",
       "    .dataframe tbody tr th {\n",
       "        vertical-align: top;\n",
       "    }\n",
       "\n",
       "    .dataframe thead tr th {\n",
       "        text-align: left;\n",
       "    }\n",
       "\n",
       "    .dataframe thead tr:last-of-type th {\n",
       "        text-align: right;\n",
       "    }\n",
       "</style>\n",
       "<table border=\"1\" class=\"dataframe\">\n",
       "  <thead>\n",
       "    <tr>\n",
       "      <th></th>\n",
       "      <th colspan=\"3\" halign=\"left\">measure</th>\n",
       "    </tr>\n",
       "    <tr>\n",
       "      <th></th>\n",
       "      <th>min</th>\n",
       "      <th>max</th>\n",
       "      <th>mean</th>\n",
       "    </tr>\n",
       "    <tr>\n",
       "      <th>station</th>\n",
       "      <th></th>\n",
       "      <th></th>\n",
       "      <th></th>\n",
       "    </tr>\n",
       "  </thead>\n",
       "  <tbody>\n",
       "    <tr>\n",
       "      <th>Aabenraa</th>\n",
       "      <td>-99.900002</td>\n",
       "      <td>99.900002</td>\n",
       "      <td>-0.062294</td>\n",
       "    </tr>\n",
       "    <tr>\n",
       "      <th>Aalten</th>\n",
       "      <td>-99.900002</td>\n",
       "      <td>99.900002</td>\n",
       "      <td>-0.161752</td>\n",
       "    </tr>\n",
       "    <tr>\n",
       "      <th>Abadiânia</th>\n",
       "      <td>-99.900002</td>\n",
       "      <td>99.900002</td>\n",
       "      <td>-0.052772</td>\n",
       "    </tr>\n",
       "    <tr>\n",
       "      <th>Abalessa</th>\n",
       "      <td>-99.900002</td>\n",
       "      <td>99.900002</td>\n",
       "      <td>0.211090</td>\n",
       "    </tr>\n",
       "    <tr>\n",
       "      <th>Abangaritos</th>\n",
       "      <td>-99.900002</td>\n",
       "      <td>99.900002</td>\n",
       "      <td>0.063772</td>\n",
       "    </tr>\n",
       "    <tr>\n",
       "      <th>...</th>\n",
       "      <td>...</td>\n",
       "      <td>...</td>\n",
       "      <td>...</td>\n",
       "    </tr>\n",
       "    <tr>\n",
       "      <th>’Aïn Abessa</th>\n",
       "      <td>-99.900002</td>\n",
       "      <td>99.900002</td>\n",
       "      <td>-0.013338</td>\n",
       "    </tr>\n",
       "    <tr>\n",
       "      <th>’Aïn Azel</th>\n",
       "      <td>-99.900002</td>\n",
       "      <td>99.900002</td>\n",
       "      <td>-0.040762</td>\n",
       "    </tr>\n",
       "    <tr>\n",
       "      <th>’Aïn Roua</th>\n",
       "      <td>-99.900002</td>\n",
       "      <td>99.900002</td>\n",
       "      <td>-0.026899</td>\n",
       "    </tr>\n",
       "    <tr>\n",
       "      <th>’s-Gravenzande</th>\n",
       "      <td>-99.900002</td>\n",
       "      <td>99.900002</td>\n",
       "      <td>-0.080973</td>\n",
       "    </tr>\n",
       "    <tr>\n",
       "      <th>’s-Heerenberg</th>\n",
       "      <td>-99.900002</td>\n",
       "      <td>99.900002</td>\n",
       "      <td>0.168265</td>\n",
       "    </tr>\n",
       "  </tbody>\n",
       "</table>\n",
       "<p>8836 rows × 3 columns</p>\n",
       "</div>"
      ],
      "text/plain": [
       "                  measure                     \n",
       "                      min        max      mean\n",
       "station                                       \n",
       "Aabenraa       -99.900002  99.900002 -0.062294\n",
       "Aalten         -99.900002  99.900002 -0.161752\n",
       "Abadiânia      -99.900002  99.900002 -0.052772\n",
       "Abalessa       -99.900002  99.900002  0.211090\n",
       "Abangaritos    -99.900002  99.900002  0.063772\n",
       "...                   ...        ...       ...\n",
       "’Aïn Abessa    -99.900002  99.900002 -0.013338\n",
       "’Aïn Azel      -99.900002  99.900002 -0.040762\n",
       "’Aïn Roua      -99.900002  99.900002 -0.026899\n",
       "’s-Gravenzande -99.900002  99.900002 -0.080973\n",
       "’s-Heerenberg  -99.900002  99.900002  0.168265\n",
       "\n",
       "[8836 rows x 3 columns]"
      ]
     },
     "execution_count": 27,
     "metadata": {},
     "output_type": "execute_result"
    }
   ],
   "source": [
    "import dask_cudf as dc\n",
    "@timer\n",
    "def dc_read():\n",
    "    # Carregar o arquivo csv em um dataframe dask_cudf\n",
    "    df = dc.read_csv('data/measurements.txt',sep=';', header=None, names=['station', 'measure'], dtype=['str', 'float32'], blocksize='1024 Mib')\n",
    "    \n",
    "    # Agrupar pela coluna 'station' e calcular min, max e mean da coluna 'measure'\n",
    "    grouped_df = df.groupby('station').agg({'measure': ['min', 'max', 'mean']}).compute()\n",
    "    \n",
    "    # Ordenar pelo 'station'\n",
    "    sorted_df = grouped_df.sort_index()\n",
    "    \n",
    "    # Imprimir as 5 primeiras e últimas linhas\n",
    "    return sorted_df\n",
    "    #print(sorted_df.tail(5))\n",
    "dc_read()"
   ]
  },
  {
   "cell_type": "code",
   "execution_count": 28,
   "id": "b0a25575-9e98-4062-be7c-4d3865bc6fa1",
   "metadata": {},
   "outputs": [
    {
     "name": "stdout",
     "output_type": "stream",
     "text": [
      "A memória total alocada para o JupyterLab é de aproximadamente 854.07 MB\n"
     ]
    }
   ],
   "source": [
    "import psutil\n",
    "\n",
    "# Obtém o processo JupyterLab\n",
    "process = psutil.Process()\n",
    "\n",
    "# Obtém a quantidade total de memória alocada para o processo em bytes\n",
    "memoria_total = process.memory_info().rss\n",
    "\n",
    "# Converta bytes para megabytes para uma leitura mais compreensível\n",
    "memoria_total_mb = memoria_total / (1024 * 1024)\n",
    "\n",
    "print(f\"A memória total alocada para o JupyterLab é de aproximadamente {memoria_total_mb:.2f} MB\")\n"
   ]
  },
  {
   "cell_type": "code",
   "execution_count": 29,
   "id": "54fd3812-c948-4a31-8f4c-27f62567e540",
   "metadata": {},
   "outputs": [
    {
     "data": {
      "text/html": [
       "<div>\n",
       "    <div style=\"width: 24px; height: 24px; background-color: #e1e1e1; border: 3px solid #9D9D9D; border-radius: 5px; position: absolute;\"> </div>\n",
       "    <div style=\"margin-left: 48px;\">\n",
       "        <h3 style=\"margin-bottom: 0px;\">Client</h3>\n",
       "        <p style=\"color: #9D9D9D; margin-bottom: 0px;\">Client-eb869d84-e0bd-11ee-8b4f-03633ab1c7d1</p>\n",
       "        <table style=\"width: 100%; text-align: left;\">\n",
       "\n",
       "        <tr>\n",
       "        \n",
       "            <td style=\"text-align: left;\"><strong>Connection method:</strong> Cluster object</td>\n",
       "            <td style=\"text-align: left;\"><strong>Cluster type:</strong> dask_cuda.LocalCUDACluster</td>\n",
       "        \n",
       "        </tr>\n",
       "\n",
       "        \n",
       "            <tr>\n",
       "                <td style=\"text-align: left;\">\n",
       "                    <strong>Dashboard: </strong> <a href=\"http://127.0.0.1:46611/status\" target=\"_blank\">http://127.0.0.1:46611/status</a>\n",
       "                </td>\n",
       "                <td style=\"text-align: left;\"></td>\n",
       "            </tr>\n",
       "        \n",
       "\n",
       "        </table>\n",
       "\n",
       "        \n",
       "\n",
       "        \n",
       "            <details>\n",
       "            <summary style=\"margin-bottom: 20px;\"><h3 style=\"display: inline;\">Cluster Info</h3></summary>\n",
       "            <div class=\"jp-RenderedHTMLCommon jp-RenderedHTML jp-mod-trusted jp-OutputArea-output\">\n",
       "    <div style=\"width: 24px; height: 24px; background-color: #e1e1e1; border: 3px solid #9D9D9D; border-radius: 5px; position: absolute;\">\n",
       "    </div>\n",
       "    <div style=\"margin-left: 48px;\">\n",
       "        <h3 style=\"margin-bottom: 0px; margin-top: 0px;\">LocalCUDACluster</h3>\n",
       "        <p style=\"color: #9D9D9D; margin-bottom: 0px;\">0691be08</p>\n",
       "        <table style=\"width: 100%; text-align: left;\">\n",
       "            <tr>\n",
       "                <td style=\"text-align: left;\">\n",
       "                    <strong>Dashboard:</strong> <a href=\"http://127.0.0.1:46611/status\" target=\"_blank\">http://127.0.0.1:46611/status</a>\n",
       "                </td>\n",
       "                <td style=\"text-align: left;\">\n",
       "                    <strong>Workers:</strong> 1\n",
       "                </td>\n",
       "            </tr>\n",
       "            <tr>\n",
       "                <td style=\"text-align: left;\">\n",
       "                    <strong>Total threads:</strong> 1\n",
       "                </td>\n",
       "                <td style=\"text-align: left;\">\n",
       "                    <strong>Total memory:</strong> 7.68 GiB\n",
       "                </td>\n",
       "            </tr>\n",
       "            \n",
       "            <tr>\n",
       "    <td style=\"text-align: left;\"><strong>Status:</strong> running</td>\n",
       "    <td style=\"text-align: left;\"><strong>Using processes:</strong> True</td>\n",
       "</tr>\n",
       "\n",
       "            \n",
       "        </table>\n",
       "\n",
       "        <details>\n",
       "            <summary style=\"margin-bottom: 20px;\">\n",
       "                <h3 style=\"display: inline;\">Scheduler Info</h3>\n",
       "            </summary>\n",
       "\n",
       "            <div style=\"\">\n",
       "    <div>\n",
       "        <div style=\"width: 24px; height: 24px; background-color: #FFF7E5; border: 3px solid #FF6132; border-radius: 5px; position: absolute;\"> </div>\n",
       "        <div style=\"margin-left: 48px;\">\n",
       "            <h3 style=\"margin-bottom: 0px;\">Scheduler</h3>\n",
       "            <p style=\"color: #9D9D9D; margin-bottom: 0px;\">Scheduler-bd784790-b215-4016-91d2-4914ec6b3b4e</p>\n",
       "            <table style=\"width: 100%; text-align: left;\">\n",
       "                <tr>\n",
       "                    <td style=\"text-align: left;\">\n",
       "                        <strong>Comm:</strong> tcp://127.0.0.1:36487\n",
       "                    </td>\n",
       "                    <td style=\"text-align: left;\">\n",
       "                        <strong>Workers:</strong> 1\n",
       "                    </td>\n",
       "                </tr>\n",
       "                <tr>\n",
       "                    <td style=\"text-align: left;\">\n",
       "                        <strong>Dashboard:</strong> <a href=\"http://127.0.0.1:46611/status\" target=\"_blank\">http://127.0.0.1:46611/status</a>\n",
       "                    </td>\n",
       "                    <td style=\"text-align: left;\">\n",
       "                        <strong>Total threads:</strong> 1\n",
       "                    </td>\n",
       "                </tr>\n",
       "                <tr>\n",
       "                    <td style=\"text-align: left;\">\n",
       "                        <strong>Started:</strong> 1 hour ago\n",
       "                    </td>\n",
       "                    <td style=\"text-align: left;\">\n",
       "                        <strong>Total memory:</strong> 7.68 GiB\n",
       "                    </td>\n",
       "                </tr>\n",
       "            </table>\n",
       "        </div>\n",
       "    </div>\n",
       "\n",
       "    <details style=\"margin-left: 48px;\">\n",
       "        <summary style=\"margin-bottom: 20px;\">\n",
       "            <h3 style=\"display: inline;\">Workers</h3>\n",
       "        </summary>\n",
       "\n",
       "        \n",
       "        <div style=\"margin-bottom: 20px;\">\n",
       "            <div style=\"width: 24px; height: 24px; background-color: #DBF5FF; border: 3px solid #4CC9FF; border-radius: 5px; position: absolute;\"> </div>\n",
       "            <div style=\"margin-left: 48px;\">\n",
       "            <details>\n",
       "                <summary>\n",
       "                    <h4 style=\"margin-bottom: 0px; display: inline;\">Worker: 0</h4>\n",
       "                </summary>\n",
       "                <table style=\"width: 100%; text-align: left;\">\n",
       "                    <tr>\n",
       "                        <td style=\"text-align: left;\">\n",
       "                            <strong>Comm: </strong> tcp://127.0.0.1:44407\n",
       "                        </td>\n",
       "                        <td style=\"text-align: left;\">\n",
       "                            <strong>Total threads: </strong> 1\n",
       "                        </td>\n",
       "                    </tr>\n",
       "                    <tr>\n",
       "                        <td style=\"text-align: left;\">\n",
       "                            <strong>Dashboard: </strong> <a href=\"http://127.0.0.1:40769/status\" target=\"_blank\">http://127.0.0.1:40769/status</a>\n",
       "                        </td>\n",
       "                        <td style=\"text-align: left;\">\n",
       "                            <strong>Memory: </strong> 7.68 GiB\n",
       "                        </td>\n",
       "                    </tr>\n",
       "                    <tr>\n",
       "                        <td style=\"text-align: left;\">\n",
       "                            <strong>Nanny: </strong> tcp://127.0.0.1:33621\n",
       "                        </td>\n",
       "                        <td style=\"text-align: left;\"></td>\n",
       "                    </tr>\n",
       "                    <tr>\n",
       "                        <td colspan=\"2\" style=\"text-align: left;\">\n",
       "                            <strong>Local directory: </strong> /tmp/dask-scratch-space/worker-ebjib2xq\n",
       "                        </td>\n",
       "                    </tr>\n",
       "\n",
       "                    \n",
       "\n",
       "                    \n",
       "\n",
       "                </table>\n",
       "            </details>\n",
       "            </div>\n",
       "        </div>\n",
       "        \n",
       "\n",
       "    </details>\n",
       "</div>\n",
       "\n",
       "        </details>\n",
       "    </div>\n",
       "</div>\n",
       "            </details>\n",
       "        \n",
       "\n",
       "    </div>\n",
       "</div>"
      ],
      "text/plain": [
       "<Client: 'tcp://127.0.0.1:36487' processes=1 threads=1, memory=7.68 GiB>"
      ]
     },
     "execution_count": 29,
     "metadata": {},
     "output_type": "execute_result"
    }
   ],
   "source": [
    "cluster.get_client()"
   ]
  },
  {
   "cell_type": "code",
   "execution_count": 31,
   "id": "f77f3e20-05fe-401b-8a40-f72651b277e1",
   "metadata": {},
   "outputs": [
    {
     "data": {
      "text/plain": [
       "\u001b[0;31mSignature:\u001b[0m\n",
       "\u001b[0mcudf\u001b[0m\u001b[0;34m.\u001b[0m\u001b[0mread_csv\u001b[0m\u001b[0;34m(\u001b[0m\u001b[0;34m\u001b[0m\n",
       "\u001b[0;34m\u001b[0m    \u001b[0mfilepath_or_buffer\u001b[0m\u001b[0;34m,\u001b[0m\u001b[0;34m\u001b[0m\n",
       "\u001b[0;34m\u001b[0m    \u001b[0msep\u001b[0m\u001b[0;34m=\u001b[0m\u001b[0;34m','\u001b[0m\u001b[0;34m,\u001b[0m\u001b[0;34m\u001b[0m\n",
       "\u001b[0;34m\u001b[0m    \u001b[0mdelimiter\u001b[0m\u001b[0;34m=\u001b[0m\u001b[0;32mNone\u001b[0m\u001b[0;34m,\u001b[0m\u001b[0;34m\u001b[0m\n",
       "\u001b[0;34m\u001b[0m    \u001b[0mheader\u001b[0m\u001b[0;34m=\u001b[0m\u001b[0;34m'infer'\u001b[0m\u001b[0;34m,\u001b[0m\u001b[0;34m\u001b[0m\n",
       "\u001b[0;34m\u001b[0m    \u001b[0mnames\u001b[0m\u001b[0;34m=\u001b[0m\u001b[0;32mNone\u001b[0m\u001b[0;34m,\u001b[0m\u001b[0;34m\u001b[0m\n",
       "\u001b[0;34m\u001b[0m    \u001b[0mindex_col\u001b[0m\u001b[0;34m=\u001b[0m\u001b[0;32mNone\u001b[0m\u001b[0;34m,\u001b[0m\u001b[0;34m\u001b[0m\n",
       "\u001b[0;34m\u001b[0m    \u001b[0musecols\u001b[0m\u001b[0;34m=\u001b[0m\u001b[0;32mNone\u001b[0m\u001b[0;34m,\u001b[0m\u001b[0;34m\u001b[0m\n",
       "\u001b[0;34m\u001b[0m    \u001b[0mprefix\u001b[0m\u001b[0;34m=\u001b[0m\u001b[0;32mNone\u001b[0m\u001b[0;34m,\u001b[0m\u001b[0;34m\u001b[0m\n",
       "\u001b[0;34m\u001b[0m    \u001b[0mmangle_dupe_cols\u001b[0m\u001b[0;34m=\u001b[0m\u001b[0;32mTrue\u001b[0m\u001b[0;34m,\u001b[0m\u001b[0;34m\u001b[0m\n",
       "\u001b[0;34m\u001b[0m    \u001b[0mdtype\u001b[0m\u001b[0;34m=\u001b[0m\u001b[0;32mNone\u001b[0m\u001b[0;34m,\u001b[0m\u001b[0;34m\u001b[0m\n",
       "\u001b[0;34m\u001b[0m    \u001b[0mtrue_values\u001b[0m\u001b[0;34m=\u001b[0m\u001b[0;32mNone\u001b[0m\u001b[0;34m,\u001b[0m\u001b[0;34m\u001b[0m\n",
       "\u001b[0;34m\u001b[0m    \u001b[0mfalse_values\u001b[0m\u001b[0;34m=\u001b[0m\u001b[0;32mNone\u001b[0m\u001b[0;34m,\u001b[0m\u001b[0;34m\u001b[0m\n",
       "\u001b[0;34m\u001b[0m    \u001b[0mskipinitialspace\u001b[0m\u001b[0;34m=\u001b[0m\u001b[0;32mFalse\u001b[0m\u001b[0;34m,\u001b[0m\u001b[0;34m\u001b[0m\n",
       "\u001b[0;34m\u001b[0m    \u001b[0mskiprows\u001b[0m\u001b[0;34m=\u001b[0m\u001b[0;36m0\u001b[0m\u001b[0;34m,\u001b[0m\u001b[0;34m\u001b[0m\n",
       "\u001b[0;34m\u001b[0m    \u001b[0mskipfooter\u001b[0m\u001b[0;34m=\u001b[0m\u001b[0;36m0\u001b[0m\u001b[0;34m,\u001b[0m\u001b[0;34m\u001b[0m\n",
       "\u001b[0;34m\u001b[0m    \u001b[0mnrows\u001b[0m\u001b[0;34m=\u001b[0m\u001b[0;32mNone\u001b[0m\u001b[0;34m,\u001b[0m\u001b[0;34m\u001b[0m\n",
       "\u001b[0;34m\u001b[0m    \u001b[0mna_values\u001b[0m\u001b[0;34m=\u001b[0m\u001b[0;32mNone\u001b[0m\u001b[0;34m,\u001b[0m\u001b[0;34m\u001b[0m\n",
       "\u001b[0;34m\u001b[0m    \u001b[0mkeep_default_na\u001b[0m\u001b[0;34m=\u001b[0m\u001b[0;32mTrue\u001b[0m\u001b[0;34m,\u001b[0m\u001b[0;34m\u001b[0m\n",
       "\u001b[0;34m\u001b[0m    \u001b[0mna_filter\u001b[0m\u001b[0;34m=\u001b[0m\u001b[0;32mTrue\u001b[0m\u001b[0;34m,\u001b[0m\u001b[0;34m\u001b[0m\n",
       "\u001b[0;34m\u001b[0m    \u001b[0mskip_blank_lines\u001b[0m\u001b[0;34m=\u001b[0m\u001b[0;32mTrue\u001b[0m\u001b[0;34m,\u001b[0m\u001b[0;34m\u001b[0m\n",
       "\u001b[0;34m\u001b[0m    \u001b[0mparse_dates\u001b[0m\u001b[0;34m=\u001b[0m\u001b[0;32mNone\u001b[0m\u001b[0;34m,\u001b[0m\u001b[0;34m\u001b[0m\n",
       "\u001b[0;34m\u001b[0m    \u001b[0mdayfirst\u001b[0m\u001b[0;34m=\u001b[0m\u001b[0;32mFalse\u001b[0m\u001b[0;34m,\u001b[0m\u001b[0;34m\u001b[0m\n",
       "\u001b[0;34m\u001b[0m    \u001b[0mcompression\u001b[0m\u001b[0;34m=\u001b[0m\u001b[0;34m'infer'\u001b[0m\u001b[0;34m,\u001b[0m\u001b[0;34m\u001b[0m\n",
       "\u001b[0;34m\u001b[0m    \u001b[0mthousands\u001b[0m\u001b[0;34m=\u001b[0m\u001b[0;32mNone\u001b[0m\u001b[0;34m,\u001b[0m\u001b[0;34m\u001b[0m\n",
       "\u001b[0;34m\u001b[0m    \u001b[0mdecimal\u001b[0m\u001b[0;34m=\u001b[0m\u001b[0;34m'.'\u001b[0m\u001b[0;34m,\u001b[0m\u001b[0;34m\u001b[0m\n",
       "\u001b[0;34m\u001b[0m    \u001b[0mlineterminator\u001b[0m\u001b[0;34m=\u001b[0m\u001b[0;34m'\\n'\u001b[0m\u001b[0;34m,\u001b[0m\u001b[0;34m\u001b[0m\n",
       "\u001b[0;34m\u001b[0m    \u001b[0mquotechar\u001b[0m\u001b[0;34m=\u001b[0m\u001b[0;34m'\"'\u001b[0m\u001b[0;34m,\u001b[0m\u001b[0;34m\u001b[0m\n",
       "\u001b[0;34m\u001b[0m    \u001b[0mquoting\u001b[0m\u001b[0;34m=\u001b[0m\u001b[0;36m0\u001b[0m\u001b[0;34m,\u001b[0m\u001b[0;34m\u001b[0m\n",
       "\u001b[0;34m\u001b[0m    \u001b[0mdoublequote\u001b[0m\u001b[0;34m=\u001b[0m\u001b[0;32mTrue\u001b[0m\u001b[0;34m,\u001b[0m\u001b[0;34m\u001b[0m\n",
       "\u001b[0;34m\u001b[0m    \u001b[0mcomment\u001b[0m\u001b[0;34m=\u001b[0m\u001b[0;32mNone\u001b[0m\u001b[0;34m,\u001b[0m\u001b[0;34m\u001b[0m\n",
       "\u001b[0;34m\u001b[0m    \u001b[0mdelim_whitespace\u001b[0m\u001b[0;34m=\u001b[0m\u001b[0;32mFalse\u001b[0m\u001b[0;34m,\u001b[0m\u001b[0;34m\u001b[0m\n",
       "\u001b[0;34m\u001b[0m    \u001b[0mbyte_range\u001b[0m\u001b[0;34m=\u001b[0m\u001b[0;32mNone\u001b[0m\u001b[0;34m,\u001b[0m\u001b[0;34m\u001b[0m\n",
       "\u001b[0;34m\u001b[0m    \u001b[0muse_python_file_object\u001b[0m\u001b[0;34m=\u001b[0m\u001b[0;32mTrue\u001b[0m\u001b[0;34m,\u001b[0m\u001b[0;34m\u001b[0m\n",
       "\u001b[0;34m\u001b[0m    \u001b[0mstorage_options\u001b[0m\u001b[0;34m=\u001b[0m\u001b[0;32mNone\u001b[0m\u001b[0;34m,\u001b[0m\u001b[0;34m\u001b[0m\n",
       "\u001b[0;34m\u001b[0m    \u001b[0mbytes_per_thread\u001b[0m\u001b[0;34m=\u001b[0m\u001b[0;32mNone\u001b[0m\u001b[0;34m,\u001b[0m\u001b[0;34m\u001b[0m\n",
       "\u001b[0;34m\u001b[0m\u001b[0;34m)\u001b[0m\u001b[0;34m\u001b[0m\u001b[0;34m\u001b[0m\u001b[0m\n",
       "\u001b[0;31mDocstring:\u001b[0m\n",
       "Load a comma-separated-values (CSV) dataset into a DataFrame\n",
       "\n",
       "Parameters\n",
       "----------\n",
       "filepath_or_buffer : str, path object, or file-like object\n",
       "    Either a path to a file (a `str`, `pathlib.Path`, or\n",
       "    `py._path.local.LocalPath`), URL (including http, ftp, and S3 locations),\n",
       "    or any object with a `read()` method (such as builtin `open()` file handler\n",
       "    function or `StringIO`).\n",
       "sep : char, default ','\n",
       "    Delimiter to be used.\n",
       "delimiter : char, default None\n",
       "    Alternative argument name for sep.\n",
       "header : int, default 'infer'\n",
       "    Row number to use as the column names. Default behavior is to infer\n",
       "    the column names: if no names are passed, header=0;\n",
       "    if column names are passed explicitly, header=None.\n",
       "names : list of str, default None\n",
       "    List of column names to be used. Needs to include names of all columns in\n",
       "    the file, or names of all columns selected using `usecols` (only when\n",
       "    `usecols` holds integer indices). When `usecols` is not used to select\n",
       "    column indices, `names` can contain more names than there are columns i.n\n",
       "    the file. In this case the extra columns will only contain null rows.\n",
       "index_col : int, string or False, default None\n",
       "    Column to use as the row labels of the DataFrame. Passing `index_col=False`\n",
       "    explicitly disables index column inference and discards the last column.\n",
       "usecols : list of int or str, default None\n",
       "    Returns subset of the columns given in the list. All elements must be\n",
       "    either integer indices (column number) or strings that correspond to\n",
       "    column names. When an integer index is passed for each name in the `names`\n",
       "    parameter, the names are interpreted as names in the output table, not as\n",
       "    names in the input file.\n",
       "prefix : str, default None\n",
       "    Prefix to add to column numbers when parsing without a header row.\n",
       "mangle_dupe_cols : boolean, default True\n",
       "    Duplicate columns will be specified as 'X','X.1',...'X.N'.\n",
       "dtype : type, str, list of types, or dict of column -> type, default None\n",
       "    Data type(s) for data or columns. If `dtype` is a type/str, all columns\n",
       "    are mapped to the particular type passed. If list, types are applied in\n",
       "    the same order as the column names. If dict, types are mapped to the\n",
       "    column names.\n",
       "    E.g. {'a': np.float64, 'b': int32, 'c': 'float'}\n",
       "    If `None`, dtypes are inferred from the dataset. Use `str` to preserve data\n",
       "    and not infer or interpret to dtype.\n",
       "true_values : list, default None\n",
       "    Values to consider as boolean True\n",
       "false_values : list, default None\n",
       "    Values to consider as boolean False\n",
       "skipinitialspace : bool, default False\n",
       "    Skip spaces after delimiter.\n",
       "skiprows : int, default 0\n",
       "    Number of rows to be skipped from the start of file.\n",
       "skipfooter : int, default 0\n",
       "    Number of rows to be skipped at the bottom of file.\n",
       "nrows : int, default None\n",
       "    If specified, maximum number of rows to read\n",
       "na_values : scalar, str, or list-like, optional\n",
       "    Additional strings to recognize as nulls.\n",
       "    By default the following values are interpreted as\n",
       "    nulls: '', '#N/A', '#N/A N/A', '#NA', '-1.#IND',\n",
       "    '-1.#QNAN', '-NaN', '-nan', '1.#IND', '1.#QNAN',\n",
       "    '<NA>', 'N/A', 'NA', 'NULL', 'NaN', 'n/a', 'nan',\n",
       "    'null'.\n",
       "keep_default_na : bool, default True\n",
       "    Whether or not to include the default NA values when parsing the data.\n",
       "na_filter : bool, default True\n",
       "    Detect missing values (empty strings and the values in na_values).\n",
       "    Passing False can improve performance.\n",
       "skip_blank_lines : bool, default True\n",
       "    If True, discard and do not parse empty lines\n",
       "    If False, interpret empty lines as NaN values\n",
       "parse_dates : list of int or names, default None\n",
       "    If list of columns, then attempt to parse each entry as a date.\n",
       "    Columns may not always be recognized as dates, for instance due to\n",
       "    unusual or non-standard formats. To guarantee a date and increase parsing\n",
       "    speed, explicitly specify `dtype='date'` for the desired columns.\n",
       "dayfirst : bool, default False\n",
       "    DD/MM format dates, international and European format.\n",
       "compression : {'infer', 'gzip', 'zip', None}, default 'infer'\n",
       "    For on-the-fly decompression of on-disk data. If 'infer', then detect\n",
       "    compression from the following extensions: '.gz','.zip' (otherwise no\n",
       "    decompression). If using 'zip', the ZIP file must contain only one\n",
       "    data file to be read in, otherwise the first non-zero-sized file will\n",
       "    be used. Set to None for no decompression.\n",
       "thousands : char, default None\n",
       "    Character used as a thousands delimiter.\n",
       "decimal : char, default '.'\n",
       "    Character used as a decimal point.\n",
       "lineterminator : char, default '\\n'\n",
       "    Character to indicate end of line.\n",
       "quotechar : char, default '\"'\n",
       "    Character to indicate start and end of quote item.\n",
       "quoting : str or int, default 0\n",
       "    Controls quoting behavior. Set to one of\n",
       "    0 (csv.QUOTE_MINIMAL), 1 (csv.QUOTE_ALL),\n",
       "    2 (csv.QUOTE_NONNUMERIC) or 3 (csv.QUOTE_NONE).\n",
       "    Quoting is enabled with all values except 3.\n",
       "doublequote : bool, default True\n",
       "    When quoting is enabled, indicates whether to interpret two\n",
       "    consecutive quotechar inside fields as single quotechar\n",
       "comment : char, default None\n",
       "    Character used as a comments indicator. If found at the beginning of a\n",
       "    line, the line will be ignored altogether.\n",
       "delim_whitespace : bool, default False\n",
       "    Determines whether to use whitespace as delimiter.\n",
       "byte_range : list or tuple, default None\n",
       "    Byte range within the input file to be read. The first number is the\n",
       "    offset in bytes, the second number is the range size in bytes. Set the\n",
       "    size to zero to read all data after the offset location. Reads the row\n",
       "    that starts before or at the end of the range, even if it ends after\n",
       "    the end of the range.\n",
       "use_python_file_object : boolean, default True\n",
       "    If True, Arrow-backed PythonFile objects will be used in place of fsspec\n",
       "    AbstractBufferedFile objects at IO time. This option is likely to improve\n",
       "    performance when making small reads from larger CSV files.\n",
       "storage_options : dict, optional, default None\n",
       "    Extra options that make sense for a particular storage connection,\n",
       "    e.g. host, port, username, password, etc. For HTTP(S) URLs the key-value\n",
       "    pairs are forwarded to ``urllib.request.Request`` as header options.\n",
       "    For other URLs (e.g. starting with \"s3://\", and \"gcs://\") the key-value\n",
       "    pairs are forwarded to ``fsspec.open``. Please see ``fsspec`` and\n",
       "    ``urllib`` for more details.\n",
       "bytes_per_thread : int, default None\n",
       "    Determines the number of bytes to be allocated per thread to read the\n",
       "    files in parallel. When there is a file of large size, we get slightly\n",
       "    better throughput by decomposing it and transferring multiple \"blocks\"\n",
       "    in parallel (using a python thread pool). Default allocation is\n",
       "    268435456 bytes.\n",
       "    This parameter is functional only when `use_python_file_object=False`.\n",
       "Returns\n",
       "-------\n",
       "GPU ``DataFrame`` object.\n",
       "\n",
       "Notes\n",
       "-----\n",
       "\n",
       "- cuDF supports local and remote data stores. See configuration details for\n",
       "  available sources\n",
       "  `here <https://docs.dask.org/en/latest/remote-data-services.html>`__.\n",
       "\n",
       "\n",
       "Examples\n",
       "--------\n",
       "\n",
       "Create a test csv file\n",
       "\n",
       ">>> import cudf\n",
       ">>> filename = 'foo.csv'\n",
       ">>> lines = [\n",
       "...   \"num1,datetime,text\",\n",
       "...   \"123,2018-11-13T12:00:00,abc\",\n",
       "...   \"456,2018-11-14T12:35:01,def\",\n",
       "...   \"789,2018-11-15T18:02:59,ghi\"\n",
       "... ]\n",
       ">>> with open(filename, 'w') as fp:\n",
       "...     fp.write('\\n'.join(lines)+'\\n')\n",
       "\n",
       "Read the file with ``cudf.read_csv``\n",
       "\n",
       ">>> cudf.read_csv(filename)\n",
       "  num1                datetime text\n",
       "0  123 2018-11-13T12:00:00.000 5451\n",
       "1  456 2018-11-14T12:35:01.000 5784\n",
       "2  789 2018-11-15T18:02:59.000 6117\n",
       "\n",
       "See Also\n",
       "--------\n",
       "cudf.DataFrame.to_csv\n",
       "\u001b[0;31mSource:\u001b[0m   \n",
       "\u001b[0;34m@\u001b[0m\u001b[0m_cudf_nvtx_annotate\u001b[0m\u001b[0;34m\u001b[0m\n",
       "\u001b[0;34m\u001b[0m\u001b[0;34m@\u001b[0m\u001b[0mioutils\u001b[0m\u001b[0;34m.\u001b[0m\u001b[0mdoc_read_csv\u001b[0m\u001b[0;34m(\u001b[0m\u001b[0;34m)\u001b[0m\u001b[0;34m\u001b[0m\n",
       "\u001b[0;34m\u001b[0m\u001b[0;32mdef\u001b[0m \u001b[0mread_csv\u001b[0m\u001b[0;34m(\u001b[0m\u001b[0;34m\u001b[0m\n",
       "\u001b[0;34m\u001b[0m    \u001b[0mfilepath_or_buffer\u001b[0m\u001b[0;34m,\u001b[0m\u001b[0;34m\u001b[0m\n",
       "\u001b[0;34m\u001b[0m    \u001b[0msep\u001b[0m\u001b[0;34m=\u001b[0m\u001b[0;34m\",\"\u001b[0m\u001b[0;34m,\u001b[0m\u001b[0;34m\u001b[0m\n",
       "\u001b[0;34m\u001b[0m    \u001b[0mdelimiter\u001b[0m\u001b[0;34m=\u001b[0m\u001b[0;32mNone\u001b[0m\u001b[0;34m,\u001b[0m\u001b[0;34m\u001b[0m\n",
       "\u001b[0;34m\u001b[0m    \u001b[0mheader\u001b[0m\u001b[0;34m=\u001b[0m\u001b[0;34m\"infer\"\u001b[0m\u001b[0;34m,\u001b[0m\u001b[0;34m\u001b[0m\n",
       "\u001b[0;34m\u001b[0m    \u001b[0mnames\u001b[0m\u001b[0;34m=\u001b[0m\u001b[0;32mNone\u001b[0m\u001b[0;34m,\u001b[0m\u001b[0;34m\u001b[0m\n",
       "\u001b[0;34m\u001b[0m    \u001b[0mindex_col\u001b[0m\u001b[0;34m=\u001b[0m\u001b[0;32mNone\u001b[0m\u001b[0;34m,\u001b[0m\u001b[0;34m\u001b[0m\n",
       "\u001b[0;34m\u001b[0m    \u001b[0musecols\u001b[0m\u001b[0;34m=\u001b[0m\u001b[0;32mNone\u001b[0m\u001b[0;34m,\u001b[0m\u001b[0;34m\u001b[0m\n",
       "\u001b[0;34m\u001b[0m    \u001b[0mprefix\u001b[0m\u001b[0;34m=\u001b[0m\u001b[0;32mNone\u001b[0m\u001b[0;34m,\u001b[0m\u001b[0;34m\u001b[0m\n",
       "\u001b[0;34m\u001b[0m    \u001b[0mmangle_dupe_cols\u001b[0m\u001b[0;34m=\u001b[0m\u001b[0;32mTrue\u001b[0m\u001b[0;34m,\u001b[0m\u001b[0;34m\u001b[0m\n",
       "\u001b[0;34m\u001b[0m    \u001b[0mdtype\u001b[0m\u001b[0;34m=\u001b[0m\u001b[0;32mNone\u001b[0m\u001b[0;34m,\u001b[0m\u001b[0;34m\u001b[0m\n",
       "\u001b[0;34m\u001b[0m    \u001b[0mtrue_values\u001b[0m\u001b[0;34m=\u001b[0m\u001b[0;32mNone\u001b[0m\u001b[0;34m,\u001b[0m\u001b[0;34m\u001b[0m\n",
       "\u001b[0;34m\u001b[0m    \u001b[0mfalse_values\u001b[0m\u001b[0;34m=\u001b[0m\u001b[0;32mNone\u001b[0m\u001b[0;34m,\u001b[0m\u001b[0;34m\u001b[0m\n",
       "\u001b[0;34m\u001b[0m    \u001b[0mskipinitialspace\u001b[0m\u001b[0;34m=\u001b[0m\u001b[0;32mFalse\u001b[0m\u001b[0;34m,\u001b[0m\u001b[0;34m\u001b[0m\n",
       "\u001b[0;34m\u001b[0m    \u001b[0mskiprows\u001b[0m\u001b[0;34m=\u001b[0m\u001b[0;36m0\u001b[0m\u001b[0;34m,\u001b[0m\u001b[0;34m\u001b[0m\n",
       "\u001b[0;34m\u001b[0m    \u001b[0mskipfooter\u001b[0m\u001b[0;34m=\u001b[0m\u001b[0;36m0\u001b[0m\u001b[0;34m,\u001b[0m\u001b[0;34m\u001b[0m\n",
       "\u001b[0;34m\u001b[0m    \u001b[0mnrows\u001b[0m\u001b[0;34m=\u001b[0m\u001b[0;32mNone\u001b[0m\u001b[0;34m,\u001b[0m\u001b[0;34m\u001b[0m\n",
       "\u001b[0;34m\u001b[0m    \u001b[0mna_values\u001b[0m\u001b[0;34m=\u001b[0m\u001b[0;32mNone\u001b[0m\u001b[0;34m,\u001b[0m\u001b[0;34m\u001b[0m\n",
       "\u001b[0;34m\u001b[0m    \u001b[0mkeep_default_na\u001b[0m\u001b[0;34m=\u001b[0m\u001b[0;32mTrue\u001b[0m\u001b[0;34m,\u001b[0m\u001b[0;34m\u001b[0m\n",
       "\u001b[0;34m\u001b[0m    \u001b[0mna_filter\u001b[0m\u001b[0;34m=\u001b[0m\u001b[0;32mTrue\u001b[0m\u001b[0;34m,\u001b[0m\u001b[0;34m\u001b[0m\n",
       "\u001b[0;34m\u001b[0m    \u001b[0mskip_blank_lines\u001b[0m\u001b[0;34m=\u001b[0m\u001b[0;32mTrue\u001b[0m\u001b[0;34m,\u001b[0m\u001b[0;34m\u001b[0m\n",
       "\u001b[0;34m\u001b[0m    \u001b[0mparse_dates\u001b[0m\u001b[0;34m=\u001b[0m\u001b[0;32mNone\u001b[0m\u001b[0;34m,\u001b[0m\u001b[0;34m\u001b[0m\n",
       "\u001b[0;34m\u001b[0m    \u001b[0mdayfirst\u001b[0m\u001b[0;34m=\u001b[0m\u001b[0;32mFalse\u001b[0m\u001b[0;34m,\u001b[0m\u001b[0;34m\u001b[0m\n",
       "\u001b[0;34m\u001b[0m    \u001b[0mcompression\u001b[0m\u001b[0;34m=\u001b[0m\u001b[0;34m\"infer\"\u001b[0m\u001b[0;34m,\u001b[0m\u001b[0;34m\u001b[0m\n",
       "\u001b[0;34m\u001b[0m    \u001b[0mthousands\u001b[0m\u001b[0;34m=\u001b[0m\u001b[0;32mNone\u001b[0m\u001b[0;34m,\u001b[0m\u001b[0;34m\u001b[0m\n",
       "\u001b[0;34m\u001b[0m    \u001b[0mdecimal\u001b[0m\u001b[0;34m=\u001b[0m\u001b[0;34m\".\"\u001b[0m\u001b[0;34m,\u001b[0m\u001b[0;34m\u001b[0m\n",
       "\u001b[0;34m\u001b[0m    \u001b[0mlineterminator\u001b[0m\u001b[0;34m=\u001b[0m\u001b[0;34m\"\\n\"\u001b[0m\u001b[0;34m,\u001b[0m\u001b[0;34m\u001b[0m\n",
       "\u001b[0;34m\u001b[0m    \u001b[0mquotechar\u001b[0m\u001b[0;34m=\u001b[0m\u001b[0;34m'\"'\u001b[0m\u001b[0;34m,\u001b[0m\u001b[0;34m\u001b[0m\n",
       "\u001b[0;34m\u001b[0m    \u001b[0mquoting\u001b[0m\u001b[0;34m=\u001b[0m\u001b[0;36m0\u001b[0m\u001b[0;34m,\u001b[0m\u001b[0;34m\u001b[0m\n",
       "\u001b[0;34m\u001b[0m    \u001b[0mdoublequote\u001b[0m\u001b[0;34m=\u001b[0m\u001b[0;32mTrue\u001b[0m\u001b[0;34m,\u001b[0m\u001b[0;34m\u001b[0m\n",
       "\u001b[0;34m\u001b[0m    \u001b[0mcomment\u001b[0m\u001b[0;34m=\u001b[0m\u001b[0;32mNone\u001b[0m\u001b[0;34m,\u001b[0m\u001b[0;34m\u001b[0m\n",
       "\u001b[0;34m\u001b[0m    \u001b[0mdelim_whitespace\u001b[0m\u001b[0;34m=\u001b[0m\u001b[0;32mFalse\u001b[0m\u001b[0;34m,\u001b[0m\u001b[0;34m\u001b[0m\n",
       "\u001b[0;34m\u001b[0m    \u001b[0mbyte_range\u001b[0m\u001b[0;34m=\u001b[0m\u001b[0;32mNone\u001b[0m\u001b[0;34m,\u001b[0m\u001b[0;34m\u001b[0m\n",
       "\u001b[0;34m\u001b[0m    \u001b[0muse_python_file_object\u001b[0m\u001b[0;34m=\u001b[0m\u001b[0;32mTrue\u001b[0m\u001b[0;34m,\u001b[0m\u001b[0;34m\u001b[0m\n",
       "\u001b[0;34m\u001b[0m    \u001b[0mstorage_options\u001b[0m\u001b[0;34m=\u001b[0m\u001b[0;32mNone\u001b[0m\u001b[0;34m,\u001b[0m\u001b[0;34m\u001b[0m\n",
       "\u001b[0;34m\u001b[0m    \u001b[0mbytes_per_thread\u001b[0m\u001b[0;34m=\u001b[0m\u001b[0;32mNone\u001b[0m\u001b[0;34m,\u001b[0m\u001b[0;34m\u001b[0m\n",
       "\u001b[0;34m\u001b[0m\u001b[0;34m)\u001b[0m\u001b[0;34m:\u001b[0m\u001b[0;34m\u001b[0m\n",
       "\u001b[0;34m\u001b[0m    \u001b[0;34m\"\"\"{docstring}\"\"\"\u001b[0m\u001b[0;34m\u001b[0m\n",
       "\u001b[0;34m\u001b[0m\u001b[0;34m\u001b[0m\n",
       "\u001b[0;34m\u001b[0m    \u001b[0;32mif\u001b[0m \u001b[0mdelim_whitespace\u001b[0m \u001b[0;32mis\u001b[0m \u001b[0;32mnot\u001b[0m \u001b[0;32mFalse\u001b[0m\u001b[0;34m:\u001b[0m\u001b[0;34m\u001b[0m\n",
       "\u001b[0;34m\u001b[0m        \u001b[0mwarnings\u001b[0m\u001b[0;34m.\u001b[0m\u001b[0mwarn\u001b[0m\u001b[0;34m(\u001b[0m\u001b[0;34m\u001b[0m\n",
       "\u001b[0;34m\u001b[0m            \u001b[0;34m\"The 'delim_whitespace' keyword in pd.read_csv is deprecated and \"\u001b[0m\u001b[0;34m\u001b[0m\n",
       "\u001b[0;34m\u001b[0m            \u001b[0;34m\"will be removed in a future version. Use ``sep='\\\\s+'`` instead\"\u001b[0m\u001b[0;34m,\u001b[0m\u001b[0;34m\u001b[0m\n",
       "\u001b[0;34m\u001b[0m            \u001b[0mFutureWarning\u001b[0m\u001b[0;34m,\u001b[0m\u001b[0;34m\u001b[0m\n",
       "\u001b[0;34m\u001b[0m        \u001b[0;34m)\u001b[0m\u001b[0;34m\u001b[0m\n",
       "\u001b[0;34m\u001b[0m\u001b[0;34m\u001b[0m\n",
       "\u001b[0;34m\u001b[0m    \u001b[0;32mif\u001b[0m \u001b[0muse_python_file_object\u001b[0m \u001b[0;32mand\u001b[0m \u001b[0mbytes_per_thread\u001b[0m \u001b[0;32mis\u001b[0m \u001b[0;32mnot\u001b[0m \u001b[0;32mNone\u001b[0m\u001b[0;34m:\u001b[0m\u001b[0;34m\u001b[0m\n",
       "\u001b[0;34m\u001b[0m        \u001b[0;32mraise\u001b[0m \u001b[0mValueError\u001b[0m\u001b[0;34m(\u001b[0m\u001b[0;34m\u001b[0m\n",
       "\u001b[0;34m\u001b[0m            \u001b[0;34m\"bytes_per_thread is only supported when \"\u001b[0m\u001b[0;34m\u001b[0m\n",
       "\u001b[0;34m\u001b[0m            \u001b[0;34m\"`use_python_file_object=False`\"\u001b[0m\u001b[0;34m\u001b[0m\n",
       "\u001b[0;34m\u001b[0m        \u001b[0;34m)\u001b[0m\u001b[0;34m\u001b[0m\n",
       "\u001b[0;34m\u001b[0m\u001b[0;34m\u001b[0m\n",
       "\u001b[0;34m\u001b[0m    \u001b[0;32mif\u001b[0m \u001b[0mbytes_per_thread\u001b[0m \u001b[0;32mis\u001b[0m \u001b[0;32mNone\u001b[0m\u001b[0;34m:\u001b[0m\u001b[0;34m\u001b[0m\n",
       "\u001b[0;34m\u001b[0m        \u001b[0mbytes_per_thread\u001b[0m \u001b[0;34m=\u001b[0m \u001b[0mioutils\u001b[0m\u001b[0;34m.\u001b[0m\u001b[0m_BYTES_PER_THREAD_DEFAULT\u001b[0m\u001b[0;34m\u001b[0m\n",
       "\u001b[0;34m\u001b[0m\u001b[0;34m\u001b[0m\n",
       "\u001b[0;34m\u001b[0m    \u001b[0mis_single_filepath_or_buffer\u001b[0m \u001b[0;34m=\u001b[0m \u001b[0mioutils\u001b[0m\u001b[0;34m.\u001b[0m\u001b[0mensure_single_filepath_or_buffer\u001b[0m\u001b[0;34m(\u001b[0m\u001b[0;34m\u001b[0m\n",
       "\u001b[0;34m\u001b[0m        \u001b[0mpath_or_data\u001b[0m\u001b[0;34m=\u001b[0m\u001b[0mfilepath_or_buffer\u001b[0m\u001b[0;34m,\u001b[0m\u001b[0;34m\u001b[0m\n",
       "\u001b[0;34m\u001b[0m        \u001b[0mstorage_options\u001b[0m\u001b[0;34m=\u001b[0m\u001b[0mstorage_options\u001b[0m\u001b[0;34m,\u001b[0m\u001b[0;34m\u001b[0m\n",
       "\u001b[0;34m\u001b[0m    \u001b[0;34m)\u001b[0m\u001b[0;34m\u001b[0m\n",
       "\u001b[0;34m\u001b[0m    \u001b[0;32mif\u001b[0m \u001b[0;32mnot\u001b[0m \u001b[0mis_single_filepath_or_buffer\u001b[0m\u001b[0;34m:\u001b[0m\u001b[0;34m\u001b[0m\n",
       "\u001b[0;34m\u001b[0m        \u001b[0;32mraise\u001b[0m \u001b[0mNotImplementedError\u001b[0m\u001b[0;34m(\u001b[0m\u001b[0;34m\u001b[0m\n",
       "\u001b[0;34m\u001b[0m            \u001b[0;34m\"`read_csv` does not yet support reading multiple files\"\u001b[0m\u001b[0;34m\u001b[0m\n",
       "\u001b[0;34m\u001b[0m        \u001b[0;34m)\u001b[0m\u001b[0;34m\u001b[0m\n",
       "\u001b[0;34m\u001b[0m\u001b[0;34m\u001b[0m\n",
       "\u001b[0;34m\u001b[0m    \u001b[0mfilepath_or_buffer\u001b[0m\u001b[0;34m,\u001b[0m \u001b[0mcompression\u001b[0m \u001b[0;34m=\u001b[0m \u001b[0mioutils\u001b[0m\u001b[0;34m.\u001b[0m\u001b[0mget_reader_filepath_or_buffer\u001b[0m\u001b[0;34m(\u001b[0m\u001b[0;34m\u001b[0m\n",
       "\u001b[0;34m\u001b[0m        \u001b[0mpath_or_data\u001b[0m\u001b[0;34m=\u001b[0m\u001b[0mfilepath_or_buffer\u001b[0m\u001b[0;34m,\u001b[0m\u001b[0;34m\u001b[0m\n",
       "\u001b[0;34m\u001b[0m        \u001b[0mcompression\u001b[0m\u001b[0;34m=\u001b[0m\u001b[0mcompression\u001b[0m\u001b[0;34m,\u001b[0m\u001b[0;34m\u001b[0m\n",
       "\u001b[0;34m\u001b[0m        \u001b[0miotypes\u001b[0m\u001b[0;34m=\u001b[0m\u001b[0;34m(\u001b[0m\u001b[0mBytesIO\u001b[0m\u001b[0;34m,\u001b[0m \u001b[0mStringIO\u001b[0m\u001b[0;34m,\u001b[0m \u001b[0mNativeFile\u001b[0m\u001b[0;34m)\u001b[0m\u001b[0;34m,\u001b[0m\u001b[0;34m\u001b[0m\n",
       "\u001b[0;34m\u001b[0m        \u001b[0muse_python_file_object\u001b[0m\u001b[0;34m=\u001b[0m\u001b[0muse_python_file_object\u001b[0m\u001b[0;34m,\u001b[0m\u001b[0;34m\u001b[0m\n",
       "\u001b[0;34m\u001b[0m        \u001b[0mstorage_options\u001b[0m\u001b[0;34m=\u001b[0m\u001b[0mstorage_options\u001b[0m\u001b[0;34m,\u001b[0m\u001b[0;34m\u001b[0m\n",
       "\u001b[0;34m\u001b[0m        \u001b[0mbytes_per_thread\u001b[0m\u001b[0;34m=\u001b[0m\u001b[0mbytes_per_thread\u001b[0m\u001b[0;34m,\u001b[0m\u001b[0;34m\u001b[0m\n",
       "\u001b[0;34m\u001b[0m    \u001b[0;34m)\u001b[0m\u001b[0;34m\u001b[0m\n",
       "\u001b[0;34m\u001b[0m\u001b[0;34m\u001b[0m\n",
       "\u001b[0;34m\u001b[0m    \u001b[0;32mif\u001b[0m \u001b[0mna_values\u001b[0m \u001b[0;32mis\u001b[0m \u001b[0;32mnot\u001b[0m \u001b[0;32mNone\u001b[0m \u001b[0;32mand\u001b[0m \u001b[0mis_scalar\u001b[0m\u001b[0;34m(\u001b[0m\u001b[0mna_values\u001b[0m\u001b[0;34m)\u001b[0m\u001b[0;34m:\u001b[0m\u001b[0;34m\u001b[0m\n",
       "\u001b[0;34m\u001b[0m        \u001b[0mna_values\u001b[0m \u001b[0;34m=\u001b[0m \u001b[0;34m[\u001b[0m\u001b[0mna_values\u001b[0m\u001b[0;34m]\u001b[0m\u001b[0;34m\u001b[0m\n",
       "\u001b[0;34m\u001b[0m\u001b[0;34m\u001b[0m\n",
       "\u001b[0;34m\u001b[0m    \u001b[0mdf\u001b[0m \u001b[0;34m=\u001b[0m \u001b[0mlibcudf\u001b[0m\u001b[0;34m.\u001b[0m\u001b[0mcsv\u001b[0m\u001b[0;34m.\u001b[0m\u001b[0mread_csv\u001b[0m\u001b[0;34m(\u001b[0m\u001b[0;34m\u001b[0m\n",
       "\u001b[0;34m\u001b[0m        \u001b[0mfilepath_or_buffer\u001b[0m\u001b[0;34m,\u001b[0m\u001b[0;34m\u001b[0m\n",
       "\u001b[0;34m\u001b[0m        \u001b[0mlineterminator\u001b[0m\u001b[0;34m=\u001b[0m\u001b[0mlineterminator\u001b[0m\u001b[0;34m,\u001b[0m\u001b[0;34m\u001b[0m\n",
       "\u001b[0;34m\u001b[0m        \u001b[0mquotechar\u001b[0m\u001b[0;34m=\u001b[0m\u001b[0mquotechar\u001b[0m\u001b[0;34m,\u001b[0m\u001b[0;34m\u001b[0m\n",
       "\u001b[0;34m\u001b[0m        \u001b[0mquoting\u001b[0m\u001b[0;34m=\u001b[0m\u001b[0mquoting\u001b[0m\u001b[0;34m,\u001b[0m\u001b[0;34m\u001b[0m\n",
       "\u001b[0;34m\u001b[0m        \u001b[0mdoublequote\u001b[0m\u001b[0;34m=\u001b[0m\u001b[0mdoublequote\u001b[0m\u001b[0;34m,\u001b[0m\u001b[0;34m\u001b[0m\n",
       "\u001b[0;34m\u001b[0m        \u001b[0mheader\u001b[0m\u001b[0;34m=\u001b[0m\u001b[0mheader\u001b[0m\u001b[0;34m,\u001b[0m\u001b[0;34m\u001b[0m\n",
       "\u001b[0;34m\u001b[0m        \u001b[0mmangle_dupe_cols\u001b[0m\u001b[0;34m=\u001b[0m\u001b[0mmangle_dupe_cols\u001b[0m\u001b[0;34m,\u001b[0m\u001b[0;34m\u001b[0m\n",
       "\u001b[0;34m\u001b[0m        \u001b[0musecols\u001b[0m\u001b[0;34m=\u001b[0m\u001b[0musecols\u001b[0m\u001b[0;34m,\u001b[0m\u001b[0;34m\u001b[0m\n",
       "\u001b[0;34m\u001b[0m        \u001b[0msep\u001b[0m\u001b[0;34m=\u001b[0m\u001b[0msep\u001b[0m\u001b[0;34m,\u001b[0m\u001b[0;34m\u001b[0m\n",
       "\u001b[0;34m\u001b[0m        \u001b[0mdelimiter\u001b[0m\u001b[0;34m=\u001b[0m\u001b[0mdelimiter\u001b[0m\u001b[0;34m,\u001b[0m\u001b[0;34m\u001b[0m\n",
       "\u001b[0;34m\u001b[0m        \u001b[0mdelim_whitespace\u001b[0m\u001b[0;34m=\u001b[0m\u001b[0mdelim_whitespace\u001b[0m\u001b[0;34m,\u001b[0m\u001b[0;34m\u001b[0m\n",
       "\u001b[0;34m\u001b[0m        \u001b[0mskipinitialspace\u001b[0m\u001b[0;34m=\u001b[0m\u001b[0mskipinitialspace\u001b[0m\u001b[0;34m,\u001b[0m\u001b[0;34m\u001b[0m\n",
       "\u001b[0;34m\u001b[0m        \u001b[0mnames\u001b[0m\u001b[0;34m=\u001b[0m\u001b[0mnames\u001b[0m\u001b[0;34m,\u001b[0m\u001b[0;34m\u001b[0m\n",
       "\u001b[0;34m\u001b[0m        \u001b[0mdtype\u001b[0m\u001b[0;34m=\u001b[0m\u001b[0mdtype\u001b[0m\u001b[0;34m,\u001b[0m\u001b[0;34m\u001b[0m\n",
       "\u001b[0;34m\u001b[0m        \u001b[0mskipfooter\u001b[0m\u001b[0;34m=\u001b[0m\u001b[0mskipfooter\u001b[0m\u001b[0;34m,\u001b[0m\u001b[0;34m\u001b[0m\n",
       "\u001b[0;34m\u001b[0m        \u001b[0mskiprows\u001b[0m\u001b[0;34m=\u001b[0m\u001b[0mskiprows\u001b[0m\u001b[0;34m,\u001b[0m\u001b[0;34m\u001b[0m\n",
       "\u001b[0;34m\u001b[0m        \u001b[0mdayfirst\u001b[0m\u001b[0;34m=\u001b[0m\u001b[0mdayfirst\u001b[0m\u001b[0;34m,\u001b[0m\u001b[0;34m\u001b[0m\n",
       "\u001b[0;34m\u001b[0m        \u001b[0mcompression\u001b[0m\u001b[0;34m=\u001b[0m\u001b[0mcompression\u001b[0m\u001b[0;34m,\u001b[0m\u001b[0;34m\u001b[0m\n",
       "\u001b[0;34m\u001b[0m        \u001b[0mthousands\u001b[0m\u001b[0;34m=\u001b[0m\u001b[0mthousands\u001b[0m\u001b[0;34m,\u001b[0m\u001b[0;34m\u001b[0m\n",
       "\u001b[0;34m\u001b[0m        \u001b[0mdecimal\u001b[0m\u001b[0;34m=\u001b[0m\u001b[0mdecimal\u001b[0m\u001b[0;34m,\u001b[0m\u001b[0;34m\u001b[0m\n",
       "\u001b[0;34m\u001b[0m        \u001b[0mtrue_values\u001b[0m\u001b[0;34m=\u001b[0m\u001b[0mtrue_values\u001b[0m\u001b[0;34m,\u001b[0m\u001b[0;34m\u001b[0m\n",
       "\u001b[0;34m\u001b[0m        \u001b[0mfalse_values\u001b[0m\u001b[0;34m=\u001b[0m\u001b[0mfalse_values\u001b[0m\u001b[0;34m,\u001b[0m\u001b[0;34m\u001b[0m\n",
       "\u001b[0;34m\u001b[0m        \u001b[0mnrows\u001b[0m\u001b[0;34m=\u001b[0m\u001b[0mnrows\u001b[0m\u001b[0;34m,\u001b[0m\u001b[0;34m\u001b[0m\n",
       "\u001b[0;34m\u001b[0m        \u001b[0mbyte_range\u001b[0m\u001b[0;34m=\u001b[0m\u001b[0mbyte_range\u001b[0m\u001b[0;34m,\u001b[0m\u001b[0;34m\u001b[0m\n",
       "\u001b[0;34m\u001b[0m        \u001b[0mskip_blank_lines\u001b[0m\u001b[0;34m=\u001b[0m\u001b[0mskip_blank_lines\u001b[0m\u001b[0;34m,\u001b[0m\u001b[0;34m\u001b[0m\n",
       "\u001b[0;34m\u001b[0m        \u001b[0mparse_dates\u001b[0m\u001b[0;34m=\u001b[0m\u001b[0mparse_dates\u001b[0m\u001b[0;34m,\u001b[0m\u001b[0;34m\u001b[0m\n",
       "\u001b[0;34m\u001b[0m        \u001b[0mcomment\u001b[0m\u001b[0;34m=\u001b[0m\u001b[0mcomment\u001b[0m\u001b[0;34m,\u001b[0m\u001b[0;34m\u001b[0m\n",
       "\u001b[0;34m\u001b[0m        \u001b[0mna_values\u001b[0m\u001b[0;34m=\u001b[0m\u001b[0mna_values\u001b[0m\u001b[0;34m,\u001b[0m\u001b[0;34m\u001b[0m\n",
       "\u001b[0;34m\u001b[0m        \u001b[0mkeep_default_na\u001b[0m\u001b[0;34m=\u001b[0m\u001b[0mkeep_default_na\u001b[0m\u001b[0;34m,\u001b[0m\u001b[0;34m\u001b[0m\n",
       "\u001b[0;34m\u001b[0m        \u001b[0mna_filter\u001b[0m\u001b[0;34m=\u001b[0m\u001b[0mna_filter\u001b[0m\u001b[0;34m,\u001b[0m\u001b[0;34m\u001b[0m\n",
       "\u001b[0;34m\u001b[0m        \u001b[0mprefix\u001b[0m\u001b[0;34m=\u001b[0m\u001b[0mprefix\u001b[0m\u001b[0;34m,\u001b[0m\u001b[0;34m\u001b[0m\n",
       "\u001b[0;34m\u001b[0m        \u001b[0mindex_col\u001b[0m\u001b[0;34m=\u001b[0m\u001b[0mindex_col\u001b[0m\u001b[0;34m,\u001b[0m\u001b[0;34m\u001b[0m\n",
       "\u001b[0;34m\u001b[0m    \u001b[0;34m)\u001b[0m\u001b[0;34m\u001b[0m\n",
       "\u001b[0;34m\u001b[0m\u001b[0;34m\u001b[0m\n",
       "\u001b[0;34m\u001b[0m    \u001b[0;32mif\u001b[0m \u001b[0mdtype\u001b[0m \u001b[0;32mis\u001b[0m \u001b[0;32mNone\u001b[0m \u001b[0;32mor\u001b[0m \u001b[0misinstance\u001b[0m\u001b[0;34m(\u001b[0m\u001b[0mdtype\u001b[0m\u001b[0;34m,\u001b[0m \u001b[0mabc\u001b[0m\u001b[0;34m.\u001b[0m\u001b[0mMapping\u001b[0m\u001b[0;34m)\u001b[0m\u001b[0;34m:\u001b[0m\u001b[0;34m\u001b[0m\n",
       "\u001b[0;34m\u001b[0m        \u001b[0;31m# There exists some dtypes in the result columns that is inferred.\u001b[0m\u001b[0;34m\u001b[0m\n",
       "\u001b[0;34m\u001b[0m        \u001b[0;31m# Find them and map them to the default dtypes.\u001b[0m\u001b[0;34m\u001b[0m\n",
       "\u001b[0;34m\u001b[0m        \u001b[0mspecified_dtypes\u001b[0m \u001b[0;34m=\u001b[0m \u001b[0;34m{\u001b[0m\u001b[0;34m}\u001b[0m \u001b[0;32mif\u001b[0m \u001b[0mdtype\u001b[0m \u001b[0;32mis\u001b[0m \u001b[0;32mNone\u001b[0m \u001b[0;32melse\u001b[0m \u001b[0mdtype\u001b[0m\u001b[0;34m\u001b[0m\n",
       "\u001b[0;34m\u001b[0m        \u001b[0mdf_dtypes\u001b[0m \u001b[0;34m=\u001b[0m \u001b[0mdf\u001b[0m\u001b[0;34m.\u001b[0m\u001b[0m_dtypes\u001b[0m\u001b[0;34m\u001b[0m\n",
       "\u001b[0;34m\u001b[0m        \u001b[0munspecified_dtypes\u001b[0m \u001b[0;34m=\u001b[0m \u001b[0;34m{\u001b[0m\u001b[0;34m\u001b[0m\n",
       "\u001b[0;34m\u001b[0m            \u001b[0mname\u001b[0m\u001b[0;34m:\u001b[0m \u001b[0mdf_dtypes\u001b[0m\u001b[0;34m[\u001b[0m\u001b[0mname\u001b[0m\u001b[0;34m]\u001b[0m\u001b[0;34m\u001b[0m\n",
       "\u001b[0;34m\u001b[0m            \u001b[0;32mfor\u001b[0m \u001b[0mname\u001b[0m \u001b[0;32min\u001b[0m \u001b[0mdf\u001b[0m\u001b[0;34m.\u001b[0m\u001b[0m_column_names\u001b[0m\u001b[0;34m\u001b[0m\n",
       "\u001b[0;34m\u001b[0m            \u001b[0;32mif\u001b[0m \u001b[0mname\u001b[0m \u001b[0;32mnot\u001b[0m \u001b[0;32min\u001b[0m \u001b[0mspecified_dtypes\u001b[0m\u001b[0;34m\u001b[0m\n",
       "\u001b[0;34m\u001b[0m        \u001b[0;34m}\u001b[0m\u001b[0;34m\u001b[0m\n",
       "\u001b[0;34m\u001b[0m        \u001b[0mdefault_dtypes\u001b[0m \u001b[0;34m=\u001b[0m \u001b[0;34m{\u001b[0m\u001b[0;34m}\u001b[0m\u001b[0;34m\u001b[0m\n",
       "\u001b[0;34m\u001b[0m\u001b[0;34m\u001b[0m\n",
       "\u001b[0;34m\u001b[0m        \u001b[0;32mfor\u001b[0m \u001b[0mname\u001b[0m\u001b[0;34m,\u001b[0m \u001b[0mdt\u001b[0m \u001b[0;32min\u001b[0m \u001b[0munspecified_dtypes\u001b[0m\u001b[0;34m.\u001b[0m\u001b[0mitems\u001b[0m\u001b[0;34m(\u001b[0m\u001b[0;34m)\u001b[0m\u001b[0;34m:\u001b[0m\u001b[0;34m\u001b[0m\n",
       "\u001b[0;34m\u001b[0m            \u001b[0;32mif\u001b[0m \u001b[0mdt\u001b[0m \u001b[0;34m==\u001b[0m \u001b[0mnp\u001b[0m\u001b[0;34m.\u001b[0m\u001b[0mdtype\u001b[0m\u001b[0;34m(\u001b[0m\u001b[0;34m\"i1\"\u001b[0m\u001b[0;34m)\u001b[0m\u001b[0;34m:\u001b[0m\u001b[0;34m\u001b[0m\n",
       "\u001b[0;34m\u001b[0m                \u001b[0;31m# csv reader reads all null column as int8.\u001b[0m\u001b[0;34m\u001b[0m\n",
       "\u001b[0;34m\u001b[0m                \u001b[0;31m# The dtype should remain int8.\u001b[0m\u001b[0;34m\u001b[0m\n",
       "\u001b[0;34m\u001b[0m                \u001b[0mdefault_dtypes\u001b[0m\u001b[0;34m[\u001b[0m\u001b[0mname\u001b[0m\u001b[0;34m]\u001b[0m \u001b[0;34m=\u001b[0m \u001b[0mdt\u001b[0m\u001b[0;34m\u001b[0m\n",
       "\u001b[0;34m\u001b[0m            \u001b[0;32melse\u001b[0m\u001b[0;34m:\u001b[0m\u001b[0;34m\u001b[0m\n",
       "\u001b[0;34m\u001b[0m                \u001b[0mdefault_dtypes\u001b[0m\u001b[0;34m[\u001b[0m\u001b[0mname\u001b[0m\u001b[0;34m]\u001b[0m \u001b[0;34m=\u001b[0m \u001b[0m_maybe_convert_to_default_type\u001b[0m\u001b[0;34m(\u001b[0m\u001b[0mdt\u001b[0m\u001b[0;34m)\u001b[0m\u001b[0;34m\u001b[0m\n",
       "\u001b[0;34m\u001b[0m        \u001b[0mdf\u001b[0m \u001b[0;34m=\u001b[0m \u001b[0mdf\u001b[0m\u001b[0;34m.\u001b[0m\u001b[0mastype\u001b[0m\u001b[0;34m(\u001b[0m\u001b[0mdefault_dtypes\u001b[0m\u001b[0;34m)\u001b[0m\u001b[0;34m\u001b[0m\n",
       "\u001b[0;34m\u001b[0m\u001b[0;34m\u001b[0m\n",
       "\u001b[0;34m\u001b[0m    \u001b[0;32mreturn\u001b[0m \u001b[0mdf\u001b[0m\u001b[0;34m\u001b[0m\u001b[0;34m\u001b[0m\u001b[0m\n",
       "\u001b[0;31mFile:\u001b[0m      ~/bootcamps/bootcamp-jornada-de-dados_2024/.venv/lib/python3.11/site-packages/cudf/io/csv.py\n",
       "\u001b[0;31mType:\u001b[0m      function"
      ]
     },
     "metadata": {},
     "output_type": "display_data"
    }
   ],
   "source": [
    "??cudf.read_csv"
   ]
  },
  {
   "cell_type": "code",
   "execution_count": 36,
   "id": "4e030d72-2b7f-4edf-a3d6-475a70e92766",
   "metadata": {},
   "outputs": [
    {
     "name": "stdout",
     "output_type": "stream",
     "text": [
      "dc_read Tempo de processamento:47.206 segundos\n"
     ]
    },
    {
     "data": {
      "text/html": [
       "<div>\n",
       "<style scoped>\n",
       "    .dataframe tbody tr th:only-of-type {\n",
       "        vertical-align: middle;\n",
       "    }\n",
       "\n",
       "    .dataframe tbody tr th {\n",
       "        vertical-align: top;\n",
       "    }\n",
       "\n",
       "    .dataframe thead tr th {\n",
       "        text-align: left;\n",
       "    }\n",
       "\n",
       "    .dataframe thead tr:last-of-type th {\n",
       "        text-align: right;\n",
       "    }\n",
       "</style>\n",
       "<table border=\"1\" class=\"dataframe\">\n",
       "  <thead>\n",
       "    <tr>\n",
       "      <th></th>\n",
       "      <th colspan=\"3\" halign=\"left\">measure</th>\n",
       "    </tr>\n",
       "    <tr>\n",
       "      <th></th>\n",
       "      <th>min</th>\n",
       "      <th>max</th>\n",
       "      <th>mean</th>\n",
       "    </tr>\n",
       "    <tr>\n",
       "      <th>station</th>\n",
       "      <th></th>\n",
       "      <th></th>\n",
       "      <th></th>\n",
       "    </tr>\n",
       "  </thead>\n",
       "  <tbody>\n",
       "    <tr>\n",
       "      <th>Aabenraa</th>\n",
       "      <td>-99.900002</td>\n",
       "      <td>99.900002</td>\n",
       "      <td>-0.062295</td>\n",
       "    </tr>\n",
       "    <tr>\n",
       "      <th>Aalten</th>\n",
       "      <td>-99.900002</td>\n",
       "      <td>99.900002</td>\n",
       "      <td>-0.161752</td>\n",
       "    </tr>\n",
       "    <tr>\n",
       "      <th>Abadiânia</th>\n",
       "      <td>-99.900002</td>\n",
       "      <td>99.900002</td>\n",
       "      <td>-0.052772</td>\n",
       "    </tr>\n",
       "    <tr>\n",
       "      <th>Abalessa</th>\n",
       "      <td>-99.900002</td>\n",
       "      <td>99.900002</td>\n",
       "      <td>0.211089</td>\n",
       "    </tr>\n",
       "    <tr>\n",
       "      <th>Abangaritos</th>\n",
       "      <td>-99.900002</td>\n",
       "      <td>99.900002</td>\n",
       "      <td>0.063772</td>\n",
       "    </tr>\n",
       "    <tr>\n",
       "      <th>...</th>\n",
       "      <td>...</td>\n",
       "      <td>...</td>\n",
       "      <td>...</td>\n",
       "    </tr>\n",
       "    <tr>\n",
       "      <th>’Aïn Abessa</th>\n",
       "      <td>-99.900002</td>\n",
       "      <td>99.900002</td>\n",
       "      <td>-0.013338</td>\n",
       "    </tr>\n",
       "    <tr>\n",
       "      <th>’Aïn Azel</th>\n",
       "      <td>-99.900002</td>\n",
       "      <td>99.900002</td>\n",
       "      <td>-0.040762</td>\n",
       "    </tr>\n",
       "    <tr>\n",
       "      <th>’Aïn Roua</th>\n",
       "      <td>-99.900002</td>\n",
       "      <td>99.900002</td>\n",
       "      <td>-0.026898</td>\n",
       "    </tr>\n",
       "    <tr>\n",
       "      <th>’s-Gravenzande</th>\n",
       "      <td>-99.900002</td>\n",
       "      <td>99.900002</td>\n",
       "      <td>-0.080973</td>\n",
       "    </tr>\n",
       "    <tr>\n",
       "      <th>’s-Heerenberg</th>\n",
       "      <td>-99.900002</td>\n",
       "      <td>99.900002</td>\n",
       "      <td>0.168265</td>\n",
       "    </tr>\n",
       "  </tbody>\n",
       "</table>\n",
       "<p>8836 rows × 3 columns</p>\n",
       "</div>"
      ],
      "text/plain": [
       "                  measure                     \n",
       "                      min        max      mean\n",
       "station                                       \n",
       "Aabenraa       -99.900002  99.900002 -0.062295\n",
       "Aalten         -99.900002  99.900002 -0.161752\n",
       "Abadiânia      -99.900002  99.900002 -0.052772\n",
       "Abalessa       -99.900002  99.900002  0.211089\n",
       "Abangaritos    -99.900002  99.900002  0.063772\n",
       "...                   ...        ...       ...\n",
       "’Aïn Abessa    -99.900002  99.900002 -0.013338\n",
       "’Aïn Azel      -99.900002  99.900002 -0.040762\n",
       "’Aïn Roua      -99.900002  99.900002 -0.026898\n",
       "’s-Gravenzande -99.900002  99.900002 -0.080973\n",
       "’s-Heerenberg  -99.900002  99.900002  0.168265\n",
       "\n",
       "[8836 rows x 3 columns]"
      ]
     },
     "execution_count": 36,
     "metadata": {},
     "output_type": "execute_result"
    }
   ],
   "source": [
    "import dask_cudf as dc\n",
    "@timer\n",
    "def dc_read():\n",
    "    # Carregar o arquivo csv em um dataframe dask_cudf\n",
    "    df = dc.read_csv('data/measurements.txt',\n",
    "                     sep=';', header=None,\n",
    "                     names=['station', 'measure'], \n",
    "                     dtype=['str', 'float32'],\n",
    "                     blocksize='128 Mib')\n",
    "    \n",
    "    # Agrupar pela coluna 'station' e calcular min, max e mean da coluna 'measure'\n",
    "    grouped_df = df.groupby('station').agg({'measure': ['min', 'max', 'mean']}).compute()\n",
    "    \n",
    "    # Ordenar pelo 'station'\n",
    "    sorted_df = grouped_df.sort_index()\n",
    "    \n",
    "    # Imprimir as 5 primeiras e últimas linhas\n",
    "    return sorted_df\n",
    "    #print(sorted_df.tail(5))\n",
    "dc_read()"
   ]
  },
  {
   "cell_type": "code",
   "execution_count": null,
   "id": "068b953f-0b43-43bd-a499-ae3021c5495f",
   "metadata": {},
   "outputs": [],
   "source": []
  },
  {
   "cell_type": "code",
   "execution_count": null,
   "id": "a426a3fb-d45a-4c51-b8ff-8eccd4ebd0cf",
   "metadata": {},
   "outputs": [],
   "source": []
  },
  {
   "cell_type": "code",
   "execution_count": null,
   "id": "6252c249-bf51-4824-81e8-f3acf7ecfbbc",
   "metadata": {},
   "outputs": [],
   "source": []
  },
  {
   "cell_type": "code",
   "execution_count": null,
   "id": "f17e33bd-45ec-4059-8f53-c7d559dcf3ee",
   "metadata": {},
   "outputs": [],
   "source": []
  },
  {
   "cell_type": "markdown",
   "id": "f8255bbf-0095-46dd-a021-029b0f0601f0",
   "metadata": {},
   "source": [
    "## Setup and install RAPIDs"
   ]
  },
  {
   "cell_type": "code",
   "execution_count": 1,
   "id": "35e35433-a3d0-4e29-b017-37c75435f9a1",
   "metadata": {},
   "outputs": [
    {
     "name": "stdout",
     "output_type": "stream",
     "text": [
      "Tue Mar 12 18:27:47 2024       \n",
      "+-----------------------------------------------------------------------------------------+\n",
      "| NVIDIA-SMI 550.40.06              Driver Version: 551.23         CUDA Version: 12.4     |\n",
      "|-----------------------------------------+------------------------+----------------------+\n",
      "| GPU  Name                 Persistence-M | Bus-Id          Disp.A | Volatile Uncorr. ECC |\n",
      "| Fan  Temp   Perf          Pwr:Usage/Cap |           Memory-Usage | GPU-Util  Compute M. |\n",
      "|                                         |                        |               MIG M. |\n",
      "|=========================================+========================+======================|\n",
      "|   0  NVIDIA GeForce RTX 3060 Ti     On  |   00000000:03:00.0  On |                  N/A |\n",
      "| 34%   42C    P8             16W /  200W |     487MiB /   8192MiB |      0%      Default |\n",
      "|                                         |                        |                  N/A |\n",
      "+-----------------------------------------+------------------------+----------------------+\n",
      "                                                                                         \n",
      "+-----------------------------------------------------------------------------------------+\n",
      "| Processes:                                                                              |\n",
      "|  GPU   GI   CI        PID   Type   Process name                              GPU Memory |\n",
      "|        ID   ID                                                               Usage      |\n",
      "|=========================================================================================|\n",
      "|    0   N/A  N/A        37      G   /Xwayland                                   N/A      |\n",
      "+-----------------------------------------------------------------------------------------+\n"
     ]
    }
   ],
   "source": [
    "!nvidia-smi"
   ]
  },
  {
   "cell_type": "code",
   "execution_count": 2,
   "id": "1591dd80-e3d8-49b2-8f7f-1ecf76763dab",
   "metadata": {},
   "outputs": [],
   "source": [
    "# Carrega o cudf para pandas\n",
    "%load_ext cudf.pandas\n",
    "import pandas as pd"
   ]
  },
  {
   "cell_type": "code",
   "execution_count": 3,
   "id": "3ede2eca-59e6-42b9-ab05-053a63549aa6",
   "metadata": {},
   "outputs": [
    {
     "data": {
      "text/html": [
       "<div>\n",
       "<style scoped>\n",
       "    .dataframe tbody tr th:only-of-type {\n",
       "        vertical-align: middle;\n",
       "    }\n",
       "\n",
       "    .dataframe tbody tr th {\n",
       "        vertical-align: top;\n",
       "    }\n",
       "\n",
       "    .dataframe thead th {\n",
       "        text-align: right;\n",
       "    }\n",
       "</style>\n",
       "<table border=\"1\" class=\"dataframe\">\n",
       "  <thead>\n",
       "    <tr style=\"text-align: right;\">\n",
       "      <th></th>\n",
       "      <th>station</th>\n",
       "      <th>measure</th>\n",
       "    </tr>\n",
       "  </thead>\n",
       "  <tbody>\n",
       "    <tr>\n",
       "      <th>0</th>\n",
       "      <td>East Shariborough</td>\n",
       "      <td>64.5</td>\n",
       "    </tr>\n",
       "    <tr>\n",
       "      <th>1</th>\n",
       "      <td>Walkerstad</td>\n",
       "      <td>94.9</td>\n",
       "    </tr>\n",
       "    <tr>\n",
       "      <th>2</th>\n",
       "      <td>Lake Samantha</td>\n",
       "      <td>-46.5</td>\n",
       "    </tr>\n",
       "    <tr>\n",
       "      <th>3</th>\n",
       "      <td>Stoutmouth</td>\n",
       "      <td>-17.1</td>\n",
       "    </tr>\n",
       "    <tr>\n",
       "      <th>4</th>\n",
       "      <td>South Julietown</td>\n",
       "      <td>-32.8</td>\n",
       "    </tr>\n",
       "    <tr>\n",
       "      <th>...</th>\n",
       "      <td>...</td>\n",
       "      <td>...</td>\n",
       "    </tr>\n",
       "    <tr>\n",
       "      <th>999995</th>\n",
       "      <td>Harveyberg</td>\n",
       "      <td>32.7</td>\n",
       "    </tr>\n",
       "    <tr>\n",
       "      <th>999996</th>\n",
       "      <td>South Tiffanyside</td>\n",
       "      <td>87.9</td>\n",
       "    </tr>\n",
       "    <tr>\n",
       "      <th>999997</th>\n",
       "      <td>North Jennifermouth</td>\n",
       "      <td>-35.1</td>\n",
       "    </tr>\n",
       "    <tr>\n",
       "      <th>999998</th>\n",
       "      <td>Pattersonport</td>\n",
       "      <td>72.0</td>\n",
       "    </tr>\n",
       "    <tr>\n",
       "      <th>999999</th>\n",
       "      <td>West Adamchester</td>\n",
       "      <td>-40.3</td>\n",
       "    </tr>\n",
       "  </tbody>\n",
       "</table>\n",
       "<p>1000000 rows × 2 columns</p>\n",
       "</div>"
      ],
      "text/plain": [
       "                    station  measure\n",
       "0         East Shariborough     64.5\n",
       "1                Walkerstad     94.9\n",
       "2             Lake Samantha    -46.5\n",
       "3                Stoutmouth    -17.1\n",
       "4           South Julietown    -32.8\n",
       "...                     ...      ...\n",
       "999995           Harveyberg     32.7\n",
       "999996    South Tiffanyside     87.9\n",
       "999997  North Jennifermouth    -35.1\n",
       "999998        Pattersonport     72.0\n",
       "999999     West Adamchester    -40.3\n",
       "\n",
       "[1000000 rows x 2 columns]"
      ]
     },
     "execution_count": 3,
     "metadata": {},
     "output_type": "execute_result"
    }
   ],
   "source": [
    "pd.read_csv('data/measurements1.txt', sep=';', header=None, names=['station', 'measure'])"
   ]
  },
  {
   "cell_type": "code",
   "execution_count": 57,
   "id": "24dd069f-e73a-4f78-98c3-1694d5cd88ae",
   "metadata": {},
   "outputs": [
    {
     "data": {
      "text/plain": [
       "{'status': 'ok', 'restart': True}"
      ]
     },
     "execution_count": 57,
     "metadata": {},
     "output_type": "execute_result"
    }
   ],
   "source": [
    "# reinicia o kernel\n",
    "# @title\n",
    "get_ipython().kernel.do_shutdown(restart=True)"
   ]
  },
  {
   "cell_type": "code",
   "execution_count": 1,
   "id": "63953e4d-06d4-4ff3-b061-16c1567eafb3",
   "metadata": {},
   "outputs": [],
   "source": [
    "# @title\n",
    "%load_ext cudf.pandas"
   ]
  },
  {
   "cell_type": "code",
   "execution_count": 3,
   "id": "e22db0d9-2486-4659-999d-72bf0fce6337",
   "metadata": {},
   "outputs": [],
   "source": [
    "import pandas as pd"
   ]
  },
  {
   "cell_type": "code",
   "execution_count": 4,
   "id": "a8c5d260-2f74-4e16-aea1-1223cf34e1b1",
   "metadata": {},
   "outputs": [
    {
     "data": {
      "text/plain": [
       "<module 'pandas' (ModuleAccelerator(fast=cudf, slow=pandas))>"
      ]
     },
     "execution_count": 4,
     "metadata": {},
     "output_type": "execute_result"
    }
   ],
   "source": [
    "# @title\n",
    "pd"
   ]
  },
  {
   "cell_type": "code",
   "execution_count": 5,
   "id": "b3fcbf51-9595-4820-b6d5-24c9f6da77e7",
   "metadata": {},
   "outputs": [
    {
     "data": {
      "text/plain": [
       "cudf.pandas.fast_slow_proxy._FunctionProxy"
      ]
     },
     "execution_count": 5,
     "metadata": {},
     "output_type": "execute_result"
    }
   ],
   "source": [
    "# @title\n",
    "type(pd.read_csv)"
   ]
  },
  {
   "cell_type": "code",
   "execution_count": 6,
   "id": "c2dff601-909d-4448-aa17-580b2df7c7a2",
   "metadata": {},
   "outputs": [
    {
     "name": "stdout",
     "output_type": "stream",
     "text": [
      "/bin/bash: line 1: nvcc: command not found\n"
     ]
    }
   ],
   "source": [
    "#verifica a versão Cuda\n",
    "!nvcc --version\n"
   ]
  },
  {
   "cell_type": "code",
   "execution_count": 7,
   "id": "d9c2e069-9392-43cb-81fe-92225d1f6aea",
   "metadata": {},
   "outputs": [],
   "source": [
    "import cudf"
   ]
  },
  {
   "cell_type": "markdown",
   "id": "37bda8a8-b152-4933-954f-36347e069038",
   "metadata": {},
   "source": [
    "Introduction to Dask¶\n",
    "Dask is a library the allows for parallelized computing. Written in Python, it allows one to compose complex workflows using large data structures like those found in NumPy, Pandas, and cuDF. In the following examples and notebooks, we'll show how to use Dask with cuDF to accelerate common ETL tasks as well as build and train machine learning models like Linear Regression and XGBoost.\n",
    "\n",
    "To learn more about Dask, check out the documentation here: http://docs.dask.org/en/latest/\n",
    "\n",
    "Client/Workers\n",
    "Dask operates by creating a cluster composed of a \"client\" and multiple \"workers\". The client is responsible for scheduling work; the workers are responsible for actually executing that work.\n",
    "\n",
    "Typically, we set the number of workers to be equal to the number of computing resources we have available to us. For CPU based workflows, this might be the number of cores or threads on that particlular machine. For example, we might set n_workers = 8 if we have 8 CPU cores or threads on our machine that can each operate in parallel. This allows us to take advantage of all of our computing resources and enjoy the most benefits from parallelization.\n",
    "\n",
    "On a system with one or more GPUs, we usually set the number of workers equal to the number of GPUs available to us. Dask is a first class citizen in the world of General Purpose GPU computing and the RAPIDS ecosystem makes it very easy to use Dask with cuDF and XGBoost.\n",
    "\n",
    "Before we get started with Dask, we need to setup a Local Cluster of workers to execute our work and a Client to coordinate and schedule work for that cluster. As we see below, we can inititate a cluster and client using only few lines of code.\n",
    "\n",
    "\n",
    "Introdução ao Dask¶ Dask é uma biblioteca que permite computação paralelizada. Escrito em Python, permite compor fluxos de trabalho complexos usando grandes estruturas de dados como as encontradas em NumPy, Pandas e cuDF. Nos exemplos e notebooks a seguir, mostraremos como usar Dask com cuDF para acelerar tarefas comuns de ETL, bem como construir e treinar modelos de aprendizado de máquina como regressão linear e XGBoost. Para saber mais sobre o Dask, confira a documentação aqui: http://docs.dask.org/en/latest/ Client/Workers O Dask opera criando um cluster composto por um \"cliente\" e vários \"trabalhadores\". O cliente é responsável pelo agendamento dos trabalhos; os trabalhadores são responsáveis ​​pela execução efetiva desse trabalho. Normalmente, definimos o número de trabalhadores como igual ao número de recursos computacionais que temos disponíveis. Para fluxos de trabalho baseados em CPU, esse pode ser o número de núcleos ou threads naquela máquina específica. Por exemplo, podemos definir n_workers = 8 se tivermos 8 núcleos de CPU ou threads em nossa máquina que podem operar em paralelo. Isso nos permite aproveitar todos os nossos recursos computacionais e aproveitar ao máximo os benefícios da paralelização. Em um sistema com uma ou mais GPUs, normalmente definimos o número de trabalhadores igual ao número de GPUs disponíveis para nós. Dask é um cidadão de primeira classe no mundo da computação GPU de uso geral e o ecossistema RAPIDS torna muito fácil usar o Dask com cuDF e XGBoost. Antes de começarmos com o Dask, precisamos configurar um cluster local de trabalhadores para executar nosso trabalho e um cliente para coordenar e agendar o trabalho para esse cluster. Como vemos abaixo, podemos iniciar um cluster e um cliente usando apenas algumas linhas de código."
   ]
  },
  {
   "cell_type": "code",
   "execution_count": 9,
   "id": "ce055b98-b107-4958-9eb9-fdae969cdf31",
   "metadata": {},
   "outputs": [
    {
     "name": "stdout",
     "output_type": "stream",
     "text": [
      "Dask Version: 2024.1.1\n"
     ]
    }
   ],
   "source": [
    "import dask; print('Dask Version:', dask.__version__)\n",
    "from dask.distributed import Client, LocalCluster\n",
    "\n",
    "\n",
    "# create a local cluster with 4 workers\n",
    "n_workers = 4\n",
    "cluster = LocalCluster(n_workers=n_workers)\n",
    "client = Client(cluster)"
   ]
  },
  {
   "cell_type": "markdown",
   "id": "6bd403fa-429d-4b27-99bc-27050f1b7d4b",
   "metadata": {},
   "source": [
    "Let's inspect the client object to view our current Dask status. We should see the IP Address for our Scheduler as well as the the number of workers in our Cluster.\n",
    "\n",
    "Vamos inspecionar o objeto cliente para visualizar nosso status atual do Dask. Devemos ver o endereço IP do nosso Agendador, bem como o número de trabalhadores no nosso Cluster."
   ]
  },
  {
   "cell_type": "code",
   "execution_count": 10,
   "id": "0483866c-cfa7-46be-a1b7-99340d7d9ab2",
   "metadata": {},
   "outputs": [
    {
     "data": {
      "text/html": [
       "<div>\n",
       "    <div style=\"width: 24px; height: 24px; background-color: #e1e1e1; border: 3px solid #9D9D9D; border-radius: 5px; position: absolute;\"> </div>\n",
       "    <div style=\"margin-left: 48px;\">\n",
       "        <h3 style=\"margin-bottom: 0px;\">Client</h3>\n",
       "        <p style=\"color: #9D9D9D; margin-bottom: 0px;\">Client-93c82fc9-e021-11ee-b136-6174df56fd34</p>\n",
       "        <table style=\"width: 100%; text-align: left;\">\n",
       "\n",
       "        <tr>\n",
       "        \n",
       "            <td style=\"text-align: left;\"><strong>Connection method:</strong> Cluster object</td>\n",
       "            <td style=\"text-align: left;\"><strong>Cluster type:</strong> distributed.LocalCluster</td>\n",
       "        \n",
       "        </tr>\n",
       "\n",
       "        \n",
       "            <tr>\n",
       "                <td style=\"text-align: left;\">\n",
       "                    <strong>Dashboard: </strong> <a href=\"http://127.0.0.1:8787/status\" target=\"_blank\">http://127.0.0.1:8787/status</a>\n",
       "                </td>\n",
       "                <td style=\"text-align: left;\"></td>\n",
       "            </tr>\n",
       "        \n",
       "\n",
       "        </table>\n",
       "\n",
       "        \n",
       "\n",
       "        \n",
       "            <details>\n",
       "            <summary style=\"margin-bottom: 20px;\"><h3 style=\"display: inline;\">Cluster Info</h3></summary>\n",
       "            <div class=\"jp-RenderedHTMLCommon jp-RenderedHTML jp-mod-trusted jp-OutputArea-output\">\n",
       "    <div style=\"width: 24px; height: 24px; background-color: #e1e1e1; border: 3px solid #9D9D9D; border-radius: 5px; position: absolute;\">\n",
       "    </div>\n",
       "    <div style=\"margin-left: 48px;\">\n",
       "        <h3 style=\"margin-bottom: 0px; margin-top: 0px;\">LocalCluster</h3>\n",
       "        <p style=\"color: #9D9D9D; margin-bottom: 0px;\">cdddd731</p>\n",
       "        <table style=\"width: 100%; text-align: left;\">\n",
       "            <tr>\n",
       "                <td style=\"text-align: left;\">\n",
       "                    <strong>Dashboard:</strong> <a href=\"http://127.0.0.1:8787/status\" target=\"_blank\">http://127.0.0.1:8787/status</a>\n",
       "                </td>\n",
       "                <td style=\"text-align: left;\">\n",
       "                    <strong>Workers:</strong> 4\n",
       "                </td>\n",
       "            </tr>\n",
       "            <tr>\n",
       "                <td style=\"text-align: left;\">\n",
       "                    <strong>Total threads:</strong> 24\n",
       "                </td>\n",
       "                <td style=\"text-align: left;\">\n",
       "                    <strong>Total memory:</strong> 7.68 GiB\n",
       "                </td>\n",
       "            </tr>\n",
       "            \n",
       "            <tr>\n",
       "    <td style=\"text-align: left;\"><strong>Status:</strong> running</td>\n",
       "    <td style=\"text-align: left;\"><strong>Using processes:</strong> True</td>\n",
       "</tr>\n",
       "\n",
       "            \n",
       "        </table>\n",
       "\n",
       "        <details>\n",
       "            <summary style=\"margin-bottom: 20px;\">\n",
       "                <h3 style=\"display: inline;\">Scheduler Info</h3>\n",
       "            </summary>\n",
       "\n",
       "            <div style=\"\">\n",
       "    <div>\n",
       "        <div style=\"width: 24px; height: 24px; background-color: #FFF7E5; border: 3px solid #FF6132; border-radius: 5px; position: absolute;\"> </div>\n",
       "        <div style=\"margin-left: 48px;\">\n",
       "            <h3 style=\"margin-bottom: 0px;\">Scheduler</h3>\n",
       "            <p style=\"color: #9D9D9D; margin-bottom: 0px;\">Scheduler-9d79611f-daad-4492-a2bf-cdc7f9c6a0e2</p>\n",
       "            <table style=\"width: 100%; text-align: left;\">\n",
       "                <tr>\n",
       "                    <td style=\"text-align: left;\">\n",
       "                        <strong>Comm:</strong> tcp://127.0.0.1:43807\n",
       "                    </td>\n",
       "                    <td style=\"text-align: left;\">\n",
       "                        <strong>Workers:</strong> 4\n",
       "                    </td>\n",
       "                </tr>\n",
       "                <tr>\n",
       "                    <td style=\"text-align: left;\">\n",
       "                        <strong>Dashboard:</strong> <a href=\"http://127.0.0.1:8787/status\" target=\"_blank\">http://127.0.0.1:8787/status</a>\n",
       "                    </td>\n",
       "                    <td style=\"text-align: left;\">\n",
       "                        <strong>Total threads:</strong> 24\n",
       "                    </td>\n",
       "                </tr>\n",
       "                <tr>\n",
       "                    <td style=\"text-align: left;\">\n",
       "                        <strong>Started:</strong> 1 minute ago\n",
       "                    </td>\n",
       "                    <td style=\"text-align: left;\">\n",
       "                        <strong>Total memory:</strong> 7.68 GiB\n",
       "                    </td>\n",
       "                </tr>\n",
       "            </table>\n",
       "        </div>\n",
       "    </div>\n",
       "\n",
       "    <details style=\"margin-left: 48px;\">\n",
       "        <summary style=\"margin-bottom: 20px;\">\n",
       "            <h3 style=\"display: inline;\">Workers</h3>\n",
       "        </summary>\n",
       "\n",
       "        \n",
       "        <div style=\"margin-bottom: 20px;\">\n",
       "            <div style=\"width: 24px; height: 24px; background-color: #DBF5FF; border: 3px solid #4CC9FF; border-radius: 5px; position: absolute;\"> </div>\n",
       "            <div style=\"margin-left: 48px;\">\n",
       "            <details>\n",
       "                <summary>\n",
       "                    <h4 style=\"margin-bottom: 0px; display: inline;\">Worker: 0</h4>\n",
       "                </summary>\n",
       "                <table style=\"width: 100%; text-align: left;\">\n",
       "                    <tr>\n",
       "                        <td style=\"text-align: left;\">\n",
       "                            <strong>Comm: </strong> tcp://127.0.0.1:44895\n",
       "                        </td>\n",
       "                        <td style=\"text-align: left;\">\n",
       "                            <strong>Total threads: </strong> 6\n",
       "                        </td>\n",
       "                    </tr>\n",
       "                    <tr>\n",
       "                        <td style=\"text-align: left;\">\n",
       "                            <strong>Dashboard: </strong> <a href=\"http://127.0.0.1:41109/status\" target=\"_blank\">http://127.0.0.1:41109/status</a>\n",
       "                        </td>\n",
       "                        <td style=\"text-align: left;\">\n",
       "                            <strong>Memory: </strong> 1.92 GiB\n",
       "                        </td>\n",
       "                    </tr>\n",
       "                    <tr>\n",
       "                        <td style=\"text-align: left;\">\n",
       "                            <strong>Nanny: </strong> tcp://127.0.0.1:39471\n",
       "                        </td>\n",
       "                        <td style=\"text-align: left;\"></td>\n",
       "                    </tr>\n",
       "                    <tr>\n",
       "                        <td colspan=\"2\" style=\"text-align: left;\">\n",
       "                            <strong>Local directory: </strong> /tmp/dask-scratch-space/worker-ioedatmr\n",
       "                        </td>\n",
       "                    </tr>\n",
       "\n",
       "                    \n",
       "\n",
       "                    \n",
       "\n",
       "                </table>\n",
       "            </details>\n",
       "            </div>\n",
       "        </div>\n",
       "        \n",
       "        <div style=\"margin-bottom: 20px;\">\n",
       "            <div style=\"width: 24px; height: 24px; background-color: #DBF5FF; border: 3px solid #4CC9FF; border-radius: 5px; position: absolute;\"> </div>\n",
       "            <div style=\"margin-left: 48px;\">\n",
       "            <details>\n",
       "                <summary>\n",
       "                    <h4 style=\"margin-bottom: 0px; display: inline;\">Worker: 1</h4>\n",
       "                </summary>\n",
       "                <table style=\"width: 100%; text-align: left;\">\n",
       "                    <tr>\n",
       "                        <td style=\"text-align: left;\">\n",
       "                            <strong>Comm: </strong> tcp://127.0.0.1:35853\n",
       "                        </td>\n",
       "                        <td style=\"text-align: left;\">\n",
       "                            <strong>Total threads: </strong> 6\n",
       "                        </td>\n",
       "                    </tr>\n",
       "                    <tr>\n",
       "                        <td style=\"text-align: left;\">\n",
       "                            <strong>Dashboard: </strong> <a href=\"http://127.0.0.1:42527/status\" target=\"_blank\">http://127.0.0.1:42527/status</a>\n",
       "                        </td>\n",
       "                        <td style=\"text-align: left;\">\n",
       "                            <strong>Memory: </strong> 1.92 GiB\n",
       "                        </td>\n",
       "                    </tr>\n",
       "                    <tr>\n",
       "                        <td style=\"text-align: left;\">\n",
       "                            <strong>Nanny: </strong> tcp://127.0.0.1:44081\n",
       "                        </td>\n",
       "                        <td style=\"text-align: left;\"></td>\n",
       "                    </tr>\n",
       "                    <tr>\n",
       "                        <td colspan=\"2\" style=\"text-align: left;\">\n",
       "                            <strong>Local directory: </strong> /tmp/dask-scratch-space/worker-t0mykxrk\n",
       "                        </td>\n",
       "                    </tr>\n",
       "\n",
       "                    \n",
       "\n",
       "                    \n",
       "\n",
       "                </table>\n",
       "            </details>\n",
       "            </div>\n",
       "        </div>\n",
       "        \n",
       "        <div style=\"margin-bottom: 20px;\">\n",
       "            <div style=\"width: 24px; height: 24px; background-color: #DBF5FF; border: 3px solid #4CC9FF; border-radius: 5px; position: absolute;\"> </div>\n",
       "            <div style=\"margin-left: 48px;\">\n",
       "            <details>\n",
       "                <summary>\n",
       "                    <h4 style=\"margin-bottom: 0px; display: inline;\">Worker: 2</h4>\n",
       "                </summary>\n",
       "                <table style=\"width: 100%; text-align: left;\">\n",
       "                    <tr>\n",
       "                        <td style=\"text-align: left;\">\n",
       "                            <strong>Comm: </strong> tcp://127.0.0.1:32787\n",
       "                        </td>\n",
       "                        <td style=\"text-align: left;\">\n",
       "                            <strong>Total threads: </strong> 6\n",
       "                        </td>\n",
       "                    </tr>\n",
       "                    <tr>\n",
       "                        <td style=\"text-align: left;\">\n",
       "                            <strong>Dashboard: </strong> <a href=\"http://127.0.0.1:39975/status\" target=\"_blank\">http://127.0.0.1:39975/status</a>\n",
       "                        </td>\n",
       "                        <td style=\"text-align: left;\">\n",
       "                            <strong>Memory: </strong> 1.92 GiB\n",
       "                        </td>\n",
       "                    </tr>\n",
       "                    <tr>\n",
       "                        <td style=\"text-align: left;\">\n",
       "                            <strong>Nanny: </strong> tcp://127.0.0.1:44181\n",
       "                        </td>\n",
       "                        <td style=\"text-align: left;\"></td>\n",
       "                    </tr>\n",
       "                    <tr>\n",
       "                        <td colspan=\"2\" style=\"text-align: left;\">\n",
       "                            <strong>Local directory: </strong> /tmp/dask-scratch-space/worker-tf388_05\n",
       "                        </td>\n",
       "                    </tr>\n",
       "\n",
       "                    \n",
       "\n",
       "                    \n",
       "\n",
       "                </table>\n",
       "            </details>\n",
       "            </div>\n",
       "        </div>\n",
       "        \n",
       "        <div style=\"margin-bottom: 20px;\">\n",
       "            <div style=\"width: 24px; height: 24px; background-color: #DBF5FF; border: 3px solid #4CC9FF; border-radius: 5px; position: absolute;\"> </div>\n",
       "            <div style=\"margin-left: 48px;\">\n",
       "            <details>\n",
       "                <summary>\n",
       "                    <h4 style=\"margin-bottom: 0px; display: inline;\">Worker: 3</h4>\n",
       "                </summary>\n",
       "                <table style=\"width: 100%; text-align: left;\">\n",
       "                    <tr>\n",
       "                        <td style=\"text-align: left;\">\n",
       "                            <strong>Comm: </strong> tcp://127.0.0.1:44029\n",
       "                        </td>\n",
       "                        <td style=\"text-align: left;\">\n",
       "                            <strong>Total threads: </strong> 6\n",
       "                        </td>\n",
       "                    </tr>\n",
       "                    <tr>\n",
       "                        <td style=\"text-align: left;\">\n",
       "                            <strong>Dashboard: </strong> <a href=\"http://127.0.0.1:43901/status\" target=\"_blank\">http://127.0.0.1:43901/status</a>\n",
       "                        </td>\n",
       "                        <td style=\"text-align: left;\">\n",
       "                            <strong>Memory: </strong> 1.92 GiB\n",
       "                        </td>\n",
       "                    </tr>\n",
       "                    <tr>\n",
       "                        <td style=\"text-align: left;\">\n",
       "                            <strong>Nanny: </strong> tcp://127.0.0.1:40235\n",
       "                        </td>\n",
       "                        <td style=\"text-align: left;\"></td>\n",
       "                    </tr>\n",
       "                    <tr>\n",
       "                        <td colspan=\"2\" style=\"text-align: left;\">\n",
       "                            <strong>Local directory: </strong> /tmp/dask-scratch-space/worker-jmlptawh\n",
       "                        </td>\n",
       "                    </tr>\n",
       "\n",
       "                    \n",
       "\n",
       "                    \n",
       "\n",
       "                </table>\n",
       "            </details>\n",
       "            </div>\n",
       "        </div>\n",
       "        \n",
       "\n",
       "    </details>\n",
       "</div>\n",
       "\n",
       "        </details>\n",
       "    </div>\n",
       "</div>\n",
       "            </details>\n",
       "        \n",
       "\n",
       "    </div>\n",
       "</div>"
      ],
      "text/plain": [
       "<Client: 'tcp://127.0.0.1:43807' processes=4 threads=24, memory=7.68 GiB>"
      ]
     },
     "execution_count": 10,
     "metadata": {},
     "output_type": "execute_result"
    }
   ],
   "source": [
    "# show current Dask status\n",
    "client"
   ]
  },
  {
   "cell_type": "markdown",
   "id": "5644c259-a41f-4ea7-a099-7993dc0b60c6",
   "metadata": {},
   "source": [
    "You can also see the status and more information at the Dashboard, found at http://<ip_address>/status. This can be ignored now since this is pointing to local machine.\n",
    "\n",
    "With our client and workers setup, it's time to execute our first program in parallel. We'll define a function called add_5_to_x that takes some value x and adds 5 to it.\n",
    "\n",
    "Você também pode ver o status e mais informações no Dashboard, encontrado em http://<ip_address>/status. Isso pode ser ignorado agora, pois está apontando para a máquina local. Com a configuração do cliente e dos trabalhadores, é hora de executar nosso primeiro programa em paralelo. Definiremos uma função chamada add_5_to_x que recebe algum valor x e adiciona 5 a ele."
   ]
  },
  {
   "cell_type": "code",
   "execution_count": 11,
   "id": "c3af3b32-f006-47a0-91cd-71907e64bb70",
   "metadata": {},
   "outputs": [],
   "source": [
    "def add_5_to_x(x):\n",
    "    return x + 5"
   ]
  },
  {
   "cell_type": "markdown",
   "id": "b3d2d8d8-88d9-402e-b837-3ddcf744b1ad",
   "metadata": {},
   "source": [
    "Next, we'll iterate through our n_workers and create an execution graph, where each worker is responsible for taking its ID and passing it to the function add_5_to_x. For example, the worker with ID 2 will take its ID and pass it to the function add_5_to_x, resulting in the value 7.\n",
    "\n",
    "A seguir, iremos iterar através de nossos n_workers e criar um gráfico de execução, onde cada trabalhador é responsável por pegar seu ID e passá-lo para a função add_5_to_x. Por exemplo, o trabalhador com ID 2 pegará seu ID e o passará para a função add_5_to_x, resultando no valor 7."
   ]
  },
  {
   "cell_type": "code",
   "execution_count": 12,
   "id": "67155fef-023b-4c30-aec3-c463c577175f",
   "metadata": {},
   "outputs": [
    {
     "data": {
      "text/plain": [
       "[Delayed('add_5_to_x-4c0ff802-4d66-41b4-adbb-e3e8542532d9'),\n",
       " Delayed('add_5_to_x-ea344c11-d675-4f8b-83c7-c96a0e015da7'),\n",
       " Delayed('add_5_to_x-093d2c6d-4eb0-41f3-a38d-f73c23653800'),\n",
       " Delayed('add_5_to_x-d9af2829-552e-497b-bc61-fca5a643bcf5')]"
      ]
     },
     "execution_count": 12,
     "metadata": {},
     "output_type": "execute_result"
    }
   ],
   "source": [
    "from dask import delayed\n",
    "\n",
    "\n",
    "addition_operations = [delayed(add_5_to_x)(i) for i in range(n_workers)]\n",
    "addition_operations"
   ]
  },
  {
   "cell_type": "markdown",
   "id": "76574480-ee55-452d-b95b-819d0032d34a",
   "metadata": {},
   "source": [
    "The above output shows a list of several Delayed objects. An important thing to note is that the workers aren't actually executing these results - we're just defining the execution graph for our client to execute later. The delayed function wraps our function add_5_to_x and returns a Delayed object. This ensures that this computation is in fact \"delayed\" - or lazily evaluated - and not executed on the spot i.e. when we define it.\n",
    "\n",
    "Next, let's sum each one of these intermediate results. We can accomplish this by wrapping Python's built-in sum function using our delayed function and storing this in a variable called total.\n",
    "\n",
    "A saída acima mostra uma lista de vários objetos atrasados. Uma coisa importante a notar é que os trabalhadores não estão realmente executando esses resultados - estamos apenas definindo o gráfico de execução para nosso cliente executar mais tarde. A função atrasada envolve nossa função add_5_to_x e retorna um objeto Atrasado. Isso garante que este cálculo seja de fato \"atrasado\" - ou avaliado preguiçosamente - e não executado no local, ou seja, quando o definimos. A seguir, vamos somar cada um desses resultados intermediários. Podemos fazer isso agrupando a função sum integrada do Python usando nossa função atrasada e armazenando isso em uma variável chamada total."
   ]
  },
  {
   "cell_type": "code",
   "execution_count": 13,
   "id": "6f77c7fb-35f3-457e-8bd4-99ce9f030f8c",
   "metadata": {},
   "outputs": [
    {
     "data": {
      "text/plain": [
       "Delayed('sum-230eb00e-b56e-47c5-98b7-4197ebd243c3')"
      ]
     },
     "execution_count": 13,
     "metadata": {},
     "output_type": "execute_result"
    }
   ],
   "source": [
    "total = delayed(sum)(addition_operations)\n",
    "total"
   ]
  },
  {
   "cell_type": "markdown",
   "id": "df8c3002-5bea-4845-9afd-bc445b3defa6",
   "metadata": {},
   "source": [
    "Using the graphviz library, we can use the visualize method of a Delayed object to visualize our current graph.\n",
    "Usando a biblioteca graphviz, podemos usar o método de visualização de um objeto Delayed para visualizar nosso gráfico atual."
   ]
  },
  {
   "cell_type": "code",
   "execution_count": 16,
   "id": "dbb45edd-116a-47fa-8929-76c84e031c9a",
   "metadata": {},
   "outputs": [],
   "source": [
    "!pip install graphviz -q"
   ]
  },
  {
   "cell_type": "code",
   "execution_count": 21,
   "id": "af8e0340-6f37-4007-b55d-cd70025a8d85",
   "metadata": {},
   "outputs": [],
   "source": [
    "import os\n",
    "try:\n",
    "    import graphviz\n",
    "except ModuleNotFoundError:\n",
    "    os.system('conda install -c conda-forge graphviz -y')\n",
    "    os.system('conda install -c conda-forge python-graphviz -y')"
   ]
  },
  {
   "cell_type": "code",
   "execution_count": 20,
   "id": "ffbf897f-bfcd-4236-a13b-dce3f7f96da7",
   "metadata": {},
   "outputs": [],
   "source": [
    "#total.visualize()"
   ]
  },
  {
   "cell_type": "code",
   "execution_count": null,
   "id": "00ef4f17-eabe-4885-87c5-2721f3693d9f",
   "metadata": {},
   "outputs": [],
   "source": []
  },
  {
   "cell_type": "markdown",
   "id": "8a29d289-4421-45b2-a604-992f9040f7dd",
   "metadata": {},
   "source": [
    "As we mentioned before, none of these results - intermediate or final - have actually been compute. We can compute them using the compute method of our client.\n",
    "Como mencionamos anteriormente, nenhum desses resultados – intermediários ou finais – foi realmente computado. Podemos calculá-los usando o método de computação do nosso cliente."
   ]
  },
  {
   "cell_type": "code",
   "execution_count": 22,
   "id": "8ed62c80-0976-4ff7-a5a4-7b0febc6c685",
   "metadata": {},
   "outputs": [
    {
     "data": {
      "text/plain": [
       "DoneAndNotDoneFutures(done={<Future: finished, type: int, key: sum-230eb00e-b56e-47c5-98b7-4197ebd243c3>}, not_done=set())"
      ]
     },
     "execution_count": 22,
     "metadata": {},
     "output_type": "execute_result"
    }
   ],
   "source": [
    "from dask.distributed import wait\n",
    "import time\n",
    "\n",
    "\n",
    "addition_futures = client.compute(addition_operations, optimize_graph=False, fifo_timeout=\"0ms\")\n",
    "total_future = client.compute(total, optimize_graph=False, fifo_timeout=\"0ms\")\n",
    "wait(total_future)  # this will give Dask time to execute the work"
   ]
  },
  {
   "cell_type": "code",
   "execution_count": 23,
   "id": "e46d70e5-3587-4ecf-a51c-7aed2b568ff7",
   "metadata": {},
   "outputs": [
    {
     "data": {
      "text/plain": [
       "[<Future: finished, type: int, key: add_5_to_x-4c0ff802-4d66-41b4-adbb-e3e8542532d9>,\n",
       " <Future: finished, type: int, key: add_5_to_x-ea344c11-d675-4f8b-83c7-c96a0e015da7>,\n",
       " <Future: finished, type: int, key: add_5_to_x-093d2c6d-4eb0-41f3-a38d-f73c23653800>,\n",
       " <Future: finished, type: int, key: add_5_to_x-d9af2829-552e-497b-bc61-fca5a643bcf5>]"
      ]
     },
     "execution_count": 23,
     "metadata": {},
     "output_type": "execute_result"
    }
   ],
   "source": [
    "addition_futures"
   ]
  },
  {
   "cell_type": "markdown",
   "id": "8310b158-12c4-4ea0-929c-d774a56d2ebb",
   "metadata": {},
   "source": [
    "We can see from the above output that our addition_futures variable is a list of Future objects - not the \"actual results\" of adding 5 to each of [0, 1, 2, 3]. These Future objects are a promise that at one point a computation will take place and we will be left with a result. Dask is responsible for fulfilling that promise by delegating that task to the appropriate Dask worker and collecting the result.\n",
    "\n",
    "Let's take a look at our total_future object:\n",
    "\n",
    "Podemos ver na saída acima que nossa variável add_futures é uma lista de objetos Future - não os \"resultados reais\" da adição de 5 a cada um de [0, 1, 2, 3]. Esses objetos Future são uma promessa de que em determinado momento ocorrerá um cálculo e teremos um resultado. Dask é responsável por cumprir essa promessa, delegando essa tarefa ao trabalhador Dask apropriado e coletando o resultado. Vamos dar uma olhada em nosso objeto total_future:"
   ]
  },
  {
   "cell_type": "code",
   "execution_count": 24,
   "id": "a9ebb96d-9b95-410f-86e5-ebae689a0e25",
   "metadata": {},
   "outputs": [
    {
     "name": "stdout",
     "output_type": "stream",
     "text": [
      "<Future: finished, type: int, key: sum-230eb00e-b56e-47c5-98b7-4197ebd243c3>\n",
      "<class 'distributed.client.Future'>\n"
     ]
    }
   ],
   "source": [
    "print(total_future)\n",
    "print(type(total_future))"
   ]
  },
  {
   "cell_type": "markdown",
   "id": "17884283-c215-4031-9973-a04e78537c20",
   "metadata": {},
   "source": [
    "Again, we see that this is an object of type Future as well as metadata about the status of the request (i.e. whether it has finished or not), the type of the result, and a key associated with that operation. To collect and print the result of each of these Future objects, we can call the result() method.\n",
    "Novamente, vemos que este é um objeto do tipo Future, bem como metadados sobre o status da solicitação (ou seja, se ela foi concluída ou não), o tipo de resultado e uma chave associada a essa operação. Para coletar e imprimir o resultado de cada um desses objetos Future, podemos chamar o método result()."
   ]
  },
  {
   "cell_type": "code",
   "execution_count": 25,
   "id": "3152ba6f-471f-44aa-82af-ff109566c7ba",
   "metadata": {},
   "outputs": [
    {
     "name": "stdout",
     "output_type": "stream",
     "text": [
      "Addition Results: [5, 6, 7, 8]\n"
     ]
    }
   ],
   "source": [
    "addition_results = [future.result() for future in addition_futures]\n",
    "print('Addition Results:', addition_results)"
   ]
  },
  {
   "cell_type": "markdown",
   "id": "92aa3a48-853a-4c6f-9dc1-531f5f44010c",
   "metadata": {},
   "source": [
    "Now we see the results that we want from our addition operations. We can also use the simpler syntax of the client.gather method to collect our results.\n",
    "Agora vemos os resultados que queremos das nossas operações de adição. Também podemos usar a sintaxe mais simples do método client.gather para coletar nossos resultados."
   ]
  },
  {
   "cell_type": "code",
   "execution_count": 25,
   "id": "3493ceee-5697-4984-89ca-8c02cef21a30",
   "metadata": {},
   "outputs": [
    {
     "name": "stdout",
     "output_type": "stream",
     "text": [
      "Addition Results: [5, 6, 7, 8]\n",
      "Total Result: 26\n"
     ]
    }
   ],
   "source": [
    "addition_results = client.gather(addition_futures)\n",
    "total_result = client.gather(total_future)\n",
    "print('Addition Results:', addition_results)\n",
    "print('Total Result:', total_result)"
   ]
  },
  {
   "cell_type": "markdown",
   "id": "11fffd98-469b-48f3-aee9-27d5e129e003",
   "metadata": {},
   "source": [
    "Awesome! We just wrote our first distributed workflow.\n",
    "\n",
    "To confirm that Dask is truly executing in parallel, let's define a function that sleeps for 1 second and returns the string \"Success!\". In serial, this function should take our 4 workers around 4 seconds to execute.\n",
    "\n",
    "Incrível! Acabamos de escrever nosso primeiro fluxo de trabalho distribuído. Para confirmar que Dask está realmente executando em paralelo, vamos definir uma função que durma por 1 segundo e retorne a string \"Sucesso!\". Em série, esta função deve levar cerca de 4 segundos para nossos 4 trabalhadores serem executados."
   ]
  },
  {
   "cell_type": "code",
   "execution_count": 26,
   "id": "d6143505-5859-41c0-b2fe-dbaec1e182a9",
   "metadata": {},
   "outputs": [],
   "source": [
    "def sleep_1():\n",
    "    time.sleep(1)\n",
    "    return 'Success!'"
   ]
  },
  {
   "cell_type": "code",
   "execution_count": 27,
   "id": "e4a81869-3290-425c-a3ac-c07947b3f913",
   "metadata": {},
   "outputs": [
    {
     "name": "stdout",
     "output_type": "stream",
     "text": [
      "CPU times: user 331 ms, sys: 91.9 ms, total: 423 ms\n",
      "Wall time: 4 s\n"
     ]
    }
   ],
   "source": [
    "%%time\n",
    "\n",
    "for _ in range(n_workers):\n",
    "    sleep_1()"
   ]
  },
  {
   "cell_type": "markdown",
   "id": "48212c38-b057-4fc4-ba67-b0795bc5f7fa",
   "metadata": {},
   "source": [
    "As expected, our process takes about 4 seconds to run. Now let's execute this same workflow in parallel using Dask.\n",
    "Como esperado, nosso processo leva cerca de 4 segundos para ser executado. Agora vamos executar esse mesmo fluxo de trabalho em paralelo usando Dask.\n",
    "\n"
   ]
  },
  {
   "cell_type": "code",
   "execution_count": 28,
   "id": "eee9d45f-40de-475a-932e-8d192ae2408f",
   "metadata": {},
   "outputs": [
    {
     "name": "stdout",
     "output_type": "stream",
     "text": [
      "['Success!', 'Success!', 'Success!', 'Success!']\n",
      "CPU times: user 127 ms, sys: 10 ms, total: 137 ms\n",
      "Wall time: 1.03 s\n"
     ]
    }
   ],
   "source": [
    "%%time\n",
    "\n",
    "# define delayed execution graph\n",
    "sleep_operations = [delayed(sleep_1)() for _ in range(n_workers)]\n",
    "\n",
    "# use client to perform computations using execution graph\n",
    "sleep_futures = client.compute(sleep_operations, optimize_graph=False, fifo_timeout=\"0ms\")\n",
    "\n",
    "# collect and print results\n",
    "sleep_results = client.gather(sleep_futures)\n",
    "print(sleep_results)"
   ]
  },
  {
   "cell_type": "markdown",
   "id": "25791cdc-78d5-478d-907d-cef3c25d3e28",
   "metadata": {},
   "source": [
    "Using Dask, we see that this whole process takes a little over a second - each worker is executing in parallel!\n",
    "Usando o Dask, vemos que todo esse processo leva pouco mais de um segundo - cada trabalhador está executando em paralelo!"
   ]
  },
  {
   "cell_type": "markdown",
   "id": "92b3dfd9-9d94-454f-849d-7c405a9c646e",
   "metadata": {},
   "source": [
    "## Dask Cudf\n",
    "Let's start by creating a local cluster of workers and a client to interact with that cluster.\n",
    "Vamos começar criando um cluster local de trabalhadores e um cliente para interagir com esse cluster."
   ]
  },
  {
   "cell_type": "code",
   "execution_count": 29,
   "id": "0d04f5d4-4e98-4c7c-bac6-677a8fca9fc5",
   "metadata": {},
   "outputs": [
    {
     "name": "stderr",
     "output_type": "stream",
     "text": [
      "/home/jcnok/bootcamps/bootcamp-jornada-de-dados_2024/.venv/lib/python3.11/site-packages/distributed/node.py:182: UserWarning: Port 8787 is already in use.\n",
      "Perhaps you already have a cluster running?\n",
      "Hosting the HTTP server on port 40393 instead\n",
      "  warnings.warn(\n",
      "/home/jcnok/bootcamps/bootcamp-jornada-de-dados_2024/.venv/lib/python3.11/site-packages/dask_cuda/utils.py:170: UserWarning: Cannot get CPU affinity for device with index 0, setting default affinity\n",
      "  warnings.warn(\n"
     ]
    },
    {
     "data": {
      "text/html": [
       "<div>\n",
       "    <div style=\"width: 24px; height: 24px; background-color: #e1e1e1; border: 3px solid #9D9D9D; border-radius: 5px; position: absolute;\"> </div>\n",
       "    <div style=\"margin-left: 48px;\">\n",
       "        <h3 style=\"margin-bottom: 0px;\">Client</h3>\n",
       "        <p style=\"color: #9D9D9D; margin-bottom: 0px;\">Client-d4105a06-e01c-11ee-8a5c-6174df56fd34</p>\n",
       "        <table style=\"width: 100%; text-align: left;\">\n",
       "\n",
       "        <tr>\n",
       "        \n",
       "            <td style=\"text-align: left;\"><strong>Connection method:</strong> Cluster object</td>\n",
       "            <td style=\"text-align: left;\"><strong>Cluster type:</strong> dask_cuda.LocalCUDACluster</td>\n",
       "        \n",
       "        </tr>\n",
       "\n",
       "        \n",
       "            <tr>\n",
       "                <td style=\"text-align: left;\">\n",
       "                    <strong>Dashboard: </strong> <a href=\"http://127.0.0.1:40393/status\" target=\"_blank\">http://127.0.0.1:40393/status</a>\n",
       "                </td>\n",
       "                <td style=\"text-align: left;\"></td>\n",
       "            </tr>\n",
       "        \n",
       "\n",
       "        </table>\n",
       "\n",
       "        \n",
       "\n",
       "        \n",
       "            <details>\n",
       "            <summary style=\"margin-bottom: 20px;\"><h3 style=\"display: inline;\">Cluster Info</h3></summary>\n",
       "            <div class=\"jp-RenderedHTMLCommon jp-RenderedHTML jp-mod-trusted jp-OutputArea-output\">\n",
       "    <div style=\"width: 24px; height: 24px; background-color: #e1e1e1; border: 3px solid #9D9D9D; border-radius: 5px; position: absolute;\">\n",
       "    </div>\n",
       "    <div style=\"margin-left: 48px;\">\n",
       "        <h3 style=\"margin-bottom: 0px; margin-top: 0px;\">LocalCUDACluster</h3>\n",
       "        <p style=\"color: #9D9D9D; margin-bottom: 0px;\">d73dbc79</p>\n",
       "        <table style=\"width: 100%; text-align: left;\">\n",
       "            <tr>\n",
       "                <td style=\"text-align: left;\">\n",
       "                    <strong>Dashboard:</strong> <a href=\"http://127.0.0.1:40393/status\" target=\"_blank\">http://127.0.0.1:40393/status</a>\n",
       "                </td>\n",
       "                <td style=\"text-align: left;\">\n",
       "                    <strong>Workers:</strong> 1\n",
       "                </td>\n",
       "            </tr>\n",
       "            <tr>\n",
       "                <td style=\"text-align: left;\">\n",
       "                    <strong>Total threads:</strong> 1\n",
       "                </td>\n",
       "                <td style=\"text-align: left;\">\n",
       "                    <strong>Total memory:</strong> 7.68 GiB\n",
       "                </td>\n",
       "            </tr>\n",
       "            \n",
       "            <tr>\n",
       "    <td style=\"text-align: left;\"><strong>Status:</strong> running</td>\n",
       "    <td style=\"text-align: left;\"><strong>Using processes:</strong> True</td>\n",
       "</tr>\n",
       "\n",
       "            \n",
       "        </table>\n",
       "\n",
       "        <details>\n",
       "            <summary style=\"margin-bottom: 20px;\">\n",
       "                <h3 style=\"display: inline;\">Scheduler Info</h3>\n",
       "            </summary>\n",
       "\n",
       "            <div style=\"\">\n",
       "    <div>\n",
       "        <div style=\"width: 24px; height: 24px; background-color: #FFF7E5; border: 3px solid #FF6132; border-radius: 5px; position: absolute;\"> </div>\n",
       "        <div style=\"margin-left: 48px;\">\n",
       "            <h3 style=\"margin-bottom: 0px;\">Scheduler</h3>\n",
       "            <p style=\"color: #9D9D9D; margin-bottom: 0px;\">Scheduler-9a061646-4f18-402f-b3ae-c5987d3bf187</p>\n",
       "            <table style=\"width: 100%; text-align: left;\">\n",
       "                <tr>\n",
       "                    <td style=\"text-align: left;\">\n",
       "                        <strong>Comm:</strong> tcp://127.0.0.1:37575\n",
       "                    </td>\n",
       "                    <td style=\"text-align: left;\">\n",
       "                        <strong>Workers:</strong> 1\n",
       "                    </td>\n",
       "                </tr>\n",
       "                <tr>\n",
       "                    <td style=\"text-align: left;\">\n",
       "                        <strong>Dashboard:</strong> <a href=\"http://127.0.0.1:40393/status\" target=\"_blank\">http://127.0.0.1:40393/status</a>\n",
       "                    </td>\n",
       "                    <td style=\"text-align: left;\">\n",
       "                        <strong>Total threads:</strong> 1\n",
       "                    </td>\n",
       "                </tr>\n",
       "                <tr>\n",
       "                    <td style=\"text-align: left;\">\n",
       "                        <strong>Started:</strong> Just now\n",
       "                    </td>\n",
       "                    <td style=\"text-align: left;\">\n",
       "                        <strong>Total memory:</strong> 7.68 GiB\n",
       "                    </td>\n",
       "                </tr>\n",
       "            </table>\n",
       "        </div>\n",
       "    </div>\n",
       "\n",
       "    <details style=\"margin-left: 48px;\">\n",
       "        <summary style=\"margin-bottom: 20px;\">\n",
       "            <h3 style=\"display: inline;\">Workers</h3>\n",
       "        </summary>\n",
       "\n",
       "        \n",
       "        <div style=\"margin-bottom: 20px;\">\n",
       "            <div style=\"width: 24px; height: 24px; background-color: #DBF5FF; border: 3px solid #4CC9FF; border-radius: 5px; position: absolute;\"> </div>\n",
       "            <div style=\"margin-left: 48px;\">\n",
       "            <details>\n",
       "                <summary>\n",
       "                    <h4 style=\"margin-bottom: 0px; display: inline;\">Worker: 0</h4>\n",
       "                </summary>\n",
       "                <table style=\"width: 100%; text-align: left;\">\n",
       "                    <tr>\n",
       "                        <td style=\"text-align: left;\">\n",
       "                            <strong>Comm: </strong> tcp://127.0.0.1:35241\n",
       "                        </td>\n",
       "                        <td style=\"text-align: left;\">\n",
       "                            <strong>Total threads: </strong> 1\n",
       "                        </td>\n",
       "                    </tr>\n",
       "                    <tr>\n",
       "                        <td style=\"text-align: left;\">\n",
       "                            <strong>Dashboard: </strong> <a href=\"http://127.0.0.1:43695/status\" target=\"_blank\">http://127.0.0.1:43695/status</a>\n",
       "                        </td>\n",
       "                        <td style=\"text-align: left;\">\n",
       "                            <strong>Memory: </strong> 7.68 GiB\n",
       "                        </td>\n",
       "                    </tr>\n",
       "                    <tr>\n",
       "                        <td style=\"text-align: left;\">\n",
       "                            <strong>Nanny: </strong> tcp://127.0.0.1:37061\n",
       "                        </td>\n",
       "                        <td style=\"text-align: left;\"></td>\n",
       "                    </tr>\n",
       "                    <tr>\n",
       "                        <td colspan=\"2\" style=\"text-align: left;\">\n",
       "                            <strong>Local directory: </strong> /tmp/dask-scratch-space/worker-drnl3y_d\n",
       "                        </td>\n",
       "                    </tr>\n",
       "\n",
       "                    \n",
       "\n",
       "                    \n",
       "\n",
       "                </table>\n",
       "            </details>\n",
       "            </div>\n",
       "        </div>\n",
       "        \n",
       "\n",
       "    </details>\n",
       "</div>\n",
       "\n",
       "        </details>\n",
       "    </div>\n",
       "</div>\n",
       "            </details>\n",
       "        \n",
       "\n",
       "    </div>\n",
       "</div>"
      ],
      "text/plain": [
       "<Client: 'tcp://127.0.0.1:37575' processes=1 threads=1, memory=7.68 GiB>"
      ]
     },
     "execution_count": 29,
     "metadata": {},
     "output_type": "execute_result"
    },
    {
     "name": "stderr",
     "output_type": "stream",
     "text": [
      "2024-03-12 00:30:05,011 - distributed.core - INFO - Received 'close-stream' from tcp://127.0.0.1:48720; closing.\n",
      "2024-03-12 00:30:05,014 - distributed.scheduler - INFO - Remove worker <WorkerState 'tcp://127.0.0.1:35241', name: 0, status: closing, memory: 3, processing: 0> (stimulus_id='handle-worker-cleanup-1710214205.01484')\n",
      "2024-03-12 00:30:05,016 - distributed.scheduler - INFO - Lost all workers\n",
      "2024-03-12 00:30:06,132 - distributed.scheduler - INFO - Scheduler closing due to unknown reason...\n",
      "2024-03-12 00:30:06,136 - distributed.scheduler - INFO - Scheduler closing all comms\n"
     ]
    }
   ],
   "source": [
    "from dask.distributed import Client\n",
    "from dask_cuda import LocalCUDACluster\n",
    "\n",
    "\n",
    "# create a local CUDA cluster\n",
    "cluster = LocalCUDACluster()\n",
    "client = Client(cluster)\n",
    "client"
   ]
  },
  {
   "cell_type": "markdown",
   "id": "baf88742-d9f8-4f5a-9ad7-c92402cde33b",
   "metadata": {},
   "source": [
    "We'll define a function called load_data that will create a cudf.DataFrame with two columns, key and value. The column key will be randomly filled with either a 0 or a 1, with 50% probability of either number being selected. The column value will be randomly filled with numbers sampled from a normal distribution.\n",
    "\n",
    "Definiremos uma função chamada load_data que criará um cudf.DataFrame com duas colunas, chave e valor. A chave da coluna será preenchida aleatoriamente com 0 ou 1, com 50% de probabilidade de qualquer um dos números ser selecionado. O valor da coluna será preenchido aleatoriamente com números amostrados de uma distribuição normal."
   ]
  },
  {
   "cell_type": "code",
   "execution_count": 30,
   "id": "1b8bbaa1-f989-4d68-885b-201be8ad0510",
   "metadata": {},
   "outputs": [
    {
     "name": "stdout",
     "output_type": "stream",
     "text": [
      "cuDF Version: 24.04.00a546\n",
      "NumPy Version: 1.26.4\n"
     ]
    }
   ],
   "source": [
    "import cudf; print('cuDF Version:', cudf.__version__)\n",
    "import numpy as np; print('NumPy Version:', np.__version__)\n",
    "\n",
    "\n",
    "def load_data(n_rows):\n",
    "    df = cudf.DataFrame()\n",
    "    random_state = np.random.RandomState(43210)\n",
    "    df['key'] = random_state.binomial(n=1, p=0.5, size=(n_rows,))\n",
    "    df['value'] = random_state.normal(size=(n_rows,))\n",
    "    return df"
   ]
  },
  {
   "cell_type": "markdown",
   "id": "c0309e49-bae5-446d-ad3c-ebab2156570e",
   "metadata": {},
   "source": [
    "We'll also define a function head that takes a cudf.DataFrame and returns the first 5 rows.\n",
    "Também definiremos um cabeçalho de função que recebe cudf.DataFrame e retorna as 5 primeiras linhas."
   ]
  },
  {
   "cell_type": "code",
   "execution_count": 31,
   "id": "2873fe84-a7ea-4b0b-819e-61e702546c09",
   "metadata": {},
   "outputs": [],
   "source": [
    "def head(dataframe):\n",
    "    return dataframe.head()"
   ]
  },
  {
   "cell_type": "markdown",
   "id": "d3958446-1ef5-4b5e-9040-b82ff86ab04e",
   "metadata": {},
   "source": [
    "We'll define the number of workers as well as the number of rows each dataframe will have.\n",
    "Definiremos o número de trabalhadores, bem como o número de linhas que cada dataframe terá.\n"
   ]
  },
  {
   "cell_type": "code",
   "execution_count": 33,
   "id": "05f89ffe-beba-4504-a8c2-91a83312244f",
   "metadata": {},
   "outputs": [],
   "source": [
    "# define the number of workers\n",
    "n_workers = 1  # feel free to change this depending on how many GPUs you have\n",
    "\n",
    "# define the number of rows each dataframe will have\n",
    "n_rows = 125000000  # we'll use 125 million rows in each dataframe"
   ]
  },
  {
   "cell_type": "markdown",
   "id": "86682a50-b7a9-436a-a193-3ae02c547e4a",
   "metadata": {},
   "source": [
    "We'll create each dataframe using the delayed operator.\n",
    "Criaremos cada dataframe usando o operador atrasado."
   ]
  },
  {
   "cell_type": "code",
   "execution_count": 34,
   "id": "429493d9-1a9c-43eb-b3b6-45f1d99e2106",
   "metadata": {},
   "outputs": [
    {
     "data": {
      "text/plain": [
       "[Delayed('load_data-f841e897-3a26-45fb-8278-a9fe8eec0745')]"
      ]
     },
     "execution_count": 34,
     "metadata": {},
     "output_type": "execute_result"
    }
   ],
   "source": [
    "from dask.delayed import delayed\n",
    "\n",
    "\n",
    "# create each dataframe using a delayed operation\n",
    "dfs = [delayed(load_data)(n_rows) for i in range(n_workers)]\n",
    "dfs"
   ]
  },
  {
   "cell_type": "markdown",
   "id": "0cef00e8-138c-4b64-b673-8d1d4757baa7",
   "metadata": {},
   "source": [
    "Vemos que o resultado desta operação é uma lista de objetos atrasados. É importante notar que estas operações estão “atrasadas” – nada foi computado ainda, ou seja, nossos dados ainda não foram criados! Podemos aplicar a função head a cada um de nossos dataframes \"atrasados\"."
   ]
  },
  {
   "cell_type": "code",
   "execution_count": 35,
   "id": "5d14eb48-4fa0-4c59-bcd8-342be2868e69",
   "metadata": {},
   "outputs": [
    {
     "data": {
      "text/plain": [
       "[Delayed('head-3beb5e6e-57b2-4736-9bc3-0c4832d33392')]"
      ]
     },
     "execution_count": 35,
     "metadata": {},
     "output_type": "execute_result"
    }
   ],
   "source": [
    "head_dfs = [delayed(head)(df) for df in dfs]\n",
    "head_dfs"
   ]
  },
  {
   "cell_type": "markdown",
   "id": "13035b8b-888f-41f5-9b0b-9d3f3e4386da",
   "metadata": {},
   "source": [
    "\n",
    "Como antes, vemos que o resultado é uma lista de objetos Delayed – uma coisa importante a notar é que nossa “chave”, ou identificador exclusivo para cada operação, mudou. Você deverá ver o nome do cabeçalho da função seguido por um sinal de cerquilha. Por exemplo, pode-se ver: [Delayed('head-8e946db2-feaf-4e79-99ab-f732b6e28461') Delayed('head-eb06bc77-9d5c-4a47-8c01-b5b36710b727')] Novamente, nada foi computado - vamos calcular os resultados e execute o fluxo de trabalho usando o método client.compute()."
   ]
  },
  {
   "cell_type": "code",
   "execution_count": 36,
   "id": "15d6447b-cfd9-42c9-9e68-f202a26699ca",
   "metadata": {},
   "outputs": [
    {
     "data": {
      "text/plain": [
       "[<Future: finished, type: cudf.core.dataframe.DataFrame, key: head-3beb5e6e-57b2-4736-9bc3-0c4832d33392>]"
      ]
     },
     "execution_count": 36,
     "metadata": {},
     "output_type": "execute_result"
    }
   ],
   "source": [
    "from dask.distributed import wait\n",
    "\n",
    "\n",
    "# use the client to compute - this means create each dataframe and take the head\n",
    "futures = client.compute(head_dfs)\n",
    "wait(futures)  # this will give Dask time to execute the work before moving to any subsequently defined operations\n",
    "futures"
   ]
  },
  {
   "cell_type": "markdown",
   "id": "095d322b-5299-41aa-ae41-0af20be1f125",
   "metadata": {},
   "source": [
    "We see that our results are a list of futures. Each object in this list tells us a bit information about itself: the status (pending, error, finished), the type of the object, and the key (unique identifief).\n",
    "\n",
    "We can use the client.gather method to collect the results of each of these futures.\n",
    "\n",
    "Vemos que nossos resultados são uma lista de futuros. Cada objeto nesta lista nos fornece algumas informações sobre si mesmo: o status (pendente, erro, concluído), o tipo do objeto e a chave (identificação única). Podemos usar o método client.gather para coletar os resultados de cada um desses futuros."
   ]
  },
  {
   "cell_type": "code",
   "execution_count": 37,
   "id": "e11422f9-303d-4f4a-95b1-8d2353779ca3",
   "metadata": {},
   "outputs": [
    {
     "data": {
      "text/plain": [
       "[   key     value\n",
       " 0    1  0.689155\n",
       " 1    0  0.999085\n",
       " 2    0 -0.277850\n",
       " 3    1 -1.535017\n",
       " 4    1 -0.028184]"
      ]
     },
     "execution_count": 37,
     "metadata": {},
     "output_type": "execute_result"
    }
   ],
   "source": [
    "# collect the results\n",
    "results = client.gather(futures)\n",
    "results"
   ]
  },
  {
   "cell_type": "markdown",
   "id": "2946b49d-859f-447c-a9e7-e46094e32ef7",
   "metadata": {},
   "source": [
    "We see that our results are a list of cuDF DataFrames, each having 2 columns and 5 rows. Let's inspect the first dataframe:\n",
    "Vemos que nossos resultados são uma lista de DataFrames cuDF, cada um com 2 colunas e 5 linhas. Vamos inspecionar o primeiro dataframe:"
   ]
  },
  {
   "cell_type": "code",
   "execution_count": 38,
   "id": "f41dbd82-7583-47fa-818b-ec0ea7ff3a4e",
   "metadata": {},
   "outputs": [
    {
     "name": "stdout",
     "output_type": "stream",
     "text": [
      "   key     value\n",
      "0    1  0.689155\n",
      "1    0  0.999085\n",
      "2    0 -0.277850\n",
      "3    1 -1.535017\n",
      "4    1 -0.028184\n"
     ]
    }
   ],
   "source": [
    "# let's inspect the head of the first dataframe\n",
    "print(results[0])"
   ]
  },
  {
   "cell_type": "markdown",
   "id": "9d2f8437-b6c0-447c-bd76-073417b2d515",
   "metadata": {},
   "source": [
    "That was a pretty simple example. Let's see how we can use this perform a more complex operation like figuring how many total rows we have across all of our dataframes. We'll define a function called length that will take a cudf.DataFrame and return the first value of the shape attribute i.e. the number of rows for that particular dataframe.\n",
    "\n",
    "Esse foi um exemplo bem simples. Vamos ver como podemos usar isso para realizar uma operação mais complexa, como descobrir quantas linhas totais temos em todos os nossos dataframes. Definiremos uma função chamada length que pegará um cudf.DataFrame e retornará o primeiro valor do atributo shape, ou seja, o número de linhas para aquele dataframe específico."
   ]
  },
  {
   "cell_type": "code",
   "execution_count": 39,
   "id": "1c31ce80-aac4-483b-9755-4c2d507cd896",
   "metadata": {},
   "outputs": [],
   "source": [
    "def length(dataframe):\n",
    "    return dataframe.shape[0]"
   ]
  },
  {
   "cell_type": "markdown",
   "id": "80d4d93a-7a90-4cd0-bbe4-7eca6bcbd03c",
   "metadata": {},
   "source": [
    "We'll define our operation on the dataframes we've created:\n",
    "Definiremos nossa operação nos dataframes que criamos:"
   ]
  },
  {
   "cell_type": "code",
   "execution_count": 40,
   "id": "dc0ba000-a15b-437a-8732-33a3dc7b2047",
   "metadata": {},
   "outputs": [
    {
     "data": {
      "text/plain": [
       "[Delayed('length-fff0b6ca-f3eb-4698-bc09-51d97eae936e')]"
      ]
     },
     "execution_count": 40,
     "metadata": {},
     "output_type": "execute_result"
    }
   ],
   "source": [
    "lengths = [delayed(length)(df) for df in dfs]\n",
    "lengths"
   ]
  },
  {
   "cell_type": "markdown",
   "id": "e623352d-6f02-4f43-a530-1199382dd95c",
   "metadata": {},
   "source": [
    "And then use Python's built-in sum function to sum all of these lengths.\n",
    "E então use a função sum integrada do Python para somar todos esses comprimentos."
   ]
  },
  {
   "cell_type": "code",
   "execution_count": 41,
   "id": "afa44f75-497d-48fb-aac2-4560e1093489",
   "metadata": {},
   "outputs": [],
   "source": [
    "total_number_of_rows = delayed(sum)(lengths)\n"
   ]
  },
  {
   "cell_type": "markdown",
   "id": "ee65de7b-4b14-43e5-bda6-330fdc19146d",
   "metadata": {},
   "source": [
    "At this point, total_number_of_rows hasn't been computed yet. But we can still visualize the graph of operations we've defined using the visualize() method.\n",
    "Neste ponto, total_number_of_rows ainda não foi calculado. Mas ainda podemos visualizar o gráfico de operações que definimos usando o método visualize()."
   ]
  },
  {
   "cell_type": "code",
   "execution_count": 43,
   "id": "92b356f9-e408-4e1c-8213-cd6d0ab415dc",
   "metadata": {},
   "outputs": [],
   "source": [
    "# total_number_of_rows.visualize()"
   ]
  },
  {
   "cell_type": "markdown",
   "id": "6ff6af2f-4e77-4a37-867a-ea77606428a3",
   "metadata": {},
   "source": [
    "The graph can be read from bottom to top. We see that for each worker, we will first execute the load_data function to create each dataframe. Then the function length will be applied to each dataframe; the results from these operations on each worker will then be combined into a single result via the sum function.\n",
    "\n",
    "Let's now execute our workflow and compute a value for the total_number_of_rows variable.\n",
    "\n",
    "O gráfico pode ser lido de baixo para cima. Vemos que para cada trabalhador, primeiro executaremos a função load_data para criar cada dataframe. Em seguida, o comprimento da função será aplicado a cada dataframe; os resultados dessas operações em cada trabalhador serão então combinados em um único resultado por meio da função soma. Vamos agora executar nosso fluxo de trabalho e calcular um valor para a variável total_number_of_rows."
   ]
  },
  {
   "cell_type": "code",
   "execution_count": 44,
   "id": "a082803a-cccd-482e-b7cd-e56739497499",
   "metadata": {},
   "outputs": [
    {
     "data": {
      "text/html": [
       "<strong>Future: sum</strong>\n",
       "<span style=\"color: var(--jp-ui-font-color2, gray)\"> status: </span>\n",
       "\n",
       "\n",
       "<span style=\"color: var(--jp-error-color0, black)\">finished</span>,\n",
       "\n",
       "\n",
       "\n",
       "<span style=\"color: var(--jp-ui-font-color2, gray)\"> type:</span> int,\n",
       "\n",
       "\n",
       "<span style=\"color: var(--jp-ui-font-color2, gray)\"> key:</span> sum-4786aa41-17e6-4928-b8c2-24aa529014a4"
      ],
      "text/plain": [
       "<Future: finished, type: int, key: sum-4786aa41-17e6-4928-b8c2-24aa529014a4>"
      ]
     },
     "execution_count": 44,
     "metadata": {},
     "output_type": "execute_result"
    }
   ],
   "source": [
    "# use the client to compute the result and wait for it to finish\n",
    "future = client.compute(total_number_of_rows)\n",
    "wait(future)\n",
    "future"
   ]
  },
  {
   "cell_type": "markdown",
   "id": "83726f52-9c39-4c22-a040-ddaf11d17a52",
   "metadata": {},
   "source": [
    "We see that our computation has finished - our result is of type int. We can collect our result using the client.gather() method.\n",
    "Vemos que nosso cálculo foi concluído – nosso resultado é do tipo int. Podemos coletar nosso resultado usando o método client.gather()."
   ]
  },
  {
   "cell_type": "code",
   "execution_count": 45,
   "id": "c0c47376-b1e7-4b97-93c9-6e79ef0d75d8",
   "metadata": {},
   "outputs": [
    {
     "data": {
      "text/plain": [
       "125000000"
      ]
     },
     "execution_count": 45,
     "metadata": {},
     "output_type": "execute_result"
    }
   ],
   "source": [
    "# collect result\n",
    "result = client.gather(future)\n",
    "result"
   ]
  },
  {
   "cell_type": "markdown",
   "id": "da8f1763-54d7-471b-b5f3-0686fa56e5dd",
   "metadata": {},
   "source": [
    "That's all there is to it! We can define even more complex operations and workflows using cuDF DataFrames by using the delayed, wait, client.submit(), and client.gather() workflow.\n",
    "\n",
    "However, there can sometimes be a drawback from using this pattern. For example, consider a common operation such as a groupby - we might want to group on certain keys and aggregate the values to compute a mean, variance, or even more complex aggregations. Each dataframe is located on a different GPU - and we're not guaranteed that all of the keys necessary for that groupby operation are located on a single GPU i.e. keys may be scattered across multiple GPUs.\n",
    "\n",
    "To make our problem even more concrete, let's consider the simple operation of grouping on our key column and calculating the mean of the value column. To sovle this problem, we'd have to sort the data and transfer keys and their associated values from one GPU to another - a tricky thing to do using the delayed pattern. In the example below, we'll show an example of this issue with the delayed pattern and motivate why one might consider using the dask_cudf API.\n",
    "\n",
    "First, let's define a function groupby that takes a cudf.DataFrame, groups by the key column, and calculates the mean of the value column.\n",
    "\n",
    "Isso é tudo que há para fazer! Podemos definir operações e fluxos de trabalho ainda mais complexos usando cuDF DataFrames usando o fluxo de trabalho atrasado, de espera, client.submit() e client.gather(). No entanto, às vezes pode haver uma desvantagem no uso desse padrão. Por exemplo, considere uma operação comum como groupby - podemos querer agrupar em determinadas chaves e agregar os valores para calcular uma média, variância ou agregações ainda mais complexas. Cada dataframe está localizado em uma GPU diferente - e não temos garantia de que todas as chaves necessárias para essa operação de agrupamento estejam localizadas em uma única GPU, ou seja, as chaves podem estar espalhadas por várias GPUs. Para tornar nosso problema ainda mais concreto, vamos considerar a operação simples de agrupar em nossa coluna-chave e calcular a média da coluna de valor. Para resolver esse problema, teríamos que classificar os dados e transferir chaves e seus valores associados de uma GPU para outra - algo complicado de fazer usando o padrão atrasado. No exemplo abaixo, mostraremos um exemplo desse problema com o padrão atrasado e motivaremos por que alguém pode considerar o uso da API dask_cudf. Primeiro, vamos definir uma função groupby que pega um cudf.DataFrame, agrupa pela coluna-chave e calcula a média da coluna de valor."
   ]
  },
  {
   "cell_type": "code",
   "execution_count": 46,
   "id": "673306e4-b51e-4a76-8fe0-76549230433f",
   "metadata": {},
   "outputs": [],
   "source": [
    "def groupby(dataframe):\n",
    "    return dataframe.groupby('key')['value'].mean()"
   ]
  },
  {
   "cell_type": "markdown",
   "id": "2f4a62a5-dd21-49aa-bfa8-42bc0ea91df5",
   "metadata": {},
   "source": [
    "We'll apply the function groupby to each dataframe using the delayed operation.\n",
    "Aplicaremos a função groupby a cada dataframe usando a operação atrasada."
   ]
  },
  {
   "cell_type": "code",
   "execution_count": 47,
   "id": "c9adc193-77d1-4067-9df2-97d8045f1a2d",
   "metadata": {},
   "outputs": [],
   "source": [
    "groupbys = [delayed(groupby)(df) for df in dfs]"
   ]
  },
  {
   "cell_type": "code",
   "execution_count": 48,
   "id": "8d6d72fc-f1d0-4d69-bbc1-af88f49e27dc",
   "metadata": {},
   "outputs": [
    {
     "data": {
      "text/plain": [
       "[<Future: finished, type: cudf.core.series.Series, key: groupby-03b5af48-c53f-424f-bebb-06dc1a521cf8>]"
      ]
     },
     "execution_count": 48,
     "metadata": {},
     "output_type": "execute_result"
    }
   ],
   "source": [
    "# use the client to compute the result and wait for it to finish\n",
    "groupby_dfs = client.compute(groupbys)\n",
    "wait(groupby_dfs)\n",
    "groupby_dfs"
   ]
  },
  {
   "cell_type": "code",
   "execution_count": 49,
   "id": "5e547c16-5942-4566-9c1a-22327468aa66",
   "metadata": {},
   "outputs": [
    {
     "data": {
      "text/plain": [
       "[key\n",
       " 0   -0.000173\n",
       " 1   -0.000059\n",
       " Name: value, dtype: float64]"
      ]
     },
     "execution_count": 49,
     "metadata": {},
     "output_type": "execute_result"
    }
   ],
   "source": [
    "results = client.gather(groupby_dfs)\n",
    "results"
   ]
  },
  {
   "cell_type": "code",
   "execution_count": 50,
   "id": "ef96d75c-e238-4b1a-adfa-2470b1e48b1b",
   "metadata": {},
   "outputs": [
    {
     "name": "stdout",
     "output_type": "stream",
     "text": [
      "cuDF DataFrame: 0\n",
      "key\n",
      "0   -0.000173\n",
      "1   -0.000059\n",
      "Name: value, dtype: float64\n"
     ]
    }
   ],
   "source": [
    "for i, result in enumerate(results):\n",
    "    print('cuDF DataFrame:', i)\n",
    "    print(result)"
   ]
  },
  {
   "cell_type": "markdown",
   "id": "08d9da46-2fa7-4061-85b3-4eb887eb3343",
   "metadata": {},
   "source": [
    "This isn't exactly what we wanted though - ideally, we'd get one dataframe where for each unique key (0 and 1), we get the mean of the value column.\n",
    "\n",
    "We can use the dask_cudf API to help up solve this problem. First we'll import the dask_cudf library and then use the dask_cudf.from_delayed function to convert our list of delayed dataframes to an object of type dask_cudf.core.DataFrame. We'll use this object - distributed_df - along with the dask_cudf API to perform that \"tricky\" groupby operation.\n",
    "\n",
    "Porém, isso não é exatamente o que queríamos - idealmente, obteríamos um dataframe onde, para cada chave exclusiva (0 e 1), obteríamos a média da coluna de valor. Podemos usar a API dask_cudf para ajudar a resolver este problema. Primeiro importaremos a biblioteca dask_cudf e depois usaremos a função dask_cudf.from_delayed para converter nossa lista de dataframes atrasados ​​em um objeto do tipo dask_cudf.core.DataFrame. Usaremos este objeto - distribuído_df - junto com a API dask_cudf para realizar aquela operação \"complicada\" de agrupamento."
   ]
  },
  {
   "cell_type": "code",
   "execution_count": null,
   "id": "6f13f25a-09c4-47ce-8522-d93560e7e48c",
   "metadata": {},
   "outputs": [],
   "source": []
  },
  {
   "cell_type": "code",
   "execution_count": 51,
   "id": "bc75d3fa-3485-4056-a547-476ba3c109f7",
   "metadata": {},
   "outputs": [
    {
     "name": "stdout",
     "output_type": "stream",
     "text": [
      "Dask cuDF Version: 24.04.00a546\n",
      "Type: <class 'dask_cudf.core.DataFrame'>\n"
     ]
    },
    {
     "data": {
      "text/html": [
       "<div><strong>Dask DataFrame Structure:</strong></div>\n",
       "<div>\n",
       "<style scoped>\n",
       "    .dataframe tbody tr th:only-of-type {\n",
       "        vertical-align: middle;\n",
       "    }\n",
       "\n",
       "    .dataframe tbody tr th {\n",
       "        vertical-align: top;\n",
       "    }\n",
       "\n",
       "    .dataframe thead th {\n",
       "        text-align: right;\n",
       "    }\n",
       "</style>\n",
       "<table border=\"1\" class=\"dataframe\">\n",
       "  <thead>\n",
       "    <tr style=\"text-align: right;\">\n",
       "      <th></th>\n",
       "      <th>key</th>\n",
       "      <th>value</th>\n",
       "    </tr>\n",
       "    <tr>\n",
       "      <th>npartitions=1</th>\n",
       "      <th></th>\n",
       "      <th></th>\n",
       "    </tr>\n",
       "  </thead>\n",
       "  <tbody>\n",
       "    <tr>\n",
       "      <th></th>\n",
       "      <td>int64</td>\n",
       "      <td>float64</td>\n",
       "    </tr>\n",
       "    <tr>\n",
       "      <th></th>\n",
       "      <td>...</td>\n",
       "      <td>...</td>\n",
       "    </tr>\n",
       "  </tbody>\n",
       "</table>\n",
       "</div>\n",
       "<div>Dask Name: from-delayed, 2 graph layers</div>"
      ],
      "text/plain": [
       "<dask_cudf.DataFrame | 2 tasks | 1 npartitions>"
      ]
     },
     "execution_count": 51,
     "metadata": {},
     "output_type": "execute_result"
    }
   ],
   "source": [
    "import dask_cudf; print('Dask cuDF Version:', dask_cudf.__version__)\n",
    "\n",
    "\n",
    "# create a distributed cuDF DataFrame using Dask\n",
    "distributed_df = dask_cudf.from_delayed(dfs)\n",
    "print('Type:', type(distributed_df))\n",
    "distributed_df"
   ]
  },
  {
   "cell_type": "markdown",
   "id": "bcbb349e-3cdc-4ddf-95c9-df2bbaea7db2",
   "metadata": {},
   "source": [
    "The dask_cudf API closely mirrors the cuDF API. We can use a groupby similar to how we would with cuDF - but this time, our operation is distributed across multiple GPUs!\n",
    "A API dask_cudf reflete de perto a API cuDF. Podemos usar um groupby semelhante ao que faríamos com cuDF - mas desta vez, nossa operação é distribuída por várias GPUs!"
   ]
  },
  {
   "cell_type": "code",
   "execution_count": 53,
   "id": "0dc2f106-d02a-45d8-8e4d-832d09c2d97a",
   "metadata": {},
   "outputs": [
    {
     "name": "stderr",
     "output_type": "stream",
     "text": [
      "2024-03-12 00:22:38,135 - distributed.protocol.pickle - ERROR - Failed to serialize <ToPickle: HighLevelGraph with 4 layers.\n",
      "<dask.highlevelgraph.HighLevelGraph object at 0x7f8e8cdad5d0>\n",
      " 0. load_data-f841e897-3a26-45fb-8278-a9fe8eec0745\n",
      " 1. cudf-aggregate-chunk-41dcd7ba7a1bc472f33db39f4bc8c933-19413bd01f762f01c5fb73c88adbb096\n",
      " 2. cudf-aggregate-agg-41dcd7ba7a1bc472f33db39f4bc8c933\n",
      " 3. getitem-fffbcc671bc01e5e36de0fac89c0df1a\n",
      ">.\n",
      "Traceback (most recent call last):\n",
      "  File \"/home/jcnok/bootcamps/bootcamp-jornada-de-dados_2024/.venv/lib/python3.11/site-packages/distributed/protocol/pickle.py\", line 63, in dumps\n",
      "    result = pickle.dumps(x, **dump_kwargs)\n",
      "             ^^^^^^^^^^^^^^^^^^^^^^^^^^^^^^\n",
      "_pickle.PicklingError: Can't pickle <function _new_Index at 0x7f8ec4559b20>: it's not the same object as pandas.core.indexes.base._new_Index\n",
      "\n",
      "During handling of the above exception, another exception occurred:\n",
      "\n",
      "Traceback (most recent call last):\n",
      "  File \"/home/jcnok/bootcamps/bootcamp-jornada-de-dados_2024/.venv/lib/python3.11/site-packages/distributed/protocol/pickle.py\", line 68, in dumps\n",
      "    pickler.dump(x)\n",
      "_pickle.PicklingError: Can't pickle <function _new_Index at 0x7f8ec4559b20>: it's not the same object as pandas.core.indexes.base._new_Index\n",
      "\n",
      "During handling of the above exception, another exception occurred:\n",
      "\n",
      "Traceback (most recent call last):\n",
      "  File \"/home/jcnok/bootcamps/bootcamp-jornada-de-dados_2024/.venv/lib/python3.11/site-packages/distributed/protocol/pickle.py\", line 81, in dumps\n",
      "    result = cloudpickle.dumps(x, **dump_kwargs)\n",
      "             ^^^^^^^^^^^^^^^^^^^^^^^^^^^^^^^^^^^\n",
      "  File \"/home/jcnok/bootcamps/bootcamp-jornada-de-dados_2024/.venv/lib/python3.11/site-packages/cloudpickle/cloudpickle.py\", line 1479, in dumps\n",
      "    cp.dump(obj)\n",
      "  File \"/home/jcnok/bootcamps/bootcamp-jornada-de-dados_2024/.venv/lib/python3.11/site-packages/cloudpickle/cloudpickle.py\", line 1245, in dump\n",
      "    return super().dump(obj)\n",
      "           ^^^^^^^^^^^^^^^^^\n",
      "_pickle.PicklingError: Can't pickle <cyfunction __pyx_unpickle_CachedProperty at 0x7f8ec55a1e50>: it's not the same object as pandas._libs.properties.__pyx_unpickle_CachedProperty\n"
     ]
    },
    {
     "ename": "TypeError",
     "evalue": "('Could not serialize object of type HighLevelGraph', '<ToPickle: HighLevelGraph with 4 layers.\\n<dask.highlevelgraph.HighLevelGraph object at 0x7f8e8cdad5d0>\\n 0. load_data-f841e897-3a26-45fb-8278-a9fe8eec0745\\n 1. cudf-aggregate-chunk-41dcd7ba7a1bc472f33db39f4bc8c933-19413bd01f762f01c5fb73c88adbb096\\n 2. cudf-aggregate-agg-41dcd7ba7a1bc472f33db39f4bc8c933\\n 3. getitem-fffbcc671bc01e5e36de0fac89c0df1a\\n>')",
     "output_type": "error",
     "traceback": [
      "\u001b[0;31m---------------------------------------------------------------------------\u001b[0m",
      "\u001b[0;31mPicklingError\u001b[0m                             Traceback (most recent call last)",
      "File \u001b[0;32m~/bootcamps/bootcamp-jornada-de-dados_2024/.venv/lib/python3.11/site-packages/distributed/protocol/pickle.py:63\u001b[0m, in \u001b[0;36mdumps\u001b[0;34m(x, buffer_callback, protocol)\u001b[0m\n\u001b[1;32m     62\u001b[0m \u001b[38;5;28;01mtry\u001b[39;00m:\n\u001b[0;32m---> 63\u001b[0m     result \u001b[38;5;241m=\u001b[39m \u001b[43mpickle\u001b[49m\u001b[38;5;241;43m.\u001b[39;49m\u001b[43mdumps\u001b[49m\u001b[43m(\u001b[49m\u001b[43mx\u001b[49m\u001b[43m,\u001b[49m\u001b[43m \u001b[49m\u001b[38;5;241;43m*\u001b[39;49m\u001b[38;5;241;43m*\u001b[39;49m\u001b[43mdump_kwargs\u001b[49m\u001b[43m)\u001b[49m\n\u001b[1;32m     64\u001b[0m \u001b[38;5;28;01mexcept\u001b[39;00m \u001b[38;5;167;01mException\u001b[39;00m:\n",
      "\u001b[0;31mPicklingError\u001b[0m: Can't pickle <function _new_Index at 0x7f8ec4559b20>: it's not the same object as pandas.core.indexes.base._new_Index",
      "\nDuring handling of the above exception, another exception occurred:\n",
      "\u001b[0;31mPicklingError\u001b[0m                             Traceback (most recent call last)",
      "File \u001b[0;32m~/bootcamps/bootcamp-jornada-de-dados_2024/.venv/lib/python3.11/site-packages/distributed/protocol/pickle.py:68\u001b[0m, in \u001b[0;36mdumps\u001b[0;34m(x, buffer_callback, protocol)\u001b[0m\n\u001b[1;32m     67\u001b[0m buffers\u001b[38;5;241m.\u001b[39mclear()\n\u001b[0;32m---> 68\u001b[0m \u001b[43mpickler\u001b[49m\u001b[38;5;241;43m.\u001b[39;49m\u001b[43mdump\u001b[49m\u001b[43m(\u001b[49m\u001b[43mx\u001b[49m\u001b[43m)\u001b[49m\n\u001b[1;32m     69\u001b[0m result \u001b[38;5;241m=\u001b[39m f\u001b[38;5;241m.\u001b[39mgetvalue()\n",
      "\u001b[0;31mPicklingError\u001b[0m: Can't pickle <function _new_Index at 0x7f8ec4559b20>: it's not the same object as pandas.core.indexes.base._new_Index",
      "\nDuring handling of the above exception, another exception occurred:\n",
      "\u001b[0;31mPicklingError\u001b[0m                             Traceback (most recent call last)",
      "File \u001b[0;32m~/bootcamps/bootcamp-jornada-de-dados_2024/.venv/lib/python3.11/site-packages/distributed/protocol/serialize.py:353\u001b[0m, in \u001b[0;36mserialize\u001b[0;34m(x, serializers, on_error, context, iterate_collection)\u001b[0m\n\u001b[1;32m    352\u001b[0m \u001b[38;5;28;01mtry\u001b[39;00m:\n\u001b[0;32m--> 353\u001b[0m     header, frames \u001b[38;5;241m=\u001b[39m \u001b[43mdumps\u001b[49m\u001b[43m(\u001b[49m\u001b[43mx\u001b[49m\u001b[43m,\u001b[49m\u001b[43m \u001b[49m\u001b[43mcontext\u001b[49m\u001b[38;5;241;43m=\u001b[39;49m\u001b[43mcontext\u001b[49m\u001b[43m)\u001b[49m \u001b[38;5;28;01mif\u001b[39;00m wants_context \u001b[38;5;28;01melse\u001b[39;00m dumps(x)\n\u001b[1;32m    354\u001b[0m     header[\u001b[38;5;124m\"\u001b[39m\u001b[38;5;124mserializer\u001b[39m\u001b[38;5;124m\"\u001b[39m] \u001b[38;5;241m=\u001b[39m name\n",
      "File \u001b[0;32m~/bootcamps/bootcamp-jornada-de-dados_2024/.venv/lib/python3.11/site-packages/distributed/protocol/serialize.py:76\u001b[0m, in \u001b[0;36mpickle_dumps\u001b[0;34m(x, context)\u001b[0m\n\u001b[1;32m     74\u001b[0m     writeable\u001b[38;5;241m.\u001b[39mappend(\u001b[38;5;129;01mnot\u001b[39;00m f\u001b[38;5;241m.\u001b[39mreadonly)\n\u001b[0;32m---> 76\u001b[0m frames[\u001b[38;5;241m0\u001b[39m] \u001b[38;5;241m=\u001b[39m \u001b[43mpickle\u001b[49m\u001b[38;5;241;43m.\u001b[39;49m\u001b[43mdumps\u001b[49m\u001b[43m(\u001b[49m\n\u001b[1;32m     77\u001b[0m \u001b[43m    \u001b[49m\u001b[43mx\u001b[49m\u001b[43m,\u001b[49m\n\u001b[1;32m     78\u001b[0m \u001b[43m    \u001b[49m\u001b[43mbuffer_callback\u001b[49m\u001b[38;5;241;43m=\u001b[39;49m\u001b[43mbuffer_callback\u001b[49m\u001b[43m,\u001b[49m\n\u001b[1;32m     79\u001b[0m \u001b[43m    \u001b[49m\u001b[43mprotocol\u001b[49m\u001b[38;5;241;43m=\u001b[39;49m\u001b[43mcontext\u001b[49m\u001b[38;5;241;43m.\u001b[39;49m\u001b[43mget\u001b[49m\u001b[43m(\u001b[49m\u001b[38;5;124;43m\"\u001b[39;49m\u001b[38;5;124;43mpickle-protocol\u001b[39;49m\u001b[38;5;124;43m\"\u001b[39;49m\u001b[43m,\u001b[49m\u001b[43m \u001b[49m\u001b[38;5;28;43;01mNone\u001b[39;49;00m\u001b[43m)\u001b[49m\u001b[43m \u001b[49m\u001b[38;5;28;43;01mif\u001b[39;49;00m\u001b[43m \u001b[49m\u001b[43mcontext\u001b[49m\u001b[43m \u001b[49m\u001b[38;5;28;43;01melse\u001b[39;49;00m\u001b[43m \u001b[49m\u001b[38;5;28;43;01mNone\u001b[39;49;00m\u001b[43m,\u001b[49m\n\u001b[1;32m     80\u001b[0m \u001b[43m\u001b[49m\u001b[43m)\u001b[49m\n\u001b[1;32m     81\u001b[0m header \u001b[38;5;241m=\u001b[39m {\n\u001b[1;32m     82\u001b[0m     \u001b[38;5;124m\"\u001b[39m\u001b[38;5;124mserializer\u001b[39m\u001b[38;5;124m\"\u001b[39m: \u001b[38;5;124m\"\u001b[39m\u001b[38;5;124mpickle\u001b[39m\u001b[38;5;124m\"\u001b[39m,\n\u001b[1;32m     83\u001b[0m     \u001b[38;5;124m\"\u001b[39m\u001b[38;5;124mwriteable\u001b[39m\u001b[38;5;124m\"\u001b[39m: \u001b[38;5;28mtuple\u001b[39m(writeable),\n\u001b[1;32m     84\u001b[0m }\n",
      "File \u001b[0;32m~/bootcamps/bootcamp-jornada-de-dados_2024/.venv/lib/python3.11/site-packages/distributed/protocol/pickle.py:81\u001b[0m, in \u001b[0;36mdumps\u001b[0;34m(x, buffer_callback, protocol)\u001b[0m\n\u001b[1;32m     80\u001b[0m     buffers\u001b[38;5;241m.\u001b[39mclear()\n\u001b[0;32m---> 81\u001b[0m     result \u001b[38;5;241m=\u001b[39m \u001b[43mcloudpickle\u001b[49m\u001b[38;5;241;43m.\u001b[39;49m\u001b[43mdumps\u001b[49m\u001b[43m(\u001b[49m\u001b[43mx\u001b[49m\u001b[43m,\u001b[49m\u001b[43m \u001b[49m\u001b[38;5;241;43m*\u001b[39;49m\u001b[38;5;241;43m*\u001b[39;49m\u001b[43mdump_kwargs\u001b[49m\u001b[43m)\u001b[49m\n\u001b[1;32m     82\u001b[0m \u001b[38;5;28;01mexcept\u001b[39;00m \u001b[38;5;167;01mException\u001b[39;00m:\n",
      "File \u001b[0;32m~/bootcamps/bootcamp-jornada-de-dados_2024/.venv/lib/python3.11/site-packages/cloudpickle/cloudpickle.py:1479\u001b[0m, in \u001b[0;36mdumps\u001b[0;34m(obj, protocol, buffer_callback)\u001b[0m\n\u001b[1;32m   1478\u001b[0m cp \u001b[38;5;241m=\u001b[39m Pickler(file, protocol\u001b[38;5;241m=\u001b[39mprotocol, buffer_callback\u001b[38;5;241m=\u001b[39mbuffer_callback)\n\u001b[0;32m-> 1479\u001b[0m \u001b[43mcp\u001b[49m\u001b[38;5;241;43m.\u001b[39;49m\u001b[43mdump\u001b[49m\u001b[43m(\u001b[49m\u001b[43mobj\u001b[49m\u001b[43m)\u001b[49m\n\u001b[1;32m   1480\u001b[0m \u001b[38;5;28;01mreturn\u001b[39;00m file\u001b[38;5;241m.\u001b[39mgetvalue()\n",
      "File \u001b[0;32m~/bootcamps/bootcamp-jornada-de-dados_2024/.venv/lib/python3.11/site-packages/cloudpickle/cloudpickle.py:1245\u001b[0m, in \u001b[0;36mPickler.dump\u001b[0;34m(self, obj)\u001b[0m\n\u001b[1;32m   1244\u001b[0m \u001b[38;5;28;01mtry\u001b[39;00m:\n\u001b[0;32m-> 1245\u001b[0m     \u001b[38;5;28;01mreturn\u001b[39;00m \u001b[38;5;28msuper\u001b[39m()\u001b[38;5;241m.\u001b[39mdump(obj)\n\u001b[1;32m   1246\u001b[0m \u001b[38;5;28;01mexcept\u001b[39;00m \u001b[38;5;167;01mRuntimeError\u001b[39;00m \u001b[38;5;28;01mas\u001b[39;00m e:\n",
      "\u001b[0;31mPicklingError\u001b[0m: Can't pickle <cyfunction __pyx_unpickle_CachedProperty at 0x7f8ec55a1e50>: it's not the same object as pandas._libs.properties.__pyx_unpickle_CachedProperty",
      "\nThe above exception was the direct cause of the following exception:\n",
      "\u001b[0;31mTypeError\u001b[0m                                 Traceback (most recent call last)",
      "Cell \u001b[0;32mIn[53], line 1\u001b[0m\n\u001b[0;32m----> 1\u001b[0m result \u001b[38;5;241m=\u001b[39m \u001b[43mdistributed_df\u001b[49m\u001b[38;5;241;43m.\u001b[39;49m\u001b[43mgroupby\u001b[49m\u001b[43m(\u001b[49m\u001b[38;5;124;43m'\u001b[39;49m\u001b[38;5;124;43mkey\u001b[39;49m\u001b[38;5;124;43m'\u001b[39;49m\u001b[43m)\u001b[49m\u001b[43m[\u001b[49m\u001b[38;5;124;43m'\u001b[39;49m\u001b[38;5;124;43mvalue\u001b[39;49m\u001b[38;5;124;43m'\u001b[39;49m\u001b[43m]\u001b[49m\u001b[38;5;241;43m.\u001b[39;49m\u001b[43mmean\u001b[49m\u001b[43m(\u001b[49m\u001b[43m)\u001b[49m\u001b[38;5;241;43m.\u001b[39;49m\u001b[43mcompute\u001b[49m\u001b[43m(\u001b[49m\u001b[43m)\u001b[49m\n\u001b[1;32m      2\u001b[0m result\n",
      "File \u001b[0;32m~/bootcamps/bootcamp-jornada-de-dados_2024/.venv/lib/python3.11/site-packages/dask/base.py:379\u001b[0m, in \u001b[0;36mDaskMethodsMixin.compute\u001b[0;34m(self, **kwargs)\u001b[0m\n\u001b[1;32m    355\u001b[0m \u001b[38;5;28;01mdef\u001b[39;00m \u001b[38;5;21mcompute\u001b[39m(\u001b[38;5;28mself\u001b[39m, \u001b[38;5;241m*\u001b[39m\u001b[38;5;241m*\u001b[39mkwargs):\n\u001b[1;32m    356\u001b[0m \u001b[38;5;250m    \u001b[39m\u001b[38;5;124;03m\"\"\"Compute this dask collection\u001b[39;00m\n\u001b[1;32m    357\u001b[0m \n\u001b[1;32m    358\u001b[0m \u001b[38;5;124;03m    This turns a lazy Dask collection into its in-memory equivalent.\u001b[39;00m\n\u001b[0;32m   (...)\u001b[0m\n\u001b[1;32m    377\u001b[0m \u001b[38;5;124;03m    dask.compute\u001b[39;00m\n\u001b[1;32m    378\u001b[0m \u001b[38;5;124;03m    \"\"\"\u001b[39;00m\n\u001b[0;32m--> 379\u001b[0m     (result,) \u001b[38;5;241m=\u001b[39m \u001b[43mcompute\u001b[49m\u001b[43m(\u001b[49m\u001b[38;5;28;43mself\u001b[39;49m\u001b[43m,\u001b[49m\u001b[43m \u001b[49m\u001b[43mtraverse\u001b[49m\u001b[38;5;241;43m=\u001b[39;49m\u001b[38;5;28;43;01mFalse\u001b[39;49;00m\u001b[43m,\u001b[49m\u001b[43m \u001b[49m\u001b[38;5;241;43m*\u001b[39;49m\u001b[38;5;241;43m*\u001b[39;49m\u001b[43mkwargs\u001b[49m\u001b[43m)\u001b[49m\n\u001b[1;32m    380\u001b[0m     \u001b[38;5;28;01mreturn\u001b[39;00m result\n",
      "File \u001b[0;32m~/bootcamps/bootcamp-jornada-de-dados_2024/.venv/lib/python3.11/site-packages/dask/base.py:665\u001b[0m, in \u001b[0;36mcompute\u001b[0;34m(traverse, optimize_graph, scheduler, get, *args, **kwargs)\u001b[0m\n\u001b[1;32m    662\u001b[0m     postcomputes\u001b[38;5;241m.\u001b[39mappend(x\u001b[38;5;241m.\u001b[39m__dask_postcompute__())\n\u001b[1;32m    664\u001b[0m \u001b[38;5;28;01mwith\u001b[39;00m shorten_traceback():\n\u001b[0;32m--> 665\u001b[0m     results \u001b[38;5;241m=\u001b[39m \u001b[43mschedule\u001b[49m\u001b[43m(\u001b[49m\u001b[43mdsk\u001b[49m\u001b[43m,\u001b[49m\u001b[43m \u001b[49m\u001b[43mkeys\u001b[49m\u001b[43m,\u001b[49m\u001b[43m \u001b[49m\u001b[38;5;241;43m*\u001b[39;49m\u001b[38;5;241;43m*\u001b[39;49m\u001b[43mkwargs\u001b[49m\u001b[43m)\u001b[49m\n\u001b[1;32m    667\u001b[0m \u001b[38;5;28;01mreturn\u001b[39;00m repack([f(r, \u001b[38;5;241m*\u001b[39ma) \u001b[38;5;28;01mfor\u001b[39;00m r, (f, a) \u001b[38;5;129;01min\u001b[39;00m \u001b[38;5;28mzip\u001b[39m(results, postcomputes)])\n",
      "File \u001b[0;32m~/bootcamps/bootcamp-jornada-de-dados_2024/.venv/lib/python3.11/site-packages/distributed/protocol/serialize.py:379\u001b[0m, in \u001b[0;36mserialize\u001b[0;34m(x, serializers, on_error, context, iterate_collection)\u001b[0m\n\u001b[1;32m    377\u001b[0m     \u001b[38;5;28;01mexcept\u001b[39;00m \u001b[38;5;167;01mException\u001b[39;00m:\n\u001b[1;32m    378\u001b[0m         \u001b[38;5;28;01mraise\u001b[39;00m \u001b[38;5;167;01mTypeError\u001b[39;00m(msg) \u001b[38;5;28;01mfrom\u001b[39;00m \u001b[38;5;21;01mexc\u001b[39;00m\n\u001b[0;32m--> 379\u001b[0m     \u001b[38;5;28;01mraise\u001b[39;00m \u001b[38;5;167;01mTypeError\u001b[39;00m(msg, str_x) \u001b[38;5;28;01mfrom\u001b[39;00m \u001b[38;5;21;01mexc\u001b[39;00m\n\u001b[1;32m    380\u001b[0m \u001b[38;5;28;01melse\u001b[39;00m:  \u001b[38;5;66;03m# pragma: nocover\u001b[39;00m\n\u001b[1;32m    381\u001b[0m     \u001b[38;5;28;01mraise\u001b[39;00m \u001b[38;5;167;01mValueError\u001b[39;00m(\u001b[38;5;124mf\u001b[39m\u001b[38;5;124m\"\u001b[39m\u001b[38;5;132;01m{\u001b[39;00mon_error\u001b[38;5;132;01m=}\u001b[39;00m\u001b[38;5;124m; expected \u001b[39m\u001b[38;5;124m'\u001b[39m\u001b[38;5;124mmessage\u001b[39m\u001b[38;5;124m'\u001b[39m\u001b[38;5;124m or \u001b[39m\u001b[38;5;124m'\u001b[39m\u001b[38;5;124mraise\u001b[39m\u001b[38;5;124m'\u001b[39m\u001b[38;5;124m\"\u001b[39m)\n",
      "\u001b[0;31mTypeError\u001b[0m: ('Could not serialize object of type HighLevelGraph', '<ToPickle: HighLevelGraph with 4 layers.\\n<dask.highlevelgraph.HighLevelGraph object at 0x7f8e8cdad5d0>\\n 0. load_data-f841e897-3a26-45fb-8278-a9fe8eec0745\\n 1. cudf-aggregate-chunk-41dcd7ba7a1bc472f33db39f4bc8c933-19413bd01f762f01c5fb73c88adbb096\\n 2. cudf-aggregate-agg-41dcd7ba7a1bc472f33db39f4bc8c933\\n 3. getitem-fffbcc671bc01e5e36de0fac89c0df1a\\n>')"
     ]
    }
   ],
   "source": [
    "result = distributed_df.groupby('key')['value'].mean().compute()\n",
    "result"
   ]
  },
  {
   "cell_type": "markdown",
   "id": "59a9ea14-bacc-420c-89ac-ec61c5ed026e",
   "metadata": {},
   "source": [
    "Lastly, let's examine our result!\n",
    "\n",
    "Por último, vamos examinar nosso resultado!"
   ]
  },
  {
   "cell_type": "code",
   "execution_count": 54,
   "id": "7cdf7f68-b0fa-4832-ba4a-6917a6fe3ff1",
   "metadata": {},
   "outputs": [
    {
     "name": "stdout",
     "output_type": "stream",
     "text": [
      "key\n",
      "0   -0.000173\n",
      "1   -0.000059\n",
      "Name: value, dtype: float64\n"
     ]
    }
   ],
   "source": [
    "print(result)"
   ]
  },
  {
   "cell_type": "code",
   "execution_count": null,
   "id": "bcc1a5ee-14cb-40e8-96d9-2f2f905b7c63",
   "metadata": {},
   "outputs": [],
   "source": []
  },
  {
   "cell_type": "code",
   "execution_count": null,
   "id": "1cfe0a55-3a71-4e3c-bfbe-8c05f0f48dd6",
   "metadata": {},
   "outputs": [],
   "source": []
  },
  {
   "cell_type": "code",
   "execution_count": 6,
   "id": "b6e92dc5-65f9-4f3b-9385-a76fd9c2fa54",
   "metadata": {},
   "outputs": [
    {
     "name": "stdout",
     "output_type": "stream",
     "text": [
      "The cudf.pandas extension is already loaded. To reload it, use:\n",
      "  %reload_ext cudf.pandas\n",
      "        station  measure\n",
      "0       Mankono    -63.9\n",
      "1       Cartaxo    -79.4\n",
      "2        Valera    -89.3\n",
      "3  Borgentreich     -1.9\n",
      "4       Tulunan     15.3\n",
      "               station  measure\n",
      "10000000        Bà Rịa    -99.7\n",
      "10000001       Manafwa    -84.6\n",
      "10000002  Corfe Mullen     86.0\n",
      "10000003     Rāmhormoz    -18.1\n",
      "10000004        Gwadar    -86.4\n",
      "                 station  measure\n",
      "20000000      North Port     -0.9\n",
      "20000001  Nacozari Viejo    -74.4\n",
      "20000002     Vsevolozhsk    -41.5\n",
      "20000003        Vrchlabí     81.9\n",
      "20000004        Jangipur      8.6\n",
      "             station  measure\n",
      "30000000  Mittahalli     87.2\n",
      "30000001  Dharampuri    -10.2\n",
      "30000002    Jaguarão    -62.6\n",
      "30000003   Uriangato     46.0\n",
      "30000004    Mutukula    -41.9\n",
      "                    station  measure\n",
      "40000000  Palmares Paulista    -31.2\n",
      "40000001             Arinos     74.7\n",
      "40000002         Centereach     85.4\n",
      "40000003              Yaupi    -80.8\n",
      "40000004          Nawāshahr    -19.5\n",
      "               station  measure\n",
      "50000000   Doranahalli    -76.5\n",
      "50000001        Beckum     -5.3\n",
      "50000002   Bad Wurzach     96.9\n",
      "50000003  Vilāttikulam    -52.7\n",
      "50000004      Khagaria     25.1\n",
      "                 station  measure\n",
      "60000000         Shawnee     13.4\n",
      "60000001     Fraserburgh    -62.1\n",
      "60000002  Mount Prospect     40.5\n",
      "60000003        Bālkonda    -11.6\n",
      "60000004        Botucatu    -37.2\n",
      "                           station  measure\n",
      "70000000                Haqqulobod    -97.0\n",
      "70000001  San Juan de Aznalfarache    -63.0\n",
      "70000002  San Andrés de Llevaneras     -3.5\n",
      "70000003                      Eruh    -87.4\n",
      "70000004                     Wezep     49.3\n",
      "                 station  measure\n",
      "80000000  Shangzhuangcun    -23.8\n",
      "80000001        Chocamán    -28.3\n",
      "80000002         Yanggao     -2.4\n",
      "80000003     Xinzhaidian    -25.9\n",
      "80000004         Katagon     87.8\n",
      "              station  measure\n",
      "90000000       Skopin     -4.4\n",
      "90000001   Villanueva    -23.8\n",
      "90000002       Roznov    -66.2\n",
      "90000003  Pierrelatte    -20.7\n",
      "90000004        Yakou     38.6\n",
      "                   station  measure\n",
      "100000000             Elma     13.0\n",
      "100000001          Podolsk    -11.0\n",
      "100000002          Zimapan     30.1\n",
      "100000003             Albi    -30.9\n",
      "100000004  Bandar-e Deylam     25.7\n",
      "                   station  measure\n",
      "110000000              Pau    -14.5\n",
      "110000001           Kobilo    -30.6\n",
      "110000002  North Glengarry     38.9\n",
      "110000003         Akureyri     67.7\n",
      "110000004           Valley    -20.3\n"
     ]
    },
    {
     "ename": "KeyboardInterrupt",
     "evalue": "",
     "output_type": "error",
     "traceback": [
      "\u001b[0;31m---------------------------------------------------------------------------\u001b[0m",
      "\u001b[0;31mKeyboardInterrupt\u001b[0m                         Traceback (most recent call last)",
      "Cell \u001b[0;32mIn[6], line 17\u001b[0m\n\u001b[1;32m     13\u001b[0m \u001b[38;5;66;03m# Itere sobre os lotes\u001b[39;00m\n\u001b[1;32m     14\u001b[0m \u001b[38;5;28;01mfor\u001b[39;00m chunk \u001b[38;5;129;01min\u001b[39;00m iterator:\n\u001b[1;32m     15\u001b[0m     \u001b[38;5;66;03m# Faça o processamento necessário para cada lote\u001b[39;00m\n\u001b[1;32m     16\u001b[0m     \u001b[38;5;66;03m# Por exemplo, calcule estatísticas, limpeza de dados, etc.\u001b[39;00m\n\u001b[0;32m---> 17\u001b[0m     \u001b[38;5;28mprint\u001b[39m(\u001b[43mchunk\u001b[49m\u001b[38;5;241;43m.\u001b[39;49m\u001b[43mhead\u001b[49m())  \u001b[38;5;66;03m# Exemplo: exibe as primeiras linhas de cada lote\u001b[39;00m\n",
      "File \u001b[0;32m~/bootcamps/bootcamp-jornada-de-dados_2024/.venv/lib/python3.11/site-packages/cudf/pandas/fast_slow_proxy.py:594\u001b[0m, in \u001b[0;36m_FastSlowProxy.__getattr__\u001b[0;34m(self, name)\u001b[0m\n\u001b[1;32m    592\u001b[0m     \u001b[38;5;28;01mreturn\u001b[39;00m _wrapped_private_slow\n\u001b[1;32m    593\u001b[0m attr \u001b[38;5;241m=\u001b[39m _FastSlowAttribute(name)\n\u001b[0;32m--> 594\u001b[0m \u001b[38;5;28;01mreturn\u001b[39;00m \u001b[43mattr\u001b[49m\u001b[38;5;241;43m.\u001b[39;49m\u001b[38;5;21;43m__get__\u001b[39;49m\u001b[43m(\u001b[49m\u001b[38;5;28;43mself\u001b[39;49m\u001b[43m)\u001b[49m\n",
      "File \u001b[0;32m~/bootcamps/bootcamp-jornada-de-dados_2024/.venv/lib/python3.11/site-packages/cudf/pandas/fast_slow_proxy.py:417\u001b[0m, in \u001b[0;36m_FastSlowAttribute.__get__\u001b[0;34m(self, obj, owner)\u001b[0m\n\u001b[1;32m    408\u001b[0m \u001b[38;5;28;01mif\u001b[39;00m \u001b[38;5;129;01mnot\u001b[39;00m (\n\u001b[1;32m    409\u001b[0m     \u001b[38;5;28misinstance\u001b[39m(obj, _FastSlowProxy)\n\u001b[1;32m    410\u001b[0m     \u001b[38;5;129;01mor\u001b[39;00m \u001b[38;5;28missubclass\u001b[39m(\u001b[38;5;28mtype\u001b[39m(obj), _FastSlowProxyMeta)\n\u001b[0;32m   (...)\u001b[0m\n\u001b[1;32m    413\u001b[0m     \u001b[38;5;66;03m# fast/slow objects for instances of _FastSlowProxy or\u001b[39;00m\n\u001b[1;32m    414\u001b[0m     \u001b[38;5;66;03m# subtypes of _FastSlowProxyMeta:\u001b[39;00m\n\u001b[1;32m    415\u001b[0m     _raise_attribute_error(owner \u001b[38;5;28;01mif\u001b[39;00m owner \u001b[38;5;28;01melse\u001b[39;00m obj, \u001b[38;5;28mself\u001b[39m\u001b[38;5;241m.\u001b[39m_name)\n\u001b[0;32m--> 417\u001b[0m result, _ \u001b[38;5;241m=\u001b[39m \u001b[43m_fast_slow_function_call\u001b[49m\u001b[43m(\u001b[49m\u001b[38;5;28;43mgetattr\u001b[39;49m\u001b[43m,\u001b[49m\u001b[43m \u001b[49m\u001b[43mobj\u001b[49m\u001b[43m,\u001b[49m\u001b[43m \u001b[49m\u001b[38;5;28;43mself\u001b[39;49m\u001b[38;5;241;43m.\u001b[39;49m\u001b[43m_name\u001b[49m\u001b[43m)\u001b[49m\n\u001b[1;32m    419\u001b[0m \u001b[38;5;28;01mif\u001b[39;00m \u001b[38;5;28misinstance\u001b[39m(result, functools\u001b[38;5;241m.\u001b[39mcached_property):\n\u001b[1;32m    420\u001b[0m     \u001b[38;5;66;03m# TODO: temporary workaround until dask is able\u001b[39;00m\n\u001b[1;32m    421\u001b[0m     \u001b[38;5;66;03m# to correctly inspect cached_property objects.\u001b[39;00m\n\u001b[1;32m    422\u001b[0m     \u001b[38;5;66;03m# GH: 264\u001b[39;00m\n\u001b[1;32m    423\u001b[0m     result \u001b[38;5;241m=\u001b[39m \u001b[38;5;28mproperty\u001b[39m(result\u001b[38;5;241m.\u001b[39mfunc)\n",
      "File \u001b[0;32m~/bootcamps/bootcamp-jornada-de-dados_2024/.venv/lib/python3.11/site-packages/cudf/pandas/fast_slow_proxy.py:890\u001b[0m, in \u001b[0;36m_fast_slow_function_call\u001b[0;34m(func, *args, **kwargs)\u001b[0m\n\u001b[1;32m    884\u001b[0m \u001b[38;5;28;01mtry\u001b[39;00m:\n\u001b[1;32m    885\u001b[0m     \u001b[38;5;28;01mwith\u001b[39;00m nvtx\u001b[38;5;241m.\u001b[39mannotate(\n\u001b[1;32m    886\u001b[0m         \u001b[38;5;124m\"\u001b[39m\u001b[38;5;124mEXECUTE_FAST\u001b[39m\u001b[38;5;124m\"\u001b[39m,\n\u001b[1;32m    887\u001b[0m         color\u001b[38;5;241m=\u001b[39m_CUDF_PANDAS_NVTX_COLORS[\u001b[38;5;124m\"\u001b[39m\u001b[38;5;124mEXECUTE_FAST\u001b[39m\u001b[38;5;124m\"\u001b[39m],\n\u001b[1;32m    888\u001b[0m         domain\u001b[38;5;241m=\u001b[39m\u001b[38;5;124m\"\u001b[39m\u001b[38;5;124mcudf_pandas\u001b[39m\u001b[38;5;124m\"\u001b[39m,\n\u001b[1;32m    889\u001b[0m     ):\n\u001b[0;32m--> 890\u001b[0m         fast_args, fast_kwargs \u001b[38;5;241m=\u001b[39m \u001b[43m_fast_arg\u001b[49m\u001b[43m(\u001b[49m\u001b[43margs\u001b[49m\u001b[43m)\u001b[49m, _fast_arg(kwargs)\n\u001b[1;32m    891\u001b[0m         result \u001b[38;5;241m=\u001b[39m func(\u001b[38;5;241m*\u001b[39mfast_args, \u001b[38;5;241m*\u001b[39m\u001b[38;5;241m*\u001b[39mfast_kwargs)\n\u001b[1;32m    892\u001b[0m         \u001b[38;5;28;01mif\u001b[39;00m result \u001b[38;5;129;01mis\u001b[39;00m \u001b[38;5;28mNotImplemented\u001b[39m:\n\u001b[1;32m    893\u001b[0m             \u001b[38;5;66;03m# try slow path\u001b[39;00m\n",
      "File \u001b[0;32m~/bootcamps/bootcamp-jornada-de-dados_2024/.venv/lib/python3.11/site-packages/cudf/pandas/fast_slow_proxy.py:1009\u001b[0m, in \u001b[0;36m_fast_arg\u001b[0;34m(arg)\u001b[0m\n\u001b[1;32m   1005\u001b[0m \u001b[38;5;250m\u001b[39m\u001b[38;5;124;03m\"\"\"\u001b[39;00m\n\u001b[1;32m   1006\u001b[0m \u001b[38;5;124;03mTransform \"arg\" into its corresponding fast type.\u001b[39;00m\n\u001b[1;32m   1007\u001b[0m \u001b[38;5;124;03m\"\"\"\u001b[39;00m\n\u001b[1;32m   1008\u001b[0m seen: Set[\u001b[38;5;28mint\u001b[39m] \u001b[38;5;241m=\u001b[39m \u001b[38;5;28mset\u001b[39m()\n\u001b[0;32m-> 1009\u001b[0m \u001b[38;5;28;01mreturn\u001b[39;00m \u001b[43m_transform_arg\u001b[49m\u001b[43m(\u001b[49m\u001b[43marg\u001b[49m\u001b[43m,\u001b[49m\u001b[43m \u001b[49m\u001b[38;5;124;43m\"\u001b[39;49m\u001b[38;5;124;43m_fsproxy_fast\u001b[39;49m\u001b[38;5;124;43m\"\u001b[39;49m\u001b[43m,\u001b[49m\u001b[43m \u001b[49m\u001b[43mseen\u001b[49m\u001b[43m)\u001b[49m\n",
      "File \u001b[0;32m~/bootcamps/bootcamp-jornada-de-dados_2024/.venv/lib/python3.11/site-packages/cudf/pandas/fast_slow_proxy.py:936\u001b[0m, in \u001b[0;36m_transform_arg\u001b[0;34m(arg, attribute_name, seen)\u001b[0m\n\u001b[1;32m    927\u001b[0m \u001b[38;5;28;01melif\u001b[39;00m \u001b[38;5;28misinstance\u001b[39m(arg, \u001b[38;5;28mtuple\u001b[39m):\n\u001b[1;32m    928\u001b[0m     \u001b[38;5;66;03m# This attempts to handle arbitrary subclasses of tuple by\u001b[39;00m\n\u001b[1;32m    929\u001b[0m     \u001b[38;5;66;03m# assuming that if you've subclassed tuple with some special\u001b[39;00m\n\u001b[0;32m   (...)\u001b[0m\n\u001b[1;32m    932\u001b[0m     \u001b[38;5;66;03m# __getnewargs_ex__ or __getnewargs__). Perhaps this should\u001b[39;00m\n\u001b[1;32m    933\u001b[0m     \u001b[38;5;66;03m# use __reduce_ex__ instead...\u001b[39;00m\n\u001b[1;32m    934\u001b[0m     \u001b[38;5;28;01mif\u001b[39;00m \u001b[38;5;28mtype\u001b[39m(arg) \u001b[38;5;129;01mis\u001b[39;00m \u001b[38;5;28mtuple\u001b[39m:\n\u001b[1;32m    935\u001b[0m         \u001b[38;5;66;03m# Must come first to avoid infinite recursion\u001b[39;00m\n\u001b[0;32m--> 936\u001b[0m         \u001b[38;5;28;01mreturn\u001b[39;00m \u001b[38;5;28mtuple\u001b[39m(_transform_arg(a, attribute_name, seen) \u001b[38;5;28;01mfor\u001b[39;00m a \u001b[38;5;129;01min\u001b[39;00m arg)\n\u001b[1;32m    937\u001b[0m     \u001b[38;5;28;01melif\u001b[39;00m \u001b[38;5;28mhasattr\u001b[39m(arg, \u001b[38;5;124m\"\u001b[39m\u001b[38;5;124m__getnewargs_ex__\u001b[39m\u001b[38;5;124m\"\u001b[39m):\n\u001b[1;32m    938\u001b[0m         \u001b[38;5;66;03m# Partial implementation of to reconstruct with\u001b[39;00m\n\u001b[1;32m    939\u001b[0m         \u001b[38;5;66;03m# transformed pieces\u001b[39;00m\n\u001b[1;32m    940\u001b[0m         \u001b[38;5;66;03m# This handles scipy._lib._bunch._make_tuple_bunch\u001b[39;00m\n\u001b[1;32m    941\u001b[0m         args, kwargs \u001b[38;5;241m=\u001b[39m (\n\u001b[1;32m    942\u001b[0m             _transform_arg(a, attribute_name, seen)\n\u001b[1;32m    943\u001b[0m             \u001b[38;5;28;01mfor\u001b[39;00m a \u001b[38;5;129;01min\u001b[39;00m arg\u001b[38;5;241m.\u001b[39m__getnewargs_ex__()\n\u001b[1;32m    944\u001b[0m         )\n",
      "File \u001b[0;32m~/bootcamps/bootcamp-jornada-de-dados_2024/.venv/lib/python3.11/site-packages/cudf/pandas/fast_slow_proxy.py:936\u001b[0m, in \u001b[0;36m<genexpr>\u001b[0;34m(.0)\u001b[0m\n\u001b[1;32m    927\u001b[0m \u001b[38;5;28;01melif\u001b[39;00m \u001b[38;5;28misinstance\u001b[39m(arg, \u001b[38;5;28mtuple\u001b[39m):\n\u001b[1;32m    928\u001b[0m     \u001b[38;5;66;03m# This attempts to handle arbitrary subclasses of tuple by\u001b[39;00m\n\u001b[1;32m    929\u001b[0m     \u001b[38;5;66;03m# assuming that if you've subclassed tuple with some special\u001b[39;00m\n\u001b[0;32m   (...)\u001b[0m\n\u001b[1;32m    932\u001b[0m     \u001b[38;5;66;03m# __getnewargs_ex__ or __getnewargs__). Perhaps this should\u001b[39;00m\n\u001b[1;32m    933\u001b[0m     \u001b[38;5;66;03m# use __reduce_ex__ instead...\u001b[39;00m\n\u001b[1;32m    934\u001b[0m     \u001b[38;5;28;01mif\u001b[39;00m \u001b[38;5;28mtype\u001b[39m(arg) \u001b[38;5;129;01mis\u001b[39;00m \u001b[38;5;28mtuple\u001b[39m:\n\u001b[1;32m    935\u001b[0m         \u001b[38;5;66;03m# Must come first to avoid infinite recursion\u001b[39;00m\n\u001b[0;32m--> 936\u001b[0m         \u001b[38;5;28;01mreturn\u001b[39;00m \u001b[38;5;28mtuple\u001b[39m(\u001b[43m_transform_arg\u001b[49m\u001b[43m(\u001b[49m\u001b[43ma\u001b[49m\u001b[43m,\u001b[49m\u001b[43m \u001b[49m\u001b[43mattribute_name\u001b[49m\u001b[43m,\u001b[49m\u001b[43m \u001b[49m\u001b[43mseen\u001b[49m\u001b[43m)\u001b[49m \u001b[38;5;28;01mfor\u001b[39;00m a \u001b[38;5;129;01min\u001b[39;00m arg)\n\u001b[1;32m    937\u001b[0m     \u001b[38;5;28;01melif\u001b[39;00m \u001b[38;5;28mhasattr\u001b[39m(arg, \u001b[38;5;124m\"\u001b[39m\u001b[38;5;124m__getnewargs_ex__\u001b[39m\u001b[38;5;124m\"\u001b[39m):\n\u001b[1;32m    938\u001b[0m         \u001b[38;5;66;03m# Partial implementation of to reconstruct with\u001b[39;00m\n\u001b[1;32m    939\u001b[0m         \u001b[38;5;66;03m# transformed pieces\u001b[39;00m\n\u001b[1;32m    940\u001b[0m         \u001b[38;5;66;03m# This handles scipy._lib._bunch._make_tuple_bunch\u001b[39;00m\n\u001b[1;32m    941\u001b[0m         args, kwargs \u001b[38;5;241m=\u001b[39m (\n\u001b[1;32m    942\u001b[0m             _transform_arg(a, attribute_name, seen)\n\u001b[1;32m    943\u001b[0m             \u001b[38;5;28;01mfor\u001b[39;00m a \u001b[38;5;129;01min\u001b[39;00m arg\u001b[38;5;241m.\u001b[39m__getnewargs_ex__()\n\u001b[1;32m    944\u001b[0m         )\n",
      "File \u001b[0;32m~/bootcamps/bootcamp-jornada-de-dados_2024/.venv/lib/python3.11/site-packages/cudf/pandas/fast_slow_proxy.py:919\u001b[0m, in \u001b[0;36m_transform_arg\u001b[0;34m(arg, attribute_name, seen)\u001b[0m\n\u001b[1;32m    916\u001b[0m \u001b[38;5;28;01mimport\u001b[39;00m \u001b[38;5;21;01mnumpy\u001b[39;00m \u001b[38;5;28;01mas\u001b[39;00m \u001b[38;5;21;01mnp\u001b[39;00m\n\u001b[1;32m    918\u001b[0m \u001b[38;5;28;01mif\u001b[39;00m \u001b[38;5;28misinstance\u001b[39m(arg, (_FastSlowProxy, _FastSlowProxyMeta, _FunctionProxy)):\n\u001b[0;32m--> 919\u001b[0m     typ \u001b[38;5;241m=\u001b[39m \u001b[38;5;28mgetattr\u001b[39m(arg, attribute_name)\n\u001b[1;32m    920\u001b[0m     \u001b[38;5;28;01mif\u001b[39;00m typ \u001b[38;5;129;01mis\u001b[39;00m _Unusable:\n\u001b[1;32m    921\u001b[0m         \u001b[38;5;28;01mraise\u001b[39;00m \u001b[38;5;167;01mException\u001b[39;00m(\u001b[38;5;124m\"\u001b[39m\u001b[38;5;124mCannot transform _Unusable\u001b[39m\u001b[38;5;124m\"\u001b[39m)\n",
      "File \u001b[0;32m~/bootcamps/bootcamp-jornada-de-dados_2024/.venv/lib/python3.11/site-packages/cudf/pandas/fast_slow_proxy.py:530\u001b[0m, in \u001b[0;36m_FastSlowProxy._fsproxy_fast\u001b[0;34m(self)\u001b[0m\n\u001b[1;32m    523\u001b[0m \u001b[38;5;129m@property\u001b[39m\n\u001b[1;32m    524\u001b[0m \u001b[38;5;28;01mdef\u001b[39;00m \u001b[38;5;21m_fsproxy_fast\u001b[39m(\u001b[38;5;28mself\u001b[39m) \u001b[38;5;241m-\u001b[39m\u001b[38;5;241m>\u001b[39m Any:\n\u001b[1;32m    525\u001b[0m \u001b[38;5;250m    \u001b[39m\u001b[38;5;124;03m\"\"\"\u001b[39;00m\n\u001b[1;32m    526\u001b[0m \u001b[38;5;124;03m    Returns the wrapped object. If the wrapped object is of \"slow\"\u001b[39;00m\n\u001b[1;32m    527\u001b[0m \u001b[38;5;124;03m    type, replaces it with the corresponding \"fast\" object before\u001b[39;00m\n\u001b[1;32m    528\u001b[0m \u001b[38;5;124;03m    returning it.\u001b[39;00m\n\u001b[1;32m    529\u001b[0m \u001b[38;5;124;03m    \"\"\"\u001b[39;00m\n\u001b[0;32m--> 530\u001b[0m     \u001b[38;5;28mself\u001b[39m\u001b[38;5;241m.\u001b[39m_fsproxy_wrapped \u001b[38;5;241m=\u001b[39m \u001b[38;5;28;43mself\u001b[39;49m\u001b[38;5;241;43m.\u001b[39;49m\u001b[43m_fsproxy_slow_to_fast\u001b[49m\u001b[43m(\u001b[49m\u001b[43m)\u001b[49m\n\u001b[1;32m    531\u001b[0m     \u001b[38;5;28;01mreturn\u001b[39;00m \u001b[38;5;28mself\u001b[39m\u001b[38;5;241m.\u001b[39m_fsproxy_wrapped\n",
      "File \u001b[0;32m~/bootcamps/bootcamp-jornada-de-dados_2024/.venv/lib/python3.11/site-packages/nvtx/nvtx.py:116\u001b[0m, in \u001b[0;36mannotate.__call__.<locals>.inner\u001b[0;34m(*args, **kwargs)\u001b[0m\n\u001b[1;32m    113\u001b[0m \u001b[38;5;129m@wraps\u001b[39m(func)\n\u001b[1;32m    114\u001b[0m \u001b[38;5;28;01mdef\u001b[39;00m \u001b[38;5;21minner\u001b[39m(\u001b[38;5;241m*\u001b[39margs, \u001b[38;5;241m*\u001b[39m\u001b[38;5;241m*\u001b[39mkwargs):\n\u001b[1;32m    115\u001b[0m     libnvtx_push_range(\u001b[38;5;28mself\u001b[39m\u001b[38;5;241m.\u001b[39mattributes, \u001b[38;5;28mself\u001b[39m\u001b[38;5;241m.\u001b[39mdomain\u001b[38;5;241m.\u001b[39mhandle)\n\u001b[0;32m--> 116\u001b[0m     result \u001b[38;5;241m=\u001b[39m \u001b[43mfunc\u001b[49m\u001b[43m(\u001b[49m\u001b[38;5;241;43m*\u001b[39;49m\u001b[43margs\u001b[49m\u001b[43m,\u001b[49m\u001b[43m \u001b[49m\u001b[38;5;241;43m*\u001b[39;49m\u001b[38;5;241;43m*\u001b[39;49m\u001b[43mkwargs\u001b[49m\u001b[43m)\u001b[49m\n\u001b[1;32m    117\u001b[0m     libnvtx_pop_range(\u001b[38;5;28mself\u001b[39m\u001b[38;5;241m.\u001b[39mdomain\u001b[38;5;241m.\u001b[39mhandle)\n\u001b[1;32m    118\u001b[0m     \u001b[38;5;28;01mreturn\u001b[39;00m result\n",
      "File \u001b[0;32m~/bootcamps/bootcamp-jornada-de-dados_2024/.venv/lib/python3.11/site-packages/cudf/pandas/fast_slow_proxy.py:174\u001b[0m, in \u001b[0;36mmake_final_proxy_type.<locals>._fsproxy_slow_to_fast\u001b[0;34m(self)\u001b[0m\n\u001b[1;32m    165\u001b[0m \u001b[38;5;129m@nvtx\u001b[39m\u001b[38;5;241m.\u001b[39mannotate(\n\u001b[1;32m    166\u001b[0m     \u001b[38;5;124m\"\u001b[39m\u001b[38;5;124mCOPY_SLOW_TO_FAST\u001b[39m\u001b[38;5;124m\"\u001b[39m,\n\u001b[1;32m    167\u001b[0m     color\u001b[38;5;241m=\u001b[39m_CUDF_PANDAS_NVTX_COLORS[\u001b[38;5;124m\"\u001b[39m\u001b[38;5;124mCOPY_SLOW_TO_FAST\u001b[39m\u001b[38;5;124m\"\u001b[39m],\n\u001b[0;32m   (...)\u001b[0m\n\u001b[1;32m    171\u001b[0m     \u001b[38;5;66;03m# if we are wrapping a slow object,\u001b[39;00m\n\u001b[1;32m    172\u001b[0m     \u001b[38;5;66;03m# convert it to a fast one\u001b[39;00m\n\u001b[1;32m    173\u001b[0m     \u001b[38;5;28;01mif\u001b[39;00m \u001b[38;5;28mself\u001b[39m\u001b[38;5;241m.\u001b[39m_fsproxy_state \u001b[38;5;129;01mis\u001b[39;00m _State\u001b[38;5;241m.\u001b[39mSLOW:\n\u001b[0;32m--> 174\u001b[0m         \u001b[38;5;28;01mreturn\u001b[39;00m \u001b[43mslow_to_fast\u001b[49m\u001b[43m(\u001b[49m\u001b[38;5;28;43mself\u001b[39;49m\u001b[38;5;241;43m.\u001b[39;49m\u001b[43m_fsproxy_wrapped\u001b[49m\u001b[43m)\u001b[49m\n\u001b[1;32m    175\u001b[0m     \u001b[38;5;28;01mreturn\u001b[39;00m \u001b[38;5;28mself\u001b[39m\u001b[38;5;241m.\u001b[39m_fsproxy_wrapped\n",
      "File \u001b[0;32m~/bootcamps/bootcamp-jornada-de-dados_2024/.venv/lib/python3.11/site-packages/nvtx/nvtx.py:116\u001b[0m, in \u001b[0;36mannotate.__call__.<locals>.inner\u001b[0;34m(*args, **kwargs)\u001b[0m\n\u001b[1;32m    113\u001b[0m \u001b[38;5;129m@wraps\u001b[39m(func)\n\u001b[1;32m    114\u001b[0m \u001b[38;5;28;01mdef\u001b[39;00m \u001b[38;5;21minner\u001b[39m(\u001b[38;5;241m*\u001b[39margs, \u001b[38;5;241m*\u001b[39m\u001b[38;5;241m*\u001b[39mkwargs):\n\u001b[1;32m    115\u001b[0m     libnvtx_push_range(\u001b[38;5;28mself\u001b[39m\u001b[38;5;241m.\u001b[39mattributes, \u001b[38;5;28mself\u001b[39m\u001b[38;5;241m.\u001b[39mdomain\u001b[38;5;241m.\u001b[39mhandle)\n\u001b[0;32m--> 116\u001b[0m     result \u001b[38;5;241m=\u001b[39m \u001b[43mfunc\u001b[49m\u001b[43m(\u001b[49m\u001b[38;5;241;43m*\u001b[39;49m\u001b[43margs\u001b[49m\u001b[43m,\u001b[49m\u001b[43m \u001b[49m\u001b[38;5;241;43m*\u001b[39;49m\u001b[38;5;241;43m*\u001b[39;49m\u001b[43mkwargs\u001b[49m\u001b[43m)\u001b[49m\n\u001b[1;32m    117\u001b[0m     libnvtx_pop_range(\u001b[38;5;28mself\u001b[39m\u001b[38;5;241m.\u001b[39mdomain\u001b[38;5;241m.\u001b[39mhandle)\n\u001b[1;32m    118\u001b[0m     \u001b[38;5;28;01mreturn\u001b[39;00m result\n",
      "File \u001b[0;32m~/bootcamps/bootcamp-jornada-de-dados_2024/.venv/lib/python3.11/site-packages/cudf/core/dataframe.py:8002\u001b[0m, in \u001b[0;36mfrom_pandas\u001b[0;34m(obj, nan_as_null)\u001b[0m\n\u001b[1;32m   7997\u001b[0m     nan_as_null \u001b[38;5;241m=\u001b[39m (\n\u001b[1;32m   7998\u001b[0m         \u001b[38;5;28;01mFalse\u001b[39;00m \u001b[38;5;28;01mif\u001b[39;00m cudf\u001b[38;5;241m.\u001b[39mget_option(\u001b[38;5;124m\"\u001b[39m\u001b[38;5;124mmode.pandas_compatible\u001b[39m\u001b[38;5;124m\"\u001b[39m) \u001b[38;5;28;01melse\u001b[39;00m \u001b[38;5;28;01mNone\u001b[39;00m\n\u001b[1;32m   7999\u001b[0m     )\n\u001b[1;32m   8001\u001b[0m \u001b[38;5;28;01mif\u001b[39;00m \u001b[38;5;28misinstance\u001b[39m(obj, pd\u001b[38;5;241m.\u001b[39mDataFrame):\n\u001b[0;32m-> 8002\u001b[0m     \u001b[38;5;28;01mreturn\u001b[39;00m \u001b[43mDataFrame\u001b[49m\u001b[38;5;241;43m.\u001b[39;49m\u001b[43mfrom_pandas\u001b[49m\u001b[43m(\u001b[49m\u001b[43mobj\u001b[49m\u001b[43m,\u001b[49m\u001b[43m \u001b[49m\u001b[43mnan_as_null\u001b[49m\u001b[38;5;241;43m=\u001b[39;49m\u001b[43mnan_as_null\u001b[49m\u001b[43m)\u001b[49m\n\u001b[1;32m   8003\u001b[0m \u001b[38;5;28;01melif\u001b[39;00m \u001b[38;5;28misinstance\u001b[39m(obj, pd\u001b[38;5;241m.\u001b[39mSeries):\n\u001b[1;32m   8004\u001b[0m     \u001b[38;5;28;01mreturn\u001b[39;00m Series\u001b[38;5;241m.\u001b[39mfrom_pandas(obj, nan_as_null\u001b[38;5;241m=\u001b[39mnan_as_null)\n",
      "File \u001b[0;32m~/bootcamps/bootcamp-jornada-de-dados_2024/.venv/lib/python3.11/site-packages/nvtx/nvtx.py:116\u001b[0m, in \u001b[0;36mannotate.__call__.<locals>.inner\u001b[0;34m(*args, **kwargs)\u001b[0m\n\u001b[1;32m    113\u001b[0m \u001b[38;5;129m@wraps\u001b[39m(func)\n\u001b[1;32m    114\u001b[0m \u001b[38;5;28;01mdef\u001b[39;00m \u001b[38;5;21minner\u001b[39m(\u001b[38;5;241m*\u001b[39margs, \u001b[38;5;241m*\u001b[39m\u001b[38;5;241m*\u001b[39mkwargs):\n\u001b[1;32m    115\u001b[0m     libnvtx_push_range(\u001b[38;5;28mself\u001b[39m\u001b[38;5;241m.\u001b[39mattributes, \u001b[38;5;28mself\u001b[39m\u001b[38;5;241m.\u001b[39mdomain\u001b[38;5;241m.\u001b[39mhandle)\n\u001b[0;32m--> 116\u001b[0m     result \u001b[38;5;241m=\u001b[39m \u001b[43mfunc\u001b[49m\u001b[43m(\u001b[49m\u001b[38;5;241;43m*\u001b[39;49m\u001b[43margs\u001b[49m\u001b[43m,\u001b[49m\u001b[43m \u001b[49m\u001b[38;5;241;43m*\u001b[39;49m\u001b[38;5;241;43m*\u001b[39;49m\u001b[43mkwargs\u001b[49m\u001b[43m)\u001b[49m\n\u001b[1;32m    117\u001b[0m     libnvtx_pop_range(\u001b[38;5;28mself\u001b[39m\u001b[38;5;241m.\u001b[39mdomain\u001b[38;5;241m.\u001b[39mhandle)\n\u001b[1;32m    118\u001b[0m     \u001b[38;5;28;01mreturn\u001b[39;00m result\n",
      "File \u001b[0;32m~/bootcamps/bootcamp-jornada-de-dados_2024/.venv/lib/python3.11/site-packages/cudf/core/dataframe.py:5380\u001b[0m, in \u001b[0;36mDataFrame.from_pandas\u001b[0;34m(cls, dataframe, nan_as_null)\u001b[0m\n\u001b[1;32m   5377\u001b[0m \u001b[38;5;28;01mif\u001b[39;00m \u001b[38;5;129;01mnot\u001b[39;00m dataframe\u001b[38;5;241m.\u001b[39mcolumns\u001b[38;5;241m.\u001b[39mis_unique:\n\u001b[1;32m   5378\u001b[0m     \u001b[38;5;28;01mraise\u001b[39;00m \u001b[38;5;167;01mValueError\u001b[39;00m(\u001b[38;5;124m\"\u001b[39m\u001b[38;5;124mDuplicate column names are not allowed\u001b[39m\u001b[38;5;124m\"\u001b[39m)\n\u001b[0;32m-> 5380\u001b[0m data \u001b[38;5;241m=\u001b[39m \u001b[43m{\u001b[49m\n\u001b[1;32m   5381\u001b[0m \u001b[43m    \u001b[49m\u001b[43mcol_name\u001b[49m\u001b[43m:\u001b[49m\u001b[43m \u001b[49m\u001b[43mcolumn\u001b[49m\u001b[38;5;241;43m.\u001b[39;49m\u001b[43mas_column\u001b[49m\u001b[43m(\u001b[49m\n\u001b[1;32m   5382\u001b[0m \u001b[43m        \u001b[49m\u001b[43mcol_value\u001b[49m\u001b[38;5;241;43m.\u001b[39;49m\u001b[43marray\u001b[49m\u001b[43m,\u001b[49m\u001b[43m \u001b[49m\u001b[43mnan_as_null\u001b[49m\u001b[38;5;241;43m=\u001b[39;49m\u001b[43mnan_as_null\u001b[49m\n\u001b[1;32m   5383\u001b[0m \u001b[43m    \u001b[49m\u001b[43m)\u001b[49m\n\u001b[1;32m   5384\u001b[0m \u001b[43m    \u001b[49m\u001b[38;5;28;43;01mfor\u001b[39;49;00m\u001b[43m \u001b[49m\u001b[43mcol_name\u001b[49m\u001b[43m,\u001b[49m\u001b[43m \u001b[49m\u001b[43mcol_value\u001b[49m\u001b[43m \u001b[49m\u001b[38;5;129;43;01min\u001b[39;49;00m\u001b[43m \u001b[49m\u001b[43mdataframe\u001b[49m\u001b[38;5;241;43m.\u001b[39;49m\u001b[43mitems\u001b[49m\u001b[43m(\u001b[49m\u001b[43m)\u001b[49m\n\u001b[1;32m   5385\u001b[0m \u001b[43m\u001b[49m\u001b[43m}\u001b[49m\n\u001b[1;32m   5386\u001b[0m \u001b[38;5;28;01mif\u001b[39;00m \u001b[38;5;28misinstance\u001b[39m(dataframe\u001b[38;5;241m.\u001b[39mindex, pd\u001b[38;5;241m.\u001b[39mMultiIndex):\n\u001b[1;32m   5387\u001b[0m     index \u001b[38;5;241m=\u001b[39m cudf\u001b[38;5;241m.\u001b[39mMultiIndex\u001b[38;5;241m.\u001b[39mfrom_pandas(\n\u001b[1;32m   5388\u001b[0m         dataframe\u001b[38;5;241m.\u001b[39mindex, nan_as_null\u001b[38;5;241m=\u001b[39mnan_as_null\n\u001b[1;32m   5389\u001b[0m     )\n",
      "File \u001b[0;32m~/bootcamps/bootcamp-jornada-de-dados_2024/.venv/lib/python3.11/site-packages/cudf/core/dataframe.py:5381\u001b[0m, in \u001b[0;36m<dictcomp>\u001b[0;34m(.0)\u001b[0m\n\u001b[1;32m   5377\u001b[0m \u001b[38;5;28;01mif\u001b[39;00m \u001b[38;5;129;01mnot\u001b[39;00m dataframe\u001b[38;5;241m.\u001b[39mcolumns\u001b[38;5;241m.\u001b[39mis_unique:\n\u001b[1;32m   5378\u001b[0m     \u001b[38;5;28;01mraise\u001b[39;00m \u001b[38;5;167;01mValueError\u001b[39;00m(\u001b[38;5;124m\"\u001b[39m\u001b[38;5;124mDuplicate column names are not allowed\u001b[39m\u001b[38;5;124m\"\u001b[39m)\n\u001b[1;32m   5380\u001b[0m data \u001b[38;5;241m=\u001b[39m {\n\u001b[0;32m-> 5381\u001b[0m     col_name: \u001b[43mcolumn\u001b[49m\u001b[38;5;241;43m.\u001b[39;49m\u001b[43mas_column\u001b[49m\u001b[43m(\u001b[49m\n\u001b[1;32m   5382\u001b[0m \u001b[43m        \u001b[49m\u001b[43mcol_value\u001b[49m\u001b[38;5;241;43m.\u001b[39;49m\u001b[43marray\u001b[49m\u001b[43m,\u001b[49m\u001b[43m \u001b[49m\u001b[43mnan_as_null\u001b[49m\u001b[38;5;241;43m=\u001b[39;49m\u001b[43mnan_as_null\u001b[49m\n\u001b[1;32m   5383\u001b[0m \u001b[43m    \u001b[49m\u001b[43m)\u001b[49m\n\u001b[1;32m   5384\u001b[0m     \u001b[38;5;28;01mfor\u001b[39;00m col_name, col_value \u001b[38;5;129;01min\u001b[39;00m dataframe\u001b[38;5;241m.\u001b[39mitems()\n\u001b[1;32m   5385\u001b[0m }\n\u001b[1;32m   5386\u001b[0m \u001b[38;5;28;01mif\u001b[39;00m \u001b[38;5;28misinstance\u001b[39m(dataframe\u001b[38;5;241m.\u001b[39mindex, pd\u001b[38;5;241m.\u001b[39mMultiIndex):\n\u001b[1;32m   5387\u001b[0m     index \u001b[38;5;241m=\u001b[39m cudf\u001b[38;5;241m.\u001b[39mMultiIndex\u001b[38;5;241m.\u001b[39mfrom_pandas(\n\u001b[1;32m   5388\u001b[0m         dataframe\u001b[38;5;241m.\u001b[39mindex, nan_as_null\u001b[38;5;241m=\u001b[39mnan_as_null\n\u001b[1;32m   5389\u001b[0m     )\n",
      "File \u001b[0;32m~/bootcamps/bootcamp-jornada-de-dados_2024/.venv/lib/python3.11/site-packages/cudf/core/column/column.py:1988\u001b[0m, in \u001b[0;36mas_column\u001b[0;34m(arbitrary, nan_as_null, dtype, length)\u001b[0m\n\u001b[1;32m   1980\u001b[0m     \u001b[38;5;28;01melif\u001b[39;00m nan_as_null \u001b[38;5;129;01mis\u001b[39;00m \u001b[38;5;28;01mFalse\u001b[39;00m \u001b[38;5;129;01mand\u001b[39;00m (\n\u001b[1;32m   1981\u001b[0m         pd\u001b[38;5;241m.\u001b[39misna(arbitrary)\u001b[38;5;241m.\u001b[39many()\n\u001b[1;32m   1982\u001b[0m         \u001b[38;5;129;01mand\u001b[39;00m inferred_dtype \u001b[38;5;129;01mnot\u001b[39;00m \u001b[38;5;129;01min\u001b[39;00m (\u001b[38;5;124m\"\u001b[39m\u001b[38;5;124mdecimal\u001b[39m\u001b[38;5;124m\"\u001b[39m, \u001b[38;5;124m\"\u001b[39m\u001b[38;5;124mempty\u001b[39m\u001b[38;5;124m\"\u001b[39m)\n\u001b[1;32m   1983\u001b[0m     ):\n\u001b[1;32m   1984\u001b[0m         \u001b[38;5;66;03m# Decimal can hold float(\"nan\")\u001b[39;00m\n\u001b[1;32m   1985\u001b[0m         \u001b[38;5;66;03m# All np.nan is not restricted by type\u001b[39;00m\n\u001b[1;32m   1986\u001b[0m         \u001b[38;5;28;01mraise\u001b[39;00m MixedTypeError(\u001b[38;5;124mf\u001b[39m\u001b[38;5;124m\"\u001b[39m\u001b[38;5;124mCannot have NaN with \u001b[39m\u001b[38;5;132;01m{\u001b[39;00minferred_dtype\u001b[38;5;132;01m}\u001b[39;00m\u001b[38;5;124m\"\u001b[39m)\n\u001b[0;32m-> 1988\u001b[0m     pyarrow_array \u001b[38;5;241m=\u001b[39m \u001b[43mpa\u001b[49m\u001b[38;5;241;43m.\u001b[39;49m\u001b[43marray\u001b[49m\u001b[43m(\u001b[49m\n\u001b[1;32m   1989\u001b[0m \u001b[43m        \u001b[49m\u001b[43marbitrary\u001b[49m\u001b[43m,\u001b[49m\n\u001b[1;32m   1990\u001b[0m \u001b[43m        \u001b[49m\u001b[43mfrom_pandas\u001b[49m\u001b[38;5;241;43m=\u001b[39;49m\u001b[38;5;28;43;01mTrue\u001b[39;49;00m\u001b[43m,\u001b[49m\n\u001b[1;32m   1991\u001b[0m \u001b[43m    \u001b[49m\u001b[43m)\u001b[49m\n\u001b[1;32m   1992\u001b[0m     data \u001b[38;5;241m=\u001b[39m as_column(\n\u001b[1;32m   1993\u001b[0m         pyarrow_array,\n\u001b[1;32m   1994\u001b[0m         dtype\u001b[38;5;241m=\u001b[39mdtype,\n\u001b[1;32m   1995\u001b[0m         nan_as_null\u001b[38;5;241m=\u001b[39mnan_as_null,\n\u001b[1;32m   1996\u001b[0m         length\u001b[38;5;241m=\u001b[39mlength,\n\u001b[1;32m   1997\u001b[0m     )\n\u001b[1;32m   1998\u001b[0m \u001b[38;5;28;01melse\u001b[39;00m:\n",
      "\u001b[0;31mKeyboardInterrupt\u001b[0m: "
     ]
    }
   ],
   "source": [
    "%load_ext cudf.pandas\n",
    "import pandas as pd\n",
    "\n",
    "# Especifique o tamanho do lote desejado\n",
    "chunksize = 10000000  # Por exemplo, 100.000 linhas por lote\n",
    "\n",
    "# Caminho do arquivo CSV\n",
    "file_path = 'data/measurements.txt'\n",
    "\n",
    "# Inicialize um iterador para ler o arquivo em lotes\n",
    "iterator = pd.read_csv(file_path,sep=';', header=None, names=['station', 'measure'], chunksize=chunksize)\n",
    "\n",
    "# Itere sobre os lotes\n",
    "for chunk in iterator:\n",
    "    # Faça o processamento necessário para cada lote\n",
    "    # Por exemplo, calcule estatísticas, limpeza de dados, etc.\n",
    "    print(chunk.head())  # Exemplo: exibe as primeiras linhas de cada lote\n"
   ]
  },
  {
   "cell_type": "code",
   "execution_count": null,
   "id": "b0cb9763-69dc-4777-b617-7ab28c2d13bf",
   "metadata": {},
   "outputs": [],
   "source": []
  },
  {
   "cell_type": "code",
   "execution_count": null,
   "id": "b69cee44-ea3d-4c32-932b-3067d536b448",
   "metadata": {},
   "outputs": [],
   "source": []
  },
  {
   "cell_type": "code",
   "execution_count": null,
   "id": "0acc7fe3-4533-45e4-8513-46d843716224",
   "metadata": {},
   "outputs": [],
   "source": []
  },
  {
   "cell_type": "code",
   "execution_count": null,
   "id": "ff7b764b-3d99-4a32-a807-25441bbf4830",
   "metadata": {},
   "outputs": [],
   "source": []
  },
  {
   "cell_type": "code",
   "execution_count": null,
   "id": "f307726c-d0ff-4987-a7d2-80de211779a8",
   "metadata": {},
   "outputs": [],
   "source": []
  },
  {
   "cell_type": "code",
   "execution_count": null,
   "id": "8cfb0c6c-c3a2-4843-8e85-3c7ac77d403e",
   "metadata": {},
   "outputs": [],
   "source": [
    "<a id=\"ancora01\"></a>"
   ]
  },
  {
   "cell_type": "code",
   "execution_count": null,
   "id": "edab018f-e073-4ab4-ba69-6b98813986ec",
   "metadata": {},
   "outputs": [],
   "source": [
    "<a id=\"ancora02\"></a>"
   ]
  },
  {
   "cell_type": "code",
   "execution_count": null,
   "id": "fabd8557-34ae-4873-bbd6-02819ea12b15",
   "metadata": {},
   "outputs": [],
   "source": [
    "<a id=\"ancora03\"></a>"
   ]
  },
  {
   "cell_type": "code",
   "execution_count": null,
   "id": "5e40fd2e-d5d3-494a-89d0-3e2109f5b0fe",
   "metadata": {},
   "outputs": [],
   "source": [
    "<a id=\"ancora04\"></a>"
   ]
  },
  {
   "cell_type": "code",
   "execution_count": null,
   "id": "80890444-09da-4dd7-a4a4-21a3213c53ad",
   "metadata": {},
   "outputs": [],
   "source": [
    "<a id=\"ancora05\"></a>"
   ]
  },
  {
   "cell_type": "code",
   "execution_count": null,
   "id": "80dc9972-7238-4976-89f5-263dfbcceefe",
   "metadata": {},
   "outputs": [],
   "source": [
    "<a id=\"ancora06\"></a>"
   ]
  },
  {
   "cell_type": "code",
   "execution_count": null,
   "id": "12eb553c-e8d9-4050-94bf-ab84dab6537e",
   "metadata": {},
   "outputs": [],
   "source": [
    "<a id=\"ancora07\"></a>"
   ]
  },
  {
   "cell_type": "code",
   "execution_count": null,
   "id": "f4f49135-6883-4aae-aa1a-86b22496ddcc",
   "metadata": {},
   "outputs": [],
   "source": [
    "<a id=\"ancora08\"></a>"
   ]
  },
  {
   "cell_type": "code",
   "execution_count": null,
   "id": "a5fca550-56b0-408d-98ae-26b8967ecb55",
   "metadata": {},
   "outputs": [],
   "source": [
    "<a id=\"ancora09\"></a>"
   ]
  },
  {
   "cell_type": "code",
   "execution_count": null,
   "id": "f6d9e29f-1b68-420f-a9d0-79998bef6847",
   "metadata": {},
   "outputs": [],
   "source": [
    "<a id=\"ancora10\"></a>"
   ]
  },
  {
   "cell_type": "code",
   "execution_count": null,
   "id": "c7e808a9-c4c1-46d8-b29e-2553caa37d0b",
   "metadata": {},
   "outputs": [],
   "source": [
    "<a id=\"ancora11\"></a>"
   ]
  },
  {
   "cell_type": "code",
   "execution_count": null,
   "id": "912e1461-caf7-4252-ab8d-ede0f6f6419a",
   "metadata": {},
   "outputs": [],
   "source": [
    "<a id=\"ancora12\"></a>"
   ]
  },
  {
   "cell_type": "code",
   "execution_count": null,
   "id": "ea98eb77-35ad-4d99-b14b-b918b68c83e8",
   "metadata": {},
   "outputs": [],
   "source": [
    "<a id=\"ancora13\"></a>"
   ]
  },
  {
   "cell_type": "code",
   "execution_count": null,
   "id": "d85b02a0-6493-4c05-b0f8-6250c848cd19",
   "metadata": {},
   "outputs": [],
   "source": [
    "<a id=\"ancora14\"></a>"
   ]
  },
  {
   "cell_type": "code",
   "execution_count": null,
   "id": "7073b820-4cde-4db7-88e0-1cc81c5d61ef",
   "metadata": {},
   "outputs": [],
   "source": [
    "<a id=\"ancora15\"></a>"
   ]
  },
  {
   "cell_type": "code",
   "execution_count": null,
   "id": "62da02d5-0cfe-4797-8492-d0ac66400b2a",
   "metadata": {},
   "outputs": [],
   "source": [
    "<a id=\"ancora16\"></a>"
   ]
  },
  {
   "cell_type": "code",
   "execution_count": null,
   "id": "4d3d620b-fff8-4510-b55a-dd8bfb84c339",
   "metadata": {},
   "outputs": [],
   "source": [
    "<a id=\"ancora17\"></a>"
   ]
  },
  {
   "cell_type": "code",
   "execution_count": null,
   "id": "bbd0aa1f-81c9-4d88-b98a-f22ebc55a414",
   "metadata": {},
   "outputs": [],
   "source": [
    "<a id=\"ancora18\"></a>"
   ]
  },
  {
   "cell_type": "code",
   "execution_count": null,
   "id": "c5cdcc91-f8eb-461e-80b5-2db463929d30",
   "metadata": {},
   "outputs": [],
   "source": [
    "<a id=\"ancora19\"></a>"
   ]
  },
  {
   "cell_type": "code",
   "execution_count": null,
   "id": "fd813f7d-8ca4-4579-aa6f-081a3b6963e3",
   "metadata": {},
   "outputs": [],
   "source": [
    "<a id=\"ancora20\"></a>"
   ]
  }
 ],
 "metadata": {
  "kernelspec": {
   "display_name": "bootcamp_jd24",
   "language": "python",
   "name": "bootcamp_jd24"
  },
  "language_info": {
   "codemirror_mode": {
    "name": "ipython",
    "version": 3
   },
   "file_extension": ".py",
   "mimetype": "text/x-python",
   "name": "python",
   "nbconvert_exporter": "python",
   "pygments_lexer": "ipython3",
   "version": "3.11.3"
  }
 },
 "nbformat": 4,
 "nbformat_minor": 5
}
