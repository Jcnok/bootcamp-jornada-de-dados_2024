{
 "cells": [
  {
   "cell_type": "markdown",
   "id": "ac6fecbf-42cb-4341-896b-1ac0bd889a7d",
   "metadata": {},
   "source": [
    "Aula 05:"
   ]
  },
  {
   "cell_type": "markdown",
   "id": "70dc7b06-4f20-4f24-8eb4-b515c6d2a049",
   "metadata": {},
   "source": [
    "## Criando a conexão com o banco de dados:"
   ]
  },
  {
   "cell_type": "code",
   "execution_count": 134,
   "id": "44797591-652d-43d5-801a-97a77aa9499e",
   "metadata": {},
   "outputs": [],
   "source": [
    "import psycopg\n",
    "import pandas as pd\n",
    "import warnings\n",
    "warnings.filterwarnings('ignore')\n",
    "\n",
    "# Conectar ao banco de dados PostgreSQL\n",
    "conn = psycopg.connect(\"dbname=postgres user=postgres password=password host=172.25.224.1 port=5432\")\n",
    "cursor = conn.cursor()"
   ]
  },
  {
   "cell_type": "markdown",
   "id": "15d807ad-d708-4cd9-a85b-cb8b8e43bb89",
   "metadata": {},
   "source": [
    "# Resolução dos exercícios:"
   ]
  },
  {
   "cell_type": "markdown",
   "id": "6e7e4884-87e2-47c9-a35e-3b49c6a6bd98",
   "metadata": {},
   "source": [
    "## 01.Qual foi o total de receitas no ano de 1997?"
   ]
  },
  {
   "cell_type": "code",
   "execution_count": 34,
   "id": "a42dc30d-05b4-4763-8b29-39431b654d5d",
   "metadata": {},
   "outputs": [
    {
     "data": {
      "text/html": [
       "<div>\n",
       "<style scoped>\n",
       "    .dataframe tbody tr th:only-of-type {\n",
       "        vertical-align: middle;\n",
       "    }\n",
       "\n",
       "    .dataframe tbody tr th {\n",
       "        vertical-align: top;\n",
       "    }\n",
       "\n",
       "    .dataframe thead th {\n",
       "        text-align: right;\n",
       "    }\n",
       "</style>\n",
       "<table border=\"1\" class=\"dataframe\">\n",
       "  <thead>\n",
       "    <tr style=\"text-align: right;\">\n",
       "      <th></th>\n",
       "      <th>totalrevenue</th>\n",
       "    </tr>\n",
       "  </thead>\n",
       "  <tbody>\n",
       "    <tr>\n",
       "      <th>0</th>\n",
       "      <td>617085.202393</td>\n",
       "    </tr>\n",
       "  </tbody>\n",
       "</table>\n",
       "</div>"
      ],
      "text/plain": [
       "    totalrevenue\n",
       "0  617085.202393"
      ]
     },
     "execution_count": 34,
     "metadata": {},
     "output_type": "execute_result"
    }
   ],
   "source": [
    "query01 = ''' \n",
    "-- 01.Qual foi o total de receitas no ano de 1997?\n",
    "--query 01\n",
    "SELECT\n",
    "\tSUM(\n",
    "\t\t(OD.QUANTITY * OD.UNIT_PRICE) * (1.0 - OD.DISCOUNT)\n",
    "\t) AS TOTALREVENUE\n",
    "FROM\n",
    "\tORDER_DETAILS AS OD\n",
    "\tJOIN ORDERS AS O ON OD.ORDER_ID = O.ORDER_ID\n",
    "WHERE\n",
    "\tEXTRACT(\n",
    "\t\tYEAR\n",
    "\t\tFROM\n",
    "\t\t\tO.ORDER_DATE\n",
    "\t) = 1997;\n",
    "''' \n",
    "pd.read_sql(query01, conn)"
   ]
  },
  {
   "cell_type": "code",
   "execution_count": 36,
   "id": "cd762cf5-f3f3-4e03-9e07-bcf9656d77f0",
   "metadata": {},
   "outputs": [
    {
     "data": {
      "text/html": [
       "<div>\n",
       "<style scoped>\n",
       "    .dataframe tbody tr th:only-of-type {\n",
       "        vertical-align: middle;\n",
       "    }\n",
       "\n",
       "    .dataframe tbody tr th {\n",
       "        vertical-align: top;\n",
       "    }\n",
       "\n",
       "    .dataframe thead th {\n",
       "        text-align: right;\n",
       "    }\n",
       "</style>\n",
       "<table border=\"1\" class=\"dataframe\">\n",
       "  <thead>\n",
       "    <tr style=\"text-align: right;\">\n",
       "      <th></th>\n",
       "      <th>total</th>\n",
       "    </tr>\n",
       "  </thead>\n",
       "  <tbody>\n",
       "    <tr>\n",
       "      <th>0</th>\n",
       "      <td>617085.202393</td>\n",
       "    </tr>\n",
       "  </tbody>\n",
       "</table>\n",
       "</div>"
      ],
      "text/plain": [
       "           total\n",
       "0  617085.202393"
      ]
     },
     "execution_count": 36,
     "metadata": {},
     "output_type": "execute_result"
    }
   ],
   "source": [
    "query02 = '''\n",
    "-- outra forma de obter o mesmo resultado\n",
    "SELECT\n",
    "\tSUM(\n",
    "\t\t(OD.QUANTITY * OD.UNIT_PRICE) * (1.0 - OD.DISCOUNT)\n",
    "\t) TOTAL\n",
    "FROM\n",
    "\tORDER_DETAILS AS OD\n",
    "\tINNER JOIN (\n",
    "\t\tSELECT\n",
    "\t\t\tORDER_ID\n",
    "\t\tFROM\n",
    "\t\t\tORDERS\n",
    "\t\tWHERE\n",
    "\t\t\tEXTRACT(\n",
    "\t\t\t\tYEAR\n",
    "\t\t\t\tFROM\n",
    "\t\t\t\t\tORDER_DATE\n",
    "\t\t\t) = '1997'\n",
    "\t) AS O ON O.ORDER_ID = OD.ORDER_ID;\n",
    "'''\n",
    "pd.read_sql(query02, conn)"
   ]
  },
  {
   "cell_type": "markdown",
   "id": "e85de168-3897-4d8d-b4b4-203a47b11ad9",
   "metadata": {},
   "source": [
    "* **Ambas as queries foram projetadas para calcular o total de receitas no ano de 1997 a partir das tabelas ORDER_DETAILS e ORDERS no banco de dados Northwind. Embora os resultados sejam os mesmos, a maneira como elas alcançam esse resultado é ligeiramente diferente. Vamos explorar as diferenças em detalhes.**"
   ]
  },
  {
   "cell_type": "markdown",
   "id": "f2f8e349-4ff5-408a-8c80-03bf120971ec",
   "metadata": {},
   "source": [
    "* Quando se trabalha com grandes volumes de dados e especialmente com tabelas que contêm muitos anos de registros, a estratégia de aplicar o filtro antes do join pode ser mais performática. Isso se deve ao fato de que a quantidade de dados a ser processada no join é significativamente reduzida, o que pode melhorar a eficiência geral da consulta. Vamos detalhar isso mais claramente.\n",
    "\n",
    "### Diferença de Performance\n",
    "\n",
    "#### Query 01\n",
    "\n",
    "- **Subconsulta**: A subconsulta filtra a tabela `ORDERS` para incluir apenas os pedidos do ano de 1997. \n",
    "  ```sql\n",
    "  SELECT ORDER_ID FROM ORDERS WHERE EXTRACT(YEAR FROM ORDER_DATE) = '1997'\n",
    "  ```\n",
    "- **JOIN**: O join é então realizado apenas com os resultados filtrados, que são significativamente menores do que a tabela completa.\n",
    "  ```sql\n",
    "  INNER JOIN (subconsulta filtrada) AS O ON O.ORDER_ID = OD.ORDER_ID\n",
    "  ```\n",
    "\n",
    "Neste caso, o otimizador de consultas do PostgreSQL pode aproveitar o fato de que a subconsulta reduz a quantidade de dados antes de realizar o join, o que pode resultar em menos processamento e I/O.\n",
    "\n",
    "#### Query 02\n",
    "\n",
    "- **JOIN**: Realiza um join completo entre `ORDER_DETAILS` e `ORDERS` sem nenhum filtro aplicado ainda.\n",
    "  ```sql\n",
    "  JOIN ORDERS AS O ON OD.ORDER_ID = O.ORDER_ID\n",
    "  ```\n",
    "- **Filtro**: Depois do join, aplica o filtro para o ano de 1997.\n",
    "  ```sql\n",
    "  WHERE EXTRACT(YEAR FROM O.ORDER_DATE) = 1997\n",
    "  ```\n",
    "\n",
    "Aqui, o join é realizado com a tabela `ORDERS` completa, o que pode ser menos eficiente se a tabela for muito grande e contiver muitos anos de dados. Só depois do join o filtro é aplicado, o que pode resultar em processamento desnecessário de muitos dados que serão descartados posteriormente.\n",
    "\n",
    "### Resumo\n",
    "\n",
    "Para grandes volumes de dados com muitos anos distintos, **aplicar o filtro antes do join** (como na Query 01) pode ser mais performático, pois reduz a quantidade de dados processados durante o join. Esta abordagem é geralmente recomendada para melhorar a eficiência das consultas em cenários com grandes volumes de dados.\n"
   ]
  },
  {
   "cell_type": "markdown",
   "id": "6e3a3d83-229e-48ab-8f08-f7cb7caa8e39",
   "metadata": {},
   "source": [
    "* **Algumas melhorias :**\n",
    "* [x] Utilizar CTE(common table expression) para melhorar a legibilidade\n",
    "* [x] Utilize índices para acelerar as consultas;\n"
   ]
  },
  {
   "cell_type": "markdown",
   "id": "8ba837b2-1cf1-4674-8b95-8b826e7e0378",
   "metadata": {},
   "source": [
    "##### Uma CTE é como uma \"mini-tabela\" temporária que você pode criar dentro de uma consulta para facilitar o entendimento e a organização do seu trabalho. Você pode usá-la para dividir a consulta em partes menores e mais manejáveis. "
   ]
  },
  {
   "cell_type": "code",
   "execution_count": 32,
   "id": "ba03564e-73df-43fa-8f20-9ddfeb51d768",
   "metadata": {},
   "outputs": [
    {
     "data": {
      "text/plain": [
       "<psycopg.Cursor [COMMAND_OK] [INTRANS] (host=172.25.224.1 database=postgres) at 0x7fe44e841850>"
      ]
     },
     "execution_count": 32,
     "metadata": {},
     "output_type": "execute_result"
    }
   ],
   "source": [
    "# Criando indices para acelerar as consultas:\n",
    "create_index = '''\n",
    "CREATE INDEX idx_order_date ON orders(order_date);\n",
    "CREATE INDEX idx_order_id ON order_details(order_id);\n",
    "'''\n",
    "cursor.execute(create_index)"
   ]
  },
  {
   "cell_type": "code",
   "execution_count": 33,
   "id": "4d8c3984-26e9-43a1-9317-e0a2ad13804d",
   "metadata": {},
   "outputs": [
    {
     "data": {
      "text/html": [
       "<div>\n",
       "<style scoped>\n",
       "    .dataframe tbody tr th:only-of-type {\n",
       "        vertical-align: middle;\n",
       "    }\n",
       "\n",
       "    .dataframe tbody tr th {\n",
       "        vertical-align: top;\n",
       "    }\n",
       "\n",
       "    .dataframe thead th {\n",
       "        text-align: right;\n",
       "    }\n",
       "</style>\n",
       "<table border=\"1\" class=\"dataframe\">\n",
       "  <thead>\n",
       "    <tr style=\"text-align: right;\">\n",
       "      <th></th>\n",
       "      <th>total</th>\n",
       "    </tr>\n",
       "  </thead>\n",
       "  <tbody>\n",
       "    <tr>\n",
       "      <th>0</th>\n",
       "      <td>617085.202393</td>\n",
       "    </tr>\n",
       "  </tbody>\n",
       "</table>\n",
       "</div>"
      ],
      "text/plain": [
       "           total\n",
       "0  617085.202393"
      ]
     },
     "execution_count": 33,
     "metadata": {},
     "output_type": "execute_result"
    }
   ],
   "source": [
    "# -- Utilizar CTE(common table expression) para melhorar a legibilidade\n",
    "query = '''\n",
    "-- CTE\n",
    "WITH\n",
    "\tFILTEREDORDERS AS (\n",
    "\t\tSELECT\n",
    "\t\t\tORDER_ID\n",
    "\t\tFROM\n",
    "\t\t\tORDERS\n",
    "\t\tWHERE\n",
    "\t\t\tEXTRACT(\n",
    "\t\t\t\tYEAR\n",
    "\t\t\t\tFROM\n",
    "\t\t\t\t\tORDER_DATE\n",
    "\t\t\t) = 1997\n",
    "\t)\n",
    "\n",
    "SELECT\n",
    "\tSUM(\n",
    "\t\t(OD.QUANTITY * OD.UNIT_PRICE) * (1.0 - OD.DISCOUNT)\n",
    "\t) AS Total\n",
    "FROM\n",
    "\tORDER_DETAILS AS OD\n",
    "\tinner join FILTEREDORDERS as FO on od.order_id = FO.order_id;\n",
    "'''\n",
    "pd.read_sql(query, conn)"
   ]
  },
  {
   "cell_type": "markdown",
   "id": "dfaa47f4-44a9-4fc2-8c8a-9ea09f8c12ed",
   "metadata": {},
   "source": [
    "#### Estrutura da Query\n",
    "\n",
    "A query é composta de duas partes principais:\n",
    "1. **Criação de Índices**: Para garantir a eficiência dos filtros e joins.\n",
    "2. **Consulta Principal com CTE (Common Table Expression)**: Para filtrar os pedidos de 1997 e calcular a receita total.\n",
    "\n",
    "#### Parte 1: Criação de Índices\n",
    "\n",
    "Antes de executar a consulta principal, índices são criados nas colunas `order_date` da tabela `orders` e `order_id` da tabela `order_details` para melhorar a performance das operações de filtro e join.\n",
    "\n",
    "```sql\n",
    "CREATE INDEX idx_order_date ON orders(order_date);\n",
    "CREATE INDEX idx_order_id ON order_details(order_id);\n",
    "```\n",
    "\n",
    "**Descrição**:\n",
    "- `idx_order_date`: Índice na coluna `order_date` da tabela `orders`. Esse índice acelera a operação de filtro ao extrair o ano dos pedidos.\n",
    "- `idx_order_id`: Índice na coluna `order_id` da tabela `order_details`. Esse índice acelera a operação de join entre `orders` e `order_details`.\n",
    "\n",
    "#### Parte 2: Consulta Principal com CTE\n",
    "\n",
    "A consulta principal utiliza uma CTE (Common Table Expression) para filtrar os pedidos do ano de 1997 e, em seguida, calcula a receita total desses pedidos.\n",
    "\n",
    "**Descrição**:\n",
    "\n",
    "1. **Common Table Expression (CTE)**: `FILTEREDORDERS`\n",
    "    - **Propósito**: Pré-filtrar os pedidos do ano de 1997.\n",
    "    - **Estrutura**:\n",
    "      ```sql\n",
    "      WITH\n",
    "          FILTEREDORDERS AS (\n",
    "              SELECT\n",
    "                  ORDER_ID\n",
    "              FROM\n",
    "                  ORDERS\n",
    "              WHERE\n",
    "                  EXTRACT(\n",
    "                      YEAR\n",
    "                      FROM\n",
    "                          ORDER_DATE\n",
    "                  ) = 1997\n",
    "          )\n",
    "      ```\n",
    "    - **Detalhes**:\n",
    "        - A CTE `FILTEREDORDERS` seleciona os `ORDER_ID`s da tabela `ORDERS` onde o ano da data do pedido (`ORDER_DATE`) é 1997, utilizando a função `EXTRACT(YEAR FROM ORDER_DATE)`.\n",
    "\n",
    "2. **Consulta Principal**\n",
    "    - **Propósito**: Calcular a receita total dos pedidos de 1997.\n",
    "    - **Estrutura**:\n",
    "      ```sql\n",
    "      SELECT\n",
    "          SUM(\n",
    "              (OD.QUANTITY * OD.UNIT_PRICE) * (1.0 - OD.DISCOUNT)\n",
    "          ) AS Total\n",
    "      FROM\n",
    "          ORDER_DETAILS AS OD\n",
    "          INNER JOIN FILTEREDORDERS AS FO ON OD.ORDER_ID = FO.ORDER_ID;\n",
    "      ```\n",
    "    - **Detalhes**:\n",
    "        - **JOIN**: Realiza um `INNER JOIN` entre `ORDER_DETAILS` (alias `OD`) e `FILTEREDORDERS` (alias `FO`) com base na coluna `ORDER_ID`.\n",
    "        - **Cálculo da Receita Total**: Calcula a receita total multiplicando a quantidade (`QUANTITY`) pelo preço unitário (`UNIT_PRICE`) e ajustando pelo desconto (`DISCOUNT`), usando a expressão `(OD.QUANTITY * OD.UNIT_PRICE) * (1.0 - OD.DISCOUNT)`.\n",
    "        - **Agregação**: Utiliza a função `SUM` para somar os valores calculados, resultando na receita total dos pedidos de 1997.\n",
    "\n",
    "#### Considerações sobre Performance\n",
    "\n",
    "- **Índices**: Os índices criados nas colunas `order_date` e `order_id` são cruciais para a performance. Eles permitem que o banco de dados filtre e junte os dados de forma eficiente.\n",
    "- **Filtragem antes do Join**: Utilizar a CTE para filtrar os pedidos antes de realizar o join reduz significativamente a quantidade de dados processados durante o join, melhorando a eficiência da consulta.\n"
   ]
  },
  {
   "cell_type": "markdown",
   "id": "f234a610-ab45-4a6f-92f9-e5019c34d04e",
   "metadata": {},
   "source": [
    "#### Conclusão\n",
    "A CTE é uma ferramenta poderosa para escrever consultas SQL mais claras e eficientes, mas sua natureza é temporária. Se a persistência dos resultados intermediários for necessária, considere usar tabelas temporárias ou views."
   ]
  },
  {
   "cell_type": "markdown",
   "id": "ae9f1d5c-9399-4e80-ac68-8c13e8cb6d85",
   "metadata": {},
   "source": [
    "* Como remover o index criado:"
   ]
  },
  {
   "cell_type": "code",
   "execution_count": 31,
   "id": "5d4ea2bd-4268-4523-9e8f-5118b3c1333d",
   "metadata": {},
   "outputs": [
    {
     "data": {
      "text/plain": [
       "<psycopg.Cursor [COMMAND_OK] [INTRANS] (host=172.25.224.1 database=postgres) at 0x7fe44e841850>"
      ]
     },
     "execution_count": 31,
     "metadata": {},
     "output_type": "execute_result"
    }
   ],
   "source": [
    "remover_index = '''\n",
    "-- Remover o índice em order_date da tabela orders\n",
    "-- Remover o índice em order_id da tabela order_details\n",
    "DROP INDEX IF EXISTS idx_order_date;\n",
    "DROP INDEX IF EXISTS idx_order_id;\n",
    "'''\n",
    "cursor.execute(remover_index)"
   ]
  },
  {
   "cell_type": "code",
   "execution_count": 38,
   "id": "de5bff5f-ff9a-414b-936f-8236899f68e5",
   "metadata": {},
   "outputs": [],
   "source": [
    "# Fecha o cursor e a conexão\n",
    "cursor.close()\n",
    "conn.close()"
   ]
  },
  {
   "cell_type": "markdown",
   "id": "b2ce94f9-120c-4c7a-9824-6d8ea8765255",
   "metadata": {},
   "source": [
    "## 02.Faça uma análise de crescimento mensal e o cálculo de YTD"
   ]
  },
  {
   "cell_type": "code",
   "execution_count": 42,
   "id": "4870be0e-43bc-43bc-bdc2-9a413a086b1c",
   "metadata": {},
   "outputs": [
    {
     "data": {
      "text/plain": [
       "<psycopg.Cursor [COMMAND_OK] [INTRANS] (host=172.25.224.1 database=postgres) at 0x7fe44faa4bf0>"
      ]
     },
     "execution_count": 42,
     "metadata": {},
     "output_type": "execute_result"
    }
   ],
   "source": [
    "create_index = '''\n",
    "-- Certifique-se de que há índices adequados nas colunas usadas para junções e filtros\n",
    "CREATE INDEX IF NOT EXISTS idx_orders_order_date ON orders(order_date);\n",
    "CREATE INDEX IF NOT EXISTS idx_order_details_order_id ON order_details(order_id);\n",
    "''' \n",
    "cursor.execute(create_index)"
   ]
  },
  {
   "cell_type": "code",
   "execution_count": 74,
   "id": "5d29b29a-a6e1-4a9c-bb39-721e894dbf76",
   "metadata": {},
   "outputs": [],
   "source": [
    "query = ''' \n",
    "-- 02.Faça uma análise de crescimento mensal e o cálculo de YTD\n",
    "WITH ReceitasMensais AS (\n",
    "    SELECT\n",
    "        EXTRACT(YEAR FROM orders.order_date) AS year,\n",
    "        EXTRACT(MONTH FROM orders.order_date) AS month,\n",
    "        SUM(order_details.unit_price * order_details.quantity * (1.0 - order_details.discount)) AS Receita_Mensal\n",
    "    FROM\n",
    "        orders\n",
    "    INNER JOIN\n",
    "        order_details ON orders.order_id = order_details.order_id\n",
    "    GROUP BY\n",
    "        EXTRACT(YEAR FROM orders.order_date),\n",
    "        EXTRACT(MONTH FROM orders.order_date)\n",
    "),\n",
    "ReceitasAcumuladas AS (\n",
    "    SELECT\n",
    "        year,\n",
    "        month,\n",
    "        Receita_Mensal,\n",
    "        SUM(Receita_Mensal) OVER (PARTITION BY year ORDER BY month) AS Receita_YTD\n",
    "    FROM\n",
    "        ReceitasMensais\n",
    ")\n",
    "SELECT\n",
    "    year,\n",
    "    month,\n",
    "    Receita_Mensal,\n",
    "    Receita_Mensal - LAG(Receita_Mensal) OVER (PARTITION BY year ORDER BY month) AS Diferenca_Mensal,\n",
    "    Receita_YTD,\n",
    "\t(Receita_Mensal - LAG(Receita_Mensal) OVER (PARTITION BY year ORDER BY month))\n",
    "\t/ LAG(Receita_Mensal) OVER (PARTITION BY year ORDER BY month) * 100 AS Percentual_Mudanca_Mensal\n",
    "FROM\n",
    "    ReceitasAcumuladas\n",
    "ORDER BY\n",
    "    year, month;\n",
    "''' \n",
    "receita = pd.read_sql(query, conn)"
   ]
  },
  {
   "cell_type": "code",
   "execution_count": 75,
   "id": "6ae5271a-e156-49c5-b5ee-fa2667d0a02a",
   "metadata": {},
   "outputs": [
    {
     "data": {
      "text/html": [
       "<div>\n",
       "<style scoped>\n",
       "    .dataframe tbody tr th:only-of-type {\n",
       "        vertical-align: middle;\n",
       "    }\n",
       "\n",
       "    .dataframe tbody tr th {\n",
       "        vertical-align: top;\n",
       "    }\n",
       "\n",
       "    .dataframe thead th {\n",
       "        text-align: right;\n",
       "    }\n",
       "</style>\n",
       "<table border=\"1\" class=\"dataframe\">\n",
       "  <thead>\n",
       "    <tr style=\"text-align: right;\">\n",
       "      <th></th>\n",
       "      <th>year</th>\n",
       "      <th>month</th>\n",
       "      <th>receita_mensal</th>\n",
       "      <th>diferenca_mensal</th>\n",
       "      <th>receita_ytd</th>\n",
       "      <th>percentual_mudanca_mensal</th>\n",
       "    </tr>\n",
       "  </thead>\n",
       "  <tbody>\n",
       "    <tr>\n",
       "      <th>0</th>\n",
       "      <td>1996.0</td>\n",
       "      <td>7.0</td>\n",
       "      <td>27861.895130</td>\n",
       "      <td>NaN</td>\n",
       "      <td>27861.895130</td>\n",
       "      <td>NaN</td>\n",
       "    </tr>\n",
       "    <tr>\n",
       "      <th>1</th>\n",
       "      <td>1996.0</td>\n",
       "      <td>8.0</td>\n",
       "      <td>25485.275071</td>\n",
       "      <td>-2376.620059</td>\n",
       "      <td>53347.170200</td>\n",
       "      <td>-8.530001</td>\n",
       "    </tr>\n",
       "    <tr>\n",
       "      <th>2</th>\n",
       "      <td>1996.0</td>\n",
       "      <td>9.0</td>\n",
       "      <td>26381.400133</td>\n",
       "      <td>896.125062</td>\n",
       "      <td>79728.570333</td>\n",
       "      <td>3.516246</td>\n",
       "    </tr>\n",
       "    <tr>\n",
       "      <th>3</th>\n",
       "      <td>1996.0</td>\n",
       "      <td>10.0</td>\n",
       "      <td>37515.724945</td>\n",
       "      <td>11134.324813</td>\n",
       "      <td>117244.295278</td>\n",
       "      <td>42.205208</td>\n",
       "    </tr>\n",
       "    <tr>\n",
       "      <th>4</th>\n",
       "      <td>1996.0</td>\n",
       "      <td>11.0</td>\n",
       "      <td>45600.045211</td>\n",
       "      <td>8084.320266</td>\n",
       "      <td>162844.340490</td>\n",
       "      <td>21.549151</td>\n",
       "    </tr>\n",
       "  </tbody>\n",
       "</table>\n",
       "</div>"
      ],
      "text/plain": [
       "     year  month  receita_mensal  diferenca_mensal    receita_ytd  \\\n",
       "0  1996.0    7.0    27861.895130               NaN   27861.895130   \n",
       "1  1996.0    8.0    25485.275071      -2376.620059   53347.170200   \n",
       "2  1996.0    9.0    26381.400133        896.125062   79728.570333   \n",
       "3  1996.0   10.0    37515.724945      11134.324813  117244.295278   \n",
       "4  1996.0   11.0    45600.045211       8084.320266  162844.340490   \n",
       "\n",
       "   percentual_mudanca_mensal  \n",
       "0                        NaN  \n",
       "1                  -8.530001  \n",
       "2                   3.516246  \n",
       "3                  42.205208  \n",
       "4                  21.549151  "
      ]
     },
     "execution_count": 75,
     "metadata": {},
     "output_type": "execute_result"
    }
   ],
   "source": [
    "receita.head()"
   ]
  },
  {
   "cell_type": "markdown",
   "id": "8ebc513c-a0f6-40a2-9ae6-9ac8de4aab61",
   "metadata": {},
   "source": [
    "#### Descrição Geral\n",
    "Esta query SQL calcula e analisa as receitas mensais e acumuladas de pedidos em uma base de dados, fornecendo informações sobre a receita de cada mês, a diferença de receita em relação ao mês anterior, a receita acumulada (Year-to-Date, YTD) e a porcentagem de mudança mensal. A query utiliza duas Expressões Comuns de Tabela (CTEs) para organizar e processar os dados.\n",
    "\n",
    "#### Estrutura da Query\n",
    "A query é composta de duas CTEs (Common Table Expressions) e uma instrução `SELECT` final que combina e processa os resultados das CTEs.\n",
    "\n",
    "#### Detalhamento das CTEs\n",
    "\n",
    "1. **CTE: ReceitasMensais**\n",
    "    - **Propósito**: Calcular a receita total para cada mês e ano.\n",
    "    - **Colunas**:\n",
    "        - `Ano`: Ano extraído da data do pedido (`order_date`).\n",
    "        - `Mes`: Mês extraído da data do pedido (`order_date`).\n",
    "        - `Receita_Mensal`: Receita total do mês, calculada como o somatório do produto do preço unitário (`unit_price`), quantidade (`quantity`) e desconto (`discount`).\n",
    "    \n",
    "2. **CTE: ReceitasAcumuladas**\n",
    "    - **Propósito**: Calcular a receita acumulada (YTD) para cada mês dentro de um ano.\n",
    "    - **Colunas**:\n",
    "        - `Ano`: Ano da receita.\n",
    "        - `Mes`: Mês da receita.\n",
    "        - `Receita_Mensal`: Receita total do mês.\n",
    "        - `Receita_YTD`: Receita acumulada do início do ano até o mês atual, calculada usando a função de janela `SUM` com particionamento por ano e ordenação por mês.\n",
    "    \n",
    "#### Instrução Final `SELECT`\n",
    "- **Propósito**: Combinar os resultados das CTEs para fornecer informações detalhadas sobre a receita mensal e acumulada.\n",
    "- **Colunas**:\n",
    "    - `Ano`: Ano da receita.\n",
    "    - `Mes`: Mês da receita.\n",
    "    - `Receita_Mensal`: Receita total do mês.\n",
    "    - `Diferenca_Mensal`: Diferença na receita em relação ao mês anterior, calculada como a diferença entre a receita do mês atual e a receita do mês anterior usando a função `LAG`.\n",
    "    - `Receita_YTD`: Receita acumulada do início do ano até o mês atual.\n",
    "    - `Percentual_Mudanca_Mensal`: Percentual de mudança na receita em relação ao mês anterior, calculado como a diferença mensal dividida pela receita do mês anterior, multiplicada por 100.\n",
    "\n",
    "#### Explicação dos Elementos Chave\n",
    "\n",
    "1. **EXTRACT(YEAR FROM orders.order_date) AS Ano, EXTRACT(MONTH FROM orders.order_date) AS Mes**:\n",
    "    - Extrai o ano e o mês da data do pedido (`order_date`).\n",
    "\n",
    "2. **SUM(order_details.unit_price * order_details.quantity * (1.0 - order_details.discount)) AS Receita_Mensal**:\n",
    "    - Calcula a receita mensal somando o valor total de cada item do pedido, considerando o preço unitário, a quantidade e o desconto.\n",
    "\n",
    "3. **INNER JOIN orders.order_id = order_details.order_id**:\n",
    "    - Junta as tabelas `orders` e `order_details` para associar os detalhes dos pedidos às suas respectivas ordens.\n",
    "\n",
    "4. **SUM(Receita_Mensal) OVER (PARTITION BY Ano ORDER BY Mes) AS Receita_YTD**:\n",
    "    - Calcula a receita acumulada (YTD) para cada mês dentro de um ano.\n",
    "\n",
    "5. **LAG(Receita_Mensal) OVER (PARTITION BY Ano ORDER BY Mes)**:\n",
    "    - Função de janela que retorna a receita do mês anterior, usada para calcular a diferença mensal e a mudança percentual.\n",
    "\n",
    "6. **ORDER BY Ano, Mes**:\n",
    "    - Ordena os resultados finais por ano e mês.\n",
    "\n",
    "#### Finalidade e Utilização\n",
    "- **Análise Financeira**: Esta query é útil para analistas financeiros e gerentes de vendas que desejam acompanhar o desempenho mensal das receitas e entender as tendências de crescimento.\n",
    "- **Tomada de Decisões**: Fornece informações valiosas para a tomada de decisões estratégicas, identificando padrões de crescimento e possíveis áreas de melhoria.\n",
    "- **Relatórios**: Pode ser utilizada em relatórios financeiros para demonstrar o desempenho mensal e acumulado das receitas."
   ]
  },
  {
   "cell_type": "markdown",
   "id": "98c2cdc9-2c96-4757-8df3-ebf821f9a519",
   "metadata": {},
   "source": [
    "## Vamos analisar os resultados e aproveitar o poder do python para criar alguns graficos:"
   ]
  },
  {
   "cell_type": "code",
   "execution_count": 76,
   "id": "41ce45fd-8917-466a-9c6c-414da6acf40f",
   "metadata": {},
   "outputs": [
    {
     "name": "stdout",
     "output_type": "stream",
     "text": [
      "<class 'pandas.core.frame.DataFrame'>\n",
      "RangeIndex: 23 entries, 0 to 22\n",
      "Data columns (total 6 columns):\n",
      " #   Column                     Non-Null Count  Dtype  \n",
      "---  ------                     --------------  -----  \n",
      " 0   year                       23 non-null     float64\n",
      " 1   month                      23 non-null     float64\n",
      " 2   receita_mensal             23 non-null     float64\n",
      " 3   diferenca_mensal           20 non-null     float64\n",
      " 4   receita_ytd                23 non-null     float64\n",
      " 5   percentual_mudanca_mensal  20 non-null     float64\n",
      "dtypes: float64(6)\n",
      "memory usage: 1.2 KB\n"
     ]
    }
   ],
   "source": [
    "#informação do dataset\n",
    "receita.info()"
   ]
  },
  {
   "cell_type": "code",
   "execution_count": 77,
   "id": "a4ae925a-9748-4c9d-8872-e5cb5ef71ac9",
   "metadata": {},
   "outputs": [],
   "source": [
    "# Converter a coluna 'ano' e 'mes' de float para int\n",
    "receita[['year', 'month']] = receita[['year', 'month']].astype(int)"
   ]
  },
  {
   "cell_type": "code",
   "execution_count": 78,
   "id": "6e1e9819-8d89-44ee-beaa-d6b261216495",
   "metadata": {},
   "outputs": [],
   "source": [
    "# Criar uma nova coluna para dia, levando em consideração apenas o dia primeiro de cada mês para o exemplo.\n",
    "receita['day'] = 1"
   ]
  },
  {
   "cell_type": "code",
   "execution_count": 79,
   "id": "3a69da64-9a33-4881-849d-bed70f501882",
   "metadata": {},
   "outputs": [],
   "source": [
    "# Converter ano e mês em uma única coluna de data para facilitar a plotagem\n",
    "receita['data'] = pd.to_datetime(receita[['year', 'month','day']])"
   ]
  },
  {
   "cell_type": "code",
   "execution_count": 80,
   "id": "94cca7f0-5bd3-4aa6-814e-78e58b7a48d6",
   "metadata": {},
   "outputs": [
    {
     "data": {
      "text/html": [
       "<div>\n",
       "<style scoped>\n",
       "    .dataframe tbody tr th:only-of-type {\n",
       "        vertical-align: middle;\n",
       "    }\n",
       "\n",
       "    .dataframe tbody tr th {\n",
       "        vertical-align: top;\n",
       "    }\n",
       "\n",
       "    .dataframe thead th {\n",
       "        text-align: right;\n",
       "    }\n",
       "</style>\n",
       "<table border=\"1\" class=\"dataframe\">\n",
       "  <thead>\n",
       "    <tr style=\"text-align: right;\">\n",
       "      <th></th>\n",
       "      <th>year</th>\n",
       "      <th>month</th>\n",
       "      <th>receita_mensal</th>\n",
       "      <th>diferenca_mensal</th>\n",
       "      <th>receita_ytd</th>\n",
       "      <th>percentual_mudanca_mensal</th>\n",
       "      <th>day</th>\n",
       "      <th>data</th>\n",
       "    </tr>\n",
       "  </thead>\n",
       "  <tbody>\n",
       "    <tr>\n",
       "      <th>0</th>\n",
       "      <td>1996</td>\n",
       "      <td>7</td>\n",
       "      <td>27861.895130</td>\n",
       "      <td>NaN</td>\n",
       "      <td>27861.895130</td>\n",
       "      <td>NaN</td>\n",
       "      <td>1</td>\n",
       "      <td>1996-07-01</td>\n",
       "    </tr>\n",
       "    <tr>\n",
       "      <th>1</th>\n",
       "      <td>1996</td>\n",
       "      <td>8</td>\n",
       "      <td>25485.275071</td>\n",
       "      <td>-2376.620059</td>\n",
       "      <td>53347.170200</td>\n",
       "      <td>-8.530001</td>\n",
       "      <td>1</td>\n",
       "      <td>1996-08-01</td>\n",
       "    </tr>\n",
       "    <tr>\n",
       "      <th>2</th>\n",
       "      <td>1996</td>\n",
       "      <td>9</td>\n",
       "      <td>26381.400133</td>\n",
       "      <td>896.125062</td>\n",
       "      <td>79728.570333</td>\n",
       "      <td>3.516246</td>\n",
       "      <td>1</td>\n",
       "      <td>1996-09-01</td>\n",
       "    </tr>\n",
       "    <tr>\n",
       "      <th>3</th>\n",
       "      <td>1996</td>\n",
       "      <td>10</td>\n",
       "      <td>37515.724945</td>\n",
       "      <td>11134.324813</td>\n",
       "      <td>117244.295278</td>\n",
       "      <td>42.205208</td>\n",
       "      <td>1</td>\n",
       "      <td>1996-10-01</td>\n",
       "    </tr>\n",
       "    <tr>\n",
       "      <th>4</th>\n",
       "      <td>1996</td>\n",
       "      <td>11</td>\n",
       "      <td>45600.045211</td>\n",
       "      <td>8084.320266</td>\n",
       "      <td>162844.340490</td>\n",
       "      <td>21.549151</td>\n",
       "      <td>1</td>\n",
       "      <td>1996-11-01</td>\n",
       "    </tr>\n",
       "  </tbody>\n",
       "</table>\n",
       "</div>"
      ],
      "text/plain": [
       "   year  month  receita_mensal  diferenca_mensal    receita_ytd  \\\n",
       "0  1996      7    27861.895130               NaN   27861.895130   \n",
       "1  1996      8    25485.275071      -2376.620059   53347.170200   \n",
       "2  1996      9    26381.400133        896.125062   79728.570333   \n",
       "3  1996     10    37515.724945      11134.324813  117244.295278   \n",
       "4  1996     11    45600.045211       8084.320266  162844.340490   \n",
       "\n",
       "   percentual_mudanca_mensal  day       data  \n",
       "0                        NaN    1 1996-07-01  \n",
       "1                  -8.530001    1 1996-08-01  \n",
       "2                   3.516246    1 1996-09-01  \n",
       "3                  42.205208    1 1996-10-01  \n",
       "4                  21.549151    1 1996-11-01  "
      ]
     },
     "execution_count": 80,
     "metadata": {},
     "output_type": "execute_result"
    }
   ],
   "source": [
    "receita.head()"
   ]
  },
  {
   "cell_type": "code",
   "execution_count": 82,
   "id": "cd328262-49f2-4f91-bdd0-2d510bb86be4",
   "metadata": {},
   "outputs": [],
   "source": [
    "#intalação da lib matplotlib para plotagem de gráficos \n",
    "!poetry add matplotlib -q"
   ]
  },
  {
   "cell_type": "code",
   "execution_count": 86,
   "id": "67f7bf06-3edb-4760-929d-f05cd7e3840a",
   "metadata": {},
   "outputs": [],
   "source": [
    "#importação da lib \n",
    "import matplotlib.pyplot as plt "
   ]
  },
  {
   "cell_type": "code",
   "execution_count": 90,
   "id": "1d105383-ddba-4f66-87fa-620b04bb1661",
   "metadata": {},
   "outputs": [
    {
     "data": {
      "image/png": "[encoded data removed]",
      "text/plain": [
       "<Figure size 640x480 with 1 Axes>"
      ]
     },
     "metadata": {},
     "output_type": "display_data"
    }
   ],
   "source": [
    "# Plotar Receita YTD para cada ano\n",
    "years = receita['year'].unique()\n",
    "for year in years:\n",
    "    yearly_data = receita[receita['year'] == year]\n",
    "    plt.plot(yearly_data['month'], yearly_data['receita_ytd'], marker='o', linestyle='-', label=f'Receita YTD {year}')\n",
    "\n",
    "# Adicionar Título e Rótulos\n",
    "plt.title('Análise de Faturamento - Receita YTD por Mês e Ano')\n",
    "plt.xlabel('Mês')\n",
    "plt.ylabel('Receita YTD')\n",
    "plt.grid(True)\n",
    "plt.legend()\n",
    "\n",
    "# Exibir o Gráfico\n",
    "plt.show()"
   ]
  },
  {
   "cell_type": "code",
   "execution_count": 92,
   "id": "4265e703-66c4-4ff0-bf2b-fde8261277c0",
   "metadata": {},
   "outputs": [
    {
     "data": {
      "image/png": "[encoded data removed]",
      "text/plain": [
       "<Figure size 640x480 with 1 Axes>"
      ]
     },
     "metadata": {},
     "output_type": "display_data"
    }
   ],
   "source": [
    "# Plotar Receita YTD para cada ano\n",
    "years = receita['year'].unique()\n",
    "for year in years:\n",
    "    yearly_data = receita[receita['year'] == year]\n",
    "    plt.plot(yearly_data['month'], yearly_data['percentual_mudanca_mensal'], marker='o', linestyle='-', label=f'Receita YTD {year}')\n",
    "\n",
    "# Adicionar Título e Rótulos\n",
    "plt.title('Percentual de Mudança Mensal ao Longo do Tempo')\n",
    "plt.xlabel('Mês')\n",
    "plt.ylabel('Percentual de Mudança Mensal')\n",
    "plt.grid(False)\n",
    "plt.legend()\n",
    "\n",
    "# Exibir o Gráfico\n",
    "plt.show()"
   ]
  },
  {
   "cell_type": "markdown",
   "id": "ef4b8b00-2fc9-4b72-9e73-c89467effcb3",
   "metadata": {},
   "source": [
    "## 03.Calcular o valor total que cada cliente pagou até agora, listando os clientes por ordem decrescente de valor total pago?"
   ]
  },
  {
   "cell_type": "code",
   "execution_count": 101,
   "id": "bcf2f089-4789-4c33-9b28-c3348ece4c23",
   "metadata": {},
   "outputs": [
    {
     "data": {
      "text/plain": [
       "<psycopg.Cursor [COMMAND_OK] [INTRANS] (host=172.25.224.1 database=postgres) at 0x7fe441ad0f60>"
      ]
     },
     "execution_count": 101,
     "metadata": {},
     "output_type": "execute_result"
    }
   ],
   "source": [
    "query = ''' \n",
    "-- 03.Calcular o valor total que cada cliente pagou até agora, listando os clientes por ordem decrescente de valor total pago.\n",
    "CREATE VIEW view_total_revenues_per_customer AS\n",
    "WITH CustomerOrders AS (\n",
    "    SELECT \n",
    "        c.company_name, \n",
    "        od.unit_price, \n",
    "        od.quantity, \n",
    "        od.discount\n",
    "    FROM \n",
    "        customers c\n",
    "    INNER JOIN \n",
    "        orders o ON c.customer_id = o.customer_id\n",
    "    INNER JOIN \n",
    "        order_details od ON od.order_id = o.order_id\n",
    ")\n",
    "SELECT \n",
    "    company_name, \n",
    "    SUM(unit_price * quantity * (1.0 - discount)) AS total\n",
    "FROM \n",
    "    CustomerOrders\n",
    "GROUP BY \n",
    "    company_name\n",
    "ORDER BY \n",
    "    total DESC;\n",
    "'''\n",
    "cursor.execute(query)"
   ]
  },
  {
   "cell_type": "code",
   "execution_count": 102,
   "id": "bcb87557-72b9-476f-9cd8-a1a66a5e3966",
   "metadata": {},
   "outputs": [
    {
     "data": {
      "text/html": [
       "<div>\n",
       "<style scoped>\n",
       "    .dataframe tbody tr th:only-of-type {\n",
       "        vertical-align: middle;\n",
       "    }\n",
       "\n",
       "    .dataframe tbody tr th {\n",
       "        vertical-align: top;\n",
       "    }\n",
       "\n",
       "    .dataframe thead th {\n",
       "        text-align: right;\n",
       "    }\n",
       "</style>\n",
       "<table border=\"1\" class=\"dataframe\">\n",
       "  <thead>\n",
       "    <tr style=\"text-align: right;\">\n",
       "      <th></th>\n",
       "      <th>company_name</th>\n",
       "      <th>total</th>\n",
       "    </tr>\n",
       "  </thead>\n",
       "  <tbody>\n",
       "    <tr>\n",
       "      <th>0</th>\n",
       "      <td>QUICK-Stop</td>\n",
       "      <td>110277.305030</td>\n",
       "    </tr>\n",
       "    <tr>\n",
       "      <th>1</th>\n",
       "      <td>Ernst Handel</td>\n",
       "      <td>104874.978144</td>\n",
       "    </tr>\n",
       "    <tr>\n",
       "      <th>2</th>\n",
       "      <td>Save-a-lot Markets</td>\n",
       "      <td>104361.949540</td>\n",
       "    </tr>\n",
       "    <tr>\n",
       "      <th>3</th>\n",
       "      <td>Rattlesnake Canyon Grocery</td>\n",
       "      <td>51097.800828</td>\n",
       "    </tr>\n",
       "    <tr>\n",
       "      <th>4</th>\n",
       "      <td>Hungry Owl All-Night Grocers</td>\n",
       "      <td>49979.905081</td>\n",
       "    </tr>\n",
       "  </tbody>\n",
       "</table>\n",
       "</div>"
      ],
      "text/plain": [
       "                   company_name          total\n",
       "0                    QUICK-Stop  110277.305030\n",
       "1                  Ernst Handel  104874.978144\n",
       "2            Save-a-lot Markets  104361.949540\n",
       "3    Rattlesnake Canyon Grocery   51097.800828\n",
       "4  Hungry Owl All-Night Grocers   49979.905081"
      ]
     },
     "execution_count": 102,
     "metadata": {},
     "output_type": "execute_result"
    }
   ],
   "source": [
    "df = pd.read_sql(\"select * from view_total_revenues_per_customer\", conn)\n",
    "df.head()"
   ]
  },
  {
   "cell_type": "markdown",
   "id": "21258a3a-8e8d-4a9f-bab1-6b74caafd44e",
   "metadata": {},
   "source": [
    "#### Estrutura da Query:\n",
    "\n",
    "1. **Criação da View**:\n",
    "   - A view é criada com o nome `view_total_revenues_per_customer`.\n",
    "\n",
    "2. **Seleção da CTE**:\n",
    "   - Seleciona `company_name`, `unit_price`, `quantity` e `discount` das tabelas associadas.\n",
    "\n",
    "3. **Consulta Principal**:\n",
    "   - A consulta principal seleciona `company_name` e calcula a soma total dos valores pagos por cada cliente.\n",
    "\n",
    "4. **Agrupamento e Ordenação**:\n",
    "   - `GROUP BY company_name`: Agrupa os resultados pelo nome da empresa cliente.\n",
    "   - `ORDER BY total DESC`: Ordena os resultados pelo valor total em ordem decrescente.\n",
    "\n",
    "### Conclusão:\n",
    "\n",
    "A query usa uma CTE para melhorar a legibilidade e estrutura da consulta. A criação da view `view_total_revenues_per_customer` permite que os usuários consultem facilmente o valor total pago por cada cliente até o momento."
   ]
  },
  {
   "cell_type": "code",
   "execution_count": 104,
   "id": "ec795d88-e59e-496e-b019-fcb270b63f27",
   "metadata": {},
   "outputs": [
    {
     "data": {
      "image/png": "[encoded data removed]",
      "text/plain": [
       "<Figure size 1200x800 with 1 Axes>"
      ]
     },
     "metadata": {},
     "output_type": "display_data"
    }
   ],
   "source": [
    "# Configurar o plot\n",
    "plt.figure(figsize=(12, 8))\n",
    "#selecionando os 10 primeiros\n",
    "df_10 = df.head(10)\n",
    "# Plotar o gráfico de barras\n",
    "plt.barh(df_10['company_name'], df_10['total'], color='skyblue')\n",
    "plt.xlabel('Total Pago')\n",
    "plt.ylabel('Nome da Empresa')\n",
    "plt.title('Top 10 Clientes por Total Pago')\n",
    "plt.gca().invert_yaxis()  # Inverter o eixo y para que o maior valor fique no topo\n",
    "plt.grid(axis='x')\n",
    "\n",
    "# Exibir o gráfico\n",
    "plt.show()"
   ]
  },
  {
   "cell_type": "markdown",
   "id": "cf0273e5-6111-4a3d-918f-9ae6dfe5ed47",
   "metadata": {},
   "source": [
    "## 04.Separe os clientes em 5 grupos de acordo com o valor pago por cliente:"
   ]
  },
  {
   "cell_type": "code",
   "execution_count": 112,
   "id": "0fee7c98-c6ec-4c71-bd1b-ba9c0d8cf0cd",
   "metadata": {},
   "outputs": [
    {
     "data": {
      "text/plain": [
       "<psycopg.Cursor [COMMAND_OK] [INTRANS] (host=172.25.224.1 database=postgres) at 0x7fe4907a6980>"
      ]
     },
     "execution_count": 112,
     "metadata": {},
     "output_type": "execute_result"
    }
   ],
   "source": [
    "query = ''' \n",
    "-- 04.Separe os clientes em 5 grupos de acordo com o valor pago por cliente\n",
    "CREATE VIEW VIEW_TOTAL_REVENUES_PER_CUSTOMER_GROUP AS\n",
    "WITH\n",
    "\tCUSTOMERORDERDETAILS AS (\n",
    "\t\tSELECT\n",
    "\t\t\tC.COMPANY_NAME,\n",
    "\t\t\tOD.UNIT_PRICE,\n",
    "\t\t\tOD.QUANTITY,\n",
    "\t\t\tOD.DISCOUNT\n",
    "\t\tFROM\n",
    "\t\t\tCUSTOMERS C\n",
    "\t\t\tINNER JOIN ORDERS O ON C.CUSTOMER_ID = O.CUSTOMER_ID\n",
    "\t\t\tINNER JOIN ORDER_DETAILS OD ON OD.ORDER_ID = O.ORDER_ID\n",
    "\t),\n",
    "\tREVENUEPERCUSTOMER AS (\n",
    "\t\tSELECT\n",
    "\t\t\tCOMPANY_NAME,\n",
    "\t\t\tSUM(UNIT_PRICE * QUANTITY * (1.0 - DISCOUNT)) AS TOTAL\n",
    "\t\tFROM\n",
    "\t\t\tCUSTOMERORDERDETAILS\n",
    "\t\tGROUP BY\n",
    "\t\t\tCOMPANY_NAME\n",
    "\t)\n",
    "SELECT\n",
    "\tCOMPANY_NAME,\n",
    "\tTOTAL,\n",
    "\tNTILE(5) OVER (\n",
    "\t\tORDER BY\n",
    "\t\t\tTOTAL DESC\n",
    "\t) AS GROUP_NUMBER\n",
    "FROM\n",
    "\tREVENUEPERCUSTOMER\n",
    "ORDER BY\n",
    "\tTOTAL DESC;\n",
    "'''\n",
    "cursor.execute(query)"
   ]
  },
  {
   "cell_type": "code",
   "execution_count": 113,
   "id": "376635bd-d69f-486f-8465-ff8ad3f841eb",
   "metadata": {},
   "outputs": [
    {
     "data": {
      "text/html": [
       "<div>\n",
       "<style scoped>\n",
       "    .dataframe tbody tr th:only-of-type {\n",
       "        vertical-align: middle;\n",
       "    }\n",
       "\n",
       "    .dataframe tbody tr th {\n",
       "        vertical-align: top;\n",
       "    }\n",
       "\n",
       "    .dataframe thead th {\n",
       "        text-align: right;\n",
       "    }\n",
       "</style>\n",
       "<table border=\"1\" class=\"dataframe\">\n",
       "  <thead>\n",
       "    <tr style=\"text-align: right;\">\n",
       "      <th></th>\n",
       "      <th>company_name</th>\n",
       "      <th>total</th>\n",
       "      <th>group_number</th>\n",
       "    </tr>\n",
       "  </thead>\n",
       "  <tbody>\n",
       "    <tr>\n",
       "      <th>0</th>\n",
       "      <td>QUICK-Stop</td>\n",
       "      <td>110277.305030</td>\n",
       "      <td>1</td>\n",
       "    </tr>\n",
       "    <tr>\n",
       "      <th>1</th>\n",
       "      <td>Ernst Handel</td>\n",
       "      <td>104874.978144</td>\n",
       "      <td>1</td>\n",
       "    </tr>\n",
       "    <tr>\n",
       "      <th>2</th>\n",
       "      <td>Save-a-lot Markets</td>\n",
       "      <td>104361.949540</td>\n",
       "      <td>1</td>\n",
       "    </tr>\n",
       "    <tr>\n",
       "      <th>3</th>\n",
       "      <td>Rattlesnake Canyon Grocery</td>\n",
       "      <td>51097.800828</td>\n",
       "      <td>1</td>\n",
       "    </tr>\n",
       "    <tr>\n",
       "      <th>4</th>\n",
       "      <td>Hungry Owl All-Night Grocers</td>\n",
       "      <td>49979.905081</td>\n",
       "      <td>1</td>\n",
       "    </tr>\n",
       "  </tbody>\n",
       "</table>\n",
       "</div>"
      ],
      "text/plain": [
       "                   company_name          total  group_number\n",
       "0                    QUICK-Stop  110277.305030             1\n",
       "1                  Ernst Handel  104874.978144             1\n",
       "2            Save-a-lot Markets  104361.949540             1\n",
       "3    Rattlesnake Canyon Grocery   51097.800828             1\n",
       "4  Hungry Owl All-Night Grocers   49979.905081             1"
      ]
     },
     "execution_count": 113,
     "metadata": {},
     "output_type": "execute_result"
    }
   ],
   "source": [
    "df = pd.read_sql(\"select * from view_total_revenues_per_customer_group\",conn) \n",
    "df.head()"
   ]
  },
  {
   "cell_type": "markdown",
   "id": "381abb4e-abef-4207-9bc2-b84bff15c467",
   "metadata": {},
   "source": [
    "### Documentação da View: Agrupamento de Clientes por Valor Pago\n",
    "\n",
    "#### Objetivo:\n",
    "A criação desta view tem como finalidade categorizar os clientes em cinco grupos com base no valor total que cada cliente pagou até o momento. Esta categorização facilita a análise e segmentação dos clientes de acordo com suas contribuições financeiras para a empresa.\n",
    "\n",
    "#### Estrutura da Query:\n",
    "\n",
    "1. **Criação da View**:\n",
    "   - A view é criada com o nome `VIEW_TOTAL_REVENUES_PER_CUSTOMER_GROUP`.\n",
    "\n",
    "2. **Common Table Expressions (CTEs)**:\n",
    "   - **CUSTOMERORDERDETAILS**:\n",
    "     - Seleciona dados necessários das tabelas `CUSTOMERS`, `ORDERS` e `ORDER_DETAILS`.\n",
    "   - **REVENUEPERCUSTOMER**:\n",
    "     - Calcula o valor total pago por cada cliente.\n",
    "\n",
    "3. **Consulta Principal**:\n",
    "   - Seleciona o nome da empresa (`COMPANY_NAME`), o total de receitas (`TOTAL`) e o número do grupo (`GROUP_NUMBER`), utilizando a função `NTILE(5)` para dividir os clientes em cinco grupos com base no valor total pago em ordem decrescente.\n",
    "\n",
    "\n",
    "### Explicação Detalhada:\n",
    "\n",
    "1. **Common Table Expression (CTE) `CUSTOMERORDERDETAILS`**:\n",
    "   - Seleciona os seguintes campos:\n",
    "     - `COMPANY_NAME`: Nome da empresa cliente.\n",
    "     - `UNIT_PRICE`: Preço unitário do produto.\n",
    "     - `QUANTITY`: Quantidade do produto.\n",
    "     - `DISCOUNT`: Desconto aplicado.\n",
    "   - As tabelas `CUSTOMERS`, `ORDERS` e `ORDER_DETAILS` são unidas através de `INNER JOIN`:\n",
    "     - `CUSTOMERS` é unida a `ORDERS` pela chave `CUSTOMER_ID`.\n",
    "     - `ORDERS` é unida a `ORDER_DETAILS` pela chave `ORDER_ID`.\n",
    "\n",
    "2. **CTE `REVENUEPERCUSTOMER`**:\n",
    "   - Agrupa os dados da CTE `CUSTOMERORDERDETAILS` por `COMPANY_NAME`.\n",
    "   - Calcula a soma total das receitas para cada cliente utilizando a fórmula:\n",
    "     - `SUM(UNIT_PRICE * QUANTITY * (1.0 - DISCOUNT))`.\n",
    "\n",
    "3. **Consulta Principal**:\n",
    "   - Seleciona os seguintes campos:\n",
    "     - `COMPANY_NAME`: Nome da empresa cliente.\n",
    "     - `TOTAL`: Soma total do valor pago por cada cliente.\n",
    "     - `GROUP_NUMBER`: Número do grupo, determinado pela função `NTILE(5)`, que divide os clientes em cinco grupos com base no valor total pago, em ordem decrescente.\n",
    "   - Ordena os resultados pelo valor total (`TOTAL`) em ordem decrescente.\n",
    "\n",
    "### Benefícios:\n",
    "\n",
    "- **Segmentação de Clientes**: A view facilita a segmentação dos clientes com base no valor total pago, permitindo identificar quais clientes são mais valiosos para a empresa.\n",
    "- **Análise de Receita**: Proporciona uma visão clara das contribuições financeiras dos clientes, possibilitando análises detalhadas de receita.\n",
    "- **Melhoria na Tomada de Decisões**: A categorização ajuda na criação de estratégias de marketing e vendas específicas para cada grupo de clientes, aprimorando a tomada de decisões.\n",
    "\n",
    "### Considerações Finais:\n",
    "\n",
    "A criação da view `VIEW_TOTAL_REVENUES_PER_CUSTOMER_GROUP` é uma prática eficiente para organizar e analisar os dados de receita por cliente. A utilização de Common Table Expressions (CTEs) torna a consulta mais legível e fácil de manter. A função `NTILE(5)` facilita a classificação dos clientes em grupos, permitindo uma análise segmentada e detalhada das receitas geradas."
   ]
  },
  {
   "cell_type": "code",
   "execution_count": 122,
   "id": "ade9efe4-418c-4a9c-9ffd-3058ee2b7f84",
   "metadata": {},
   "outputs": [
    {
     "data": {
      "image/png": "[encoded data removed]",
      "text/plain": [
       "<Figure size 1200x800 with 1 Axes>"
      ]
     },
     "metadata": {},
     "output_type": "display_data"
    }
   ],
   "source": [
    "# Configurar o plot\n",
    "plt.figure(figsize=(12, 8))\n",
    "\n",
    "# Plotar o gráfico de barras\n",
    "groups = df.groupby('group_number')['total'].sum().reset_index()\n",
    "\n",
    "plt.bar(groups['group_number'], groups['total'], color='skyblue')\n",
    "plt.xlabel('Grupo de Clientes')\n",
    "plt.ylabel('Valor Total Pago')\n",
    "plt.title('Valor Total Pago por Grupo de Clientes')\n",
    "plt.xticks(groups['group_number'])\n",
    "\n",
    "# Exibir o gráfico\n",
    "plt.show()"
   ]
  },
  {
   "cell_type": "markdown",
   "id": "afbae7b2-e938-4ad5-9ec0-642824f056f2",
   "metadata": {},
   "source": [
    "## 05.Selecionar os clientes dos grupos 3, 4 e 5, ordenados pelo valor total pago"
   ]
  },
  {
   "cell_type": "code",
   "execution_count": 123,
   "id": "68269c68-c282-484b-b17a-11e7d0715595",
   "metadata": {},
   "outputs": [
    {
     "data": {
      "text/plain": [
       "<psycopg.Cursor [COMMAND_OK] [INTRANS] (host=172.25.224.1 database=postgres) at 0x7fe4907a6980>"
      ]
     },
     "execution_count": 123,
     "metadata": {},
     "output_type": "execute_result"
    }
   ],
   "source": [
    "query = '''\n",
    "-- 05.Selecionar os clientes dos grupos 3, 4 e 5, ordenados pelo valor total pago\n",
    "CREATE VIEW clients_to_marketing AS\n",
    "WITH cliente_order_details AS (\n",
    "    SELECT\n",
    "        c.company_name,\n",
    "        od.unit_price,\n",
    "        od.quantity,\n",
    "        od.discount\n",
    "    FROM\n",
    "        customers c\n",
    "    INNER JOIN orders o ON c.customer_id = o.customer_id\n",
    "    INNER JOIN order_details od ON od.order_id = o.order_id\n",
    "),\n",
    "revenue_per_customer AS (\n",
    "    SELECT\n",
    "        company_name,\n",
    "        SUM(unit_price * quantity * (1.0 - discount)) AS total,\n",
    "        NTILE(5) OVER (ORDER BY SUM(unit_price * quantity * (1.0 - discount)) DESC) AS group_number\n",
    "    FROM\n",
    "        cliente_order_details\n",
    "    GROUP BY\n",
    "        company_name\n",
    ")\n",
    "SELECT\n",
    "    company_name,\n",
    "    total,\n",
    "    group_number\n",
    "FROM\n",
    "    revenue_per_customer\n",
    "WHERE\n",
    "    group_number >= 3\n",
    "ORDER BY\n",
    "    total DESC;\n",
    "''' \n",
    "cursor.execute(query)"
   ]
  },
  {
   "cell_type": "code",
   "execution_count": 124,
   "id": "6d5d75b0-8d88-4fc8-b4b3-f0af80bfa3ea",
   "metadata": {},
   "outputs": [
    {
     "data": {
      "text/html": [
       "<div>\n",
       "<style scoped>\n",
       "    .dataframe tbody tr th:only-of-type {\n",
       "        vertical-align: middle;\n",
       "    }\n",
       "\n",
       "    .dataframe tbody tr th {\n",
       "        vertical-align: top;\n",
       "    }\n",
       "\n",
       "    .dataframe thead th {\n",
       "        text-align: right;\n",
       "    }\n",
       "</style>\n",
       "<table border=\"1\" class=\"dataframe\">\n",
       "  <thead>\n",
       "    <tr style=\"text-align: right;\">\n",
       "      <th></th>\n",
       "      <th>company_name</th>\n",
       "      <th>total</th>\n",
       "      <th>group_number</th>\n",
       "    </tr>\n",
       "  </thead>\n",
       "  <tbody>\n",
       "    <tr>\n",
       "      <th>0</th>\n",
       "      <td>Split Rail Beer &amp; Ale</td>\n",
       "      <td>11441.630072</td>\n",
       "      <td>3</td>\n",
       "    </tr>\n",
       "    <tr>\n",
       "      <th>1</th>\n",
       "      <td>Tortuga Restaurante</td>\n",
       "      <td>10812.150034</td>\n",
       "      <td>3</td>\n",
       "    </tr>\n",
       "    <tr>\n",
       "      <th>2</th>\n",
       "      <td>Maison Dewey</td>\n",
       "      <td>9736.075007</td>\n",
       "      <td>3</td>\n",
       "    </tr>\n",
       "    <tr>\n",
       "      <th>3</th>\n",
       "      <td>Die Wandernde Kuh</td>\n",
       "      <td>9588.424963</td>\n",
       "      <td>3</td>\n",
       "    </tr>\n",
       "    <tr>\n",
       "      <th>4</th>\n",
       "      <td>La maison d'Asie</td>\n",
       "      <td>9328.200015</td>\n",
       "      <td>3</td>\n",
       "    </tr>\n",
       "  </tbody>\n",
       "</table>\n",
       "</div>"
      ],
      "text/plain": [
       "            company_name         total  group_number\n",
       "0  Split Rail Beer & Ale  11441.630072             3\n",
       "1    Tortuga Restaurante  10812.150034             3\n",
       "2           Maison Dewey   9736.075007             3\n",
       "3      Die Wandernde Kuh   9588.424963             3\n",
       "4       La maison d'Asie   9328.200015             3"
      ]
     },
     "execution_count": 124,
     "metadata": {},
     "output_type": "execute_result"
    }
   ],
   "source": [
    "df = pd.read_sql(\"select * from clients_to_marketing\", conn) \n",
    "df.head()"
   ]
  },
  {
   "cell_type": "markdown",
   "id": "129548e8-6981-4da1-a64d-2a52563fd44f",
   "metadata": {},
   "source": [
    "#### Estrutura da Query\n",
    "A query utiliza Common Table Expressions (CTEs) para estruturar e organizar a lógica, tornando-a mais legível e eficiente. A view final apresenta os clientes com seus respectivos valores totais pagos e os grupos aos quais pertencem, filtrando para exibir apenas os clientes dos grupos 3, 4 e 5.\n",
    "\n",
    "#### Descrição Detalhada da Query\n",
    "\n",
    "1. **Criação da View `clients_to_marketing`**:\n",
    "   - A view é criada para armazenar os resultados da query.\n",
    "\n",
    "2. **Common Table Expression (CTE) `cliente_order_details`**:\n",
    "   - **Objetivo**: Selecionar e unir detalhes de pedidos de clientes das tabelas `customers`, `orders` e `order_details`.\n",
    "   - **Estrutura**:\n",
    "     ```sql\n",
    "     WITH cliente_order_details AS (\n",
    "         SELECT\n",
    "             c.company_name,\n",
    "             od.unit_price,\n",
    "             od.quantity,\n",
    "             od.discount\n",
    "         FROM\n",
    "             customers c\n",
    "         INNER JOIN orders o ON c.customer_id = o.customer_id\n",
    "         INNER JOIN order_details od ON od.order_id = o.order_id\n",
    "     ),\n",
    "     ```\n",
    "     - **Colunas Selecionadas**:\n",
    "       - `c.company_name`: Nome da empresa cliente.\n",
    "       - `od.unit_price`: Preço unitário dos produtos.\n",
    "       - `od.quantity`: Quantidade dos produtos.\n",
    "       - `od.discount`: Desconto aplicado.\n",
    "\n",
    "3. **CTE `revenue_per_customer`**:\n",
    "   - **Objetivo**: Calcular o valor total pago por cada cliente e dividi-los em cinco grupos com base nesse valor.\n",
    "   - **Estrutura**:\n",
    "     ```sql\n",
    "     revenue_per_customer AS (\n",
    "         SELECT\n",
    "             company_name,\n",
    "             SUM(unit_price * quantity * (1.0 - discount)) AS total,\n",
    "             NTILE(5) OVER (ORDER BY SUM(unit_price * quantity * (1.0 - discount)) DESC) AS group_number\n",
    "         FROM\n",
    "             cliente_order_details\n",
    "         GROUP BY\n",
    "             company_name\n",
    "     )\n",
    "     ```\n",
    "     - **Colunas Selecionadas**:\n",
    "       - `company_name`: Nome da empresa cliente.\n",
    "       - `total`: Soma total do valor pago, calculada como `SUM(unit_price * quantity * (1.0 - discount))`.\n",
    "       - `group_number`: Número do grupo, de 1 a 5, determinado pela função `NTILE(5)`.\n",
    "\n",
    "4. **Consulta Principal**:\n",
    "   - **Objetivo**: Selecionar os clientes dos grupos 3, 4 e 5, ordenados pelo valor total pago.\n",
    "   - **Estrutura**:\n",
    "     ```sql\n",
    "     SELECT\n",
    "         company_name,\n",
    "         total,\n",
    "         group_number\n",
    "     FROM\n",
    "         revenue_per_customer\n",
    "     WHERE\n",
    "         group_number >= 3\n",
    "     ORDER BY\n",
    "         total DESC;\n",
    "     ```\n",
    "     - **Filtragem**:\n",
    "       - `WHERE group_number >= 3`: Inclui apenas os clientes dos grupos 3, 4 e 5.\n",
    "     - **Ordenação**:\n",
    "       - `ORDER BY total DESC`: Ordena os clientes pelo valor total pago, em ordem decrescente.\n",
    "\n",
    "### Resultado Esperado\n",
    "A view `clients_to_marketing` resultante contém os seguintes campos para os clientes que estão nos grupos 3, 4 e 5:\n",
    "- `company_name`: Nome da empresa cliente.\n",
    "- `total`: Valor total pago.\n",
    "- `group_number`: Número do grupo ao qual o cliente pertence, de 3 a 5."
   ]
  },
  {
   "cell_type": "markdown",
   "id": "8b73df72-6421-4583-a93f-78332fa8a6df",
   "metadata": {},
   "source": [
    "## 06.Identificar os 10 produtos mais vendidos:"
   ]
  },
  {
   "cell_type": "code",
   "execution_count": 128,
   "id": "a2fa95aa-5cb2-4455-a185-b7f634088f64",
   "metadata": {},
   "outputs": [
    {
     "data": {
      "text/plain": [
       "<psycopg.Cursor [COMMAND_OK] [INTRANS] (host=172.25.224.1 database=postgres) at 0x7fe43f5643b0>"
      ]
     },
     "execution_count": 128,
     "metadata": {},
     "output_type": "execute_result"
    }
   ],
   "source": [
    "query = ''' \n",
    "-- 06. Identificar os 10 produtos mais vendidos:\n",
    "CREATE VIEW TOP_10_PRODUCTS AS\n",
    "SELECT\n",
    "\tPRODUCTS.PRODUCT_NAME,\n",
    "\tSUM(\n",
    "\t\tORDER_DETAILS.UNIT_PRICE * ORDER_DETAILS.QUANTITY * (1.0 - ORDER_DETAILS.DISCOUNT)\n",
    "\t) AS SALES\n",
    "FROM\n",
    "\tPRODUCTS\n",
    "\tINNER JOIN ORDER_DETAILS ON ORDER_DETAILS.PRODUCT_ID = PRODUCTS.PRODUCT_ID\n",
    "GROUP BY\n",
    "\tPRODUCTS.PRODUCT_NAME\n",
    "ORDER BY SALES DESC;\n",
    "''' \n",
    "cursor.execute(query)"
   ]
  },
  {
   "cell_type": "code",
   "execution_count": 131,
   "id": "107b2d9a-160e-48ff-a5e3-5c9b1d0d480a",
   "metadata": {},
   "outputs": [
    {
     "data": {
      "text/html": [
       "<div>\n",
       "<style scoped>\n",
       "    .dataframe tbody tr th:only-of-type {\n",
       "        vertical-align: middle;\n",
       "    }\n",
       "\n",
       "    .dataframe tbody tr th {\n",
       "        vertical-align: top;\n",
       "    }\n",
       "\n",
       "    .dataframe thead th {\n",
       "        text-align: right;\n",
       "    }\n",
       "</style>\n",
       "<table border=\"1\" class=\"dataframe\">\n",
       "  <thead>\n",
       "    <tr style=\"text-align: right;\">\n",
       "      <th></th>\n",
       "      <th>product_name</th>\n",
       "      <th>sales</th>\n",
       "    </tr>\n",
       "  </thead>\n",
       "  <tbody>\n",
       "    <tr>\n",
       "      <th>0</th>\n",
       "      <td>Côte de Blaye</td>\n",
       "      <td>141396.735627</td>\n",
       "    </tr>\n",
       "    <tr>\n",
       "      <th>1</th>\n",
       "      <td>Thüringer Rostbratwurst</td>\n",
       "      <td>80368.672439</td>\n",
       "    </tr>\n",
       "    <tr>\n",
       "      <th>2</th>\n",
       "      <td>Raclette Courdavault</td>\n",
       "      <td>71155.699909</td>\n",
       "    </tr>\n",
       "    <tr>\n",
       "      <th>3</th>\n",
       "      <td>Tarte au sucre</td>\n",
       "      <td>47234.969979</td>\n",
       "    </tr>\n",
       "    <tr>\n",
       "      <th>4</th>\n",
       "      <td>Camembert Pierrot</td>\n",
       "      <td>46825.480295</td>\n",
       "    </tr>\n",
       "    <tr>\n",
       "      <th>5</th>\n",
       "      <td>Gnocchi di nonna Alice</td>\n",
       "      <td>42593.059822</td>\n",
       "    </tr>\n",
       "    <tr>\n",
       "      <th>6</th>\n",
       "      <td>Manjimup Dried Apples</td>\n",
       "      <td>41819.650246</td>\n",
       "    </tr>\n",
       "    <tr>\n",
       "      <th>7</th>\n",
       "      <td>Alice Mutton</td>\n",
       "      <td>32698.380216</td>\n",
       "    </tr>\n",
       "    <tr>\n",
       "      <th>8</th>\n",
       "      <td>Carnarvon Tigers</td>\n",
       "      <td>29171.874963</td>\n",
       "    </tr>\n",
       "    <tr>\n",
       "      <th>9</th>\n",
       "      <td>Rössle Sauerkraut</td>\n",
       "      <td>25696.639789</td>\n",
       "    </tr>\n",
       "  </tbody>\n",
       "</table>\n",
       "</div>"
      ],
      "text/plain": [
       "              product_name          sales\n",
       "0            Côte de Blaye  141396.735627\n",
       "1  Thüringer Rostbratwurst   80368.672439\n",
       "2     Raclette Courdavault   71155.699909\n",
       "3           Tarte au sucre   47234.969979\n",
       "4        Camembert Pierrot   46825.480295\n",
       "5   Gnocchi di nonna Alice   42593.059822\n",
       "6    Manjimup Dried Apples   41819.650246\n",
       "7             Alice Mutton   32698.380216\n",
       "8         Carnarvon Tigers   29171.874963\n",
       "9        Rössle Sauerkraut   25696.639789"
      ]
     },
     "execution_count": 131,
     "metadata": {},
     "output_type": "execute_result"
    }
   ],
   "source": [
    "pd.read_sql(\"select * from TOP_10_PRODUCTS\", conn).head(10)"
   ]
  },
  {
   "cell_type": "markdown",
   "id": "390e7f2d-09f3-434b-b068-8326cb52fa9c",
   "metadata": {},
   "source": [
    "## 07. Quais clientes do Reino Unido pagaram mais de 1000 dólares?"
   ]
  },
  {
   "cell_type": "code",
   "execution_count": 135,
   "id": "9a1336a3-a951-4538-b5bf-265956145b2f",
   "metadata": {},
   "outputs": [
    {
     "data": {
      "text/plain": [
       "<psycopg.Cursor [COMMAND_OK] [INTRANS] (host=172.25.224.1 database=postgres) at 0x7fe4418e7110>"
      ]
     },
     "execution_count": 135,
     "metadata": {},
     "output_type": "execute_result"
    }
   ],
   "source": [
    "query = ''' \n",
    "-- 07. Quais clientes do Reino Unido pagaram mais de 1000 dólares?\n",
    "CREATE VIEW uk_clients_who_pay_more_than_1000 AS\n",
    "WITH customer_order_details AS (\n",
    "    SELECT\n",
    "        c.contact_name,\n",
    "        od.unit_price,\n",
    "        od.quantity,\n",
    "        od.discount\n",
    "    FROM\n",
    "        customers c\n",
    "    INNER JOIN orders o ON c.customer_id = o.customer_id\n",
    "    INNER JOIN order_details od ON od.order_id = o.order_id\n",
    "    WHERE LOWER(c.country) = 'uk'\n",
    ")\n",
    "SELECT\n",
    "    contact_name,\n",
    "    SUM(unit_price * quantity * (1.0 - discount)) AS payments\n",
    "FROM\n",
    "    customer_order_details\n",
    "GROUP BY\n",
    "    contact_name\n",
    "HAVING\n",
    "    SUM(unit_price * quantity * (1.0 - discount)) > 1000;\n",
    "''' \n",
    "cursor.execute(query)"
   ]
  },
  {
   "cell_type": "code",
   "execution_count": 136,
   "id": "6053332d-7304-4bf7-bc60-308bd5bab17c",
   "metadata": {},
   "outputs": [
    {
     "data": {
      "text/html": [
       "<div>\n",
       "<style scoped>\n",
       "    .dataframe tbody tr th:only-of-type {\n",
       "        vertical-align: middle;\n",
       "    }\n",
       "\n",
       "    .dataframe tbody tr th {\n",
       "        vertical-align: top;\n",
       "    }\n",
       "\n",
       "    .dataframe thead th {\n",
       "        text-align: right;\n",
       "    }\n",
       "</style>\n",
       "<table border=\"1\" class=\"dataframe\">\n",
       "  <thead>\n",
       "    <tr style=\"text-align: right;\">\n",
       "      <th></th>\n",
       "      <th>contact_name</th>\n",
       "      <th>payments</th>\n",
       "    </tr>\n",
       "  </thead>\n",
       "  <tbody>\n",
       "    <tr>\n",
       "      <th>0</th>\n",
       "      <td>Ann Devon</td>\n",
       "      <td>14761.034930</td>\n",
       "    </tr>\n",
       "    <tr>\n",
       "      <th>1</th>\n",
       "      <td>Victoria Ashworth</td>\n",
       "      <td>6089.899990</td>\n",
       "    </tr>\n",
       "    <tr>\n",
       "      <th>2</th>\n",
       "      <td>Thomas Hardy</td>\n",
       "      <td>13390.649974</td>\n",
       "    </tr>\n",
       "    <tr>\n",
       "      <th>3</th>\n",
       "      <td>Hari Kumar</td>\n",
       "      <td>16215.325044</td>\n",
       "    </tr>\n",
       "    <tr>\n",
       "      <th>4</th>\n",
       "      <td>Helen Bennett</td>\n",
       "      <td>6146.299985</td>\n",
       "    </tr>\n",
       "  </tbody>\n",
       "</table>\n",
       "</div>"
      ],
      "text/plain": [
       "        contact_name      payments\n",
       "0          Ann Devon  14761.034930\n",
       "1  Victoria Ashworth   6089.899990\n",
       "2       Thomas Hardy  13390.649974\n",
       "3         Hari Kumar  16215.325044\n",
       "4      Helen Bennett   6146.299985"
      ]
     },
     "execution_count": 136,
     "metadata": {},
     "output_type": "execute_result"
    }
   ],
   "source": [
    "pd.read_sql(\"select * from uk_clients_who_pay_more_than_1000\", conn).head()"
   ]
  },
  {
   "cell_type": "markdown",
   "id": "555ef5d8-a336-4070-ac39-48f9f418d648",
   "metadata": {},
   "source": [
    "#### Objetivo\n",
    "A view `uk_clients_who_pay_more_than_1000` tem como objetivo identificar os clientes localizados no Reino Unido que realizaram pagamentos totais superiores a 1000 dólares.\n",
    "\n",
    "#### Estrutura da Query\n",
    "1. **Criação da View**:\n",
    "   - A view é criada com o nome `uk_clients_who_pay_more_than_1000`.\n",
    "2. **Common Table Expression (CTE) `customer_order_details`**:\n",
    "   - Seleciona os detalhes das ordens para clientes do Reino Unido, incluindo o nome do contato, preço unitário dos produtos, quantidade e desconto.\n",
    "   - Filtra os clientes pelo país, convertendo a entrada para minúsculas para garantir a correspondência correta.\n",
    "3. **Consulta Principal**:\n",
    "   - Calcula o valor total pago por cada cliente, agrupando os resultados pelo nome do contato.\n",
    "   - Filtra os resultados para incluir apenas os clientes cujos pagamentos totais excedem 1000 dólares.\n",
    "\n",
    "#### Explicação Detalhada:\n",
    "\n",
    "1. **Common Table Expression (CTE) `customer_order_details`**:\n",
    "   - Seleciona os detalhes das ordens para clientes do Reino Unido.\n",
    "   - Filtra os clientes pelo país utilizando `LOWER(c.country) = 'uk'`, convertendo a entrada para minúsculas para garantir correspondência exata.\n",
    "   \n",
    "2. **Consulta Principal**:\n",
    "   - Calcula o valor total pago por cada cliente, somando o preço unitário dos produtos multiplicado pela quantidade e desconto.\n",
    "   - Agrupa os resultados pelo nome do contato.\n",
    "   - Utiliza a cláusula `HAVING` para filtrar os resultados e incluir apenas os clientes cujos pagamentos totais superam 1000 dólares.\n",
    "\n",
    "#### Benefícios da Query:\n",
    "\n",
    "- **Identificação Precisa**: A query fornece uma lista precisa dos clientes do Reino Unido que pagaram mais de 1000 dólares, facilitando análises financeiras e ações de marketing direcionadas.\n",
    "- **Eficiência**: O uso de CTEs e a filtragem por país garantem uma execução eficiente da consulta, minimizando o processamento desnecessário de dados.\n",
    "\n",
    "#### Resultado Esperado\n",
    "A view `uk_clients_who_pay_more_than_1000` contém os seguintes campos para os clientes do Reino Unido com pagamentos superiores a 1000 dólares:\n",
    "- `contact_name`: Nome do contato do cliente.\n",
    "- `payments`: Valor total pago por cada cliente."
   ]
  },
  {
   "cell_type": "markdown",
   "id": "bf614756-a13e-4787-b370-6699d41c183e",
   "metadata": {},
   "source": [
    "#### A análise de dados com SQL é uma habilidade fundamental para profissionais de diversas áreas, permitindo a extração de insights valiosos de grandes conjuntos de dados. Ao dominar conceitos como seleção, filtragem, agregação e análise temporal, além de técnicas avançadas como a criação de gráficos, somos capazes de tomar decisões mais informadas, identificar tendências e padrões, otimizar recursos e aumentar a competitividade no mercado. Com a análise de dados, contribuímos para o sucesso e crescimento das organizações em que atuamos, impulsionando a inovação e a eficácia das estratégias adotadas."
   ]
  },
  {
   "cell_type": "code",
   "execution_count": null,
   "id": "513d3686-7cd0-403a-85b5-4d89ea29253a",
   "metadata": {},
   "outputs": [],
   "source": []
  }
 ],
 "metadata": {
  "kernelspec": {
   "display_name": "Python 3 (ipykernel)",
   "language": "python",
   "name": "python3"
  },
  "language_info": {
   "codemirror_mode": {
    "name": "ipython",
    "version": 3
   },
   "file_extension": ".py",
   "mimetype": "text/x-python",
   "name": "python",
   "nbconvert_exporter": "python",
   "pygments_lexer": "ipython3",
   "version": "3.10.13"
  }
 },
 "nbformat": 4,
 "nbformat_minor": 5
}
