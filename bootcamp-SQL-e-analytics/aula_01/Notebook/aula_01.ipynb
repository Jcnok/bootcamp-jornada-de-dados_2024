{
 "cells": [
  {
   "cell_type": "markdown",
   "id": "1e6c2d69-a4aa-4806-9442-6abf4d8baa48",
   "metadata": {},
   "source": [
    "# Aula 01 - Visão Geral e Preparação do ambiente SQL\n",
    "\n",
    "## Introdução\n",
    "\n",
    "Bem-vindos ao nosso workshop sobre SQL e PostgreSQL. Hoje, vamos mergulhar nos conceitos básicos de bancos de dados e como o PostgreSQL pode ser utilizado para gerenciar dados de forma eficiente. Nosso objetivo é garantir que todos vocês tenham uma boa base para explorar mais sobre SQL e operações de banco de dados nos próximos dias.\n",
    "\n",
    "## Por que Postgres?\n",
    "\n",
    "PostgreSQL é um sistema de gerenciamento de banco de dados relacional (RDBMS) desenvolvido no Departamento de Ciência da Computação da Universidade da Califórnia em Berkeley. POSTGRES foi pioneiro em muitos conceitos que só se tornaram disponíveis em alguns sistemas de banco de dados comerciais muito mais tarde:\n",
    "\n",
    "* complex queries\n",
    "* foreign keys\n",
    "* triggers\n",
    "* updatable views\n",
    "* transactional integrity\n",
    "\n",
    "Além disso, o PostgreSQL pode ser estendido pelo usuário de várias maneiras, por exemplo, adicionando novos\n",
    "\n",
    "* data types\n",
    "* functions\n",
    "* operators\n",
    "* aggregate functions\n",
    "* index methods\n",
    "* procedural languages\n",
    "\n",
    "## Informações Adicionais \n",
    "\n",
    "Além do conteúdo do curso, recomendo alguns outros lugares para estudo.\n",
    "\n",
    "[Documentação](https://www.postgresql.org/docs/current/index.html) Documentação oficial do Postgres, todas as features estão aqui.\n",
    "\n",
    "\n",
    "[Wiki](https://wiki.postgresql.org/wiki/Main_Page) A wiki do PostgreSQL contém a lista de Perguntas Frequentes (FAQ), lista de tarefas pendentes (TODO) e informações detalhadas sobre muitos outros tópicos.\n",
    "\n",
    "[Site](https://www.postgresql.org/) na Web O site do PostgreSQL fornece detalhes sobre a última versão e outras informações para tornar seu trabalho ou lazer com o PostgreSQL mais produtivo.\n",
    "\n",
    "[Comunidade](https://github.com/postgres/postgres) O código O PostgreSQL é um projeto de código aberto. Como tal, depende da comunidade de usuários para suporte contínuo. À medida que você começa a usar o PostgreSQL, dependerá de outros para obter ajuda, seja através da documentação ou através das listas de discussão. Considere devolver o seu conhecimento. Leia as listas de discussão e responda às perguntas. Se você aprender algo que não está na documentação, escreva e contribua com isso. Se você adicionar recursos ao código, contribua com eles.\n",
    "\n",
    "## Instalação\n",
    "\n",
    "Antes de poder usar o PostgreSQL, você precisa instalá-lo, é claro. É possível que o PostgreSQL já esteja instalado em seu local, seja porque foi incluído na distribuição do seu sistema operacional ou porque o administrador do sistema já o instalou.\n",
    "\n",
    "Se você não tem certeza se o PostgreSQL já está disponível ou se você pode usá-lo para suas experimentações, então você pode instalá-lo por conta própria. Fazer isso não é difícil e pode ser um bom exercício.\n",
    "\n",
    "- Instalando o postgres Local\n",
    "\n",
    "## Fundamentos da Arquitetura\n",
    "\n",
    "Antes de prosseguirmos, é importante que você entenda a arquitetura básica do sistema PostgreSQL. Compreender como as partes do PostgreSQL interagem tornará tudo mais fácil.\n",
    "\n",
    "No jargão de tecnologia, o PostgreSQL utiliza um modelo cliente/servidor. \n",
    "\n",
    "Um processo servidor, que gerencia os arquivos de banco de dados, aceita conexões com o banco de dados de aplicações cliente e executa ações no banco de dados em nome dos clientes. O programa do servidor de banco de dados é chamado de postgres.\n",
    "\n",
    "A aplicação cliente do usuário (frontend) que deseja realizar operações de banco de dados. As aplicações cliente podem ser muito diversas em natureza: um cliente pode ser uma ferramenta orientada a texto, uma aplicação gráfica, um servidor web que acessa o banco de dados para exibir páginas web ou uma ferramenta especializada de manutenção de banco de dados. Algumas aplicações cliente são fornecidas com a distribuição do PostgreSQL; a maioria é desenvolvida pelos usuários.\n",
    "\n",
    "Como é típico em aplicações cliente/servidor, o cliente e o servidor podem estar em hosts diferentes. Nesse caso, eles se comunicam por uma conexão de rede TCP/IP. Você deve ter isso em mente, porque os arquivos que podem ser acessados em uma máquina cliente podem não ser acessíveis (ou podem ser acessíveis apenas com um nome de arquivo diferente) na máquina do servidor de banco de dados.\n",
    "\n",
    "O servidor PostgreSQL pode lidar com múltiplas conexões simultâneas de clientes. Para alcançar isso, ele inicia (“forks”) um novo processo para cada conexão. A partir desse ponto, o cliente e o novo processo servidor se comunicam sem intervenção do processo postgres original. Assim, o processo servidor supervisor está sempre em execução, aguardando conexões de clientes, enquanto os processos de clientes e servidores associados vêm e vão. (Tudo isso, é claro, é invisível para o usuário. Só mencionamos isso aqui para completude.)\n",
    "\n",
    "## Criando um Banco de Dados\n",
    "\n",
    "O primeiro teste para verificar se você pode acessar o servidor de banco de dados é tentar criar um banco de dados. Um servidor PostgreSQL em execução pode gerenciar vários bancos de dados. Tipicamente, um banco de dados separado é usado para cada projeto ou usuário.\n",
    "\n",
    "Para isso vamos entrar dentro do nosso cliente `pgAdmin 4`\n",
    "\n",
    "Também podemos nos conectar em servidores remoto, ex: `Render`\n",
    "\n",
    "## Criando nosso Schema\n",
    "\n",
    "![Northwind database](../img/ER.png)\n",
    "\n",
    "Para este projeto, vamos utilizar um script SQL simples que preencherá um banco de dados com o famoso exemplo [Northwind](https://github.com/pthom/northwind_psql), adaptado para o PostgreSQL. Esse script configurará o banco de dados Northwind no PostgreSQL, criando todas as tabelas necessárias e inserindo dados de exemplo para que você possa começar a trabalhar imediatamente com consultas e análises SQL em um contexto prático. Este banco de dados de exemplo é uma ótima ferramenta para aprender e praticar as operações e técnicas de SQL, especialmente útil para entender como manipular dados relacionais em um ambiente realista.\n",
    "\n",
    "## Primeiros comandos\n",
    "\n",
    "Vamos agora para um guia introdutório para operações básicas de SQL utilizando o banco de dados Northwind. Cada comando SQL será explicado com uma breve introdução para ajudar no entendimento e aplicação prática.\n",
    "\n",
    "#### Exemplo de Seleção Completa\n",
    "\n",
    "Para selecionar todos os dados de uma tabela:\n",
    "\n",
    "```sql\n",
    "-- Exibe todos os registros da tabela Customers\n",
    "SELECT * FROM customers;\n",
    "```\n",
    "\n",
    "#### Seleção de Colunas Específicas\n",
    "\n",
    "Para selecionar colunas específicas:\n",
    "\n",
    "```sql\n",
    "-- Exibe o nome de contato e a cidade dos clientes\n",
    "SELECT contact_name, city FROM customers;\n",
    "```\n",
    "\n",
    "#### Utilizando DISTINCT\n",
    "\n",
    "Para selecionar valores distintos:\n",
    "\n",
    "```sql\n",
    "-- Lista todos os países dos clientes\n",
    "SELECT country FROM customers;\n",
    "-- Lista os países sem repetição\n",
    "SELECT DISTINCT country FROM customers;\n",
    "-- Conta quantos países únicos existem\n",
    "SELECT COUNT(DISTINCT country) FROM customers;\n",
    "```\n",
    "\n",
    "#### Cláusula WHERE\n",
    "\n",
    "Para filtrar registros:\n",
    "\n",
    "```sql\n",
    "-- Seleciona todos os clientes do México\n",
    "SELECT * FROM customers WHERE country='Mexico';\n",
    "-- Seleciona clientes com ID específico\n",
    "SELECT * FROM customers WHERE customer_id='ANATR';\n",
    "-- Utiliza AND para múltiplos critérios\n",
    "SELECT * FROM customers WHERE country='Germany' AND city='Berlin';\n",
    "-- Utiliza OR para mais de uma cidade\n",
    "SELECT * FROM customers WHERE city='Berlin' OR city='Aachen';\n",
    "-- Utiliza NOT para excluir a Alemanha\n",
    "SELECT * FROM customers WHERE country<>'Germany';\n",
    "-- Combina AND, OR e NOT\n",
    "SELECT * FROM customers WHERE country='Germany' AND (city='Berlin' OR city='Aachen');\n",
    "-- Exclui clientes da Alemanha e EUA\n",
    "SELECT * FROM customers WHERE country<>'Germany' AND country<>'USA';\n",
    "```\n",
    "\n",
    "#### ORDER BY\n",
    "\n",
    "Para ordenar os resultados:\n",
    "\n",
    "```sql\n",
    "-- Ordena clientes pelo país\n",
    "SELECT * FROM customers ORDER BY country;\n",
    "-- Ordena por país em ordem descendente\n",
    "SELECT * FROM customers ORDER BY country DESC;\n",
    "-- Ordena por país e nome do contato\n",
    "SELECT * FROM customers ORDER BY country, contact_name;\n",
    "-- Ordena por país em ordem ascendente e nome em ordem descendente\n",
    "SELECT * FROM customers ORDER BY country ASC, contact_name DESC;\n",
    "```\n",
    "\n",
    "#### Utilizando LIKE e IN\n",
    "Para busca por padrões e listas de valores:\n",
    "\n",
    "```sql\n",
    "-- Clientes com nome de contato começando por \"a\"\n",
    "SELECT * FROM customers WHERE contact_name LIKE 'a%';\n",
    "-- Clientes com nome de contato não começando por \"a\"\n",
    "SELECT * FROM customers WHERE contact_name NOT LIKE 'a%';\n",
    "-- Clientes de países específicos\n",
    "SELECT * FROM customers WHERE country IN ('Germany', 'France', 'UK');\n",
    "-- Clientes não localizados em 'Germany', 'France', 'UK'\n",
    "SELECT * FROM customers WHERE country NOT IN ('Germany', 'France', 'UK');\n",
    "```\n",
    "\n",
    "#### Desafio\n",
    "\n",
    "* [x] Instalar o Postgres\n",
    "* [x] Criar o projeto Northwind local\n",
    "* [] Realizar todos os comandos acima"
   ]
  },
  {
   "cell_type": "markdown",
   "id": "dae6de99-9906-4be9-92fa-5b6b1d82a81d",
   "metadata": {},
   "source": [
    "## Instalando o postgres:"
   ]
  },
  {
   "cell_type": "markdown",
   "id": "f7ab831f-ef57-4f38-894e-9c65cee73275",
   "metadata": {},
   "source": [
    "[Link para instalação](https://www.enterprisedb.com/downloads/postgres-postgresql-downloads)"
   ]
  },
  {
   "cell_type": "markdown",
   "id": "dd1ed067-2556-4019-b3aa-2d9d38e3b859",
   "metadata": {},
   "source": [
    "## Criar o projeto Northwind local"
   ]
  },
  {
   "cell_type": "markdown",
   "id": "80dd598f-8632-4404-8745-38abe93c0add",
   "metadata": {},
   "source": [
    "### psycopg3: Biblioteca para Conexão com PostgreSQL em Python\n",
    "\n",
    "O `psycopg3` é a nova geração da biblioteca `psycopg` para conexão com PostgreSQL em Python. Ele traz várias melhorias em relação ao `psycopg2`, como uma melhor performance, suporte a programação assíncrona e uma API mais moderna.\n",
    "\n",
    "#### Principais Características:\n",
    "\n",
    "1. **Assíncrono**: Suporte a operações assíncronas usando `asyncio`.\n",
    "2. **Performance**: Melhorias significativas em desempenho.\n",
    "3. **API Moderna**: Interface atualizada e mais intuitiva.\n",
    "\n",
    "#### Documentação\n",
    "\n",
    "Para mais detalhes sobre o `psycopg3`, incluindo instalação, exemplos avançados e configurações, consulte a [documentação oficial do psycopg3](https://www.psycopg.org/psycopg3/docs/).\n",
    "\n",
    "---\n"
   ]
  },
  {
   "cell_type": "code",
   "execution_count": 3,
   "id": "81b4f77b-967f-4185-aca5-4fe0e747f48b",
   "metadata": {},
   "outputs": [
    {
     "data": {
      "text/plain": [
       "['/home/jcnok/bootcamps/bootcamp-jornada-de-dados_2024/bootcamp-SQL-e-analytics/aula_01/.venv/lib/python3.10/site-packages']"
      ]
     },
     "execution_count": 3,
     "metadata": {},
     "output_type": "execute_result"
    }
   ],
   "source": [
    "# Verificando se o ambiente virtual está setado corretamente.\n",
    "import site \n",
    "site.getsitepackages()"
   ]
  },
  {
   "cell_type": "code",
   "execution_count": 5,
   "id": "e1605edd-2308-44be-abaa-00eb60f56a6a",
   "metadata": {},
   "outputs": [],
   "source": [
    "# Verificando e setando a raiz do projeto \n",
    "import os \n",
    "os.getcwd()\n",
    "os.chdir(\"/home/jcnok/bootcamps/bootcamp-jornada-de-dados_2024/bootcamp-SQL-e-analytics/aula_01\")"
   ]
  },
  {
   "cell_type": "code",
   "execution_count": 8,
   "id": "1eda9c4f-1675-411a-bcc9-375135058276",
   "metadata": {},
   "outputs": [
    {
     "name": "stdout",
     "output_type": "stream",
     "text": [
      "Requirement already satisfied: pip in ./.venv/lib/python3.10/site-packages (24.0)\n"
     ]
    }
   ],
   "source": [
    "#Atualizando o pip\n",
    "!pip install --upgrade pip"
   ]
  },
  {
   "cell_type": "code",
   "execution_count": 9,
   "id": "8dfb0d0c-406d-49b5-8281-e37357fe7ed3",
   "metadata": {},
   "outputs": [
    {
     "name": "stdout",
     "output_type": "stream",
     "text": [
      "Using version \u001b[39;1m^3.1.19\u001b[39;22m for \u001b[36mpsycopg\u001b[39m\n",
      "\n",
      "\u001b[34mUpdating dependencies\u001b[39m\n",
      "\u001b[2K\u001b[34mResolving dependencies...\u001b[39m \u001b[39;2m(0.8s)\u001b[39;22m\n",
      "\n",
      "No dependencies to install or update\n",
      "\n",
      "\u001b[34mWriting lock file\u001b[39m\n"
     ]
    }
   ],
   "source": [
    "#instalando o psycopg3\n",
    "!poetry add \"psycopg[binary]\""
   ]
  },
  {
   "cell_type": "markdown",
   "id": "47cb166a-3f02-42a7-aedb-d093b52bb153",
   "metadata": {},
   "source": [
    "## Importante:\n",
    "* Foi necessário, acessar o windows firewall e configuração avançada e criar uma regra de entrada para a porta 5432\n",
    "* Adicionar listen_addresses = '*'             # aceitar conexões de qualquer endereço IP no arquivo postgresql.conf \n",
    "* Adicionar em C:\\Program Files\\PostgreSQL\\16\\pg_hba.conf as informações no final do arquivo: host    all             all             0.0.0.0/0            md5"
   ]
  },
  {
   "cell_type": "code",
   "execution_count": 1,
   "id": "1260dbb4-6f39-4e06-a545-4e949aa9cc15",
   "metadata": {},
   "outputs": [
    {
     "name": "stdout",
     "output_type": "stream",
     "text": [
      "('postgres',)\n",
      "('template1',)\n",
      "('template0',)\n"
     ]
    }
   ],
   "source": [
    "import psycopg\n",
    "\n",
    "# Conexão síncrona\n",
    "conn = psycopg.connect(\"dbname=postgres user=postgres password=password host=172.25.224.1 port=5432\")\n",
    "cursor = conn.cursor()\n",
    "\n",
    "# Executa a consulta\n",
    "cursor.execute(\"SELECT datname FROM pg_database;\")\n",
    "\n",
    "# Obtém os resultados\n",
    "records = cursor.fetchall()\n",
    "\n",
    "# Fecha a conexão\n",
    "# cursor.close()\n",
    "# conn.close()\n",
    "\n",
    "# Exibe os resultados\n",
    "for record in records:\n",
    "    print(record)\n"
   ]
  },
  {
   "cell_type": "code",
   "execution_count": 2,
   "id": "f38fdefe-2d11-4cce-bb79-490d8fc2acac",
   "metadata": {},
   "outputs": [
    {
     "name": "stdout",
     "output_type": "stream",
     "text": [
      "('Maria Anders', 'Berlin')\n"
     ]
    }
   ],
   "source": [
    "import psycopg\n",
    "\n",
    "try:\n",
    "    # Ajuste o tempo limite de conexão (em segundos)\n",
    "    conn = psycopg.connect(\"dbname=postgres user=postgres password=password host=172.25.224.1 port=5432\", connect_timeout=10)\n",
    "    cursor = conn.cursor()\n",
    "\n",
    "    # Executa uma consulta\n",
    "    #cursor.execute(\"SELECT CURRENT_USER;\")\n",
    "    cursor.execute(\"SELECT contact_name, city FROM customers;\")\n",
    "    record = cursor.fetchone()\n",
    "    print(record)\n",
    "\n",
    "    # Fecha o cursor e a conexão\n",
    "    cursor.close()\n",
    "    conn.close()\n",
    "except psycopg.OperationalError as e:\n",
    "    print(f\"Erro de conexão: {e}\")\n"
   ]
  },
  {
   "cell_type": "code",
   "execution_count": null,
   "id": "d34bccd2-f3e4-472e-83ae-4ec3befc24cd",
   "metadata": {},
   "outputs": [],
   "source": []
  }
 ],
 "metadata": {
  "kernelspec": {
   "display_name": "Python 3 (ipykernel)",
   "language": "python",
   "name": "python3"
  },
  "language_info": {
   "codemirror_mode": {
    "name": "ipython",
    "version": 3
   },
   "file_extension": ".py",
   "mimetype": "text/x-python",
   "name": "python",
   "nbconvert_exporter": "python",
   "pygments_lexer": "ipython3",
   "version": "3.10.13"
  }
 },
 "nbformat": 4,
 "nbformat_minor": 5
}
