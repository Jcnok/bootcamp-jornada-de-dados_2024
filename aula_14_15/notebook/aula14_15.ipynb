{
 "cells": [
  {
   "cell_type": "markdown",
   "id": "3982350f-c900-496b-b2d3-2e4809128f54",
   "metadata": {},
   "source": [
    "# Aula 14&15"
   ]
  },
  {
   "cell_type": "code",
   "execution_count": 2,
   "id": "f5301d96-61f4-47a0-ae69-bf4088ddc328",
   "metadata": {},
   "outputs": [],
   "source": [
    "import os \n",
    "os.getcwd()\n",
    "os.chdir('/home/jcnok/bootcamps/bootcamp-jornada-de-dados_2024/aula_14_15')"
   ]
  },
  {
   "cell_type": "code",
   "execution_count": 16,
   "id": "951153c7-f9d2-42dc-9e89-1727b2deab29",
   "metadata": {},
   "outputs": [
    {
     "name": "stdout",
     "output_type": "stream",
     "text": [
      "Using version \u001b[39;1m^0.29.0\u001b[39;22m for \u001b[36muvicorn\u001b[39m\n",
      "\n",
      "\u001b[34mUpdating dependencies\u001b[39m\n",
      "\u001b[2K\u001b[34mResolving dependencies...\u001b[39m \u001b[39;2m(1.9s)\u001b[39;22m\u001b[34mResolving dependencies...\u001b[39m \u001b[39;2m(0.7s)\u001b[39;22m\n",
      "\n",
      "No dependencies to install or update\n",
      "\n",
      "\u001b[34mWriting lock file\u001b[39m\n"
     ]
    }
   ],
   "source": [
    "!poetry add \"uvicorn[standard]\""
   ]
  },
  {
   "cell_type": "markdown",
   "id": "57a44932-4542-456c-ba10-d36af5f211d9",
   "metadata": {},
   "source": [
    "## Criar uma api com fastapi e faker."
   ]
  },
  {
   "cell_type": "code",
   "execution_count": null,
   "id": "dda96254-0a72-4696-80a0-d682cfda73bc",
   "metadata": {},
   "outputs": [],
   "source": []
  },
  {
   "cell_type": "code",
   "execution_count": 12,
   "id": "ebe91829-9a55-473e-97ea-c4bf6d3728cc",
   "metadata": {},
   "outputs": [
    {
     "name": "stdout",
     "output_type": "stream",
     "text": [
      "Writing src/utils/api_produtos.py\n"
     ]
    }
   ],
   "source": [
    "%%writefile src/utils/api_produtos.py\n",
    "from fastapi import FastAPI\n",
    "from faker import Faker\n",
    "import pandas as pd\n",
    "import random\n",
    "\n",
    "app = FastAPI(debug=True)\n",
    "fake = Faker()\n",
    "\n",
    "# Carregar o arquivo CSV de produtos\n",
    "file_name = 'data/products.csv'\n",
    "df = pd.read_csv(file_name)\n",
    "df['indice'] = range(1, len(df) + 1)\n",
    "df.set_index('indice', inplace=True)\n",
    "\n",
    "loja_padrao_online = 11\n",
    "\n",
    "@app.get(\"/\")\n",
    "async def hello_world():\n",
    "    \"\"\"Rota para retornar uma mensagem de saudação.\"\"\"\n",
    "    return 'Coca-Cola me patrocina!'\n",
    "\n",
    "@app.get(\"/gerar_compra\")\n",
    "async def gerar_compra():\n",
    "    \"\"\"Rota para gerar uma compra aleatória.\"\"\"\n",
    "    index = random.randint(1, len(df) - 1)\n",
    "    row = df.iloc[index]\n",
    "    return [{\n",
    "        \"client\": fake.name(),\n",
    "        \"creditcard\": fake.credit_card_provider(),\n",
    "        \"product\": row[\"Product Name\"],\n",
    "        \"ean\": int(row[\"EAN\"]),\n",
    "        \"price\": round(float(row[\"Price\"]) * 1.2, 2),\n",
    "        \"clientPosition\": fake.location_on_land(),\n",
    "        \"store\": loja_padrao_online,\n",
    "        \"dateTime\": fake.iso8601()\n",
    "    }]\n",
    "\n",
    "@app.get(\"/gerar_compras/{numero_registro}\")\n",
    "async def gerar_compras(numero_registro: int):\n",
    "    \"\"\"Rota para gerar várias compras.\"\"\"\n",
    "    if numero_registro < 1:\n",
    "        return {\"error\": \"O número deve ser maior que 1\"}\n",
    " \n",
    "    respostas = []\n",
    "    for _ in range(numero_registro):\n",
    "        try:\n",
    "            index = random.randint(1, len(df) - 1)\n",
    "            row = df.iloc[index]\n",
    "            compra = {\n",
    "                \"client\": fake.name(),\n",
    "                \"creditcard\": fake.credit_card_provider(),\n",
    "                \"product\": row[\"Product Name\"],\n",
    "                \"ean\": int(row[\"EAN\"]),\n",
    "                \"price\": round(float(row[\"Price\"]) * 1.2, 2),\n",
    "                \"clientPosition\": fake.location_on_land(),\n",
    "                \"store\": loja_padrao_online,\n",
    "                \"dateTime\": fake.iso8601()\n",
    "            }\n",
    "            respostas.append(compra)\n",
    "        except Exception as e:\n",
    "            print(f\"Erro inesperado: {e}\")\n",
    "            # Se ocorrer um erro, adiciona uma compra com dados de erro\n",
    "            compra = {\n",
    "                \"client\": fake.name(),\n",
    "                \"creditcard\": fake.credit_card_provider(),\n",
    "                \"product\": \"error\",\n",
    "                \"ean\": 0,\n",
    "                \"price\": 0.0,\n",
    "                \"clientPosition\": fake.location_on_land(),\n",
    "                \"store\": loja_padrao_online,\n",
    "                \"dateTime\": fake.iso8601()\n",
    "            }\n",
    "            respostas.append(compra)\n",
    "    return respostas\n"
   ]
  },
  {
   "cell_type": "markdown",
   "id": "8ce061cc-e8ec-4ab4-9c13-fb8eef18918a",
   "metadata": {},
   "source": [
    "# Documentação API de Geração de Compras\n",
    "\n",
    "Esta API gera compras aleatórias com base em um conjunto de dados de produtos.\n",
    "\n",
    "## Rotas Disponíveis\n",
    "\n",
    "### Rota Principal\n",
    "- **Descrição**: Retorna uma mensagem de saudação.\n",
    "- **Endpoint**: `/`\n",
    "- **Método HTTP**: GET\n",
    "\n",
    "### Rota de Geração de Compra\n",
    "- **Descrição**: Gera uma única compra aleatória.\n",
    "- **Endpoint**: `/gerar_compra`\n",
    "- **Método HTTP**: GET\n",
    "\n",
    "### Rota de Geração de Compras\n",
    "- **Descrição**: Gera um número específico de compras aleatórias.\n",
    "- **Endpoint**: `/gerar_compras/{numero_registro}`\n",
    "- **Parâmetro de Path**: `numero_registro` (int) - Número de compras a serem geradas.\n",
    "- **Método HTTP**: GET\n",
    "\n",
    "## Detalhes das Respostas\n",
    "\n",
    "### Resposta da Rota de Geração de Compra\n",
    "\n",
    "- **Formato JSON**:\n",
    "\n",
    "```json\n",
    "{\n",
    "    \"client\": \"Nome do Cliente\",\n",
    "    \"creditcard\": \"Provedor do Cartão de Crédito\",\n",
    "    \"product\": \"Nome do Produto\",\n",
    "    \"ean\": \"Código EAN\",\n",
    "    \"price\": \"Preço\",\n",
    "    \"clientPosition\": \"Localização do Cliente\",\n",
    "    \"store\": \"ID da Loja\",\n",
    "    \"dateTime\": \"Data e Hora da Compra\"\n",
    "}\n"
   ]
  },
  {
   "cell_type": "markdown",
   "id": "53e3280f-863a-41c8-923a-53bc20a28452",
   "metadata": {},
   "source": [
    "## Criando uma lista de 200 produtos com faker."
   ]
  },
  {
   "cell_type": "code",
   "execution_count": 11,
   "id": "859049fe-6c22-4ea4-ac3d-4b8b15588fde",
   "metadata": {},
   "outputs": [],
   "source": [
    "from faker import Faker\n",
    "import pandas as pd\n",
    "\n",
    "# Criar um objeto Faker com localização em português brasileiro\n",
    "fake = Faker('pt_BR')\n",
    "\n",
    "# Lista de palavras-chave para produtos eletrônicos\n",
    "keywords = ['smartphone', 'tablet', 'notebook', 'smartwatch', 'câmera', 'fones de ouvido', 'TV', 'console de videogame', 'impressora']\n",
    "\n",
    "# Lista de produtos eletrônicos em português brasileiro\n",
    "electronic_products = [f'{fake.random.choice(keywords)}' for _ in range(200)]\n",
    "\n",
    "# Lista de códigos EAN (European Article Number)\n",
    "eans = [fake.ean() for _ in range(200)]\n",
    "\n",
    "# Lista de preços\n",
    "prices = [round(fake.pyfloat(min_value=1, max_value=100), 2) for _ in range(200)]\n",
    "\n",
    "# Criar DataFrame\n",
    "data = {\n",
    "    \"Product Name\": electronic_products,\n",
    "    \"EAN\": eans,\n",
    "    \"Price\": prices\n",
    "}\n",
    "df = pd.DataFrame(data)\n",
    "\n",
    "# Salvar DataFrame como arquivo CSV\n",
    "df.to_csv(\"data/products.csv\", index=False)\n"
   ]
  },
  {
   "cell_type": "markdown",
   "id": "0e159a15-5e5c-4159-9633-8b968fbb6578",
   "metadata": {},
   "source": [
    "### Executando a api:"
   ]
  },
  {
   "cell_type": "code",
   "execution_count": 17,
   "id": "ac1f2bd1-8315-4c69-ae28-3a44737e7061",
   "metadata": {},
   "outputs": [
    {
     "name": "stdout",
     "output_type": "stream",
     "text": [
      "\u001b[32mINFO\u001b[0m:     Will watch for changes in these directories: ['/home/jcnok/bootcamps/bootcamp-jornada-de-dados_2024/aula_14_15']\n",
      "\u001b[32mINFO\u001b[0m:     Uvicorn running on \u001b[1mhttp://127.0.0.1:8000\u001b[0m (Press CTRL+C to quit)\n",
      "\u001b[32mINFO\u001b[0m:     Started reloader process [\u001b[36m\u001b[1m67910\u001b[0m] using \u001b[36m\u001b[1mWatchFiles\u001b[0m\n",
      "\u001b[32mINFO\u001b[0m:     Started server process [\u001b[36m67913\u001b[0m]\n",
      "\u001b[32mINFO\u001b[0m:     Waiting for application startup.\n",
      "\u001b[32mINFO\u001b[0m:     Application startup complete.\n",
      "\u001b[32mINFO\u001b[0m:     127.0.0.1:40904 - \"\u001b[1mGET / HTTP/1.1\u001b[0m\" \u001b[32m200 OK\u001b[0m\n",
      "\u001b[32mINFO\u001b[0m:     127.0.0.1:40904 - \"\u001b[1mGET /github-markdown-css HTTP/1.1\u001b[0m\" \u001b[31m404 Not Found\u001b[0m\n",
      "\u001b[32mINFO\u001b[0m:     127.0.0.1:40916 - \"\u001b[1mGET /docs HTTP/1.1\u001b[0m\" \u001b[32m200 OK\u001b[0m\n",
      "\u001b[32mINFO\u001b[0m:     127.0.0.1:40916 - \"\u001b[1mGET /openapi.json HTTP/1.1\u001b[0m\" \u001b[32m200 OK\u001b[0m\n",
      "\u001b[32mINFO\u001b[0m:     127.0.0.1:40916 - \"\u001b[1mGET /github-markdown-css HTTP/1.1\u001b[0m\" \u001b[31m404 Not Found\u001b[0m\n",
      "\u001b[32mINFO\u001b[0m:     127.0.0.1:57188 - \"\u001b[1mGET /gerar_compras/20 HTTP/1.1\u001b[0m\" \u001b[32m200 OK\u001b[0m\n",
      "\u001b[32mINFO\u001b[0m:     127.0.0.1:48016 - \"\u001b[1mGET / HTTP/1.1\u001b[0m\" \u001b[32m200 OK\u001b[0m\n",
      "\u001b[32mINFO\u001b[0m:     127.0.0.1:48016 - \"\u001b[1mGET /github-markdown-css HTTP/1.1\u001b[0m\" \u001b[31m404 Not Found\u001b[0m\n",
      "\u001b[32mINFO\u001b[0m:     127.0.0.1:48016 - \"\u001b[1mGET /gerar_compra HTTP/1.1\u001b[0m\" \u001b[32m200 OK\u001b[0m\n",
      "\u001b[32mINFO\u001b[0m:     127.0.0.1:48016 - \"\u001b[1mGET /github-markdown-css HTTP/1.1\u001b[0m\" \u001b[31m404 Not Found\u001b[0m\n",
      "^C\n",
      "\u001b[32mINFO\u001b[0m:     Shutting down\n",
      "\u001b[32mINFO\u001b[0m:     Waiting for application shutdown.\n",
      "\u001b[32mINFO\u001b[0m:     Application shutdown complete.\n",
      "\u001b[32mINFO\u001b[0m:     Finished server process [\u001b[36m67913\u001b[0m]\n",
      "\u001b[32mINFO\u001b[0m:     Stopping reloader process [\u001b[36m\u001b[1m67910\u001b[0m]\n"
     ]
    }
   ],
   "source": [
    "!uvicorn src.utils.api_produtos:app --reload"
   ]
  },
  {
   "cell_type": "code",
   "execution_count": null,
   "id": "205979e9-2691-4fbc-8da9-67c0f0462052",
   "metadata": {},
   "outputs": [],
   "source": []
  }
 ],
 "metadata": {
  "kernelspec": {
   "display_name": "Python 3 (ipykernel)",
   "language": "python",
   "name": "python3"
  },
  "language_info": {
   "codemirror_mode": {
    "name": "ipython",
    "version": 3
   },
   "file_extension": ".py",
   "mimetype": "text/x-python",
   "name": "python",
   "nbconvert_exporter": "python",
   "pygments_lexer": "ipython3",
   "version": "3.10.13"
  }
 },
 "nbformat": 4,
 "nbformat_minor": 5
}
