{
 "cells": [
  {
   "cell_type": "code",
   "execution_count": 1,
   "id": "5849ccb3-dbdb-4473-8ff3-dbf053193c44",
   "metadata": {},
   "outputs": [
    {
     "name": "stdout",
     "output_type": "stream",
     "text": [
      "Python 3.10.13\n"
     ]
    }
   ],
   "source": [
    "!python --version"
   ]
  },
  {
   "cell_type": "code",
   "execution_count": 3,
   "id": "5ca02775-0aa4-4f61-820f-4d8825251d8f",
   "metadata": {},
   "outputs": [],
   "source": [
    "from site import getsitepackages"
   ]
  },
  {
   "cell_type": "code",
   "execution_count": 4,
   "id": "13851540-bc7a-4252-8a24-cb9bf88b73f4",
   "metadata": {},
   "outputs": [
    {
     "name": "stdout",
     "output_type": "stream",
     "text": [
      "['/home/jcnok/bootcamps/bootcamp-jornada-de-dados_2024/.venv/lib/python3.10/site-packages']\n"
     ]
    }
   ],
   "source": [
    "print(getsitepackages())"
   ]
  },
  {
   "cell_type": "code",
   "execution_count": 5,
   "id": "a8adacb9-7493-4123-81c8-16f1d189132e",
   "metadata": {},
   "outputs": [],
   "source": [
    "import os"
   ]
  },
  {
   "cell_type": "code",
   "execution_count": 6,
   "id": "7e2347ad-9961-41f4-a8e5-3ff80f5ca35c",
   "metadata": {},
   "outputs": [
    {
     "data": {
      "text/plain": [
       "'/home/jcnok/bootcamps/bootcamp-jornada-de-dados_2024/aula_06/notebook'"
      ]
     },
     "execution_count": 6,
     "metadata": {},
     "output_type": "execute_result"
    }
   ],
   "source": [
    "os.getcwd()"
   ]
  },
  {
   "cell_type": "code",
   "execution_count": 7,
   "id": "241891d0-c60b-44fd-a990-caecb38000cf",
   "metadata": {},
   "outputs": [
    {
     "data": {
      "text/plain": [
       "'/home/jcnok/bootcamps/bootcamp-jornada-de-dados_2024/aula_06'"
      ]
     },
     "execution_count": 7,
     "metadata": {},
     "output_type": "execute_result"
    }
   ],
   "source": [
    "os.chdir('/home/jcnok/bootcamps/bootcamp-jornada-de-dados_2024/aula_06')\n",
    "os.getcwd()"
   ]
  },
  {
   "cell_type": "code",
   "execution_count": null,
   "id": "6c09e901-ba92-4b48-9ffc-e5f503f9c235",
   "metadata": {},
   "outputs": [],
   "source": []
  }
 ],
 "metadata": {
  "kernelspec": {
   "display_name": "Python 3 (ipykernel)",
   "language": "python",
   "name": "python3"
  },
  "language_info": {
   "codemirror_mode": {
    "name": "ipython",
    "version": 3
   },
   "file_extension": ".py",
   "mimetype": "text/x-python",
   "name": "python",
   "nbconvert_exporter": "python",
   "pygments_lexer": "ipython3",
   "version": "3.10.13"
  }
 },
 "nbformat": 4,
 "nbformat_minor": 5
}
