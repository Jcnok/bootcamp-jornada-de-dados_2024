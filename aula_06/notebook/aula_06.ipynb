{
 "cells": [
  {
   "cell_type": "markdown",
   "id": "f784eecd-7e91-465a-b941-4bdc7392c054",
   "metadata": {},
   "source": [
    "# Aula 06 - Revisão e Guia de Boas Práticas"
   ]
  },
  {
   "cell_type": "markdown",
   "id": "1389ad14-c8c4-49c1-888e-f01c6a6da136",
   "metadata": {},
   "source": [
    "![png](./img/quality.png)"
   ]
  },
  {
   "cell_type": "markdown",
   "id": "59791486-3746-47be-b27d-af9e738e8996",
   "metadata": {},
   "source": [
    "## Conclusão:"
   ]
  },
  {
   "cell_type": "markdown",
   "id": "aee6d6a5-d9db-429e-a86d-e01d6f8302ce",
   "metadata": {},
   "source": [
    "Durante este processo de aprendizado, exploramos diversas ferramentas e bibliotecas que são fundamentais para garantir a qualidade durante o desenvolvimento de um projeto.\n",
    "\n",
    "Aqui estão os principais pontos que foram abordados:\n",
    "\n",
    "- **Black**: Uma poderosa ferramenta de formatação de código Python que automatiza a tarefa de garantir a conformidade com as diretrizes de estilo da PEP 8. Com o Black, podemos manter a consistência no estilo do código Python em nosso projeto, facilitando a leitura e a manutenção do código.\n",
    "---\n",
    "- **isort**: Uma biblioteca para organizar os imports de módulos em arquivos Python. O isort facilita a organização dos imports de acordo com as convenções de importação do Python, garantindo que nosso código seja mais legível e fácil de entender.\n",
    "---\n",
    "- **Flake8**: Uma ferramenta de verificação de código Python que ajuda a garantir a conformidade com as diretrizes de estilo do PEP 8 e identifica possíveis problemas no código-fonte. O Flake8 nos ajuda a manter a qualidade do nosso código Python, identificando erros de sintaxe, problemas de estilo e outras questões que podem afetar a legibilidade e a manutenção do código.\n",
    "---\n",
    "- **taskipy**: Uma biblioteca que facilita a criação e execução de tarefas comuns em projetos Python usando scripts Python. Com o taskipy, podemos automatizar tarefas repetitivas, como execução de testes, formatação de código, execução de linting e muito mais, tornando nosso processo de desenvolvimento mais eficiente e organizado.\n",
    "---\n",
    "- **pre-commit**: Uma ferramenta para automatizar a execução de verificações de código antes de cada commit em um repositório Git. Com o pre-commit, podemos garantir que nosso código Python atenda aos padrões de qualidade e estilo definidos, evitando problemas comuns antes mesmo de enviarmos nossas alterações para revisão.\n",
    "---\n",
    "Em resumo, ao incorporar essas ferramentas e bibliotecas em nosso fluxo de trabalho de desenvolvimento de software em Python, podemos melhorar a qualidade do nosso código, aumentar a produtividade da equipe e criar projetos mais robustos e fáceis de manter no longo prazo.\n"
   ]
  },
  {
   "cell_type": "markdown",
   "id": "94af09a0-b41f-456d-a75b-7a76aa87a0bf",
   "metadata": {
    "jp-MarkdownHeadingCollapsed": true
   },
   "source": [
    "## Configuração para execução dos estudos no Jupyter"
   ]
  },
  {
   "cell_type": "code",
   "execution_count": 1,
   "id": "5849ccb3-dbdb-4473-8ff3-dbf053193c44",
   "metadata": {},
   "outputs": [
    {
     "name": "stdout",
     "output_type": "stream",
     "text": [
      "Python 3.10.13\n"
     ]
    }
   ],
   "source": [
    "# verifica a versão do python\n",
    "!python --version"
   ]
  },
  {
   "cell_type": "code",
   "execution_count": 3,
   "id": "5ca02775-0aa4-4f61-820f-4d8825251d8f",
   "metadata": {},
   "outputs": [],
   "source": [
    "from site import getsitepackages"
   ]
  },
  {
   "cell_type": "code",
   "execution_count": 4,
   "id": "13851540-bc7a-4252-8a24-cb9bf88b73f4",
   "metadata": {},
   "outputs": [
    {
     "name": "stdout",
     "output_type": "stream",
     "text": [
      "['/home/jcnok/bootcamps/bootcamp-jornada-de-dados_2024/.venv/lib/python3.10/site-packages']\n"
     ]
    }
   ],
   "source": [
    "# Verificando se o path está no .venv\n",
    "print(getsitepackages())"
   ]
  },
  {
   "cell_type": "code",
   "execution_count": 5,
   "id": "a8adacb9-7493-4123-81c8-16f1d189132e",
   "metadata": {},
   "outputs": [],
   "source": [
    "import os"
   ]
  },
  {
   "cell_type": "code",
   "execution_count": 6,
   "id": "7e2347ad-9961-41f4-a8e5-3ff80f5ca35c",
   "metadata": {},
   "outputs": [
    {
     "data": {
      "text/plain": [
       "'/home/jcnok/bootcamps/bootcamp-jornada-de-dados_2024/aula_06/notebook'"
      ]
     },
     "execution_count": 6,
     "metadata": {},
     "output_type": "execute_result"
    }
   ],
   "source": [
    "# Verifia a raiz do projeto atual\n",
    "os.getcwd()"
   ]
  },
  {
   "cell_type": "code",
   "execution_count": 40,
   "id": "241891d0-c60b-44fd-a990-caecb38000cf",
   "metadata": {},
   "outputs": [
    {
     "data": {
      "text/plain": [
       "'/home/jcnok/bootcamps/bootcamp-jornada-de-dados_2024/aula_06'"
      ]
     },
     "execution_count": 40,
     "metadata": {},
     "output_type": "execute_result"
    }
   ],
   "source": [
    "# Altera o projeto para raiz da aula_06\n",
    "os.chdir('/home/jcnok/bootcamps/bootcamp-jornada-de-dados_2024/aula_06')\n",
    "os.getcwd()"
   ]
  },
  {
   "cell_type": "markdown",
   "id": "88a4e9db-fa0c-4182-8b8f-457d9c434dca",
   "metadata": {},
   "source": [
    "## Guia de boas práticas:"
   ]
  },
  {
   "cell_type": "markdown",
   "id": "383ef67d-e7b7-4085-98cb-3df4f71e4e79",
   "metadata": {},
   "source": [
    "A [PEP 8](https://peps.python.org/pep-0008/) é uma das PEPs (Python Enhancement Proposals) mais importantes da comunidade Python. Ela estabelece diretrizes para a formatação do código Python, incluindo convenções de estilo, espaçamento, nomes de variáveis e outros aspectos importantes da escrita de código Python legível e consistente.\n",
    "\n",
    "A PEP 8 foi criada para promover uma base de código Python que seja fácil de ler e entender para os desenvolvedores, independentemente de quem tenha escrito o código originalmente. Isso é crucial para facilitar a manutenção do código, colaboração entre equipes de desenvolvimento e garantir a qualidade do código em projetos Python de todos os tamanhos.\n",
    "\n",
    "Ao seguir as diretrizes da PEP 8, os desenvolvedores podem garantir que seu código Python seja coeso, consistente e legível, o que contribui para a sua usabilidade, manutenção e escalabilidade ao longo do tempo.\n",
    "\n",
    "Em resumo, a [PEP 8](https://peps.python.org/pep-0008/) é uma referência essencial para qualquer desenvolvedor Python que queira escrever código claro, organizado e de fácil manutenção, promovendo as melhores práticas de desenvolvimento na comunidade Python."
   ]
  },
  {
   "cell_type": "markdown",
   "id": "d1ff5f82-568e-463e-8768-8712121245ff",
   "metadata": {},
   "source": [
    "### A seguir algumas bibliotecas que nos ajudam a automatizar essas boas práticas de maneira a manter nosso código coeso, consitente e legível:"
   ]
  },
  {
   "cell_type": "markdown",
   "id": "900f8b75-6494-431c-9640-70c834682dfd",
   "metadata": {},
   "source": [
    "[**Black:**](https://pypi.org/project/black/)\n",
    "\n",
    "* O Black é uma ferramenta de formatação de código Python. Ele foi projetado para automatizar a formatação do código Python de acordo com as diretrizes da PEP 8, garantindo assim que o código seja formatado de maneira consistente e legível. Black é conhecido por ser muito rígido em sua formatação e, portanto, é considerado como uma \"opinião\" sobre como o código Python deve ser formatado.\n",
    "Além de seguir as diretrizes da PEP 8, o Black também se esforça para produzir um código Python mais conciso e legível, removendo a necessidade de discussões sobre estilos de codificação em equipes de desenvolvimento.\n",
    "\n",
    "[**isort:**](https://pypi.org/project/isort/)\n",
    "\n",
    "* O isort é uma ferramenta para ordenar os imports de módulos em arquivos Python. Ele reorganiza automaticamente as declarações de importação em ordem alfabética e agrupa-as de acordo com as convenções de importação específicas. Isso ajuda a manter a organização e a legibilidade dos imports em arquivos Python.\n",
    "Além de ordenar os imports, o isort também pode corrigir importações erradas e remover imports não utilizados, ajudando a manter o código Python limpo e livre de importações desnecessárias.\n",
    "\n",
    "[**flake8:**](https://pypi.org/project/flake8/)\n",
    "\n",
    "* O flake8 é uma ferramenta de verificação de código Python que ajuda a garantir a conformidade com as diretrizes de estilo do PEP 8 e identifica possíveis problemas no código-fonte. Ele verifica o código em busca de erros de sintaxe, problemas de estilo, variáveis não utilizadas e outros problemas potenciais.\n",
    "O flake8 é altamente configurável e pode ser estendido com plugins para fornecer verificações adicionais específicas ao projeto. É frequentemente usado como parte de pipelines de integração contínua (CI) para garantir a qualidade do código Python em projetos de software.\n",
    "\n",
    "Em resumo, \"black\" é uma ferramenta de formatação de código Python, \"isort\" é uma ferramenta para organizar e ordenar imports, e \"flake8\" é uma ferramenta de verificação de código que ajuda a manter o código Python consistente, limpo e livre de problemas. Juntas, essas ferramentas são amplamente utilizadas na comunidade Python para promover boas práticas de desenvolvimento e garantir a qualidade do código."
   ]
  },
  {
   "cell_type": "markdown",
   "id": "3162c847-06fc-48c4-8bf7-a9ac158592ac",
   "metadata": {},
   "source": [
    "**Conforme a aula vamos executar alguns exemplos para entender o funcionamento de cada lib.**"
   ]
  },
  {
   "cell_type": "markdown",
   "id": "becca1ee-9dc3-4e0e-b9c9-46fb58d310de",
   "metadata": {},
   "source": [
    "#### Primeiro vamos instalar o flake8:"
   ]
  },
  {
   "cell_type": "code",
   "execution_count": 9,
   "id": "9275f43c-d22a-4272-ad47-fc050f5aa688",
   "metadata": {},
   "outputs": [],
   "source": [
    "#instala a lib flake8 em modo silencioso no ambiente .venv.\n",
    "!poetry add flake8 -q"
   ]
  },
  {
   "cell_type": "markdown",
   "id": "60717d1e-97b5-4d5b-8a07-65af079f70b2",
   "metadata": {},
   "source": [
    "* Criando uma função simples e salvar o código em src/exemplo1.py:"
   ]
  },
  {
   "cell_type": "code",
   "execution_count": 32,
   "id": "3092b112-64ea-48d4-a4a3-cce7f1a7ca66",
   "metadata": {},
   "outputs": [
    {
     "name": "stdout",
     "output_type": "stream",
     "text": [
      "Overwriting src/exemplo01.py\n"
     ]
    }
   ],
   "source": [
    "%%writefile src/exemplo01.py\n",
    "def minha_funcao ():\n",
    "    resultado = 2 + 2\n",
    "    print(\"O resultado é:\", resultado)\n",
    "if __name__ == \"__main__\":\n",
    "    minha_funcao()\n"
   ]
  },
  {
   "cell_type": "markdown",
   "id": "b7c8726a-383e-4045-9b24-06817963cca5",
   "metadata": {},
   "source": [
    "* Agora vamos executar o código para garantir que o mesmo esteja funcionando:"
   ]
  },
  {
   "cell_type": "code",
   "execution_count": 33,
   "id": "951341a5-3a07-42e4-af15-651b961e28a5",
   "metadata": {},
   "outputs": [
    {
     "name": "stdout",
     "output_type": "stream",
     "text": [
      "O resultado é: 4\n"
     ]
    }
   ],
   "source": [
    "!python src/exemplo01.py"
   ]
  },
  {
   "cell_type": "markdown",
   "id": "952cde49-60ef-458b-9a39-dffc5f7cf6fd",
   "metadata": {},
   "source": [
    "* Veja que a função funcionou perfeitamente, porém será que o código está de acordo com a PEP8?\n",
    "* Podemos usar o flake8 para identificar possíveis erros de padronização conforme abaixo: "
   ]
  },
  {
   "cell_type": "code",
   "execution_count": 34,
   "id": "1ba9838f-f18b-4649-a7dc-c5d758070fd4",
   "metadata": {},
   "outputs": [
    {
     "name": "stdout",
     "output_type": "stream",
     "text": [
      "\u001b[1msrc/exemplo01.py\u001b[m\u001b[36m:\u001b[m1\u001b[36m:\u001b[m17\u001b[36m:\u001b[m \u001b[1m\u001b[31mE211\u001b[m whitespace before '('\n",
      "\u001b[1msrc/exemplo01.py\u001b[m\u001b[36m:\u001b[m4\u001b[36m:\u001b[m1\u001b[36m:\u001b[m \u001b[1m\u001b[31mE305\u001b[m expected 2 blank lines after class or function definition, found 0\n"
     ]
    }
   ],
   "source": [
    "!flake8 src/exemplo01.py"
   ]
  },
  {
   "cell_type": "markdown",
   "id": "3dbe26f7-a2d4-4bc8-87c7-926e4845b1b5",
   "metadata": {},
   "source": [
    "* Veja que interessante o flake8 já notificou 2 erros, vamos corrigir:\n",
    "    * Ele informa que na linha 1  e caracter 17 existe um espaço antes do '(' -> será corrigido\n",
    "    * Informa que na linha 4 logo no primeiro caracter já solicita que precisa de 2 espaços depois de uma classe ou função. -> corrigido abaixo.\n",
    "    * Importante notar que informa até mesmo o código \"E211 e E305\" do erro se precisar podem pesquisar o erro [aqui.](https://www.flake8rules.com/)"
   ]
  },
  {
   "cell_type": "code",
   "execution_count": 35,
   "id": "ce3c914b-9f94-4150-9f05-acc98f2c48f3",
   "metadata": {},
   "outputs": [
    {
     "name": "stdout",
     "output_type": "stream",
     "text": [
      "Overwriting src/exemplo01.py\n"
     ]
    }
   ],
   "source": [
    "%%writefile src/exemplo01.py\n",
    "def minha_funcao():\n",
    "    resultado = 2 + 2\n",
    "    print(\"O resultado é:\", resultado)\n",
    "\n",
    "\n",
    "if __name__ == \"__main__\":\n",
    "    minha_funcao()"
   ]
  },
  {
   "cell_type": "markdown",
   "id": "a08e6a4a-eb6f-4b14-814f-9db8eabe6a7e",
   "metadata": {},
   "source": [
    "* O código foi corrigido agora vamos executar o flake8 novamente:"
   ]
  },
  {
   "cell_type": "code",
   "execution_count": 36,
   "id": "60d18003-ca6f-4eb0-8ac8-2182e5a91981",
   "metadata": {},
   "outputs": [],
   "source": [
    "!flake8 src/exemplo01.py"
   ]
  },
  {
   "cell_type": "markdown",
   "id": "a964e2fd-70e5-4ec4-adcb-81263317fae0",
   "metadata": {},
   "source": [
    "* Veja que ele não trouxe nenhum erro agora, ou seja, dentro dos padrões pré-estabelecidos pelo flake8, o código está legivel.\n",
    "* O flake8 é muito bom para corrigirmos esses problemas de espaçamentos, excesso de caracteres em uma linha, linhas em branco etc...\n",
    "* Ele não faz nada no código, apenas informa onde corrigir."
   ]
  },
  {
   "cell_type": "markdown",
   "id": "235f15f1-228d-4051-af6d-689db756a6a2",
   "metadata": {},
   "source": [
    "#### Agora vamos instalar o Black:"
   ]
  },
  {
   "cell_type": "code",
   "execution_count": 37,
   "id": "c01dde50-f8cd-4b28-905b-a89ed53699fe",
   "metadata": {},
   "outputs": [],
   "source": [
    "# instalando a lib black no ambiente virtual.\n",
    "!poetry add black -q"
   ]
  },
  {
   "cell_type": "markdown",
   "id": "2d0e7704-3dc8-421f-b295-582104e2de46",
   "metadata": {},
   "source": [
    "* Agora vamos criar a mesma função porém vamos salvar como src/exemplo02.py"
   ]
  },
  {
   "cell_type": "code",
   "execution_count": 38,
   "id": "6c7d5b4c-d621-498e-83cd-50647ffdf0a8",
   "metadata": {},
   "outputs": [
    {
     "name": "stdout",
     "output_type": "stream",
     "text": [
      "Writing src/exemplo02.py\n"
     ]
    }
   ],
   "source": [
    "%%writefile src/exemplo02.py\n",
    "def minha_funcao ():\n",
    "    resultado = 2 + 2\n",
    "    print(\"O resultado é:\", resultado)\n",
    "if __name__ == \"__main__\":\n",
    "    minha_funcao()\n"
   ]
  },
  {
   "cell_type": "markdown",
   "id": "dea53147-1059-4cd7-b63c-03b1f2784d02",
   "metadata": {},
   "source": [
    "* Vamos rodar o black agora:"
   ]
  },
  {
   "cell_type": "code",
   "execution_count": 39,
   "id": "983c2dc5-ec9d-4f28-9a3e-8b0407aa8f0d",
   "metadata": {},
   "outputs": [
    {
     "name": "stdout",
     "output_type": "stream",
     "text": [
      "\u001b[1mreformatted src/exemplo02.py\u001b[0m\n",
      "\n",
      "\u001b[1mAll done! ✨ 🍰 ✨\u001b[0m\n",
      "\u001b[34m\u001b[1m1 file \u001b[0m\u001b[1mreformatted\u001b[0m.\n"
     ]
    }
   ],
   "source": [
    "!black src/exemplo02.py"
   ]
  },
  {
   "cell_type": "markdown",
   "id": "c78fd3e4-723c-43f8-b043-055df39acc24",
   "metadata": {},
   "source": [
    "* Vamos abrir o arquivo e verificar o que ele formatou: "
   ]
  },
  {
   "cell_type": "code",
   "execution_count": 40,
   "id": "4407a290-9d3d-4a4f-9dab-e3f0b776b0f9",
   "metadata": {},
   "outputs": [],
   "source": [
    "# %load src/exemplo02.py\n",
    "def minha_funcao():\n",
    "    resultado = 2 + 2\n",
    "    print(\"O resultado é:\", resultado)\n",
    "\n",
    "\n",
    "if __name__ == \"__main__\":\n",
    "    minha_funcao()\n"
   ]
  },
  {
   "cell_type": "markdown",
   "id": "7944fe5b-b369-4bb7-a7b2-2e75d5b0ca32",
   "metadata": {},
   "source": [
    "* Veja que o black corrigiu automáticamente os erros de código: \"E211 e E305\" que o flake8 havia identificado.\n",
    "* Vamos rodar o flake8 no exemplo02.py para conferir."
   ]
  },
  {
   "cell_type": "code",
   "execution_count": 41,
   "id": "073581ca-8205-4e51-ac60-28091277e611",
   "metadata": {},
   "outputs": [],
   "source": [
    "!flake8 src/exemplo02.py"
   ]
  },
  {
   "cell_type": "markdown",
   "id": "ee0179fc-f738-4ea3-a94b-94fd8e3ffecb",
   "metadata": {},
   "source": [
    "* O Flake8 executou a verificação sem erros, pois o black já havia realizado as devidas correções.\n",
    "* Essa é a vantagem com black, pois ele identifica e já corrige o erro de forma autônoma."
   ]
  },
  {
   "cell_type": "markdown",
   "id": "7df522ed-b470-4e1c-be0a-ee6ffca30504",
   "metadata": {},
   "source": [
    "* Então quer dizer que podemos unir o melhor dos dois mundos e usar ambas libs para sempre mantermos um código dentro dos padrões?\n",
    "  * Nem tudo é perfeito, existe um pequeno conflito entre ambas e vou demonstrar aqui para uma melhor compreensão.\n",
    "  * O Flake8 utiliza por adoção 79 caracteres máximo por linha e o black 88, isso pode gerar um problema.\n",
    "  * Veja o exemplo abaixo: irei salvar o arquivo em src/conflito_entre_black_e_flake8.py"
   ]
  },
  {
   "cell_type": "code",
   "execution_count": 68,
   "id": "651847b8-b1de-41f9-8afd-f1e575e8871b",
   "metadata": {},
   "outputs": [
    {
     "name": "stdout",
     "output_type": "stream",
     "text": [
      "Overwriting src/conflito_entre_black_e_flake8.py\n"
     ]
    }
   ],
   "source": [
    "%%writefile src/conflito_entre_black_e_flake8.py\n",
    "def exemplo_de_conflito_entre_black_e_flake8():\n",
    "    variavel_com_nome_muito_longo_para_testar_um_conflito_entre_black_e_flake8 = \"conflito\"\n",
    "\n",
    "    if variavel_com_nome_muito_longo_para_testar_um_conflito_entre_black_e_flake8 == \"confito\":\n",
    "        print(\"Conflito entre o Black e o Flake8!\")\n",
    "    else:\n",
    "        print(\"Sem conflito entre o Black e o Flake8!\")\n",
    "\n",
    "    return variavel_com_nome_muito_longo_para_testar_um_conflito_entre_black_e_flake8\n",
    "\n",
    "if __name__==\"__main__\":\n",
    "    exemplo_de_conflito_entre_black_e_flake8()\n"
   ]
  },
  {
   "cell_type": "markdown",
   "id": "dc83f27e-ec9d-459a-82c4-06c35576e81f",
   "metadata": {},
   "source": [
    "* Vou executar o black para corrigir possíveis erros de formatação automaticamente:"
   ]
  },
  {
   "cell_type": "code",
   "execution_count": 69,
   "id": "7b88aee3-6d5d-4afb-b972-a41b50ec868d",
   "metadata": {},
   "outputs": [
    {
     "name": "stdout",
     "output_type": "stream",
     "text": [
      "\u001b[1mreformatted src/conflito_entre_black_e_flake8.py\u001b[0m\n",
      "\n",
      "\u001b[1mAll done! ✨ 🍰 ✨\u001b[0m\n",
      "\u001b[34m\u001b[1m1 file \u001b[0m\u001b[1mreformatted\u001b[0m.\n"
     ]
    }
   ],
   "source": [
    "!black src/conflito_entre_black_e_flake8.py"
   ]
  },
  {
   "cell_type": "code",
   "execution_count": 70,
   "id": "e9104e09-169c-499b-a855-b0a7fcb205de",
   "metadata": {},
   "outputs": [],
   "source": [
    "# %load src/conflito_entre_black_e_flake8.py\n",
    "def exemplo_de_conflito_entre_black_e_flake8():\n",
    "    variavel_com_nome_muito_longo_para_testar_um_conflito_entre_black_e_flake8 = (\n",
    "        \"conflito\"\n",
    "    )\n",
    "\n",
    "    if (\n",
    "        variavel_com_nome_muito_longo_para_testar_um_conflito_entre_black_e_flake8\n",
    "        == \"confito\"\n",
    "    ):\n",
    "        print(\"Conflito entre o Black e o Flake8!\")\n",
    "    else:\n",
    "        print(\"Sem conflito entre o Black e o Flake8!\")\n",
    "\n",
    "    return variavel_com_nome_muito_longo_para_testar_um_conflito_entre_black_e_flake8\n",
    "\n",
    "\n",
    "if __name__ == \"__main__\":\n",
    "    exemplo_de_conflito_entre_black_e_flake8()\n"
   ]
  },
  {
   "cell_type": "markdown",
   "id": "0274a49c-278d-4dd8-809c-fcc6fc4bc243",
   "metadata": {},
   "source": [
    "* Agora irei executar o flake8 para confirmação:"
   ]
  },
  {
   "cell_type": "code",
   "execution_count": 72,
   "id": "f518c059-858b-44a9-b2dc-edfcce543a71",
   "metadata": {},
   "outputs": [
    {
     "name": "stdout",
     "output_type": "stream",
     "text": [
      "\u001b[1msrc/conflito_entre_black_e_flake8.py\u001b[m\u001b[36m:\u001b[m2\u001b[36m:\u001b[m80\u001b[36m:\u001b[m \u001b[1m\u001b[31mE501\u001b[m line too long (82 > 79 characters)\n",
      "\u001b[1msrc/conflito_entre_black_e_flake8.py\u001b[m\u001b[36m:\u001b[m7\u001b[36m:\u001b[m80\u001b[36m:\u001b[m \u001b[1m\u001b[31mE501\u001b[m line too long (82 > 79 characters)\n",
      "\u001b[1msrc/conflito_entre_black_e_flake8.py\u001b[m\u001b[36m:\u001b[m14\u001b[36m:\u001b[m80\u001b[36m:\u001b[m \u001b[1m\u001b[31mE501\u001b[m line too long (85 > 79 characters)\n"
     ]
    }
   ],
   "source": [
    "!flake8 src/conflito_entre_black_e_flake8.py"
   ]
  },
  {
   "cell_type": "markdown",
   "id": "e4d144bc-020c-4580-ace2-02ba58c78bee",
   "metadata": {},
   "source": [
    "* Ué mas o black não realizou as correções e nos informou que já estava tudo certo?\n",
    "    * Como o black aceita até 88 caracteres ele entendeu que estava tudo certo, veja uma breve explicação e como corrigir isso.\n",
    "\n"
   ]
  },
  {
   "cell_type": "markdown",
   "id": "385b5857-be21-47ef-b51e-a502e4a3d883",
   "metadata": {},
   "source": [
    "O Black, por padrão, formata o código Python utilizando linhas com até 88 caracteres de comprimento. Ele adota esse limite para facilitar a leitura do código em telas de tamanho padrão e para permitir que as linhas sejam divididas com um nível adequado de aninhamento sem prejudicar a legibilidade.\n",
    "\n",
    "Por outro lado, o Flake8, por padrão, verifica se as linhas de código Python têm até 79 caracteres de comprimento. Esse limite é baseado nas diretrizes da PEP 8, que recomenda linhas de até 79 caracteres para facilitar a leitura em ambientes com terminais de 80 colunas.\n",
    "\n",
    "Esses valores padrão diferentes podem causar conflitos entre o Black e o Flake8, já que um pode formatar o código além do limite recomendado pelo outro.\n",
    "\n",
    "Para resolver esse conflito e usar o Black e o Flake8 juntos, existem algumas abordagens:\n",
    "\n",
    "Ajustar as Configurações Padrão: Você pode ajustar as configurações padrão do Black e do Flake8 para usar o mesmo limite de comprimento de linha. Isso pode ser feito configurando explicitamente os parâmetros --line-length para o Black e max-line-length para o Flake8 com o mesmo valor (por exemplo, 79 caracteres).\n",
    "\n",
    "Ignorar Verificações de Comprimento de Linha do Flake8: Você pode configurar o Flake8 para ignorar verificações de comprimento de linha, permitindo que o Black formate o código como desejar. Isso pode ser feito configurando max-line-length para um valor alto ou desativando a verificação de comprimento de linha completamente no arquivo de configuração do Flake8 (setup.cfg ou .flake8).\n",
    "\n",
    "Ignorar Formatação de Código do Black: Você também pode configurar o Black para ignorar a formatação do código e focar apenas na verificação de erros de estilo usando o Flake8. Isso pode ser feito desativando a formatação automática do Black ou configurando-o para não modificar o comprimento das linhas."
   ]
  },
  {
   "cell_type": "markdown",
   "id": "aab86108-661a-47aa-9c7f-77c71c59c2a5",
   "metadata": {},
   "source": [
    "##### Neste exemplo irei configurar o flake8 para aceitar o maximo de 88 caracteres em cada linha e ignorar alguns erros para evitar futuros conflitos, atribuindo a configuração em um arquivo .flake8 conforme abaixo:"
   ]
  },
  {
   "cell_type": "code",
   "execution_count": 75,
   "id": "1cc49f0f-4524-4926-b88b-c196837a1012",
   "metadata": {},
   "outputs": [
    {
     "name": "stdout",
     "output_type": "stream",
     "text": [
      "Overwriting .flake8\n"
     ]
    }
   ],
   "source": [
    "%%writefile .flake8\n",
    "[flake8]\n",
    "max-line-length = 88\n",
    "extend-ignore = E203,E701"
   ]
  },
  {
   "cell_type": "markdown",
   "id": "e2039461-7c39-4504-a636-c928fc0fbfae",
   "metadata": {},
   "source": [
    "* Agora vamos executar o flake8 novamente no nosso arquivo de exemplo:"
   ]
  },
  {
   "cell_type": "code",
   "execution_count": 76,
   "id": "83c33341-5d65-40d1-b616-99d7bfff2e2a",
   "metadata": {},
   "outputs": [],
   "source": [
    "!flake8 src/conflito_entre_black_e_flake8.py"
   ]
  },
  {
   "cell_type": "markdown",
   "id": "ac302a67-42b9-44b4-a2fc-b0b0e85568a8",
   "metadata": {},
   "source": [
    "* Agora sim o conflito foi corrigido pois o flake8 agora aceita com maximo 88 caracteres em cada linha."
   ]
  },
  {
   "cell_type": "markdown",
   "id": "919f6776-03a7-4022-9a47-00bddf53b0bc",
   "metadata": {},
   "source": [
    "#### Agora vamos instalar o isort para cuidar da ordem dos imports:"
   ]
  },
  {
   "cell_type": "code",
   "execution_count": 77,
   "id": "97d88677-08c4-4988-befd-cd73e581a6d8",
   "metadata": {},
   "outputs": [],
   "source": [
    "# instala a lib isort no ambiente virtual.\n",
    "!poetry add isort -q"
   ]
  },
  {
   "cell_type": "markdown",
   "id": "3b4947fc-6910-44bf-a660-732dba6e380b",
   "metadata": {},
   "source": [
    "* Agora vou criar uma função de exemplo e salvar como src/exemplo_isort.py"
   ]
  },
  {
   "cell_type": "code",
   "execution_count": 88,
   "id": "51170238-a7b1-405b-bd6b-30f1dfe10ce4",
   "metadata": {},
   "outputs": [
    {
     "name": "stdout",
     "output_type": "stream",
     "text": [
      "Overwriting src/exemplo_isort.py\n"
     ]
    }
   ],
   "source": [
    "%%writefile src/exemplo_isort.py\n",
    "# Exemplo de arquivo desorganizado com imports\n",
    "import os\n",
    "import math\n",
    "import site\n",
    "\n",
    "def calcular_area_circulo(raio):\n",
    "    \"\"\"\n",
    "    Função para calcular a área de um círculo.\n",
    "    \"\"\"\n",
    "    return math.pi * raio ** 2\n",
    "\n",
    "def diretorio_atual():\n",
    "    \"\"\"\n",
    "    Função para informar o diretório atual.\n",
    "    \"\"\"\n",
    "    return os.getcwd()\n",
    "\n",
    "def ambiente_atual():\n",
    "    \"\"\"\n",
    "    Informa o ambiente de desenvolvimento atual.\n",
    "    \"\"\"\n",
    "    return site.getsitepackages()\n",
    "if __name__ == \"__main__\":\n",
    "    diretorio_atual()\n"
   ]
  },
  {
   "cell_type": "markdown",
   "id": "f2914e8c-757e-4ff8-a95d-b7c3c1df14b8",
   "metadata": {},
   "source": [
    "* Executando o isort para organizar a ordem das importações:"
   ]
  },
  {
   "cell_type": "code",
   "execution_count": 89,
   "id": "f115e186-ecaf-4320-ac74-273be00deebd",
   "metadata": {},
   "outputs": [
    {
     "name": "stdout",
     "output_type": "stream",
     "text": [
      "Fixing /home/jcnok/bootcamps/bootcamp-jornada-de-dados_2024/aula_06/src/exemplo_isort.py\n"
     ]
    }
   ],
   "source": [
    "!isort src/exemplo_isort.py"
   ]
  },
  {
   "cell_type": "markdown",
   "id": "fd9f8e84-a81e-45fb-864a-452f86d6f23f",
   "metadata": {},
   "source": [
    "* Verificando as alterações:"
   ]
  },
  {
   "cell_type": "code",
   "execution_count": 91,
   "id": "55e94a1a-6b90-421d-9b5f-89ba41d31c80",
   "metadata": {},
   "outputs": [],
   "source": [
    "# %load src/exemplo_isort.py\n",
    "# Exemplo de arquivo desorganizado com imports\n",
    "import math\n",
    "import os\n",
    "import site\n",
    "\n",
    "\n",
    "def calcular_area_circulo(raio):\n",
    "    \"\"\"\n",
    "    Função para calcular a área de um círculo.\n",
    "    \"\"\"\n",
    "    return math.pi * raio ** 2\n",
    "\n",
    "def diretorio_atual():\n",
    "    \"\"\"\n",
    "    Função para informar o diretório atual.\n",
    "    \"\"\"\n",
    "    return os.getcwd()\n",
    "\n",
    "def ambiente_atual():\n",
    "    \"\"\"\n",
    "    Informa o ambiente de desenvolvimento atual.\n",
    "    \"\"\"\n",
    "    return site.getsitepackages()\n",
    "if __name__ == \"__main__\":\n",
    "    diretorio_atual()\n"
   ]
  },
  {
   "cell_type": "markdown",
   "id": "40921f8c-4973-4ef5-b80e-7a6d5e1e7f47",
   "metadata": {},
   "source": [
    "* Veja que o isort, segue as diretrizes da PEP 8 e organiza os imports em ordem alfabética."
   ]
  },
  {
   "cell_type": "markdown",
   "id": "ba156bc7-8a77-4172-a899-d76c857714c7",
   "metadata": {},
   "source": [
    "* Agora vamos garantir um código legível com as 3 libs:"
   ]
  },
  {
   "cell_type": "code",
   "execution_count": 92,
   "id": "f93cf1b0-2b46-4a78-8b25-022810dd1b0f",
   "metadata": {},
   "outputs": [],
   "source": [
    "!isort src/exemplo_isort.py"
   ]
  },
  {
   "cell_type": "code",
   "execution_count": 93,
   "id": "122c3d7d-cdca-4ab0-ac1f-9486e4fca861",
   "metadata": {},
   "outputs": [
    {
     "name": "stdout",
     "output_type": "stream",
     "text": [
      "\u001b[1mreformatted src/exemplo_isort.py\u001b[0m\n",
      "\n",
      "\u001b[1mAll done! ✨ 🍰 ✨\u001b[0m\n",
      "\u001b[34m\u001b[1m1 file \u001b[0m\u001b[1mreformatted\u001b[0m.\n"
     ]
    }
   ],
   "source": [
    "!black src/exemplo_isort.py"
   ]
  },
  {
   "cell_type": "code",
   "execution_count": 94,
   "id": "8619a63c-4dcc-495a-b896-eb93869f34c2",
   "metadata": {},
   "outputs": [],
   "source": [
    "!flake8 src/exemplo_isort.py"
   ]
  },
  {
   "cell_type": "markdown",
   "id": "ecac7538-73d8-44b3-b5d2-125e3dcc1e20",
   "metadata": {},
   "source": [
    "* Analisando o código já com as 3 verificações:"
   ]
  },
  {
   "cell_type": "code",
   "execution_count": 95,
   "id": "f9412d95-0ad4-4c33-8e3b-039c23d8394b",
   "metadata": {},
   "outputs": [],
   "source": [
    "# %load src/exemplo_isort.py\n",
    "# Exemplo de arquivo desorganizado com imports\n",
    "import math\n",
    "import os\n",
    "import site\n",
    "\n",
    "\n",
    "def calcular_area_circulo(raio):\n",
    "    \"\"\"\n",
    "    Função para calcular a área de um círculo.\n",
    "    \"\"\"\n",
    "    return math.pi * raio**2\n",
    "\n",
    "\n",
    "def diretorio_atual():\n",
    "    \"\"\"\n",
    "    Função para informar o diretório atual.\n",
    "    \"\"\"\n",
    "    return os.getcwd()\n",
    "\n",
    "\n",
    "def ambiente_atual():\n",
    "    \"\"\"\n",
    "    Informa o ambiente de desenvolvimento atual.\n",
    "    \"\"\"\n",
    "    return site.getsitepackages()\n",
    "\n",
    "\n",
    "if __name__ == \"__main__\":\n",
    "    diretorio_atual()\n"
   ]
  },
  {
   "cell_type": "markdown",
   "id": "884375b3-f00a-43be-ba2b-200ea32781dc",
   "metadata": {},
   "source": [
    "* Hoje, aprendemos como usar essas bibliotecas para melhorar nossos processos de desenvolvimento de software. Aprendemos como formatar o código automaticamente com o Black, organizar os imports com o isort e verificar a qualidade do código com o Flake8. Ao dominar essas ferramentas, podemos nos tornar desenvolvedores mais eficientes e produzir código Python de alta qualidade."
   ]
  },
  {
   "cell_type": "markdown",
   "id": "6510c37e-826c-4e64-8fa4-49dbf1fc3fe7",
   "metadata": {},
   "source": [
    "#### Para evitar futuros conflitos, é necessário realizar algumas alterações no arquivo pyproject.toml, praticamente precisamos informar qual será a lib preferencial"
   ]
  },
  {
   "cell_type": "markdown",
   "id": "822d7c5d-29b8-465f-ae21-f9ece011d300",
   "metadata": {},
   "source": [
    "* **Carregando o arquivo pyproject.toml**."
   ]
  },
  {
   "cell_type": "code",
   "execution_count": 4,
   "id": "08d66bb2-9c5d-45e4-a1c3-492ba30ab737",
   "metadata": {},
   "outputs": [],
   "source": [
    "# %load ../pyproject.toml\n",
    "[tool.poetry]\n",
    "name = \"bootcamp-2024\"\n",
    "version = \"0.1.0\"\n",
    "description = \"\"\n",
    "authors = [\"Julio Okuda <julio.okuda@gmail.com>\"]\n",
    "license = \"MIT\"\n",
    "readme = \"README.md\"\n",
    "\n",
    "[tool.poetry.dependencies]\n",
    "python = \"3.10.13\"\n",
    "ipykernel = \"^6.29.3\"\n",
    "jupyter = \"^1.0.0\"\n",
    "lab = \"^8.1\"\n",
    "pandas = \"^2.2.1\"\n",
    "polars = \"^0.20.16\"\n",
    "duckdb = \"^0.10.1\"\n",
    "pyspark = \"^3.5.1\"\n",
    "vaex = \"^4.17.0\"\n",
    "matplotlib = \"^3.8.3\"\n",
    "dask-expr = \"^1.0.5\"\n",
    "flake8 = \"^7.0.0\"\n",
    "black = \"^24.3.0\"\n",
    "isort = \"^5.13.2\"\n",
    "\n",
    "\n",
    "[build-system]\n",
    "requires = [\"poetry-core\"]\n",
    "build-backend = \"poetry.core.masonry.api\"\n"
   ]
  },
  {
   "cell_type": "markdown",
   "id": "6f37d2a4-45f3-4041-af3d-590109559d06",
   "metadata": {},
   "source": [
    "* **Adicionando as configurações para evitar conflitos entre o black e o isort**."
   ]
  },
  {
   "cell_type": "code",
   "execution_count": 5,
   "id": "62cac6f8-5f7d-40d5-97a2-fa2d1886beee",
   "metadata": {},
   "outputs": [
    {
     "name": "stdout",
     "output_type": "stream",
     "text": [
      "Appending to ../pyproject.toml\n"
     ]
    }
   ],
   "source": [
    "%%writefile -a ../pyproject.toml\n",
    "# Adicionando a configuração ao pyproject.toml para evitar conflitos\n",
    "[tool.isort]\n",
    "profile = \"black\" \n"
   ]
  },
  {
   "cell_type": "markdown",
   "id": "ac7bc793-fc6e-43a7-8cbe-68bbaa326f1b",
   "metadata": {},
   "source": [
    "* **Carregando o arquivo novamente para conferir as alterações.**"
   ]
  },
  {
   "cell_type": "code",
   "execution_count": 6,
   "id": "ada0a505-7fe3-4b83-a4ca-90f99e672532",
   "metadata": {},
   "outputs": [],
   "source": [
    "# %load ../pyproject.toml\n",
    "[tool.poetry]\n",
    "name = \"bootcamp-2024\"\n",
    "version = \"0.1.0\"\n",
    "description = \"\"\n",
    "authors = [\"Julio Okuda <julio.okuda@gmail.com>\"]\n",
    "license = \"MIT\"\n",
    "readme = \"README.md\"\n",
    "\n",
    "[tool.poetry.dependencies]\n",
    "python = \"3.10.13\"\n",
    "ipykernel = \"^6.29.3\"\n",
    "jupyter = \"^1.0.0\"\n",
    "lab = \"^8.1\"\n",
    "pandas = \"^2.2.1\"\n",
    "polars = \"^0.20.16\"\n",
    "duckdb = \"^0.10.1\"\n",
    "pyspark = \"^3.5.1\"\n",
    "vaex = \"^4.17.0\"\n",
    "matplotlib = \"^3.8.3\"\n",
    "dask-expr = \"^1.0.5\"\n",
    "flake8 = \"^7.0.0\"\n",
    "black = \"^24.3.0\"\n",
    "isort = \"^5.13.2\"\n",
    "\n",
    "\n",
    "[build-system]\n",
    "requires = [\"poetry-core\"]\n",
    "build-backend = \"poetry.core.masonry.api\"\n",
    "# Adicionando a configuração ao pyproject.toml para evitar conflitos\n",
    "[tool.isort]\n",
    "profile = \"black\" \n"
   ]
  },
  {
   "cell_type": "markdown",
   "id": "5dca27a6-e3ea-44c0-a829-de830bc5d179",
   "metadata": {},
   "source": [
    "### Agora vamos automatizar essas 3 libs para que sejam executadas em um único comando com o [TASKIPY](https://pypi.org/project/taskipy/):"
   ]
  },
  {
   "cell_type": "code",
   "execution_count": 8,
   "id": "f2912043-1e64-42e7-914b-28c31e288313",
   "metadata": {},
   "outputs": [],
   "source": [
    "# instalando a lib taskipy no ambiente virtual\n",
    "!poetry add taskipy -q"
   ]
  },
  {
   "cell_type": "markdown",
   "id": "827c3c9f-9a9f-4e23-bb35-756fe304ac3d",
   "metadata": {},
   "source": [
    "A biblioteca \"taskipy\" é uma ferramenta que facilita a criação e execução de tarefas (ou \"tasks\") comuns em projetos Python usando o Python scripts. Ela é inspirada na funcionalidade de scripts do Node.js.\n",
    "\n",
    "Com o \"taskipy\", você pode definir facilmente tarefas personalizadas em um arquivo tasks.py no seu projeto Python e executá-las usando o comando taskipy no terminal. Isso é útil para automatizar tarefas repetitivas, como executar testes, iniciar o servidor de desenvolvimento, executar linting, entre outros.\n",
    "\n",
    "Além disso, o \"taskipy\" facilita a execução de tarefas específicas do projeto, garantindo que as dependências necessárias estejam instaladas e que as tarefas sejam executadas no contexto correto do projeto.\n",
    "\n",
    "Em resumo, o \"taskipy\" é uma ferramenta útil para automatizar tarefas em projetos Python, tornando o desenvolvimento mais eficiente e organizado.\n",
    "\n",
    "Link do projeto:[taskipy](https://pypi.org/project/taskipy/)"
   ]
  },
  {
   "cell_type": "markdown",
   "id": "5af21caa-0374-4c79-aac8-a2e42a2bee47",
   "metadata": {},
   "source": [
    "* **Agora precisamos adicionar nossa tarefa no arquivo pyproject.toml conforme o exemplo abaixo:**"
   ]
  },
  {
   "cell_type": "code",
   "execution_count": 10,
   "id": "2bcbb0cf-078f-4b2c-86c3-a45db6a2a313",
   "metadata": {},
   "outputs": [
    {
     "name": "stdout",
     "output_type": "stream",
     "text": [
      "Appending to ../pyproject.toml\n"
     ]
    }
   ],
   "source": [
    "%%writefile -a ../pyproject.toml\n",
    "# lib para automatizar tarefas\n",
    "[tool.taskipy.tasks]\n",
    "format = \"isort .&&black .&&flake8\" #verifica a formatação do código na sequência."
   ]
  },
  {
   "cell_type": "markdown",
   "id": "064f0619-f610-4a32-b60e-9b19d7acec22",
   "metadata": {},
   "source": [
    "* **Apenas para conferir as alterações:**"
   ]
  },
  {
   "cell_type": "code",
   "execution_count": 14,
   "id": "eb4a48b0-ed1e-4c7a-9f60-e73d915291ec",
   "metadata": {},
   "outputs": [],
   "source": [
    "# %load ../pyproject.toml\n",
    "[tool.poetry]\n",
    "name = \"bootcamp-2024\"\n",
    "version = \"0.1.0\"\n",
    "description = \"\"\n",
    "authors = [\"Julio Okuda <julio.okuda@gmail.com>\"]\n",
    "license = \"MIT\"\n",
    "readme = \"README.md\"\n",
    "\n",
    "[tool.poetry.dependencies]\n",
    "python = \"3.10.13\"\n",
    "ipykernel = \"^6.29.3\"\n",
    "jupyter = \"^1.0.0\"\n",
    "lab = \"^8.1\"\n",
    "pandas = \"^2.2.1\"\n",
    "polars = \"^0.20.16\"\n",
    "duckdb = \"^0.10.1\"\n",
    "pyspark = \"^3.5.1\"\n",
    "vaex = \"^4.17.0\"\n",
    "matplotlib = \"^3.8.3\"\n",
    "dask-expr = \"^1.0.5\"\n",
    "flake8 = \"^7.0.0\"\n",
    "black = \"^24.3.0\"\n",
    "isort = \"^5.13.2\"\n",
    "taskipy = \"^1.12.2\"\n",
    "\n",
    "\n",
    "[build-system]\n",
    "requires = [\"poetry-core\"]\n",
    "build-backend = \"poetry.core.masonry.api\"\n",
    "# Adicionando a configuração ao pyproject.toml para evitar conflitos\n",
    "[tool.isort]\n",
    "profile = \"black\" \n",
    "# lib para automatizar tarefas\n",
    "[tool.taskipy.tasks]\n",
    "format = \"isort .&&black .&&flake8\" #verifica a formatação do código na sequência.\n"
   ]
  },
  {
   "cell_type": "markdown",
   "id": "bf84cf0c-b57d-46ef-a0e9-2c7ad2e7af90",
   "metadata": {},
   "source": [
    "* **Bom agora, vou criar uma função simples e testar para conferir se a task está de fato funcional**."
   ]
  },
  {
   "cell_type": "code",
   "execution_count": 18,
   "id": "a052b706-ab08-4a5b-bf62-fad24727c9db",
   "metadata": {},
   "outputs": [
    {
     "name": "stdout",
     "output_type": "stream",
     "text": [
      "Overwriting src/exemplo_com_tasks.py\n"
     ]
    }
   ],
   "source": [
    "%%writefile src/exemplo_com_tasks.py\n",
    "#Exemplo de arquivo desorganizado com imports, função sem espaços adequados.\n",
    "import site\n",
    "import math\n",
    "import os\n",
    "def calcular_area_circulo(raio):\n",
    "    \"\"\"\n",
    "    Função para calcular a área de um círculo.\n",
    "    \"\"\"\n",
    "    return math.pi * raio**2\n",
    "def diretorio_atual():\n",
    "    \"\"\"\n",
    "    Função para informar o diretório atual.\n",
    "    \"\"\"\n",
    "    return os.getcwd()\n",
    "def ambiente_atual():\n",
    "    \"\"\"\n",
    "    Informa o ambiente de desenvolvimento atual.\n",
    "    \"\"\"\n",
    "    return site.getsitepackages()\n",
    "if __name__ == \"__main__\":\n",
    "    diretorio_atual()"
   ]
  },
  {
   "cell_type": "markdown",
   "id": "608d95b5-7201-4aaa-a53c-5f7e851fa730",
   "metadata": {},
   "source": [
    "* **Vamos testar a task:**"
   ]
  },
  {
   "cell_type": "code",
   "execution_count": 19,
   "id": "b62dcdea-d802-4329-85c5-1169a960fae9",
   "metadata": {},
   "outputs": [
    {
     "name": "stdout",
     "output_type": "stream",
     "text": [
      "Fixing /home/jcnok/bootcamps/bootcamp-jornada-de-dados_2024/aula_06/src/exemplo_com_tasks.py\n",
      "\u001b[1mSkipping .ipynb files as Jupyter dependencies are not installed.\n",
      "You can fix this by running ``pip install \"black[jupyter]\"``\u001b[0m\n",
      "\u001b[1mreformatted /home/jcnok/bootcamps/bootcamp-jornada-de-dados_2024/aula_06/src/exemplo_com_tasks.py\u001b[0m\n",
      "\n",
      "\u001b[1mAll done! ✨ 🍰 ✨\u001b[0m\n",
      "\u001b[34m\u001b[1m1 file \u001b[0m\u001b[1mreformatted\u001b[0m, \u001b[34m4 files \u001b[0mleft unchanged.\n"
     ]
    }
   ],
   "source": [
    "!task format src/exemplo_com_tasks.py"
   ]
  },
  {
   "cell_type": "markdown",
   "id": "403b4c31-accc-4f19-bf3c-7a546e736269",
   "metadata": {},
   "source": [
    "* **Conferindo como ficou:**"
   ]
  },
  {
   "cell_type": "code",
   "execution_count": 20,
   "id": "c78bae5f-b2a2-4986-821b-8d4e35fbef63",
   "metadata": {},
   "outputs": [],
   "source": [
    "# %load src/exemplo_com_tasks.py\n",
    "# Exemplo de arquivo desorganizado com imports, função sem espaços adequados.\n",
    "import math\n",
    "import os\n",
    "import site\n",
    "\n",
    "\n",
    "def calcular_area_circulo(raio):\n",
    "    \"\"\"\n",
    "    Função para calcular a área de um círculo.\n",
    "    \"\"\"\n",
    "    return math.pi * raio**2\n",
    "\n",
    "\n",
    "def diretorio_atual():\n",
    "    \"\"\"\n",
    "    Função para informar o diretório atual.\n",
    "    \"\"\"\n",
    "    return os.getcwd()\n",
    "\n",
    "\n",
    "def ambiente_atual():\n",
    "    \"\"\"\n",
    "    Informa o ambiente de desenvolvimento atual.\n",
    "    \"\"\"\n",
    "    return site.getsitepackages()\n",
    "\n",
    "\n",
    "if __name__ == \"__main__\":\n",
    "    diretorio_atual()\n"
   ]
  },
  {
   "cell_type": "markdown",
   "id": "673afa9d-db75-4871-84fe-a5c774ec08d5",
   "metadata": {},
   "source": [
    "* **Agora sim podemos garantir que nosso código fique organizado de forma legível, concisa e coesa?**\n",
    "  * Ainda não pois, imagine que esteja trabalhando em uma squad, e alguém simplesmente não execute a task, de nada adiantaria essas configurações."
   ]
  },
  {
   "cell_type": "markdown",
   "id": "0ef8ba53-feb9-47d1-b109-5f06e73b159c",
   "metadata": {},
   "source": [
    "* **Para resolver esse problema vamos utilizar uma outra lib para travar/bloquear todos os commits que não atenderem os requisitos mínimos necessários.**"
   ]
  },
  {
   "cell_type": "markdown",
   "id": "34871e6f-e7b2-485d-95e2-4f7df80c2f4b",
   "metadata": {},
   "source": [
    "#### Biblioteca pre-commit"
   ]
  },
  {
   "cell_type": "markdown",
   "id": "61a61de3-46ba-485e-a0f6-24bf36fc5102",
   "metadata": {},
   "source": [
    "A biblioteca \"pre-commit\" é uma ferramenta para automatizar a execução de verificações de código antes de cada commit em um repositório de controle de versão, como o Git.\n",
    "\n",
    "Principais características:\n",
    "- **Verificações Automáticas**: Executa verificações automáticas, como formatação de código, verificação de estilo e análise estática.\n",
    "- **Configuração Flexível**: Personalização fácil por meio do arquivo de configuração `.pre-commit-config.yaml`.\n",
    "- **Integração com Diversas Ferramentas**: Suporta uma ampla variedade de ferramentas de verificação de código.\n",
    "- **Execução Local**: As verificações são executadas localmente em seu ambiente de desenvolvimento.\n",
    "- **Integração com Git Hooks**: Integrado aos hooks do Git para acionamento automático antes de cada commit.\n",
    "\n",
    "Link do projeto: [pre-commit](https://pypi.org/project/pre-commit/)\n"
   ]
  },
  {
   "cell_type": "code",
   "execution_count": 22,
   "id": "8faad842-3ab5-4b5e-b0d9-64189ad7810b",
   "metadata": {},
   "outputs": [],
   "source": [
    "# instalando a lib pre-commit no ambiente virtual com poetry \n",
    "!poetry add pre-commit -q"
   ]
  },
  {
   "cell_type": "markdown",
   "id": "2b0654ea-7220-446d-baa8-5a1b95791f03",
   "metadata": {},
   "source": [
    "* **Após a instalação é necessário criar um novo arquivo '.pre-commit-config.yaml' na raiz do projeto, é nele que iremos realizar as devidas configurações.**"
   ]
  },
  {
   "cell_type": "markdown",
   "id": "6853ab3d-5b98-44e3-9943-173e10eda47e",
   "metadata": {},
   "source": [
    "* **Algumas configurações básicas serão aplicadas agora conforme o exemplo abaixo:**"
   ]
  },
  {
   "cell_type": "code",
   "execution_count": 26,
   "id": "037ad041-3d48-4b08-99ee-f623072278f6",
   "metadata": {},
   "outputs": [
    {
     "name": "stdout",
     "output_type": "stream",
     "text": [
      "Writing ../.pre-commit-config.yaml\n"
     ]
    }
   ],
   "source": [
    "%%writefile ../.pre-commit-config.yaml\n",
    "# Salvando as configurações na raiz do projeto\n",
    "repos:\n",
    "  - repo: https://github.com/pre-commit/pre-commit-hooks\n",
    "    rev: v4.5.0\n",
    "    hooks:\n",
    "      - id: trailing-whitespace\n",
    "        args: [--markdown-linebreak-ext=md]\n",
    "      - id: end-of-file-fixer\n",
    "      - id: check-yaml\n",
    "      - id: check-toml\n",
    "      - id: detect-private-key\n",
    "      - id: check-added-large-files\n",
    "  - repo: https://github.com/psf/black-pre-commit-mirror\n",
    "    rev: 24.3.0\n",
    "    hooks:\n",
    "      - id: black\n",
    "        language_version: python3.10\n",
    "  - repo: https://github.com/pycqa/isort\n",
    "    rev: 5.13.2\n",
    "    hooks:\n",
    "      - id: isort\n",
    "        name: isort (python)\n",
    "  - repo: https://github.com/pycqa/flake8\n",
    "    rev: 7.0.0\n",
    "    hooks:\n",
    "      - id: flake8"
   ]
  },
  {
   "cell_type": "markdown",
   "id": "4a76ffee-719f-43a9-a47a-552c77a5a29e",
   "metadata": {},
   "source": [
    "#### Configuração do pre-commit\n",
    "\n",
    "O arquivo `.pre-commit-config.yaml` contém a configuração do pre-commit para automatizar verificações e correções de código antes de cada commit em um repositório Git. Aqui está um resumo das configurações:\n",
    "\n",
    "- **pre-commit/pre-commit-hooks**: Este repositório contém uma coleção de hooks do pre-commit para realizar várias verificações no código, como remoção de espaços em branco, adição de nova linha no final do arquivo, verificação de sintaxe YAML e TOML, detecção de chaves privadas e verificação de arquivos grandes adicionados.\n",
    "  \n",
    "- **psf/black-pre-commit-mirror**: Este repositório contém o hook do Black, uma ferramenta de formatação de código Python que formata automaticamente o código de acordo com as diretrizes do PEP 8.\n",
    "\n",
    "- **pycqa/isort**: Este repositório contém o hook do isort, uma ferramenta para organizar os imports de módulos em arquivos Python de acordo com as convenções de importação do Python.\n",
    "\n",
    "- **pycqa/flake8**: Este repositório contém o hook do Flake8, uma ferramenta de verificação de código Python que verifica a conformidade com as diretrizes de estilo do PEP 8 e identifica possíveis problemas no código-fonte.\n",
    "```\n",
    "\n",
    "Em resumo vamos usar essas ferramentas e verificações configuradas no arquivo `.pre-commit-config.yaml` para garantir a qualidade do código em um projeto Python."
   ]
  },
  {
   "cell_type": "markdown",
   "id": "4d9e938f-c9f1-4a37-bdb5-8b7ed1f70280",
   "metadata": {},
   "source": [
    "* **Com o arquivo .pre-commit-config.yaml criada, é necessário executar as instalações com o código abaixo:**"
   ]
  },
  {
   "cell_type": "code",
   "execution_count": 30,
   "id": "3deb52e8-0caf-46f3-80fa-bc4175e1c269",
   "metadata": {},
   "outputs": [
    {
     "name": "stdout",
     "output_type": "stream",
     "text": [
      "pre-commit installed at .git/hooks/pre-commit\n"
     ]
    }
   ],
   "source": [
    "!pre-commit install"
   ]
  },
  {
   "cell_type": "markdown",
   "id": "c24a8c49-1ee3-4341-9d11-29047ab08ca6",
   "metadata": {},
   "source": [
    "* **Irei criar uma função e realizar um teste e ver se está tudo funcioando ao realizar um commit:**"
   ]
  },
  {
   "cell_type": "code",
   "execution_count": 32,
   "id": "22d87b2a-37dc-4b86-baae-a61af1dd1a00",
   "metadata": {},
   "outputs": [
    {
     "name": "stdout",
     "output_type": "stream",
     "text": [
      "Writing src/exemplo_com_pre-commit.py\n"
     ]
    }
   ],
   "source": [
    "%%writefile src/exemplo_com_pre-commit.py\n",
    "#Criando uma função para testar o pre-commit\n",
    "\n",
    "#Exemplo de arquivo desorganizado com imports, função sem espaços adequados.\n",
    "import site\n",
    "import math\n",
    "import os\n",
    "def calcular_area_circulo(raio):\n",
    "    \"\"\"\n",
    "    Função para calcular a área de um círculo.\n",
    "    \"\"\"\n",
    "    return math.pi * raio**2\n",
    "def diretorio_atual():\n",
    "    \"\"\"\n",
    "    Função para informar o diretório atual.\n",
    "    \"\"\"\n",
    "    return os.getcwd()\n",
    "def ambiente_atual():\n",
    "    \"\"\"\n",
    "    Informa o ambiente de desenvolvimento atual.\n",
    "    \"\"\"\n",
    "    return site.getsitepackages()\n",
    "if __name__ == \"__main__\":\n",
    "    diretorio_atual()"
   ]
  },
  {
   "cell_type": "markdown",
   "id": "74f9537d-9508-4961-bbbf-33841811cad5",
   "metadata": {},
   "source": [
    "* **Veja que o script acima não está com as devidas formatações básicas da PEP8**.\n",
    "* **Vamos ver se o pre-commit consegue resolver isso.**"
   ]
  },
  {
   "cell_type": "code",
   "execution_count": 33,
   "id": "a7be5444-b889-44b3-b9b1-9a78738b32c3",
   "metadata": {},
   "outputs": [
    {
     "name": "stdout",
     "output_type": "stream",
     "text": [
      "On branch main\n",
      "Your branch is up to date with 'origin/main'.\n",
      "\n",
      "Changes not staged for commit:\n",
      "  (use \"git add <file>...\" to update what will be committed)\n",
      "  (use \"git restore <file>...\" to discard changes in working directory)\n",
      "\t\u001b[31mmodified:   notebook/aula_06.ipynb\u001b[m\n",
      "\t\u001b[31mmodified:   ../poetry.lock\u001b[m\n",
      "\t\u001b[31mmodified:   ../pyproject.toml\u001b[m\n",
      "\n",
      "Untracked files:\n",
      "  (use \"git add <file>...\" to include in what will be committed)\n",
      "\t\u001b[31msrc/exemplo_com_pre-commit.py\u001b[m\n",
      "\t\u001b[31msrc/exemplo_com_tasks.py\u001b[m\n",
      "\n",
      "no changes added to commit (use \"git add\" and/or \"git commit -a\")\n"
     ]
    }
   ],
   "source": [
    "!git status"
   ]
  },
  {
   "cell_type": "code",
   "execution_count": 34,
   "id": "aed5d88f-c58d-41e2-96a1-aec9a1f2f2db",
   "metadata": {},
   "outputs": [],
   "source": [
    "#Adicionando ao stage\n",
    "!git add src/exemplo_com_pre-commit.py"
   ]
  },
  {
   "cell_type": "code",
   "execution_count": 35,
   "id": "355fac6d-c733-40f8-aeb1-23326d150f81",
   "metadata": {},
   "outputs": [
    {
     "name": "stdout",
     "output_type": "stream",
     "text": [
      "On branch main\n",
      "Your branch is up to date with 'origin/main'.\n",
      "\n",
      "Changes to be committed:\n",
      "  (use \"git restore --staged <file>...\" to unstage)\n",
      "\t\u001b[32mnew file:   src/exemplo_com_pre-commit.py\u001b[m\n",
      "\n",
      "Changes not staged for commit:\n",
      "  (use \"git add <file>...\" to update what will be committed)\n",
      "  (use \"git restore <file>...\" to discard changes in working directory)\n",
      "\t\u001b[31mmodified:   notebook/aula_06.ipynb\u001b[m\n",
      "\t\u001b[31mmodified:   ../poetry.lock\u001b[m\n",
      "\t\u001b[31mmodified:   ../pyproject.toml\u001b[m\n",
      "\n",
      "Untracked files:\n",
      "  (use \"git add <file>...\" to include in what will be committed)\n",
      "\t\u001b[31msrc/exemplo_com_tasks.py\u001b[m\n",
      "\n"
     ]
    }
   ],
   "source": [
    "#conferindo se foi adicionado.\n",
    "!git status"
   ]
  },
  {
   "cell_type": "code",
   "execution_count": 36,
   "id": "7aaf737a-f505-468f-a3c1-07a70483f5b7",
   "metadata": {
    "scrolled": true
   },
   "outputs": [
    {
     "name": "stdout",
     "output_type": "stream",
     "text": [
      "\u001b[43;30m[WARNING]\u001b[m Unstaged files detected.\n",
      "[INFO]\u001b[m Stashing unstaged files to /home/jcnok/.cache/pre-commit/patch1712286549-259038.\n",
      "trim trailing whitespace.................................................\u001b[42mPassed\u001b[m\n",
      "fix end of files.........................................................\u001b[42mPassed\u001b[m\n",
      "check yaml...........................................(no files to check)\u001b[46;30mSkipped\u001b[m\n",
      "check toml...........................................(no files to check)\u001b[46;30mSkipped\u001b[m\n",
      "detect private key.......................................................\u001b[42mPassed\u001b[m\n",
      "check for added large files..............................................\u001b[42mPassed\u001b[m\n",
      "black....................................................................\u001b[41mFailed\u001b[m\n",
      "\u001b[2m- hook id: black\u001b[m\n",
      "\u001b[2m- files were modified by this hook\u001b[m\n",
      "\n",
      "\u001b[1mreformatted aula_06/src/exemplo_com_pre-commit.py\u001b[0m\n",
      "\n",
      "\u001b[1mAll done! ✨ 🍰 ✨\u001b[0m\n",
      "\u001b[34m\u001b[1m1 file \u001b[0m\u001b[1mreformatted\u001b[0m.\n",
      "\n",
      "isort (python)...........................................................\u001b[41mFailed\u001b[m\n",
      "\u001b[2m- hook id: isort\u001b[m\n",
      "\u001b[2m- files were modified by this hook\u001b[m\n",
      "\n",
      "Fixing /home/jcnok/bootcamps/bootcamp-jornada-de-dados_2024/aula_06/src/exemplo_com_pre-commit.py\n",
      "\n",
      "flake8...................................................................\u001b[42mPassed\u001b[m\n",
      "[INFO]\u001b[m Restored changes from /home/jcnok/.cache/pre-commit/patch1712286549-259038.\n"
     ]
    }
   ],
   "source": [
    "#Commitando o arquivo\n",
    "!git commit -m \"add:exemplo de pre-commit simples\""
   ]
  },
  {
   "cell_type": "markdown",
   "id": "123f5f52-cbe9-45d0-aef8-b296bf2c4096",
   "metadata": {},
   "source": [
    "* **Observe que o black encontrou divergências e não aprovou o commit, porém ele próprio se encarregou de corrigir agora irei realizar um novo commit e garantir a aprovação:**"
   ]
  },
  {
   "cell_type": "code",
   "execution_count": 37,
   "id": "b69c9ee7-187b-4d3f-925a-38c9ab841bfa",
   "metadata": {},
   "outputs": [
    {
     "name": "stdout",
     "output_type": "stream",
     "text": [
      "On branch main\n",
      "Your branch is up to date with 'origin/main'.\n",
      "\n",
      "Changes to be committed:\n",
      "  (use \"git restore --staged <file>...\" to unstage)\n",
      "\t\u001b[32mnew file:   src/exemplo_com_pre-commit.py\u001b[m\n",
      "\n",
      "Changes not staged for commit:\n",
      "  (use \"git add <file>...\" to update what will be committed)\n",
      "  (use \"git restore <file>...\" to discard changes in working directory)\n",
      "\t\u001b[31mmodified:   notebook/aula_06.ipynb\u001b[m\n",
      "\t\u001b[31mmodified:   src/exemplo_com_pre-commit.py\u001b[m\n",
      "\t\u001b[31mmodified:   ../poetry.lock\u001b[m\n",
      "\t\u001b[31mmodified:   ../pyproject.toml\u001b[m\n",
      "\n",
      "Untracked files:\n",
      "  (use \"git add <file>...\" to include in what will be committed)\n",
      "\t\u001b[31msrc/exemplo_com_tasks.py\u001b[m\n",
      "\n"
     ]
    }
   ],
   "source": [
    "!git status"
   ]
  },
  {
   "cell_type": "code",
   "execution_count": 38,
   "id": "feee434e-4b99-482e-9f64-86b8ff4ccec2",
   "metadata": {},
   "outputs": [],
   "source": [
    "!git add src/exemplo_com_pre-commit.py"
   ]
  },
  {
   "cell_type": "code",
   "execution_count": 39,
   "id": "38903aa6-65cb-459c-8964-275a5b50732b",
   "metadata": {
    "scrolled": true
   },
   "outputs": [
    {
     "name": "stdout",
     "output_type": "stream",
     "text": [
      "\u001b[43;30m[WARNING]\u001b[m Unstaged files detected.\n",
      "[INFO]\u001b[m Stashing unstaged files to /home/jcnok/.cache/pre-commit/patch1712286803-259694.\n",
      "trim trailing whitespace.................................................\u001b[42mPassed\u001b[m\n",
      "fix end of files.........................................................\u001b[42mPassed\u001b[m\n",
      "check yaml...........................................(no files to check)\u001b[46;30mSkipped\u001b[m\n",
      "check toml...........................................(no files to check)\u001b[46;30mSkipped\u001b[m\n",
      "detect private key.......................................................\u001b[42mPassed\u001b[m\n",
      "check for added large files..............................................\u001b[42mPassed\u001b[m\n",
      "black....................................................................\u001b[42mPassed\u001b[m\n",
      "isort (python)...........................................................\u001b[42mPassed\u001b[m\n",
      "flake8...................................................................\u001b[42mPassed\u001b[m\n",
      "[INFO]\u001b[m Restored changes from /home/jcnok/.cache/pre-commit/patch1712286803-259694.\n",
      "[main e9a5bd2] update:exemplo corrigido pelo pre-commit\n",
      " 1 file changed, 31 insertions(+)\n",
      " create mode 100644 aula_06/src/exemplo_com_pre-commit.py\n"
     ]
    }
   ],
   "source": [
    "!git commit -m \"update:exemplo corrigido pelo pre-commit\""
   ]
  },
  {
   "cell_type": "markdown",
   "id": "e53a15f8-3749-4e3b-af92-ae599c4634bd",
   "metadata": {},
   "source": [
    "* **Desta forma conseguimos garantir que a squad irá manter a qualidade no desenvolvimento de todo o projeto, garantindo as boas práticas que foi definido com o time.**\n",
    "* **O pre-commit pode ser utilizado para padronizar o formato dos commits, para verificação de segurança, padronização e qualidade de código entre outras, vale muito estudar toda a documentação.**"
   ]
  }
 ],
 "metadata": {
  "kernelspec": {
   "display_name": "Python 3 (ipykernel)",
   "language": "python",
   "name": "python3"
  },
  "language_info": {
   "codemirror_mode": {
    "name": "ipython",
    "version": 3
   },
   "file_extension": ".py",
   "mimetype": "text/x-python",
   "name": "python",
   "nbconvert_exporter": "python",
   "pygments_lexer": "ipython3",
   "version": "3.10.13"
  }
 },
 "nbformat": 4,
 "nbformat_minor": 5
}
