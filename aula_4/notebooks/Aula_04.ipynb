{
 "cells": [
  {
   "cell_type": "code",
   "execution_count": 1,
   "id": "ce7d914e-093f-4c5d-8375-8874a9e1f77f",
   "metadata": {},
   "outputs": [
    {
     "data": {
      "text/plain": [
       "['/home/jcnok/bootcamps/bootcamp-jornada-de-dados_2024/.venv/lib/python3.11/site-packages']"
      ]
     },
     "execution_count": 1,
     "metadata": {},
     "output_type": "execute_result"
    }
   ],
   "source": [
    "# conferindo o ambiente virtual\n",
    "import site \n",
    "site.getsitepackages()"
   ]
  },
  {
   "cell_type": "code",
   "execution_count": 5,
   "id": "80b6dc3a-55fa-49ab-9829-b7c38d191efb",
   "metadata": {},
   "outputs": [
    {
     "name": "stdout",
     "output_type": "stream",
     "text": [
      "Python 3.11.3\n"
     ]
    }
   ],
   "source": [
    "# conferindo a versão do python \n",
    "!python --version"
   ]
  },
  {
   "cell_type": "markdown",
   "id": "07bf7803-33ad-4bfe-ba4b-753bbff85699",
   "metadata": {},
   "source": [
    "# Aula 04 | Type hint, Tipos complexos (Dicionários vs DataFrames Vs Tabelas Vs Excel) e Funções"
   ]
  },
  {
   "cell_type": "markdown",
   "id": "2905163b-f57e-4db3-9d92-8c30314d75e6",
   "metadata": {},
   "source": [
    "## Resolução dos exercícios e desafio"
   ]
  },
  {
   "cell_type": "markdown",
   "id": "fa6d3e1d-4752-49fe-b6b2-43318e424e65",
   "metadata": {},
   "source": [
    "<a id=\"voltar\"></a>"
   ]
  },
  {
   "cell_type": "markdown",
   "id": "3cfb9e6e-ee3b-46d2-b35f-0e57c0e7d7ae",
   "metadata": {},
   "source": [
    "1. [Crie uma lista com os números de 1 a 10 e use um loop para imprimir cada número elevado ao quadrado.](#ancora01)\n",
    "2. [Dada a lista `[\"Python\", \"Java\", \"C++\", \"JavaScript\"]`, remova o item \"C++\" e adicione \"Ruby\".](#ancora02)\n",
    "3. [Crie um dicionário para armazenar informações de um livro, incluindo título, autor e ano de publicação. Imprima cada informação.](#ancora03)\n",
    "4. [Escreva um programa que conta o número de ocorrências de cada caractere em uma string usando um dicionário.](#ancora04)\n",
    "5. [Dada a lista `[\"maçã\", \"banana\", \"cereja\"]` e o dicionário `{\"maçã\": 0.45, \"banana\": 0.30, \"cereja\": 0.65}`, calcule o preço total da lista de compras.](#ancora05)\n",
    "6. [Eliminação de Duplicatas:](#ancora06)\n",
    "* **Objetivo:** Dada uma lista de emails, remover todos os duplicados.\n",
    "7. [Filtragem de Dados:](#ancora07)\n",
    "\n",
    "* **Objetivo:** Dada uma lista de idades, filtrar apenas aquelas que são maiores ou iguais a 18.\n",
    "8. [Ordenação Personalizada:](#ancora08)\n",
    "\n",
    "* **Objetivo:** Dada uma lista de dicionários representando pessoas, ordená-las pelo nome.\n",
    "9. [Agregação de Dados:](#ancora09)\n",
    "\n",
    "* **Objetivo:** Dado um conjunto de números, calcular a média.\n",
    "10. [Divisão de Dados em Grupos](#ancora10)\n",
    "\n",
    "* **Objetivo:** Dada uma lista de valores, dividir em duas listas: uma para valores pares e outra para ímpares.\n",
    "11. [Atualização de Dados](#ancora11)\n",
    "\n",
    "* **Objetivo:** Dada uma lista de dicionários representando produtos, atualizar o preço de um produto específico.\n",
    "12. [Fusão de Dicionários](#ancora12)\n",
    "\n",
    "* **Objetivo:** Dados dois dicionários, fundi-los em um único dicionário.\n",
    "13. [Filtragem de Dados em Dicionário](#ancora13)\n",
    "\n",
    "* **Objetivo:** Dado um dicionário de estoque de produtos, filtrar aqueles com quantidade maior que 0.\n",
    "14. [Extração de Chaves e Valores](#ancora14)\n",
    "\n",
    "* **Objetivo:** Dado um dicionário, criar listas separadas para suas chaves e valores.\n",
    "15. [Contagem de Frequência de Itens](#ancora15)\n",
    "\n",
    "* **Objetivo:** Dada uma string, contar a frequência de cada caractere usando um dicionário.\n",
    "16. [Escreva uma função que receba uma lista de números e retorne a soma de todos os números.](#ancora16)\n",
    "17. [Crie uma função que receba um número como argumento e retorne `True` se o número for primo e `False` caso contrário.](#ancora17)\n",
    "18. [Desenvolva uma função que receba uma string como argumento e retorne essa string revertida.](#ancora18)\n",
    "19. [Implemente uma função que receba dois argumentos: uma lista de números e um número. A função deve retornar todas as combinações de pares na lista que somem ao número dado.](#ancora19)\n",
    "20. [Escreva uma função que receba um dicionário e retorne uma lista de chaves ordenadas.](#ancora20)\n",
    "21. [Desafio será tipar o desafio da aula 03](#desafio)  \n",
    "01)\n"
   ]
  },
  {
   "cell_type": "markdown",
   "id": "514c37d9-ca74-425b-9d70-b7da97248d2f",
   "metadata": {},
   "source": [
    "<a id=\"ancora01\"></a>\n",
    "1. **Crie uma lista com os números de 1 a 10 e use um loop para imprimir cada número elevado ao quadrado.**"
   ]
  },
  {
   "cell_type": "code",
   "execution_count": 42,
   "id": "34e20923-3573-444c-ba56-fa738b9f05d8",
   "metadata": {},
   "outputs": [
    {
     "name": "stdout",
     "output_type": "stream",
     "text": [
      "1 elevado ao quadrado é: 1\n",
      "2 elevado ao quadrado é: 4\n",
      "3 elevado ao quadrado é: 9\n",
      "4 elevado ao quadrado é: 16\n",
      "5 elevado ao quadrado é: 25\n",
      "6 elevado ao quadrado é: 36\n",
      "7 elevado ao quadrado é: 49\n",
      "8 elevado ao quadrado é: 64\n",
      "9 elevado ao quadrado é: 81\n",
      "10 elevado ao quadrado é: 100\n"
     ]
    }
   ],
   "source": [
    "#1. [Crie uma lista com os números de 1 a 10 e use um loop para imprimir cada número elevado ao quadrado.]\n",
    "# Cria uma lista de números de 1 a 10\n",
    "numeros = list(range(1, 11))\n",
    "# Loop para imprimir cada número e seu quadrado\n",
    "for numero in numeros:\n",
    "    quadrado = numero ** 2\n",
    "    print(f\"{numero} elevado ao quadrado é: {quadrado}\")\n"
   ]
  },
  {
   "cell_type": "markdown",
   "id": "e463bc73-62a6-4b27-870d-15e8261d8900",
   "metadata": {},
   "source": [
    "<a id=\"ancora02\"></a>\n",
    " 2. **Dada a lista `[\"Python\", \"Java\", \"C++\", \"JavaScript\"]`, remova o item \"C++\" e adicione \"Ruby\"**"
   ]
  },
  {
   "cell_type": "code",
   "execution_count": 49,
   "id": "9bcadea5-7349-467e-bd39-eaa57d4e8499",
   "metadata": {},
   "outputs": [
    {
     "data": {
      "text/plain": [
       "['Python', 'Java', 'Ruby', 'JavaScript']"
      ]
     },
     "execution_count": 49,
     "metadata": {},
     "output_type": "execute_result"
    }
   ],
   "source": [
    "#2. Dada a lista [\"Python\", \"Java\", \"C++\", \"JavaScript\"], remova o item \"C++\" e adicione \"Ruby\"\n",
    "lista = [\"Python\", \"Java\", \"C++\", \"JavaScript\"]\n",
    "lista[2] = \"Ruby\"\n",
    "lista"
   ]
  },
  {
   "cell_type": "markdown",
   "id": "6b8c9d77-4cdf-48d9-8ef4-aa138a09e605",
   "metadata": {},
   "source": [
    "<a id=\"ancora03\"></a>\n",
    "3. **Crie um dicionário para armazenar informações de um livro, incluindo título, autor e ano de publicação. Imprima cada informação.**"
   ]
  },
  {
   "cell_type": "code",
   "execution_count": 51,
   "id": "bc6f3f6b-aacf-479a-9704-06f8dfbf805f",
   "metadata": {},
   "outputs": [
    {
     "name": "stdout",
     "output_type": "stream",
     "text": [
      "titulo: Inteligência Artificial\n",
      "autor: Kai-Fu Lee\n",
      "ano_publicacao: 2019\n"
     ]
    }
   ],
   "source": [
    "#3. Crie um dicionário para armazenar informações de um livro, incluindo título, autor e ano de publicação. Imprima cada informação.\n",
    "# Cria um dicionário com informações do livro\n",
    "livro = {\n",
    "    \"titulo\": \"Inteligência Artificial\",\n",
    "    \"autor\": \"Kai-Fu Lee\",\n",
    "    \"ano_publicacao\": 2019\n",
    "}\n",
    "\n",
    "# Imprime cada informação do livro\n",
    "for chave, valor in livro.items():\n",
    "    print(f\"{chave}: {valor}\")\n"
   ]
  },
  {
   "cell_type": "markdown",
   "id": "6c506f86-e7b6-491c-b606-8640d7b23ee1",
   "metadata": {},
   "source": [
    "<a id=\"ancora04\"></a>\n",
    "4. **Escreva um programa que conta o número de ocorrências de cada caractere em uma string usando um dicionário.**"
   ]
  },
  {
   "cell_type": "code",
   "execution_count": 56,
   "id": "bce1a46f-22df-4576-b925-8f1bc524f656",
   "metadata": {},
   "outputs": [
    {
     "name": "stdout",
     "output_type": "stream",
     "text": [
      "A:1\n",
      " :13\n",
      "ú:1\n",
      "n:2\n",
      "i:3\n",
      "c:2\n",
      "a:9\n",
      "m:4\n",
      "e:4\n",
      "r:4\n",
      "d:1\n",
      "f:2\n",
      "z:2\n",
      "u:2\n",
      "ó:1\n",
      "t:2\n",
      "o:4\n",
      "b:1\n",
      "l:1\n",
      "h:1\n",
      "é:1\n",
      "q:1\n",
      "v:1\n",
      "ê:1\n",
      ".:1\n"
     ]
    }
   ],
   "source": [
    "# 4. Escreva um programa que conta o número de ocorrências de cada caractere em uma string usando um dicionário.\n",
    "string = \"A única maneira de fazer um ótimo trabalho é amar o que você faz.\"\n",
    "conta_caractere = {}\n",
    "for caractere in string:\n",
    "    if caractere in conta_caractere:\n",
    "        conta_caractere[caractere] +=1\n",
    "    else:\n",
    "        conta_caractere[caractere] = 1\n",
    "for caractere, frequencia in conta_caractere.items():\n",
    "    print(f\"{caractere}:{frequencia}\")\n",
    "    "
   ]
  },
  {
   "cell_type": "markdown",
   "id": "6367dc15-749e-4b32-b4a0-d3c1e17debb4",
   "metadata": {},
   "source": [
    "<a id=\"ancora05\"></a>\n",
    "5. **Dada a lista `[\"maçã\", \"banana\", \"cereja\"]` e o dicionário `{\"maçã\": 0.45, \"banana\": 0.30, \"cereja\": 0.65}`, calcule o preço total da lista de compras.**"
   ]
  },
  {
   "cell_type": "code",
   "execution_count": 89,
   "id": "f0d7cad0-622b-416c-9f7f-2b4f2084d358",
   "metadata": {},
   "outputs": [
    {
     "name": "stdout",
     "output_type": "stream",
     "text": [
      "produto: maçã          -------------- R$ 0.45\n",
      "produto: banana        -------------- R$ 0.30\n",
      "produto: cereja        -------------- R$ 0.65\n",
      "Total:   ---------------------------- R$ 1.40\n"
     ]
    }
   ],
   "source": [
    "#5. Dada a lista `[\"maçã\", \"banana\", \"cereja\"]` e o dicionário `{\"maçã\": 0.45, \"banana\": 0.30, \"cereja\": 0.65}`, calcule o preço total da lista de compras.\n",
    "lista_compras = [\"maçã\", \"banana\", \"cereja\"]\n",
    "preco_produto = {\"maçã\": 0.45, \"banana\": 0.30, \"cereja\": 0.65}\n",
    "total = 0\n",
    "for lista in lista_compras:\n",
    "    if lista in preco_produto:\n",
    "        total += preco_produto[lista]\n",
    "        print(f\"produto: {lista.ljust(10)}    -------------- R$ {preco_produto[lista]:.2f}\")\n",
    "    else:\n",
    "        print(f\"produto: {lista.ljust(10)}    -------------- em falta!\")\n",
    "\n",
    "print(f\"Total:   ---------------------------- R$ {total:.2f}\")"
   ]
  },
  {
   "cell_type": "markdown",
   "id": "72b45b55-d0d7-4581-968b-c497dcac9572",
   "metadata": {},
   "source": [
    "[voltar](#voltar)"
   ]
  },
  {
   "cell_type": "markdown",
   "id": "8dbfe46c-f6bc-4157-b779-91d5773fe624",
   "metadata": {},
   "source": [
    "<a id=\"ancora06\"></a>\n",
    "6. **Eliminação de Duplicatas:**\n",
    "* **Objetivo:** Dada uma lista de emails, remover todos os duplicados."
   ]
  },
  {
   "cell_type": "code",
   "execution_count": 101,
   "id": "b50bd02d-2c57-4d10-ba61-c5e2b9802069",
   "metadata": {},
   "outputs": [
    {
     "name": "stdout",
     "output_type": "stream",
     "text": [
      "==========Os emails duplicados foram removidos com sucesso!==========\n",
      "['joaosilva@email.com', 'anagomes@email.com', 'mariagomes@email.com', 'pedrodutra@email.com', 'carlosbarbosa@email.com', 'marialopes@email.com']\n"
     ]
    }
   ],
   "source": [
    "#6. Eliminação de Duplicatas: Dada uma lista de emails, remover todos os duplicados.\n",
    "emails = [\"joaosilva@email.com\", \"mariagomes@email.com\", \"pedrodutra@email.com\",\"joaosilva@email.com\",\n",
    "          \"marialopes@email.com\", \"carlosbarbosa@email.com\", \"anagomes@email.com\",\"carlosbarbosa@email.com\"]\n",
    "print(f\"{'='*10}Os emails duplicados foram removidos com sucesso!{'='*10}\\n{list(set(emails))}\")"
   ]
  },
  {
   "cell_type": "markdown",
   "id": "a9aa6e0d-535d-4d06-91db-22238afce697",
   "metadata": {},
   "source": [
    "<a id=\"ancora07\"></a>\n",
    "7. **Filtragem de Dados:**\n",
    "* **Objetivo:** Dada uma lista de idades, filtrar apenas aquelas que são maiores ou iguais a 18."
   ]
  },
  {
   "cell_type": "code",
   "execution_count": 114,
   "id": "c76d4074-dbc7-4054-8ba8-b8edf28591be",
   "metadata": {},
   "outputs": [
    {
     "name": "stdout",
     "output_type": "stream",
     "text": [
      "Idades maiores ou iguais a 18:[20, 45, 18]\n"
     ]
    }
   ],
   "source": [
    "# 7. Filtragem de Dados: Dada uma lista de idades, filtrar apenas aquelas que são maiores ou iguais a 18.\n",
    "idades = [10, 20, 45, 18, 12, 16, 5]\n",
    "resultado = [x for x in idades if x >= 18]\n",
    "# outra forma list(filter(lambda x: x >= 18, idades))\n",
    "print(f\"Idades maiores ou iguais a 18:{resultado}\")"
   ]
  },
  {
   "cell_type": "markdown",
   "id": "8ba307af-0f2d-4de3-a30f-ee25edfbd5aa",
   "metadata": {},
   "source": [
    "<a id=\"ancora08\"></a>\n",
    "8. **Ordenação Personalizada:**\n",
    "* **Objetivo:** Dada uma lista de dicionários representando pessoas, ordená-las pelo nome."
   ]
  },
  {
   "cell_type": "code",
   "execution_count": 128,
   "id": "e41b2bc1-34e1-49a0-aca9-f9fb33895a72",
   "metadata": {},
   "outputs": [
    {
     "name": "stdout",
     "output_type": "stream",
     "text": [
      "lista ordenada por nome:[{'nome': 'Ana', 'idade': 25}, {'nome': 'Julio', 'idade': 28}, {'nome': 'Maria', 'idade': 22}, {'nome': 'Pedro', 'idade': 30}]\n"
     ]
    }
   ],
   "source": [
    "# 8. Ordenação Personalizada: Dada uma lista de dicionários representando pessoas, ordená-las pelo nome.\n",
    "\n",
    "pessoas =[\n",
    "  {\"nome\": \"Ana\", \"idade\": 25},\n",
    "  {\"nome\": \"Pedro\", \"idade\": 30},\n",
    "  {\"nome\": \"Maria\", \"idade\": 22},\n",
    "  {\"nome\": \"Julio\", \"idade\": 28},\n",
    "]\n",
    "\n",
    "pessoas_ordenadas = list(sorted(pessoas, key=lambda pessoa: pessoa[\"nome\"]))\n",
    "print(f\"lista ordenada por nome:{pessoas_ordenadas}\")"
   ]
  },
  {
   "cell_type": "code",
   "execution_count": null,
   "id": "c8ae27a8-81fc-47f9-97a6-ddd14eed6677",
   "metadata": {},
   "outputs": [],
   "source": [
    "<a id=\"ancora09\"></a>"
   ]
  },
  {
   "cell_type": "code",
   "execution_count": null,
   "id": "291639cd-7b40-4de8-bf50-ac1fffd5d7f3",
   "metadata": {},
   "outputs": [],
   "source": [
    "<a id=\"ancora10\"></a>"
   ]
  },
  {
   "cell_type": "code",
   "execution_count": null,
   "id": "e8d87f13-6fba-413a-8bc3-d015d7b1cf68",
   "metadata": {},
   "outputs": [],
   "source": [
    "<a id=\"ancora11\"></a>"
   ]
  },
  {
   "cell_type": "code",
   "execution_count": null,
   "id": "350a9461-84d5-4164-8f11-2130588f5566",
   "metadata": {},
   "outputs": [],
   "source": [
    "<a id=\"ancora12\"></a>"
   ]
  },
  {
   "cell_type": "code",
   "execution_count": null,
   "id": "41d33ba9-2731-4f24-8919-dbb65f036f5d",
   "metadata": {},
   "outputs": [],
   "source": [
    "<a id=\"ancora13\"></a>"
   ]
  },
  {
   "cell_type": "code",
   "execution_count": null,
   "id": "a4a9e357-8407-4fc5-8f93-1c49364a8f9f",
   "metadata": {},
   "outputs": [],
   "source": [
    "<a id=\"ancora14\"></a>"
   ]
  },
  {
   "cell_type": "code",
   "execution_count": null,
   "id": "a0cd0a2d-bf1e-4e3c-a9a0-ff820edfc38f",
   "metadata": {},
   "outputs": [],
   "source": [
    "<a id=\"ancora15\"></a>"
   ]
  },
  {
   "cell_type": "code",
   "execution_count": null,
   "id": "ac14afe6-9568-40b5-8486-c25a354313f6",
   "metadata": {},
   "outputs": [],
   "source": [
    "<a id=\"ancora16\"></a>"
   ]
  },
  {
   "cell_type": "code",
   "execution_count": null,
   "id": "abb294fb-b23e-4afa-9e71-a58624e82116",
   "metadata": {},
   "outputs": [],
   "source": [
    "<a id=\"ancora17\"></a>"
   ]
  },
  {
   "cell_type": "code",
   "execution_count": null,
   "id": "1ec93a26-2026-4227-911a-9ffdbe51dea0",
   "metadata": {},
   "outputs": [],
   "source": [
    "<a id=\"ancora18\"></a>"
   ]
  },
  {
   "cell_type": "code",
   "execution_count": null,
   "id": "3139a795-033e-451c-96ce-eb0d21db453b",
   "metadata": {},
   "outputs": [],
   "source": [
    "<a id=\"ancora19\"></a>"
   ]
  },
  {
   "cell_type": "code",
   "execution_count": null,
   "id": "db81c2a0-f918-4c47-bd2b-367e51ffc9f2",
   "metadata": {},
   "outputs": [],
   "source": [
    "<a id=\"ancora20\"></a>"
   ]
  },
  {
   "cell_type": "markdown",
   "id": "eb9e30c1-a8c6-4022-bb20-1a09f6202fd9",
   "metadata": {},
   "source": [
    "<a id=\"desafio\"></a>"
   ]
  },
  {
   "cell_type": "markdown",
   "id": "7beab587-6dfd-4822-b3cb-835a7ed37fc3",
   "metadata": {},
   "source": [
    "[voltar](#voltar)"
   ]
  },
  {
   "cell_type": "markdown",
   "id": "2c423065-f777-43c9-90c3-2b7bc09f0ad3",
   "metadata": {},
   "source": []
  },
  {
   "cell_type": "code",
   "execution_count": null,
   "id": "5081c140-6684-4d2f-943c-974034a13bbd",
   "metadata": {},
   "outputs": [],
   "source": []
  },
  {
   "cell_type": "code",
   "execution_count": null,
   "id": "f2c2668e-7202-46da-bad6-96f1df71171e",
   "metadata": {},
   "outputs": [],
   "source": []
  },
  {
   "cell_type": "code",
   "execution_count": null,
   "id": "a3aca2eb-debe-4e06-bf45-3403ad30c7fc",
   "metadata": {},
   "outputs": [],
   "source": [
    "<a id=\"ancora01\"></a>"
   ]
  },
  {
   "cell_type": "code",
   "execution_count": null,
   "id": "c203efea-db2f-4d35-b283-d47c6a8810a3",
   "metadata": {},
   "outputs": [],
   "source": [
    "<a id=\"ancora02\"></a>"
   ]
  },
  {
   "cell_type": "code",
   "execution_count": null,
   "id": "6802973d-0bc7-4dfe-a389-335121cc4b48",
   "metadata": {},
   "outputs": [],
   "source": [
    "<a id=\"ancora03\"></a>"
   ]
  },
  {
   "cell_type": "code",
   "execution_count": null,
   "id": "0ba178fa-40fa-46d6-8c07-d85217f77697",
   "metadata": {},
   "outputs": [],
   "source": [
    "<a id=\"ancora04\"></a>"
   ]
  },
  {
   "cell_type": "code",
   "execution_count": null,
   "id": "72d92f0d-dd8a-4b79-8775-acb6c2010c71",
   "metadata": {},
   "outputs": [],
   "source": [
    "<a id=\"ancora05\"></a>"
   ]
  },
  {
   "cell_type": "code",
   "execution_count": null,
   "id": "311e6520-12ef-45dc-a172-58d52b95dfa5",
   "metadata": {},
   "outputs": [],
   "source": [
    "<a id=\"ancora06\"></a>"
   ]
  },
  {
   "cell_type": "code",
   "execution_count": null,
   "id": "a1237aad-a8e8-492a-b287-dc05cd23daff",
   "metadata": {},
   "outputs": [],
   "source": [
    "<a id=\"ancora07\"></a>"
   ]
  },
  {
   "cell_type": "code",
   "execution_count": null,
   "id": "01a87f82-7c9b-4fab-9095-d3c527f94260",
   "metadata": {},
   "outputs": [],
   "source": [
    "<a id=\"ancora08\"></a>"
   ]
  },
  {
   "cell_type": "code",
   "execution_count": null,
   "id": "a6104bf9-0c3d-4106-b1d9-ed1251b2741f",
   "metadata": {},
   "outputs": [],
   "source": [
    "<a id=\"ancora09\"></a>"
   ]
  },
  {
   "cell_type": "code",
   "execution_count": null,
   "id": "9cf96df6-4760-4d94-a9a5-7633baf2e1b1",
   "metadata": {},
   "outputs": [],
   "source": [
    "<a id=\"ancora10\"></a>"
   ]
  },
  {
   "cell_type": "code",
   "execution_count": null,
   "id": "d2e4262f-eef4-450f-80ef-994691152aa5",
   "metadata": {},
   "outputs": [],
   "source": [
    "<a id=\"ancora11\"></a>"
   ]
  },
  {
   "cell_type": "code",
   "execution_count": null,
   "id": "c91f3f83-3266-4141-96b8-230b4b7a9a5f",
   "metadata": {},
   "outputs": [],
   "source": [
    "<a id=\"ancora12\"></a>"
   ]
  },
  {
   "cell_type": "code",
   "execution_count": null,
   "id": "5ce98e7e-2cc2-45cb-ad45-ad2e075899b3",
   "metadata": {},
   "outputs": [],
   "source": [
    "<a id=\"ancora13\"></a>"
   ]
  },
  {
   "cell_type": "code",
   "execution_count": null,
   "id": "100586f4-7d78-466a-8cae-e9a498e13351",
   "metadata": {},
   "outputs": [],
   "source": [
    "<a id=\"ancora14\"></a>"
   ]
  },
  {
   "cell_type": "code",
   "execution_count": null,
   "id": "56d6c5de-b7bf-4e00-9466-1d9a63c373be",
   "metadata": {},
   "outputs": [],
   "source": [
    "<a id=\"ancora15\"></a>"
   ]
  },
  {
   "cell_type": "code",
   "execution_count": null,
   "id": "5f061c3c-8f55-451a-97b4-95a5ff95514a",
   "metadata": {},
   "outputs": [],
   "source": [
    "<a id=\"ancora16\"></a>"
   ]
  },
  {
   "cell_type": "code",
   "execution_count": null,
   "id": "38d2030d-ffcb-402c-ae96-ae2b6b325ad9",
   "metadata": {},
   "outputs": [],
   "source": [
    "<a id=\"ancora17\"></a>"
   ]
  },
  {
   "cell_type": "code",
   "execution_count": null,
   "id": "d46097d2-f66e-4a99-a665-ef603ad67825",
   "metadata": {},
   "outputs": [],
   "source": [
    "<a id=\"ancora18\"></a>"
   ]
  },
  {
   "cell_type": "code",
   "execution_count": null,
   "id": "fa1974cd-b889-43fa-8495-468604e178d9",
   "metadata": {},
   "outputs": [],
   "source": [
    "<a id=\"ancora19\"></a>"
   ]
  },
  {
   "cell_type": "code",
   "execution_count": null,
   "id": "f9b592ea-4ebe-4916-9bb8-2c887f4f8704",
   "metadata": {},
   "outputs": [],
   "source": [
    "<a id=\"ancora20\"></a>"
   ]
  }
 ],
 "metadata": {
  "kernelspec": {
   "display_name": "bootcamp_jd24",
   "language": "python",
   "name": "bootcamp_jd24"
  },
  "language_info": {
   "codemirror_mode": {
    "name": "ipython",
    "version": 3
   },
   "file_extension": ".py",
   "mimetype": "text/x-python",
   "name": "python",
   "nbconvert_exporter": "python",
   "pygments_lexer": "ipython3",
   "version": "3.11.3"
  }
 },
 "nbformat": 4,
 "nbformat_minor": 5
}
