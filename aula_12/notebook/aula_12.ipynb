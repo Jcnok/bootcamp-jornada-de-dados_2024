{
 "cells": [
  {
   "cell_type": "markdown",
   "id": "102d2d52-fc6d-4e43-9dfd-e348e7153b0f",
   "metadata": {},
   "source": [
    "# Aula 12 - classes abstratas e polimorfismo:"
   ]
  },
  {
   "cell_type": "markdown",
   "id": "70b515cd-2676-4815-85b4-dffcae6130c6",
   "metadata": {},
   "source": [
    "**Classes Abstratas:**\n",
    "\n",
    "Imagine que você está construindo uma casa e precisa de um modelo padrão para todas as casas que serão construídas. Uma classe abstrata em Python é como um modelo para outras classes. Ela define métodos que devem ser implementados por suas subclasses, mas não fornece uma implementação real desses métodos.\n",
    "\n",
    "Por exemplo, em nosso modelo de casa, podemos ter um método abstrato chamado `construir()` que todas as subclasses devem implementar. Cada tipo de casa (como Casa de Madeira, Casa de Tijolos, etc.) deve ter sua própria implementação desse método de construção, mas todas devem seguir o mesmo modelo básico.\n",
    "\n",
    "**Polimorfismo:**\n",
    "\n",
    "Agora, suponha que temos diferentes tipos de veículos, como carro, bicicleta e avião. Todos eles têm a capacidade de se locomover, mas cada um se move de maneira diferente. Aqui é onde entra o polimorfismo.\n",
    "\n",
    "O polimorfismo em Python nos permite tratar objetos de diferentes classes de maneira uniforme. Por exemplo, podemos ter uma função `mover(veiculo)` que aceita qualquer tipo de veículo e chama seu método `mover()` correspondente. Mesmo que cada veículo tenha sua própria maneira única de se mover, podemos chamar o mesmo método `mover()` para todos eles.\n",
    "\n",
    "Então, para resumir:\n",
    "- Classes Abstratas definem métodos que devem ser implementados por suas subclasses.\n",
    "- O Polimorfismo nos permite tratar objetos de diferentes classes de maneira uniforme, chamando os mesmos métodos em cada um deles."
   ]
  },
  {
   "cell_type": "markdown",
   "id": "0a09c54e-f916-4934-9ecd-51f703f097d4",
   "metadata": {},
   "source": [
    "## Desafio:"
   ]
  },
  {
   "cell_type": "markdown",
   "id": "64e92eff-c217-47c7-9df2-dc4648e9a409",
   "metadata": {},
   "source": [
    "* **Imagine esta situação:** você está liderando um projeto em uma empresa de tecnologia. Todos os dias, sua equipe é bombardeada com uma grande quantidade de arquivos de dados, alguns em formato CSV e outros em TXT, todos cheios de informações preciosas. Sua missão? Juntar todos esses dados dispersos em um só lugar para desbloquear insights valiosos.\n",
    "\n",
    "* **Aqui está o desafio:** duas pastas, dois tipos de arquivo, e a necessidade urgente de consolidar tudo isso em um único DataFrame. Essa é a realidade enfrentada por muitos profissionais, desde iniciantes até os mais experientes.\n",
    "\n",
    "* Então, como podemos resolver esse desafio de maneira simples e eficaz, usando classes para garantir que, à medida que o projeto evolui e novos formatos de arquivo são introduzidos, não seja necessário recomeçar do zero? Como podemos unir esses dados dispersos em um único DataFrame, pronto para análise e exploração?\n"
   ]
  },
  {
   "cell_type": "markdown",
   "id": "051a71b7-50e3-4da7-8dcc-d3f578fdce69",
   "metadata": {},
   "source": [
    "## Possível escopo do projeto:"
   ]
  },
  {
   "cell_type": "markdown",
   "id": "e0ac5136-67a5-4271-9f6e-ca09075ba092",
   "metadata": {},
   "source": [
    "```mermaid \n",
    "graph TD;\n",
    "    A[main.py] -->|Executa| B[src/lib/classes];\n",
    "    B --> C[Verifica novos arquivos];\n",
    "    C -->|Sim| D[Salva em pastas data];\n",
    "    D -->|txt| E[data.txt];\n",
    "    D -->|csv| F[data.csv];\n",
    "    E --> G[Consolida em DataFrame];\n",
    "    F --> G;\n",
    "```"
   ]
  },
  {
   "cell_type": "code",
   "execution_count": 2,
   "id": "674a1bd5-c174-4354-84e8-19d10002c611",
   "metadata": {},
   "outputs": [
    {
     "data": {
      "text/plain": [
       "'/home/jcnok/bootcamps/bootcamp-jornada-de-dados_2024/aula_12'"
      ]
     },
     "execution_count": 2,
     "metadata": {},
     "output_type": "execute_result"
    }
   ],
   "source": [
    "# Selecionando a raiz do projeto:\n",
    "import os \n",
    "os.chdir('/home/jcnok/bootcamps/bootcamp-jornada-de-dados_2024/aula_12')\n",
    "os.getcwd()"
   ]
  },
  {
   "cell_type": "code",
   "execution_count": 3,
   "id": "2c22dc40-5607-40be-800e-e8cef034951e",
   "metadata": {},
   "outputs": [
    {
     "name": "stdout",
     "output_type": "stream",
     "text": [
      "['/home/jcnok/bootcamps/bootcamp-jornada-de-dados_2024/.venv/lib/python3.10/site-packages']\n"
     ]
    }
   ],
   "source": [
    "# Conferindo se o kernel está usando o ambiente virtual:\n",
    "import site \n",
    "print(site.getsitepackages())"
   ]
  },
  {
   "cell_type": "markdown",
   "id": "1f5da4aa-dd9d-4ddc-b9f8-fd8e66be628e",
   "metadata": {},
   "source": [
    "## Desenvolvendo as classes:"
   ]
  },
  {
   "cell_type": "markdown",
   "id": "ab9b8209-28e0-4086-b37e-73e2299a93e6",
   "metadata": {},
   "source": [
    "### Criando classes abstratada com a lib [abs(Abstract Base Classes)](https://docs.python.org/pt-br/3/library/abc.html#module-abc)"
   ]
  },
  {
   "cell_type": "markdown",
   "id": "5f927a6e-02e8-4c3d-aa76-ac5b99da1513",
   "metadata": {},
   "source": [
    "* **Código:**"
   ]
  },
  {
   "cell_type": "code",
   "execution_count": 9,
   "id": "534c5c29-9dac-4a2a-bf37-173c3a474489",
   "metadata": {},
   "outputs": [
    {
     "name": "stdout",
     "output_type": "stream",
     "text": [
      "Writing src/lib/classes/AbstractDataSource.py\n"
     ]
    }
   ],
   "source": [
    "%%writefile src/lib/classes/AbstractDataSource.py\n",
    "#script para utilizar classes abstratas.\n",
    "from abc import ABC, abstractmethod\n",
    "\n",
    "class AbstractDataSource(ABC):\n",
    "    \"\"\"Abstract class for defining data source operations.\"\"\"\n",
    "\n",
    "    @abstractmethod\n",
    "    def start(self):\n",
    "        \"\"\"Method to start the data source.\"\"\"\n",
    "        raise NotImplementedError(\"Method not implemented\")\n",
    "\n",
    "    @abstractmethod\n",
    "    def get_data(self):\n",
    "        \"\"\"Method to retrieve data from the source.\"\"\"\n",
    "        raise NotImplementedError(\"Method not implemented\")\n",
    "\n",
    "    @abstractmethod\n",
    "    def transform_data_to_df(self):\n",
    "        \"\"\"Method to transform data to a DataFrame.\"\"\"\n",
    "        raise NotImplementedError(\"Method not implemented\")\n",
    "\n",
    "    @abstractmethod\n",
    "    def save_data(self):\n",
    "        \"\"\"Method to save data.\"\"\"\n",
    "        raise NotImplementedError(\"Method not implemented\")\n",
    "\n",
    "    def hello_world(self):\n",
    "        \"\"\"Simple method to print 'Hello World'.\"\"\"\n",
    "        print('Hello World')\n"
   ]
  },
  {
   "cell_type": "markdown",
   "id": "9ac47851-2e27-4c0b-bff3-cd3240bb2ba2",
   "metadata": {},
   "source": [
    "A lib abc do Python (Abstract Base Classes) fornece uma estrutura para criar classes abstratas em Python. Classes abstratas são aquelas que não podem ser instanciadas diretamente, mas são usadas como modelos para outras classes que as herdam.\n",
    "\n",
    "O ABC é uma classe base que indica que a classe derivada é uma classe abstrata. Já o abstractmethod é um decorador usado para indicar que um método em uma classe abstrata é obrigatório em suas subclasses concretas. Em outras palavras, quando uma classe herda de uma classe abstrata e não implementa um método decorado com @abstractmethod, uma exceção será lançada. Isso garante que as subclasses implementem métodos específicos definidos na classe abstrata."
   ]
  },
  {
   "cell_type": "markdown",
   "id": "557972f3-5cc1-4e94-98b7-9bf27d69a703",
   "metadata": {},
   "source": [
    "Esta é uma classe abstrata destinada a definir as operações básicas de uma fonte de dados. Ela fornece métodos abstratos para iniciar a fonte de dados, obter os dados, transformá-los em um DataFrame e salvar os dados.\n",
    "\n",
    "Métodos abstratos:\n",
    "\n",
    "* start(): Método para iniciar a fonte de dados.\n",
    "* get_data(): Método para recuperar os dados da fonte.\n",
    "* transform_data_to_df(): Método para transformar os dados em um DataFrame.\n",
    "* save_data(): Método para salvar os dados."
   ]
  },
  {
   "cell_type": "markdown",
   "id": "259e0ac5-9ea0-4d7b-af0a-d95042f35151",
   "metadata": {},
   "source": [
    "* **vantagens:**"
   ]
  },
  {
   "cell_type": "markdown",
   "id": "60ac7ef8-f611-41a8-92fb-dc2567a355b4",
   "metadata": {},
   "source": [
    "Usar classes abstratas e herança em Python, em vez de apenas funções simples, oferece algumas vantagens importantes:\n",
    "\n",
    "1. **Organização e Estruturação do Código**: Ao usar classes e herança, você pode organizar seu código de maneira mais estruturada e intuitiva. Isso facilita a compreensão do código e a manutenção futura.\n",
    "\n",
    "2. **Reutilização de Código**: A herança permite que você reutilize facilmente o código em várias partes do seu programa. Você pode definir comportamentos comuns em uma classe base e depois estender essa classe para adicionar funcionalidades específicas em subclasses.\n",
    "\n",
    "3. **Polimorfismo**: O polimorfismo, uma característica da herança, permite que objetos de diferentes classes sejam tratados de maneira uniforme. Isso significa que você pode usar uma classe base para manipular objetos de suas subclasses, sem precisar se preocupar com os detalhes específicos de cada uma.\n",
    "\n",
    "4. **Encapsulamento**: Classes abstratas e herança também facilitam a implementação do conceito de encapsulamento, permitindo que você agrupe dados e comportamentos relacionados em um único objeto.\n",
    "\n",
    "Portanto, embora você possa alcançar resultados semelhantes usando funções simples, o uso de classes abstratas e herança em Python oferece uma abordagem mais estruturada, modular e flexível para lidar com problemas complexos e cenários em que a hierarquia e a composição de objetos são importantes."
   ]
  },
  {
   "cell_type": "markdown",
   "id": "1157ec74-38e3-4c56-9686-178d60405085",
   "metadata": {},
   "source": [
    "### Criação do arquivo __init__.py:"
   ]
  },
  {
   "cell_type": "markdown",
   "id": "58316d8b-bf9a-4139-bae9-cc96624b215a",
   "metadata": {},
   "source": [
    "Quando você coloca um arquivo chamado __init__.py em uma pasta, você está dizendo ao Python que essa pasta é especial e contém código Python que pode ser importado como um pacote. É como colocar uma etiqueta na caixa de brinquedos para dizer \"Esta caixa é importante e contém coisas legais dentro\"."
   ]
  },
  {
   "cell_type": "markdown",
   "id": "159b4d55-0dc5-431b-a86d-0abea1eb7287",
   "metadata": {},
   "source": [
    "* **Código**:"
   ]
  },
  {
   "cell_type": "code",
   "execution_count": 20,
   "id": "be277ac5-1d91-4663-9c89-15320f88e968",
   "metadata": {},
   "outputs": [
    {
     "name": "stdout",
     "output_type": "stream",
     "text": [
      "Writing src/lib/classes/__init__py\n"
     ]
    }
   ],
   "source": [
    "%%writefile src/lib/classes/__init__py\n",
    "# Este arquivo inicializa o pacote da pasta classes, fornecendo acesso às classes do sistema.\n"
   ]
  },
  {
   "cell_type": "code",
   "execution_count": 23,
   "id": "6cfe94d5-a594-4970-8034-307dca62320c",
   "metadata": {},
   "outputs": [
    {
     "name": "stdout",
     "output_type": "stream",
     "text": [
      "Writing src/lib/__init__py\n"
     ]
    }
   ],
   "source": [
    "%%writefile src/lib/__init__py\n",
    "# Este arquivo inicializa o pacote da pasta lib, fornecendo acesso às classes do sistema."
   ]
  },
  {
   "cell_type": "markdown",
   "id": "cf8d4143-10ef-4106-8679-02c8cfbbb7f7",
   "metadata": {},
   "source": [
    "### Criando a classe FilesSources:"
   ]
  },
  {
   "cell_type": "markdown",
   "id": "58c9408f-48cd-4020-97ac-a545fa2e9b9e",
   "metadata": {},
   "source": [
    "* **Código:**"
   ]
  },
  {
   "cell_type": "code",
   "execution_count": 32,
   "id": "ea0792fc-606e-4b13-b61e-c5ab5f55321d",
   "metadata": {},
   "outputs": [
    {
     "name": "stdout",
     "output_type": "stream",
     "text": [
      "Overwriting src/lib/classes/FilesSources.py\n"
     ]
    }
   ],
   "source": [
    "%%writefile src/lib/classes/FilesSources.py\n",
    "# Class FilesSources\n",
    "import os\n",
    "from lib.classes.AbstractDataSource import AbstractDataSource\n",
    "\n",
    "class FilesSources(AbstractDataSource):\n",
    "    \"\"\"\n",
    "    A class to represent a data source for files.\n",
    "\n",
    "    Attributes\n",
    "    ----------\n",
    "    previous_files : list\n",
    "        A list to store the names of the previously processed files.\n",
    "    folder_path : str\n",
    "        The path to the folder containing the files.\n",
    "\n",
    "    Methods\n",
    "    -------\n",
    "    create_path()\n",
    "        Creates the folder path if it does not exist.\n",
    "    check_for_new_files()\n",
    "        Checks for new files in the folder.\n",
    "    get_data()\n",
    "        Placeholder method to get data from files.\n",
    "    transform_data_to_df()\n",
    "        Placeholder method to transform data to DataFrame.\n",
    "    save_data()\n",
    "        Placeholder method to save data.\n",
    "    show_files()\n",
    "        Prints the list of previously processed files.\n",
    "    start()\n",
    "        Initializes the data source.\n",
    "    \"\"\"\n",
    "\n",
    "    def __init__(self):\n",
    "        \"\"\"Initialize the FilesSources class.\"\"\"\n",
    "        self.previous_files = []\n",
    "        self.start()\n",
    "\n",
    "    def create_path(self):\n",
    "        \"\"\"Create the folder path if it does not exist.\"\"\"\n",
    "        current_directory = os.getcwd()\n",
    "        self.folder_path = os.path.join(current_directory, 'data', 'extension_files')\n",
    "        if not os.path.exists(self.folder_path):\n",
    "            os.makedirs(self.folder_path)\n",
    "\n",
    "    def check_for_new_files(self):\n",
    "        \"\"\"Check for new files in the folder.\"\"\"\n",
    "        current_files = os.listdir(self.folder_path)\n",
    "        new_files = [file for file in current_files if file not in self.previous_files]\n",
    "\n",
    "        if new_files:\n",
    "            print(\"New files detected:\", new_files)\n",
    "            # Update the list of previous files\n",
    "            self.previous_files = current_files\n",
    "        else:\n",
    "            print(\"No new files detected.\")\n",
    "\n",
    "    def get_data(self):\n",
    "        \"\"\"Placeholder method to get data from files.\"\"\"\n",
    "        pass\n",
    "    \n",
    "    def transform_data_to_df(self):\n",
    "        \"\"\"Placeholder method to transform data to DataFrame.\"\"\"\n",
    "        pass\n",
    "\n",
    "    def save_data(self):\n",
    "        \"\"\"Placeholder method to save data.\"\"\"\n",
    "        pass\n",
    "\n",
    "    def show_files(self):\n",
    "        \"\"\"Print the list of previously processed files.\"\"\"\n",
    "        print(self.previous_files)\n",
    "\n",
    "    def start(self):\n",
    "        \"\"\"Initialize the data source.\"\"\"\n",
    "        self.create_path()\n"
   ]
  },
  {
   "cell_type": "markdown",
   "id": "3d835699-1833-44a1-ab30-74d53183a3e6",
   "metadata": {},
   "source": [
    "### Documentação: FilesSources Class\n",
    "\n",
    "A classe `FilesSources` é responsável por gerenciar uma fonte de dados para arquivos. Ela fornece métodos para criar, verificar e manipular arquivos em uma determinada pasta.\n",
    "\n",
    "#### Attributes\n",
    "\n",
    "- **previous_files** (`list`): Uma lista para armazenar os nomes dos arquivos previamente processados.\n",
    "- **folder_path** (`str`): O caminho para a pasta contendo os arquivos.\n",
    "\n",
    "#### Methods\n",
    "\n",
    "##### `create_path()`\n",
    "\n",
    "Este método cria o caminho da pasta se ela não existir.\n",
    "\n",
    "##### `check_for_new_files()`\n",
    "\n",
    "Este método verifica se há novos arquivos na pasta.\n",
    "\n",
    "##### `get_data()`\n",
    "\n",
    "Este método é um espaço reservado para obter dados dos arquivos.\n",
    "\n",
    "##### `transform_data_to_df()`\n",
    "\n",
    "Este método é um espaço reservado para transformar os dados em um DataFrame.\n",
    "\n",
    "##### `save_data()`\n",
    "\n",
    "Este método é um espaço reservado para salvar os dados.\n",
    "\n",
    "##### `show_files()`\n",
    "\n",
    "Este método imprime a lista de arquivos previamente processados.\n",
    "\n",
    "##### `start()`\n",
    "\n",
    "Este método inicializa a fonte de dados.\n",
    "\n",
    "#### Example Usage\n",
    "\n",
    "```python\n",
    "from lib.classes.FilesSources import FilesSources\n",
    "\n",
    "# Initialize FilesSources object\n",
    "file_source = FilesSources()\n",
    "\n",
    "# Check for new files\n",
    "file_source.check_for_new_files()\n",
    "\n",
    "# Show previously processed files\n",
    "file_source.show_files()\n",
    "```\n",
    "\n",
    "Este exemplo demonstra como usar a classe `FilesSources` para gerenciar arquivos em uma determinada pasta. Ao instanciar o objeto `FilesSources`, o método `start()` é chamado automaticamente para inicializar a fonte de dados. Em seguida, o método `check_for_new_files()` é usado para verificar se há novos arquivos na pasta. Por fim, o método `show_files()` é usado para exibir os arquivos previamente processados."
   ]
  },
  {
   "cell_type": "code",
   "execution_count": 33,
   "id": "a24b4ae8-c8e3-4a59-b82e-bdb10f3ce3f7",
   "metadata": {},
   "outputs": [
    {
     "name": "stdout",
     "output_type": "stream",
     "text": [
      "No new files detected.\n",
      "[]\n"
     ]
    }
   ],
   "source": [
    "from src.lib.classes.FilesSources import FilesSources\n",
    "\n",
    "# Initialize FilesSources object\n",
    "file_source = FilesSources()\n",
    "\n",
    "# Check for new files\n",
    "file_source.check_for_new_files()\n",
    "\n",
    "# Show previously processed files\n",
    "file_source.show_files()"
   ]
  },
  {
   "cell_type": "markdown",
   "id": "c7023e7f-ea9f-4344-894d-45ca80a553e9",
   "metadata": {},
   "source": [
    "### Criando a classe CsvSource:"
   ]
  },
  {
   "cell_type": "markdown",
   "id": "f8a1f6ac-694d-4d16-ba93-9ba2a69c3116",
   "metadata": {},
   "source": [
    "* **Código**:"
   ]
  },
  {
   "cell_type": "code",
   "execution_count": 31,
   "id": "b45bd7c4-0ad6-47eb-8e18-4fc2a67f4689",
   "metadata": {},
   "outputs": [
    {
     "name": "stdout",
     "output_type": "stream",
     "text": [
      "Overwriting src/lib/classes/CsvSource.py\n"
     ]
    }
   ],
   "source": [
    "%%writefile src/lib/classes/CsvSource.py\n",
    "#Classe CsvSource\n",
    "import os\n",
    "import pandas as pd\n",
    "from lib.classes.FilesSources import FilesSources\n",
    "\n",
    "class CsvSource(FilesSources):\n",
    "    \"\"\"\n",
    "    A class to represent a CSV data source.\n",
    "\n",
    "    Attributes:\n",
    "    -----------\n",
    "    folder_path : str\n",
    "        The path to the folder containing CSV files.\n",
    "    previous_files : list\n",
    "        A list of previously detected CSV files in the folder.\n",
    "\n",
    "    Methods:\n",
    "    --------\n",
    "    create_path():\n",
    "        Creates the folder path to store CSV files if it does not exist.\n",
    "    check_for_new_files():\n",
    "        Checks for new CSV files in the folder and updates the list of previous files.\n",
    "    get_data():\n",
    "        Retrieves data from CSV files in the specified folder.\n",
    "    transform_data_to_df():\n",
    "        Transforms the retrieved data into a DataFrame.\n",
    "    \"\"\"\n",
    "    \n",
    "    def create_path(self):\n",
    "        \"\"\"\n",
    "        Create the folder path to store CSV files if it does not exist.\n",
    "        \"\"\"\n",
    "        current_directory = os.getcwd()\n",
    "        self.folder_path = os.path.join(current_directory, 'data', 'csv_files')\n",
    "        if not os.path.exists(self.folder_path):\n",
    "            os.makedirs(self.folder_path)\n",
    "\n",
    "    def check_for_new_files(self):\n",
    "        \"\"\"\n",
    "        Check for new CSV files in the folder and update the list of previous files.\n",
    "        \"\"\"\n",
    "        current_files = os.listdir(self.folder_path)\n",
    "        new_files = [file for file in current_files if file not in self.previous_files and file.endswith('.csv')]\n",
    "\n",
    "        if new_files:\n",
    "            print(\"New files detected:\", new_files)\n",
    "            # Update the list of previous files\n",
    "            self.previous_files = current_files\n",
    "        else:\n",
    "            print(\"No new CSV files detected.\")\n",
    "            self.get_data()\n",
    "\n",
    "    def get_data(self):\n",
    "        \"\"\"\n",
    "        Retrieve data from CSV files in the specified folder.\n",
    "        \"\"\"\n",
    "        # Implement getting data from CSV files in the specified folder\n",
    "        data_frames = []\n",
    "        for file_path in self.previous_files:\n",
    "            try:\n",
    "                path = f'{self.folder_path}/{file_path}'\n",
    "                data = pd.read_csv(path)\n",
    "                data_frames.append(data)\n",
    "            except Exception as e:\n",
    "                print(\"An error occurred while reading the CSV file:\", e)\n",
    "        if data_frames:\n",
    "            self.combined_data = pd.concat(data_frames, ignore_index=True)\n",
    "            print(self.combined_data)\n",
    "            return self.combined_data\n",
    "        else:\n",
    "            return None\n",
    "    \n",
    "    def transform_data_to_df(self):\n",
    "        \"\"\"\n",
    "        Transform the retrieved data into a DataFrame.\n",
    "        \"\"\"\n",
    "        return super().transform_data_to_df()\n"
   ]
  },
  {
   "cell_type": "markdown",
   "id": "d0337df6-7288-46b8-b7df-c328e07a4ff0",
   "metadata": {},
   "source": [
    "### Documentação da Classe CsvSource\n",
    "\n",
    "A classe `CsvSource` é responsável por lidar com fontes de dados no formato CSV.\n",
    "\n",
    "#### Atributos\n",
    "\n",
    "- **folder_path** (str): O caminho para a pasta que contém os arquivos CSV.\n",
    "- **previous_files** (list): Uma lista dos arquivos CSV previamente detectados na pasta.\n",
    "\n",
    "#### Métodos\n",
    "\n",
    "##### `create_path()`\n",
    "\n",
    "Este método cria o caminho da pasta para armazenar os arquivos CSV, caso ela não exista.\n",
    "\n",
    "##### `check_for_new_files()`\n",
    "\n",
    "Este método verifica se existem novos arquivos CSV na pasta e atualiza a lista de arquivos previamente detectados.\n",
    "\n",
    "##### `get_data()`\n",
    "\n",
    "Este método recupera os dados dos arquivos CSV na pasta especificada.\n",
    "\n",
    "##### `transform_data_to_df()`\n",
    "\n",
    "Este método transforma os dados recuperados em um DataFrame.\n",
    "\n",
    "#### Observações\n",
    "\n",
    "- Certifique-se de que os arquivos CSV estejam na pasta especificada antes de usar os métodos `check_for_new_files()` e `get_data()`.\n",
    "- Os arquivos CSV devem estar em formato correto para garantir uma leitura adequada."
   ]
  },
  {
   "cell_type": "markdown",
   "id": "03b423b8-6cc6-492b-9540-7e45651fc935",
   "metadata": {},
   "source": [
    "#### Exemplo de uso:"
   ]
  },
  {
   "cell_type": "code",
   "execution_count": 34,
   "id": "fe86085d-9242-4383-a094-f34cad24d1d7",
   "metadata": {},
   "outputs": [
    {
     "name": "stdout",
     "output_type": "stream",
     "text": [
      "No new CSV files detected.\n"
     ]
    }
   ],
   "source": [
    "from src.lib.classes.CsvSource import CsvSource\n",
    "# Criar uma instância de CsvSource\n",
    "csv_source = CsvSource()\n",
    "\n",
    "# Criar o caminho da pasta para armazenar arquivos CSV\n",
    "csv_source.create_path()\n",
    "\n",
    "# Verificar se há novos arquivos na pasta\n",
    "csv_source.check_for_new_files()\n",
    "\n",
    "# Recuperar os dados dos arquivos CSV\n",
    "dados = csv_source.get_data()\n",
    "\n",
    "# Transformar os dados em um DataFrame\n",
    "df = csv_source.transform_data_to_df()"
   ]
  },
  {
   "cell_type": "markdown",
   "id": "aab537ca-6c4f-4d88-afd1-735a6769ff6d",
   "metadata": {},
   "source": [
    "### Criando a Classe TxtSource:"
   ]
  },
  {
   "cell_type": "markdown",
   "id": "a7192b47-a9d7-4c43-a9a5-ef54cbeaa551",
   "metadata": {},
   "source": [
    "* **Código:**"
   ]
  },
  {
   "cell_type": "code",
   "execution_count": 35,
   "id": "22a9f23c-8dc1-4b3b-8684-d89c297ceeb5",
   "metadata": {},
   "outputs": [
    {
     "name": "stdout",
     "output_type": "stream",
     "text": [
      "Overwriting src/lib/classes/TxtSource.py\n"
     ]
    }
   ],
   "source": [
    "%%writefile src/lib/classes/TxtSource.py\n",
    "#Class TxtSource\n",
    "import os\n",
    "import pandas as pd\n",
    "from lib.classes.FilesSources import FilesSources\n",
    "\n",
    "\n",
    "class TxtSource(FilesSources):\n",
    "    \"\"\"\n",
    "    A class to represent a TXT data source.\n",
    "\n",
    "    Attributes:\n",
    "    -----------\n",
    "    folder_path : str\n",
    "        The path to the folder containing TXT files.\n",
    "    previous_files : list\n",
    "        A list of previously detected TXT files in the folder.\n",
    "\n",
    "    Methods:\n",
    "    --------\n",
    "    create_path():\n",
    "        Create the folder path to store TXT files if it does not exist.\n",
    "    check_for_new_files():\n",
    "        Check for new TXT files in the folder and update the list of previous files.\n",
    "    get_data():\n",
    "        Retrieve data from TXT files in the specified folder.\n",
    "    transform_data_to_df():\n",
    "        Transform the retrieved data into a DataFrame.\n",
    "    \"\"\"\n",
    "    \n",
    "    def create_path(self):\n",
    "        \"\"\"\n",
    "        Create the folder path to store TXT files if it does not exist.\n",
    "        \"\"\"\n",
    "        current_directory = os.getcwd()\n",
    "        self.folder_path = os.path.join(current_directory, 'data', 'txt_files')\n",
    "        if not os.path.exists(self.folder_path):\n",
    "            os.makedirs(self.folder_path)\n",
    "\n",
    "    def check_for_new_files(self):\n",
    "        \"\"\"\n",
    "        Check for new TXT files in the folder and update the list of previous files.\n",
    "        \"\"\"\n",
    "        current_files = os.listdir(self.folder_path)\n",
    "        new_files = [file for file in current_files if file not in self.previous_files and file.endswith('.txt')]\n",
    "\n",
    "        if new_files:\n",
    "            print(\"New TXT files detected:\", new_files)\n",
    "            # Update the list of previous files\n",
    "            self.previous_files = current_files\n",
    "        else:\n",
    "            print(\"No new TXT files detected.\")\n",
    "            self.get_data()\n",
    "\n",
    "    def get_data(self):\n",
    "        \"\"\"\n",
    "        Retrieve data from TXT files in the specified folder.\n",
    "        \"\"\"\n",
    "        # Implement getting data from TXT files in the specified folder\n",
    "        data_frames = []\n",
    "        for file_path in self.previous_files:\n",
    "            try:\n",
    "                path = os.path.join(self.folder_path, file_path)\n",
    "                data = pd.read_csv(path, sep='\\t')  # Assume that the TXT files are tab-separated\n",
    "                data_frames.append(data)\n",
    "            except Exception as e:\n",
    "                print(\"An error occurred while reading the TXT file:\", e)\n",
    "        if data_frames:\n",
    "            self.combined_data = pd.concat(data_frames, ignore_index=True)\n",
    "            print(self.combined_data)\n",
    "            return self.combined_data\n",
    "        else:\n",
    "            return None\n"
   ]
  },
  {
   "cell_type": "markdown",
   "id": "385c8b47-abd7-4034-bad5-7d80378f99fb",
   "metadata": {},
   "source": [
    "### Classe TxtSource\n",
    "\n",
    "A classe `TxtSource` é responsável por lidar com fontes de dados no formato TXT.\n",
    "\n",
    "#### Métodos\n",
    "\n",
    "##### `create_path()`\n",
    "\n",
    "Este método cria o caminho para a pasta que armazena os arquivos TXT.\n",
    "\n",
    "##### `check_for_new_files()`\n",
    "\n",
    "Este método verifica se existem novos arquivos TXT na pasta especificada. Se houver novos arquivos, atualiza a lista de arquivos anteriores. Caso contrário, chama o método `get_data()`.\n",
    "\n",
    "##### `get_data()`\n",
    "\n",
    "Este método recupera os dados dos arquivos TXT na pasta especificada. Os arquivos devem estar tabulados para garantir uma leitura adequada.\n",
    "\n",
    "#### Observações\n",
    "\n",
    "- Certifique-se de que os arquivos TXT estão tabulados para garantir uma leitura correta dos dados.\n"
   ]
  },
  {
   "cell_type": "markdown",
   "id": "d55c378f-0a01-496b-96e6-8059eebe4cbd",
   "metadata": {},
   "source": [
    "#### Exemplo de uso:"
   ]
  },
  {
   "cell_type": "code",
   "execution_count": 36,
   "id": "fe8df4b1-56ba-4eaf-96c5-d1165239b1c7",
   "metadata": {},
   "outputs": [
    {
     "name": "stdout",
     "output_type": "stream",
     "text": [
      "No new TXT files detected.\n",
      "None\n"
     ]
    }
   ],
   "source": [
    "# Importe a classe TxtSource\n",
    "from src.lib.classes.TxtSource import TxtSource\n",
    "\n",
    "# Crie uma instância da classe TxtSource\n",
    "txt_source = TxtSource()\n",
    "\n",
    "# Crie o caminho para a pasta que contém os arquivos TXT\n",
    "txt_source.create_path()\n",
    "\n",
    "# Verifique se existem novos arquivos TXT na pasta especificada\n",
    "txt_source.check_for_new_files()\n",
    "\n",
    "# Obtenha os dados dos arquivos TXT\n",
    "data = txt_source.get_data()\n",
    "\n",
    "# Exiba os dados combinados\n",
    "print(data)"
   ]
  },
  {
   "cell_type": "markdown",
   "id": "439572b0-3e74-44d8-b594-35cadd902b91",
   "metadata": {},
   "source": [
    "### Criando o Script Main.py:"
   ]
  },
  {
   "cell_type": "markdown",
   "id": "4730ecac-1090-49a5-8395-22f1dfae5964",
   "metadata": {},
   "source": [
    "* **Código:**"
   ]
  },
  {
   "cell_type": "code",
   "execution_count": 47,
   "id": "ed288b6c-8774-4ba8-a45b-c733c72f1a8f",
   "metadata": {},
   "outputs": [],
   "source": [
    "# instalando a lib schedule\n",
    "!poetry add schedule -q"
   ]
  },
  {
   "cell_type": "code",
   "execution_count": 37,
   "id": "46b1c0e5-f25b-4a1f-b37d-f747ae090cac",
   "metadata": {},
   "outputs": [
    {
     "name": "stdout",
     "output_type": "stream",
     "text": [
      "Writing src/__main__.py\n"
     ]
    }
   ],
   "source": [
    "%%writefile src/__main__.py\n",
    "# main\n",
    "import schedule\n",
    "import time\n",
    "from lib.classes.CsvSource import CsvSource\n",
    "from lib.classes.TxtSource import TxtSource\n",
    "\n",
    "csv_source = CsvSource()\n",
    "txt_source = TxtSource()\n",
    "\n",
    "def check_for_new_files():\n",
    "    \"\"\"\n",
    "    Check for new files in different data sources.\n",
    "\n",
    "    This function checks for new CSV, TXT, and JSON files in their respective data sources.\n",
    "    \"\"\"\n",
    "    csv_source.check_for_new_files()\n",
    "    txt_source.check_for_new_files()\n",
    "    \n",
    "# Scheduling the execution of the check_for_new_files function every 10 seconds\n",
    "schedule.every(10).seconds.do(check_for_new_files)\n",
    "\n",
    "# Main loop\n",
    "while True:\n",
    "    schedule.run_pending()\n",
    "    time.sleep(1)  # Waits for 1 second to prevent the loop from consuming too much processing power\n"
   ]
  },
  {
   "cell_type": "markdown",
   "id": "44413a0a-761a-4dc4-b326-bfcc0f3338ca",
   "metadata": {},
   "source": [
    "### Script de Verificação de Novos Arquivos\n",
    "\n",
    "Este script tem como objetivo verificar novos arquivos em diferentes fontes de dados, como arquivos CSV, TXT. Ele utiliza a biblioteca `schedule` para agendar a verificação periódica e a biblioteca `time` para controlar o tempo de espera entre as execuções.\n",
    "\n",
    "#### Funcionamento\n",
    "\n",
    "O script é composto por duas partes principais:\n",
    "\n",
    "1. **Definição das Fontes de Dados:**\n",
    "   - `CsvSource`: Classe responsável por verificar novos arquivos CSV.\n",
    "   - `TxtSource`: Classe responsável por verificar novos arquivos TXT.\n",
    "   \n",
    "2. **Verificação de Novos Arquivos:**\n",
    "   - A função `check_for_new_files()` é responsável por chamar os métodos de verificação de novos arquivos de cada fonte de dados.\n",
    "   - Essa função é agendada para ser executada a cada 10 segundos utilizando a biblioteca `schedule`.\n",
    "\n",
    "#### Utilização\n",
    "\n",
    "1. **Instalação das Dependências:**\n",
    "   - Certifique-se de ter as bibliotecas `schedule` e `pandas` instaladas no seu ambiente Python.\n",
    "\n",
    "2. **Execução do Script:**\n",
    "   - Execute o script em um ambiente Python compatível.\n",
    "\n",
    "3. **Verificação de Novos Arquivos:**\n",
    "   - O script irá verificar periodicamente as pastas de dados especificadas para novos arquivos.\n",
    "   - Se novos arquivos forem detectados, uma mensagem será exibida informando os arquivos detectados.\n",
    "\n",
    "#### Requisitos do Sistema\n",
    "\n",
    "- Python 3.x\n",
    "- Bibliotecas: `schedule`, `pandas`\n",
    "\n",
    "#### Exemplo de Uso\n",
    "\n",
    "```bash\n",
    "python check_files.py\n",
    "```"
   ]
  },
  {
   "cell_type": "markdown",
   "id": "94241678-073d-4787-a769-b832f3dae30e",
   "metadata": {},
   "source": [
    "### Criando alguns arquivos de exemplo para testes:"
   ]
  },
  {
   "cell_type": "code",
   "execution_count": 38,
   "id": "e10d1322-4edc-4be1-96fe-da6af9762b1a",
   "metadata": {},
   "outputs": [
    {
     "name": "stdout",
     "output_type": "stream",
     "text": [
      "Writing data/txt_files/exemplo1.txt\n"
     ]
    }
   ],
   "source": [
    "%%writefile data/txt_files/exemplo1.txt\n",
    "id,name\n",
    "1,João\n",
    "2,Maria\n",
    "3,Carlos\n",
    "4,Ana\n",
    "5,Pedro"
   ]
  },
  {
   "cell_type": "code",
   "execution_count": 39,
   "id": "05d89e13-c3e5-4f60-b512-4fda4a5bc838",
   "metadata": {},
   "outputs": [
    {
     "name": "stdout",
     "output_type": "stream",
     "text": [
      "Writing data/csv_files/exemplo1.csv\n"
     ]
    }
   ],
   "source": [
    "%%writefile data/csv_files/exemplo1.csv\n",
    "id,name\n",
    "1,João\n",
    "2,Maria\n",
    "3,Carlos\n",
    "4,Ana\n",
    "5,Pedro"
   ]
  },
  {
   "cell_type": "code",
   "execution_count": 42,
   "id": "1443d9c8-a699-4d59-aa48-6817d0902e08",
   "metadata": {},
   "outputs": [
    {
     "name": "stdout",
     "output_type": "stream",
     "text": [
      "Overwriting data/txt_files/exemplo2.txt\n"
     ]
    }
   ],
   "source": [
    "%%writefile data/txt_files/exemplo2.txt\n",
    "id,name\n",
    "6,Luiza\n",
    "7,Rafael\n",
    "8,Laura\n",
    "9,Marcos\n",
    "10,Juliana"
   ]
  },
  {
   "cell_type": "code",
   "execution_count": 41,
   "id": "349f319e-7c75-4126-9fb2-2beb464fd080",
   "metadata": {},
   "outputs": [
    {
     "name": "stdout",
     "output_type": "stream",
     "text": [
      "Writing data/csv_files/exemplo2.csv\n"
     ]
    }
   ],
   "source": [
    "%%writefile data/csv_files/exemplo2.csv\n",
    "id,name\n",
    "6,Luiza\n",
    "7,Rafael\n",
    "8,Laura\n",
    "9,Marcos\n",
    "10,Juliana"
   ]
  },
  {
   "cell_type": "markdown",
   "id": "ec904d16-1223-4ca4-83e9-adc072eed2b3",
   "metadata": {},
   "source": [
    "#### Agora podemos executar a Main e verificar que está funcionando corretamente:"
   ]
  },
  {
   "cell_type": "code",
   "execution_count": 6,
   "id": "b386092d-9c79-4f3f-aedf-51ccefb34d3a",
   "metadata": {},
   "outputs": [
    {
     "name": "stdout",
     "output_type": "stream",
     "text": [
      "New files detected: ['exemplo1.csv', 'exemplo2.csv']\n",
      "New TXT files detected: ['exemplo2.txt', 'exemplo1.txt']\n",
      "No new CSV files detected.\n",
      "   id     name\n",
      "0   1     João\n",
      "1   2    Maria\n",
      "2   3   Carlos\n",
      "3   4      Ana\n",
      "4   5    Pedro\n",
      "5   6    Luiza\n",
      "6   7   Rafael\n",
      "7   8    Laura\n",
      "8   9   Marcos\n",
      "9  10  Juliana\n",
      "No new TXT files detected.\n",
      "      id,name\n",
      "0     6,Luiza\n",
      "1    7,Rafael\n",
      "2     8,Laura\n",
      "3    9,Marcos\n",
      "4  10,Juliana\n",
      "5      1,João\n",
      "6     2,Maria\n",
      "7    3,Carlos\n",
      "8       4,Ana\n",
      "9     5,Pedro\n",
      "No new CSV files detected.\n",
      "   id     name\n",
      "0   1     João\n",
      "1   2    Maria\n",
      "2   3   Carlos\n",
      "3   4      Ana\n",
      "4   5    Pedro\n",
      "5   6    Luiza\n",
      "6   7   Rafael\n",
      "7   8    Laura\n",
      "8   9   Marcos\n",
      "9  10  Juliana\n",
      "No new TXT files detected.\n",
      "      id,name\n",
      "0     6,Luiza\n",
      "1    7,Rafael\n",
      "2     8,Laura\n",
      "3    9,Marcos\n",
      "4  10,Juliana\n",
      "5      1,João\n",
      "6     2,Maria\n",
      "7    3,Carlos\n",
      "8       4,Ana\n",
      "9     5,Pedro\n",
      "No new CSV files detected.\n",
      "   id     name\n",
      "0   1     João\n",
      "1   2    Maria\n",
      "2   3   Carlos\n",
      "3   4      Ana\n",
      "4   5    Pedro\n",
      "5   6    Luiza\n",
      "6   7   Rafael\n",
      "7   8    Laura\n",
      "8   9   Marcos\n",
      "9  10  Juliana\n",
      "No new TXT files detected.\n",
      "      id,name\n",
      "0     6,Luiza\n",
      "1    7,Rafael\n",
      "2     8,Laura\n",
      "3    9,Marcos\n",
      "4  10,Juliana\n",
      "5      1,João\n",
      "6     2,Maria\n",
      "7    3,Carlos\n",
      "8       4,Ana\n",
      "9     5,Pedro\n",
      "^C\n",
      "Traceback (most recent call last):\n",
      "  File \"/home/jcnok/bootcamps/bootcamp-jornada-de-dados_2024/aula_12/src/__main__.py\", line 31, in <module>\n",
      "    time.sleep(\n",
      "KeyboardInterrupt\n"
     ]
    }
   ],
   "source": [
    "!python src/__main__.py"
   ]
  },
  {
   "cell_type": "code",
   "execution_count": null,
   "id": "5e4dcfd2-b86b-420b-944f-ddeb42741335",
   "metadata": {},
   "outputs": [],
   "source": []
  }
 ],
 "metadata": {
  "kernelspec": {
   "display_name": "Python 3 (ipykernel)",
   "language": "python",
   "name": "python3"
  },
  "language_info": {
   "codemirror_mode": {
    "name": "ipython",
    "version": 3
   },
   "file_extension": ".py",
   "mimetype": "text/x-python",
   "name": "python",
   "nbconvert_exporter": "python",
   "pygments_lexer": "ipython3",
   "version": "3.10.13"
  }
 },
 "nbformat": 4,
 "nbformat_minor": 5
}
