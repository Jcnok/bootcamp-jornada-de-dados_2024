{
 "cells": [
  {
   "cell_type": "markdown",
   "id": "102d2d52-fc6d-4e43-9dfd-e348e7153b0f",
   "metadata": {},
   "source": [
    "# Aula 12 - classes abstratas e polimorfismo:"
   ]
  },
  {
   "cell_type": "markdown",
   "id": "70b515cd-2676-4815-85b4-dffcae6130c6",
   "metadata": {},
   "source": [
    "**Classes Abstratas:**\n",
    "\n",
    "Imagine que você está construindo uma casa e precisa de um modelo padrão para todas as casas que serão construídas. Uma classe abstrata em Python é como um modelo para outras classes. Ela define métodos que devem ser implementados por suas subclasses, mas não fornece uma implementação real desses métodos.\n",
    "\n",
    "Por exemplo, em nosso modelo de casa, podemos ter um método abstrato chamado `construir()` que todas as subclasses devem implementar. Cada tipo de casa (como Casa de Madeira, Casa de Tijolos, etc.) deve ter sua própria implementação desse método de construção, mas todas devem seguir o mesmo modelo básico.\n",
    "\n",
    "**Polimorfismo:**\n",
    "\n",
    "Agora, suponha que temos diferentes tipos de veículos, como carro, bicicleta e avião. Todos eles têm a capacidade de se locomover, mas cada um se move de maneira diferente. Aqui é onde entra o polimorfismo.\n",
    "\n",
    "O polimorfismo em Python nos permite tratar objetos de diferentes classes de maneira uniforme. Por exemplo, podemos ter uma função `mover(veiculo)` que aceita qualquer tipo de veículo e chama seu método `mover()` correspondente. Mesmo que cada veículo tenha sua própria maneira única de se mover, podemos chamar o mesmo método `mover()` para todos eles.\n",
    "\n",
    "Então, para resumir:\n",
    "- Classes Abstratas definem métodos que devem ser implementados por suas subclasses.\n",
    "- O Polimorfismo nos permite tratar objetos de diferentes classes de maneira uniforme, chamando os mesmos métodos em cada um deles."
   ]
  },
  {
   "cell_type": "markdown",
   "id": "0a09c54e-f916-4934-9ecd-51f703f097d4",
   "metadata": {},
   "source": [
    "## Desafio:"
   ]
  },
  {
   "cell_type": "markdown",
   "id": "64e92eff-c217-47c7-9df2-dc4648e9a409",
   "metadata": {},
   "source": [
    "* **Imagine esta situação:** você está liderando um projeto em uma empresa de tecnologia. Todos os dias, sua equipe é bombardeada com uma grande quantidade de arquivos de dados, alguns em formato CSV e outros em TXT, todos cheios de informações preciosas. Sua missão? Juntar todos esses dados dispersos em um só lugar para desbloquear insights valiosos.\n",
    "\n",
    "* **Aqui está o desafio:** duas pastas, dois tipos de arquivo, e a necessidade urgente de consolidar tudo isso em um único DataFrame. Essa é a realidade enfrentada por muitos profissionais, desde iniciantes até os mais experientes.\n",
    "\n",
    "* Então, como podemos resolver esse desafio de maneira simples e eficaz, usando classes para garantir que, à medida que o projeto evolui e novos formatos de arquivo são introduzidos, não seja necessário recomeçar do zero? Como podemos unir esses dados dispersos em um único DataFrame, pronto para análise e exploração?\n"
   ]
  },
  {
   "cell_type": "markdown",
   "id": "051a71b7-50e3-4da7-8dcc-d3f578fdce69",
   "metadata": {},
   "source": [
    "## Possível escopo do projeto:"
   ]
  },
  {
   "cell_type": "markdown",
   "id": "e0ac5136-67a5-4271-9f6e-ca09075ba092",
   "metadata": {},
   "source": [
    "```mermaid \n",
    "graph TD;\n",
    "    A[main.py] -->|Executa| B[src/lib/classes];\n",
    "    B --> C[Verifica novos arquivos];\n",
    "    C -->|Sim| D[Salva em pastas data];\n",
    "    D -->|txt| E[data.txt];\n",
    "    D -->|csv| F[data.csv];\n",
    "    E --> G[Consolida em DataFrame];\n",
    "    F --> G;\n",
    "```"
   ]
  },
  {
   "cell_type": "code",
   "execution_count": 2,
   "id": "674a1bd5-c174-4354-84e8-19d10002c611",
   "metadata": {},
   "outputs": [
    {
     "data": {
      "text/plain": [
       "'/home/jcnok/bootcamps/bootcamp-jornada-de-dados_2024/aula_12'"
      ]
     },
     "execution_count": 2,
     "metadata": {},
     "output_type": "execute_result"
    }
   ],
   "source": [
    "# Selecionando a raiz do projeto:\n",
    "import os \n",
    "os.chdir('/home/jcnok/bootcamps/bootcamp-jornada-de-dados_2024/aula_12')\n",
    "os.getcwd()"
   ]
  },
  {
   "cell_type": "code",
   "execution_count": 4,
   "id": "2c22dc40-5607-40be-800e-e8cef034951e",
   "metadata": {},
   "outputs": [
    {
     "name": "stdout",
     "output_type": "stream",
     "text": [
      "['/home/jcnok/bootcamps/bootcamp-jornada-de-dados_2024/.venv/lib/python3.10/site-packages']\n"
     ]
    }
   ],
   "source": [
    "# Conferindo se o kernel está usando o ambiente virtual:\n",
    "import site \n",
    "print(site.getsitepackages())"
   ]
  },
  {
   "cell_type": "markdown",
   "id": "1f5da4aa-dd9d-4ddc-b9f8-fd8e66be628e",
   "metadata": {},
   "source": [
    "## Desenvolvendo as classes:"
   ]
  },
  {
   "cell_type": "markdown",
   "id": "ab9b8209-28e0-4086-b37e-73e2299a93e6",
   "metadata": {},
   "source": [
    "* **Criando classes abstratada com a lib [abs(Abstract Base Classes)](https://docs.python.org/pt-br/3/library/abc.html#module-abc)**"
   ]
  },
  {
   "cell_type": "markdown",
   "id": "5f927a6e-02e8-4c3d-aa76-ac5b99da1513",
   "metadata": {},
   "source": [
    "* **Código:**"
   ]
  },
  {
   "cell_type": "code",
   "execution_count": 9,
   "id": "534c5c29-9dac-4a2a-bf37-173c3a474489",
   "metadata": {},
   "outputs": [
    {
     "name": "stdout",
     "output_type": "stream",
     "text": [
      "Writing src/lib/classes/AbstractDataSource.py\n"
     ]
    }
   ],
   "source": [
    "%%writefile src/lib/classes/AbstractDataSource.py\n",
    "#script para utilizar classes abstratas.\n",
    "from abc import ABC, abstractmethod\n",
    "\n",
    "class AbstractDataSource(ABC):\n",
    "    \"\"\"Abstract class for defining data source operations.\"\"\"\n",
    "\n",
    "    @abstractmethod\n",
    "    def start(self):\n",
    "        \"\"\"Method to start the data source.\"\"\"\n",
    "        raise NotImplementedError(\"Method not implemented\")\n",
    "\n",
    "    @abstractmethod\n",
    "    def get_data(self):\n",
    "        \"\"\"Method to retrieve data from the source.\"\"\"\n",
    "        raise NotImplementedError(\"Method not implemented\")\n",
    "\n",
    "    @abstractmethod\n",
    "    def transform_data_to_df(self):\n",
    "        \"\"\"Method to transform data to a DataFrame.\"\"\"\n",
    "        raise NotImplementedError(\"Method not implemented\")\n",
    "\n",
    "    @abstractmethod\n",
    "    def save_data(self):\n",
    "        \"\"\"Method to save data.\"\"\"\n",
    "        raise NotImplementedError(\"Method not implemented\")\n",
    "\n",
    "    def hello_world(self):\n",
    "        \"\"\"Simple method to print 'Hello World'.\"\"\"\n",
    "        print('Hello World')\n"
   ]
  },
  {
   "cell_type": "markdown",
   "id": "9ac47851-2e27-4c0b-bff3-cd3240bb2ba2",
   "metadata": {},
   "source": [
    "A lib abc do Python (Abstract Base Classes) fornece uma estrutura para criar classes abstratas em Python. Classes abstratas são aquelas que não podem ser instanciadas diretamente, mas são usadas como modelos para outras classes que as herdam.\n",
    "\n",
    "O ABC é uma classe base que indica que a classe derivada é uma classe abstrata. Já o abstractmethod é um decorador usado para indicar que um método em uma classe abstrata é obrigatório em suas subclasses concretas. Em outras palavras, quando uma classe herda de uma classe abstrata e não implementa um método decorado com @abstractmethod, uma exceção será lançada. Isso garante que as subclasses implementem métodos específicos definidos na classe abstrata."
   ]
  },
  {
   "cell_type": "markdown",
   "id": "557972f3-5cc1-4e94-98b7-9bf27d69a703",
   "metadata": {},
   "source": [
    "Esta é uma classe abstrata destinada a definir as operações básicas de uma fonte de dados. Ela fornece métodos abstratos para iniciar a fonte de dados, obter os dados, transformá-los em um DataFrame e salvar os dados.\n",
    "\n",
    "Métodos abstratos:\n",
    "\n",
    "* start(): Método para iniciar a fonte de dados.\n",
    "* get_data(): Método para recuperar os dados da fonte.\n",
    "* transform_data_to_df(): Método para transformar os dados em um DataFrame.\n",
    "* save_data(): Método para salvar os dados."
   ]
  },
  {
   "cell_type": "markdown",
   "id": "259e0ac5-9ea0-4d7b-af0a-d95042f35151",
   "metadata": {},
   "source": [
    "* **vantagens:**"
   ]
  },
  {
   "cell_type": "markdown",
   "id": "60ac7ef8-f611-41a8-92fb-dc2567a355b4",
   "metadata": {},
   "source": [
    "Usar classes abstratas e herança em Python, em vez de apenas funções simples, oferece algumas vantagens importantes:\n",
    "\n",
    "1. **Organização e Estruturação do Código**: Ao usar classes e herança, você pode organizar seu código de maneira mais estruturada e intuitiva. Isso facilita a compreensão do código e a manutenção futura.\n",
    "\n",
    "2. **Reutilização de Código**: A herança permite que você reutilize facilmente o código em várias partes do seu programa. Você pode definir comportamentos comuns em uma classe base e depois estender essa classe para adicionar funcionalidades específicas em subclasses.\n",
    "\n",
    "3. **Polimorfismo**: O polimorfismo, uma característica da herança, permite que objetos de diferentes classes sejam tratados de maneira uniforme. Isso significa que você pode usar uma classe base para manipular objetos de suas subclasses, sem precisar se preocupar com os detalhes específicos de cada uma.\n",
    "\n",
    "4. **Encapsulamento**: Classes abstratas e herança também facilitam a implementação do conceito de encapsulamento, permitindo que você agrupe dados e comportamentos relacionados em um único objeto.\n",
    "\n",
    "Portanto, embora você possa alcançar resultados semelhantes usando funções simples, o uso de classes abstratas e herança em Python oferece uma abordagem mais estruturada, modular e flexível para lidar com problemas complexos e cenários em que a hierarquia e a composição de objetos são importantes."
   ]
  },
  {
   "cell_type": "code",
   "execution_count": null,
   "id": "a954a891-28cf-489b-8927-9da7f4736e10",
   "metadata": {},
   "outputs": [],
   "source": []
  }
 ],
 "metadata": {
  "kernelspec": {
   "display_name": "Python 3 (ipykernel)",
   "language": "python",
   "name": "python3"
  },
  "language_info": {
   "codemirror_mode": {
    "name": "ipython",
    "version": 3
   },
   "file_extension": ".py",
   "mimetype": "text/x-python",
   "name": "python",
   "nbconvert_exporter": "python",
   "pygments_lexer": "ipython3",
   "version": "3.10.13"
  }
 },
 "nbformat": 4,
 "nbformat_minor": 5
}
