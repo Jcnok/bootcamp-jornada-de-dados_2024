{
 "cells": [
  {
   "cell_type": "code",
   "execution_count": 1,
   "id": "1a3ee7bb-1979-43fe-9072-41e5a4457c05",
   "metadata": {},
   "outputs": [
    {
     "data": {
      "text/plain": [
       "['/home/jcnok/bootcamps/bootcamp-jornada-de-dados_2024/.venv/lib/python3.11/site-packages']"
      ]
     },
     "execution_count": 1,
     "metadata": {},
     "output_type": "execute_result"
    }
   ],
   "source": [
    "#verifica se o ambiente virtual foi setado corretamente no jupyter\n",
    "import site\n",
    "site.getsitepackages()"
   ]
  },
  {
   "cell_type": "code",
   "execution_count": 40,
   "id": "d21b29a6-75e7-46a1-b28c-3f0e87e5ccf5",
   "metadata": {},
   "outputs": [
    {
     "name": "stdout",
     "output_type": "stream",
     "text": [
      "Python 3.11.3\n"
     ]
    }
   ],
   "source": [
    "#Confere a versão do python \n",
    "!python --version"
   ]
  },
  {
   "cell_type": "markdown",
   "id": "95e61cdc-4c9e-44a2-86ef-c54fe9f0a013",
   "metadata": {},
   "source": [
    "## Como Executar\n",
    "1. Certifique-se de ter o Python instalado em sua máquina.\n",
    "* Este projeto utilizar a versão 3.11.3 do python.\n",
    "2. Clone ou baixe este repositório em sua máquina conforme o exemplo abaixo:\n",
    "`git clone https://github.com/Jcnok/bootcamp-jornada-de-dados_2024.git`\n",
    "\n",
    "3. Navegue até o diretório 'aula_03/src/' onde os exercicíos estão salvos confome o exemplo abaixo:\n",
    "`$ cd bootcamp-jornada-de-dados_2024/aula_03/src`\n",
    "\n",
    "* Exemplo de como executar o 'exercicio_01.py':\n",
    "`$ python exercicio_25.pyxercicio_01.py`"
   ]
  },
  {
   "cell_type": "markdown",
   "id": "b9e63ff0-fbd4-437d-9eea-a80b964fdc4a",
   "metadata": {},
   "source": [
    "# Aula 03: DEBUG, IF, FOR, While, Listas e Dicionários em Python"
   ]
  },
  {
   "cell_type": "markdown",
   "id": "401503ad-d5a0-4985-87b5-9af30e693505",
   "metadata": {},
   "source": [
    "## Resolução dos Exercícios e Desafios"
   ]
  },
  {
   "cell_type": "markdown",
   "id": "092b5e80-f1d5-4019-8b3c-a3c19ce5abcc",
   "metadata": {},
   "source": [
    "<a id=\"voltar\"></a>"
   ]
  },
  {
   "cell_type": "markdown",
   "id": "d74d7ec2-7b79-4059-ba47-ea96b7ba581d",
   "metadata": {},
   "source": [
    "1.  **[Exercício 1: Verificação de Qualidade de Dados](#ancora01)**\n",
    "2.  **[Exercício 2: Classificação de Dados de Sensor](#ancora02)**\n",
    "3.  **[Exercício 3: Filtragem de Logs por Severidade](#ancora04)**\n",
    "4.  **[Exercício 4: Validação de Dados de Entrada](#ancora05)**\n",
    "5.  **[Exercício 5: Detecção de Anomalias em Dados de Transações](#ancora05)**\n",
    "6.  **[Exercício 6: Contagem de Palavras em Textos](#ancora06)**\n",
    "7.  **[Exercício 7: Normalização de Dados](#ancora07)**\n",
    "8.  **[Exercício 8: Filtragem de Dados Faltantes](#ancora08)**\n",
    "9.  **[Exercício 9: Extração de Subconjuntos de Dados](#ancora09)**\n",
    "10. **[Exercício 10: Agregação de Dados por Categoria](#ancora10)**\n",
    "11. **[Exercício 11:  Leitura de Dados até Flag](#ancora11)**\n",
    "12. **[Exercício 12: Validação de Entrada](#ancora12)**\n",
    "13. **[Exercício 13: Consumo de API Simulado](#ancora13)**\n",
    "14. **[Exercício 14: Tentativas de Conexão](#ancora14)**\n",
    "15. **[Exercício 15: Processamento de Dados com Condição de Parada](#ancora15)**\n",
    "16. **[Desafio : Estruturas de Controle de Fluxo](#desafio)**\n",
    "\n"
   ]
  },
  {
   "cell_type": "markdown",
   "id": "8ff25b37-4aed-45a2-b184-40765ff098d3",
   "metadata": {},
   "source": [
    "<a id=\"ancora01\"></a>\n",
    "### Exercício 1: Verificação de Qualidade de Dados\n",
    "\n",
    "Você está analisando um conjunto de dados de vendas e precisa garantir que todos os registros tenham valores positivos para `quantidade` e `preço`. Escreva um programa que verifique esses campos e imprima \"Dados válidos\" se ambos forem positivos ou \"Dados inválidos\" caso contrário.\n"
   ]
  },
  {
   "cell_type": "code",
   "execution_count": 6,
   "id": "f9b1d789-f0b7-45fc-8b77-6e0766ce1d1e",
   "metadata": {},
   "outputs": [
    {
     "name": "stdout",
     "output_type": "stream",
     "text": [
      "The history saving thread hit an unexpected error (OperationalError('attempt to write a readonly database')).History will not be written to the database.\n"
     ]
    },
    {
     "name": "stdin",
     "output_type": "stream",
     "text": [
      "Digite a quantidade:  -100\n",
      "Digite o preço:  200\n"
     ]
    },
    {
     "name": "stdout",
     "output_type": "stream",
     "text": [
      "Dados inválidos\n"
     ]
    }
   ],
   "source": [
    "# Exercício 1: Verificação de Qualidade de Dados\n",
    "try:\n",
    "    # Entrada dos valores de quantidade e preço\n",
    "    quantidade = float(input(\"Digite a quantidade: \"))\n",
    "    preco = float(input(\"Digite o preço: \"))\n",
    "\n",
    "    # Verificação se ambos os valores são positivos\n",
    "    if quantidade > 0 and preco > 0:\n",
    "        print(\"Dados válidos\")\n",
    "    else:\n",
    "        print(\"Dados inválidos\")\n",
    "except ValueError:\n",
    "    print(\"Entrada inválida. Por favor, digite um número válido para quantidade e preço.\")\n"
   ]
  },
  {
   "cell_type": "markdown",
   "id": "856f60f8-c0f1-4119-ac8e-c7369af441de",
   "metadata": {},
   "source": [
    "<a id=\"ancora02\"></a>\n",
    "### Exercício 2: Classificação de Dados de Sensor\n",
    "\n",
    "Imagine que você está trabalhando com dados de sensores IoT. Os dados incluem medições de temperatura. Você precisa classificar cada leitura como `Baixa`, `Normal` ou `Alta`. Considerando que:\n",
    "* Temperatura < 18°C é 'Baixa'\r\n",
    "* Temperatura >= 18°C e <= 26°C é 'Normal'\r\n",
    "* Temperatura > 26°C é 'Alta'"
   ]
  },
  {
   "cell_type": "code",
   "execution_count": 7,
   "id": "dc0cd953-90b4-4682-b4fc-22a2afd3b645",
   "metadata": {},
   "outputs": [
    {
     "name": "stdin",
     "output_type": "stream",
     "text": [
      "Digite a temperatura em °C:  33\n"
     ]
    },
    {
     "name": "stdout",
     "output_type": "stream",
     "text": [
      "Alta\n"
     ]
    }
   ],
   "source": [
    "#Exercício 2: Classificação de Dados de Sensor\n",
    "try:\n",
    "    # Entrada da temperatura\n",
    "    temperatura = float(input(\"Digite a temperatura em °C: \"))\n",
    "\n",
    "    # Classificação da temperatura\n",
    "    if temperatura < 18:\n",
    "        print(\"Baixa\")\n",
    "    elif 18 <= temperatura <= 26:\n",
    "        print(\"Normal\")\n",
    "    else:\n",
    "        print(\"Alta\")\n",
    "except ValueError:\n",
    "    print(\"Entrada inválida. Por favor, digite um número válido para a temperatura.\")\n"
   ]
  },
  {
   "cell_type": "markdown",
   "id": "3da89251-48f0-4144-a73d-64d3228f2a5f",
   "metadata": {},
   "source": [
    "<a id=\"ancora03\"></a>\n",
    "### Exercício 3: Filtragem de Logs por Severidade\r\n",
    "\r\n",
    "Você está analisando logs de uma aplicação e precisa filtrar mensagens com severidade 'ERROR'. Dado um registro de log em formato de dicionário como `log = {'timestamp': '2021-06-23 10:00:00', 'level': 'ERROR', 'message': 'Falha na conexão'}`, escreva um programa que imprima a mensagem se a severidade for 'ERROR'.\r\n"
   ]
  },
  {
   "cell_type": "code",
   "execution_count": 8,
   "id": "3e1bd950-7b29-43a8-a681-0abdf43190b0",
   "metadata": {},
   "outputs": [
    {
     "name": "stdout",
     "output_type": "stream",
     "text": [
      "Falha na conexão\n"
     ]
    }
   ],
   "source": [
    "#Exercício 3: Filtragem de Logs por Severidade\n",
    "log = {'timestamp': '2021-06-23 10:00:00', 'level': 'ERROR', 'message': 'Falha na conexão'}\n",
    "\n",
    "# Verifica se a severidade é 'ERROR' e imprime a mensagem\n",
    "if log.get('level') == 'ERROR':\n",
    "    print(log.get('message'))\n"
   ]
  },
  {
   "cell_type": "markdown",
   "id": "2f4a6969-e74d-49ce-93cb-b6fed65ac9a6",
   "metadata": {},
   "source": [
    "<a id=\"ancora04\"></a>\n",
    "### Exercício 4: Validação de Dados de Entrada\r\n",
    "\r\n",
    "Antes de processar os dados de usuários em um sistema de recomendação, você precisa garantir que cada usuário tenha idade entre 18 e 65 anos e tenha fornecido um email válido. Escreva um programa que valide essas condições e imprima \"Dados de usuário válidos\" ou o erro específico encontrado.\r\n"
   ]
  },
  {
   "cell_type": "code",
   "execution_count": 9,
   "id": "ff7d4359-67e2-4eaf-8279-d7fd98a7b49c",
   "metadata": {},
   "outputs": [
    {
     "name": "stdin",
     "output_type": "stream",
     "text": [
      "Digite seu nome:  Julio \n",
      "Digite sua idade:  15\n",
      "Digite seu email:  jc@gmail.com\n"
     ]
    },
    {
     "name": "stdout",
     "output_type": "stream",
     "text": [
      "Idade menor que 18 anos.\n"
     ]
    }
   ],
   "source": [
    "#Exercício 4: Validação de Dados de Entrada\n",
    "import re\n",
    "\n",
    "# Entrada dos dados do usuário\n",
    "nome = input(\"Digite seu nome: \")\n",
    "idade = int(input(\"Digite sua idade: \"))\n",
    "email = input(\"Digite seu email: \")\n",
    "\n",
    "# Validação da idade\n",
    "if idade < 18:\n",
    "    print(\"Idade menor que 18 anos.\")\n",
    "elif idade > 65:\n",
    "    print(\"Idade maior que 65 anos.\")\n",
    "else:\n",
    "    # Validação do email\n",
    "    if not re.match(r'^[\\w\\.-]+@[\\w\\.-]+\\.\\w+$', email):\n",
    "        print(\"Email inválido.\")\n",
    "    else:\n",
    "        print(\"Dados de usuário válidos.\")\n"
   ]
  },
  {
   "cell_type": "markdown",
   "id": "b6a79c0b-763a-43c1-ac76-ef19a464f0c9",
   "metadata": {},
   "source": [
    "<a id=\"ancora05\"></a>\n",
    "### Exercício 5: Detecção de Anomalias em Dados de Transações\r\n",
    "\r\n",
    "Você está trabalhando em um sistema de detecção de fraude e precisa identificar transações suspeitas. Uma transação é considerada suspeita se o valor for superior a R$ 10.000 ou se ocorrer fora do horário comercial (antes das 9h ou depois das 18h). Dada uma transação como `transacao = {'valor': 12000, 'hora': 20}`, verifique se ela é suspeita.\r\n"
   ]
  },
  {
   "cell_type": "code",
   "execution_count": 10,
   "id": "233e91c5-41ed-43f8-82c9-d904f33e9f92",
   "metadata": {},
   "outputs": [
    {
     "name": "stdout",
     "output_type": "stream",
     "text": [
      "Transação suspeita: valor superior a R$ 10.000\n"
     ]
    }
   ],
   "source": [
    "# Exercício 5: Detecção de Anomalias em Dados de Transações\n",
    "transacao = {'valor': 12000, 'hora': 20}\n",
    "\n",
    "# Verifica se o valor da transação é superior a R$ 10.000\n",
    "if transacao['valor'] > 10000:\n",
    "    print(\"Transação suspeita: valor superior a R$ 10.000\")\n",
    "# Verifica se a hora da transação está fora do horário comercial\n",
    "elif transacao['hora'] < 9 or transacao['hora'] > 18:\n",
    "    print(\"Transação suspeita: ocorreu fora do horário comercial\")\n",
    "else:\n",
    "    print(\"Transação não suspeita\")\n"
   ]
  },
  {
   "cell_type": "markdown",
   "id": "de816a00-71f7-4661-ba9e-53d6d60af34a",
   "metadata": {},
   "source": [
    "[voltar](#voltar)"
   ]
  },
  {
   "cell_type": "markdown",
   "id": "18d5358d-b76b-41c1-950b-1d1925090708",
   "metadata": {},
   "source": [
    "<a id=\"ancora06\"></a>\n",
    "### Exercício 6: Contagem de Palavras em Textos\r\n",
    "\r\n",
    "**Objetivo:** Dado um texto, contar quantas vezes cada palavra única aparece nele.\r\n"
   ]
  },
  {
   "cell_type": "code",
   "execution_count": 16,
   "id": "321f4444-9bb7-40a5-bcb5-dbd7744cd56b",
   "metadata": {},
   "outputs": [
    {
     "name": "stdout",
     "output_type": "stream",
     "text": [
      "A palavra 'python' aparece 2 vez(es) no texto.\n",
      "A palavra 'é' aparece 2 vez(es) no texto.\n",
      "A palavra 'uma' aparece 2 vez(es) no texto.\n",
      "A palavra 'linguagem' aparece 1 vez(es) no texto.\n",
      "A palavra 'de' aparece 5 vez(es) no texto.\n",
      "A palavra 'programação' aparece 1 vez(es) no texto.\n",
      "A palavra 'alto' aparece 1 vez(es) no texto.\n",
      "A palavra 'nível' aparece 1 vez(es) no texto.\n",
      "A palavra 'e' aparece 2 vez(es) no texto.\n",
      "A palavra 'uso' aparece 1 vez(es) no texto.\n",
      "A palavra 'geral,' aparece 1 vez(es) no texto.\n",
      "A palavra 'que' aparece 1 vez(es) no texto.\n",
      "A palavra 'pode' aparece 1 vez(es) no texto.\n",
      "A palavra 'ser' aparece 1 vez(es) no texto.\n",
      "A palavra 'utilizada' aparece 1 vez(es) no texto.\n",
      "A palavra 'para' aparece 1 vez(es) no texto.\n",
      "A palavra 'ampla' aparece 1 vez(es) no texto.\n",
      "A palavra 'variedade' aparece 1 vez(es) no texto.\n",
      "A palavra 'tarefas.' aparece 1 vez(es) no texto.\n",
      "A palavra 'conhecida' aparece 1 vez(es) no texto.\n",
      "A palavra 'por' aparece 1 vez(es) no texto.\n",
      "A palavra 'sua' aparece 1 vez(es) no texto.\n",
      "A palavra 'sintaxe' aparece 1 vez(es) no texto.\n",
      "A palavra 'simples' aparece 1 vez(es) no texto.\n",
      "A palavra 'legibilidade' aparece 1 vez(es) no texto.\n",
      "A palavra 'código.' aparece 1 vez(es) no texto.\n"
     ]
    }
   ],
   "source": [
    "# Exercício 6: Contagem de Palavras em Textos\n",
    "# Texto de exemplo\n",
    "texto = \"Python é uma linguagem de programação de alto nível e de uso geral, que pode ser utilizada para uma ampla variedade de tarefas. Python é conhecida por sua sintaxe simples e legibilidade de código.\"\n",
    "\n",
    "# Transforma o texto em minúsculas e separa as palavras\n",
    "palavras = texto.lower().split()\n",
    "\n",
    "# Cria um dicionário para armazenar a contagem de cada palavra única\n",
    "contagem_palavras = {}\n",
    "\n",
    "# Conta quantas vezes cada palavra única aparece no texto\n",
    "for palavra in palavras:\n",
    "    if palavra in contagem_palavras:\n",
    "        contagem_palavras[palavra] += 1\n",
    "    else:\n",
    "        contagem_palavras[palavra] = 1\n",
    "\n",
    "# Imprime a contagem de cada palavra única\n",
    "for palavra, contagem in contagem_palavras.items():\n",
    "    print(f\"A palavra '{palavra}' aparece {contagem} vez(es) no texto.\")\n",
    "\n"
   ]
  },
  {
   "cell_type": "markdown",
   "id": "1c56ca8b-3cfe-4845-b96d-ff00339b3e03",
   "metadata": {},
   "source": [
    "<a id=\"ancora07\"></a>\n",
    "### Exercício 7: Normalização de Dados\r\n",
    "\r\n",
    "**Objetivo:** Normalizar uma lista de números para que fiquem na escala de 0 a 1."
   ]
  },
  {
   "cell_type": "code",
   "execution_count": 17,
   "id": "a6e24b74-f184-4b10-ac0d-c4d184a268d1",
   "metadata": {},
   "outputs": [
    {
     "name": "stdout",
     "output_type": "stream",
     "text": [
      "Números normalizados: [0.0, 0.25, 0.5, 0.75, 1.0]\n"
     ]
    }
   ],
   "source": [
    "# Exercício 7: Normalização de Dados\n",
    "# Lista de números de exemplo\n",
    "numeros = [10, 20, 30, 40, 50]\n",
    "\n",
    "# Calcula o valor mínimo e máximo da lista\n",
    "minimo = min(numeros)\n",
    "maximo = max(numeros)\n",
    "\n",
    "# Normaliza os números para a escala de 0 a 1\n",
    "numeros_normalizados = [(x - minimo) / (maximo - minimo) for x in numeros]\n",
    "\n",
    "# Imprime os números normalizados\n",
    "print(\"Números normalizados:\", numeros_normalizados)\n"
   ]
  },
  {
   "cell_type": "markdown",
   "id": "a6ef2e63-9ff8-4da1-8782-12b0d7c2fcc8",
   "metadata": {},
   "source": [
    "<a id=\"ancora08\"></a>\n",
    "### Exercício 8: Filtragem de Dados Faltantes\r\n",
    "\r\n",
    "**Objetivo:** Dada uma lista de dicionários representando dados de usuários, filtrar aqueles que têm um campo específico faltando."
   ]
  },
  {
   "cell_type": "code",
   "execution_count": 18,
   "id": "c12ab67f-41fb-4bae-9469-c68f5064a90c",
   "metadata": {},
   "outputs": [
    {
     "name": "stdout",
     "output_type": "stream",
     "text": [
      "Usuários com o campo específico faltando:\n",
      "{'nome': 'Maria', 'idade': 30}\n"
     ]
    }
   ],
   "source": [
    "# Exercício 8: Filtragem de Dados Faltantes\n",
    "# Lista de dicionários representando dados de usuários\n",
    "dados_usuarios = [\n",
    "    {'nome': 'João', 'idade': 25, 'email': 'joao@email.com'},\n",
    "    {'nome': 'Maria', 'idade': 30},\n",
    "    {'nome': 'Pedro', 'email': 'pedro@email.com'},\n",
    "    {'nome': 'Ana', 'idade': 35, 'email': 'ana@email.com'}\n",
    "]\n",
    "\n",
    "# Campo específico que estamos verificando\n",
    "campo_especifico = 'email'\n",
    "\n",
    "# Filtrar os dicionários que têm o campo específico faltando\n",
    "usuarios_faltando_campo = [usuario for usuario in dados_usuarios if campo_especifico not in usuario]\n",
    "\n",
    "# Imprimir os usuários que têm o campo específico faltando\n",
    "print(\"Usuários com o campo específico faltando:\")\n",
    "for usuario in usuarios_faltando_campo:\n",
    "    print(usuario)\n"
   ]
  },
  {
   "cell_type": "markdown",
   "id": "89726130-0e96-45c5-8fe8-d8e3b6428c30",
   "metadata": {},
   "source": [
    "<a id=\"ancora9\"></a>\n",
    "### Exercício 9: Extração de Subconjuntos de Dados\r\n",
    "\r\n",
    "**Objetivo:** Dada uma lista de números, extrair apenas aqueles que são pares."
   ]
  },
  {
   "cell_type": "code",
   "execution_count": 19,
   "id": "07afdf06-bfdf-4715-b11d-e64c3df36901",
   "metadata": {},
   "outputs": [
    {
     "name": "stdout",
     "output_type": "stream",
     "text": [
      "Números pares: [2, 4, 6, 8, 10]\n"
     ]
    }
   ],
   "source": [
    "# Exercício 9: Extração de Subconjuntos de Dados\n",
    "# Lista de números\n",
    "numeros = [1, 2, 3, 4, 5, 6, 7, 8, 9, 10]\n",
    "\n",
    "# Extrair apenas os números pares usando uma compreensão de lista\n",
    "pares = [numero for numero in numeros if numero % 2 == 0]\n",
    "\n",
    "# Alternativamente, você também pode usar a função filter()\n",
    "# pares = list(filter(lambda x: x % 2 == 0, numeros))\n",
    "\n",
    "# Imprimir os números pares\n",
    "print(\"Números pares:\", pares)\n"
   ]
  },
  {
   "cell_type": "markdown",
   "id": "51a69e56-6d59-457b-91e2-6b042dbea1d8",
   "metadata": {},
   "source": [
    "<a id=\"ancora10\"></a>\n",
    "### Exercício 10: Agregação de Dados por Categoria\r\n",
    "\r\n",
    "**Objetivo:** Dado um conjunto de registros de vendas, calcular o total de vendas por categoria."
   ]
  },
  {
   "cell_type": "code",
   "execution_count": 20,
   "id": "85e6d2b2-f895-4b4e-8a0e-a7d142c1ccd9",
   "metadata": {},
   "outputs": [
    {
     "name": "stdout",
     "output_type": "stream",
     "text": [
      "Total de vendas por categoria:\n",
      "Eletrônicos: R$2500.00\n",
      "Roupas: R$1200.00\n",
      "Alimentos: R$2000.00\n"
     ]
    }
   ],
   "source": [
    "# Exercício 10: Agregação de Dados por Categoria\n",
    "# Conjunto de registros de vendas (exemplo)\n",
    "registros_vendas = [\n",
    "    {'categoria': 'Eletrônicos', 'valor': 1000},\n",
    "    {'categoria': 'Roupas', 'valor': 500},\n",
    "    {'categoria': 'Eletrônicos', 'valor': 1500},\n",
    "    {'categoria': 'Alimentos', 'valor': 800},\n",
    "    {'categoria': 'Roupas', 'valor': 700},\n",
    "    {'categoria': 'Alimentos', 'valor': 1200}\n",
    "]\n",
    "\n",
    "# Dicionário para armazenar o total de vendas por categoria\n",
    "total_vendas_por_categoria = {}\n",
    "\n",
    "# Calcular o total de vendas por categoria\n",
    "for venda in registros_vendas:\n",
    "    categoria = venda['categoria']\n",
    "    valor_venda = venda['valor']\n",
    "    total_vendas_por_categoria[categoria] = total_vendas_por_categoria.get(categoria, 0) + valor_venda\n",
    "\n",
    "# Imprimir o total de vendas por categoria\n",
    "print(\"Total de vendas por categoria:\")\n",
    "for categoria, total_vendas in total_vendas_por_categoria.items():\n",
    "    print(f\"{categoria}: R${total_vendas:.2f}\")\n"
   ]
  },
  {
   "cell_type": "markdown",
   "id": "666eeeaf-1fc8-4899-8321-fb97224e97c3",
   "metadata": {},
   "source": [
    "[voltar](#voltar)"
   ]
  },
  {
   "cell_type": "markdown",
   "id": "5359be22-9419-4a07-9d7e-2f0750c3d09c",
   "metadata": {},
   "source": [
    "<a id=\"ancora11\"></a>\n",
    "### Exercício 11:  Leitura de Dados até Flag\r\n",
    "\r\n",
    "**Objetivo:** Ler dados de entrada até que uma palavra-chave específica (\"sair\") seja fornecida.\r\n"
   ]
  },
  {
   "cell_type": "code",
   "execution_count": 21,
   "id": "382a0acf-54f8-4e93-89d0-783d62aa5cba",
   "metadata": {},
   "outputs": [
    {
     "name": "stdin",
     "output_type": "stream",
     "text": [
      "Digite um dado (ou 'sair' para encerrar):  phone\n",
      "Digite um dado (ou 'sair' para encerrar):  keyborad\n",
      "Digite um dado (ou 'sair' para encerrar):  mouse\n",
      "Digite um dado (ou 'sair' para encerrar):  sair\n"
     ]
    },
    {
     "name": "stdout",
     "output_type": "stream",
     "text": [
      "Dados lidos:\n",
      "phone\n",
      "keyborad\n",
      "mouse\n"
     ]
    }
   ],
   "source": [
    "# Exercício 11:  Leitura de Dados até Flag\n",
    "# Palavra-chave específica\n",
    "palavra_chave = \"sair\"\n",
    "\n",
    "# Lista para armazenar os dados de entrada\n",
    "dados = []\n",
    "\n",
    "# Loop para ler os dados de entrada\n",
    "while True:\n",
    "    entrada = input(\"Digite um dado (ou 'sair' para encerrar): \")\n",
    "    if entrada.lower() == palavra_chave:\n",
    "        break\n",
    "    dados.append(entrada)\n",
    "\n",
    "# Imprimir os dados lidos\n",
    "print(\"Dados lidos:\")\n",
    "for dado in dados:\n",
    "    print(dado)\n"
   ]
  },
  {
   "cell_type": "markdown",
   "id": "6c9ddbec-138d-4298-96e7-02ed4a15644c",
   "metadata": {},
   "source": [
    "<a id=\"ancora12\"></a>\n",
    "### Exercício 12: Validação de Entrada\r\n",
    "\r\n",
    "**Objetivo:** Solicitar ao usuário um número dentro de um intervalo específico até que a entrada seja válida."
   ]
  },
  {
   "cell_type": "code",
   "execution_count": 22,
   "id": "6cc35972-8907-4d94-8416-ed9e8268641e",
   "metadata": {},
   "outputs": [
    {
     "name": "stdin",
     "output_type": "stream",
     "text": [
      "Digite um número entre 1 e 10:  11\n"
     ]
    },
    {
     "name": "stdout",
     "output_type": "stream",
     "text": [
      "Número fora do intervalo. Tente novamente.\n"
     ]
    },
    {
     "name": "stdin",
     "output_type": "stream",
     "text": [
      "Digite um número entre 1 e 10:  3\n"
     ]
    },
    {
     "name": "stdout",
     "output_type": "stream",
     "text": [
      "Número válido: 3\n"
     ]
    }
   ],
   "source": [
    "# Exercício 12: Validação de Entrada\n",
    "# Definir o intervalo específico\n",
    "inicio_intervalo = 1\n",
    "fim_intervalo = 10\n",
    "\n",
    "# Loop para solicitar o número até que a entrada seja válida\n",
    "while True:\n",
    "    try:\n",
    "        numero = int(input(f\"Digite um número entre {inicio_intervalo} e {fim_intervalo}: \"))\n",
    "        if inicio_intervalo <= numero <= fim_intervalo:\n",
    "            print(\"Número válido:\", numero)\n",
    "            break\n",
    "        else:\n",
    "            print(\"Número fora do intervalo. Tente novamente.\")\n",
    "    except ValueError:\n",
    "        print(\"Entrada inválida. Por favor, digite um número inteiro.\")\n"
   ]
  },
  {
   "cell_type": "markdown",
   "id": "c1813dd8-aabc-4e93-86fd-e3668a0c1885",
   "metadata": {},
   "source": [
    "<a id=\"ancora13\"></a>\n",
    "### Exercício 13: Consumo de API Simulado\r\n",
    "\r\n",
    "**Objetivo:** Simular o consumo de uma API paginada, onde cada \"página\" de dados é processada em loop até que não haja mais páginas."
   ]
  },
  {
   "cell_type": "code",
   "execution_count": 25,
   "id": "9093719b-a7d7-403d-9250-6a4b5b714f32",
   "metadata": {},
   "outputs": [
    {
     "name": "stdout",
     "output_type": "stream",
     "text": [
      "Processando página 1 de 3\n",
      "Dados da página 1:\n",
      "Dado 1\n",
      "Dado 2\n",
      "Dado 3\n",
      "Dado 4\n",
      "Dado 5\n",
      "Processando página 2 de 3\n",
      "Dados da página 2:\n",
      "Dado 1\n",
      "Dado 2\n",
      "Dado 3\n",
      "Dado 4\n",
      "Dado 5\n",
      "Processando página 3 de 3\n",
      "Dados da página 3:\n",
      "Dado 1\n",
      "Dado 2\n",
      "Dado 3\n",
      "Dado 4\n",
      "Dado 5\n",
      "Todas as páginas foram processadas.\n"
     ]
    }
   ],
   "source": [
    "# Exercício 13: Consumo de API Simulado\n",
    "# Número total de páginas (simulação)\n",
    "paginas_totais = 3  \n",
    "\n",
    "# Se não houver páginas, exibe uma mensagem e sai do loop\n",
    "if paginas_totais <= 0:\n",
    "    print(\"Não há páginas para processar.\")\n",
    "else:\n",
    "    # Inicializa a página atual\n",
    "    pagina_atual = 1\n",
    "    \n",
    "    # Loop para processar cada página de dados\n",
    "    while pagina_atual <= paginas_totais:\n",
    "        print(f\"Processando página {pagina_atual} de {paginas_totais}\")\n",
    "\n",
    "        # Simulação de processamento de dados\n",
    "        print(f\"Dados da página {pagina_atual}:\")\n",
    "        for i in range(1, 6):\n",
    "            print(f\"Dado {i}\")\n",
    "\n",
    "        # Atualiza a página atual\n",
    "        pagina_atual += 1\n",
    "\n",
    "print(\"Todas as páginas foram processadas.\")\n",
    "\n"
   ]
  },
  {
   "cell_type": "markdown",
   "id": "653869f2-eedd-430e-beb9-d7b283065ddd",
   "metadata": {},
   "source": [
    "<a id=\"ancora14\"></a>\n",
    "### Exercício 14: Tentativas de Conexão\r\n",
    "\r\n",
    "**Objetivo:** Simular tentativas de reconexão a um serviço com um limite máximo de tentativas."
   ]
  },
  {
   "cell_type": "code",
   "execution_count": 26,
   "id": "a3c26b15-fad5-46c7-a70e-e9b044d5faff",
   "metadata": {},
   "outputs": [
    {
     "name": "stdout",
     "output_type": "stream",
     "text": [
      "Tentativa de reconexão 1\n",
      "Falha na conexão. Tentando novamente.\n",
      "Tentativa de reconexão 2\n",
      "Falha na conexão. Tentando novamente.\n",
      "Tentativa de reconexão 3\n",
      "Falha na conexão. Tentando novamente.\n",
      "Limite de tentativas atingido. Não foi possível reconectar ao serviço.\n"
     ]
    }
   ],
   "source": [
    "# Exercício 14: Tentativas de Conexão\n",
    "# Simulação de tentativas de reconexão\n",
    "tentativas = 0\n",
    "limite_tentativas = 3\n",
    "\n",
    "while tentativas < limite_tentativas:\n",
    "    tentativas += 1\n",
    "    print(f\"Tentativa de reconexão {tentativas}\")\n",
    "\n",
    "    # Simulação de conexão ao serviço\n",
    "    conexao_sucesso = False  # Simulação de falha na conexão\n",
    "\n",
    "    if conexao_sucesso:\n",
    "        print(\"Conexão bem-sucedida.\")\n",
    "        break\n",
    "    else:\n",
    "        print(\"Falha na conexão. Tentando novamente.\")\n",
    "\n",
    "# Verifica se atingiu o limite de tentativas\n",
    "if tentativas == limite_tentativas:\n",
    "    print(\"Limite de tentativas atingido. Não foi possível reconectar ao serviço.\")\n"
   ]
  },
  {
   "cell_type": "markdown",
   "id": "02149d1e-7a11-470e-9009-e2d8fca537d8",
   "metadata": {},
   "source": [
    "<a id=\"ancora15\"></a>\n",
    "### Exercício 15: Processamento de Dados com Condição de Parada\r\n",
    "\r\n",
    "**Objetivo:** Processar itens de uma lista até encontrar um valor específico que indica a parada."
   ]
  },
  {
   "cell_type": "code",
   "execution_count": 27,
   "id": "3f0ed923-f7b6-4b49-9220-a0d861562ddd",
   "metadata": {},
   "outputs": [
    {
     "name": "stdout",
     "output_type": "stream",
     "text": [
      "Processando item: 10\n",
      "Processando item: 20\n",
      "Processando item: 30\n",
      "Processando item: 40\n",
      "Processando item: 50\n",
      "Processando item: 60\n",
      "Processando item: 70\n",
      "Encontrou o valor 'parar'. Parando o processamento.\n"
     ]
    }
   ],
   "source": [
    "# Exercício 15: Processamento de Dados com Condição de Parada\n",
    "# Lista de itens\n",
    "lista = [10, 20, 30, 40, 50, 60, 70, \"parar\", 80, 90, 100]\n",
    "\n",
    "# Inicializa o índice\n",
    "indice = 0\n",
    "\n",
    "# Loop para processar os itens da lista\n",
    "while indice < len(lista):\n",
    "    item = lista[indice]\n",
    "\n",
    "    # Verifica se o item é o valor específico que indica a parada\n",
    "    if item == \"parar\":\n",
    "        print(\"Encontrou o valor 'parar'. Parando o processamento.\")\n",
    "        break\n",
    "\n",
    "    # Processa o item\n",
    "    print(\"Processando item:\", item)\n",
    "\n",
    "    # Atualiza o índice para avançar para o próximo item\n",
    "    indice += 1\n"
   ]
  },
  {
   "cell_type": "markdown",
   "id": "3e3ddb6c-95c0-4bed-8a6c-d7184d937ec3",
   "metadata": {},
   "source": [
    "[voltar](#voltar)"
   ]
  },
  {
   "cell_type": "markdown",
   "id": "d66a3db0-ec41-4e13-b9b6-082801ba7a59",
   "metadata": {},
   "source": [
    "<a id=\"ancora15\"></a>\n",
    "### Desafio : Estruturas de Controle de Fluxo\n",
    "\n",
    "**Integre na solução anterior um fluxo de While que repita o fluxo até que o usuário insira as informações corretas**"
   ]
  },
  {
   "cell_type": "code",
   "execution_count": 29,
   "id": "a506a5cd-ee5c-4cbe-8650-ed0a9d4b84f0",
   "metadata": {},
   "outputs": [
    {
     "name": "stdin",
     "output_type": "stream",
     "text": [
      "Digite seu nome:  Julio12\n"
     ]
    },
    {
     "name": "stdout",
     "output_type": "stream",
     "text": [
      "Erro: O nome não deve conter números.\n"
     ]
    },
    {
     "name": "stdin",
     "output_type": "stream",
     "text": [
      "Digite seu nome:  Julio\n",
      "Digite o valor do seu salário:  10000\n",
      "Digite o percentual do bônus recebido:  1.5\n"
     ]
    },
    {
     "name": "stdout",
     "output_type": "stream",
     "text": [
      "Julio, considerando seu salário de R$10000.00 o total com bônus é de R$16000.00.\n"
     ]
    }
   ],
   "source": [
    "# Desafio : Estruturas de Controle de Fluxo\n",
    "while True:\n",
    "    try:\n",
    "        # Solicita ao usuário que insira seu nome\n",
    "        nome = input(\"Digite seu nome: \").strip()\n",
    "        \n",
    "        # Verifica se o nome está vazio ou contém números\n",
    "        if not nome:\n",
    "            raise ValueError(\"O nome não pode estar vazio.\")\n",
    "        elif any(char.isdigit() for char in nome):\n",
    "            raise ValueError(\"O nome não deve conter números.\")\n",
    "\n",
    "        # Solicita ao usuário que insira o valor do salário e valida\n",
    "        salario = float(input(\"Digite o valor do seu salário: \"))\n",
    "        if salario <= 0:\n",
    "            print(\"Por favor, digite um valor positivo para o salário.\")\n",
    "            raise ValueError\n",
    "\n",
    "        # Solicita ao usuário que insira o valor do bônus em porcentagem\n",
    "        bonus_recebido = float(input(\"Digite o percentual do bônus recebido: \"))\n",
    "        if bonus_recebido < 0:\n",
    "            print(\"Por favor, digite um valor positivo para o bônus.\")\n",
    "            raise ValueError\n",
    "\n",
    "        # Calcula o total\n",
    "        kpi = 1000 + salario * bonus_recebido  \n",
    "\n",
    "        # Imprime as informações para o usuário\n",
    "        print(f\"{nome}, considerando seu salário de R${salario:.2f} o total com bônus é de R${kpi:.2f}.\")\n",
    "        \n",
    "        # Sai do loop após inserir as informações corretas\n",
    "        break\n",
    "        \n",
    "    except ValueError as e:\n",
    "        print(\"Erro:\", e)\n",
    "    except Exception as e:\n",
    "        print(\"Ocorreu um erro:\", e)\n"
   ]
  },
  {
   "cell_type": "markdown",
   "id": "d47c3301-09c3-4819-bf67-015543a6304b",
   "metadata": {},
   "source": [
    "[voltar](#voltar)"
   ]
  },
  {
   "cell_type": "code",
   "execution_count": null,
   "id": "217682d9-f251-4c57-89ce-bdca894e0cde",
   "metadata": {},
   "outputs": [],
   "source": []
  }
 ],
 "metadata": {
  "kernelspec": {
   "display_name": "bootcamp_jd24",
   "language": "python",
   "name": "bootcamp_jd24"
  },
  "language_info": {
   "codemirror_mode": {
    "name": "ipython",
    "version": 3
   },
   "file_extension": ".py",
   "mimetype": "text/x-python",
   "name": "python",
   "nbconvert_exporter": "python",
   "pygments_lexer": "ipython3",
   "version": "3.11.3"
  }
 },
 "nbformat": 4,
 "nbformat_minor": 5
}
