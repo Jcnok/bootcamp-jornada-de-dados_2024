{
 "cells": [
  {
   "cell_type": "markdown",
   "id": "3561a0fa-cfb0-4df5-9abe-2c7f19f20c80",
   "metadata": {},
   "source": [
    "# Desafio do Projeto: Sistema de Biblioteca com FastAPI"
   ]
  },
  {
   "cell_type": "markdown",
   "id": "409e5900-2cd3-4e7c-921e-f7977ac278b3",
   "metadata": {},
   "source": [
    "Este projeto visa implementar um sistema de gerenciamento de uma biblioteca, permitindo adicionar, buscar, atualizar e remover livros do banco de dados. Inicialmente, o sistema foi desenvolvido como um script Python utilizando a biblioteca SQLModel para interagir com o banco de dados SQLite. Posteriormente, foi adicionada uma API utilizando o framework FastAPI, permitindo que as operações CRUD fossem realizadas de forma mais acessível e escalável.\n",
    "\n",
    "## Desafio Original\n",
    "\n",
    "No desafio original, o objetivo era criar um banco de dados SQLite para armazenar informações sobre livros, com a capacidade de adicionar, buscar, atualizar e remover livros do banco. O código original utilizava a biblioteca SQLModel para definir o esquema do banco de dados e interagir com ele. Foram implementadas funções para adicionar livros, buscar livros por autor, atualizar a disponibilidade de um livro e remover um livro do banco de dados.\n",
    "\n",
    "## Adição da API FastAPI\n",
    "\n",
    "Para tornar o sistema mais acessível e interativo, foi adicionada uma API utilizando o framework FastAPI. A API oferece endpoints para realizar as operações CRUD (Create, Read, Update, Delete) sobre os livros da biblioteca. Cada endpoint corresponde a uma função do sistema original, permitindo que os usuários realizem operações sobre os livros por meio de solicitações HTTP.\n",
    "\n",
    "### Funcionalidades da API\n",
    "\n",
    "- **Adicionar Livro**: Permite adicionar um novo livro ao banco de dados.\n",
    "- **Buscar Livros por Autor**: Permite buscar livros por autor.\n",
    "- **Atualizar Disponibilidade do Livro**: Permite atualizar a disponibilidade de um livro.\n",
    "- **Remover Livro**: Permite remover um livro do banco de dados.\n",
    "\n",
    "## Como Utilizar\n",
    "\n",
    "Para utilizar o sistema de biblioteca com a API FastAPI, siga estas etapas:\n",
    "\n",
    "1. Clone o repositório em sua máquina local:\n",
    "\n",
    "2. acesse a pasta src que contém o arquivo ´main.py´:\n",
    "\n",
    "```\n",
    "cd src\n",
    "```\n",
    "\n",
    "3. Execute o arquivo `main.py` para iniciar o servidor da API:\n",
    "\n",
    "```\n",
    "python main.py\n",
    "```\n",
    "\n",
    "4. Acesse a documentação da API em seu navegador:\n",
    "\n",
    "```\n",
    "http://localhost:8000/docs\n",
    "```\n",
    "\n",
    "5. Utilize as rotas disponíveis na documentação para interagir com o sistema de biblioteca.\n",
    "\n",
    "## Conclusão\n",
    "\n",
    "A adição da API FastAPI ao sistema de biblioteca proporciona uma experiência mais moderna e interativa para os usuários, permitindo que eles realizem operações sobre os livros da biblioteca de forma simples e eficiente. A combinação das funcionalidades do SQLModel para interagir com o banco de dados e do FastAPI para criar a API resulta em um sistema poderoso e flexível, capaz de atender às necessidades de gerenciamento de bibliotecas de forma completa e profissional.\n"
   ]
  },
  {
   "cell_type": "markdown",
   "id": "7f6a7982-0626-4104-884d-2586d3b1bf1d",
   "metadata": {},
   "source": [
    "# Passo a Passo:"
   ]
  },
  {
   "cell_type": "markdown",
   "id": "b9174787-31fc-4ad2-a15e-706a17a36981",
   "metadata": {},
   "source": [
    "```mermaid\n",
    "graph TD;\n",
    "    A[Estrutura do Projeto] --> B[Biblioteca]\n",
    "    B[Biblioteca] --> C[src]\n",
    "    B[Biblioteca] --> D[database]\n",
    "    B[Biblioteca] --> E[notebook]\n",
    "    C[src] --> F{main.py}\n",
    "    C[src] --> G[models.py]\n",
    "    C[src] --> H[exemplo_crud.py]\n",
    "    D[database] --> I{biblioteca.db}\n",
    "    E[notebook] --> J{projeto.ipynb}\n",
    "```"
   ]
  },
  {
   "cell_type": "markdown",
   "id": "6bcc3a4f-1fc1-4074-b639-1fcf3c586e89",
   "metadata": {},
   "source": [
    "# Documentação do Projeto: Biblioteca\n",
    "\n",
    "## Estrutura do Projeto\n",
    "\n",
    "O projeto \"Biblioteca\" é um sistema de gerenciamento de uma biblioteca, projetado para armazenar informações sobre livros, permitindo operações de adição, busca, atualização e remoção de livros do banco de dados. A seguir, será apresentada a estrutura do projeto, incluindo suas principais pastas e arquivos.\n",
    "\n",
    "# O projeto está organizado da seguinte forma:\n",
    "\n",
    "\n",
    "- **Biblioteca**: Pasta principal do projeto.\n",
    "    - **src**: Contém os arquivos-fonte do projeto.\n",
    "        - **main.py**: Arquivo principal que contém a implementação do servidor FastAPI.\n",
    "        - **models.py**: Arquivo que define os modelos de dados utilizados no projeto, como a classe `Livro`.\n",
    "        - **exemplo_crud.py**: Arquivo com exemplos de operações CRUD para interagir com o servidor FastAPI.\n",
    "    - **database**: Pasta que armazena o banco de dados SQLite.\n",
    "        - **biblioteca.db**: Arquivo de banco de dados SQLite que armazena os dados da aplicação.\n",
    "    - **notebook**: Pasta que contém arquivos relacionados ao Jupyter Notebook.\n",
    "        - **projeto.ipynb**: Arquivo do Jupyter Notebook para experimentação e testes.\n"
   ]
  },
  {
   "cell_type": "markdown",
   "id": "919e7f17-f2fa-41c3-9c56-7b5f7f268122",
   "metadata": {},
   "source": [
    "## Setando a raiz do projeto:"
   ]
  },
  {
   "cell_type": "code",
   "execution_count": 3,
   "id": "4309f5f5-21b9-4d53-801b-1c808068113f",
   "metadata": {},
   "outputs": [],
   "source": [
    "import os \n",
    "os.getcwd()\n",
    "os.chdir(\"/home/jcnok/bootcamps/bootcamp-jornada-de-dados_2024/aula_16\")"
   ]
  },
  {
   "cell_type": "markdown",
   "id": "41122735-1c96-4de6-b3e0-19394674d0e5",
   "metadata": {},
   "source": [
    "## Criando o Schema:"
   ]
  },
  {
   "cell_type": "code",
   "execution_count": 4,
   "id": "a2575bb4-c550-406c-8348-5316121164ea",
   "metadata": {},
   "outputs": [
    {
     "name": "stdout",
     "output_type": "stream",
     "text": [
      "Writing src/models.py\n"
     ]
    }
   ],
   "source": [
    "%%writefile src/models.py\n",
    "#schemma livro\n",
    "from sqlmodel import SQLModel, Field\n",
    "from typing import Optional\n",
    "\n",
    "class Livro(SQLModel, table=True):\n",
    "    id: Optional[int] = Field(default=None, primary_key=True)\n",
    "    titulo: str\n",
    "    autor: str\n",
    "    ano_publicacao: int\n",
    "    disponivel: bool = True\n"
   ]
  },
  {
   "cell_type": "markdown",
   "id": "7fd06d76-e016-4cc5-87c7-f6f93452d739",
   "metadata": {},
   "source": [
    "Este script define a classe `Livro` que herda da classe `SQLModel`, indicando que ela representa uma tabela no banco de dados. Os campos da tabela são definidos como atributos da classe, usando a classe `Field` do SQLModel. A classe `Livro` possui os seguintes campos:\n",
    "\n",
    "- `id`: O ID único do livro.\n",
    "- `titulo`: O título do livro.\n",
    "- `autor`: O autor do livro.\n",
    "- `ano_publicacao`: O ano de publicação do livro.\n",
    "- `disponivel`: Um booleano indicando se o livro está disponível ou não. O valor padrão é `True`."
   ]
  },
  {
   "cell_type": "code",
   "execution_count": 6,
   "id": "d309226c-2618-4cbf-a2f7-72ea9d80fe60",
   "metadata": {},
   "outputs": [
    {
     "name": "stdout",
     "output_type": "stream",
     "text": [
      "Overwriting src/main.py\n"
     ]
    }
   ],
   "source": [
    "%%writefile src/main.py\n",
    "from fastapi import FastAPI, HTTPException\n",
    "from sqlmodel import SQLModel,Session, create_engine, select\n",
    "from models import Livro\n",
    "\n",
    "app = FastAPI()\n",
    "\n",
    "# Conexão com o banco de dados (SQLite para simplicidade)\n",
    "DATABASE_URL = \"sqlite:///database/biblioteca.db\"\n",
    "engine = create_engine(DATABASE_URL, echo=True)\n",
    "\n",
    "# Cria as tabelas no banco de dados\n",
    "SQLModel.metadata.create_all(engine)\n",
    "\n",
    "@app.post(\"/livros/\")\n",
    "def adicionar_livro(livro: Livro):\n",
    "    with Session(engine) as session:\n",
    "        session.add(livro)\n",
    "        session.commit()\n",
    "    return livro\n",
    "\n",
    "@app.get(\"/livros/{autor}\")\n",
    "def buscar_livros_por_autor(autor: str):\n",
    "    with Session(engine) as session:\n",
    "        livros = session.exec(select(Livro).where(Livro.autor == autor)).all()\n",
    "        if not livros:\n",
    "            raise HTTPException(status_code=404, detail=\"Livros não encontrados\")\n",
    "        return livros\n",
    "\n",
    "@app.put(\"/livros/{id_livro}\")\n",
    "def atualizar_disponibilidade_livro(id_livro: int, disponivel: bool):\n",
    "    with Session(engine) as session:\n",
    "        livro = session.get(Livro, id_livro)\n",
    "        if livro is None:\n",
    "            raise HTTPException(status_code=404, detail=\"Livro não encontrado\")\n",
    "        livro.disponivel = disponivel\n",
    "        session.add(livro)\n",
    "        session.commit()\n",
    "    return livro\n",
    "\n",
    "@app.delete(\"/livros/{id_livro}\")\n",
    "def remover_livro(id_livro: int):\n",
    "    with Session(engine) as session:\n",
    "        livro = session.get(Livro, id_livro)\n",
    "        if livro is None:\n",
    "            raise HTTPException(status_code=404, detail=\"Livro não encontrado\")\n",
    "        session.delete(livro)\n",
    "        session.commit()\n",
    "    return {\"mensagem\": \"Livro removido com sucesso\"}\n",
    "\n",
    "# Executar o servidor com Uvicorn\n",
    "if __name__ == \"__main__\":\n",
    "    import uvicorn\n",
    "    uvicorn.run(app, host=\"127.0.0.1\", port=8000)\n"
   ]
  },
  {
   "cell_type": "markdown",
   "id": "4b21f2e4-ca6c-400c-9baa-839e953696ec",
   "metadata": {},
   "source": [
    "Este código implementa uma API usando o framework FastAPI para realizar operações CRUD (Create, Read, Update, Delete) em um banco de dados SQLite. Vou explicar cada parte do código em detalhes:\n",
    "\n",
    "1. **Importações de Módulos**:\n",
    "   - `from fastapi import FastAPI, HTTPException`: Importa a classe `FastAPI` e a exceção `HTTPException` do módulo `fastapi`, que são usadas para criar a API e para lidar com erros HTTP, respectivamente.\n",
    "   - `from sqlmodel import Session, create_engine, select`: Importa as classes `Session`, `create_engine` e `select` do módulo `sqlmodel`, que são usadas para interagir com o banco de dados SQLite.\n",
    "   - `from models import Livro`: Importa a classe `Livro` do módulo `models`, que contém a definição do modelo de dados para os livros.\n",
    "\n",
    "2. **Inicialização da Aplicação FastAPI**:\n",
    "   - `app = FastAPI()`: Cria uma instância da classe `FastAPI`, que será usada para definir as rotas da API e iniciar o servidor.\n",
    "\n",
    "3. **Conexão com o Banco de Dados**:\n",
    "   - `DATABASE_URL = \"sqlite:///database/biblioteca.db\"`: Define a URL de conexão com o banco de dados SQLite.\n",
    "   - `engine = create_engine(DATABASE_URL)`: Cria o mecanismo de banco de dados usando a URL especificada.\n",
    "\n",
    "4. **Definição das Rotas da API**:\n",
    "   - `@app.post(\"/livros/\")`: Define uma rota para adicionar um novo livro ao banco de dados. O método POST é usado para criar um novo recurso.\n",
    "   - `@app.get(\"/livros/{autor}\")`: Define uma rota para buscar livros por autor. O método GET é usado para recuperar recursos.\n",
    "   - `@app.put(\"/livros/{id_livro}\")`: Define uma rota para atualizar a disponibilidade de um livro com base no seu ID. O método PUT é usado para atualizar recursos existentes.\n",
    "   - `@app.delete(\"/livros/{id_livro}\")`: Define uma rota para remover um livro do banco de dados com base no seu ID. O método DELETE é usado para excluir recursos existentes.\n",
    "\n",
    "5. **Implementação das Funções de Manipulação de Dados**:\n",
    "   - `def adicionar_livro(livro: Livro)`: Adiciona um novo livro ao banco de dados.\n",
    "   - `def buscar_livros_por_autor(autor: str)`: Busca livros por autor no banco de dados.\n",
    "   - `def atualizar_disponibilidade_livro(id_livro: int, disponivel: bool)`: Atualiza a disponibilidade de um livro no banco de dados com base no seu ID.\n",
    "   - `def remover_livro(id_livro: int)`: Remove um livro do banco de dados com base no seu ID.\n",
    "\n",
    "6. **Execução do Servidor FastAPI**:\n",
    "   - `if __name__ == \"__main__\":`: Verifica se o script está sendo executado como o programa principal.\n",
    "   - `uvicorn.run(app, host=\"127.0.0.1\", port=8000)`: Inicia o servidor FastAPI usando o Uvicorn, definindo o host e a porta.\n"
   ]
  },
  {
   "cell_type": "markdown",
   "id": "6e002a53-bf6b-4667-b8b0-c7a11ce580c5",
   "metadata": {},
   "source": [
    "## Execução:"
   ]
  },
  {
   "cell_type": "markdown",
   "id": "b5ca910a-1f1d-4885-ab76-8d878df01f34",
   "metadata": {
    "scrolled": true
   },
   "source": [
    "### Acesse a pastas cd aula_16 e execute o código no terminal:\n",
    "```bash\n",
    "$ python src/main.py\n",
    "```"
   ]
  },
  {
   "cell_type": "markdown",
   "id": "e1971821-a873-47ab-b5ad-6ee922cf56af",
   "metadata": {},
   "source": [
    "### Realizando testes CRUD"
   ]
  },
  {
   "cell_type": "code",
   "execution_count": 54,
   "id": "25ec66f9-e0c3-46c5-b211-59e14e913a45",
   "metadata": {},
   "outputs": [
    {
     "name": "stdout",
     "output_type": "stream",
     "text": [
      "Overwriting src/exemplo_crud.py\n"
     ]
    }
   ],
   "source": [
    "%%writefile src/exemplo_crud.py\n",
    "import requests\n",
    "\n",
    "# Definindo a URL base da API\n",
    "base_url = \"http://localhost:8000\"\n",
    "\n",
    "# Função para imprimir a resposta de uma requisição\n",
    "def print_response(response):\n",
    "    print(\"Status code:\", response.status_code)\n",
    "    print(\"Response body:\", response.json())\n",
    "    print()\n",
    "\n",
    "# Exemplo de adição de livro (CREATE)\n",
    "livro_data = {\n",
    "    \"titulo\": \"Dom Casmurro\",\n",
    "    \"autor\": \"Machado de Assis\",\n",
    "    \"ano_publicacao\": 1899,\n",
    "    \"disponivel\": True\n",
    "}\n",
    "response = requests.post(f\"{base_url}/livros/\", json=livro_data)\n",
    "print(\"Adicionar livro:\")\n",
    "print_response(response)\n",
    "\n",
    "# Exemplo de consulta de livro por autor (READ)\n",
    "autor = \"Machado de Assis\"\n",
    "response = requests.get(f\"{base_url}/livros/{autor}\")\n",
    "print(\"Consultar livro por autor:\")\n",
    "print_response(response)\n",
    "\n",
    "# Exemplo de atualização de disponibilidade de livro (UPDATE)\n",
    "livro_id = 1  # Supondo que o ID do livro a ser atualizado seja 1\n",
    "response = requests.put(f\"{base_url}/livros/{livro_id}?disponivel=false\")\n",
    "print(\"Atualizar disponibilidade do livro:\")\n",
    "print_response(response)\n",
    "\n",
    "# Exemplo de remoção de livro (DELETE)\n",
    "response = requests.delete(f\"{base_url}/livros/{livro_id}\")\n",
    "print(\"Remover livro:\")\n",
    "print_response(response)\n"
   ]
  },
  {
   "cell_type": "code",
   "execution_count": 43,
   "id": "10958251-481b-4e93-82d8-f52b23e4fd99",
   "metadata": {},
   "outputs": [],
   "source": [
    "response"
   ]
  },
  {
   "cell_type": "markdown",
   "id": "b73d5b53-9584-42c2-b524-87b70f1cd66d",
   "metadata": {},
   "source": [
    "## Executando o exemplo de crud:"
   ]
  },
  {
   "cell_type": "code",
   "execution_count": 59,
   "id": "5219c370-6d2d-4f23-aa5f-dac069c6c69a",
   "metadata": {},
   "outputs": [
    {
     "name": "stdout",
     "output_type": "stream",
     "text": [
      "Adicionar livro:\n",
      "Status code: 200\n",
      "Response body: {}\n",
      "\n",
      "Consultar livro por autor:\n",
      "Status code: 200\n",
      "Response body: [{'ano_publicacao': 1899, 'id': 1, 'titulo': 'Dom Casmurro', 'autor': 'Machado de Assis', 'disponivel': True}]\n",
      "\n",
      "Atualizar disponibilidade do livro:\n",
      "Status code: 200\n",
      "Response body: {}\n",
      "\n",
      "Remover livro:\n",
      "Status code: 200\n",
      "Response body: {'mensagem': 'Livro removido com sucesso'}\n",
      "\n"
     ]
    }
   ],
   "source": [
    "!python src/exemplo_crud.py"
   ]
  },
  {
   "cell_type": "markdown",
   "id": "c356b6a2-fad2-4536-8b30-f980f9b6e549",
   "metadata": {},
   "source": [
    "## Conclusão:"
   ]
  },
  {
   "cell_type": "markdown",
   "id": "0abf2d5a-1dd0-44c2-9677-067a1bb4b06a",
   "metadata": {},
   "source": [
    "Conforme verificado, o CRUD via API está funcionando corretamente, agora conseguimos criar um banco de dados e realizar os testes de create, read, update e delete com sucesso."
   ]
  },
  {
   "cell_type": "code",
   "execution_count": null,
   "id": "9b8cdd34-f90d-47fd-8a19-bb28bbdfe8bd",
   "metadata": {},
   "outputs": [],
   "source": []
  }
 ],
 "metadata": {
  "kernelspec": {
   "display_name": "Python 3 (ipykernel)",
   "language": "python",
   "name": "python3"
  },
  "language_info": {
   "codemirror_mode": {
    "name": "ipython",
    "version": 3
   },
   "file_extension": ".py",
   "mimetype": "text/x-python",
   "name": "python",
   "nbconvert_exporter": "python",
   "pygments_lexer": "ipython3",
   "version": "3.10.13"
  }
 },
 "nbformat": 4,
 "nbformat_minor": 5
}
