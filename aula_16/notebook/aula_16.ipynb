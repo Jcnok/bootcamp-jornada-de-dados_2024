{
 "cells": [
  {
   "cell_type": "markdown",
   "id": "b8f92ed7-f963-45fe-832c-bf185d7c722e",
   "metadata": {},
   "source": [
    "# Aula_16"
   ]
  },
  {
   "cell_type": "markdown",
   "id": "23b6e9f4-f87b-4417-96a6-a5ab19ca3540",
   "metadata": {},
   "source": [
    "```mermaid\n",
    "graph TD;\n",
    "    A[Projeto] --> B[Notebook]\n",
    "    A[Projeto] --> C[Database]\n",
    "    A[Projeto] --> D[SRC]\n",
    "    C[Database] --> E{database.db}\n",
    "    D[SRC] --> F[hero_db.py]\n",
    "\n",
    "\n",
    "```"
   ]
  },
  {
   "cell_type": "markdown",
   "id": "7c015017-5420-430b-9f5d-c034b2c3b179",
   "metadata": {},
   "source": [
    "### Neste diagrama:\n",
    "\n",
    "- `Projeto` é o nó principal que contém todas as partes do projeto.\n",
    "- `Notebook`, `Database` e `SRC` são subpastas do projeto.\n",
    "- `Notebook` contém o notebook de todo o projeto.\n",
    "- `Database` contém a pasta onde o arquivo `database.db` será armazenado.\n",
    "- `SRC` contém o arquivo `hero_db.py`, que é responsável por criar o banco de dados SQLite para armazenar informações sobre heróis."
   ]
  },
  {
   "cell_type": "markdown",
   "id": "eacc6c2f-9092-4c0d-9013-fa192237842c",
   "metadata": {},
   "source": [
    "# Desafio: Criação de Banco de Dados de Heróis\n",
    "\n",
    "## Descrição do Desafio\n",
    "\n",
    "O desafio consiste em criar um banco de dados SQLite para armazenar informações sobre heróis. O banco de dados deve incluir uma tabela para os heróis, com campos para o ID, nome, nome secreto e idade de cada herói. Além disso, é necessário criar instâncias de heróis e adicioná-las ao banco de dados.\n",
    "\n",
    "## Explicação do Projeto\n",
    "\n",
    "O projeto utiliza Python juntamente com a biblioteca SQLModel para criar o banco de dados e interagir com ele. O código consiste em:\n",
    "\n",
    "- Definição do modelo de dados `Hero` com os atributos necessários.\n",
    "- Criação do banco de dados SQLite na pasta `database/`.\n",
    "- Criação das tabelas no banco de dados.\n",
    "- Adição de instâncias de heróis ao banco de dados.\n",
    "\n",
    "O script Python é executado para criar o banco de dados e adicionar alguns exemplos de heróis, demonstrando assim o funcionamento básico do projeto.\n",
    "\n",
    "## Como Executar\n",
    "\n",
    "1. Clone este repositório em sua máquina local:\n",
    "\n",
    "2. Navegue até o diretório do projeto:\n",
    "\n",
    "```\n",
    "cd aula_16/src\n",
    "```\n",
    "3. Execute o script `hero_db.py`:\n",
    "\n",
    "```\n",
    "python hero.py\n",
    "```\n",
    "\n",
    "Isso criará o banco de dados na pasta `database/` e adicionará alguns exemplos de heróis.\n",
    "\n",
    "## Conclusão\n",
    "\n",
    "O projeto demonstra como criar um banco de dados SQLite e interagir com ele usando Python e SQLModel. Ele fornece uma base sólida para expandir e desenvolver um sistema mais completo de gerenciamento de heróis ou qualquer outra aplicação que exija armazenamento de dados estruturados.\n"
   ]
  },
  {
   "cell_type": "markdown",
   "id": "0521d118-a0c9-41da-9394-fad78b76fdaa",
   "metadata": {},
   "source": [
    "# Passo a passo:"
   ]
  },
  {
   "cell_type": "markdown",
   "id": "240052aa-2fa1-4f9a-96d6-6cfe0a54a262",
   "metadata": {},
   "source": [
    "### Setando a pasta raiz do projeto:"
   ]
  },
  {
   "cell_type": "code",
   "execution_count": 2,
   "id": "379c4431-7f8a-43dd-89be-735f455a0bb9",
   "metadata": {},
   "outputs": [],
   "source": [
    "import os \n",
    "os.getcwd()\n",
    "os.chdir(\"/home/jcnok/bootcamps/bootcamp-jornada-de-dados_2024/aula_16\")"
   ]
  },
  {
   "cell_type": "markdown",
   "id": "d37cb16e-bcef-42ec-88fc-08b74ec6c31b",
   "metadata": {},
   "source": [
    "### Instalação das libs:"
   ]
  },
  {
   "cell_type": "code",
   "execution_count": 5,
   "id": "745b85c4-c9c5-40db-a376-dcf378275c73",
   "metadata": {},
   "outputs": [],
   "source": [
    "!poetry add sqlmodel -q"
   ]
  },
  {
   "cell_type": "code",
   "execution_count": 3,
   "id": "a25f96cd-1e8d-4e00-9bf3-e4203d4e1498",
   "metadata": {},
   "outputs": [
    {
     "name": "stdout",
     "output_type": "stream",
     "text": [
      "Writing src/hero_bd.py\n"
     ]
    }
   ],
   "source": [
    "%%writefile src/hero_bd.py\n",
    "from typing import Optional\n",
    "import os\n",
    "\n",
    "from sqlmodel import Field, Session, SQLModel, create_engine\n",
    "\n",
    "class Hero(SQLModel, table=True):\n",
    "    \"\"\"\n",
    "    Modelo para representar um herói.\n",
    "\n",
    "    Atributos:\n",
    "        id (int, optional): O ID único do herói.\n",
    "        name (str): O nome do herói.\n",
    "        secret_name (str): O nome secreto do herói.\n",
    "        age (int, optional): A idade do herói.\n",
    "    \"\"\"\n",
    "    id: Optional[int] = Field(default=None, primary_key=True)\n",
    "    name: str\n",
    "    secret_name: str\n",
    "    age: Optional[int] = None\n",
    "\n",
    "# Obtém o diretório atual\n",
    "current_directory = os.path.dirname(os.path.abspath(__file__))\n",
    "\n",
    "# Define o caminho para a pasta 'database/'\n",
    "database_directory = os.path.join(current_directory, \"..\", \"database\")\n",
    "\n",
    "# Garante que o diretório exista, caso contrário, cria-o\n",
    "os.makedirs(database_directory, exist_ok=True)\n",
    "\n",
    "# Define o caminho completo para o banco de dados\n",
    "database_path = os.path.join(database_directory, \"database.db\")\n",
    "\n",
    "# Cria um mecanismo de banco de dados SQLite no caminho especificado\n",
    "engine = create_engine(f\"sqlite:///{database_path}\", echo=True)\n",
    "\n",
    "# Cria as tabelas no banco de dados\n",
    "SQLModel.metadata.create_all(engine)\n",
    "\n",
    "# Cria instâncias de heróis\n",
    "hero_1 = Hero(name=\"Spider-Boy\", secret_name=\"Pedro Parqueador\")\n",
    "hero_2 = Hero(name=\"Rusty-Man\", secret_name=\"Tommy Sharp\", age=48)\n",
    "\n",
    "# Inicia uma sessão com o banco de dados\n",
    "with Session(engine) as session:\n",
    "    # Adiciona os heróis à sessão\n",
    "    session.add(hero_1)\n",
    "    session.add(hero_2)\n",
    "    # Commit das alterações\n",
    "    session.commit()\n"
   ]
  },
  {
   "cell_type": "markdown",
   "id": "fbd74705-ad5d-429c-8ce3-52ea5537e114",
   "metadata": {},
   "source": [
    "# Documentação do Código\n",
    "\n",
    "Este script Python cria um banco de dados SQLite para armazenar informações sobre heróis. Ele utiliza a biblioteca SQLModel para definir o esquema do banco de dados e interagir com ele.\n",
    "\n",
    "## Funcionalidades\n",
    "\n",
    "1. **Definição do Modelo de Dados**: Define a classe `Hero` que representa um herói, com atributos para o ID, nome, nome secreto e idade.\n",
    "\n",
    "2. **Criação do Banco de Dados**: Cria um banco de dados SQLite na pasta `database/`.\n",
    "\n",
    "3. **Criação das Tabelas**: Define e cria a tabela correspondente ao modelo `Hero` no banco de dados.\n",
    "\n",
    "4. **Adição de Dados**: Cria instâncias de heróis e as adiciona ao banco de dados.\n",
    "\n",
    "## Detalhes do Código\n",
    "\n",
    "- **`Hero` Class**: Classe que representa um herói, definindo seus atributos como campos da tabela no banco de dados.\n",
    "\n",
    "- **Obtenção do Diretório Atual**: Usa a biblioteca `os` para obter o diretório atual do script.\n",
    "\n",
    "- **Criação do Diretório do Banco de Dados**: Cria a pasta `database/` se ela não existir.\n",
    "\n",
    "- **Criação do Caminho do Banco de Dados**: Define o caminho completo para o arquivo do banco de dados na pasta `database/`.\n",
    "\n",
    "- **Criação do Mecanismo do Banco de Dados**: Cria um mecanismo de banco de dados SQLite no caminho especificado.\n",
    "\n",
    "- **Criação das Tabelas**: Cria todas as tabelas definidas no modelo de dados.\n",
    "\n",
    "- **Criação das Instâncias de Heróis**: Cria instâncias de heróis com dados específicos.\n",
    "\n",
    "- **Gerenciamento da Sessão do Banco de Dados**: Inicia uma sessão com o banco de dados, adiciona os heróis à sessão e efetua o commit das alterações.\n",
    "\n",
    "## Estrutura do Projeto\n",
    "\n",
    "- `src/`: Contém o script Python `hero_db.py` para criar o banco de dados.\n",
    "- `database/`: Pasta onde o banco de dados SQLite será criado.\n",
    "\n",
    "## Dependências\n",
    "\n",
    "- `sqlmodel`: Uma biblioteca de mapeamento objeto-relacional (ORM) para Python."
   ]
  },
  {
   "cell_type": "markdown",
   "id": "a6f43735-4017-4bd6-b464-39890d3ad3fa",
   "metadata": {},
   "source": [
    "### Execução do script:"
   ]
  },
  {
   "cell_type": "code",
   "execution_count": 6,
   "id": "3a621065-8372-4424-8cb7-6d25a035b1ce",
   "metadata": {},
   "outputs": [
    {
     "name": "stdout",
     "output_type": "stream",
     "text": [
      "2024-04-30 18:21:40,869 INFO sqlalchemy.engine.Engine BEGIN (implicit)\n",
      "2024-04-30 18:21:40,869 INFO sqlalchemy.engine.Engine PRAGMA main.table_info(\"hero\")\n",
      "2024-04-30 18:21:40,869 INFO sqlalchemy.engine.Engine [raw sql] ()\n",
      "2024-04-30 18:21:40,870 INFO sqlalchemy.engine.Engine PRAGMA temp.table_info(\"hero\")\n",
      "2024-04-30 18:21:40,870 INFO sqlalchemy.engine.Engine [raw sql] ()\n",
      "2024-04-30 18:21:40,871 INFO sqlalchemy.engine.Engine \n",
      "CREATE TABLE hero (\n",
      "\tid INTEGER NOT NULL, \n",
      "\tname VARCHAR NOT NULL, \n",
      "\tsecret_name VARCHAR NOT NULL, \n",
      "\tage INTEGER, \n",
      "\tPRIMARY KEY (id)\n",
      ")\n",
      "\n",
      "\n",
      "2024-04-30 18:21:40,871 INFO sqlalchemy.engine.Engine [no key 0.00037s] ()\n",
      "2024-04-30 18:21:40,885 INFO sqlalchemy.engine.Engine COMMIT\n",
      "2024-04-30 18:21:40,887 INFO sqlalchemy.engine.Engine BEGIN (implicit)\n",
      "2024-04-30 18:21:40,890 INFO sqlalchemy.engine.Engine INSERT INTO hero (name, secret_name, age) VALUES (?, ?, ?) RETURNING id\n",
      "2024-04-30 18:21:40,890 INFO sqlalchemy.engine.Engine [generated in 0.00021s (insertmanyvalues) 1/2 (ordered; batch not supported)] ('Spider-Boy', 'Pedro Parqueador', None)\n",
      "2024-04-30 18:21:40,891 INFO sqlalchemy.engine.Engine INSERT INTO hero (name, secret_name, age) VALUES (?, ?, ?) RETURNING id\n",
      "2024-04-30 18:21:40,891 INFO sqlalchemy.engine.Engine [insertmanyvalues 2/2 (ordered; batch not supported)] ('Rusty-Man', 'Tommy Sharp', 48)\n",
      "2024-04-30 18:21:40,891 INFO sqlalchemy.engine.Engine COMMIT\n"
     ]
    }
   ],
   "source": [
    "!python src/hero_bd.py"
   ]
  },
  {
   "cell_type": "markdown",
   "id": "c9f5f08d-ebab-4c20-9be9-362ebc768985",
   "metadata": {},
   "source": [
    "## Criando uma consulta ao banco de dados criado:"
   ]
  },
  {
   "cell_type": "code",
   "execution_count": 20,
   "id": "1c28d128-cdf9-438b-9875-7cca094e2cc2",
   "metadata": {},
   "outputs": [
    {
     "name": "stdout",
     "output_type": "stream",
     "text": [
      "(1, 'Spider-Boy', 'Pedro Parqueador', None)\n",
      "(2, 'Rusty-Man', 'Tommy Sharp', 48)\n"
     ]
    }
   ],
   "source": [
    "from sqlmodel import SQLModel, create_engine, Session\n",
    "from sqlalchemy import text\n",
    "\n",
    "engine = create_engine(\"sqlite:///database/database.db\")\n",
    "with Session(engine) as session:\n",
    "    statement = text(\"SELECT * FROM hero;\")\n",
    "    results = session.exec(statement)\n",
    "    heroes = results.fetchall()\n",
    "    for hero in heroes:\n",
    "        print(hero)"
   ]
  },
  {
   "cell_type": "code",
   "execution_count": null,
   "id": "6d833712-7e2a-48e9-87c4-02c5078ac7b4",
   "metadata": {},
   "outputs": [],
   "source": []
  },
  {
   "cell_type": "code",
   "execution_count": null,
   "id": "396eb577-c496-4ce6-9b2f-68683875b748",
   "metadata": {},
   "outputs": [],
   "source": []
  }
 ],
 "metadata": {
  "kernelspec": {
   "display_name": "Python 3 (ipykernel)",
   "language": "python",
   "name": "python3"
  },
  "language_info": {
   "codemirror_mode": {
    "name": "ipython",
    "version": 3
   },
   "file_extension": ".py",
   "mimetype": "text/x-python",
   "name": "python",
   "nbconvert_exporter": "python",
   "pygments_lexer": "ipython3",
   "version": "3.10.13"
  }
 },
 "nbformat": 4,
 "nbformat_minor": 5
}
