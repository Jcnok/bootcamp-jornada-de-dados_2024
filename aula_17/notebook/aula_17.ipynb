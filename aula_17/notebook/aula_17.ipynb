{
 "cells": [
  {
   "cell_type": "markdown",
   "id": "210b91d4-372e-4abb-9d0c-5ed301bb3949",
   "metadata": {},
   "source": [
    "# Desafio Intermediário de SQLAlchemy: Tabelas de Produto e Fornecedor\n",
    "Este desafio focará na criação de duas tabelas relacionadas, Produto e Fornecedor, utilizando SQLAlchemy. Cada produto terá um fornecedor associado, demonstrando o uso de chaves estrangeiras para estabelecer relações entre tabelas. Além disso, você realizará inserções nessas tabelas para praticar a manipulação de dados."
   ]
  },
  {
   "cell_type": "markdown",
   "id": "f71834e7-e4a8-4245-9c9c-fa303c36527e",
   "metadata": {},
   "source": [
    "## Setando a Raiz do projeto:"
   ]
  },
  {
   "cell_type": "code",
   "execution_count": 15,
   "id": "a274b942-3f94-43d6-bf83-fd7d96a0f1a2",
   "metadata": {},
   "outputs": [],
   "source": [
    "import os \n",
    "os.getcwd()\n",
    "os.chdir(\"/home/jcnok/bootcamps/bootcamp-jornada-de-dados_2024/aula_17\")"
   ]
  },
  {
   "cell_type": "markdown",
   "id": "7d85c821-5b11-4b89-8618-218036e80b8d",
   "metadata": {},
   "source": [
    "# Estrutura do Projeto:"
   ]
  },
  {
   "cell_type": "markdown",
   "id": "a346323a-df09-4d25-8246-a155f61a86c7",
   "metadata": {},
   "source": [
    "```mermaid\n",
    "flowchart LR\n",
    "    A[Projeto] --> B[src]\n",
    "    A --> C[notebook]\n",
    "    A --> D(database)\n",
    "    B --> E[models.py]\n",
    "    B --> F[database.py]\n",
    "    B --> G[data_insertion.py]\n",
    "    B --> H{main.py}\n",
    "    D --> I(projeto.db)\n",
    "    E -->|Classes para as tabelas| K(Fornecedor e Produto)\n",
    "    E -->|Relação um-para-muitos|K\n",
    "    F --> |Conexão com o DB|H\n",
    "    G --> |Inserção de dados|H    \n",
    "    K --> |Criação das tabelas|H   \n",
    "    H --> |Conecta,Cria,Consulta|D\n",
    "```"
   ]
  },
  {
   "cell_type": "markdown",
   "id": "69bbdec9-eae9-4893-b2b1-8d83d1e21867",
   "metadata": {},
   "source": [
    "### Documentação do Projeto\n",
    "\n",
    "#### Nome do Projeto: SQLAlchemy Fornecedor-Produto\n",
    "\n",
    "#### Descrição:\n",
    "Este projeto implementa um sistema básico de gerenciamento de produtos e fornecedores utilizando SQLAlchemy, um ORM (Object-Relational Mapper) para Python. Ele cria duas tabelas, `Fornecedor` e `Produto`, e estabelece uma relação de um-para-muitos entre elas, onde um fornecedor pode ter vários produtos, mas um produto só pode ter um fornecedor.\n",
    "\n",
    "#### Estrutura do Projeto:\n",
    "O projeto é dividido em quatro módulos principais:\n",
    "\n",
    "1. `models.py`: Define as classes de modelo para as tabelas `Fornecedor` e `Produto`, e cria as relações entre elas.\n",
    "2. `database.py`: Contém a configuração da conexão com o banco de dados.\n",
    "3. `data_insertion.py`: Realiza as operações de inserção de dados nas tabelas.\n",
    "4. `main.py`: importa os módulos para conectar, criar as tabelas e realizar consultas no banco de dados.\n",
    "\n",
    "#### Uso:\n",
    "1. Execute o script `main.py` para realizar as operações no banco de dados.\n",
    "\n",
    "#### Exemplo de Uso:\n",
    "```bash\n",
    "python main.py\n",
    "```"
   ]
  },
  {
   "cell_type": "code",
   "execution_count": 25,
   "id": "c5e57df4-7323-4893-9ff0-0b643f121a83",
   "metadata": {},
   "outputs": [
    {
     "name": "stdout",
     "output_type": "stream",
     "text": [
      "2024-05-02 18:23:18,796 INFO sqlalchemy.engine.Engine BEGIN (implicit)\n",
      "2024-05-02 18:23:18,796 INFO sqlalchemy.engine.Engine PRAGMA main.table_info(\"fornecedores\")\n",
      "2024-05-02 18:23:18,797 INFO sqlalchemy.engine.Engine [raw sql] ()\n",
      "2024-05-02 18:23:18,797 INFO sqlalchemy.engine.Engine PRAGMA temp.table_info(\"fornecedores\")\n",
      "2024-05-02 18:23:18,797 INFO sqlalchemy.engine.Engine [raw sql] ()\n",
      "2024-05-02 18:23:18,798 INFO sqlalchemy.engine.Engine PRAGMA main.table_info(\"produtos\")\n",
      "2024-05-02 18:23:18,798 INFO sqlalchemy.engine.Engine [raw sql] ()\n",
      "2024-05-02 18:23:18,798 INFO sqlalchemy.engine.Engine PRAGMA temp.table_info(\"produtos\")\n",
      "2024-05-02 18:23:18,798 INFO sqlalchemy.engine.Engine [raw sql] ()\n",
      "2024-05-02 18:23:18,799 INFO sqlalchemy.engine.Engine \n",
      "CREATE TABLE fornecedores (\n",
      "\tid INTEGER NOT NULL, \n",
      "\tnome VARCHAR(50) NOT NULL, \n",
      "\ttelefone VARCHAR(20), \n",
      "\temail VARCHAR(50), \n",
      "\tendereco VARCHAR(100), \n",
      "\tPRIMARY KEY (id)\n",
      ")\n",
      "\n",
      "\n",
      "2024-05-02 18:23:18,799 INFO sqlalchemy.engine.Engine [no key 0.00017s] ()\n",
      "2024-05-02 18:23:18,811 INFO sqlalchemy.engine.Engine \n",
      "CREATE TABLE produtos (\n",
      "\tid INTEGER NOT NULL, \n",
      "\tnome VARCHAR(50) NOT NULL, \n",
      "\tdescricao VARCHAR(200), \n",
      "\tpreco INTEGER, \n",
      "\tfornecedor_id INTEGER, \n",
      "\tPRIMARY KEY (id), \n",
      "\tFOREIGN KEY(fornecedor_id) REFERENCES fornecedores (id)\n",
      ")\n",
      "\n",
      "\n",
      "2024-05-02 18:23:18,812 INFO sqlalchemy.engine.Engine [no key 0.00036s] ()\n",
      "2024-05-02 18:23:18,822 INFO sqlalchemy.engine.Engine COMMIT\n",
      "2024-05-02 18:23:18,824 INFO sqlalchemy.engine.Engine BEGIN (implicit)\n",
      "2024-05-02 18:23:18,825 INFO sqlalchemy.engine.Engine PRAGMA main.table_info(\"fornecedores\")\n",
      "2024-05-02 18:23:18,825 INFO sqlalchemy.engine.Engine [raw sql] ()\n",
      "2024-05-02 18:23:18,826 INFO sqlalchemy.engine.Engine PRAGMA main.table_info(\"produtos\")\n",
      "2024-05-02 18:23:18,826 INFO sqlalchemy.engine.Engine [raw sql] ()\n",
      "2024-05-02 18:23:18,827 INFO sqlalchemy.engine.Engine COMMIT\n",
      "/home/jcnok/bootcamps/bootcamp-jornada-de-dados_2024/aula_17/src/data_insertion.py:12: SAWarning: relationship 'Produto.fornecedor' will copy column fornecedores.id to column produtos.fornecedor_id, which conflicts with relationship(s): 'Fornecedor.produtos' (copies fornecedores.id to produtos.fornecedor_id). If this is not the intention, consider if these relationships should be linked with back_populates, or if viewonly=True should be applied to one or more if they are read-only. For the less common case that foreign key constraints are partially overlapping, the orm.foreign() annotation can be used to isolate the columns that should be written towards.   To silence this warning, add the parameter 'overlaps=\"produtos\"' to the 'Produto.fornecedor' relationship. (Background on this warning at: https://sqlalche.me/e/20/qzyx) (This warning originated from the `configure_mappers()` process, which was invoked automatically in response to a user-initiated operation.)\n",
      "  Fornecedor(nome=\"Fornecedor A\", telefone=\"12345678\", email=\"contato@a.com\", endereco=\"Endereço A\"),\n",
      "2024-05-02 18:23:18,836 INFO sqlalchemy.engine.Engine BEGIN (implicit)\n",
      "2024-05-02 18:23:18,839 INFO sqlalchemy.engine.Engine INSERT INTO fornecedores (nome, telefone, email, endereco) VALUES (?, ?, ?, ?) RETURNING id\n",
      "2024-05-02 18:23:18,839 INFO sqlalchemy.engine.Engine [generated in 0.00020s (insertmanyvalues) 1/5 (ordered; batch not supported)] ('Fornecedor A', '12345678', 'contato@a.com', 'Endereço A')\n",
      "2024-05-02 18:23:18,840 INFO sqlalchemy.engine.Engine INSERT INTO fornecedores (nome, telefone, email, endereco) VALUES (?, ?, ?, ?) RETURNING id\n",
      "2024-05-02 18:23:18,840 INFO sqlalchemy.engine.Engine [insertmanyvalues 2/5 (ordered; batch not supported)] ('Fornecedor B', '87654321', 'contato@b.com', 'Endereço B')\n",
      "2024-05-02 18:23:18,840 INFO sqlalchemy.engine.Engine INSERT INTO fornecedores (nome, telefone, email, endereco) VALUES (?, ?, ?, ?) RETURNING id\n",
      "2024-05-02 18:23:18,841 INFO sqlalchemy.engine.Engine [insertmanyvalues 3/5 (ordered; batch not supported)] ('Fornecedor C', '12348765', 'contato@c.com', 'Endereço C')\n",
      "2024-05-02 18:23:18,841 INFO sqlalchemy.engine.Engine INSERT INTO fornecedores (nome, telefone, email, endereco) VALUES (?, ?, ?, ?) RETURNING id\n",
      "2024-05-02 18:23:18,841 INFO sqlalchemy.engine.Engine [insertmanyvalues 4/5 (ordered; batch not supported)] ('Fornecedor D', '56781234', 'contato@d.com', 'Endereço D')\n",
      "2024-05-02 18:23:18,841 INFO sqlalchemy.engine.Engine INSERT INTO fornecedores (nome, telefone, email, endereco) VALUES (?, ?, ?, ?) RETURNING id\n",
      "2024-05-02 18:23:18,841 INFO sqlalchemy.engine.Engine [insertmanyvalues 5/5 (ordered; batch not supported)] ('Fornecedor E', '43217865', 'contato@e.com', 'Endereço E')\n",
      "2024-05-02 18:23:18,842 INFO sqlalchemy.engine.Engine COMMIT\n",
      "2024-05-02 18:23:18,850 INFO sqlalchemy.engine.Engine BEGIN (implicit)\n",
      "2024-05-02 18:23:18,852 INFO sqlalchemy.engine.Engine INSERT INTO produtos (nome, descricao, preco, fornecedor_id) VALUES (?, ?, ?, ?) RETURNING id\n",
      "2024-05-02 18:23:18,852 INFO sqlalchemy.engine.Engine [generated in 0.00018s (insertmanyvalues) 1/5 (ordered; batch not supported)] ('Produto 1', 'Descrição do Produto 1', 100, 1)\n",
      "2024-05-02 18:23:18,852 INFO sqlalchemy.engine.Engine INSERT INTO produtos (nome, descricao, preco, fornecedor_id) VALUES (?, ?, ?, ?) RETURNING id\n",
      "2024-05-02 18:23:18,852 INFO sqlalchemy.engine.Engine [insertmanyvalues 2/5 (ordered; batch not supported)] ('Produto 2', 'Descrição do Produto 2', 200, 2)\n",
      "2024-05-02 18:23:18,853 INFO sqlalchemy.engine.Engine INSERT INTO produtos (nome, descricao, preco, fornecedor_id) VALUES (?, ?, ?, ?) RETURNING id\n",
      "2024-05-02 18:23:18,853 INFO sqlalchemy.engine.Engine [insertmanyvalues 3/5 (ordered; batch not supported)] ('Produto 3', 'Descrição do Produto 3', 300, 3)\n",
      "2024-05-02 18:23:18,853 INFO sqlalchemy.engine.Engine INSERT INTO produtos (nome, descricao, preco, fornecedor_id) VALUES (?, ?, ?, ?) RETURNING id\n",
      "2024-05-02 18:23:18,853 INFO sqlalchemy.engine.Engine [insertmanyvalues 4/5 (ordered; batch not supported)] ('Produto 4', 'Descrição do Produto 4', 400, 4)\n",
      "2024-05-02 18:23:18,853 INFO sqlalchemy.engine.Engine INSERT INTO produtos (nome, descricao, preco, fornecedor_id) VALUES (?, ?, ?, ?) RETURNING id\n",
      "2024-05-02 18:23:18,854 INFO sqlalchemy.engine.Engine [insertmanyvalues 5/5 (ordered; batch not supported)] ('Produto 5', 'Descrição do Produto 5', 500, 5)\n",
      "2024-05-02 18:23:18,854 INFO sqlalchemy.engine.Engine COMMIT\n",
      "2024-05-02 18:23:18,863 INFO sqlalchemy.engine.Engine BEGIN (implicit)\n",
      "2024-05-02 18:23:18,867 INFO sqlalchemy.engine.Engine SELECT fornecedores.nome AS fornecedores_nome, sum(produtos.preco) AS total_preco \n",
      "FROM fornecedores JOIN produtos ON fornecedores.id = produtos.fornecedor_id GROUP BY fornecedores.nome\n",
      "2024-05-02 18:23:18,868 INFO sqlalchemy.engine.Engine [generated in 0.00026s] ()\n",
      "Fornecedor: Fornecedor A, Total Preço: 100\n",
      "Fornecedor: Fornecedor B, Total Preço: 200\n",
      "Fornecedor: Fornecedor C, Total Preço: 300\n",
      "Fornecedor: Fornecedor D, Total Preço: 400\n",
      "Fornecedor: Fornecedor E, Total Preço: 500\n"
     ]
    }
   ],
   "source": [
    "!python src/main.py"
   ]
  },
  {
   "cell_type": "markdown",
   "id": "4a6a61f8-0f7f-46a2-935b-e2bfa5d90fb7",
   "metadata": {},
   "source": [
    "## Scripts:"
   ]
  },
  {
   "cell_type": "markdown",
   "id": "bc5d0757-4b4b-47cc-b053-65f9cd3ba5e9",
   "metadata": {},
   "source": [
    "### `models.py`"
   ]
  },
  {
   "cell_type": "code",
   "execution_count": 16,
   "id": "488e525f-c038-4ed7-b41e-612a66b708bf",
   "metadata": {},
   "outputs": [
    {
     "name": "stdout",
     "output_type": "stream",
     "text": [
      "Writing src/models.py\n"
     ]
    }
   ],
   "source": [
    "%%writefile src/models.py\n",
    "from sqlalchemy import Column, Integer, String, ForeignKey\n",
    "from sqlalchemy.orm import relationship\n",
    "from sqlalchemy.ext.declarative import declarative_base\n",
    "\n",
    "Base = declarative_base()\n",
    "\n",
    "class Fornecedor(Base):\n",
    "    \"\"\"\n",
    "    Classe que representa a tabela de Fornecedor.\n",
    "\n",
    "    Atributos:\n",
    "        id (int): Identificador único do fornecedor.\n",
    "        nome (str): Nome do fornecedor.\n",
    "        telefone (str): Número de telefone do fornecedor.\n",
    "        email (str): Endereço de e-mail do fornecedor.\n",
    "        endereco (str): Endereço físico do fornecedor.\n",
    "        produtos (list): Lista dos produtos associados ao fornecedor.\n",
    "    \"\"\"\n",
    "    __tablename__ = 'fornecedores'\n",
    "    id = Column(Integer, primary_key=True)\n",
    "    nome = Column(String(50), nullable=False)\n",
    "    telefone = Column(String(20))\n",
    "    email = Column(String(50))\n",
    "    endereco = Column(String(100))\n",
    "    produtos = relationship(\"Produto\")\n",
    "\n",
    "class Produto(Base):\n",
    "    \"\"\"\n",
    "    Classe que representa a tabela de Produto.\n",
    "\n",
    "    Atributos:\n",
    "        id (int): Identificador único do produto.\n",
    "        nome (str): Nome do produto.\n",
    "        descricao (str): Descrição do produto.\n",
    "        preco (int): Preço do produto.\n",
    "        fornecedor_id (int): Chave estrangeira referenciando o fornecedor associado ao produto.\n",
    "        fornecedor (Fornecedor): Relação com o fornecedor associado.\n",
    "    \"\"\"\n",
    "    __tablename__ = 'produtos'\n",
    "    id = Column(Integer, primary_key=True)\n",
    "    nome = Column(String(50), nullable=False)\n",
    "    descricao = Column(String(200))\n",
    "    preco = Column(Integer)\n",
    "    fornecedor_id = Column(Integer, ForeignKey('fornecedores.id'))\n",
    "    fornecedor = relationship(\"Fornecedor\")"
   ]
  },
  {
   "cell_type": "markdown",
   "id": "6ca04326-7a44-4605-ad42-dd2c01944735",
   "metadata": {},
   "source": [
    "### `database.py`"
   ]
  },
  {
   "cell_type": "code",
   "execution_count": 18,
   "id": "62f02e39-7413-4d3d-8e37-239f9cf968f2",
   "metadata": {},
   "outputs": [
    {
     "name": "stdout",
     "output_type": "stream",
     "text": [
      "Writing src/database.py\n"
     ]
    }
   ],
   "source": [
    "%%writefile src/database.py\n",
    "from sqlalchemy import create_engine\n",
    "from sqlalchemy.orm import sessionmaker\n",
    "from models import Base\n",
    "\n",
    "def create_session():\n",
    "    \"\"\"\n",
    "    Função para criar uma sessão do banco de dados.\n",
    "\n",
    "    Retorna:\n",
    "        Session: Objeto de sessão para interagir com o banco de dados.\n",
    "    \"\"\"\n",
    "    engine = create_engine('sqlite:///database/projeto.db', echo=True)\n",
    "    Base.metadata.create_all(engine)\n",
    "    Session = sessionmaker(bind=engine)\n",
    "    return Session()"
   ]
  },
  {
   "cell_type": "markdown",
   "id": "1d31612b-3479-45e4-8dfc-8852cc3bfabb",
   "metadata": {},
   "source": [
    "### `data_insertion.py`"
   ]
  },
  {
   "cell_type": "code",
   "execution_count": 19,
   "id": "4606d859-67b1-46bd-bae7-b2a93853bd80",
   "metadata": {},
   "outputs": [
    {
     "name": "stdout",
     "output_type": "stream",
     "text": [
      "Writing src/data_insertion.py\n"
     ]
    }
   ],
   "source": [
    "%%writefile src/data_insertion.py \n",
    "from sqlalchemy.orm import sessionmaker\n",
    "from models import Fornecedor, Produto\n",
    "from database import create_session\n",
    "\n",
    "def insert_data():\n",
    "    \"\"\"\n",
    "    Função para inserir dados nas tabelas de fornecedor e produto.\n",
    "    \"\"\"\n",
    "    session = create_session()\n",
    "\n",
    "    fornecedores = [\n",
    "        Fornecedor(nome=\"Fornecedor A\", telefone=\"12345678\", email=\"contato@a.com\", endereco=\"Endereço A\"),\n",
    "        Fornecedor(nome=\"Fornecedor B\", telefone=\"87654321\", email=\"contato@b.com\", endereco=\"Endereço B\"),\n",
    "        Fornecedor(nome=\"Fornecedor C\", telefone=\"12348765\", email=\"contato@c.com\", endereco=\"Endereço C\"),\n",
    "        Fornecedor(nome=\"Fornecedor D\", telefone=\"56781234\", email=\"contato@d.com\", endereco=\"Endereço D\"),\n",
    "        Fornecedor(nome=\"Fornecedor E\", telefone=\"43217865\", email=\"contato@e.com\", endereco=\"Endereço E\")\n",
    "    ]\n",
    "\n",
    "    session.add_all(fornecedores)\n",
    "    session.commit()\n",
    "\n",
    "    produtos = [\n",
    "        Produto(nome=\"Produto 1\", descricao=\"Descrição do Produto 1\", preco=100, fornecedor_id=1),\n",
    "        Produto(nome=\"Produto 2\", descricao=\"Descrição do Produto 2\", preco=200, fornecedor_id=2),\n",
    "        Produto(nome=\"Produto 3\", descricao=\"Descrição do Produto 3\", preco=300, fornecedor_id=3),\n",
    "        Produto(nome=\"Produto 4\", descricao=\"Descrição do Produto 4\", preco=400, fornecedor_id=4),\n",
    "        Produto(nome=\"Produto 5\", descricao=\"Descrição do Produto 5\", preco=500, fornecedor_id=5)\n",
    "    ]\n",
    "\n",
    "    session.add_all(produtos)\n",
    "    session.commit()"
   ]
  },
  {
   "cell_type": "markdown",
   "id": "d914d9b5-0569-48ce-a280-89d28308ebae",
   "metadata": {},
   "source": [
    "### `main.py`"
   ]
  },
  {
   "cell_type": "code",
   "execution_count": 23,
   "id": "1b5a5185-d0c3-408c-9742-99b4c649dc6e",
   "metadata": {},
   "outputs": [
    {
     "name": "stdout",
     "output_type": "stream",
     "text": [
      "Overwriting src/main.py\n"
     ]
    }
   ],
   "source": [
    "%%writefile src/main.py\n",
    "from sqlalchemy import func\n",
    "from sqlalchemy.orm import sessionmaker\n",
    "from models import Fornecedor, Produto\n",
    "from database import create_session\n",
    "from data_insertion import insert_data\n",
    "\n",
    "def main():\n",
    "    # Criando uma sessão para interagir com o banco de dados\n",
    "    session = create_session()\n",
    "\n",
    "    # Inserindo dados de exemplo\n",
    "    insert_data()\n",
    "\n",
    "    # Consulta para calcular o total de preço de produtos para cada fornecedor\n",
    "    resultado = session.query(\n",
    "        Fornecedor.nome,\n",
    "        func.sum(Produto.preco).label('total_preco')\n",
    "    ).join(Produto, Fornecedor.id == Produto.fornecedor_id\n",
    "    ).group_by(Fornecedor.nome).all()\n",
    "\n",
    "    # Imprimindo os resultados\n",
    "    for nome, total_preco in resultado:\n",
    "        print(f\"Fornecedor: {nome}, Total Preço: {total_preco}\")\n",
    "\n",
    "if __name__ == \"__main__\":\n",
    "    main()"
   ]
  },
  {
   "cell_type": "markdown",
   "id": "d1861f41-7332-4f26-8b36-b944da88520d",
   "metadata": {},
   "source": [
    "### Conclusão:\n",
    "\n",
    "O conhecimento adquirido neste projeto, especialmente sobre o uso do SQLAlchemy para interagir com bancos de dados relacionais em Python, é fundamental e altamente relevante para profissionais da área de Engenharia de Dados e Ciência de Dados.\n",
    "\n",
    "#### Importância do Conteúdo Aprendido:\n",
    "\n",
    "1. **Integração de Dados:** Em projetos de Engenharia de Dados e Ciência de Dados, é crucial ser capaz de acessar, extrair e manipular dados de diversas fontes. O SQLAlchemy oferece uma maneira eficiente e flexível de trabalhar com bancos de dados relacionais, facilitando a integração de dados em pipelines de processamento.\n",
    "\n",
    "2. **Modelagem de Dados:** Modelar e estruturar os dados de forma adequada é essencial para garantir a qualidade e a eficácia das análises de dados. Com o SQLAlchemy, é possível definir modelos de dados complexos e estabelecer relações entre eles, proporcionando uma base sólida para análises subsequentes.\n",
    "\n",
    "3. **Análise e Visualização de Dados:** Uma vez que os dados estão armazenados e modelados corretamente, é possível realizar análises estatísticas, construir modelos preditivos e criar visualizações informativas para extrair insights valiosos. O SQLAlchemy desempenha um papel fundamental nesse processo, garantindo acesso rápido e eficiente aos dados necessários.\n",
    "\n",
    "#### Impacto Positivo:\n",
    "\n",
    "Dominar o SQLAlchemy e suas práticas recomendadas é essencial para profissionais que desejam causar um impacto positivo na área de Engenharia de Dados e Ciência de Dados. Com essa habilidade, é possível contribuir para o desenvolvimento de soluções mais eficientes, precisas e escaláveis, que impulsionam a tomada de decisões baseada em dados e promovem a inovação em diversos setores da indústria.\n",
    "\n",
    "Portanto, investir no aprendizado e na aplicação do SQLAlchemy é uma escolha estratégica para profissionais que buscam se destacar na área de Engenharia de Dados e Ciência de Dados, e contribuir para o avanço da análise e interpretação de dados em organizações de todo o mundo."
   ]
  }
 ],
 "metadata": {
  "kernelspec": {
   "display_name": "Python 3 (ipykernel)",
   "language": "python",
   "name": "python3"
  },
  "language_info": {
   "codemirror_mode": {
    "name": "ipython",
    "version": 3
   },
   "file_extension": ".py",
   "mimetype": "text/x-python",
   "name": "python",
   "nbconvert_exporter": "python",
   "pygments_lexer": "ipython3",
   "version": "3.10.13"
  }
 },
 "nbformat": 4,
 "nbformat_minor": 5
}
