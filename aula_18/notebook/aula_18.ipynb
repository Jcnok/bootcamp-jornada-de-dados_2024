{
 "cells": [
  {
   "cell_type": "markdown",
   "id": "7b496c4a-7c75-4e24-b193-312c692eff22",
   "metadata": {},
   "source": [
    "# Aula 18"
   ]
  },
  {
   "cell_type": "markdown",
   "id": "1448cb78-d8ab-4bd8-a905-a417906a9510",
   "metadata": {},
   "source": [
    "![png](../img/contract.png)"
   ]
  },
  {
   "cell_type": "markdown",
   "id": "a960028f-cc8b-4370-9383-9db6306be487",
   "metadata": {},
   "source": [
    "## **Desafio: Construção de um Sistema de Coleta de Dados de Pokémons**"
   ]
  },
  {
   "cell_type": "markdown",
   "id": "58d8433a-14ed-47b0-aa75-d1774becc606",
   "metadata": {},
   "source": [
    "**Descrição do Desafio:**\n",
    "\n",
    "Você foi contratado por uma empresa de análise de dados para desenvolver um sistema de coleta de dados de Pokémons. O sistema deve ser capaz de coletar informações sobre Pokémons da API PokeAPI e armazená-las em um banco de dados para análise posterior. \n",
    "\n",
    "O sistema deve atender aos seguintes requisitos:\n",
    "\n",
    "1. **Coleta de Dados**: O sistema deve ser capaz de fazer requisições à API PokeAPI para obter informações sobre Pokémons. As informações a serem coletadas incluem nome, tipo e outras características relevantes.\n",
    "\n",
    "2. **Armazenamento de Dados**: Os dados coletados devem ser armazenados em um banco de dados para posterior análise. O banco de dados deve ser capaz de armazenar informações sobre múltiplos Pokémons e deve ser fácil de consultar e atualizar.\n",
    "\n",
    "3. **Execução Automática**: O sistema deve ser capaz de executar automaticamente a coleta de dados em intervalos regulares, garantindo que as informações estejam sempre atualizadas.\n",
    "\n",
    "4. **Validação de Dados**: O sistema deve validar os dados coletados para garantir que estão completos e consistentes antes de armazená-los no banco de dados.\n",
    "\n",
    "5. **Documentação**: Todo o código desenvolvido deve ser acompanhado de uma documentação clara e detalhada, explicando o funcionamento do sistema, a estrutura do código e como configurar e executar o projeto.\n",
    "\n",
    "**Tecnologias Requeridas:**\n",
    "\n",
    "- Python\n",
    "- SQLAlchemy (para o banco de dados)\n",
    "- Pydantic (para validação de dados)\n",
    "- Requests (para fazer requisições HTTP à API PokeAPI)\n",
    "\n",
    "**Entrega do Desafio:**\n",
    "\n",
    "Você deve desenvolver o sistema de acordo com os requisitos acima e entregá-lo em um repositório Git público. Certifique-se de incluir todas as instruções necessárias para configurar e executar o projeto, bem como a documentação exigida."
   ]
  },
  {
   "cell_type": "markdown",
   "id": "37098960-9f5f-48c0-829d-080395a26bd2",
   "metadata": {},
   "source": [
    "```mermaid\n",
    "classDiagram\n",
    "    class Project {\n",
    "        +src/\n",
    "        +database/\n",
    "        +notebook/\n",
    "        +img/\n",
    "    }\n",
    "    class src {\n",
    "        +controller.py\n",
    "        +db.py\n",
    "        +models.py\n",
    "        +schema.py\n",
    "        +main.py\n",
    "    }\n",
    "    class database {\n",
    "        +pokemon.db\n",
    "    }\n",
    "    class notebook {\n",
    "        +projeto.ipynb\n",
    "    }\n",
    "    class img {\n",
    "        +(imagens utilizadas no projeto)\n",
    "    }\n",
    "\n",
    "    Project --|> src : contains\n",
    "    Project --|> database : contains\n",
    "    Project --|> notebook : contains\n",
    "    Project --|> img : contains\n",
    "```"
   ]
  },
  {
   "cell_type": "markdown",
   "id": "3453a670-dfc3-4a87-b733-7c03a94650c5",
   "metadata": {},
   "source": [
    "### Aqui está uma breve descrição de cada componente:\n",
    "\n",
    "- `src/`: Contém os arquivos de código-fonte do projeto.\n",
    "  - `controller.py`: Implementa a lógica de controle do sistema.\n",
    "  - `db.py`: Gerencia a conexão com o banco de dados e fornece funcionalidades relacionadas ao banco de dados.\n",
    "  - `models.py`: Define os modelos de dados usados no projeto.\n",
    "  - `schema.py`: Define os esquemas de validação para os dados manipulados no projeto.\n",
    "  - `main.py`: Arquivo principal que inicia a execução do projeto.\n",
    "\n",
    "- `database/`: Contém o arquivo do banco de dados SQLite utilizado pelo projeto.\n",
    "\n",
    "- `notebook/`: Contém um Jupyter Notebook que documenta o projeto completo.\n",
    "\n",
    "- `img/`: Contém imagens utilizadas no projeto, se aplicável.\n",
    "\n",
    "## Uso\n",
    "\n",
    "Para executar o projeto, basta rodar o arquivo `main.py` na pasta `src/`.\n"
   ]
  },
  {
   "cell_type": "code",
   "execution_count": 26,
   "id": "35662b04-13f2-4e95-9c28-1abbc472e372",
   "metadata": {},
   "outputs": [
    {
     "name": "stdout",
     "output_type": "stream",
     "text": [
      "Adicionando treecko ao banco de dados.\n",
      "Adicionando persian ao banco de dados.\n",
      "Adicionando pidgeot ao banco de dados.\n",
      "Adicionando spinda ao banco de dados.\n",
      "Adicionando arcanine ao banco de dados.\n",
      "Adicionando shuckle ao banco de dados.\n",
      "Adicionando tauros ao banco de dados.\n",
      "Adicionando milotic ao banco de dados.\n",
      "Adicionando chinchou ao banco de dados.\n",
      "Adicionando tentacruel ao banco de dados.\n",
      "Adicionando poliwhirl ao banco de dados.\n",
      "Adicionando quilava ao banco de dados.\n",
      "Adicionando igglybuff ao banco de dados.\n",
      "Adicionando dodrio ao banco de dados.\n",
      "Adicionando cloyster ao banco de dados.\n",
      "Adicionando ledyba ao banco de dados.\n",
      "Adicionando teddiursa ao banco de dados.\n",
      "Adicionando starmie ao banco de dados.\n",
      "Adicionando lotad ao banco de dados.\n",
      "Adicionando taillow ao banco de dados.\n",
      "Adicionando spinarak ao banco de dados.\n",
      "Adicionando metapod ao banco de dados.\n",
      "Adicionando golduck ao banco de dados.\n",
      "^C\n",
      "Traceback (most recent call last):\n",
      "  File \"/home/jcnok/bootcamps/bootcamp-jornada-de-dados_2024/aula_18/src/main.py\", line 18, in <module>\n",
      "    main()\n",
      "  File \"/home/jcnok/bootcamps/bootcamp-jornada-de-dados_2024/aula_18/src/main.py\", line 15, in main\n",
      "    time.sleep(10)\n",
      "KeyboardInterrupt\n"
     ]
    }
   ],
   "source": [
    "!python src/main.py"
   ]
  },
  {
   "cell_type": "markdown",
   "id": "0d585d1f-27ee-4498-b61c-3fd4a67267fa",
   "metadata": {},
   "source": [
    "## Conclusão\n",
    "\n",
    "O desenvolvimento deste projeto proporcionou uma experiência valiosa no mundo do desenvolvimento de software, especialmente no contexto de projetos de coleta e armazenamento de dados. Ao longo do processo, aprendemos a trabalhar com diversas tecnologias e conceitos importantes, incluindo a integração com APIs externas, o uso de bancos de dados relacionais, a definição de modelos de dados e esquemas de validação, entre outros.\n",
    "\n",
    "Essas habilidades são essenciais para a construção de projetos reais, onde a coleta, processamento e armazenamento de dados são componentes críticos. Por exemplo, em aplicações de análise de dados, sistemas de recomendação, aplicações web e muitos outros cenários, é comum a necessidade de integrar-se com APIs externas para obter dados atualizados e relevantes.\n",
    "\n",
    "Além disso, a capacidade de estruturar e organizar um projeto de forma eficiente, seguindo padrões de arquitetura como o MVC, é fundamental para garantir a manutenibilidade, escalabilidade e extensibilidade do código ao longo do tempo. A modularidade e a clareza do código resultantes da aplicação desses padrões facilitam a colaboração em equipe e o desenvolvimento de novas funcionalidades.\n",
    "\n",
    "Portanto, o conteúdo aprendido neste projeto é de extrema importância para projetos reais, pois proporciona as habilidades e o conhecimento necessários para enfrentar os desafios do desenvolvimento de software de forma eficaz e profissional. Ao dominar esses conceitos e tecnologias, estamos preparados para enfrentar uma ampla gama de projetos e contribuir para o sucesso de equipes e organizações em diversos contextos."
   ]
  },
  {
   "cell_type": "markdown",
   "id": "499630c3-a14e-4ca4-98ae-38b422713db4",
   "metadata": {},
   "source": [
    "## Passo a Passo do desenvolvimento:"
   ]
  },
  {
   "cell_type": "markdown",
   "id": "6974f896-fd14-40af-8301-af3fd05ece02",
   "metadata": {},
   "source": [
    "## Setando a raiz do projeto:"
   ]
  },
  {
   "cell_type": "code",
   "execution_count": 2,
   "id": "83a8c043-3147-44ed-b871-c9d448c9c40f",
   "metadata": {},
   "outputs": [],
   "source": [
    "import os \n",
    "os.getcwd()\n",
    "os.chdir(\"/home/jcnok/bootcamps/bootcamp-jornada-de-dados_2024/aula_18\")"
   ]
  },
  {
   "cell_type": "markdown",
   "id": "5041b5ff-8e01-46cb-8e14-c23ed00078db",
   "metadata": {},
   "source": [
    "## Scripts:"
   ]
  },
  {
   "cell_type": "markdown",
   "id": "6b2646bf-58c3-4c28-addf-7960fce44e98",
   "metadata": {},
   "source": [
    "### `models.py`"
   ]
  },
  {
   "cell_type": "code",
   "execution_count": 15,
   "id": "c4302fb9-1929-49ec-813a-54baf48d6a63",
   "metadata": {},
   "outputs": [
    {
     "name": "stdout",
     "output_type": "stream",
     "text": [
      "Writing src/models.py\n"
     ]
    }
   ],
   "source": [
    "%%writefile src/models.py\n",
    "from sqlalchemy import Column, Integer, String, DateTime\n",
    "from sqlalchemy.sql import func\n",
    "from db import Base\n",
    "\n",
    "class Pokemon(Base):\n",
    "    \"\"\"Modelo para representar os dados de um Pokémon.\"\"\"\n",
    "    __tablename__ = 'pokemons'\n",
    "\n",
    "    id = Column(Integer, primary_key=True, index=True)\n",
    "    name = Column(String, doc=\"O nome do Pokémon.\")\n",
    "    type = Column(String, doc=\"O tipo do Pokémon.\")\n",
    "    created_at = Column(DateTime, default=func.now(), doc=\"O timestamp de quando o registro foi criado.\")\n"
   ]
  },
  {
   "cell_type": "markdown",
   "id": "c64b08da-14bd-432d-a1fc-26ffffc83083",
   "metadata": {},
   "source": [
    "### `db.py`:"
   ]
  },
  {
   "cell_type": "code",
   "execution_count": 17,
   "id": "a2c12c1f-0a86-4437-8d80-5d7a565a3f11",
   "metadata": {},
   "outputs": [
    {
     "name": "stdout",
     "output_type": "stream",
     "text": [
      "Writing src/db.py\n"
     ]
    }
   ],
   "source": [
    "%%writefile src/db.py\n",
    "from sqlalchemy import create_engine\n",
    "from sqlalchemy.ext.declarative import declarative_base\n",
    "from sqlalchemy.orm import sessionmaker\n",
    "\n",
    "# URL do banco de dados SQLite\n",
    "SQLALCHEMY_DATABASE_URL = \"sqlite:///database/pokemon.db\"\n",
    "\n",
    "# Cria o engine para o banco de dados\n",
    "engine = create_engine(SQLALCHEMY_DATABASE_URL)\n",
    "\n",
    "# Cria uma sessão local para interagir com o banco de dados\n",
    "SessionLocal = sessionmaker(autocommit=False, autoflush=False, bind=engine)\n",
    "\n",
    "# Cria a base declarativa para definir os modelos de dados\n",
    "Base = declarative_base()"
   ]
  },
  {
   "cell_type": "markdown",
   "id": "bd9639f8-297f-4c1c-9772-630700ad096c",
   "metadata": {},
   "source": [
    "### `schema.py`:"
   ]
  },
  {
   "cell_type": "code",
   "execution_count": 25,
   "id": "11900100-070e-48b0-9cd7-668917169cac",
   "metadata": {},
   "outputs": [
    {
     "name": "stdout",
     "output_type": "stream",
     "text": [
      "Overwriting src/schema.py\n"
     ]
    }
   ],
   "source": [
    "%%writefile src/schema.py\n",
    "from pydantic import BaseModel\n",
    "\n",
    "class PokemonSchema(BaseModel):\n",
    "    \"\"\"Esquema Pydantic para representar os dados de um Pokémon.\"\"\"\n",
    "    name: str\n",
    "    type: str\n",
    "\n",
    "    class Config:\n",
    "        \"\"\"Configuração do esquema Pydantic.\"\"\"\n",
    "        from_attributes = True"
   ]
  },
  {
   "cell_type": "markdown",
   "id": "60f89420-e5a0-4a64-a9e9-ea0810e0952a",
   "metadata": {},
   "source": [
    "### `controler.py`:"
   ]
  },
  {
   "cell_type": "code",
   "execution_count": 20,
   "id": "e5370d9a-3bed-404f-aec2-b640d65d6151",
   "metadata": {},
   "outputs": [
    {
     "name": "stdout",
     "output_type": "stream",
     "text": [
      "Overwriting src/controler.py\n"
     ]
    }
   ],
   "source": [
    "%%writefile src/controler.py\n",
    "import requests\n",
    "from db import SessionLocal, engine, Base\n",
    "from models import Pokemon\n",
    "from schema import PokemonSchema\n",
    "\n",
    "# Cria as tabelas no banco de dados, se ainda não existirem\n",
    "Base.metadata.create_all(bind=engine)\n",
    "\n",
    "def fetch_pokemon_data(pokemon_id: int):\n",
    "    \"\"\"Função para buscar os dados de um Pokémon da API.\"\"\"\n",
    "    response = requests.get(f\"https://pokeapi.co/api/v2/pokemon/{pokemon_id}\")\n",
    "    if response.status_code == 200:\n",
    "        data = response.json()\n",
    "        types = ', '.join(type['type']['name'] for type in data['types'])\n",
    "        return PokemonSchema(name=data['name'], type=types)\n",
    "    else:\n",
    "        return None\n",
    "\n",
    "def add_pokemon_to_db(pokemon_schema: PokemonSchema) -> Pokemon:\n",
    "    \"\"\"Função para adicionar os dados de um Pokémon ao banco de dados.\"\"\"\n",
    "    with SessionLocal() as db:\n",
    "        db_pokemon = Pokemon(name=pokemon_schema.name, type=pokemon_schema.type)\n",
    "        db.add(db_pokemon)\n",
    "        db.commit()\n",
    "        db.refresh(db_pokemon)\n",
    "    return db_pokemon"
   ]
  },
  {
   "cell_type": "markdown",
   "id": "23fc0b1d-0eb8-46cc-9511-66fa4e37c59f",
   "metadata": {},
   "source": [
    "### `main.py`:"
   ]
  },
  {
   "cell_type": "code",
   "execution_count": 23,
   "id": "cc935e59-216c-42fb-a61b-4d428499bc77",
   "metadata": {},
   "outputs": [
    {
     "name": "stdout",
     "output_type": "stream",
     "text": [
      "Overwriting src/main.py\n"
     ]
    }
   ],
   "source": [
    "%%writefile src/main.py\n",
    "import time\n",
    "import random\n",
    "from controler import fetch_pokemon_data, add_pokemon_to_db\n",
    "\n",
    "def main():\n",
    "    \"\"\"Função principal para iniciar a coleta de dados dos Pokémon.\"\"\"\n",
    "    while True:\n",
    "        pokemon_id = random.randint(1, 350)  # Gera um ID aleatório entre 1 e 350\n",
    "        pokemon_schema = fetch_pokemon_data(pokemon_id)\n",
    "        if pokemon_schema:\n",
    "            print(f\"Adicionando {pokemon_schema.name} ao banco de dados.\")\n",
    "            add_pokemon_to_db(pokemon_schema)\n",
    "        else:\n",
    "            print(f\"Não foi possível obter dados para o Pokémon com ID {pokemon_id}.\")\n",
    "        time.sleep(10)\n",
    "\n",
    "if __name__ == \"__main__\":\n",
    "    main()"
   ]
  },
  {
   "cell_type": "code",
   "execution_count": null,
   "id": "d32d76a4-8b6f-4b8c-ae2e-4c4e4440a247",
   "metadata": {},
   "outputs": [],
   "source": []
  }
 ],
 "metadata": {
  "kernelspec": {
   "display_name": "Python 3 (ipykernel)",
   "language": "python",
   "name": "python3"
  },
  "language_info": {
   "codemirror_mode": {
    "name": "ipython",
    "version": 3
   },
   "file_extension": ".py",
   "mimetype": "text/x-python",
   "name": "python",
   "nbconvert_exporter": "python",
   "pygments_lexer": "ipython3",
   "version": "3.10.13"
  }
 },
 "nbformat": 4,
 "nbformat_minor": 5
}
