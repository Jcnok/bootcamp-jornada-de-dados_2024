{
 "cells": [
  {
   "cell_type": "markdown",
   "id": "7b496c4a-7c75-4e24-b193-312c692eff22",
   "metadata": {},
   "source": [
    "# Aula 18"
   ]
  },
  {
   "cell_type": "markdown",
   "id": "6974f896-fd14-40af-8301-af3fd05ece02",
   "metadata": {},
   "source": [
    "## Setando a raiz do projeto:"
   ]
  },
  {
   "cell_type": "code",
   "execution_count": 2,
   "id": "83a8c043-3147-44ed-b871-c9d448c9c40f",
   "metadata": {},
   "outputs": [],
   "source": [
    "import os \n",
    "os.getcwd()\n",
    "os.chdir(\"/home/jcnok/bootcamps/bootcamp-jornada-de-dados_2024/aula_18\")"
   ]
  },
  {
   "cell_type": "code",
   "execution_count": null,
   "id": "f2163897-5db0-4c8c-8b76-cfa448ad5932",
   "metadata": {},
   "outputs": [],
   "source": []
  }
 ],
 "metadata": {
  "kernelspec": {
   "display_name": "Python 3 (ipykernel)",
   "language": "python",
   "name": "python3"
  },
  "language_info": {
   "codemirror_mode": {
    "name": "ipython",
    "version": 3
   },
   "file_extension": ".py",
   "mimetype": "text/x-python",
   "name": "python",
   "nbconvert_exporter": "python",
   "pygments_lexer": "ipython3",
   "version": "3.10.13"
  }
 },
 "nbformat": 4,
 "nbformat_minor": 5
}
