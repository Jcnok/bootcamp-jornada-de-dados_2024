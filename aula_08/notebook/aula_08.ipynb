{
 "cells": [
  {
   "cell_type": "markdown",
   "id": "7bb7cd84-4631-4d4f-9dc8-95f158034ba7",
   "metadata": {},
   "source": [
    "# Funções em Python - ETL com Pandas, JSON e Parquet"
   ]
  },
  {
   "cell_type": "markdown",
   "id": "b447c312-6fb7-45b9-a842-3c9f46f24fb3",
   "metadata": {},
   "source": [
    "Para realizar uma ETL (Extract, Transform, Load) simples utilizando Python e a biblioteca Pandas, vamos seguir os seguintes passos:\n",
    "\n",
    "Extract: Ler os dados de um arquivo JSON.\n",
    "\n",
    "Transform: Concatenar os dados extraídos em um único DataFrame e aplicar uma transformação. A transformação específica dependerá dos dados, mas vamos assumir uma operação simples como um exemplo.\n",
    "\n",
    "Load: Salvar o DataFrame resultante em um arquivo CSV ou PARQUET."
   ]
  },
  {
   "cell_type": "markdown",
   "id": "84f12bbe-4c6f-4ab5-8245-48d85331a7ea",
   "metadata": {},
   "source": [
    "## Selecionando a raiz do projeto:"
   ]
  },
  {
   "cell_type": "code",
   "execution_count": 3,
   "id": "a1fe0773-7b73-49ce-94b2-8e4e8ce2c346",
   "metadata": {},
   "outputs": [
    {
     "data": {
      "text/plain": [
       "'/home/jcnok/bootcamps/bootcamp-jornada-de-dados_2024/aula_08'"
      ]
     },
     "execution_count": 3,
     "metadata": {},
     "output_type": "execute_result"
    }
   ],
   "source": [
    "import os \n",
    "os.getcwd()\n",
    "os.chdir('/home/jcnok/bootcamps/bootcamp-jornada-de-dados_2024/aula_08')\n",
    "os.getcwd()"
   ]
  },
  {
   "cell_type": "markdown",
   "id": "e3ff8fbb-c333-409b-830c-bcfb28598ef1",
   "metadata": {},
   "source": [
    "## Loguru: Simplificando o Registro em Python\n"
   ]
  },
  {
   "cell_type": "markdown",
   "id": "37a64ed3-3c3e-457c-bcae-b6fcae7cd8b6",
   "metadata": {},
   "source": [
    "O Loguru é uma biblioteca de registro (logging) para Python que simplifica bastante o processo de registro de mensagens de registro (logs) em aplicativos Python. Ele oferece uma API fácil de usar e poderosa para configurar e gerenciar logs em seus projetos.\n",
    "\n",
    "### Principais Características\n",
    "\n",
    "1. **API Simples**: O Loguru oferece uma API muito simples e intuitiva para registro de mensagens. Você pode facilmente configurar o registro com apenas algumas linhas de código.\n",
    "\n",
    "2. **Níveis de Log Personalizáveis**: Ele fornece vários níveis de log predefinidos (por exemplo, DEBUG, INFO, WARNING, ERROR, etc.) e também permite a definição de níveis de log personalizados conforme necessário.\n",
    "\n",
    "3. **Formatação Flexível**: Você pode personalizar facilmente o formato das mensagens de log de acordo com suas necessidades. O Loguru oferece suporte a formatação de mensagem flexível e extensível.\n",
    "\n",
    "4. **Suporte a Threads e Processos**: Loguru lida automaticamente com problemas de concorrência em aplicativos que usam várias threads ou processos, garantindo que as mensagens de log sejam registradas corretamente e sem conflitos.\n",
    "\n",
    "5. **Integração com Outras Ferramentas**: Ele se integra facilmente com outras ferramentas e bibliotecas, como Flask, Django, e outras ferramentas populares de registro em Python.\n",
    "\n",
    "### Conclusão\n",
    "\n",
    "O Loguru simplifica o processo de registro de mensagens de log em aplicativos Python, oferecendo uma API fácil de usar, flexibilidade na formatação de mensagens e uma série de recursos úteis para gerenciamento eficaz de logs. É uma escolha popular entre os desenvolvedores Python devido à sua simplicidade e poder.\n"
   ]
  },
  {
   "cell_type": "markdown",
   "id": "98418781-40c7-4c51-9aa3-43f20ec3b807",
   "metadata": {},
   "source": [
    "### O que é Logging?\n",
    "\n",
    "Logging é o processo de gravar mensagens que documentam os eventos que ocorrem durante a execução de um software. Essas mensagens podem indicar progresso da execução, falhas, erros, ou outras informações úteis. O logging é crucial para desenvolvimento e manutenção de software, pois permite aos desenvolvedores e administradores de sistema entender o que o aplicativo está fazendo, diagnosticar problemas e monitorar o desempenho em produção.\n"
   ]
  },
  {
   "cell_type": "markdown",
   "id": "43fd09bc-3b0a-46e0-942e-36b8cf466fca",
   "metadata": {},
   "source": [
    "### Instalação:"
   ]
  },
  {
   "cell_type": "code",
   "execution_count": 4,
   "id": "d82727f1-e9d7-4fd9-bcd3-db6283b2dc6f",
   "metadata": {},
   "outputs": [],
   "source": [
    "!poetry add loguru -q"
   ]
  },
  {
   "cell_type": "markdown",
   "id": "0a628938-643c-42ec-b87a-bc9a6f131334",
   "metadata": {},
   "source": [
    "### Como usar:"
   ]
  },
  {
   "cell_type": "markdown",
   "id": "6d259785-9536-4b39-8c90-b98429f14927",
   "metadata": {},
   "source": [
    "* **Configuração Básica e Registro de Mensagens Simples:**"
   ]
  },
  {
   "cell_type": "code",
   "execution_count": null,
   "id": "eeb2acaa-69f7-44e8-bef8-3899f99d78ce",
   "metadata": {},
   "outputs": [],
   "source": [
    "from loguru import logger\n",
    "\n",
    "# Configuração básica\n",
    "logger.add(\"app.log\", rotation=\"500 MB\", level=\"INFO\")\n",
    "\n",
    "# Exemplos de registro de mensagens\n",
    "logger.debug(\"Esta é uma mensagem de depuração\")\n",
    "logger.info(\"Esta é uma mensagem informativa\")\n",
    "logger.warning(\"Esta é uma mensagem de aviso\")\n",
    "logger.error(\"Esta é uma mensagem de erro\")\n",
    "logger.critical(\"Esta é uma mensagem crítica\")\n"
   ]
  },
  {
   "cell_type": "markdown",
   "id": "bddae0bb-aff5-4fb2-9310-8c21ef7b89bf",
   "metadata": {},
   "source": [
    "![img](../img/loguru_basic.png)"
   ]
  },
  {
   "cell_type": "markdown",
   "id": "7a55867e-22db-441b-aab9-70ae5f3f4096",
   "metadata": {},
   "source": [
    "* **Personalizando o formato das mensagens:**"
   ]
  },
  {
   "cell_type": "code",
   "execution_count": null,
   "id": "f0b4852f-1bb3-4b27-b3ad-c016d0ad65a6",
   "metadata": {},
   "outputs": [],
   "source": [
    "from loguru import logger\n",
    "\n",
    "# Configuração com formato personalizado\n",
    "logger.add(\"app.log\", format=\"{time} - {level} - {message}\", level=\"INFO\")\n",
    "\n",
    "# Exemplo de registro de mensagem com contexto\n",
    "logger.info(\"Usuário {user} fez login\", user=\"Julio Okuda\")"
   ]
  },
  {
   "cell_type": "markdown",
   "id": "de5f54c7-69b7-46c1-bbb0-2e61513971d7",
   "metadata": {},
   "source": [
    "![img](../img/personalize_loguru.png)"
   ]
  },
  {
   "cell_type": "markdown",
   "id": "87e4dfdf-b1bc-4ad9-9e7b-b6595d821dfc",
   "metadata": {},
   "source": [
    "* **Tratamento de exceções**"
   ]
  },
  {
   "cell_type": "code",
   "execution_count": null,
   "id": "a9b4d082-877d-4ccf-a44a-dcc69dd03838",
   "metadata": {},
   "outputs": [],
   "source": [
    "from loguru import logger\n",
    "\n",
    "try:\n",
    "    # Algum código que pode gerar uma exceção\n",
    "    resultado = 1 / 0\n",
    "except Exception as e:\n",
    "    # Registro da exceção com o método exception()\n",
    "    logger.exception(\"Ocorreu um erro inesperado: {exception}\", exception=str(e))\n"
   ]
  },
  {
   "cell_type": "markdown",
   "id": "c3929615-5054-4eb8-9b96-0c5f03982e18",
   "metadata": {},
   "source": [
    "![img](../img/exception.png)"
   ]
  },
  {
   "cell_type": "markdown",
   "id": "38978572-b9bc-4c42-890e-53b88c01eb31",
   "metadata": {},
   "source": [
    "Usando logger.exception(), Loguru automaticamente captura e loga o traceback da exceção, o que é extremamente útil para diagnóstico de erros."
   ]
  },
  {
   "cell_type": "markdown",
   "id": "d038cf6c-345a-439e-a2a8-704cda86554e",
   "metadata": {},
   "source": [
    "* **Vamos criar um decorador utilizando o Loguru para adicionar automaticamente logs a qualquer função Python. Isso nos permite registrar automaticamente quando uma função é chamada e quando ela termina, junto com qualquer informação relevante, como argumentos da função e o resultado retornado (ou exceção lançada).**\n",
    "\n",
    "* **Agora, vamos ao código do decorador:**"
   ]
  },
  {
   "cell_type": "code",
   "execution_count": 15,
   "id": "bf7900ee-7aa5-4dbd-ad5f-e19d72f73df6",
   "metadata": {},
   "outputs": [],
   "source": [
    "from loguru import logger\n",
    "\n",
    "def log_decorator(func):\n",
    "    \"\"\"\n",
    "    Decorador para registro de chamadas de função com o Loguru.\n",
    "\n",
    "    Args:\n",
    "        func (callable): Função a ser decorada.\n",
    "\n",
    "    Returns:\n",
    "        callable: Função decorada.\n",
    "    \"\"\"\n",
    "    def wrapper(*args, **kwargs):\n",
    "        \"\"\"\n",
    "        Função interna que envolve a função original e realiza o registro.\n",
    "\n",
    "        Args:\n",
    "            *args: Argumentos posicionais passados para a função.\n",
    "            **kwargs: Argumentos de palavras-chave passados para a função.\n",
    "\n",
    "        Returns:\n",
    "            Qualquer: Resultado da função original.\n",
    "\n",
    "        Raises:\n",
    "            Exception: Se a função original lançar uma exceção.\n",
    "        \"\"\"\n",
    "        # Registra a chamada da função com os argumentos e palavras-chave\n",
    "        logger.info(f\"Chamando '{func.__name__}' com {args} e {kwargs}\")\n",
    "        \n",
    "        try:\n",
    "            # Chama a função original e captura o resultado\n",
    "            result = func(*args, **kwargs)\n",
    "            # Registra o retorno da função\n",
    "            logger.info(f\"'{func.__name__}' retornou {result}\")\n",
    "            return result\n",
    "        except Exception as e:\n",
    "            # Registra a exceção se a função original lançar uma exceção\n",
    "            logger.exception(f\"'{func.__name__}' lançou uma exceção: {e}\")\n",
    "            # Propaga a exceção para cima na cadeia de chamadas\n",
    "            raise\n",
    "    \n",
    "    return wrapper\n"
   ]
  },
  {
   "cell_type": "markdown",
   "id": "8ec4bd16-77ca-410d-84f8-121a105217a8",
   "metadata": {},
   "source": [
    "### Uso e Execução do Decorador de Registro com Loguru\n",
    "\n",
    "O decorador `log_decorator` é uma ferramenta útil para registrar chamadas de função em aplicativos Python usando a biblioteca Loguru. Este decorador pode ser aplicado a qualquer função para automatizar o registro de suas chamadas e resultados.\n",
    "\n",
    "#### Como Usar o Decorador\n",
    "\n",
    "Para usar o decorador `log_decorator`, siga estas etapas:\n",
    "\n",
    "1. **Importe o Decorador**: Importe o decorador `log_decorator` de onde ele estiver definido no seu código.\n",
    "\n",
    "2. **Aplique o Decorador**: Aplique o decorador `log_decorator` à função que deseja registrar. Por exemplo:\n",
    "\n",
    "    ```python\n",
    "    @log_decorator\n",
    "    def minha_funcao(parametro):\n",
    "        # Corpo da função\n",
    "        pass\n",
    "    ```\n",
    "\n",
    "    Isso irá decorar a função `minha_funcao` com o decorador de registro, permitindo que todas as suas chamadas sejam registradas automaticamente.\n",
    "\n",
    "#### Execução do Decorador\n",
    "\n",
    "Quando uma função decorada com `log_decorator` é chamada, o decorador entra em ação:\n",
    "\n",
    "1. **Registro de Chamada**: O decorador registra a chamada da função, incluindo os argumentos passados.\n",
    "\n",
    "2. **Execução da Função Original**: O decorador chama a função original com os argumentos fornecidos.\n",
    "\n",
    "3. **Registro de Resultado**: Se a função for executada com sucesso, o decorador registra o resultado retornado.\n",
    "\n",
    "4. **Gestão de Exceções**: Se a função lançar uma exceção durante a execução, o decorador registra a exceção e a propaga para cima na cadeia de chamadas.\n"
   ]
  },
  {
   "cell_type": "markdown",
   "id": "90fed6ce-1be5-4580-98ee-e2cc3885a152",
   "metadata": {},
   "source": [
    "### Como Utilizar o Decorador\n",
    "\n",
    "Agora, veja como aplicar o `log_decorator` a uma função:"
   ]
  },
  {
   "cell_type": "code",
   "execution_count": null,
   "id": "ac077bb9-8d96-4bf8-a673-65ab050164ed",
   "metadata": {},
   "outputs": [],
   "source": [
    "@log_decorator\n",
    "def soma(a, b):\n",
    "    return a + b\n",
    "\n",
    "@log_decorator\n",
    "def falha():\n",
    "    raise ValueError(\"Um erro intencional\")\n",
    "\n",
    "# Testando as funções decoradas\n",
    "soma(5, 3)  # Isso irá logar a chamada e o retorno\n",
    "try:\n",
    "    falha()  # Isso irá logar a chamada e a exceção\n",
    "except ValueError:\n",
    "    pass  # Ignora a exceção para fins de demonstração"
   ]
  },
  {
   "cell_type": "markdown",
   "id": "be0014e6-7baa-496b-ad41-aadc2eaa0433",
   "metadata": {},
   "source": [
    "Ao decorar as funções `soma` e `falha` com `@log_decorator`, automaticamente logamos a entrada e saída (ou exceção) dessas funções sem alterar o corpo delas. Isso é especialmente útil para debugar, monitorar a performance de aplicações ou simplesmente manter um registro de quais funções estão sendo chamadas e com quais argumentos.\n",
    "\n"
   ]
  },
  {
   "cell_type": "markdown",
   "id": "5beb9474-01a9-49f1-b950-fbadafa35753",
   "metadata": {},
   "source": [
    "#### Benefícios do Uso de Decoradores com Loguru\n"
   ]
  },
  {
   "cell_type": "markdown",
   "id": "19b117d9-9cfd-4915-bd3e-def28b5b373f",
   "metadata": {},
   "source": [
    "O uso de decoradores em conjunto com o Loguru fornece uma abordagem elegante e poderosa para adicionar logs a aplicações Python. Sem a necessidade de modificar o corpo da função, podemos facilmente adicionar funcionalidades de logging, o que torna o código mais limpo, mantém a separação de preocupações e facilita a manutenção e o debugging.\n",
    "\n",
    "Além disso, ao centralizar a lógica de logging no decorador, promovemos a reutilização de código e garantimos uma forma consistente de logar informações através de diferentes partes de uma aplicação.\n"
   ]
  },
  {
   "cell_type": "markdown",
   "id": "0f70aaff-0bc6-48aa-b166-a2566fb35f37",
   "metadata": {},
   "source": [
    "### Conclusão\n"
   ]
  },
  {
   "cell_type": "markdown",
   "id": "f710bab1-303c-448a-8804-5e4ec9a889ba",
   "metadata": {},
   "source": [
    "O Loguru oferece uma abordagem moderna e conveniente para logging em Python, simplificando muitos aspectos que requerem configuração manual detalhada com o módulo de logging padrão do Python. Seja para desenvolvimento, depuração ou produção, adicionar logging ao seu aplicativo com Loguru pode melhorar significativamente a visibilidade e a capacidade de diagnóstico do seu código.\n"
   ]
  },
  {
   "cell_type": "markdown",
   "id": "6197c6e1-4a42-4ff2-9362-074caf520144",
   "metadata": {},
   "source": [
    "### Desafio"
   ]
  },
  {
   "cell_type": "markdown",
   "id": "c750b76d-1056-4dcf-95ea-d7db4a191850",
   "metadata": {},
   "source": [
    "![img](../img/pic_05.png)"
   ]
  },
  {
   "cell_type": "code",
   "execution_count": 27,
   "id": "370f825c-f46a-4340-877f-f7bcae0dc9e4",
   "metadata": {},
   "outputs": [
    {
     "name": "stdout",
     "output_type": "stream",
     "text": [
      "DataFrame salvo em 'data/process/dados_processados.csv'\n"
     ]
    }
   ],
   "source": [
    "import os\n",
    "import pandas as pd \n",
    "import glob \n",
    "\n",
    "def ler_arquivos_json(path_origin):\n",
    "    caminho_arquivos = os.path.join(path_origin, '*.json')\n",
    "    arquivos_json = glob.glob(caminho_arquivos)\n",
    "    if not arquivos_json:\n",
    "        raise ValueError(\"Nenhum arquivo JSON encontrado na pasta especificada.\")\n",
    "    dfs = [pd.read_json(arquivo) for arquivo in arquivos_json]\n",
    "    return pd.concat(dfs, ignore_index=False)\n",
    "\n",
    "# Função de transformação: adiciona uma nova coluna 'Receita' ao DataFrame\n",
    "def transformar_dataframe(df):\n",
    "    df['Receita'] = df['Quantidade'] * df['Venda']\n",
    "    return df\n",
    "\n",
    "# Função de carregamento: salva o DataFrame em CSV ou Parquet, dependendo do formato especificado\n",
    "def carregar_dataframe(df, path_to_save, format_to_save):         \n",
    "    \n",
    "    for formato in format_to_save:\n",
    "        if formato.lower() == 'csv':\n",
    "            caminho_salvar_csv = path_to_save + '.csv'\n",
    "            df.to_csv(caminho_salvar_csv, index=False)\n",
    "            print(f\"DataFrame salvo em '{caminho_salvar_csv}'\")\n",
    "        elif formato.lower() == 'parquet':\n",
    "            caminho_salvar_parquet = path_to_save + '.parquet'\n",
    "            df.to_parquet(caminho_salvar_parquet, index=False)\n",
    "            print(f\"DataFrame salvo em '{caminho_salvar_parquet}'\")\n",
    "        else:\n",
    "            raise ValueError(\"Formato especificado não suportado. Use 'csv' ou 'parquet'.\")\n",
    "\n",
    "\n",
    "# Função principal\n",
    "def pipeline(path_origin, path_to_save, format_to_save):\n",
    "    # Etapa de extração\n",
    "    df = ler_arquivos_json(path_origin)\n",
    "    \n",
    "    # Etapa de transformação\n",
    "    df = transformar_dataframe(df)\n",
    "    \n",
    "    # Etapa de carregamento\n",
    "    carregar_dataframe(df, path_to_save, format_to_save)\n",
    "\n",
    "if __name__ == \"__main__\":\n",
    "    # Define a pasta de origem dos arquivos JSON e o formato de destino ('csv' ou 'parquet')\n",
    "    path_to_save = 'data/process/dados_processados'\n",
    "    path_origin = 'data/'\n",
    "    format_to_save = ['csv']  # ou 'parquet'\n",
    "    \n",
    "    # Executa o processo de ETL\n",
    "    pipeline(path_origin, path_to_save, format_to_save)\n"
   ]
  },
  {
   "cell_type": "code",
   "execution_count": 22,
   "id": "ae6a554f-1dde-41fe-bd3c-7cd7b053b7ea",
   "metadata": {},
   "outputs": [],
   "source": [
    "import pandas as pd \n",
    "import glob \n",
    "def ler_arquivos_json(pasta):\n",
    "    caminho_arquivos = os.path.join(pasta, '*.json')\n",
    "    arquivos_json = glob.glob(caminho_arquivos)\n",
    "    if not arquivos_json:\n",
    "        raise ValueError(\"Nenhum arquivo JSON encontrado na pasta especificada.\")\n",
    "    dfs = [pd.read_json(arquivo) for arquivo in arquivos_json]\n",
    "    return pd.concat(dfs, ignore_index=False)"
   ]
  },
  {
   "cell_type": "code",
   "execution_count": 23,
   "id": "776c6592-fd6d-4780-98cd-672113b8400e",
   "metadata": {},
   "outputs": [
    {
     "data": {
      "text/html": [
       "<div>\n",
       "<style scoped>\n",
       "    .dataframe tbody tr th:only-of-type {\n",
       "        vertical-align: middle;\n",
       "    }\n",
       "\n",
       "    .dataframe tbody tr th {\n",
       "        vertical-align: top;\n",
       "    }\n",
       "\n",
       "    .dataframe thead th {\n",
       "        text-align: right;\n",
       "    }\n",
       "</style>\n",
       "<table border=\"1\" class=\"dataframe\">\n",
       "  <thead>\n",
       "    <tr style=\"text-align: right;\">\n",
       "      <th></th>\n",
       "      <th>Produto</th>\n",
       "      <th>Categoria</th>\n",
       "      <th>Quantidade</th>\n",
       "      <th>Venda</th>\n",
       "      <th>Data</th>\n",
       "    </tr>\n",
       "  </thead>\n",
       "  <tbody>\n",
       "    <tr>\n",
       "      <th>0</th>\n",
       "      <td>Notebook Gamer</td>\n",
       "      <td>Eletrônicos</td>\n",
       "      <td>3</td>\n",
       "      <td>1500</td>\n",
       "      <td>2023-01-15</td>\n",
       "    </tr>\n",
       "    <tr>\n",
       "      <th>1</th>\n",
       "      <td>Mouse Sem Fio</td>\n",
       "      <td>Eletrônicos</td>\n",
       "      <td>10</td>\n",
       "      <td>30</td>\n",
       "      <td>2023-01-15</td>\n",
       "    </tr>\n",
       "    <tr>\n",
       "      <th>2</th>\n",
       "      <td>Teclado Mecânico</td>\n",
       "      <td>Eletrônicos</td>\n",
       "      <td>5</td>\n",
       "      <td>100</td>\n",
       "      <td>2023-01-15</td>\n",
       "    </tr>\n",
       "    <tr>\n",
       "      <th>0</th>\n",
       "      <td>Notebook Gamer</td>\n",
       "      <td>Eletrônicos</td>\n",
       "      <td>2</td>\n",
       "      <td>1500</td>\n",
       "      <td>2023-01-17</td>\n",
       "    </tr>\n",
       "    <tr>\n",
       "      <th>1</th>\n",
       "      <td>Mouse Sem Fio</td>\n",
       "      <td>Eletrônicos</td>\n",
       "      <td>14</td>\n",
       "      <td>30</td>\n",
       "      <td>2023-01-17</td>\n",
       "    </tr>\n",
       "    <tr>\n",
       "      <th>2</th>\n",
       "      <td>Teclado Mecânico</td>\n",
       "      <td>Eletrônicos</td>\n",
       "      <td>2</td>\n",
       "      <td>100</td>\n",
       "      <td>2023-01-17</td>\n",
       "    </tr>\n",
       "    <tr>\n",
       "      <th>0</th>\n",
       "      <td>Notebook Gamer</td>\n",
       "      <td>Eletrônicos</td>\n",
       "      <td>7</td>\n",
       "      <td>1500</td>\n",
       "      <td>2023-01-16</td>\n",
       "    </tr>\n",
       "    <tr>\n",
       "      <th>1</th>\n",
       "      <td>Mouse Sem Fio</td>\n",
       "      <td>Eletrônicos</td>\n",
       "      <td>10</td>\n",
       "      <td>30</td>\n",
       "      <td>2023-01-16</td>\n",
       "    </tr>\n",
       "    <tr>\n",
       "      <th>2</th>\n",
       "      <td>Teclado Mecânico</td>\n",
       "      <td>Eletrônicos</td>\n",
       "      <td>3</td>\n",
       "      <td>100</td>\n",
       "      <td>2023-01-16</td>\n",
       "    </tr>\n",
       "  </tbody>\n",
       "</table>\n",
       "</div>"
      ],
      "text/plain": [
       "            Produto    Categoria  Quantidade  Venda        Data\n",
       "0    Notebook Gamer  Eletrônicos           3   1500  2023-01-15\n",
       "1     Mouse Sem Fio  Eletrônicos          10     30  2023-01-15\n",
       "2  Teclado Mecânico  Eletrônicos           5    100  2023-01-15\n",
       "0    Notebook Gamer  Eletrônicos           2   1500  2023-01-17\n",
       "1     Mouse Sem Fio  Eletrônicos          14     30  2023-01-17\n",
       "2  Teclado Mecânico  Eletrônicos           2    100  2023-01-17\n",
       "0    Notebook Gamer  Eletrônicos           7   1500  2023-01-16\n",
       "1     Mouse Sem Fio  Eletrônicos          10     30  2023-01-16\n",
       "2  Teclado Mecânico  Eletrônicos           3    100  2023-01-16"
      ]
     },
     "execution_count": 23,
     "metadata": {},
     "output_type": "execute_result"
    }
   ],
   "source": [
    "ler_arquivos_json('data/')"
   ]
  },
  {
   "cell_type": "code",
   "execution_count": null,
   "id": "6fab1d0b-3819-49a0-976d-bf120b440711",
   "metadata": {},
   "outputs": [],
   "source": []
  }
 ],
 "metadata": {
  "kernelspec": {
   "display_name": "Python 3 (ipykernel)",
   "language": "python",
   "name": "python3"
  },
  "language_info": {
   "codemirror_mode": {
    "name": "ipython",
    "version": 3
   },
   "file_extension": ".py",
   "mimetype": "text/x-python",
   "name": "python",
   "nbconvert_exporter": "python",
   "pygments_lexer": "ipython3",
   "version": "3.10.13"
  }
 },
 "nbformat": 4,
 "nbformat_minor": 5
}
